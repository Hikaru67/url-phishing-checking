{
 "cells": [
  {
   "cell_type": "markdown",
   "metadata": {
    "id": "-XD2n3zO9jUT"
   },
   "source": [
    "# **Overview:**\n",
    "\n",
    "Chương trình này là tiếp nối của chương trình Part-2_Visualization.ipynb\n",
    "\n",
    "Chương trình là thử nghiệm các mô hình Machine Learning trên tập dữ liệu đã được xử lý cũng như có cái nhìn tổng quan từ 2 phần trước."
   ]
  },
  {
   "cell_type": "code",
   "execution_count": null,
   "metadata": {},
   "outputs": [],
   "source": []
  },
  {
   "cell_type": "markdown",
   "metadata": {
    "id": "tgRCj5JR_XJS"
   },
   "source": [
    "# **6. Khai báo và cài đặt cần sử dụng**"
   ]
  },
  {
   "cell_type": "code",
   "execution_count": 1,
   "metadata": {
    "id": "nKdLs7iA_X-j"
   },
   "outputs": [],
   "source": [
    "import pandas as pd\n",
    "import seaborn as sns\n",
    "import matplotlib.pyplot as plt\n",
    "\n",
    "from sklearn.preprocessing import LabelEncoder\n",
    "from sklearn.preprocessing import StandardScaler\n",
    "from sklearn.model_selection import train_test_split\n",
    "from sklearn.datasets import load_breast_cancer\n",
    "from sklearn.metrics import confusion_matrix\n",
    "from sklearn.metrics import recall_score\n",
    "from sklearn.metrics import precision_score\n",
    "from sklearn.metrics import f1_score\n",
    "\n",
    "import xgboost as xgb\n",
    "import lightgbm as lgb\n",
    "from sklearn.svm import SVC\n",
    "from sklearn.ensemble import BaggingClassifier\n",
    "from sklearn.tree import DecisionTreeClassifier\n",
    "from sklearn.ensemble import RandomForestClassifier, ExtraTreesClassifier\n",
    "from sklearn.model_selection import RandomizedSearchCV,GridSearchCV\n",
    "from sklearn.inspection import permutation_importance\n",
    "from sklearn.model_selection import KFold\n",
    "from datetime import datetime\n",
    "import warnings"
   ]
  },
  {
   "cell_type": "code",
   "execution_count": 2,
   "metadata": {
    "id": "7Ots-XXs9_kr"
   },
   "outputs": [],
   "source": [
    "from pylab import rcParams\n",
    "\n",
    "rcParams['figure.figsize'] = 16,9"
   ]
  },
  {
   "cell_type": "markdown",
   "metadata": {
    "id": "rIpZhGyw_f3d"
   },
   "source": [
    "### **Đọc dữ liệu**"
   ]
  },
  {
   "cell_type": "code",
   "execution_count": 3,
   "metadata": {
    "colab": {
     "base_uri": "https://localhost:8080/"
    },
    "id": "D24NIgv9hI01",
    "outputId": "aff46ea6-9557-4407-ac8f-529c34cc81c7"
   },
   "outputs": [],
   "source": [
    "# from google.colab import drive\n",
    "# drive.mount('data')"
   ]
  },
  {
   "cell_type": "code",
   "execution_count": 81,
   "metadata": {
    "id": "Ocyr9vip5N0m"
   },
   "outputs": [],
   "source": [
    "df = pd.read_csv('data/new-processed2.csv')"
   ]
  },
  {
   "cell_type": "code",
   "execution_count": 82,
   "metadata": {
    "colab": {
     "base_uri": "https://localhost:8080/",
     "height": 424
    },
    "id": "gz6T5S2VLijc",
    "outputId": "aac84d75-93fd-4d17-ac35-eabcb6d0c42b"
   },
   "outputs": [
    {
     "data": {
      "text/html": [
       "<div>\n",
       "<style scoped>\n",
       "    .dataframe tbody tr th:only-of-type {\n",
       "        vertical-align: middle;\n",
       "    }\n",
       "\n",
       "    .dataframe tbody tr th {\n",
       "        vertical-align: top;\n",
       "    }\n",
       "\n",
       "    .dataframe thead th {\n",
       "        text-align: right;\n",
       "    }\n",
       "</style>\n",
       "<table border=\"1\" class=\"dataframe\">\n",
       "  <thead>\n",
       "    <tr style=\"text-align: right;\">\n",
       "      <th></th>\n",
       "      <th>Index</th>\n",
       "      <th>Domain</th>\n",
       "      <th>Have_IP</th>\n",
       "      <th>Have_At</th>\n",
       "      <th>URL_Length</th>\n",
       "      <th>URL_Depth</th>\n",
       "      <th>Redirection</th>\n",
       "      <th>https_Domain</th>\n",
       "      <th>TinyURL</th>\n",
       "      <th>Prefix_Suffix</th>\n",
       "      <th>DNS_Record</th>\n",
       "      <th>Web_Traffic</th>\n",
       "      <th>Domain_Age</th>\n",
       "      <th>Domain_End</th>\n",
       "      <th>iFrame</th>\n",
       "      <th>Mouse_Over</th>\n",
       "      <th>Right_Click</th>\n",
       "      <th>Web_Forwards</th>\n",
       "      <th>Label</th>\n",
       "    </tr>\n",
       "  </thead>\n",
       "  <tbody>\n",
       "    <tr>\n",
       "      <th>0</th>\n",
       "      <td>0</td>\n",
       "      <td>56secureusersbusinessbt.weebly.com</td>\n",
       "      <td>0</td>\n",
       "      <td>0</td>\n",
       "      <td>0</td>\n",
       "      <td>0</td>\n",
       "      <td>0</td>\n",
       "      <td>0</td>\n",
       "      <td>0</td>\n",
       "      <td>0</td>\n",
       "      <td>0</td>\n",
       "      <td>1</td>\n",
       "      <td>0</td>\n",
       "      <td>0</td>\n",
       "      <td>0</td>\n",
       "      <td>0</td>\n",
       "      <td>0</td>\n",
       "      <td>0</td>\n",
       "      <td>1</td>\n",
       "    </tr>\n",
       "    <tr>\n",
       "      <th>1</th>\n",
       "      <td>1</td>\n",
       "      <td>pintakasi.live</td>\n",
       "      <td>0</td>\n",
       "      <td>0</td>\n",
       "      <td>0</td>\n",
       "      <td>4</td>\n",
       "      <td>0</td>\n",
       "      <td>0</td>\n",
       "      <td>0</td>\n",
       "      <td>0</td>\n",
       "      <td>0</td>\n",
       "      <td>1</td>\n",
       "      <td>1</td>\n",
       "      <td>1</td>\n",
       "      <td>1</td>\n",
       "      <td>1</td>\n",
       "      <td>1</td>\n",
       "      <td>1</td>\n",
       "      <td>1</td>\n",
       "    </tr>\n",
       "    <tr>\n",
       "      <th>2</th>\n",
       "      <td>2</td>\n",
       "      <td>pintakasi.live</td>\n",
       "      <td>0</td>\n",
       "      <td>0</td>\n",
       "      <td>0</td>\n",
       "      <td>4</td>\n",
       "      <td>0</td>\n",
       "      <td>0</td>\n",
       "      <td>0</td>\n",
       "      <td>0</td>\n",
       "      <td>0</td>\n",
       "      <td>1</td>\n",
       "      <td>1</td>\n",
       "      <td>1</td>\n",
       "      <td>1</td>\n",
       "      <td>1</td>\n",
       "      <td>1</td>\n",
       "      <td>1</td>\n",
       "      <td>1</td>\n",
       "    </tr>\n",
       "    <tr>\n",
       "      <th>3</th>\n",
       "      <td>3</td>\n",
       "      <td>areaclienticred-info.preview-domain.com</td>\n",
       "      <td>0</td>\n",
       "      <td>0</td>\n",
       "      <td>0</td>\n",
       "      <td>0</td>\n",
       "      <td>0</td>\n",
       "      <td>0</td>\n",
       "      <td>0</td>\n",
       "      <td>1</td>\n",
       "      <td>0</td>\n",
       "      <td>0</td>\n",
       "      <td>0</td>\n",
       "      <td>0</td>\n",
       "      <td>0</td>\n",
       "      <td>0</td>\n",
       "      <td>0</td>\n",
       "      <td>0</td>\n",
       "      <td>1</td>\n",
       "    </tr>\n",
       "    <tr>\n",
       "      <th>4</th>\n",
       "      <td>4</td>\n",
       "      <td>credemsecurity-info.preview-domain.com</td>\n",
       "      <td>0</td>\n",
       "      <td>0</td>\n",
       "      <td>0</td>\n",
       "      <td>0</td>\n",
       "      <td>0</td>\n",
       "      <td>0</td>\n",
       "      <td>0</td>\n",
       "      <td>1</td>\n",
       "      <td>0</td>\n",
       "      <td>0</td>\n",
       "      <td>0</td>\n",
       "      <td>0</td>\n",
       "      <td>0</td>\n",
       "      <td>0</td>\n",
       "      <td>0</td>\n",
       "      <td>0</td>\n",
       "      <td>1</td>\n",
       "    </tr>\n",
       "    <tr>\n",
       "      <th>...</th>\n",
       "      <td>...</td>\n",
       "      <td>...</td>\n",
       "      <td>...</td>\n",
       "      <td>...</td>\n",
       "      <td>...</td>\n",
       "      <td>...</td>\n",
       "      <td>...</td>\n",
       "      <td>...</td>\n",
       "      <td>...</td>\n",
       "      <td>...</td>\n",
       "      <td>...</td>\n",
       "      <td>...</td>\n",
       "      <td>...</td>\n",
       "      <td>...</td>\n",
       "      <td>...</td>\n",
       "      <td>...</td>\n",
       "      <td>...</td>\n",
       "      <td>...</td>\n",
       "      <td>...</td>\n",
       "    </tr>\n",
       "    <tr>\n",
       "      <th>12875</th>\n",
       "      <td>12875</td>\n",
       "      <td>hotnewhiphop.com</td>\n",
       "      <td>0</td>\n",
       "      <td>0</td>\n",
       "      <td>0</td>\n",
       "      <td>0</td>\n",
       "      <td>0</td>\n",
       "      <td>0</td>\n",
       "      <td>0</td>\n",
       "      <td>0</td>\n",
       "      <td>0</td>\n",
       "      <td>0</td>\n",
       "      <td>0</td>\n",
       "      <td>0</td>\n",
       "      <td>0</td>\n",
       "      <td>0</td>\n",
       "      <td>0</td>\n",
       "      <td>0</td>\n",
       "      <td>0</td>\n",
       "    </tr>\n",
       "    <tr>\n",
       "      <th>12876</th>\n",
       "      <td>12876</td>\n",
       "      <td>github.githubassets.com</td>\n",
       "      <td>0</td>\n",
       "      <td>0</td>\n",
       "      <td>0</td>\n",
       "      <td>0</td>\n",
       "      <td>0</td>\n",
       "      <td>0</td>\n",
       "      <td>0</td>\n",
       "      <td>0</td>\n",
       "      <td>0</td>\n",
       "      <td>1</td>\n",
       "      <td>0</td>\n",
       "      <td>1</td>\n",
       "      <td>0</td>\n",
       "      <td>0</td>\n",
       "      <td>0</td>\n",
       "      <td>0</td>\n",
       "      <td>0</td>\n",
       "    </tr>\n",
       "    <tr>\n",
       "      <th>12877</th>\n",
       "      <td>12877</td>\n",
       "      <td>dailybreeze.com</td>\n",
       "      <td>0</td>\n",
       "      <td>0</td>\n",
       "      <td>0</td>\n",
       "      <td>0</td>\n",
       "      <td>0</td>\n",
       "      <td>0</td>\n",
       "      <td>0</td>\n",
       "      <td>0</td>\n",
       "      <td>0</td>\n",
       "      <td>1</td>\n",
       "      <td>0</td>\n",
       "      <td>1</td>\n",
       "      <td>0</td>\n",
       "      <td>0</td>\n",
       "      <td>0</td>\n",
       "      <td>0</td>\n",
       "      <td>0</td>\n",
       "    </tr>\n",
       "    <tr>\n",
       "      <th>12878</th>\n",
       "      <td>12878</td>\n",
       "      <td>freshdesk.com</td>\n",
       "      <td>0</td>\n",
       "      <td>0</td>\n",
       "      <td>0</td>\n",
       "      <td>0</td>\n",
       "      <td>0</td>\n",
       "      <td>0</td>\n",
       "      <td>0</td>\n",
       "      <td>0</td>\n",
       "      <td>0</td>\n",
       "      <td>0</td>\n",
       "      <td>0</td>\n",
       "      <td>0</td>\n",
       "      <td>0</td>\n",
       "      <td>0</td>\n",
       "      <td>0</td>\n",
       "      <td>0</td>\n",
       "      <td>0</td>\n",
       "    </tr>\n",
       "    <tr>\n",
       "      <th>12879</th>\n",
       "      <td>12879</td>\n",
       "      <td>evaair.com</td>\n",
       "      <td>0</td>\n",
       "      <td>0</td>\n",
       "      <td>0</td>\n",
       "      <td>0</td>\n",
       "      <td>0</td>\n",
       "      <td>0</td>\n",
       "      <td>0</td>\n",
       "      <td>0</td>\n",
       "      <td>0</td>\n",
       "      <td>0</td>\n",
       "      <td>0</td>\n",
       "      <td>0</td>\n",
       "      <td>1</td>\n",
       "      <td>1</td>\n",
       "      <td>1</td>\n",
       "      <td>1</td>\n",
       "      <td>0</td>\n",
       "    </tr>\n",
       "  </tbody>\n",
       "</table>\n",
       "<p>12880 rows × 19 columns</p>\n",
       "</div>"
      ],
      "text/plain": [
       "       Index                                   Domain  Have_IP  Have_At  \\\n",
       "0          0       56secureusersbusinessbt.weebly.com        0        0   \n",
       "1          1                           pintakasi.live        0        0   \n",
       "2          2                           pintakasi.live        0        0   \n",
       "3          3  areaclienticred-info.preview-domain.com        0        0   \n",
       "4          4   credemsecurity-info.preview-domain.com        0        0   \n",
       "...      ...                                      ...      ...      ...   \n",
       "12875  12875                         hotnewhiphop.com        0        0   \n",
       "12876  12876                  github.githubassets.com        0        0   \n",
       "12877  12877                          dailybreeze.com        0        0   \n",
       "12878  12878                            freshdesk.com        0        0   \n",
       "12879  12879                               evaair.com        0        0   \n",
       "\n",
       "       URL_Length  URL_Depth  Redirection  https_Domain  TinyURL  \\\n",
       "0               0          0            0             0        0   \n",
       "1               0          4            0             0        0   \n",
       "2               0          4            0             0        0   \n",
       "3               0          0            0             0        0   \n",
       "4               0          0            0             0        0   \n",
       "...           ...        ...          ...           ...      ...   \n",
       "12875           0          0            0             0        0   \n",
       "12876           0          0            0             0        0   \n",
       "12877           0          0            0             0        0   \n",
       "12878           0          0            0             0        0   \n",
       "12879           0          0            0             0        0   \n",
       "\n",
       "       Prefix_Suffix  DNS_Record  Web_Traffic  Domain_Age  Domain_End  iFrame  \\\n",
       "0                  0           0            1           0           0       0   \n",
       "1                  0           0            1           1           1       1   \n",
       "2                  0           0            1           1           1       1   \n",
       "3                  1           0            0           0           0       0   \n",
       "4                  1           0            0           0           0       0   \n",
       "...              ...         ...          ...         ...         ...     ...   \n",
       "12875              0           0            0           0           0       0   \n",
       "12876              0           0            1           0           1       0   \n",
       "12877              0           0            1           0           1       0   \n",
       "12878              0           0            0           0           0       0   \n",
       "12879              0           0            0           0           0       1   \n",
       "\n",
       "       Mouse_Over  Right_Click  Web_Forwards  Label  \n",
       "0               0            0             0      1  \n",
       "1               1            1             1      1  \n",
       "2               1            1             1      1  \n",
       "3               0            0             0      1  \n",
       "4               0            0             0      1  \n",
       "...           ...          ...           ...    ...  \n",
       "12875           0            0             0      0  \n",
       "12876           0            0             0      0  \n",
       "12877           0            0             0      0  \n",
       "12878           0            0             0      0  \n",
       "12879           1            1             1      0  \n",
       "\n",
       "[12880 rows x 19 columns]"
      ]
     },
     "execution_count": 82,
     "metadata": {},
     "output_type": "execute_result"
    }
   ],
   "source": [
    "df"
   ]
  },
  {
   "cell_type": "markdown",
   "metadata": {
    "id": "Dxi_EEFcM0d9"
   },
   "source": [
    "**Kiểm tra độ quan trọng của đăc trưng (feature important)**"
   ]
  },
  {
   "cell_type": "code",
   "execution_count": 83,
   "metadata": {
    "colab": {
     "base_uri": "https://localhost:8080/"
    },
    "id": "3W3-QIMUK7vX",
    "outputId": "c295dcf0-d17f-458d-d68d-a29d7b9dfbde"
   },
   "outputs": [
    {
     "data": {
      "text/plain": [
       "Index(['Index', 'Domain', 'Have_IP', 'Have_At', 'URL_Length', 'URL_Depth',\n",
       "       'Redirection', 'https_Domain', 'TinyURL', 'Prefix_Suffix', 'DNS_Record',\n",
       "       'Web_Traffic', 'Domain_Age', 'Domain_End', 'iFrame', 'Mouse_Over',\n",
       "       'Right_Click', 'Web_Forwards', 'Label'],\n",
       "      dtype='object')"
      ]
     },
     "execution_count": 83,
     "metadata": {},
     "output_type": "execute_result"
    }
   ],
   "source": [
    "df.columns"
   ]
  },
  {
   "cell_type": "code",
   "execution_count": null,
   "metadata": {},
   "outputs": [],
   "source": []
  },
  {
   "cell_type": "code",
   "execution_count": 84,
   "metadata": {
    "id": "aMX4P9l3K_Am"
   },
   "outputs": [],
   "source": [
    "features = ['Have_IP', 'Have_At', 'URL_Length', 'URL_Depth',\n",
    "       'Redirection', 'https_Domain', 'TinyURL', 'Prefix_Suffix',\n",
    "       'DNS_Record', 'Web_Traffic', 'Domain_Age', 'Domain_End',\n",
    "       'Mouse_Over', 'Right_Click', 'Web_Forwards']"
   ]
  },
  {
   "cell_type": "markdown",
   "metadata": {},
   "source": []
  },
  {
   "cell_type": "code",
   "execution_count": 85,
   "metadata": {
    "id": "yv-gjIRYNEOC"
   },
   "outputs": [],
   "source": [
    "X = df[features]\n",
    "y = df['Label']"
   ]
  },
  {
   "cell_type": "code",
   "execution_count": 86,
   "metadata": {
    "id": "61IBCJ_pIWYr"
   },
   "outputs": [],
   "source": [
    "X_train, X_test, y_train, y_test = train_test_split(X, y, test_size=0.3, random_state=42)"
   ]
  },
  {
   "cell_type": "code",
   "execution_count": 87,
   "metadata": {
    "colab": {
     "base_uri": "https://localhost:8080/"
    },
    "id": "DWdnFFbuIjDv",
    "outputId": "ca3ec27d-e2bb-43f0-8789-b35cefe83a23"
   },
   "outputs": [
    {
     "data": {
      "text/plain": [
       "RandomForestRegressor()"
      ]
     },
     "execution_count": 87,
     "metadata": {},
     "output_type": "execute_result"
    }
   ],
   "source": [
    "from sklearn.ensemble import RandomForestRegressor\n",
    "from catboost import CatBoostClassifier\n",
    "rf = RandomForestRegressor(n_estimators=100)\n",
    "rf.fit(X_train, y_train)"
   ]
  },
  {
   "cell_type": "code",
   "execution_count": 88,
   "metadata": {
    "colab": {
     "base_uri": "https://localhost:8080/"
    },
    "id": "1fmC4y4eI1VI",
    "outputId": "68bec4ca-6ab9-4690-faca-16f7dfaa60cb"
   },
   "outputs": [
    {
     "data": {
      "text/plain": [
       "array([0.00082187, 0.00169686, 0.00324284, 0.41956724, 0.00460988,\n",
       "       0.00044183, 0.01480362, 0.07419746, 0.01018297, 0.41552622,\n",
       "       0.02086478, 0.01384455, 0.00688104, 0.00567786, 0.00764098])"
      ]
     },
     "execution_count": 88,
     "metadata": {},
     "output_type": "execute_result"
    }
   ],
   "source": [
    "rf.feature_importances_"
   ]
  },
  {
   "cell_type": "code",
   "execution_count": 89,
   "metadata": {
    "colab": {
     "base_uri": "https://localhost:8080/",
     "height": 554
    },
    "id": "IQVZxEreI3KH",
    "outputId": "a0f200cb-790a-454f-d7bf-bd4ea0485a60"
   },
   "outputs": [
    {
     "data": {
      "text/plain": [
       "<BarContainer object of 15 artists>"
      ]
     },
     "execution_count": 89,
     "metadata": {},
     "output_type": "execute_result"
    },
    {
     "data": {
      "image/png": "[encoded data removed]",
      "text/plain": [
       "<Figure size 432x288 with 1 Axes>"
      ]
     },
     "metadata": {
      "needs_background": "light"
     },
     "output_type": "display_data"
    }
   ],
   "source": [
    "plt.barh(features, rf.feature_importances_)"
   ]
  },
  {
   "cell_type": "markdown",
   "metadata": {
    "id": "KtuTlVylLp3I"
   },
   "source": [
    "# **7. Huấn luyện mô hình - Classification**"
   ]
  },
  {
   "cell_type": "markdown",
   "metadata": {
    "id": "EbL1nMOY3okR"
   },
   "source": [
    "**Split dataset**"
   ]
  },
  {
   "cell_type": "code",
   "execution_count": 90,
   "metadata": {
    "id": "saGRfI7GikQM"
   },
   "outputs": [],
   "source": [
    "Y = y"
   ]
  },
  {
   "cell_type": "code",
   "execution_count": 91,
   "metadata": {
    "id": "NRbIflUoQjzr"
   },
   "outputs": [],
   "source": [
    "from sklearn.model_selection import train_test_split"
   ]
  },
  {
   "cell_type": "code",
   "execution_count": 92,
   "metadata": {
    "id": "wAPp5Qa23w15"
   },
   "outputs": [],
   "source": [
    "X_train,X_test,Y_train,y_test=train_test_split(X,Y,test_size=0.2,random_state=42)"
   ]
  },
  {
   "cell_type": "code",
   "execution_count": 93,
   "metadata": {
    "colab": {
     "base_uri": "https://localhost:8080/"
    },
    "id": "KtRwVSMyMQtu",
    "outputId": "62456ea7-9d92-4860-9375-4667700ed71c"
   },
   "outputs": [
    {
     "name": "stdout",
     "output_type": "stream",
     "text": [
      "Kích thước tập huấn luyện:  (10304, 15) (9016,)\n",
      "Kích thước tập kiểm tra:  (2576, 15) (2576,)\n"
     ]
    }
   ],
   "source": [
    "print('Kích thước tập huấn luyện: ', X_train.shape, y_train.shape)\n",
    "print('Kích thước tập kiểm tra: ', X_test.shape, y_test.shape)"
   ]
  },
  {
   "cell_type": "code",
   "execution_count": 94,
   "metadata": {
    "id": "FGjZf5lpKJBb"
   },
   "outputs": [],
   "source": [
    "# Hàm tính độ chính xác, ma trận nhầm lẫn, Recall, precision, f1 score và vẽ đồ thị ROC\n",
    "from sklearn import metrics\n",
    "from sklearn.model_selection import cross_val_score\n",
    "def evaluate_model(model, X_test, y_test, y_prediction):\n",
    "  print(\"Các chỉ số đánh giá mức độ hiệu quả của mô hình: \")\n",
    "  #Accuracy\n",
    "  print(\"1. Accuracy:\",metrics.accuracy_score(y_prediction,y_test))\n",
    "  # confusion_matrix\n",
    "  print('2. confusion_matrix:')\n",
    "  print(confusion_matrix(y_prediction,y_test))\n",
    "  # recall_score\n",
    "  print('3. recall_score: ', recall_score(y_prediction,y_test))\n",
    "  # precision_score\n",
    "  print('4. precision_score: ', precision_score(y_prediction,y_test))\n",
    "  # f1_score\n",
    "  print('5. f1_score: ', f1_score(y_prediction,y_test))\n",
    "  # ROC plot\n",
    "  print('6. Biểu đồ ROC của mô hình:')\n",
    "  metrics.plot_roc_curve(model, X_test, y_test)\n",
    "  plt.show()"
   ]
  },
  {
   "cell_type": "markdown",
   "metadata": {
    "id": "hwZEX4dN4vJb"
   },
   "source": [
    "**Logistic Regression**"
   ]
  },
  {
   "cell_type": "code",
   "execution_count": 96,
   "metadata": {
    "colab": {
     "base_uri": "https://localhost:8080/",
     "height": 901
    },
    "id": "qWvT8xzX4_Q8",
    "outputId": "b458b8ee-9f48-436b-d252-248f0b807a68"
   },
   "outputs": [
    {
     "name": "stdout",
     "output_type": "stream",
     "text": [
      "Các chỉ số đánh giá mức độ hiệu quả của mô hình: \n",
      "1. Accuracy: 0.8559782608695652\n",
      "2. confusion_matrix:\n",
      "[[ 732   77]\n",
      " [ 294 1473]]\n",
      "3. recall_score:  0.833616298811545\n",
      "4. precision_score:  0.9503225806451613\n",
      "5. f1_score:  0.8881519445281881\n",
      "6. Biểu đồ ROC của mô hình:\n"
     ]
    },
    {
     "name": "stderr",
     "output_type": "stream",
     "text": [
      "/home/hikaru/.local/lib/python3.8/site-packages/sklearn/utils/deprecation.py:87: FutureWarning: Function plot_roc_curve is deprecated; Function :func:`plot_roc_curve` is deprecated in 1.0 and will be removed in 1.2. Use one of the class methods: :meth:`sklearn.metric.RocCurveDisplay.from_predictions` or :meth:`sklearn.metric.RocCurveDisplay.from_estimator`.\n",
      "  warnings.warn(msg, category=FutureWarning)\n"
     ]
    },
    {
     "data": {
      "image/png": "[encoded data removed]",
      "text/plain": [
       "<Figure size 432x288 with 1 Axes>"
      ]
     },
     "metadata": {
      "needs_background": "light"
     },
     "output_type": "display_data"
    }
   ],
   "source": [
    "#Given smote, we have to do a little adjustment\n",
    "from sklearn.linear_model import LogisticRegression\n",
    "from sklearn.model_selection import cross_val_score\n",
    "\n",
    "logreg = LogisticRegression(fit_intercept=True, penalty='l2')\n",
    "logreg.fit(X_train, Y_train)\n",
    "\n",
    "logregprediction=logreg.predict(X_test)\n",
    "\n",
    "evaluate_model (logreg, X_test, y_test, logregprediction)"
   ]
  },
  {
   "cell_type": "markdown",
   "metadata": {
    "id": "Ee6TlsOgqMAI"
   },
   "source": [
    "**Linear Discriminant Analysis**"
   ]
  },
  {
   "cell_type": "code",
   "execution_count": 97,
   "metadata": {
    "colab": {
     "base_uri": "https://localhost:8080/",
     "height": 762
    },
    "id": "wsnY-aN3Bykd",
    "outputId": "e0b7ac5c-dcdf-41c4-e08b-4c935683b7c0"
   },
   "outputs": [],
   "source": [
    "# from sklearn.discriminant_analysis import LinearDiscriminantAnalysis\n",
    "# lda = LinearDiscriminantAnalysis()\n",
    "# lda.fit(X_train, Y_train)\n",
    "\n",
    "# lda_prediction=lda.predict(X_test)\n",
    "\n",
    "# evaluate_model (lda, X_test, y_test, lda_prediction)"
   ]
  },
  {
   "cell_type": "markdown",
   "metadata": {
    "id": "iXusnunQqbS2"
   },
   "source": [
    "**Gaussian Naive Bayes**"
   ]
  },
  {
   "cell_type": "code",
   "execution_count": 98,
   "metadata": {
    "colab": {
     "base_uri": "https://localhost:8080/",
     "height": 762
    },
    "id": "BlwsFZL-qOor",
    "outputId": "7a5f75b9-8b6f-41df-ce0e-8a8f2777677a"
   },
   "outputs": [
    {
     "name": "stdout",
     "output_type": "stream",
     "text": [
      "Các chỉ số đánh giá mức độ hiệu quả của mô hình: \n",
      "1. Accuracy: 0.6867236024844721\n",
      "2. confusion_matrix:\n",
      "[[1026  807]\n",
      " [   0  743]]\n",
      "3. recall_score:  1.0\n",
      "4. precision_score:  0.47935483870967743\n",
      "5. f1_score:  0.6480593109463585\n",
      "6. Biểu đồ ROC của mô hình:\n"
     ]
    },
    {
     "name": "stderr",
     "output_type": "stream",
     "text": [
      "/home/hikaru/.local/lib/python3.8/site-packages/sklearn/utils/deprecation.py:87: FutureWarning: Function plot_roc_curve is deprecated; Function :func:`plot_roc_curve` is deprecated in 1.0 and will be removed in 1.2. Use one of the class methods: :meth:`sklearn.metric.RocCurveDisplay.from_predictions` or :meth:`sklearn.metric.RocCurveDisplay.from_estimator`.\n",
      "  warnings.warn(msg, category=FutureWarning)\n"
     ]
    },
    {
     "data": {
      "image/png": "[encoded data removed]",
      "text/plain": [
       "<Figure size 432x288 with 1 Axes>"
      ]
     },
     "metadata": {
      "needs_background": "light"
     },
     "output_type": "display_data"
    }
   ],
   "source": [
    "from sklearn.naive_bayes import GaussianNB\n",
    "gnb = GaussianNB()\n",
    "gnb.fit(X_train, Y_train)\n",
    "\n",
    "gnbprediction=gnb.predict(X_test)\n",
    "\n",
    "evaluate_model (gnb, X_test, y_test, gnbprediction)"
   ]
  },
  {
   "cell_type": "markdown",
   "metadata": {
    "id": "EgyS0v2nqzZo"
   },
   "source": [
    "**Decision Tree Classifier**"
   ]
  },
  {
   "cell_type": "code",
   "execution_count": 99,
   "metadata": {
    "colab": {
     "base_uri": "https://localhost:8080/",
     "height": 762
    },
    "id": "AiJpm4jAqrHy",
    "outputId": "0ff48e17-ceec-49cf-ab9a-d4de737041e6"
   },
   "outputs": [
    {
     "name": "stdout",
     "output_type": "stream",
     "text": [
      "Các chỉ số đánh giá mức độ hiệu quả của mô hình: \n",
      "1. Accuracy: 0.8707298136645962\n",
      "2. confusion_matrix:\n",
      "[[ 802  109]\n",
      " [ 224 1441]]\n",
      "3. recall_score:  0.8654654654654654\n",
      "4. precision_score:  0.9296774193548387\n",
      "5. f1_score:  0.8964230171073095\n",
      "6. Biểu đồ ROC của mô hình:\n"
     ]
    },
    {
     "name": "stderr",
     "output_type": "stream",
     "text": [
      "/home/hikaru/.local/lib/python3.8/site-packages/sklearn/utils/deprecation.py:87: FutureWarning: Function plot_roc_curve is deprecated; Function :func:`plot_roc_curve` is deprecated in 1.0 and will be removed in 1.2. Use one of the class methods: :meth:`sklearn.metric.RocCurveDisplay.from_predictions` or :meth:`sklearn.metric.RocCurveDisplay.from_estimator`.\n",
      "  warnings.warn(msg, category=FutureWarning)\n"
     ]
    },
    {
     "data": {
      "image/png": "[encoded data removed]",
      "text/plain": [
       "<Figure size 432x288 with 1 Axes>"
      ]
     },
     "metadata": {
      "needs_background": "light"
     },
     "output_type": "display_data"
    }
   ],
   "source": [
    "from sklearn.tree import DecisionTreeClassifier\n",
    "\n",
    "dtc= DecisionTreeClassifier(random_state=42)\n",
    "dtc.fit(X_train,Y_train)\n",
    "\n",
    "dtcprediction=dtc.predict(X_test)\n",
    "\n",
    "evaluate_model (dtc, X_test, y_test, dtcprediction)"
   ]
  },
  {
   "cell_type": "markdown",
   "metadata": {
    "id": "Yw0tgBQYrDk3"
   },
   "source": [
    "**Random Forest Classifier**"
   ]
  },
  {
   "cell_type": "code",
   "execution_count": 100,
   "metadata": {
    "colab": {
     "base_uri": "https://localhost:8080/",
     "height": 762
    },
    "id": "OUTcjv1Cq3Ff",
    "outputId": "2a0c3258-f9ea-4f34-bba4-07c6e6a4592f"
   },
   "outputs": [
    {
     "name": "stdout",
     "output_type": "stream",
     "text": [
      "Các chỉ số đánh giá mức độ hiệu quả của mô hình: \n",
      "1. Accuracy: 0.8707298136645962\n",
      "2. confusion_matrix:\n",
      "[[ 802  109]\n",
      " [ 224 1441]]\n",
      "3. recall_score:  0.8654654654654654\n",
      "4. precision_score:  0.9296774193548387\n",
      "5. f1_score:  0.8964230171073095\n",
      "6. Biểu đồ ROC của mô hình:\n"
     ]
    },
    {
     "name": "stderr",
     "output_type": "stream",
     "text": [
      "/home/hikaru/.local/lib/python3.8/site-packages/sklearn/utils/deprecation.py:87: FutureWarning: Function plot_roc_curve is deprecated; Function :func:`plot_roc_curve` is deprecated in 1.0 and will be removed in 1.2. Use one of the class methods: :meth:`sklearn.metric.RocCurveDisplay.from_predictions` or :meth:`sklearn.metric.RocCurveDisplay.from_estimator`.\n",
      "  warnings.warn(msg, category=FutureWarning)\n"
     ]
    },
    {
     "data": {
      "image/png": "[encoded data removed]",
      "text/plain": [
       "<Figure size 432x288 with 1 Axes>"
      ]
     },
     "metadata": {
      "needs_background": "light"
     },
     "output_type": "display_data"
    }
   ],
   "source": [
    "from sklearn.ensemble import RandomForestClassifier\n",
    "\n",
    "rfc=RandomForestClassifier(n_jobs=-1,random_state=123)\n",
    "#learning\n",
    "rfc.fit(X_train,Y_train)\n",
    "#Prediction\n",
    "rfcprediction=rfc.predict(X_test)\n",
    "\n",
    "evaluate_model (rfc, X_test, y_test, rfcprediction)\n"
   ]
  },
  {
   "cell_type": "markdown",
   "metadata": {
    "id": "Lrsi70oirRzh"
   },
   "source": [
    "**SVM Classifier**"
   ]
  },
  {
   "cell_type": "code",
   "execution_count": 101,
   "metadata": {
    "colab": {
     "base_uri": "https://localhost:8080/",
     "height": 762
    },
    "id": "Jw3weoEjrOA-",
    "outputId": "c29927ac-a7a8-4eff-8b49-13583316438b"
   },
   "outputs": [
    {
     "name": "stdout",
     "output_type": "stream",
     "text": [
      "Các chỉ số đánh giá mức độ hiệu quả của mô hình: \n",
      "1. Accuracy: 0.8722826086956522\n",
      "2. confusion_matrix:\n",
      "[[ 773   76]\n",
      " [ 253 1474]]\n",
      "3. recall_score:  0.8535031847133758\n",
      "4. precision_score:  0.9509677419354838\n",
      "5. f1_score:  0.899603295697284\n",
      "6. Biểu đồ ROC của mô hình:\n"
     ]
    },
    {
     "name": "stderr",
     "output_type": "stream",
     "text": [
      "/home/hikaru/.local/lib/python3.8/site-packages/sklearn/utils/deprecation.py:87: FutureWarning: Function plot_roc_curve is deprecated; Function :func:`plot_roc_curve` is deprecated in 1.0 and will be removed in 1.2. Use one of the class methods: :meth:`sklearn.metric.RocCurveDisplay.from_predictions` or :meth:`sklearn.metric.RocCurveDisplay.from_estimator`.\n",
      "  warnings.warn(msg, category=FutureWarning)\n"
     ]
    },
    {
     "data": {
      "image/png": "[encoded data removed]",
      "text/plain": [
       "<Figure size 432x288 with 1 Axes>"
      ]
     },
     "metadata": {
      "needs_background": "light"
     },
     "output_type": "display_data"
    }
   ],
   "source": [
    "from sklearn import svm\n",
    "#making the instance\n",
    "svc = svm.SVC(random_state=123)\n",
    "#learning\n",
    "svc.fit(X_train,Y_train)\n",
    "#Prediction\n",
    "svcprediction=svc.predict(X_test)\n",
    "\n",
    "evaluate_model (svc, X_test, y_test, svcprediction)"
   ]
  },
  {
   "cell_type": "markdown",
   "metadata": {
    "id": "fQx_zcFCrcHJ"
   },
   "source": [
    "**K-NearestNeighbours Classifier**"
   ]
  },
  {
   "cell_type": "code",
   "execution_count": 102,
   "metadata": {
    "colab": {
     "base_uri": "https://localhost:8080/",
     "height": 762
    },
    "id": "mowRL2N5rXxt",
    "outputId": "13c3f6a9-7d8e-48e4-d9ee-f1e5b875a90f"
   },
   "outputs": [
    {
     "name": "stdout",
     "output_type": "stream",
     "text": [
      "Các chỉ số đánh giá mức độ hiệu quả của mô hình: \n",
      "1. Accuracy: 0.8536490683229814\n",
      "2. confusion_matrix:\n",
      "[[ 731   82]\n",
      " [ 295 1468]]\n",
      "3. recall_score:  0.8326715825297788\n",
      "4. precision_score:  0.9470967741935484\n",
      "5. f1_score:  0.8862058557198914\n",
      "6. Biểu đồ ROC của mô hình:\n"
     ]
    },
    {
     "name": "stderr",
     "output_type": "stream",
     "text": [
      "/home/hikaru/.local/lib/python3.8/site-packages/sklearn/utils/deprecation.py:87: FutureWarning: Function plot_roc_curve is deprecated; Function :func:`plot_roc_curve` is deprecated in 1.0 and will be removed in 1.2. Use one of the class methods: :meth:`sklearn.metric.RocCurveDisplay.from_predictions` or :meth:`sklearn.metric.RocCurveDisplay.from_estimator`.\n",
      "  warnings.warn(msg, category=FutureWarning)\n"
     ]
    },
    {
     "data": {
      "image/png": "[encoded data removed]",
      "text/plain": [
       "<Figure size 432x288 with 1 Axes>"
      ]
     },
     "metadata": {
      "needs_background": "light"
     },
     "output_type": "display_data"
    }
   ],
   "source": [
    "from sklearn.neighbors import KNeighborsClassifier\n",
    "#making the instance\n",
    "knn = KNeighborsClassifier()\n",
    "#learning\n",
    "knn.fit(X_train,Y_train)\n",
    "#Prediction\n",
    "knnprediction=knn.predict(X_test)\n",
    "\n",
    "evaluate_model (knn, X_test, y_test, knnprediction)"
   ]
  },
  {
   "cell_type": "markdown",
   "metadata": {
    "id": "uzixDQHKuCZ1"
   },
   "source": [
    "**Ada Boost**"
   ]
  },
  {
   "cell_type": "code",
   "execution_count": 103,
   "metadata": {
    "colab": {
     "base_uri": "https://localhost:8080/",
     "height": 762
    },
    "id": "PzHkDqlKrkC8",
    "outputId": "237473e5-86e7-4248-b653-943cf217cbb9"
   },
   "outputs": [
    {
     "name": "stdout",
     "output_type": "stream",
     "text": [
      "Các chỉ số đánh giá mức độ hiệu quả của mô hình: \n",
      "1. Accuracy: 0.8555900621118012\n",
      "2. confusion_matrix:\n",
      "[[ 720   66]\n",
      " [ 306 1484]]\n",
      "3. recall_score:  0.829050279329609\n",
      "4. precision_score:  0.9574193548387097\n",
      "5. f1_score:  0.8886227544910179\n",
      "6. Biểu đồ ROC của mô hình:\n"
     ]
    },
    {
     "name": "stderr",
     "output_type": "stream",
     "text": [
      "/home/hikaru/.local/lib/python3.8/site-packages/sklearn/utils/deprecation.py:87: FutureWarning: Function plot_roc_curve is deprecated; Function :func:`plot_roc_curve` is deprecated in 1.0 and will be removed in 1.2. Use one of the class methods: :meth:`sklearn.metric.RocCurveDisplay.from_predictions` or :meth:`sklearn.metric.RocCurveDisplay.from_estimator`.\n",
      "  warnings.warn(msg, category=FutureWarning)\n"
     ]
    },
    {
     "data": {
      "image/png": "[encoded data removed]",
      "text/plain": [
       "<Figure size 432x288 with 1 Axes>"
      ]
     },
     "metadata": {
      "needs_background": "light"
     },
     "output_type": "display_data"
    }
   ],
   "source": [
    "from sklearn.ensemble import AdaBoostClassifier\n",
    "\n",
    "ada_model = AdaBoostClassifier(n_estimators=200, random_state=44)\n",
    "\n",
    "#learning\n",
    "ada_model.fit(X_train,Y_train)\n",
    "#Prediction\n",
    "ada_modelprediction=ada_model.predict(X_test)\n",
    "\n",
    "evaluate_model (ada_model, X_test, y_test, ada_modelprediction)"
   ]
  },
  {
   "cell_type": "markdown",
   "metadata": {
    "id": "76xn-4l8ukYZ"
   },
   "source": [
    "**XGB Classifier**"
   ]
  },
  {
   "cell_type": "code",
   "execution_count": 104,
   "metadata": {
    "colab": {
     "base_uri": "https://localhost:8080/",
     "height": 762
    },
    "id": "V6Trgh2Jupi4",
    "outputId": "d54b63f8-09c0-4863-ab7b-3b17ee6fac30"
   },
   "outputs": [
    {
     "name": "stdout",
     "output_type": "stream",
     "text": [
      "Các chỉ số đánh giá mức độ hiệu quả của mô hình: \n",
      "1. Accuracy: 0.8707298136645962\n",
      "2. confusion_matrix:\n",
      "[[ 802  109]\n",
      " [ 224 1441]]\n",
      "3. recall_score:  0.8654654654654654\n",
      "4. precision_score:  0.9296774193548387\n",
      "5. f1_score:  0.8964230171073095\n",
      "6. Biểu đồ ROC của mô hình:\n"
     ]
    },
    {
     "name": "stderr",
     "output_type": "stream",
     "text": [
      "/home/hikaru/.local/lib/python3.8/site-packages/sklearn/utils/deprecation.py:87: FutureWarning: Function plot_roc_curve is deprecated; Function :func:`plot_roc_curve` is deprecated in 1.0 and will be removed in 1.2. Use one of the class methods: :meth:`sklearn.metric.RocCurveDisplay.from_predictions` or :meth:`sklearn.metric.RocCurveDisplay.from_estimator`.\n",
      "  warnings.warn(msg, category=FutureWarning)\n"
     ]
    },
    {
     "data": {
      "image/png": "[encoded data removed]",
      "text/plain": [
       "<Figure size 432x288 with 1 Axes>"
      ]
     },
     "metadata": {
      "needs_background": "light"
     },
     "output_type": "display_data"
    }
   ],
   "source": [
    "from xgboost import XGBClassifier\n",
    "\n",
    "XGB_1 = XGBClassifier(objective='binary:logistic',scale_pos_weight=1,n_estimators=85, eta=0.3, subsample=1, colsample_bytree=1)\n",
    "\n",
    "#learning\n",
    "XGB_1.fit(X_train,Y_train)\n",
    "#Prediction\n",
    "XGB_modelprediction=XGB_1.predict(X_test)\n",
    "\n",
    "evaluate_model (XGB_1, X_test, y_test, XGB_modelprediction)"
   ]
  },
  {
   "cell_type": "markdown",
   "metadata": {
    "id": "1NMfpUOli4jn"
   },
   "source": [
    "**XGB Classifier Ver_2**"
   ]
  },
  {
   "cell_type": "code",
   "execution_count": 105,
   "metadata": {
    "colab": {
     "base_uri": "https://localhost:8080/",
     "height": 762
    },
    "id": "pbDiEglLi4PM",
    "outputId": "aad68a53-813b-405f-fa3e-26809438d357"
   },
   "outputs": [
    {
     "name": "stdout",
     "output_type": "stream",
     "text": [
      "Các chỉ số đánh giá mức độ hiệu quả của mô hình: \n",
      "1. Accuracy: 0.8707298136645962\n",
      "2. confusion_matrix:\n",
      "[[ 802  109]\n",
      " [ 224 1441]]\n",
      "3. recall_score:  0.8654654654654654\n",
      "4. precision_score:  0.9296774193548387\n",
      "5. f1_score:  0.8964230171073095\n",
      "6. Biểu đồ ROC của mô hình:\n"
     ]
    },
    {
     "name": "stderr",
     "output_type": "stream",
     "text": [
      "/home/hikaru/.local/lib/python3.8/site-packages/sklearn/utils/deprecation.py:87: FutureWarning: Function plot_roc_curve is deprecated; Function :func:`plot_roc_curve` is deprecated in 1.0 and will be removed in 1.2. Use one of the class methods: :meth:`sklearn.metric.RocCurveDisplay.from_predictions` or :meth:`sklearn.metric.RocCurveDisplay.from_estimator`.\n",
      "  warnings.warn(msg, category=FutureWarning)\n"
     ]
    },
    {
     "data": {
      "image/png": "[encoded data removed]",
      "text/plain": [
       "<Figure size 432x288 with 1 Axes>"
      ]
     },
     "metadata": {
      "needs_background": "light"
     },
     "output_type": "display_data"
    }
   ],
   "source": [
    "xgb_2 = XGBClassifier(learning_rate=0.4,max_depth=7)\n",
    "#learning\n",
    "xgb_2.fit(X_train,Y_train)\n",
    "#Prediction\n",
    "xgb_2_modelprediction_v2=xgb_2.predict(X_test)\n",
    "\n",
    "evaluate_model (xgb_2, X_test, y_test, xgb_2_modelprediction_v2)"
   ]
  },
  {
   "cell_type": "code",
   "execution_count": 106,
   "metadata": {
    "colab": {
     "base_uri": "https://localhost:8080/",
     "height": 762
    },
    "id": "9Ce6k-h-kbHj",
    "outputId": "f2ad2091-0856-4fd1-84ca-e89993592f57"
   },
   "outputs": [
    {
     "name": "stdout",
     "output_type": "stream",
     "text": [
      "Các chỉ số đánh giá mức độ hiệu quả của mô hình: \n",
      "1. Accuracy: 0.8707298136645962\n",
      "2. confusion_matrix:\n",
      "[[ 802  109]\n",
      " [ 224 1441]]\n",
      "3. recall_score:  0.8654654654654654\n",
      "4. precision_score:  0.9296774193548387\n",
      "5. f1_score:  0.8964230171073095\n",
      "6. Biểu đồ ROC của mô hình:\n"
     ]
    },
    {
     "name": "stderr",
     "output_type": "stream",
     "text": [
      "/home/hikaru/.local/lib/python3.8/site-packages/sklearn/utils/deprecation.py:87: FutureWarning: Function plot_roc_curve is deprecated; Function :func:`plot_roc_curve` is deprecated in 1.0 and will be removed in 1.2. Use one of the class methods: :meth:`sklearn.metric.RocCurveDisplay.from_predictions` or :meth:`sklearn.metric.RocCurveDisplay.from_estimator`.\n",
      "  warnings.warn(msg, category=FutureWarning)\n"
     ]
    },
    {
     "data": {
      "image/png": "[encoded data removed]",
      "text/plain": [
       "<Figure size 432x288 with 1 Axes>"
      ]
     },
     "metadata": {
      "needs_background": "light"
     },
     "output_type": "display_data"
    }
   ],
   "source": [
    "from xgboost import XGBClassifier\n",
    "\n",
    "# instantiate the model\n",
    "xgb_3 = XGBClassifier(learning_rate=0.4,max_depth=7)\n",
    "#fit the model\n",
    "xgb_3.fit(X_train, Y_train)\n",
    "\n",
    "#predicting the target value from the model for the samples\n",
    "y_test_xgb = xgb_3.predict(X_test)\n",
    "\n",
    "evaluate_model (xgb_3, X_test, y_test, y_test_xgb)"
   ]
  },
  {
   "cell_type": "markdown",
   "metadata": {
    "id": "yOWlC_Elcekj"
   },
   "source": [
    "**Light GBM**"
   ]
  },
  {
   "cell_type": "code",
   "execution_count": 107,
   "metadata": {
    "colab": {
     "base_uri": "https://localhost:8080/",
     "height": 762
    },
    "id": "u2IIPoRKcoWF",
    "outputId": "e5d2012a-daeb-467c-d298-6da2fb8242f8"
   },
   "outputs": [
    {
     "name": "stdout",
     "output_type": "stream",
     "text": [
      "Các chỉ số đánh giá mức độ hiệu quả của mô hình: \n",
      "1. Accuracy: 0.7383540372670807\n",
      "2. confusion_matrix:\n",
      "[[1024  672]\n",
      " [   2  878]]\n",
      "3. recall_score:  0.9977272727272727\n",
      "4. precision_score:  0.5664516129032258\n",
      "5. f1_score:  0.7226337448559671\n",
      "6. Biểu đồ ROC của mô hình:\n"
     ]
    },
    {
     "name": "stderr",
     "output_type": "stream",
     "text": [
      "/home/hikaru/.local/lib/python3.8/site-packages/sklearn/utils/deprecation.py:87: FutureWarning: Function plot_roc_curve is deprecated; Function :func:`plot_roc_curve` is deprecated in 1.0 and will be removed in 1.2. Use one of the class methods: :meth:`sklearn.metric.RocCurveDisplay.from_predictions` or :meth:`sklearn.metric.RocCurveDisplay.from_estimator`.\n",
      "  warnings.warn(msg, category=FutureWarning)\n"
     ]
    },
    {
     "data": {
      "image/png": "[encoded data removed]",
      "text/plain": [
       "<Figure size 432x288 with 1 Axes>"
      ]
     },
     "metadata": {
      "needs_background": "light"
     },
     "output_type": "display_data"
    }
   ],
   "source": [
    "from lightgbm import LGBMClassifier\n",
    "\n",
    "lgbm_clf = LGBMClassifier(n_estimators=1000, objective='binary',\n",
    "                          class_weight={0:25, 1:1}, learning_rate=0.01,\n",
    "                          boosting_type='dart')\n",
    "lgbm_clf.fit(X_train, Y_train)\n",
    "\n",
    "#Prediction\n",
    "LGBM_modelprediction=lgbm_clf.predict(X_test)\n",
    "\n",
    "evaluate_model (lgbm_clf, X_test, y_test, LGBM_modelprediction)"
   ]
  },
  {
   "cell_type": "markdown",
   "metadata": {
    "id": "npv91YsHcrwE"
   },
   "source": [
    "**Votting Classifier**"
   ]
  },
  {
   "cell_type": "code",
   "execution_count": 108,
   "metadata": {
    "colab": {
     "base_uri": "https://localhost:8080/",
     "height": 762
    },
    "id": "6qF_0VMlcyWC",
    "outputId": "7491daa2-2508-4722-9973-af0318d7c9ed"
   },
   "outputs": [
    {
     "name": "stdout",
     "output_type": "stream",
     "text": [
      "Các chỉ số đánh giá mức độ hiệu quả của mô hình: \n",
      "1. Accuracy: 0.827639751552795\n",
      "2. confusion_matrix:\n",
      "[[ 991  409]\n",
      " [  35 1141]]\n",
      "3. recall_score:  0.9702380952380952\n",
      "4. precision_score:  0.7361290322580645\n",
      "5. f1_score:  0.8371239911958915\n",
      "6. Biểu đồ ROC của mô hình:\n"
     ]
    },
    {
     "name": "stderr",
     "output_type": "stream",
     "text": [
      "/home/hikaru/.local/lib/python3.8/site-packages/sklearn/utils/deprecation.py:87: FutureWarning: Function plot_roc_curve is deprecated; Function :func:`plot_roc_curve` is deprecated in 1.0 and will be removed in 1.2. Use one of the class methods: :meth:`sklearn.metric.RocCurveDisplay.from_predictions` or :meth:`sklearn.metric.RocCurveDisplay.from_estimator`.\n",
      "  warnings.warn(msg, category=FutureWarning)\n"
     ]
    },
    {
     "data": {
      "image/png": "[encoded data removed]",
      "text/plain": [
       "<Figure size 432x288 with 1 Axes>"
      ]
     },
     "metadata": {
      "needs_background": "light"
     },
     "output_type": "display_data"
    }
   ],
   "source": [
    "from sklearn.ensemble import RandomForestClassifier, GradientBoostingClassifier, \\\n",
    "    ExtraTreesClassifier, VotingClassifier\n",
    "\n",
    "clf1 = RandomForestClassifier(n_estimators=200, class_weight={0: 100, 1: 1})\n",
    "clf2 = GradientBoostingClassifier(n_estimators=1000, max_depth=7)\n",
    "clf3 = ExtraTreesClassifier(n_estimators=1000, class_weight={0: 100, 1: 1})\n",
    "clf4 = XGBClassifier(n_estimators=1000, max_depth=5, learning_rate=0.01)\n",
    "pos_clf = VotingClassifier(estimators=[('pos', clf1), ('gb', clf2),\n",
    "                                        ('et', clf3), ('xgb', clf4)],\n",
    "                            voting='soft',\n",
    "                            weights=[1, 2, 1, 1])\n",
    "\n",
    "pos_clf.fit(X_train, Y_train)\n",
    "\n",
    "#Prediction\n",
    "Vot_modelprediction=pos_clf.predict(X_test)\n",
    "\n",
    "evaluate_model (pos_clf, X_test, y_test, Vot_modelprediction)"
   ]
  },
  {
   "cell_type": "markdown",
   "metadata": {
    "id": "7P5B0NqfH1gX"
   },
   "source": [
    "**Gradient Boosting Classifier**"
   ]
  },
  {
   "cell_type": "code",
   "execution_count": 109,
   "metadata": {
    "colab": {
     "base_uri": "https://localhost:8080/",
     "height": 762
    },
    "id": "Lc9ipfP1JODI",
    "outputId": "1a188f66-806c-41fd-afe4-aa40976466bc"
   },
   "outputs": [
    {
     "name": "stdout",
     "output_type": "stream",
     "text": [
      "Các chỉ số đánh giá mức độ hiệu quả của mô hình: \n",
      "1. Accuracy: 0.8707298136645962\n",
      "2. confusion_matrix:\n",
      "[[ 802  109]\n",
      " [ 224 1441]]\n",
      "3. recall_score:  0.8654654654654654\n",
      "4. precision_score:  0.9296774193548387\n",
      "5. f1_score:  0.8964230171073095\n",
      "6. Biểu đồ ROC của mô hình:\n"
     ]
    },
    {
     "name": "stderr",
     "output_type": "stream",
     "text": [
      "/home/hikaru/.local/lib/python3.8/site-packages/sklearn/utils/deprecation.py:87: FutureWarning: Function plot_roc_curve is deprecated; Function :func:`plot_roc_curve` is deprecated in 1.0 and will be removed in 1.2. Use one of the class methods: :meth:`sklearn.metric.RocCurveDisplay.from_predictions` or :meth:`sklearn.metric.RocCurveDisplay.from_estimator`.\n",
      "  warnings.warn(msg, category=FutureWarning)\n"
     ]
    },
    {
     "data": {
      "image/png": "[encoded data removed]",
      "text/plain": [
       "<Figure size 432x288 with 1 Axes>"
      ]
     },
     "metadata": {
      "needs_background": "light"
     },
     "output_type": "display_data"
    }
   ],
   "source": [
    "from sklearn.ensemble import RandomForestClassifier, GradientBoostingClassifier, \\\n",
    "    ExtraTreesClassifier, VotingClassifier\n",
    "\n",
    "GBoost = GradientBoostingClassifier(n_estimators=1000, max_depth=7)\n",
    "\n",
    "\n",
    "GBoost.fit(X_train, Y_train)\n",
    "\n",
    "#Prediction\n",
    "GBoost_modelprediction=GBoost.predict(X_test)\n",
    "\n",
    "evaluate_model (GBoost, X_test, y_test, GBoost_modelprediction)"
   ]
  },
  {
   "cell_type": "markdown",
   "metadata": {
    "id": "un9ItsRtJdtU"
   },
   "source": [
    "**Extra Trees Classifier**"
   ]
  },
  {
   "cell_type": "code",
   "execution_count": 110,
   "metadata": {
    "colab": {
     "base_uri": "https://localhost:8080/",
     "height": 762
    },
    "id": "r0eqRymXJi-F",
    "outputId": "e79aa58b-5290-47d1-99c0-b73d5b38305f"
   },
   "outputs": [
    {
     "name": "stdout",
     "output_type": "stream",
     "text": [
      "Các chỉ số đánh giá mức độ hiệu quả của mô hình: \n",
      "1. Accuracy: 0.7131211180124224\n",
      "2. confusion_matrix:\n",
      "[[1024  737]\n",
      " [   2  813]]\n",
      "3. recall_score:  0.9975460122699387\n",
      "4. precision_score:  0.5245161290322581\n",
      "5. f1_score:  0.6875264270613108\n",
      "6. Biểu đồ ROC của mô hình:\n"
     ]
    },
    {
     "name": "stderr",
     "output_type": "stream",
     "text": [
      "/home/hikaru/.local/lib/python3.8/site-packages/sklearn/utils/deprecation.py:87: FutureWarning: Function plot_roc_curve is deprecated; Function :func:`plot_roc_curve` is deprecated in 1.0 and will be removed in 1.2. Use one of the class methods: :meth:`sklearn.metric.RocCurveDisplay.from_predictions` or :meth:`sklearn.metric.RocCurveDisplay.from_estimator`.\n",
      "  warnings.warn(msg, category=FutureWarning)\n"
     ]
    },
    {
     "data": {
      "image/png": "[encoded data removed]",
      "text/plain": [
       "<Figure size 432x288 with 1 Axes>"
      ]
     },
     "metadata": {
      "needs_background": "light"
     },
     "output_type": "display_data"
    }
   ],
   "source": [
    "from sklearn.ensemble import RandomForestClassifier, GradientBoostingClassifier, \\\n",
    "    ExtraTreesClassifier, VotingClassifier\n",
    "\n",
    "Extra = ExtraTreesClassifier(n_estimators=1000, class_weight={0: 100, 1: 1})\n",
    "\n",
    "\n",
    "Extra.fit(X_train, Y_train)\n",
    "\n",
    "#Prediction\n",
    "Extra_modelprediction=Extra.predict(X_test)\n",
    "\n",
    "evaluate_model (Extra, X_test, y_test, Extra_modelprediction)"
   ]
  },
  {
   "cell_type": "markdown",
   "metadata": {
    "id": "2xEo4ztNjPLn"
   },
   "source": [
    "**Cat Boosting**"
   ]
  },
  {
   "cell_type": "code",
   "execution_count": 111,
   "metadata": {
    "colab": {
     "base_uri": "https://localhost:8080/"
    },
    "id": "IrxhKhWaj0QS",
    "outputId": "51f2ae41-6358-4e54-9475-f02eba0b8cae"
   },
   "outputs": [
    {
     "name": "stdout",
     "output_type": "stream",
     "text": [
      "Requirement already satisfied: catboost in /home/hikaru/.local/lib/python3.8/site-packages (1.0.5)\n",
      "Requirement already satisfied: graphviz in /home/hikaru/.local/lib/python3.8/site-packages (from catboost) (0.20)\n",
      "Requirement already satisfied: pandas>=0.24.0 in /home/hikaru/.local/lib/python3.8/site-packages (from catboost) (1.4.2)\n",
      "Requirement already satisfied: plotly in /home/hikaru/.local/lib/python3.8/site-packages (from catboost) (5.8.0)\n",
      "Requirement already satisfied: six in /usr/lib/python3/dist-packages (from catboost) (1.14.0)\n",
      "Requirement already satisfied: numpy>=1.16.0 in /home/hikaru/.local/lib/python3.8/site-packages (from catboost) (1.22.3)\n",
      "Requirement already satisfied: matplotlib in /home/hikaru/.local/lib/python3.8/site-packages (from catboost) (3.5.2)\n",
      "Requirement already satisfied: scipy in /home/hikaru/.local/lib/python3.8/site-packages (from catboost) (1.8.0)\n",
      "Requirement already satisfied: pytz>=2020.1 in /home/hikaru/.local/lib/python3.8/site-packages (from pandas>=0.24.0->catboost) (2022.1)\n",
      "Requirement already satisfied: python-dateutil>=2.8.1 in /home/hikaru/.local/lib/python3.8/site-packages (from pandas>=0.24.0->catboost) (2.8.2)\n",
      "Requirement already satisfied: tenacity>=6.2.0 in /home/hikaru/.local/lib/python3.8/site-packages (from plotly->catboost) (8.0.1)\n",
      "Requirement already satisfied: cycler>=0.10 in /home/hikaru/.local/lib/python3.8/site-packages (from matplotlib->catboost) (0.11.0)\n",
      "Requirement already satisfied: packaging>=20.0 in /usr/lib/python3/dist-packages (from matplotlib->catboost) (20.3)\n",
      "Requirement already satisfied: fonttools>=4.22.0 in /home/hikaru/.local/lib/python3.8/site-packages (from matplotlib->catboost) (4.33.3)\n",
      "Requirement already satisfied: pyparsing>=2.2.1 in /usr/lib/python3/dist-packages (from matplotlib->catboost) (2.4.6)\n",
      "Requirement already satisfied: pillow>=6.2.0 in /usr/lib/python3/dist-packages (from matplotlib->catboost) (7.0.0)\n",
      "Requirement already satisfied: kiwisolver>=1.0.1 in /home/hikaru/.local/lib/python3.8/site-packages (from matplotlib->catboost) (1.4.2)\n",
      "Note: you may need to restart the kernel to use updated packages.\n"
     ]
    }
   ],
   "source": [
    "pip install catboost"
   ]
  },
  {
   "cell_type": "code",
   "execution_count": 112,
   "metadata": {
    "colab": {
     "base_uri": "https://localhost:8080/",
     "height": 1000
    },
    "id": "mIpk6t8Bjh9U",
    "outputId": "65f8e370-c13d-49da-9f93-fa9bbca72d97"
   },
   "outputs": [
    {
     "name": "stdout",
     "output_type": "stream",
     "text": [
      "0:\tlearn: 0.4607111\ttotal: 12.9ms\tremaining: 12.9s\n",
      "1:\tlearn: 0.3633019\ttotal: 22.2ms\tremaining: 11.1s\n",
      "2:\tlearn: 0.3221668\ttotal: 27.9ms\tremaining: 9.29s\n",
      "3:\tlearn: 0.2963247\ttotal: 36.6ms\tremaining: 9.12s\n",
      "4:\tlearn: 0.2783788\ttotal: 46.1ms\tremaining: 9.18s\n",
      "5:\tlearn: 0.2689224\ttotal: 51.8ms\tremaining: 8.58s\n",
      "6:\tlearn: 0.2633366\ttotal: 59ms\tremaining: 8.37s\n",
      "7:\tlearn: 0.2588954\ttotal: 68.6ms\tremaining: 8.51s\n",
      "8:\tlearn: 0.2571422\ttotal: 71.9ms\tremaining: 7.92s\n",
      "9:\tlearn: 0.2557942\ttotal: 75.6ms\tremaining: 7.49s\n",
      "10:\tlearn: 0.2548434\ttotal: 78.6ms\tremaining: 7.07s\n",
      "11:\tlearn: 0.2534725\ttotal: 84.9ms\tremaining: 6.99s\n",
      "12:\tlearn: 0.2508541\ttotal: 92.1ms\tremaining: 6.99s\n",
      "13:\tlearn: 0.2501345\ttotal: 99.7ms\tremaining: 7.02s\n",
      "14:\tlearn: 0.2500562\ttotal: 102ms\tremaining: 6.71s\n",
      "15:\tlearn: 0.2494056\ttotal: 110ms\tremaining: 6.74s\n",
      "16:\tlearn: 0.2490167\ttotal: 117ms\tremaining: 6.75s\n",
      "17:\tlearn: 0.2482834\ttotal: 124ms\tremaining: 6.76s\n",
      "18:\tlearn: 0.2478199\ttotal: 129ms\tremaining: 6.67s\n",
      "19:\tlearn: 0.2469925\ttotal: 136ms\tremaining: 6.65s\n",
      "20:\tlearn: 0.2468673\ttotal: 139ms\tremaining: 6.5s\n",
      "21:\tlearn: 0.2467142\ttotal: 144ms\tremaining: 6.38s\n",
      "22:\tlearn: 0.2465671\ttotal: 150ms\tremaining: 6.36s\n",
      "23:\tlearn: 0.2465057\ttotal: 157ms\tremaining: 6.37s\n",
      "24:\tlearn: 0.2456402\ttotal: 164ms\tremaining: 6.4s\n",
      "25:\tlearn: 0.2454577\ttotal: 171ms\tremaining: 6.42s\n",
      "26:\tlearn: 0.2451121\ttotal: 179ms\tremaining: 6.43s\n",
      "27:\tlearn: 0.2450463\ttotal: 186ms\tremaining: 6.45s\n",
      "28:\tlearn: 0.2447167\ttotal: 193ms\tremaining: 6.47s\n",
      "29:\tlearn: 0.2446062\ttotal: 200ms\tremaining: 6.47s\n",
      "30:\tlearn: 0.2444324\ttotal: 207ms\tremaining: 6.47s\n",
      "31:\tlearn: 0.2443631\ttotal: 211ms\tremaining: 6.39s\n",
      "32:\tlearn: 0.2442654\ttotal: 215ms\tremaining: 6.3s\n",
      "33:\tlearn: 0.2441907\ttotal: 224ms\tremaining: 6.35s\n",
      "34:\tlearn: 0.2441029\ttotal: 227ms\tremaining: 6.27s\n",
      "35:\tlearn: 0.2440832\ttotal: 232ms\tremaining: 6.2s\n",
      "36:\tlearn: 0.2438557\ttotal: 240ms\tremaining: 6.25s\n",
      "37:\tlearn: 0.2437988\ttotal: 247ms\tremaining: 6.25s\n",
      "38:\tlearn: 0.2437842\ttotal: 250ms\tremaining: 6.16s\n",
      "39:\tlearn: 0.2437738\ttotal: 253ms\tremaining: 6.07s\n",
      "40:\tlearn: 0.2437580\ttotal: 261ms\tremaining: 6.1s\n",
      "41:\tlearn: 0.2437380\ttotal: 264ms\tremaining: 6.03s\n",
      "42:\tlearn: 0.2436589\ttotal: 270ms\tremaining: 6.02s\n",
      "43:\tlearn: 0.2435813\ttotal: 278ms\tremaining: 6.05s\n",
      "44:\tlearn: 0.2435753\ttotal: 281ms\tremaining: 5.96s\n",
      "45:\tlearn: 0.2435218\ttotal: 288ms\tremaining: 5.97s\n",
      "46:\tlearn: 0.2434266\ttotal: 296ms\tremaining: 6s\n",
      "47:\tlearn: 0.2433479\ttotal: 298ms\tremaining: 5.91s\n",
      "48:\tlearn: 0.2433281\ttotal: 302ms\tremaining: 5.87s\n",
      "49:\tlearn: 0.2433020\ttotal: 307ms\tremaining: 5.83s\n",
      "50:\tlearn: 0.2432559\ttotal: 311ms\tremaining: 5.78s\n",
      "51:\tlearn: 0.2432408\ttotal: 314ms\tremaining: 5.72s\n",
      "52:\tlearn: 0.2432405\ttotal: 317ms\tremaining: 5.67s\n",
      "53:\tlearn: 0.2432205\ttotal: 322ms\tremaining: 5.63s\n",
      "54:\tlearn: 0.2431971\ttotal: 329ms\tremaining: 5.65s\n",
      "55:\tlearn: 0.2431601\ttotal: 336ms\tremaining: 5.67s\n",
      "56:\tlearn: 0.2431145\ttotal: 343ms\tremaining: 5.68s\n",
      "57:\tlearn: 0.2430783\ttotal: 347ms\tremaining: 5.63s\n",
      "58:\tlearn: 0.2430270\ttotal: 354ms\tremaining: 5.64s\n",
      "59:\tlearn: 0.2430273\ttotal: 360ms\tremaining: 5.63s\n",
      "60:\tlearn: 0.2429896\ttotal: 367ms\tremaining: 5.64s\n",
      "61:\tlearn: 0.2429497\ttotal: 372ms\tremaining: 5.63s\n",
      "62:\tlearn: 0.2429217\ttotal: 380ms\tremaining: 5.65s\n",
      "63:\tlearn: 0.2428705\ttotal: 386ms\tremaining: 5.65s\n",
      "64:\tlearn: 0.2428406\ttotal: 393ms\tremaining: 5.66s\n",
      "65:\tlearn: 0.2427989\ttotal: 401ms\tremaining: 5.67s\n",
      "66:\tlearn: 0.2427993\ttotal: 410ms\tremaining: 5.71s\n",
      "67:\tlearn: 0.2427770\ttotal: 418ms\tremaining: 5.73s\n",
      "68:\tlearn: 0.2427770\ttotal: 423ms\tremaining: 5.71s\n",
      "69:\tlearn: 0.2427518\ttotal: 431ms\tremaining: 5.72s\n",
      "70:\tlearn: 0.2427518\ttotal: 436ms\tremaining: 5.7s\n",
      "71:\tlearn: 0.2427518\ttotal: 440ms\tremaining: 5.68s\n",
      "72:\tlearn: 0.2427215\ttotal: 448ms\tremaining: 5.69s\n",
      "73:\tlearn: 0.2427217\ttotal: 453ms\tremaining: 5.67s\n",
      "74:\tlearn: 0.2427219\ttotal: 458ms\tremaining: 5.65s\n",
      "75:\tlearn: 0.2427217\ttotal: 463ms\tremaining: 5.63s\n",
      "76:\tlearn: 0.2427211\ttotal: 468ms\tremaining: 5.61s\n",
      "77:\tlearn: 0.2427212\ttotal: 473ms\tremaining: 5.59s\n",
      "78:\tlearn: 0.2427208\ttotal: 478ms\tremaining: 5.57s\n",
      "79:\tlearn: 0.2427211\ttotal: 483ms\tremaining: 5.56s\n",
      "80:\tlearn: 0.2426938\ttotal: 491ms\tremaining: 5.57s\n",
      "81:\tlearn: 0.2426941\ttotal: 496ms\tremaining: 5.55s\n",
      "82:\tlearn: 0.2426945\ttotal: 501ms\tremaining: 5.53s\n",
      "83:\tlearn: 0.2426933\ttotal: 506ms\tremaining: 5.51s\n",
      "84:\tlearn: 0.2426632\ttotal: 514ms\tremaining: 5.53s\n",
      "85:\tlearn: 0.2426622\ttotal: 519ms\tremaining: 5.52s\n",
      "86:\tlearn: 0.2426622\ttotal: 524ms\tremaining: 5.49s\n",
      "87:\tlearn: 0.2426408\ttotal: 533ms\tremaining: 5.52s\n",
      "88:\tlearn: 0.2426405\ttotal: 539ms\tremaining: 5.52s\n",
      "89:\tlearn: 0.2426407\ttotal: 547ms\tremaining: 5.53s\n",
      "90:\tlearn: 0.2426275\ttotal: 554ms\tremaining: 5.53s\n",
      "91:\tlearn: 0.2426275\ttotal: 559ms\tremaining: 5.52s\n",
      "92:\tlearn: 0.2426277\ttotal: 564ms\tremaining: 5.5s\n",
      "93:\tlearn: 0.2426276\ttotal: 570ms\tremaining: 5.49s\n",
      "94:\tlearn: 0.2426276\ttotal: 574ms\tremaining: 5.47s\n",
      "95:\tlearn: 0.2426276\ttotal: 579ms\tremaining: 5.45s\n",
      "96:\tlearn: 0.2426078\ttotal: 587ms\tremaining: 5.46s\n",
      "97:\tlearn: 0.2426068\ttotal: 592ms\tremaining: 5.45s\n",
      "98:\tlearn: 0.2426076\ttotal: 598ms\tremaining: 5.44s\n",
      "99:\tlearn: 0.2426073\ttotal: 603ms\tremaining: 5.43s\n",
      "100:\tlearn: 0.2425901\ttotal: 615ms\tremaining: 5.47s\n",
      "101:\tlearn: 0.2425901\ttotal: 621ms\tremaining: 5.46s\n",
      "102:\tlearn: 0.2425898\ttotal: 626ms\tremaining: 5.46s\n",
      "103:\tlearn: 0.2425894\ttotal: 634ms\tremaining: 5.46s\n",
      "104:\tlearn: 0.2425894\ttotal: 641ms\tremaining: 5.46s\n",
      "105:\tlearn: 0.2425894\ttotal: 646ms\tremaining: 5.45s\n",
      "106:\tlearn: 0.2425894\ttotal: 652ms\tremaining: 5.44s\n",
      "107:\tlearn: 0.2425894\ttotal: 657ms\tremaining: 5.43s\n",
      "108:\tlearn: 0.2425894\ttotal: 662ms\tremaining: 5.41s\n",
      "109:\tlearn: 0.2425894\ttotal: 667ms\tremaining: 5.39s\n",
      "110:\tlearn: 0.2425894\ttotal: 672ms\tremaining: 5.38s\n",
      "111:\tlearn: 0.2425894\ttotal: 676ms\tremaining: 5.36s\n",
      "112:\tlearn: 0.2425894\ttotal: 681ms\tremaining: 5.34s\n",
      "113:\tlearn: 0.2425706\ttotal: 689ms\tremaining: 5.35s\n",
      "114:\tlearn: 0.2425709\ttotal: 694ms\tremaining: 5.34s\n",
      "115:\tlearn: 0.2425709\ttotal: 700ms\tremaining: 5.33s\n",
      "116:\tlearn: 0.2425709\ttotal: 705ms\tremaining: 5.32s\n",
      "117:\tlearn: 0.2425709\ttotal: 710ms\tremaining: 5.3s\n",
      "118:\tlearn: 0.2425709\ttotal: 715ms\tremaining: 5.29s\n",
      "119:\tlearn: 0.2425703\ttotal: 720ms\tremaining: 5.28s\n",
      "120:\tlearn: 0.2425703\ttotal: 725ms\tremaining: 5.27s\n",
      "121:\tlearn: 0.2425703\ttotal: 731ms\tremaining: 5.26s\n",
      "122:\tlearn: 0.2425707\ttotal: 738ms\tremaining: 5.26s\n",
      "123:\tlearn: 0.2425708\ttotal: 744ms\tremaining: 5.25s\n",
      "124:\tlearn: 0.2425711\ttotal: 749ms\tremaining: 5.25s\n",
      "125:\tlearn: 0.2425700\ttotal: 755ms\tremaining: 5.24s\n",
      "126:\tlearn: 0.2425701\ttotal: 762ms\tremaining: 5.24s\n",
      "127:\tlearn: 0.2425699\ttotal: 768ms\tremaining: 5.23s\n",
      "128:\tlearn: 0.2425701\ttotal: 775ms\tremaining: 5.23s\n",
      "129:\tlearn: 0.2425700\ttotal: 782ms\tremaining: 5.23s\n",
      "130:\tlearn: 0.2425691\ttotal: 788ms\tremaining: 5.23s\n",
      "131:\tlearn: 0.2425694\ttotal: 795ms\tremaining: 5.23s\n",
      "132:\tlearn: 0.2425696\ttotal: 803ms\tremaining: 5.24s\n",
      "133:\tlearn: 0.2425695\ttotal: 810ms\tremaining: 5.24s\n",
      "134:\tlearn: 0.2425695\ttotal: 822ms\tremaining: 5.27s\n",
      "135:\tlearn: 0.2425690\ttotal: 830ms\tremaining: 5.28s\n",
      "136:\tlearn: 0.2425690\ttotal: 838ms\tremaining: 5.28s\n",
      "137:\tlearn: 0.2425690\ttotal: 844ms\tremaining: 5.27s\n",
      "138:\tlearn: 0.2425690\ttotal: 849ms\tremaining: 5.26s\n",
      "139:\tlearn: 0.2425690\ttotal: 861ms\tremaining: 5.29s\n",
      "140:\tlearn: 0.2425690\ttotal: 868ms\tremaining: 5.29s\n",
      "141:\tlearn: 0.2425690\ttotal: 875ms\tremaining: 5.29s\n",
      "142:\tlearn: 0.2425690\ttotal: 882ms\tremaining: 5.29s\n",
      "143:\tlearn: 0.2425690\ttotal: 887ms\tremaining: 5.28s\n",
      "144:\tlearn: 0.2425690\ttotal: 892ms\tremaining: 5.26s\n",
      "145:\tlearn: 0.2425690\ttotal: 896ms\tremaining: 5.24s\n",
      "146:\tlearn: 0.2425690\ttotal: 901ms\tremaining: 5.23s\n",
      "147:\tlearn: 0.2425690\ttotal: 906ms\tremaining: 5.21s\n",
      "148:\tlearn: 0.2425690\ttotal: 913ms\tremaining: 5.21s\n",
      "149:\tlearn: 0.2425690\ttotal: 920ms\tremaining: 5.21s\n",
      "150:\tlearn: 0.2425690\ttotal: 925ms\tremaining: 5.2s\n",
      "151:\tlearn: 0.2425690\ttotal: 932ms\tremaining: 5.2s\n",
      "152:\tlearn: 0.2425690\ttotal: 937ms\tremaining: 5.19s\n",
      "153:\tlearn: 0.2425690\ttotal: 942ms\tremaining: 5.17s\n",
      "154:\tlearn: 0.2425690\ttotal: 947ms\tremaining: 5.17s\n",
      "155:\tlearn: 0.2425690\ttotal: 953ms\tremaining: 5.16s\n",
      "156:\tlearn: 0.2425690\ttotal: 958ms\tremaining: 5.15s\n",
      "157:\tlearn: 0.2425690\ttotal: 963ms\tremaining: 5.13s\n",
      "158:\tlearn: 0.2425690\ttotal: 968ms\tremaining: 5.12s\n",
      "159:\tlearn: 0.2425690\ttotal: 972ms\tremaining: 5.1s\n",
      "160:\tlearn: 0.2425690\ttotal: 978ms\tremaining: 5.09s\n",
      "161:\tlearn: 0.2425690\ttotal: 986ms\tremaining: 5.1s\n",
      "162:\tlearn: 0.2425690\ttotal: 990ms\tremaining: 5.09s\n",
      "163:\tlearn: 0.2425690\ttotal: 995ms\tremaining: 5.07s\n",
      "164:\tlearn: 0.2425690\ttotal: 1s\tremaining: 5.07s\n"
     ]
    },
    {
     "name": "stdout",
     "output_type": "stream",
     "text": [
      "165:\tlearn: 0.2425690\ttotal: 1.01s\tremaining: 5.07s\n",
      "166:\tlearn: 0.2425690\ttotal: 1.01s\tremaining: 5.06s\n",
      "167:\tlearn: 0.2425690\ttotal: 1.02s\tremaining: 5.05s\n",
      "168:\tlearn: 0.2425690\ttotal: 1.03s\tremaining: 5.05s\n",
      "169:\tlearn: 0.2425690\ttotal: 1.03s\tremaining: 5.04s\n",
      "170:\tlearn: 0.2425690\ttotal: 1.04s\tremaining: 5.04s\n",
      "171:\tlearn: 0.2425690\ttotal: 1.04s\tremaining: 5.03s\n",
      "172:\tlearn: 0.2425690\ttotal: 1.05s\tremaining: 5.02s\n",
      "173:\tlearn: 0.2425690\ttotal: 1.05s\tremaining: 5.01s\n",
      "174:\tlearn: 0.2425690\ttotal: 1.06s\tremaining: 5.02s\n",
      "175:\tlearn: 0.2425690\ttotal: 1.07s\tremaining: 5.01s\n",
      "176:\tlearn: 0.2425690\ttotal: 1.07s\tremaining: 5s\n",
      "177:\tlearn: 0.2425690\ttotal: 1.08s\tremaining: 4.99s\n",
      "178:\tlearn: 0.2425689\ttotal: 1.08s\tremaining: 4.97s\n",
      "179:\tlearn: 0.2425689\ttotal: 1.09s\tremaining: 4.96s\n",
      "180:\tlearn: 0.2425689\ttotal: 1.09s\tremaining: 4.95s\n",
      "181:\tlearn: 0.2425689\ttotal: 1.1s\tremaining: 4.95s\n",
      "182:\tlearn: 0.2425689\ttotal: 1.11s\tremaining: 4.94s\n",
      "183:\tlearn: 0.2425689\ttotal: 1.11s\tremaining: 4.93s\n",
      "184:\tlearn: 0.2425689\ttotal: 1.12s\tremaining: 4.93s\n",
      "185:\tlearn: 0.2425689\ttotal: 1.12s\tremaining: 4.92s\n",
      "186:\tlearn: 0.2425689\ttotal: 1.13s\tremaining: 4.91s\n",
      "187:\tlearn: 0.2425689\ttotal: 1.13s\tremaining: 4.89s\n",
      "188:\tlearn: 0.2425689\ttotal: 1.14s\tremaining: 4.88s\n",
      "189:\tlearn: 0.2425690\ttotal: 1.14s\tremaining: 4.88s\n",
      "190:\tlearn: 0.2425690\ttotal: 1.15s\tremaining: 4.86s\n",
      "191:\tlearn: 0.2425690\ttotal: 1.15s\tremaining: 4.85s\n",
      "192:\tlearn: 0.2425690\ttotal: 1.16s\tremaining: 4.84s\n",
      "193:\tlearn: 0.2425690\ttotal: 1.16s\tremaining: 4.83s\n",
      "194:\tlearn: 0.2425690\ttotal: 1.17s\tremaining: 4.82s\n",
      "195:\tlearn: 0.2425690\ttotal: 1.18s\tremaining: 4.82s\n",
      "196:\tlearn: 0.2425690\ttotal: 1.18s\tremaining: 4.81s\n",
      "197:\tlearn: 0.2425690\ttotal: 1.18s\tremaining: 4.8s\n",
      "198:\tlearn: 0.2425690\ttotal: 1.19s\tremaining: 4.79s\n",
      "199:\tlearn: 0.2425690\ttotal: 1.2s\tremaining: 4.78s\n",
      "200:\tlearn: 0.2425690\ttotal: 1.2s\tremaining: 4.77s\n",
      "201:\tlearn: 0.2425690\ttotal: 1.21s\tremaining: 4.76s\n",
      "202:\tlearn: 0.2425690\ttotal: 1.21s\tremaining: 4.75s\n",
      "203:\tlearn: 0.2425690\ttotal: 1.22s\tremaining: 4.75s\n",
      "204:\tlearn: 0.2425690\ttotal: 1.22s\tremaining: 4.75s\n",
      "205:\tlearn: 0.2425690\ttotal: 1.23s\tremaining: 4.73s\n",
      "206:\tlearn: 0.2425690\ttotal: 1.23s\tremaining: 4.72s\n",
      "207:\tlearn: 0.2425690\ttotal: 1.24s\tremaining: 4.72s\n",
      "208:\tlearn: 0.2425690\ttotal: 1.24s\tremaining: 4.71s\n",
      "209:\tlearn: 0.2425690\ttotal: 1.25s\tremaining: 4.69s\n",
      "210:\tlearn: 0.2425689\ttotal: 1.25s\tremaining: 4.69s\n",
      "211:\tlearn: 0.2425689\ttotal: 1.26s\tremaining: 4.68s\n",
      "212:\tlearn: 0.2425689\ttotal: 1.26s\tremaining: 4.67s\n",
      "213:\tlearn: 0.2425689\ttotal: 1.27s\tremaining: 4.66s\n",
      "214:\tlearn: 0.2425689\ttotal: 1.28s\tremaining: 4.67s\n",
      "215:\tlearn: 0.2425689\ttotal: 1.28s\tremaining: 4.65s\n",
      "216:\tlearn: 0.2425689\ttotal: 1.29s\tremaining: 4.65s\n",
      "217:\tlearn: 0.2425689\ttotal: 1.29s\tremaining: 4.63s\n",
      "218:\tlearn: 0.2425689\ttotal: 1.3s\tremaining: 4.62s\n",
      "219:\tlearn: 0.2425689\ttotal: 1.3s\tremaining: 4.61s\n",
      "220:\tlearn: 0.2425689\ttotal: 1.31s\tremaining: 4.61s\n",
      "221:\tlearn: 0.2425689\ttotal: 1.31s\tremaining: 4.6s\n",
      "222:\tlearn: 0.2425689\ttotal: 1.32s\tremaining: 4.58s\n",
      "223:\tlearn: 0.2425689\ttotal: 1.32s\tremaining: 4.58s\n",
      "224:\tlearn: 0.2425689\ttotal: 1.32s\tremaining: 4.57s\n",
      "225:\tlearn: 0.2425689\ttotal: 1.33s\tremaining: 4.55s\n",
      "226:\tlearn: 0.2425689\ttotal: 1.33s\tremaining: 4.55s\n",
      "227:\tlearn: 0.2425689\ttotal: 1.34s\tremaining: 4.54s\n",
      "228:\tlearn: 0.2425689\ttotal: 1.34s\tremaining: 4.53s\n",
      "229:\tlearn: 0.2425688\ttotal: 1.35s\tremaining: 4.52s\n",
      "230:\tlearn: 0.2425688\ttotal: 1.36s\tremaining: 4.52s\n",
      "231:\tlearn: 0.2425688\ttotal: 1.36s\tremaining: 4.51s\n",
      "232:\tlearn: 0.2425688\ttotal: 1.37s\tremaining: 4.5s\n",
      "233:\tlearn: 0.2425688\ttotal: 1.37s\tremaining: 4.49s\n",
      "234:\tlearn: 0.2425688\ttotal: 1.38s\tremaining: 4.48s\n",
      "235:\tlearn: 0.2425688\ttotal: 1.38s\tremaining: 4.48s\n",
      "236:\tlearn: 0.2425688\ttotal: 1.39s\tremaining: 4.47s\n",
      "237:\tlearn: 0.2425688\ttotal: 1.39s\tremaining: 4.46s\n",
      "238:\tlearn: 0.2425688\ttotal: 1.4s\tremaining: 4.45s\n",
      "239:\tlearn: 0.2425688\ttotal: 1.4s\tremaining: 4.44s\n",
      "240:\tlearn: 0.2425688\ttotal: 1.41s\tremaining: 4.44s\n",
      "241:\tlearn: 0.2425688\ttotal: 1.41s\tremaining: 4.43s\n",
      "242:\tlearn: 0.2425688\ttotal: 1.42s\tremaining: 4.42s\n",
      "243:\tlearn: 0.2425688\ttotal: 1.42s\tremaining: 4.41s\n",
      "244:\tlearn: 0.2425688\ttotal: 1.43s\tremaining: 4.41s\n",
      "245:\tlearn: 0.2425688\ttotal: 1.44s\tremaining: 4.4s\n",
      "246:\tlearn: 0.2425688\ttotal: 1.44s\tremaining: 4.39s\n",
      "247:\tlearn: 0.2425688\ttotal: 1.45s\tremaining: 4.39s\n",
      "248:\tlearn: 0.2425688\ttotal: 1.45s\tremaining: 4.38s\n",
      "249:\tlearn: 0.2425688\ttotal: 1.46s\tremaining: 4.37s\n",
      "250:\tlearn: 0.2425688\ttotal: 1.49s\tremaining: 4.45s\n",
      "251:\tlearn: 0.2425688\ttotal: 1.5s\tremaining: 4.45s\n",
      "252:\tlearn: 0.2425688\ttotal: 1.5s\tremaining: 4.44s\n",
      "253:\tlearn: 0.2425688\ttotal: 1.51s\tremaining: 4.44s\n",
      "254:\tlearn: 0.2425688\ttotal: 1.51s\tremaining: 4.43s\n",
      "255:\tlearn: 0.2425688\ttotal: 1.52s\tremaining: 4.42s\n",
      "256:\tlearn: 0.2425688\ttotal: 1.52s\tremaining: 4.41s\n",
      "257:\tlearn: 0.2425688\ttotal: 1.53s\tremaining: 4.41s\n",
      "258:\tlearn: 0.2425688\ttotal: 1.54s\tremaining: 4.41s\n",
      "259:\tlearn: 0.2425688\ttotal: 1.55s\tremaining: 4.42s\n",
      "260:\tlearn: 0.2425688\ttotal: 1.56s\tremaining: 4.43s\n",
      "261:\tlearn: 0.2425688\ttotal: 1.57s\tremaining: 4.42s\n",
      "262:\tlearn: 0.2425688\ttotal: 1.58s\tremaining: 4.43s\n",
      "263:\tlearn: 0.2425688\ttotal: 1.59s\tremaining: 4.42s\n",
      "264:\tlearn: 0.2425688\ttotal: 1.59s\tremaining: 4.42s\n",
      "265:\tlearn: 0.2425688\ttotal: 1.6s\tremaining: 4.41s\n",
      "266:\tlearn: 0.2425688\ttotal: 1.6s\tremaining: 4.41s\n",
      "267:\tlearn: 0.2425688\ttotal: 1.61s\tremaining: 4.4s\n",
      "268:\tlearn: 0.2425688\ttotal: 1.62s\tremaining: 4.41s\n",
      "269:\tlearn: 0.2425688\ttotal: 1.63s\tremaining: 4.42s\n",
      "270:\tlearn: 0.2425688\ttotal: 1.64s\tremaining: 4.41s\n",
      "271:\tlearn: 0.2425688\ttotal: 1.65s\tremaining: 4.41s\n",
      "272:\tlearn: 0.2425688\ttotal: 1.65s\tremaining: 4.4s\n",
      "273:\tlearn: 0.2425688\ttotal: 1.66s\tremaining: 4.39s\n",
      "274:\tlearn: 0.2425688\ttotal: 1.67s\tremaining: 4.39s\n",
      "275:\tlearn: 0.2425688\ttotal: 1.67s\tremaining: 4.39s\n",
      "276:\tlearn: 0.2425688\ttotal: 1.68s\tremaining: 4.38s\n",
      "277:\tlearn: 0.2425688\ttotal: 1.68s\tremaining: 4.37s\n",
      "278:\tlearn: 0.2425688\ttotal: 1.69s\tremaining: 4.36s\n",
      "279:\tlearn: 0.2425688\ttotal: 1.7s\tremaining: 4.36s\n",
      "280:\tlearn: 0.2425688\ttotal: 1.71s\tremaining: 4.38s\n",
      "281:\tlearn: 0.2425688\ttotal: 1.72s\tremaining: 4.37s\n",
      "282:\tlearn: 0.2425688\ttotal: 1.72s\tremaining: 4.36s\n",
      "283:\tlearn: 0.2425688\ttotal: 1.73s\tremaining: 4.35s\n",
      "284:\tlearn: 0.2425688\ttotal: 1.73s\tremaining: 4.34s\n",
      "285:\tlearn: 0.2425688\ttotal: 1.74s\tremaining: 4.33s\n",
      "286:\tlearn: 0.2425688\ttotal: 1.74s\tremaining: 4.32s\n",
      "287:\tlearn: 0.2425688\ttotal: 1.75s\tremaining: 4.31s\n",
      "288:\tlearn: 0.2425688\ttotal: 1.75s\tremaining: 4.32s\n",
      "289:\tlearn: 0.2425687\ttotal: 1.76s\tremaining: 4.31s\n",
      "290:\tlearn: 0.2425694\ttotal: 1.77s\tremaining: 4.31s\n",
      "291:\tlearn: 0.2425694\ttotal: 1.77s\tremaining: 4.3s\n",
      "292:\tlearn: 0.2425694\ttotal: 1.78s\tremaining: 4.3s\n",
      "293:\tlearn: 0.2425694\ttotal: 1.79s\tremaining: 4.29s\n",
      "294:\tlearn: 0.2425694\ttotal: 1.79s\tremaining: 4.28s\n",
      "295:\tlearn: 0.2425694\ttotal: 1.81s\tremaining: 4.32s\n",
      "296:\tlearn: 0.2425694\ttotal: 1.83s\tremaining: 4.33s\n",
      "297:\tlearn: 0.2425694\ttotal: 1.84s\tremaining: 4.33s\n",
      "298:\tlearn: 0.2425694\ttotal: 1.85s\tremaining: 4.33s\n",
      "299:\tlearn: 0.2425694\ttotal: 1.85s\tremaining: 4.32s\n",
      "300:\tlearn: 0.2425694\ttotal: 1.86s\tremaining: 4.31s\n",
      "301:\tlearn: 0.2425694\ttotal: 1.86s\tremaining: 4.3s\n",
      "302:\tlearn: 0.2425694\ttotal: 1.87s\tremaining: 4.3s\n",
      "303:\tlearn: 0.2425694\ttotal: 1.87s\tremaining: 4.29s\n",
      "304:\tlearn: 0.2425694\ttotal: 1.88s\tremaining: 4.28s\n",
      "305:\tlearn: 0.2425694\ttotal: 1.89s\tremaining: 4.28s\n",
      "306:\tlearn: 0.2425694\ttotal: 1.89s\tremaining: 4.27s\n",
      "307:\tlearn: 0.2425694\ttotal: 1.9s\tremaining: 4.28s\n",
      "308:\tlearn: 0.2425694\ttotal: 1.91s\tremaining: 4.27s\n",
      "309:\tlearn: 0.2425694\ttotal: 1.92s\tremaining: 4.27s\n",
      "310:\tlearn: 0.2425694\ttotal: 1.92s\tremaining: 4.26s\n",
      "311:\tlearn: 0.2425694\ttotal: 1.93s\tremaining: 4.25s\n",
      "312:\tlearn: 0.2425694\ttotal: 1.93s\tremaining: 4.25s\n",
      "313:\tlearn: 0.2425694\ttotal: 1.94s\tremaining: 4.24s\n",
      "314:\tlearn: 0.2425694\ttotal: 1.95s\tremaining: 4.23s\n",
      "315:\tlearn: 0.2425694\ttotal: 1.95s\tremaining: 4.22s\n",
      "316:\tlearn: 0.2425694\ttotal: 1.96s\tremaining: 4.21s\n",
      "317:\tlearn: 0.2425694\ttotal: 1.96s\tremaining: 4.21s\n",
      "318:\tlearn: 0.2425694\ttotal: 1.97s\tremaining: 4.2s\n",
      "319:\tlearn: 0.2425694\ttotal: 1.97s\tremaining: 4.19s\n",
      "320:\tlearn: 0.2425694\ttotal: 1.98s\tremaining: 4.19s\n",
      "321:\tlearn: 0.2425694\ttotal: 1.99s\tremaining: 4.18s\n",
      "322:\tlearn: 0.2425694\ttotal: 1.99s\tremaining: 4.18s\n",
      "323:\tlearn: 0.2425694\ttotal: 2s\tremaining: 4.17s\n",
      "324:\tlearn: 0.2425694\ttotal: 2s\tremaining: 4.16s\n"
     ]
    },
    {
     "name": "stdout",
     "output_type": "stream",
     "text": [
      "325:\tlearn: 0.2425694\ttotal: 2.01s\tremaining: 4.16s\n",
      "326:\tlearn: 0.2425694\ttotal: 2.02s\tremaining: 4.17s\n",
      "327:\tlearn: 0.2425694\ttotal: 2.03s\tremaining: 4.16s\n",
      "328:\tlearn: 0.2425694\ttotal: 2.04s\tremaining: 4.15s\n",
      "329:\tlearn: 0.2425694\ttotal: 2.04s\tremaining: 4.15s\n",
      "330:\tlearn: 0.2425694\ttotal: 2.05s\tremaining: 4.14s\n",
      "331:\tlearn: 0.2425694\ttotal: 2.06s\tremaining: 4.14s\n",
      "332:\tlearn: 0.2425694\ttotal: 2.06s\tremaining: 4.13s\n",
      "333:\tlearn: 0.2425694\ttotal: 2.07s\tremaining: 4.13s\n",
      "334:\tlearn: 0.2425694\ttotal: 2.08s\tremaining: 4.12s\n",
      "335:\tlearn: 0.2425694\ttotal: 2.08s\tremaining: 4.12s\n",
      "336:\tlearn: 0.2425694\ttotal: 2.09s\tremaining: 4.11s\n",
      "337:\tlearn: 0.2425694\ttotal: 2.09s\tremaining: 4.1s\n",
      "338:\tlearn: 0.2425694\ttotal: 2.1s\tremaining: 4.09s\n",
      "339:\tlearn: 0.2425694\ttotal: 2.1s\tremaining: 4.08s\n",
      "340:\tlearn: 0.2425694\ttotal: 2.1s\tremaining: 4.07s\n",
      "341:\tlearn: 0.2425694\ttotal: 2.11s\tremaining: 4.06s\n",
      "342:\tlearn: 0.2425694\ttotal: 2.12s\tremaining: 4.05s\n",
      "343:\tlearn: 0.2425694\ttotal: 2.12s\tremaining: 4.04s\n",
      "344:\tlearn: 0.2425694\ttotal: 2.13s\tremaining: 4.04s\n",
      "345:\tlearn: 0.2425694\ttotal: 2.13s\tremaining: 4.03s\n",
      "346:\tlearn: 0.2425694\ttotal: 2.14s\tremaining: 4.02s\n",
      "347:\tlearn: 0.2425694\ttotal: 2.14s\tremaining: 4.01s\n",
      "348:\tlearn: 0.2425694\ttotal: 2.15s\tremaining: 4s\n",
      "349:\tlearn: 0.2425694\ttotal: 2.15s\tremaining: 3.99s\n",
      "350:\tlearn: 0.2425694\ttotal: 2.15s\tremaining: 3.98s\n",
      "351:\tlearn: 0.2425694\ttotal: 2.16s\tremaining: 3.98s\n",
      "352:\tlearn: 0.2425694\ttotal: 2.16s\tremaining: 3.97s\n",
      "353:\tlearn: 0.2425694\ttotal: 2.17s\tremaining: 3.96s\n",
      "354:\tlearn: 0.2425694\ttotal: 2.17s\tremaining: 3.95s\n",
      "355:\tlearn: 0.2425694\ttotal: 2.18s\tremaining: 3.94s\n",
      "356:\tlearn: 0.2425694\ttotal: 2.18s\tremaining: 3.93s\n",
      "357:\tlearn: 0.2425694\ttotal: 2.19s\tremaining: 3.93s\n",
      "358:\tlearn: 0.2425694\ttotal: 2.19s\tremaining: 3.92s\n",
      "359:\tlearn: 0.2425694\ttotal: 2.2s\tremaining: 3.91s\n",
      "360:\tlearn: 0.2425694\ttotal: 2.21s\tremaining: 3.9s\n",
      "361:\tlearn: 0.2425694\ttotal: 2.21s\tremaining: 3.9s\n",
      "362:\tlearn: 0.2425695\ttotal: 2.22s\tremaining: 3.9s\n",
      "363:\tlearn: 0.2425694\ttotal: 2.23s\tremaining: 3.89s\n",
      "364:\tlearn: 0.2425695\ttotal: 2.23s\tremaining: 3.89s\n",
      "365:\tlearn: 0.2425699\ttotal: 2.24s\tremaining: 3.88s\n",
      "366:\tlearn: 0.2425697\ttotal: 2.24s\tremaining: 3.87s\n",
      "367:\tlearn: 0.2425693\ttotal: 2.25s\tremaining: 3.86s\n",
      "368:\tlearn: 0.2425694\ttotal: 2.25s\tremaining: 3.86s\n",
      "369:\tlearn: 0.2425692\ttotal: 2.26s\tremaining: 3.85s\n",
      "370:\tlearn: 0.2425692\ttotal: 2.26s\tremaining: 3.84s\n",
      "371:\tlearn: 0.2425692\ttotal: 2.27s\tremaining: 3.83s\n",
      "372:\tlearn: 0.2425692\ttotal: 2.27s\tremaining: 3.82s\n",
      "373:\tlearn: 0.2425692\ttotal: 2.28s\tremaining: 3.81s\n",
      "374:\tlearn: 0.2425692\ttotal: 2.28s\tremaining: 3.81s\n",
      "375:\tlearn: 0.2425692\ttotal: 2.29s\tremaining: 3.8s\n",
      "376:\tlearn: 0.2425692\ttotal: 2.29s\tremaining: 3.79s\n",
      "377:\tlearn: 0.2425692\ttotal: 2.3s\tremaining: 3.78s\n",
      "378:\tlearn: 0.2425692\ttotal: 2.3s\tremaining: 3.77s\n",
      "379:\tlearn: 0.2425692\ttotal: 2.31s\tremaining: 3.76s\n",
      "380:\tlearn: 0.2425692\ttotal: 2.31s\tremaining: 3.75s\n",
      "381:\tlearn: 0.2425692\ttotal: 2.32s\tremaining: 3.75s\n",
      "382:\tlearn: 0.2425692\ttotal: 2.32s\tremaining: 3.74s\n",
      "383:\tlearn: 0.2425692\ttotal: 2.33s\tremaining: 3.73s\n",
      "384:\tlearn: 0.2425695\ttotal: 2.33s\tremaining: 3.73s\n",
      "385:\tlearn: 0.2425697\ttotal: 2.34s\tremaining: 3.72s\n",
      "386:\tlearn: 0.2425696\ttotal: 2.34s\tremaining: 3.71s\n",
      "387:\tlearn: 0.2425695\ttotal: 2.35s\tremaining: 3.7s\n",
      "388:\tlearn: 0.2425694\ttotal: 2.35s\tremaining: 3.7s\n",
      "389:\tlearn: 0.2425690\ttotal: 2.36s\tremaining: 3.69s\n",
      "390:\tlearn: 0.2425691\ttotal: 2.36s\tremaining: 3.68s\n",
      "391:\tlearn: 0.2425691\ttotal: 2.37s\tremaining: 3.67s\n",
      "392:\tlearn: 0.2425691\ttotal: 2.37s\tremaining: 3.67s\n",
      "393:\tlearn: 0.2425691\ttotal: 2.38s\tremaining: 3.66s\n",
      "394:\tlearn: 0.2425691\ttotal: 2.38s\tremaining: 3.65s\n",
      "395:\tlearn: 0.2425691\ttotal: 2.39s\tremaining: 3.64s\n",
      "396:\tlearn: 0.2425691\ttotal: 2.39s\tremaining: 3.64s\n",
      "397:\tlearn: 0.2425691\ttotal: 2.4s\tremaining: 3.63s\n",
      "398:\tlearn: 0.2425691\ttotal: 2.4s\tremaining: 3.62s\n",
      "399:\tlearn: 0.2425691\ttotal: 2.41s\tremaining: 3.62s\n",
      "400:\tlearn: 0.2425691\ttotal: 2.42s\tremaining: 3.62s\n",
      "401:\tlearn: 0.2425691\ttotal: 2.43s\tremaining: 3.62s\n",
      "402:\tlearn: 0.2425691\ttotal: 2.44s\tremaining: 3.61s\n",
      "403:\tlearn: 0.2425691\ttotal: 2.45s\tremaining: 3.61s\n",
      "404:\tlearn: 0.2425691\ttotal: 2.45s\tremaining: 3.6s\n",
      "405:\tlearn: 0.2425691\ttotal: 2.46s\tremaining: 3.6s\n",
      "406:\tlearn: 0.2425691\ttotal: 2.47s\tremaining: 3.59s\n",
      "407:\tlearn: 0.2425691\ttotal: 2.47s\tremaining: 3.59s\n",
      "408:\tlearn: 0.2425691\ttotal: 2.48s\tremaining: 3.58s\n",
      "409:\tlearn: 0.2425691\ttotal: 2.48s\tremaining: 3.57s\n",
      "410:\tlearn: 0.2425691\ttotal: 2.49s\tremaining: 3.57s\n",
      "411:\tlearn: 0.2425691\ttotal: 2.49s\tremaining: 3.56s\n",
      "412:\tlearn: 0.2425691\ttotal: 2.5s\tremaining: 3.55s\n",
      "413:\tlearn: 0.2425691\ttotal: 2.5s\tremaining: 3.54s\n",
      "414:\tlearn: 0.2425691\ttotal: 2.51s\tremaining: 3.54s\n",
      "415:\tlearn: 0.2425691\ttotal: 2.52s\tremaining: 3.53s\n",
      "416:\tlearn: 0.2425691\ttotal: 2.52s\tremaining: 3.52s\n",
      "417:\tlearn: 0.2425691\ttotal: 2.53s\tremaining: 3.52s\n",
      "418:\tlearn: 0.2425691\ttotal: 2.53s\tremaining: 3.51s\n",
      "419:\tlearn: 0.2425691\ttotal: 2.54s\tremaining: 3.51s\n",
      "420:\tlearn: 0.2425691\ttotal: 2.54s\tremaining: 3.5s\n",
      "421:\tlearn: 0.2425691\ttotal: 2.55s\tremaining: 3.49s\n",
      "422:\tlearn: 0.2425685\ttotal: 2.56s\tremaining: 3.49s\n",
      "423:\tlearn: 0.2425685\ttotal: 2.56s\tremaining: 3.48s\n",
      "424:\tlearn: 0.2425685\ttotal: 2.57s\tremaining: 3.47s\n",
      "425:\tlearn: 0.2425685\ttotal: 2.57s\tremaining: 3.47s\n",
      "426:\tlearn: 0.2425685\ttotal: 2.58s\tremaining: 3.46s\n",
      "427:\tlearn: 0.2425685\ttotal: 2.58s\tremaining: 3.46s\n",
      "428:\tlearn: 0.2425685\ttotal: 2.59s\tremaining: 3.45s\n",
      "429:\tlearn: 0.2425685\ttotal: 2.6s\tremaining: 3.44s\n",
      "430:\tlearn: 0.2425685\ttotal: 2.61s\tremaining: 3.44s\n",
      "431:\tlearn: 0.2425685\ttotal: 2.63s\tremaining: 3.46s\n",
      "432:\tlearn: 0.2425685\ttotal: 2.64s\tremaining: 3.46s\n",
      "433:\tlearn: 0.2425685\ttotal: 2.65s\tremaining: 3.46s\n",
      "434:\tlearn: 0.2425685\ttotal: 2.66s\tremaining: 3.45s\n",
      "435:\tlearn: 0.2425685\ttotal: 2.66s\tremaining: 3.45s\n",
      "436:\tlearn: 0.2425685\ttotal: 2.67s\tremaining: 3.44s\n",
      "437:\tlearn: 0.2425685\ttotal: 2.68s\tremaining: 3.43s\n",
      "438:\tlearn: 0.2425685\ttotal: 2.68s\tremaining: 3.43s\n",
      "439:\tlearn: 0.2425685\ttotal: 2.69s\tremaining: 3.42s\n",
      "440:\tlearn: 0.2425685\ttotal: 2.69s\tremaining: 3.41s\n",
      "441:\tlearn: 0.2425685\ttotal: 2.7s\tremaining: 3.41s\n",
      "442:\tlearn: 0.2425685\ttotal: 2.71s\tremaining: 3.4s\n",
      "443:\tlearn: 0.2425685\ttotal: 2.71s\tremaining: 3.4s\n",
      "444:\tlearn: 0.2425686\ttotal: 2.72s\tremaining: 3.39s\n",
      "445:\tlearn: 0.2425686\ttotal: 2.73s\tremaining: 3.39s\n",
      "446:\tlearn: 0.2425686\ttotal: 2.74s\tremaining: 3.39s\n",
      "447:\tlearn: 0.2425686\ttotal: 2.75s\tremaining: 3.38s\n",
      "448:\tlearn: 0.2425686\ttotal: 2.75s\tremaining: 3.38s\n",
      "449:\tlearn: 0.2425686\ttotal: 2.76s\tremaining: 3.38s\n",
      "450:\tlearn: 0.2425686\ttotal: 2.77s\tremaining: 3.37s\n",
      "451:\tlearn: 0.2425686\ttotal: 2.78s\tremaining: 3.37s\n",
      "452:\tlearn: 0.2425686\ttotal: 2.79s\tremaining: 3.37s\n",
      "453:\tlearn: 0.2425686\ttotal: 2.8s\tremaining: 3.36s\n",
      "454:\tlearn: 0.2425686\ttotal: 2.8s\tremaining: 3.36s\n",
      "455:\tlearn: 0.2425686\ttotal: 2.81s\tremaining: 3.35s\n",
      "456:\tlearn: 0.2425686\ttotal: 2.81s\tremaining: 3.35s\n",
      "457:\tlearn: 0.2425686\ttotal: 2.82s\tremaining: 3.34s\n",
      "458:\tlearn: 0.2425686\ttotal: 2.83s\tremaining: 3.33s\n",
      "459:\tlearn: 0.2425686\ttotal: 2.83s\tremaining: 3.33s\n",
      "460:\tlearn: 0.2425686\ttotal: 2.84s\tremaining: 3.32s\n",
      "461:\tlearn: 0.2425686\ttotal: 2.85s\tremaining: 3.32s\n",
      "462:\tlearn: 0.2425686\ttotal: 2.85s\tremaining: 3.31s\n",
      "463:\tlearn: 0.2425686\ttotal: 2.86s\tremaining: 3.3s\n",
      "464:\tlearn: 0.2425686\ttotal: 2.87s\tremaining: 3.3s\n",
      "465:\tlearn: 0.2425686\ttotal: 2.87s\tremaining: 3.29s\n",
      "466:\tlearn: 0.2425685\ttotal: 2.88s\tremaining: 3.29s\n",
      "467:\tlearn: 0.2425685\ttotal: 2.88s\tremaining: 3.28s\n",
      "468:\tlearn: 0.2425685\ttotal: 2.89s\tremaining: 3.27s\n",
      "469:\tlearn: 0.2425686\ttotal: 2.9s\tremaining: 3.27s\n",
      "470:\tlearn: 0.2425686\ttotal: 2.9s\tremaining: 3.26s\n",
      "471:\tlearn: 0.2425686\ttotal: 2.91s\tremaining: 3.26s\n",
      "472:\tlearn: 0.2425686\ttotal: 2.92s\tremaining: 3.25s\n",
      "473:\tlearn: 0.2425686\ttotal: 2.92s\tremaining: 3.24s\n",
      "474:\tlearn: 0.2425686\ttotal: 2.93s\tremaining: 3.24s\n",
      "475:\tlearn: 0.2425686\ttotal: 2.93s\tremaining: 3.23s\n",
      "476:\tlearn: 0.2425686\ttotal: 2.94s\tremaining: 3.23s\n",
      "477:\tlearn: 0.2425686\ttotal: 2.95s\tremaining: 3.22s\n",
      "478:\tlearn: 0.2425686\ttotal: 2.95s\tremaining: 3.21s\n",
      "479:\tlearn: 0.2425686\ttotal: 2.96s\tremaining: 3.21s\n",
      "480:\tlearn: 0.2425686\ttotal: 2.97s\tremaining: 3.2s\n",
      "481:\tlearn: 0.2425687\ttotal: 2.97s\tremaining: 3.19s\n",
      "482:\tlearn: 0.2425687\ttotal: 2.98s\tremaining: 3.19s\n",
      "483:\tlearn: 0.2425687\ttotal: 2.98s\tremaining: 3.18s\n",
      "484:\tlearn: 0.2425687\ttotal: 2.99s\tremaining: 3.17s\n",
      "485:\tlearn: 0.2425687\ttotal: 2.99s\tremaining: 3.17s\n"
     ]
    },
    {
     "name": "stdout",
     "output_type": "stream",
     "text": [
      "486:\tlearn: 0.2425687\ttotal: 3s\tremaining: 3.16s\n",
      "487:\tlearn: 0.2425687\ttotal: 3.01s\tremaining: 3.16s\n",
      "488:\tlearn: 0.2425687\ttotal: 3.01s\tremaining: 3.15s\n",
      "489:\tlearn: 0.2425687\ttotal: 3.02s\tremaining: 3.14s\n",
      "490:\tlearn: 0.2425687\ttotal: 3.03s\tremaining: 3.14s\n",
      "491:\tlearn: 0.2425687\ttotal: 3.04s\tremaining: 3.14s\n",
      "492:\tlearn: 0.2425687\ttotal: 3.05s\tremaining: 3.13s\n",
      "493:\tlearn: 0.2425687\ttotal: 3.06s\tremaining: 3.13s\n",
      "494:\tlearn: 0.2425687\ttotal: 3.06s\tremaining: 3.12s\n",
      "495:\tlearn: 0.2425686\ttotal: 3.06s\tremaining: 3.12s\n",
      "496:\tlearn: 0.2425686\ttotal: 3.07s\tremaining: 3.11s\n",
      "497:\tlearn: 0.2425686\ttotal: 3.08s\tremaining: 3.1s\n",
      "498:\tlearn: 0.2425690\ttotal: 3.08s\tremaining: 3.09s\n",
      "499:\tlearn: 0.2425690\ttotal: 3.09s\tremaining: 3.09s\n",
      "500:\tlearn: 0.2425690\ttotal: 3.09s\tremaining: 3.08s\n",
      "501:\tlearn: 0.2425690\ttotal: 3.1s\tremaining: 3.08s\n",
      "502:\tlearn: 0.2425690\ttotal: 3.11s\tremaining: 3.07s\n",
      "503:\tlearn: 0.2425690\ttotal: 3.11s\tremaining: 3.06s\n",
      "504:\tlearn: 0.2425690\ttotal: 3.12s\tremaining: 3.06s\n",
      "505:\tlearn: 0.2425690\ttotal: 3.12s\tremaining: 3.05s\n",
      "506:\tlearn: 0.2425690\ttotal: 3.13s\tremaining: 3.04s\n",
      "507:\tlearn: 0.2425690\ttotal: 3.13s\tremaining: 3.04s\n",
      "508:\tlearn: 0.2425690\ttotal: 3.14s\tremaining: 3.03s\n",
      "509:\tlearn: 0.2425690\ttotal: 3.15s\tremaining: 3.02s\n",
      "510:\tlearn: 0.2425690\ttotal: 3.15s\tremaining: 3.02s\n",
      "511:\tlearn: 0.2425690\ttotal: 3.16s\tremaining: 3.01s\n",
      "512:\tlearn: 0.2425690\ttotal: 3.17s\tremaining: 3.01s\n",
      "513:\tlearn: 0.2425690\ttotal: 3.18s\tremaining: 3.01s\n",
      "514:\tlearn: 0.2425690\ttotal: 3.2s\tremaining: 3.02s\n",
      "515:\tlearn: 0.2425690\ttotal: 3.21s\tremaining: 3.02s\n",
      "516:\tlearn: 0.2425690\ttotal: 3.23s\tremaining: 3.01s\n",
      "517:\tlearn: 0.2425690\ttotal: 3.24s\tremaining: 3.02s\n",
      "518:\tlearn: 0.2425690\ttotal: 3.26s\tremaining: 3.02s\n",
      "519:\tlearn: 0.2425690\ttotal: 3.27s\tremaining: 3.01s\n",
      "520:\tlearn: 0.2425690\ttotal: 3.28s\tremaining: 3.01s\n",
      "521:\tlearn: 0.2425691\ttotal: 3.28s\tremaining: 3.01s\n",
      "522:\tlearn: 0.2425691\ttotal: 3.29s\tremaining: 3s\n",
      "523:\tlearn: 0.2425691\ttotal: 3.3s\tremaining: 3s\n",
      "524:\tlearn: 0.2425691\ttotal: 3.31s\tremaining: 2.99s\n",
      "525:\tlearn: 0.2425686\ttotal: 3.32s\tremaining: 2.99s\n",
      "526:\tlearn: 0.2425686\ttotal: 3.32s\tremaining: 2.98s\n",
      "527:\tlearn: 0.2425686\ttotal: 3.33s\tremaining: 2.98s\n",
      "528:\tlearn: 0.2425686\ttotal: 3.34s\tremaining: 2.97s\n",
      "529:\tlearn: 0.2425686\ttotal: 3.34s\tremaining: 2.97s\n",
      "530:\tlearn: 0.2425686\ttotal: 3.35s\tremaining: 2.96s\n",
      "531:\tlearn: 0.2425686\ttotal: 3.36s\tremaining: 2.96s\n",
      "532:\tlearn: 0.2425687\ttotal: 3.37s\tremaining: 2.95s\n",
      "533:\tlearn: 0.2425685\ttotal: 3.37s\tremaining: 2.94s\n",
      "534:\tlearn: 0.2425685\ttotal: 3.38s\tremaining: 2.94s\n",
      "535:\tlearn: 0.2425685\ttotal: 3.38s\tremaining: 2.93s\n",
      "536:\tlearn: 0.2425685\ttotal: 3.39s\tremaining: 2.92s\n",
      "537:\tlearn: 0.2425685\ttotal: 3.4s\tremaining: 2.92s\n",
      "538:\tlearn: 0.2425685\ttotal: 3.4s\tremaining: 2.91s\n",
      "539:\tlearn: 0.2425685\ttotal: 3.41s\tremaining: 2.91s\n",
      "540:\tlearn: 0.2425685\ttotal: 3.42s\tremaining: 2.9s\n",
      "541:\tlearn: 0.2425685\ttotal: 3.42s\tremaining: 2.89s\n",
      "542:\tlearn: 0.2425685\ttotal: 3.43s\tremaining: 2.88s\n",
      "543:\tlearn: 0.2425685\ttotal: 3.43s\tremaining: 2.88s\n",
      "544:\tlearn: 0.2425685\ttotal: 3.44s\tremaining: 2.87s\n",
      "545:\tlearn: 0.2425685\ttotal: 3.45s\tremaining: 2.87s\n",
      "546:\tlearn: 0.2425685\ttotal: 3.45s\tremaining: 2.86s\n",
      "547:\tlearn: 0.2425685\ttotal: 3.46s\tremaining: 2.85s\n",
      "548:\tlearn: 0.2425685\ttotal: 3.46s\tremaining: 2.84s\n",
      "549:\tlearn: 0.2425685\ttotal: 3.47s\tremaining: 2.84s\n",
      "550:\tlearn: 0.2425685\ttotal: 3.47s\tremaining: 2.83s\n",
      "551:\tlearn: 0.2425685\ttotal: 3.48s\tremaining: 2.82s\n",
      "552:\tlearn: 0.2425685\ttotal: 3.48s\tremaining: 2.81s\n",
      "553:\tlearn: 0.2425685\ttotal: 3.48s\tremaining: 2.81s\n",
      "554:\tlearn: 0.2425685\ttotal: 3.49s\tremaining: 2.8s\n",
      "555:\tlearn: 0.2425685\ttotal: 3.49s\tremaining: 2.79s\n",
      "556:\tlearn: 0.2425685\ttotal: 3.5s\tremaining: 2.78s\n",
      "557:\tlearn: 0.2425685\ttotal: 3.5s\tremaining: 2.77s\n",
      "558:\tlearn: 0.2425685\ttotal: 3.51s\tremaining: 2.77s\n",
      "559:\tlearn: 0.2425685\ttotal: 3.51s\tremaining: 2.76s\n",
      "560:\tlearn: 0.2425685\ttotal: 3.52s\tremaining: 2.75s\n",
      "561:\tlearn: 0.2425685\ttotal: 3.52s\tremaining: 2.75s\n",
      "562:\tlearn: 0.2425685\ttotal: 3.53s\tremaining: 2.74s\n",
      "563:\tlearn: 0.2425685\ttotal: 3.53s\tremaining: 2.73s\n",
      "564:\tlearn: 0.2425683\ttotal: 3.54s\tremaining: 2.72s\n",
      "565:\tlearn: 0.2425683\ttotal: 3.54s\tremaining: 2.72s\n",
      "566:\tlearn: 0.2425683\ttotal: 3.55s\tremaining: 2.71s\n",
      "567:\tlearn: 0.2425683\ttotal: 3.55s\tremaining: 2.7s\n",
      "568:\tlearn: 0.2425683\ttotal: 3.56s\tremaining: 2.69s\n",
      "569:\tlearn: 0.2425683\ttotal: 3.56s\tremaining: 2.69s\n",
      "570:\tlearn: 0.2425683\ttotal: 3.56s\tremaining: 2.68s\n",
      "571:\tlearn: 0.2425683\ttotal: 3.57s\tremaining: 2.67s\n",
      "572:\tlearn: 0.2425683\ttotal: 3.58s\tremaining: 2.66s\n",
      "573:\tlearn: 0.2425683\ttotal: 3.58s\tremaining: 2.66s\n",
      "574:\tlearn: 0.2425683\ttotal: 3.58s\tremaining: 2.65s\n",
      "575:\tlearn: 0.2425683\ttotal: 3.59s\tremaining: 2.64s\n",
      "576:\tlearn: 0.2425683\ttotal: 3.6s\tremaining: 2.64s\n",
      "577:\tlearn: 0.2425683\ttotal: 3.6s\tremaining: 2.63s\n",
      "578:\tlearn: 0.2425683\ttotal: 3.61s\tremaining: 2.62s\n",
      "579:\tlearn: 0.2425683\ttotal: 3.61s\tremaining: 2.62s\n",
      "580:\tlearn: 0.2425683\ttotal: 3.62s\tremaining: 2.61s\n",
      "581:\tlearn: 0.2425683\ttotal: 3.62s\tremaining: 2.6s\n",
      "582:\tlearn: 0.2425683\ttotal: 3.63s\tremaining: 2.59s\n",
      "583:\tlearn: 0.2425683\ttotal: 3.63s\tremaining: 2.59s\n",
      "584:\tlearn: 0.2425683\ttotal: 3.64s\tremaining: 2.58s\n",
      "585:\tlearn: 0.2425683\ttotal: 3.64s\tremaining: 2.57s\n",
      "586:\tlearn: 0.2425683\ttotal: 3.65s\tremaining: 2.57s\n",
      "587:\tlearn: 0.2425683\ttotal: 3.65s\tremaining: 2.56s\n",
      "588:\tlearn: 0.2425683\ttotal: 3.66s\tremaining: 2.55s\n",
      "589:\tlearn: 0.2425683\ttotal: 3.67s\tremaining: 2.55s\n",
      "590:\tlearn: 0.2425683\ttotal: 3.67s\tremaining: 2.54s\n",
      "591:\tlearn: 0.2425683\ttotal: 3.67s\tremaining: 2.53s\n",
      "592:\tlearn: 0.2425683\ttotal: 3.68s\tremaining: 2.52s\n",
      "593:\tlearn: 0.2425683\ttotal: 3.68s\tremaining: 2.52s\n",
      "594:\tlearn: 0.2425683\ttotal: 3.69s\tremaining: 2.51s\n",
      "595:\tlearn: 0.2425683\ttotal: 3.69s\tremaining: 2.5s\n",
      "596:\tlearn: 0.2425683\ttotal: 3.7s\tremaining: 2.5s\n",
      "597:\tlearn: 0.2425683\ttotal: 3.7s\tremaining: 2.49s\n",
      "598:\tlearn: 0.2425683\ttotal: 3.71s\tremaining: 2.48s\n",
      "599:\tlearn: 0.2425683\ttotal: 3.71s\tremaining: 2.48s\n",
      "600:\tlearn: 0.2425683\ttotal: 3.72s\tremaining: 2.47s\n",
      "601:\tlearn: 0.2425683\ttotal: 3.73s\tremaining: 2.46s\n",
      "602:\tlearn: 0.2425683\ttotal: 3.73s\tremaining: 2.46s\n",
      "603:\tlearn: 0.2425683\ttotal: 3.73s\tremaining: 2.45s\n",
      "604:\tlearn: 0.2425683\ttotal: 3.74s\tremaining: 2.44s\n",
      "605:\tlearn: 0.2425683\ttotal: 3.75s\tremaining: 2.44s\n",
      "606:\tlearn: 0.2425683\ttotal: 3.75s\tremaining: 2.43s\n",
      "607:\tlearn: 0.2425683\ttotal: 3.76s\tremaining: 2.42s\n",
      "608:\tlearn: 0.2425683\ttotal: 3.76s\tremaining: 2.42s\n",
      "609:\tlearn: 0.2425683\ttotal: 3.77s\tremaining: 2.41s\n",
      "610:\tlearn: 0.2425683\ttotal: 3.77s\tremaining: 2.4s\n",
      "611:\tlearn: 0.2425683\ttotal: 3.78s\tremaining: 2.4s\n",
      "612:\tlearn: 0.2425683\ttotal: 3.79s\tremaining: 2.39s\n",
      "613:\tlearn: 0.2425683\ttotal: 3.79s\tremaining: 2.38s\n",
      "614:\tlearn: 0.2425683\ttotal: 3.8s\tremaining: 2.38s\n",
      "615:\tlearn: 0.2425683\ttotal: 3.81s\tremaining: 2.37s\n",
      "616:\tlearn: 0.2425689\ttotal: 3.81s\tremaining: 2.37s\n",
      "617:\tlearn: 0.2425689\ttotal: 3.82s\tremaining: 2.36s\n",
      "618:\tlearn: 0.2425689\ttotal: 3.83s\tremaining: 2.35s\n",
      "619:\tlearn: 0.2425689\ttotal: 3.83s\tremaining: 2.35s\n",
      "620:\tlearn: 0.2425689\ttotal: 3.84s\tremaining: 2.34s\n",
      "621:\tlearn: 0.2425689\ttotal: 3.84s\tremaining: 2.33s\n",
      "622:\tlearn: 0.2425689\ttotal: 3.85s\tremaining: 2.33s\n",
      "623:\tlearn: 0.2425689\ttotal: 3.85s\tremaining: 2.32s\n",
      "624:\tlearn: 0.2425689\ttotal: 3.86s\tremaining: 2.31s\n",
      "625:\tlearn: 0.2425689\ttotal: 3.87s\tremaining: 2.31s\n",
      "626:\tlearn: 0.2425689\ttotal: 3.87s\tremaining: 2.3s\n",
      "627:\tlearn: 0.2425689\ttotal: 3.88s\tremaining: 2.3s\n",
      "628:\tlearn: 0.2425689\ttotal: 3.89s\tremaining: 2.29s\n",
      "629:\tlearn: 0.2425689\ttotal: 3.89s\tremaining: 2.29s\n",
      "630:\tlearn: 0.2425689\ttotal: 3.9s\tremaining: 2.28s\n",
      "631:\tlearn: 0.2425689\ttotal: 3.9s\tremaining: 2.27s\n",
      "632:\tlearn: 0.2425689\ttotal: 3.9s\tremaining: 2.26s\n",
      "633:\tlearn: 0.2425689\ttotal: 3.91s\tremaining: 2.26s\n",
      "634:\tlearn: 0.2425689\ttotal: 3.92s\tremaining: 2.25s\n",
      "635:\tlearn: 0.2425689\ttotal: 3.92s\tremaining: 2.24s\n",
      "636:\tlearn: 0.2425689\ttotal: 3.92s\tremaining: 2.24s\n",
      "637:\tlearn: 0.2425689\ttotal: 3.93s\tremaining: 2.23s\n",
      "638:\tlearn: 0.2425689\ttotal: 3.93s\tremaining: 2.22s\n",
      "639:\tlearn: 0.2425689\ttotal: 3.94s\tremaining: 2.22s\n",
      "640:\tlearn: 0.2425689\ttotal: 3.95s\tremaining: 2.21s\n",
      "641:\tlearn: 0.2425689\ttotal: 3.95s\tremaining: 2.2s\n",
      "642:\tlearn: 0.2425689\ttotal: 3.96s\tremaining: 2.2s\n",
      "643:\tlearn: 0.2425689\ttotal: 3.96s\tremaining: 2.19s\n",
      "644:\tlearn: 0.2425689\ttotal: 3.97s\tremaining: 2.18s\n",
      "645:\tlearn: 0.2425689\ttotal: 3.97s\tremaining: 2.18s\n",
      "646:\tlearn: 0.2425689\ttotal: 3.98s\tremaining: 2.17s\n",
      "647:\tlearn: 0.2425689\ttotal: 3.98s\tremaining: 2.16s\n"
     ]
    },
    {
     "name": "stdout",
     "output_type": "stream",
     "text": [
      "648:\tlearn: 0.2425689\ttotal: 3.99s\tremaining: 2.16s\n",
      "649:\tlearn: 0.2425689\ttotal: 3.99s\tremaining: 2.15s\n",
      "650:\tlearn: 0.2425689\ttotal: 4s\tremaining: 2.14s\n",
      "651:\tlearn: 0.2425689\ttotal: 4.01s\tremaining: 2.14s\n",
      "652:\tlearn: 0.2425689\ttotal: 4.02s\tremaining: 2.14s\n",
      "653:\tlearn: 0.2425689\ttotal: 4.03s\tremaining: 2.13s\n",
      "654:\tlearn: 0.2425689\ttotal: 4.03s\tremaining: 2.12s\n",
      "655:\tlearn: 0.2425689\ttotal: 4.04s\tremaining: 2.12s\n",
      "656:\tlearn: 0.2425689\ttotal: 4.04s\tremaining: 2.11s\n",
      "657:\tlearn: 0.2425689\ttotal: 4.05s\tremaining: 2.1s\n",
      "658:\tlearn: 0.2425689\ttotal: 4.05s\tremaining: 2.1s\n",
      "659:\tlearn: 0.2425689\ttotal: 4.06s\tremaining: 2.09s\n",
      "660:\tlearn: 0.2425689\ttotal: 4.07s\tremaining: 2.08s\n",
      "661:\tlearn: 0.2425689\ttotal: 4.07s\tremaining: 2.08s\n",
      "662:\tlearn: 0.2425689\ttotal: 4.08s\tremaining: 2.07s\n",
      "663:\tlearn: 0.2425689\ttotal: 4.08s\tremaining: 2.06s\n",
      "664:\tlearn: 0.2425689\ttotal: 4.08s\tremaining: 2.06s\n",
      "665:\tlearn: 0.2425689\ttotal: 4.09s\tremaining: 2.05s\n",
      "666:\tlearn: 0.2425689\ttotal: 4.09s\tremaining: 2.04s\n",
      "667:\tlearn: 0.2425689\ttotal: 4.1s\tremaining: 2.04s\n",
      "668:\tlearn: 0.2425689\ttotal: 4.1s\tremaining: 2.03s\n",
      "669:\tlearn: 0.2425689\ttotal: 4.11s\tremaining: 2.02s\n",
      "670:\tlearn: 0.2425689\ttotal: 4.11s\tremaining: 2.02s\n",
      "671:\tlearn: 0.2425689\ttotal: 4.12s\tremaining: 2.01s\n",
      "672:\tlearn: 0.2425689\ttotal: 4.12s\tremaining: 2s\n",
      "673:\tlearn: 0.2425689\ttotal: 4.13s\tremaining: 2s\n",
      "674:\tlearn: 0.2425689\ttotal: 4.13s\tremaining: 1.99s\n",
      "675:\tlearn: 0.2425689\ttotal: 4.14s\tremaining: 1.98s\n",
      "676:\tlearn: 0.2425689\ttotal: 4.14s\tremaining: 1.98s\n",
      "677:\tlearn: 0.2425689\ttotal: 4.15s\tremaining: 1.97s\n",
      "678:\tlearn: 0.2425689\ttotal: 4.15s\tremaining: 1.96s\n",
      "679:\tlearn: 0.2425689\ttotal: 4.16s\tremaining: 1.96s\n",
      "680:\tlearn: 0.2425689\ttotal: 4.16s\tremaining: 1.95s\n",
      "681:\tlearn: 0.2425689\ttotal: 4.17s\tremaining: 1.94s\n",
      "682:\tlearn: 0.2425689\ttotal: 4.17s\tremaining: 1.94s\n",
      "683:\tlearn: 0.2425689\ttotal: 4.18s\tremaining: 1.93s\n",
      "684:\tlearn: 0.2425689\ttotal: 4.19s\tremaining: 1.93s\n",
      "685:\tlearn: 0.2425689\ttotal: 4.2s\tremaining: 1.92s\n",
      "686:\tlearn: 0.2425689\ttotal: 4.2s\tremaining: 1.91s\n",
      "687:\tlearn: 0.2425689\ttotal: 4.21s\tremaining: 1.91s\n",
      "688:\tlearn: 0.2425689\ttotal: 4.21s\tremaining: 1.9s\n",
      "689:\tlearn: 0.2425689\ttotal: 4.22s\tremaining: 1.9s\n",
      "690:\tlearn: 0.2425689\ttotal: 4.22s\tremaining: 1.89s\n",
      "691:\tlearn: 0.2425689\ttotal: 4.23s\tremaining: 1.88s\n",
      "692:\tlearn: 0.2425689\ttotal: 4.24s\tremaining: 1.88s\n",
      "693:\tlearn: 0.2425689\ttotal: 4.24s\tremaining: 1.87s\n",
      "694:\tlearn: 0.2425689\ttotal: 4.25s\tremaining: 1.86s\n",
      "695:\tlearn: 0.2425689\ttotal: 4.25s\tremaining: 1.86s\n",
      "696:\tlearn: 0.2425689\ttotal: 4.26s\tremaining: 1.85s\n",
      "697:\tlearn: 0.2425689\ttotal: 4.27s\tremaining: 1.84s\n",
      "698:\tlearn: 0.2425689\ttotal: 4.27s\tremaining: 1.84s\n",
      "699:\tlearn: 0.2425689\ttotal: 4.28s\tremaining: 1.83s\n",
      "700:\tlearn: 0.2425689\ttotal: 4.28s\tremaining: 1.83s\n",
      "701:\tlearn: 0.2425689\ttotal: 4.29s\tremaining: 1.82s\n",
      "702:\tlearn: 0.2425689\ttotal: 4.29s\tremaining: 1.81s\n",
      "703:\tlearn: 0.2425689\ttotal: 4.3s\tremaining: 1.81s\n",
      "704:\tlearn: 0.2425689\ttotal: 4.3s\tremaining: 1.8s\n",
      "705:\tlearn: 0.2425689\ttotal: 4.31s\tremaining: 1.79s\n",
      "706:\tlearn: 0.2425689\ttotal: 4.31s\tremaining: 1.79s\n",
      "707:\tlearn: 0.2425689\ttotal: 4.32s\tremaining: 1.78s\n",
      "708:\tlearn: 0.2425689\ttotal: 4.32s\tremaining: 1.77s\n",
      "709:\tlearn: 0.2425689\ttotal: 4.33s\tremaining: 1.77s\n",
      "710:\tlearn: 0.2425689\ttotal: 4.33s\tremaining: 1.76s\n",
      "711:\tlearn: 0.2425689\ttotal: 4.34s\tremaining: 1.75s\n",
      "712:\tlearn: 0.2425689\ttotal: 4.34s\tremaining: 1.75s\n",
      "713:\tlearn: 0.2425689\ttotal: 4.35s\tremaining: 1.74s\n",
      "714:\tlearn: 0.2425689\ttotal: 4.35s\tremaining: 1.74s\n",
      "715:\tlearn: 0.2425689\ttotal: 4.36s\tremaining: 1.73s\n",
      "716:\tlearn: 0.2425689\ttotal: 4.37s\tremaining: 1.72s\n",
      "717:\tlearn: 0.2425689\ttotal: 4.37s\tremaining: 1.72s\n",
      "718:\tlearn: 0.2425689\ttotal: 4.38s\tremaining: 1.71s\n",
      "719:\tlearn: 0.2425689\ttotal: 4.38s\tremaining: 1.7s\n",
      "720:\tlearn: 0.2425688\ttotal: 4.39s\tremaining: 1.7s\n",
      "721:\tlearn: 0.2425688\ttotal: 4.39s\tremaining: 1.69s\n",
      "722:\tlearn: 0.2425688\ttotal: 4.4s\tremaining: 1.68s\n",
      "723:\tlearn: 0.2425688\ttotal: 4.4s\tremaining: 1.68s\n",
      "724:\tlearn: 0.2425688\ttotal: 4.41s\tremaining: 1.67s\n",
      "725:\tlearn: 0.2425688\ttotal: 4.42s\tremaining: 1.67s\n",
      "726:\tlearn: 0.2425688\ttotal: 4.42s\tremaining: 1.66s\n",
      "727:\tlearn: 0.2425688\ttotal: 4.43s\tremaining: 1.65s\n",
      "728:\tlearn: 0.2425688\ttotal: 4.43s\tremaining: 1.65s\n",
      "729:\tlearn: 0.2425688\ttotal: 4.44s\tremaining: 1.64s\n",
      "730:\tlearn: 0.2425688\ttotal: 4.44s\tremaining: 1.64s\n",
      "731:\tlearn: 0.2425688\ttotal: 4.45s\tremaining: 1.63s\n",
      "732:\tlearn: 0.2425688\ttotal: 4.45s\tremaining: 1.62s\n",
      "733:\tlearn: 0.2425688\ttotal: 4.46s\tremaining: 1.62s\n",
      "734:\tlearn: 0.2425688\ttotal: 4.47s\tremaining: 1.61s\n",
      "735:\tlearn: 0.2425688\ttotal: 4.47s\tremaining: 1.6s\n",
      "736:\tlearn: 0.2425688\ttotal: 4.48s\tremaining: 1.6s\n",
      "737:\tlearn: 0.2425688\ttotal: 4.48s\tremaining: 1.59s\n",
      "738:\tlearn: 0.2425688\ttotal: 4.49s\tremaining: 1.58s\n",
      "739:\tlearn: 0.2425688\ttotal: 4.49s\tremaining: 1.58s\n",
      "740:\tlearn: 0.2425688\ttotal: 4.5s\tremaining: 1.57s\n",
      "741:\tlearn: 0.2425688\ttotal: 4.5s\tremaining: 1.56s\n",
      "742:\tlearn: 0.2425688\ttotal: 4.51s\tremaining: 1.56s\n",
      "743:\tlearn: 0.2425688\ttotal: 4.51s\tremaining: 1.55s\n",
      "744:\tlearn: 0.2425688\ttotal: 4.52s\tremaining: 1.55s\n",
      "745:\tlearn: 0.2425688\ttotal: 4.52s\tremaining: 1.54s\n",
      "746:\tlearn: 0.2425688\ttotal: 4.53s\tremaining: 1.53s\n",
      "747:\tlearn: 0.2425688\ttotal: 4.53s\tremaining: 1.53s\n",
      "748:\tlearn: 0.2425688\ttotal: 4.54s\tremaining: 1.52s\n",
      "749:\tlearn: 0.2425688\ttotal: 4.55s\tremaining: 1.51s\n",
      "750:\tlearn: 0.2425688\ttotal: 4.55s\tremaining: 1.51s\n",
      "751:\tlearn: 0.2425688\ttotal: 4.56s\tremaining: 1.5s\n",
      "752:\tlearn: 0.2425689\ttotal: 4.56s\tremaining: 1.5s\n",
      "753:\tlearn: 0.2425689\ttotal: 4.57s\tremaining: 1.49s\n",
      "754:\tlearn: 0.2425689\ttotal: 4.57s\tremaining: 1.48s\n",
      "755:\tlearn: 0.2425689\ttotal: 4.58s\tremaining: 1.48s\n",
      "756:\tlearn: 0.2425689\ttotal: 4.59s\tremaining: 1.47s\n",
      "757:\tlearn: 0.2425689\ttotal: 4.59s\tremaining: 1.47s\n",
      "758:\tlearn: 0.2425689\ttotal: 4.59s\tremaining: 1.46s\n",
      "759:\tlearn: 0.2425689\ttotal: 4.6s\tremaining: 1.45s\n",
      "760:\tlearn: 0.2425689\ttotal: 4.61s\tremaining: 1.45s\n",
      "761:\tlearn: 0.2425689\ttotal: 4.61s\tremaining: 1.44s\n",
      "762:\tlearn: 0.2425689\ttotal: 4.62s\tremaining: 1.43s\n",
      "763:\tlearn: 0.2425689\ttotal: 4.62s\tremaining: 1.43s\n",
      "764:\tlearn: 0.2425689\ttotal: 4.63s\tremaining: 1.42s\n",
      "765:\tlearn: 0.2425689\ttotal: 4.63s\tremaining: 1.42s\n",
      "766:\tlearn: 0.2425689\ttotal: 4.64s\tremaining: 1.41s\n",
      "767:\tlearn: 0.2425689\ttotal: 4.64s\tremaining: 1.4s\n",
      "768:\tlearn: 0.2425689\ttotal: 4.65s\tremaining: 1.4s\n",
      "769:\tlearn: 0.2425689\ttotal: 4.66s\tremaining: 1.39s\n",
      "770:\tlearn: 0.2425689\ttotal: 4.67s\tremaining: 1.39s\n",
      "771:\tlearn: 0.2425689\ttotal: 4.67s\tremaining: 1.38s\n",
      "772:\tlearn: 0.2425689\ttotal: 4.68s\tremaining: 1.37s\n",
      "773:\tlearn: 0.2425689\ttotal: 4.68s\tremaining: 1.37s\n",
      "774:\tlearn: 0.2425689\ttotal: 4.69s\tremaining: 1.36s\n",
      "775:\tlearn: 0.2425689\ttotal: 4.7s\tremaining: 1.36s\n",
      "776:\tlearn: 0.2425689\ttotal: 4.71s\tremaining: 1.35s\n",
      "777:\tlearn: 0.2425689\ttotal: 4.71s\tremaining: 1.34s\n",
      "778:\tlearn: 0.2425689\ttotal: 4.72s\tremaining: 1.34s\n",
      "779:\tlearn: 0.2425690\ttotal: 4.72s\tremaining: 1.33s\n",
      "780:\tlearn: 0.2425693\ttotal: 4.73s\tremaining: 1.33s\n",
      "781:\tlearn: 0.2425698\ttotal: 4.73s\tremaining: 1.32s\n",
      "782:\tlearn: 0.2425687\ttotal: 4.74s\tremaining: 1.31s\n",
      "783:\tlearn: 0.2425691\ttotal: 4.75s\tremaining: 1.31s\n",
      "784:\tlearn: 0.2425694\ttotal: 4.75s\tremaining: 1.3s\n",
      "785:\tlearn: 0.2425686\ttotal: 4.76s\tremaining: 1.29s\n",
      "786:\tlearn: 0.2425686\ttotal: 4.76s\tremaining: 1.29s\n",
      "787:\tlearn: 0.2425686\ttotal: 4.77s\tremaining: 1.28s\n",
      "788:\tlearn: 0.2425686\ttotal: 4.78s\tremaining: 1.28s\n",
      "789:\tlearn: 0.2425686\ttotal: 4.78s\tremaining: 1.27s\n",
      "790:\tlearn: 0.2425686\ttotal: 4.79s\tremaining: 1.26s\n",
      "791:\tlearn: 0.2425686\ttotal: 4.79s\tremaining: 1.26s\n",
      "792:\tlearn: 0.2425686\ttotal: 4.8s\tremaining: 1.25s\n",
      "793:\tlearn: 0.2425686\ttotal: 4.8s\tremaining: 1.25s\n",
      "794:\tlearn: 0.2425686\ttotal: 4.81s\tremaining: 1.24s\n",
      "795:\tlearn: 0.2425686\ttotal: 4.82s\tremaining: 1.23s\n",
      "796:\tlearn: 0.2425686\ttotal: 4.82s\tremaining: 1.23s\n",
      "797:\tlearn: 0.2425686\ttotal: 4.83s\tremaining: 1.22s\n",
      "798:\tlearn: 0.2425686\ttotal: 4.83s\tremaining: 1.22s\n",
      "799:\tlearn: 0.2425686\ttotal: 4.84s\tremaining: 1.21s\n",
      "800:\tlearn: 0.2425686\ttotal: 4.84s\tremaining: 1.2s\n",
      "801:\tlearn: 0.2425686\ttotal: 4.85s\tremaining: 1.2s\n",
      "802:\tlearn: 0.2425686\ttotal: 4.86s\tremaining: 1.19s\n",
      "803:\tlearn: 0.2425686\ttotal: 4.86s\tremaining: 1.19s\n",
      "804:\tlearn: 0.2425686\ttotal: 4.87s\tremaining: 1.18s\n",
      "805:\tlearn: 0.2425686\ttotal: 4.87s\tremaining: 1.17s\n",
      "806:\tlearn: 0.2425686\ttotal: 4.88s\tremaining: 1.17s\n",
      "807:\tlearn: 0.2425686\ttotal: 4.88s\tremaining: 1.16s\n",
      "808:\tlearn: 0.2425686\ttotal: 4.89s\tremaining: 1.16s\n",
      "809:\tlearn: 0.2425686\ttotal: 4.9s\tremaining: 1.15s\n",
      "810:\tlearn: 0.2425686\ttotal: 4.91s\tremaining: 1.14s\n",
      "811:\tlearn: 0.2425686\ttotal: 4.91s\tremaining: 1.14s\n",
      "812:\tlearn: 0.2425686\ttotal: 4.92s\tremaining: 1.13s\n",
      "813:\tlearn: 0.2425686\ttotal: 4.92s\tremaining: 1.12s\n",
      "814:\tlearn: 0.2425686\ttotal: 4.93s\tremaining: 1.12s\n",
      "815:\tlearn: 0.2425686\ttotal: 4.93s\tremaining: 1.11s\n",
      "816:\tlearn: 0.2425686\ttotal: 4.94s\tremaining: 1.11s\n",
      "817:\tlearn: 0.2425686\ttotal: 4.94s\tremaining: 1.1s\n",
      "818:\tlearn: 0.2425686\ttotal: 4.95s\tremaining: 1.09s\n",
      "819:\tlearn: 0.2425686\ttotal: 4.96s\tremaining: 1.09s\n",
      "820:\tlearn: 0.2425685\ttotal: 4.96s\tremaining: 1.08s\n",
      "821:\tlearn: 0.2425683\ttotal: 4.97s\tremaining: 1.08s\n"
     ]
    },
    {
     "name": "stdout",
     "output_type": "stream",
     "text": [
      "822:\tlearn: 0.2425683\ttotal: 4.99s\tremaining: 1.07s\n",
      "823:\tlearn: 0.2425683\ttotal: 4.99s\tremaining: 1.07s\n",
      "824:\tlearn: 0.2425683\ttotal: 5s\tremaining: 1.06s\n",
      "825:\tlearn: 0.2425686\ttotal: 5.01s\tremaining: 1.05s\n",
      "826:\tlearn: 0.2425686\ttotal: 5.02s\tremaining: 1.05s\n",
      "827:\tlearn: 0.2425686\ttotal: 5.03s\tremaining: 1.04s\n",
      "828:\tlearn: 0.2425686\ttotal: 5.03s\tremaining: 1.04s\n",
      "829:\tlearn: 0.2425686\ttotal: 5.04s\tremaining: 1.03s\n",
      "830:\tlearn: 0.2425686\ttotal: 5.05s\tremaining: 1.03s\n",
      "831:\tlearn: 0.2425686\ttotal: 5.05s\tremaining: 1.02s\n",
      "832:\tlearn: 0.2425686\ttotal: 5.06s\tremaining: 1.01s\n",
      "833:\tlearn: 0.2425686\ttotal: 5.07s\tremaining: 1.01s\n",
      "834:\tlearn: 0.2425686\ttotal: 5.07s\tremaining: 1s\n",
      "835:\tlearn: 0.2425686\ttotal: 5.08s\tremaining: 996ms\n",
      "836:\tlearn: 0.2425686\ttotal: 5.08s\tremaining: 990ms\n",
      "837:\tlearn: 0.2425686\ttotal: 5.09s\tremaining: 984ms\n",
      "838:\tlearn: 0.2425686\ttotal: 5.09s\tremaining: 977ms\n",
      "839:\tlearn: 0.2425686\ttotal: 5.1s\tremaining: 971ms\n",
      "840:\tlearn: 0.2425686\ttotal: 5.1s\tremaining: 965ms\n",
      "841:\tlearn: 0.2425686\ttotal: 5.11s\tremaining: 959ms\n",
      "842:\tlearn: 0.2425686\ttotal: 5.12s\tremaining: 953ms\n",
      "843:\tlearn: 0.2425686\ttotal: 5.12s\tremaining: 946ms\n",
      "844:\tlearn: 0.2425686\ttotal: 5.12s\tremaining: 940ms\n",
      "845:\tlearn: 0.2425686\ttotal: 5.13s\tremaining: 934ms\n",
      "846:\tlearn: 0.2425686\ttotal: 5.13s\tremaining: 928ms\n",
      "847:\tlearn: 0.2425689\ttotal: 5.14s\tremaining: 921ms\n",
      "848:\tlearn: 0.2425691\ttotal: 5.15s\tremaining: 916ms\n",
      "849:\tlearn: 0.2425686\ttotal: 5.15s\tremaining: 909ms\n",
      "850:\tlearn: 0.2425690\ttotal: 5.16s\tremaining: 903ms\n",
      "851:\tlearn: 0.2425684\ttotal: 5.16s\tremaining: 897ms\n",
      "852:\tlearn: 0.2425684\ttotal: 5.17s\tremaining: 891ms\n",
      "853:\tlearn: 0.2425684\ttotal: 5.17s\tremaining: 885ms\n",
      "854:\tlearn: 0.2425684\ttotal: 5.18s\tremaining: 879ms\n",
      "855:\tlearn: 0.2425684\ttotal: 5.19s\tremaining: 873ms\n",
      "856:\tlearn: 0.2425684\ttotal: 5.2s\tremaining: 867ms\n",
      "857:\tlearn: 0.2425684\ttotal: 5.21s\tremaining: 862ms\n",
      "858:\tlearn: 0.2425683\ttotal: 5.21s\tremaining: 856ms\n",
      "859:\tlearn: 0.2425686\ttotal: 5.22s\tremaining: 850ms\n",
      "860:\tlearn: 0.2425677\ttotal: 5.23s\tremaining: 844ms\n",
      "861:\tlearn: 0.2425683\ttotal: 5.23s\tremaining: 838ms\n",
      "862:\tlearn: 0.2425687\ttotal: 5.24s\tremaining: 833ms\n",
      "863:\tlearn: 0.2425678\ttotal: 5.25s\tremaining: 826ms\n",
      "864:\tlearn: 0.2425678\ttotal: 5.26s\tremaining: 820ms\n",
      "865:\tlearn: 0.2425681\ttotal: 5.26s\tremaining: 814ms\n",
      "866:\tlearn: 0.2425682\ttotal: 5.27s\tremaining: 808ms\n",
      "867:\tlearn: 0.2425673\ttotal: 5.28s\tremaining: 802ms\n",
      "868:\tlearn: 0.2425671\ttotal: 5.28s\tremaining: 796ms\n",
      "869:\tlearn: 0.2425674\ttotal: 5.29s\tremaining: 791ms\n",
      "870:\tlearn: 0.2425672\ttotal: 5.29s\tremaining: 784ms\n",
      "871:\tlearn: 0.2425674\ttotal: 5.3s\tremaining: 778ms\n",
      "872:\tlearn: 0.2425676\ttotal: 5.31s\tremaining: 772ms\n",
      "873:\tlearn: 0.2425669\ttotal: 5.31s\tremaining: 766ms\n",
      "874:\tlearn: 0.2425670\ttotal: 5.32s\tremaining: 760ms\n",
      "875:\tlearn: 0.2425669\ttotal: 5.32s\tremaining: 754ms\n",
      "876:\tlearn: 0.2425671\ttotal: 5.33s\tremaining: 747ms\n",
      "877:\tlearn: 0.2425661\ttotal: 5.33s\tremaining: 741ms\n",
      "878:\tlearn: 0.2425661\ttotal: 5.34s\tremaining: 735ms\n",
      "879:\tlearn: 0.2425661\ttotal: 5.35s\tremaining: 729ms\n",
      "880:\tlearn: 0.2425661\ttotal: 5.35s\tremaining: 723ms\n",
      "881:\tlearn: 0.2425661\ttotal: 5.36s\tremaining: 717ms\n",
      "882:\tlearn: 0.2425661\ttotal: 5.36s\tremaining: 710ms\n",
      "883:\tlearn: 0.2425666\ttotal: 5.37s\tremaining: 704ms\n",
      "884:\tlearn: 0.2425672\ttotal: 5.37s\tremaining: 698ms\n",
      "885:\tlearn: 0.2425665\ttotal: 5.38s\tremaining: 692ms\n",
      "886:\tlearn: 0.2425671\ttotal: 5.39s\tremaining: 687ms\n",
      "887:\tlearn: 0.2425660\ttotal: 5.39s\tremaining: 680ms\n",
      "888:\tlearn: 0.2425662\ttotal: 5.4s\tremaining: 674ms\n",
      "889:\tlearn: 0.2425661\ttotal: 5.41s\tremaining: 668ms\n",
      "890:\tlearn: 0.2425661\ttotal: 5.41s\tremaining: 662ms\n",
      "891:\tlearn: 0.2425662\ttotal: 5.42s\tremaining: 657ms\n",
      "892:\tlearn: 0.2425659\ttotal: 5.43s\tremaining: 651ms\n",
      "893:\tlearn: 0.2425658\ttotal: 5.44s\tremaining: 645ms\n",
      "894:\tlearn: 0.2425660\ttotal: 5.47s\tremaining: 641ms\n",
      "895:\tlearn: 0.2425660\ttotal: 5.48s\tremaining: 636ms\n",
      "896:\tlearn: 0.2425660\ttotal: 5.49s\tremaining: 630ms\n",
      "897:\tlearn: 0.2425660\ttotal: 5.49s\tremaining: 624ms\n",
      "898:\tlearn: 0.2425660\ttotal: 5.5s\tremaining: 618ms\n",
      "899:\tlearn: 0.2425660\ttotal: 5.51s\tremaining: 612ms\n",
      "900:\tlearn: 0.2425660\ttotal: 5.51s\tremaining: 606ms\n",
      "901:\tlearn: 0.2425660\ttotal: 5.52s\tremaining: 600ms\n",
      "902:\tlearn: 0.2425660\ttotal: 5.53s\tremaining: 594ms\n",
      "903:\tlearn: 0.2425660\ttotal: 5.53s\tremaining: 587ms\n",
      "904:\tlearn: 0.2425660\ttotal: 5.54s\tremaining: 581ms\n",
      "905:\tlearn: 0.2425660\ttotal: 5.54s\tremaining: 575ms\n",
      "906:\tlearn: 0.2425660\ttotal: 5.55s\tremaining: 569ms\n",
      "907:\tlearn: 0.2425660\ttotal: 5.56s\tremaining: 563ms\n",
      "908:\tlearn: 0.2425660\ttotal: 5.56s\tremaining: 557ms\n",
      "909:\tlearn: 0.2425660\ttotal: 5.57s\tremaining: 551ms\n",
      "910:\tlearn: 0.2425660\ttotal: 5.57s\tremaining: 544ms\n",
      "911:\tlearn: 0.2425660\ttotal: 5.58s\tremaining: 538ms\n",
      "912:\tlearn: 0.2425660\ttotal: 5.58s\tremaining: 532ms\n",
      "913:\tlearn: 0.2425660\ttotal: 5.59s\tremaining: 526ms\n",
      "914:\tlearn: 0.2425660\ttotal: 5.59s\tremaining: 520ms\n",
      "915:\tlearn: 0.2425660\ttotal: 5.6s\tremaining: 514ms\n",
      "916:\tlearn: 0.2425660\ttotal: 5.61s\tremaining: 507ms\n",
      "917:\tlearn: 0.2425660\ttotal: 5.61s\tremaining: 501ms\n",
      "918:\tlearn: 0.2425660\ttotal: 5.62s\tremaining: 495ms\n",
      "919:\tlearn: 0.2425660\ttotal: 5.62s\tremaining: 489ms\n",
      "920:\tlearn: 0.2425660\ttotal: 5.63s\tremaining: 483ms\n",
      "921:\tlearn: 0.2425660\ttotal: 5.63s\tremaining: 476ms\n",
      "922:\tlearn: 0.2425660\ttotal: 5.63s\tremaining: 470ms\n",
      "923:\tlearn: 0.2425660\ttotal: 5.64s\tremaining: 464ms\n",
      "924:\tlearn: 0.2425660\ttotal: 5.64s\tremaining: 458ms\n",
      "925:\tlearn: 0.2425660\ttotal: 5.65s\tremaining: 451ms\n",
      "926:\tlearn: 0.2425660\ttotal: 5.65s\tremaining: 445ms\n",
      "927:\tlearn: 0.2425660\ttotal: 5.66s\tremaining: 439ms\n",
      "928:\tlearn: 0.2425660\ttotal: 5.66s\tremaining: 433ms\n",
      "929:\tlearn: 0.2425660\ttotal: 5.67s\tremaining: 427ms\n",
      "930:\tlearn: 0.2425660\ttotal: 5.68s\tremaining: 421ms\n",
      "931:\tlearn: 0.2425660\ttotal: 5.68s\tremaining: 415ms\n",
      "932:\tlearn: 0.2425660\ttotal: 5.69s\tremaining: 408ms\n",
      "933:\tlearn: 0.2425660\ttotal: 5.69s\tremaining: 402ms\n",
      "934:\tlearn: 0.2425660\ttotal: 5.7s\tremaining: 396ms\n",
      "935:\tlearn: 0.2425660\ttotal: 5.71s\tremaining: 390ms\n",
      "936:\tlearn: 0.2425660\ttotal: 5.71s\tremaining: 384ms\n",
      "937:\tlearn: 0.2425660\ttotal: 5.72s\tremaining: 378ms\n",
      "938:\tlearn: 0.2425660\ttotal: 5.73s\tremaining: 372ms\n",
      "939:\tlearn: 0.2425660\ttotal: 5.73s\tremaining: 366ms\n",
      "940:\tlearn: 0.2425660\ttotal: 5.74s\tremaining: 360ms\n",
      "941:\tlearn: 0.2425660\ttotal: 5.75s\tremaining: 354ms\n",
      "942:\tlearn: 0.2425660\ttotal: 5.75s\tremaining: 348ms\n",
      "943:\tlearn: 0.2425660\ttotal: 5.75s\tremaining: 341ms\n",
      "944:\tlearn: 0.2425660\ttotal: 5.76s\tremaining: 335ms\n",
      "945:\tlearn: 0.2425660\ttotal: 5.76s\tremaining: 329ms\n",
      "946:\tlearn: 0.2425660\ttotal: 5.77s\tremaining: 323ms\n",
      "947:\tlearn: 0.2425660\ttotal: 5.77s\tremaining: 317ms\n",
      "948:\tlearn: 0.2425660\ttotal: 5.78s\tremaining: 311ms\n",
      "949:\tlearn: 0.2425660\ttotal: 5.78s\tremaining: 304ms\n",
      "950:\tlearn: 0.2425660\ttotal: 5.79s\tremaining: 298ms\n",
      "951:\tlearn: 0.2425660\ttotal: 5.79s\tremaining: 292ms\n",
      "952:\tlearn: 0.2425660\ttotal: 5.8s\tremaining: 286ms\n",
      "953:\tlearn: 0.2425660\ttotal: 5.81s\tremaining: 280ms\n",
      "954:\tlearn: 0.2425660\ttotal: 5.81s\tremaining: 274ms\n",
      "955:\tlearn: 0.2425660\ttotal: 5.82s\tremaining: 268ms\n",
      "956:\tlearn: 0.2425660\ttotal: 5.83s\tremaining: 262ms\n",
      "957:\tlearn: 0.2425660\ttotal: 5.83s\tremaining: 256ms\n",
      "958:\tlearn: 0.2425660\ttotal: 5.84s\tremaining: 250ms\n",
      "959:\tlearn: 0.2425660\ttotal: 5.85s\tremaining: 244ms\n",
      "960:\tlearn: 0.2425660\ttotal: 5.86s\tremaining: 238ms\n",
      "961:\tlearn: 0.2425660\ttotal: 5.86s\tremaining: 232ms\n",
      "962:\tlearn: 0.2425660\ttotal: 5.87s\tremaining: 226ms\n",
      "963:\tlearn: 0.2425660\ttotal: 5.88s\tremaining: 219ms\n",
      "964:\tlearn: 0.2425660\ttotal: 5.88s\tremaining: 213ms\n",
      "965:\tlearn: 0.2425660\ttotal: 5.89s\tremaining: 207ms\n",
      "966:\tlearn: 0.2425660\ttotal: 5.89s\tremaining: 201ms\n",
      "967:\tlearn: 0.2425660\ttotal: 5.9s\tremaining: 195ms\n",
      "968:\tlearn: 0.2425660\ttotal: 5.91s\tremaining: 189ms\n",
      "969:\tlearn: 0.2425660\ttotal: 5.91s\tremaining: 183ms\n",
      "970:\tlearn: 0.2425660\ttotal: 5.92s\tremaining: 177ms\n",
      "971:\tlearn: 0.2425660\ttotal: 5.92s\tremaining: 171ms\n",
      "972:\tlearn: 0.2425660\ttotal: 5.93s\tremaining: 165ms\n",
      "973:\tlearn: 0.2425660\ttotal: 5.94s\tremaining: 159ms\n",
      "974:\tlearn: 0.2425660\ttotal: 5.94s\tremaining: 152ms\n",
      "975:\tlearn: 0.2425660\ttotal: 5.95s\tremaining: 146ms\n",
      "976:\tlearn: 0.2425660\ttotal: 5.95s\tremaining: 140ms\n",
      "977:\tlearn: 0.2425660\ttotal: 5.96s\tremaining: 134ms\n",
      "978:\tlearn: 0.2425660\ttotal: 5.97s\tremaining: 128ms\n",
      "979:\tlearn: 0.2425660\ttotal: 5.97s\tremaining: 122ms\n"
     ]
    },
    {
     "name": "stdout",
     "output_type": "stream",
     "text": [
      "980:\tlearn: 0.2425660\ttotal: 5.98s\tremaining: 116ms\n",
      "981:\tlearn: 0.2425660\ttotal: 5.99s\tremaining: 110ms\n",
      "982:\tlearn: 0.2425660\ttotal: 6s\tremaining: 104ms\n",
      "983:\tlearn: 0.2425660\ttotal: 6.01s\tremaining: 97.7ms\n",
      "984:\tlearn: 0.2425660\ttotal: 6.01s\tremaining: 91.6ms\n",
      "985:\tlearn: 0.2425660\ttotal: 6.02s\tremaining: 85.5ms\n",
      "986:\tlearn: 0.2425660\ttotal: 6.03s\tremaining: 79.4ms\n",
      "987:\tlearn: 0.2425660\ttotal: 6.03s\tremaining: 73.3ms\n",
      "988:\tlearn: 0.2425660\ttotal: 6.04s\tremaining: 67.1ms\n",
      "989:\tlearn: 0.2425660\ttotal: 6.04s\tremaining: 61ms\n",
      "990:\tlearn: 0.2425660\ttotal: 6.05s\tremaining: 54.9ms\n",
      "991:\tlearn: 0.2425660\ttotal: 6.05s\tremaining: 48.8ms\n",
      "992:\tlearn: 0.2425660\ttotal: 6.06s\tremaining: 42.7ms\n",
      "993:\tlearn: 0.2425660\ttotal: 6.06s\tremaining: 36.6ms\n",
      "994:\tlearn: 0.2425660\ttotal: 6.07s\tremaining: 30.5ms\n",
      "995:\tlearn: 0.2425660\ttotal: 6.07s\tremaining: 24.4ms\n",
      "996:\tlearn: 0.2425660\ttotal: 6.08s\tremaining: 18.3ms\n",
      "997:\tlearn: 0.2425660\ttotal: 6.08s\tremaining: 12.2ms\n",
      "998:\tlearn: 0.2425660\ttotal: 6.09s\tremaining: 6.09ms\n",
      "999:\tlearn: 0.2425660\ttotal: 6.09s\tremaining: 0us\n",
      "Các chỉ số đánh giá mức độ hiệu quả của mô hình: \n",
      "1. Accuracy: 0.874611801242236\n",
      "2. confusion_matrix:\n",
      "[[ 789   86]\n",
      " [ 237 1464]]\n",
      "3. recall_score:  0.8606701940035273\n",
      "4. precision_score:  0.944516129032258\n",
      "5. f1_score:  0.9006459550907413\n",
      "6. Biểu đồ ROC của mô hình:\n"
     ]
    },
    {
     "name": "stderr",
     "output_type": "stream",
     "text": [
      "/home/hikaru/.local/lib/python3.8/site-packages/sklearn/utils/deprecation.py:87: FutureWarning: Function plot_roc_curve is deprecated; Function :func:`plot_roc_curve` is deprecated in 1.0 and will be removed in 1.2. Use one of the class methods: :meth:`sklearn.metric.RocCurveDisplay.from_predictions` or :meth:`sklearn.metric.RocCurveDisplay.from_estimator`.\n",
      "  warnings.warn(msg, category=FutureWarning)\n"
     ]
    },
    {
     "data": {
      "image/png": "[encoded data removed]",
      "text/plain": [
       "<Figure size 432x288 with 1 Axes>"
      ]
     },
     "metadata": {
      "needs_background": "light"
     },
     "output_type": "display_data"
    }
   ],
   "source": [
    "from catboost import CatBoostClassifier\n",
    "\n",
    "model_catboss = CatBoostClassifier(learning_rate = 0.2, depth = 8, rsm = 1)\n",
    "\n",
    "model_catboss.fit(X_train, Y_train)\n",
    "\n",
    "#Prediction\n",
    "cast_modelprediction=model_catboss.predict(X_test)\n",
    "\n",
    "evaluate_model (model_catboss, X_test, y_test, cast_modelprediction)"
   ]
  },
  {
   "cell_type": "markdown",
   "metadata": {
    "id": "7wmUTFEtj_kP"
   },
   "source": [
    "# **Deep Learning**"
   ]
  },
  {
   "cell_type": "markdown",
   "metadata": {
    "id": "_zs0Ma9tkL1P"
   },
   "source": [
    "# **ANN**"
   ]
  },
  {
   "cell_type": "code",
   "execution_count": 113,
   "metadata": {
    "id": "HrMDAMKbkLTi"
   },
   "outputs": [],
   "source": [
    "# Import the necessary libraries for ANN model\n",
    "from tensorflow.keras.models import Sequential\n",
    "from tensorflow.keras.layers import Dense"
   ]
  },
  {
   "cell_type": "code",
   "execution_count": 114,
   "metadata": {
    "id": "-CfSHt-4jv_d"
   },
   "outputs": [],
   "source": [
    "# Create a Sequential Neural Network model \n",
    "model = Sequential()\n",
    "# Create an Input and a Hidden Layer\n",
    "model.add(Dense(units=50,activation=\"relu\",kernel_initializer=\"he_uniform\"))\n",
    "# Create an Output Layer\n",
    "model.add(Dense(units=1,activation=\"sigmoid\"))\n",
    "# Now, my model is ready to compile\n",
    "model.compile(optimizer=\"adam\",loss=\"binary_crossentropy\",metrics=[\"accuracy\"])"
   ]
  },
  {
   "cell_type": "code",
   "execution_count": 115,
   "metadata": {
    "colab": {
     "base_uri": "https://localhost:8080/"
    },
    "id": "h_6Fx_4jkmfl",
    "outputId": "0354cc85-0530-49c6-d69e-a527a65da0dc"
   },
   "outputs": [
    {
     "ename": "ValueError",
     "evalue": "Data cardinality is ambiguous:\n  x sizes: 10304\n  y sizes: 9016\nMake sure all arrays contain the same number of samples.",
     "output_type": "error",
     "traceback": [
      "\u001b[0;31m---------------------------------------------------------------------------\u001b[0m",
      "\u001b[0;31mValueError\u001b[0m                                Traceback (most recent call last)",
      "Input \u001b[0;32mIn [115]\u001b[0m, in \u001b[0;36m<cell line: 1>\u001b[0;34m()\u001b[0m\n\u001b[0;32m----> 1\u001b[0m \u001b[43mmodel\u001b[49m\u001b[38;5;241;43m.\u001b[39;49m\u001b[43mfit\u001b[49m\u001b[43m(\u001b[49m\u001b[43mX_train\u001b[49m\u001b[43m,\u001b[49m\u001b[43my_train\u001b[49m\u001b[43m,\u001b[49m\u001b[43mbatch_size\u001b[49m\u001b[38;5;241;43m=\u001b[39;49m\u001b[38;5;241;43m64\u001b[39;49m\u001b[43m,\u001b[49m\u001b[43mepochs\u001b[49m\u001b[38;5;241;43m=\u001b[39;49m\u001b[38;5;241;43m100\u001b[39;49m\u001b[43m)\u001b[49m\n",
      "File \u001b[0;32m~/.local/lib/python3.8/site-packages/keras/utils/traceback_utils.py:67\u001b[0m, in \u001b[0;36mfilter_traceback.<locals>.error_handler\u001b[0;34m(*args, **kwargs)\u001b[0m\n\u001b[1;32m     65\u001b[0m \u001b[38;5;28;01mexcept\u001b[39;00m \u001b[38;5;167;01mException\u001b[39;00m \u001b[38;5;28;01mas\u001b[39;00m e:  \u001b[38;5;66;03m# pylint: disable=broad-except\u001b[39;00m\n\u001b[1;32m     66\u001b[0m   filtered_tb \u001b[38;5;241m=\u001b[39m _process_traceback_frames(e\u001b[38;5;241m.\u001b[39m__traceback__)\n\u001b[0;32m---> 67\u001b[0m   \u001b[38;5;28;01mraise\u001b[39;00m e\u001b[38;5;241m.\u001b[39mwith_traceback(filtered_tb) \u001b[38;5;28;01mfrom\u001b[39;00m \u001b[38;5;28mNone\u001b[39m\n\u001b[1;32m     68\u001b[0m \u001b[38;5;28;01mfinally\u001b[39;00m:\n\u001b[1;32m     69\u001b[0m   \u001b[38;5;28;01mdel\u001b[39;00m filtered_tb\n",
      "File \u001b[0;32m~/.local/lib/python3.8/site-packages/keras/engine/data_adapter.py:1655\u001b[0m, in \u001b[0;36m_check_data_cardinality\u001b[0;34m(data)\u001b[0m\n\u001b[1;32m   1651\u001b[0m   msg \u001b[38;5;241m+\u001b[39m\u001b[38;5;241m=\u001b[39m \u001b[38;5;124m\"\u001b[39m\u001b[38;5;124m  \u001b[39m\u001b[38;5;132;01m{}\u001b[39;00m\u001b[38;5;124m sizes: \u001b[39m\u001b[38;5;132;01m{}\u001b[39;00m\u001b[38;5;130;01m\\n\u001b[39;00m\u001b[38;5;124m\"\u001b[39m\u001b[38;5;241m.\u001b[39mformat(\n\u001b[1;32m   1652\u001b[0m       label, \u001b[38;5;124m\"\u001b[39m\u001b[38;5;124m, \u001b[39m\u001b[38;5;124m\"\u001b[39m\u001b[38;5;241m.\u001b[39mjoin(\u001b[38;5;28mstr\u001b[39m(i\u001b[38;5;241m.\u001b[39mshape[\u001b[38;5;241m0\u001b[39m])\n\u001b[1;32m   1653\u001b[0m                        \u001b[38;5;28;01mfor\u001b[39;00m i \u001b[38;5;129;01min\u001b[39;00m tf\u001b[38;5;241m.\u001b[39mnest\u001b[38;5;241m.\u001b[39mflatten(single_data)))\n\u001b[1;32m   1654\u001b[0m msg \u001b[38;5;241m+\u001b[39m\u001b[38;5;241m=\u001b[39m \u001b[38;5;124m\"\u001b[39m\u001b[38;5;124mMake sure all arrays contain the same number of samples.\u001b[39m\u001b[38;5;124m\"\u001b[39m\n\u001b[0;32m-> 1655\u001b[0m \u001b[38;5;28;01mraise\u001b[39;00m \u001b[38;5;167;01mValueError\u001b[39;00m(msg)\n",
      "\u001b[0;31mValueError\u001b[0m: Data cardinality is ambiguous:\n  x sizes: 10304\n  y sizes: 9016\nMake sure all arrays contain the same number of samples."
     ]
    }
   ],
   "source": [
    "model.fit(X_train,y_train,batch_size=64,epochs=100)"
   ]
  },
  {
   "cell_type": "code",
   "execution_count": null,
   "metadata": {
    "colab": {
     "base_uri": "https://localhost:8080/"
    },
    "id": "OUWRCvzxkbo3",
    "outputId": "3a7b0792-be3a-43ea-fe46-0e6a6df011fd"
   },
   "outputs": [],
   "source": [
    "model.summary()"
   ]
  },
  {
   "cell_type": "code",
   "execution_count": null,
   "metadata": {
    "id": "s22uutU9kf-g"
   },
   "outputs": [],
   "source": [
    "# Predict the X_test results\n",
    "y_pred = model.predict(X_test)"
   ]
  },
  {
   "cell_type": "code",
   "execution_count": null,
   "metadata": {
    "id": "Jk1SfkSwktaY"
   },
   "outputs": [],
   "source": [
    "y_pred_label = []\n",
    "for i in range(0, len(y_pred)):\n",
    "  if y_pred[i] >= 0.5:\n",
    "    y_pred_label.append(1)\n",
    "  else:\n",
    "    y_pred_label.append(0)"
   ]
  },
  {
   "cell_type": "code",
   "execution_count": null,
   "metadata": {
    "colab": {
     "base_uri": "https://localhost:8080/"
    },
    "id": "l5dNlrdXkxyo",
    "outputId": "2c28d109-ba81-4189-f88e-dce10140b4a1"
   },
   "outputs": [],
   "source": [
    "print(\"Các chỉ số đánh giá mức độ hiệu quả của mô hình: \")\n",
    "#Accuracy\n",
    "print(\"1. Accuracy:\",metrics.accuracy_score(y_pred_label,y_test))\n",
    "# confusion_matrix\n",
    "print('2. confusion_matrix:')\n",
    "print(confusion_matrix(y_pred_label,y_test))\n",
    "# recall_score\n",
    "print('3. recall_score: ', recall_score(y_pred_label,y_test))\n",
    "# precision_score\n",
    "print('4. precision_score: ', precision_score(y_pred_label,y_test))\n",
    "# f1_score\n",
    "print('5. f1_score: ', f1_score(y_pred_label,y_test))"
   ]
  },
  {
   "cell_type": "markdown",
   "metadata": {
    "id": "xUUJDz4TlZRL"
   },
   "source": [
    "# **LSTM**"
   ]
  },
  {
   "cell_type": "code",
   "execution_count": null,
   "metadata": {
    "id": "P_UGRZaJlH9C"
   },
   "outputs": [],
   "source": [
    "# Import the necessary libraries for ANN model\n",
    "from tensorflow.keras.models import Sequential\n",
    "from tensorflow.keras.layers import Dense\n",
    "from keras.callbacks import EarlyStopping\n",
    "from keras.models import Sequential\n",
    "from keras.layers import LSTM\n",
    "from keras.layers import Dense\n",
    "from keras.layers import TimeDistributed\n",
    "from keras.layers import RepeatVector\n",
    "from keras.layers import Dropout"
   ]
  },
  {
   "cell_type": "code",
   "execution_count": null,
   "metadata": {
    "id": "haJY4o2Hld-G"
   },
   "outputs": [],
   "source": [
    "regressor = Sequential()\n",
    "regressor.add(LSTM(units = 50, return_sequences = True, input_shape = (X_train.shape[1], 1)))\n",
    "regressor.add(Dropout(0.2))\n",
    "\n",
    "regressor.add(LSTM(units = 50, return_sequences = True))\n",
    "regressor.add(Dropout(0.2))\n",
    "\n",
    "regressor.add(LSTM(units = 50, return_sequences = True))\n",
    "regressor.add(Dropout(0.2))\n",
    "\n",
    "regressor.add(LSTM(units = 50))\n",
    "regressor.add(Dropout(0.2))\n",
    "regressor.add(Dense(units = 1))\n",
    "regressor.compile(optimizer = 'adam', loss = 'mean_squared_error')"
   ]
  },
  {
   "cell_type": "code",
   "execution_count": null,
   "metadata": {
    "colab": {
     "base_uri": "https://localhost:8080/"
    },
    "id": "zMYSwI3blgng",
    "outputId": "b2928d20-d38a-41f3-b83a-cf187fcf1dc4"
   },
   "outputs": [],
   "source": [
    "regressor.fit(X_train, y_train, epochs = 100, batch_size = 32)"
   ]
  },
  {
   "cell_type": "code",
   "execution_count": null,
   "metadata": {
    "colab": {
     "base_uri": "https://localhost:8080/"
    },
    "id": "RIj-W3hOljtM",
    "outputId": "86a80c39-5d39-4e87-900c-53f291a963fc"
   },
   "outputs": [],
   "source": [
    "regressor.summary()"
   ]
  },
  {
   "cell_type": "code",
   "execution_count": null,
   "metadata": {
    "id": "KlHjV3iZlmDH"
   },
   "outputs": [],
   "source": [
    "# Predict the X_test results\n",
    "y_pred = regressor.predict(X_test)"
   ]
  },
  {
   "cell_type": "code",
   "execution_count": null,
   "metadata": {
    "id": "JRYzm07ElpLn"
   },
   "outputs": [],
   "source": [
    "y_pred_label = []\n",
    "for i in range(0, len(y_pred)):\n",
    "  if y_pred[i] >= 0.5:\n",
    "    y_pred_label.append(1)\n",
    "  else:\n",
    "    y_pred_label.append(0)"
   ]
  },
  {
   "cell_type": "code",
   "execution_count": null,
   "metadata": {
    "colab": {
     "base_uri": "https://localhost:8080/"
    },
    "id": "y3MSNKCulsTy",
    "outputId": "8df4401c-c1a8-4568-cb24-2b00c5dcf67e"
   },
   "outputs": [],
   "source": [
    "print(\"Các chỉ số đánh giá mức độ hiệu quả của mô hình: \")\n",
    "#Accuracy\n",
    "print(\"1. Accuracy:\",metrics.accuracy_score(y_pred_label,y_test))\n",
    "# confusion_matrix\n",
    "print('2. confusion_matrix:')\n",
    "print(confusion_matrix(y_pred_label,y_test))\n",
    "# recall_score\n",
    "print('3. recall_score: ', recall_score(y_pred_label,y_test))\n",
    "# precision_score\n",
    "print('4. precision_score: ', precision_score(y_pred_label,y_test))\n",
    "# f1_score\n",
    "print('5. f1_score: ', f1_score(y_pred_label,y_test))"
   ]
  },
  {
   "cell_type": "markdown",
   "metadata": {
    "id": "VC0pxsaoluap"
   },
   "source": [
    "# ***Kết thúc!***"
   ]
  }
 ],
 "metadata": {
  "colab": {
   "collapsed_sections": [],
   "name": "Model_Searching.ipynb",
   "provenance": []
  },
  "interpreter": {
   "hash": "916dbcbb3f70747c44a77c7bcd40155683ae19c65e1c03b4aa3499c5328201f1"
  },
  "kernelspec": {
   "display_name": "Python 3 (ipykernel)",
   "language": "python",
   "name": "python3"
  },
  "language_info": {
   "codemirror_mode": {
    "name": "ipython",
    "version": 3
   },
   "file_extension": ".py",
   "mimetype": "text/x-python",
   "name": "python",
   "nbconvert_exporter": "python",
   "pygments_lexer": "ipython3",
   "version": "3.8.10"
  }
 },
 "nbformat": 4,
 "nbformat_minor": 1
}
