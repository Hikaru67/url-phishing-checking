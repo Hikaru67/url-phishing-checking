{
 "cells": [
  {
   "cell_type": "markdown",
   "metadata": {
    "id": "-XD2n3zO9jUT"
   },
   "source": [
    "# **Overview:**\n",
    "\n",
    "Chương trình này là tiếp nối của chương trình Part-2_Visualization.ipynb\n",
    "\n",
    "Chương trình là thử nghiệm các mô hình Machine Learning trên tập dữ liệu đã được xử lý cũng như có cái nhìn tổng quan từ 2 phần trước."
   ]
  },
  {
   "cell_type": "markdown",
   "metadata": {
    "id": "tgRCj5JR_XJS"
   },
   "source": [
    "# **6. Khai báo và cài đặt cần sử dụng**"
   ]
  },
  {
   "cell_type": "code",
   "execution_count": 84,
   "metadata": {
    "id": "nKdLs7iA_X-j"
   },
   "outputs": [],
   "source": [
    "import pandas as pd\n",
    "import seaborn as sns\n",
    "import matplotlib.pyplot as plt\n",
    "\n",
    "from sklearn.preprocessing import LabelEncoder\n",
    "from sklearn.preprocessing import StandardScaler\n",
    "from sklearn.model_selection import train_test_split\n",
    "from sklearn.datasets import load_breast_cancer\n",
    "from sklearn.metrics import confusion_matrix\n",
    "from sklearn.metrics import recall_score\n",
    "from sklearn.metrics import precision_score\n",
    "from sklearn.metrics import f1_score\n",
    "\n",
    "import xgboost as xgb\n",
    "import lightgbm as lgb\n",
    "from sklearn.svm import SVC\n",
    "from sklearn.ensemble import BaggingClassifier\n",
    "from sklearn.tree import DecisionTreeClassifier\n",
    "from sklearn.ensemble import RandomForestClassifier, ExtraTreesClassifier\n",
    "from sklearn.model_selection import RandomizedSearchCV,GridSearchCV\n",
    "from sklearn.inspection import permutation_importance\n",
    "from sklearn.model_selection import KFold\n",
    "from datetime import datetime\n",
    "import warnings"
   ]
  },
  {
   "cell_type": "code",
   "execution_count": 85,
   "metadata": {
    "id": "7Ots-XXs9_kr"
   },
   "outputs": [],
   "source": [
    "from pylab import rcParams\n",
    "\n",
    "rcParams['figure.figsize'] = 16,9"
   ]
  },
  {
   "cell_type": "markdown",
   "metadata": {
    "id": "rIpZhGyw_f3d"
   },
   "source": [
    "### **Đọc dữ liệu**"
   ]
  },
  {
   "cell_type": "code",
   "execution_count": 86,
   "metadata": {
    "colab": {
     "base_uri": "https://localhost:8080/"
    },
    "id": "D24NIgv9hI01",
    "outputId": "aff46ea6-9557-4407-ac8f-529c34cc81c7"
   },
   "outputs": [],
   "source": [
    "# from google.colab import drive\n",
    "# drive.mount('data')"
   ]
  },
  {
   "cell_type": "code",
   "execution_count": 87,
   "metadata": {
    "id": "Ocyr9vip5N0m"
   },
   "outputs": [],
   "source": [
    "df = pd.read_csv('data/newProcessed22.csv')"
   ]
  },
  {
   "cell_type": "code",
   "execution_count": 88,
   "metadata": {
    "colab": {
     "base_uri": "https://localhost:8080/",
     "height": 424
    },
    "id": "gz6T5S2VLijc",
    "outputId": "aac84d75-93fd-4d17-ac35-eabcb6d0c42b"
   },
   "outputs": [
    {
     "data": {
      "text/html": [
       "<div>\n",
       "<style scoped>\n",
       "    .dataframe tbody tr th:only-of-type {\n",
       "        vertical-align: middle;\n",
       "    }\n",
       "\n",
       "    .dataframe tbody tr th {\n",
       "        vertical-align: top;\n",
       "    }\n",
       "\n",
       "    .dataframe thead th {\n",
       "        text-align: right;\n",
       "    }\n",
       "</style>\n",
       "<table border=\"1\" class=\"dataframe\">\n",
       "  <thead>\n",
       "    <tr style=\"text-align: right;\">\n",
       "      <th></th>\n",
       "      <th>Index</th>\n",
       "      <th>Domain</th>\n",
       "      <th>Domain_Length</th>\n",
       "      <th>Subdomain_Level</th>\n",
       "      <th>Url_Length</th>\n",
       "      <th>Url_Depth</th>\n",
       "      <th>Have_At_Sign</th>\n",
       "      <th>Have_Tilde_Symbol</th>\n",
       "      <th>No_Https</th>\n",
       "      <th>Having_IP</th>\n",
       "      <th>...</th>\n",
       "      <th>DNS</th>\n",
       "      <th>Domain_Age</th>\n",
       "      <th>Domain_End</th>\n",
       "      <th>Rank_Host</th>\n",
       "      <th>Rank_Country</th>\n",
       "      <th>Iframe</th>\n",
       "      <th>Mouse_Over</th>\n",
       "      <th>Right_Click</th>\n",
       "      <th>Forwarding</th>\n",
       "      <th>Label</th>\n",
       "    </tr>\n",
       "  </thead>\n",
       "  <tbody>\n",
       "    <tr>\n",
       "      <th>0</th>\n",
       "      <td>0</td>\n",
       "      <td>google.com</td>\n",
       "      <td>10</td>\n",
       "      <td>1</td>\n",
       "      <td>43</td>\n",
       "      <td>1</td>\n",
       "      <td>0</td>\n",
       "      <td>0</td>\n",
       "      <td>0</td>\n",
       "      <td>0</td>\n",
       "      <td>...</td>\n",
       "      <td>0</td>\n",
       "      <td>0</td>\n",
       "      <td>0</td>\n",
       "      <td>1</td>\n",
       "      <td>1</td>\n",
       "      <td>0</td>\n",
       "      <td>1</td>\n",
       "      <td>0</td>\n",
       "      <td>0</td>\n",
       "      <td>0</td>\n",
       "    </tr>\n",
       "    <tr>\n",
       "      <th>1</th>\n",
       "      <td>1</td>\n",
       "      <td>google.com</td>\n",
       "      <td>10</td>\n",
       "      <td>1</td>\n",
       "      <td>36</td>\n",
       "      <td>1</td>\n",
       "      <td>0</td>\n",
       "      <td>0</td>\n",
       "      <td>0</td>\n",
       "      <td>0</td>\n",
       "      <td>...</td>\n",
       "      <td>0</td>\n",
       "      <td>0</td>\n",
       "      <td>0</td>\n",
       "      <td>1</td>\n",
       "      <td>1</td>\n",
       "      <td>0</td>\n",
       "      <td>1</td>\n",
       "      <td>0</td>\n",
       "      <td>0</td>\n",
       "      <td>0</td>\n",
       "    </tr>\n",
       "    <tr>\n",
       "      <th>2</th>\n",
       "      <td>2</td>\n",
       "      <td>google.com</td>\n",
       "      <td>10</td>\n",
       "      <td>1</td>\n",
       "      <td>41</td>\n",
       "      <td>1</td>\n",
       "      <td>0</td>\n",
       "      <td>0</td>\n",
       "      <td>0</td>\n",
       "      <td>0</td>\n",
       "      <td>...</td>\n",
       "      <td>0</td>\n",
       "      <td>0</td>\n",
       "      <td>0</td>\n",
       "      <td>1</td>\n",
       "      <td>1</td>\n",
       "      <td>0</td>\n",
       "      <td>1</td>\n",
       "      <td>0</td>\n",
       "      <td>0</td>\n",
       "      <td>0</td>\n",
       "    </tr>\n",
       "    <tr>\n",
       "      <th>3</th>\n",
       "      <td>3</td>\n",
       "      <td>bilnet.eu</td>\n",
       "      <td>9</td>\n",
       "      <td>1</td>\n",
       "      <td>16</td>\n",
       "      <td>0</td>\n",
       "      <td>0</td>\n",
       "      <td>0</td>\n",
       "      <td>1</td>\n",
       "      <td>0</td>\n",
       "      <td>...</td>\n",
       "      <td>0</td>\n",
       "      <td>1</td>\n",
       "      <td>1</td>\n",
       "      <td>1</td>\n",
       "      <td>1</td>\n",
       "      <td>0</td>\n",
       "      <td>0</td>\n",
       "      <td>0</td>\n",
       "      <td>1</td>\n",
       "      <td>0</td>\n",
       "    </tr>\n",
       "    <tr>\n",
       "      <th>4</th>\n",
       "      <td>4</td>\n",
       "      <td>bil-privatebanking.eu</td>\n",
       "      <td>21</td>\n",
       "      <td>1</td>\n",
       "      <td>28</td>\n",
       "      <td>0</td>\n",
       "      <td>0</td>\n",
       "      <td>0</td>\n",
       "      <td>1</td>\n",
       "      <td>0</td>\n",
       "      <td>...</td>\n",
       "      <td>0</td>\n",
       "      <td>1</td>\n",
       "      <td>1</td>\n",
       "      <td>1</td>\n",
       "      <td>1</td>\n",
       "      <td>0</td>\n",
       "      <td>0</td>\n",
       "      <td>0</td>\n",
       "      <td>1</td>\n",
       "      <td>0</td>\n",
       "    </tr>\n",
       "    <tr>\n",
       "      <th>...</th>\n",
       "      <td>...</td>\n",
       "      <td>...</td>\n",
       "      <td>...</td>\n",
       "      <td>...</td>\n",
       "      <td>...</td>\n",
       "      <td>...</td>\n",
       "      <td>...</td>\n",
       "      <td>...</td>\n",
       "      <td>...</td>\n",
       "      <td>...</td>\n",
       "      <td>...</td>\n",
       "      <td>...</td>\n",
       "      <td>...</td>\n",
       "      <td>...</td>\n",
       "      <td>...</td>\n",
       "      <td>...</td>\n",
       "      <td>...</td>\n",
       "      <td>...</td>\n",
       "      <td>...</td>\n",
       "      <td>...</td>\n",
       "      <td>...</td>\n",
       "    </tr>\n",
       "    <tr>\n",
       "      <th>13041</th>\n",
       "      <td>13041</td>\n",
       "      <td>formbuddy.com</td>\n",
       "      <td>13</td>\n",
       "      <td>1</td>\n",
       "      <td>56</td>\n",
       "      <td>2</td>\n",
       "      <td>0</td>\n",
       "      <td>0</td>\n",
       "      <td>1</td>\n",
       "      <td>0</td>\n",
       "      <td>...</td>\n",
       "      <td>0</td>\n",
       "      <td>0</td>\n",
       "      <td>0</td>\n",
       "      <td>1</td>\n",
       "      <td>1</td>\n",
       "      <td>0</td>\n",
       "      <td>0</td>\n",
       "      <td>0</td>\n",
       "      <td>0</td>\n",
       "      <td>1</td>\n",
       "    </tr>\n",
       "    <tr>\n",
       "      <th>13042</th>\n",
       "      <td>13042</td>\n",
       "      <td>formbuddy.com</td>\n",
       "      <td>13</td>\n",
       "      <td>1</td>\n",
       "      <td>61</td>\n",
       "      <td>2</td>\n",
       "      <td>0</td>\n",
       "      <td>0</td>\n",
       "      <td>1</td>\n",
       "      <td>0</td>\n",
       "      <td>...</td>\n",
       "      <td>0</td>\n",
       "      <td>0</td>\n",
       "      <td>0</td>\n",
       "      <td>1</td>\n",
       "      <td>1</td>\n",
       "      <td>0</td>\n",
       "      <td>0</td>\n",
       "      <td>0</td>\n",
       "      <td>0</td>\n",
       "      <td>1</td>\n",
       "    </tr>\n",
       "    <tr>\n",
       "      <th>13043</th>\n",
       "      <td>13043</td>\n",
       "      <td>habbocreditosparati.blogspot.com</td>\n",
       "      <td>32</td>\n",
       "      <td>1</td>\n",
       "      <td>44</td>\n",
       "      <td>0</td>\n",
       "      <td>0</td>\n",
       "      <td>0</td>\n",
       "      <td>1</td>\n",
       "      <td>0</td>\n",
       "      <td>...</td>\n",
       "      <td>1</td>\n",
       "      <td>1</td>\n",
       "      <td>1</td>\n",
       "      <td>1</td>\n",
       "      <td>1</td>\n",
       "      <td>0</td>\n",
       "      <td>0</td>\n",
       "      <td>0</td>\n",
       "      <td>0</td>\n",
       "      <td>1</td>\n",
       "    </tr>\n",
       "    <tr>\n",
       "      <th>13044</th>\n",
       "      <td>13044</td>\n",
       "      <td>creditiperhabbogratissicuro100.blogspot.com</td>\n",
       "      <td>43</td>\n",
       "      <td>1</td>\n",
       "      <td>95</td>\n",
       "      <td>3</td>\n",
       "      <td>0</td>\n",
       "      <td>0</td>\n",
       "      <td>1</td>\n",
       "      <td>0</td>\n",
       "      <td>...</td>\n",
       "      <td>1</td>\n",
       "      <td>1</td>\n",
       "      <td>1</td>\n",
       "      <td>1</td>\n",
       "      <td>1</td>\n",
       "      <td>0</td>\n",
       "      <td>0</td>\n",
       "      <td>0</td>\n",
       "      <td>0</td>\n",
       "      <td>1</td>\n",
       "    </tr>\n",
       "    <tr>\n",
       "      <th>13045</th>\n",
       "      <td>13045</td>\n",
       "      <td>aijcs.blogspot.com</td>\n",
       "      <td>18</td>\n",
       "      <td>1</td>\n",
       "      <td>60</td>\n",
       "      <td>3</td>\n",
       "      <td>0</td>\n",
       "      <td>0</td>\n",
       "      <td>1</td>\n",
       "      <td>0</td>\n",
       "      <td>...</td>\n",
       "      <td>1</td>\n",
       "      <td>1</td>\n",
       "      <td>1</td>\n",
       "      <td>1</td>\n",
       "      <td>1</td>\n",
       "      <td>0</td>\n",
       "      <td>0</td>\n",
       "      <td>0</td>\n",
       "      <td>0</td>\n",
       "      <td>1</td>\n",
       "    </tr>\n",
       "  </tbody>\n",
       "</table>\n",
       "<p>13046 rows × 39 columns</p>\n",
       "</div>"
      ],
      "text/plain": [
       "       Index                                       Domain  Domain_Length  \\\n",
       "0          0                                   google.com             10   \n",
       "1          1                                   google.com             10   \n",
       "2          2                                   google.com             10   \n",
       "3          3                                    bilnet.eu              9   \n",
       "4          4                        bil-privatebanking.eu             21   \n",
       "...      ...                                          ...            ...   \n",
       "13041  13041                                formbuddy.com             13   \n",
       "13042  13042                                formbuddy.com             13   \n",
       "13043  13043             habbocreditosparati.blogspot.com             32   \n",
       "13044  13044  creditiperhabbogratissicuro100.blogspot.com             43   \n",
       "13045  13045                           aijcs.blogspot.com             18   \n",
       "\n",
       "       Subdomain_Level  Url_Length  Url_Depth  Have_At_Sign  \\\n",
       "0                    1          43          1             0   \n",
       "1                    1          36          1             0   \n",
       "2                    1          41          1             0   \n",
       "3                    1          16          0             0   \n",
       "4                    1          28          0             0   \n",
       "...                ...         ...        ...           ...   \n",
       "13041                1          56          2             0   \n",
       "13042                1          61          2             0   \n",
       "13043                1          44          0             0   \n",
       "13044                1          95          3             0   \n",
       "13045                1          60          3             0   \n",
       "\n",
       "       Have_Tilde_Symbol  No_Https  Having_IP  ...  DNS  Domain_Age  \\\n",
       "0                      0         0          0  ...    0           0   \n",
       "1                      0         0          0  ...    0           0   \n",
       "2                      0         0          0  ...    0           0   \n",
       "3                      0         1          0  ...    0           1   \n",
       "4                      0         1          0  ...    0           1   \n",
       "...                  ...       ...        ...  ...  ...         ...   \n",
       "13041                  0         1          0  ...    0           0   \n",
       "13042                  0         1          0  ...    0           0   \n",
       "13043                  0         1          0  ...    1           1   \n",
       "13044                  0         1          0  ...    1           1   \n",
       "13045                  0         1          0  ...    1           1   \n",
       "\n",
       "       Domain_End  Rank_Host  Rank_Country  Iframe  Mouse_Over  Right_Click  \\\n",
       "0               0          1             1       0           1            0   \n",
       "1               0          1             1       0           1            0   \n",
       "2               0          1             1       0           1            0   \n",
       "3               1          1             1       0           0            0   \n",
       "4               1          1             1       0           0            0   \n",
       "...           ...        ...           ...     ...         ...          ...   \n",
       "13041           0          1             1       0           0            0   \n",
       "13042           0          1             1       0           0            0   \n",
       "13043           1          1             1       0           0            0   \n",
       "13044           1          1             1       0           0            0   \n",
       "13045           1          1             1       0           0            0   \n",
       "\n",
       "       Forwarding  Label  \n",
       "0               0      0  \n",
       "1               0      0  \n",
       "2               0      0  \n",
       "3               1      0  \n",
       "4               1      0  \n",
       "...           ...    ...  \n",
       "13041           0      1  \n",
       "13042           0      1  \n",
       "13043           0      1  \n",
       "13044           0      1  \n",
       "13045           0      1  \n",
       "\n",
       "[13046 rows x 39 columns]"
      ]
     },
     "execution_count": 88,
     "metadata": {},
     "output_type": "execute_result"
    }
   ],
   "source": [
    "df"
   ]
  },
  {
   "cell_type": "markdown",
   "metadata": {
    "id": "Dxi_EEFcM0d9"
   },
   "source": [
    "**Kiểm tra độ quan trọng của đăc trưng (feature important)**"
   ]
  },
  {
   "cell_type": "code",
   "execution_count": 89,
   "metadata": {
    "colab": {
     "base_uri": "https://localhost:8080/"
    },
    "id": "3W3-QIMUK7vX",
    "outputId": "c295dcf0-d17f-458d-d68d-a29d7b9dfbde"
   },
   "outputs": [
    {
     "data": {
      "text/plain": [
       "Index(['Index', 'Domain', 'Domain_Length', 'Subdomain_Level', 'Url_Length',\n",
       "       'Url_Depth', 'Have_At_Sign', 'Have_Tilde_Symbol', 'No_Https',\n",
       "       'Having_IP', 'Domain_In_Subdomains', 'Domain_In_Paths',\n",
       "       'Http_In_Hostname', 'Double_Slash_In_Path', 'Num_Dots',\n",
       "       'Num_Dashes_In_Hostname', 'Num_Underscore', 'Num_Percent',\n",
       "       'Num_Query_Components', 'Num_Ampersand', 'Num_Hash',\n",
       "       'Num_Numeric_Chars', 'Path_Length', 'Query_Length',\n",
       "       'Num_Sensitive_Words', 'Ext_Favicon', 'Redirection', 'Tiny_URL',\n",
       "       'Prefix_Suffix', 'DNS', 'Domain_Age', 'Domain_End', 'Rank_Host',\n",
       "       'Rank_Country', 'Iframe', 'Mouse_Over', 'Right_Click', 'Forwarding',\n",
       "       'Label'],\n",
       "      dtype='object')"
      ]
     },
     "execution_count": 89,
     "metadata": {},
     "output_type": "execute_result"
    }
   ],
   "source": [
    "df.columns"
   ]
  },
  {
   "cell_type": "code",
   "execution_count": 90,
   "metadata": {
    "id": "aMX4P9l3K_Am"
   },
   "outputs": [],
   "source": [
    "features = ['Domain_Length', 'Subdomain_Level', 'Have_At_Sign', 'Have_Tilde_Symbol', 'No_Https', 'Having_IP', 'Domain_In_Subdomains', 'Domain_In_Paths', 'Http_In_Hostname', 'Double_Slash_In_Path', 'Num_Dots', 'Num_Dashes_In_Hostname', 'Num_Underscore', 'Num_Percent', 'Num_Query_Components', 'Num_Ampersand', 'Num_Hash', 'Num_Numeric_Chars', 'Path_Length', 'Query_Length', 'Num_Sensitive_Words', 'Ext_Favicon', 'Redirection', 'Tiny_URL', 'Prefix_Suffix', 'DNS', 'Domain_Age', 'Domain_End', 'Rank_Host', 'Rank_Country', 'Iframe', 'Mouse_Over', 'Right_Click', 'Forwarding']"
   ]
  },
  {
   "cell_type": "markdown",
   "metadata": {},
   "source": []
  },
  {
   "cell_type": "code",
   "execution_count": 91,
   "metadata": {
    "id": "yv-gjIRYNEOC"
   },
   "outputs": [],
   "source": [
    "X = df[features]\n",
    "y = df['Label']"
   ]
  },
  {
   "cell_type": "code",
   "execution_count": 92,
   "metadata": {
    "id": "61IBCJ_pIWYr"
   },
   "outputs": [],
   "source": [
    "X_train, X_test, y_train, y_test = train_test_split(X, y, test_size=0.2, random_state=42)"
   ]
  },
  {
   "cell_type": "code",
   "execution_count": 93,
   "metadata": {
    "colab": {
     "base_uri": "https://localhost:8080/"
    },
    "id": "DWdnFFbuIjDv",
    "outputId": "ca3ec27d-e2bb-43f0-8789-b35cefe83a23"
   },
   "outputs": [
    {
     "data": {
      "text/html": [
       "<style>#sk-container-id-3 {color: black;background-color: white;}#sk-container-id-3 pre{padding: 0;}#sk-container-id-3 div.sk-toggleable {background-color: white;}#sk-container-id-3 label.sk-toggleable__label {cursor: pointer;display: block;width: 100%;margin-bottom: 0;padding: 0.3em;box-sizing: border-box;text-align: center;}#sk-container-id-3 label.sk-toggleable__label-arrow:before {content: \"▸\";float: left;margin-right: 0.25em;color: #696969;}#sk-container-id-3 label.sk-toggleable__label-arrow:hover:before {color: black;}#sk-container-id-3 div.sk-estimator:hover label.sk-toggleable__label-arrow:before {color: black;}#sk-container-id-3 div.sk-toggleable__content {max-height: 0;max-width: 0;overflow: hidden;text-align: left;background-color: #f0f8ff;}#sk-container-id-3 div.sk-toggleable__content pre {margin: 0.2em;color: black;border-radius: 0.25em;background-color: #f0f8ff;}#sk-container-id-3 input.sk-toggleable__control:checked~div.sk-toggleable__content {max-height: 200px;max-width: 100%;overflow: auto;}#sk-container-id-3 input.sk-toggleable__control:checked~label.sk-toggleable__label-arrow:before {content: \"▾\";}#sk-container-id-3 div.sk-estimator input.sk-toggleable__control:checked~label.sk-toggleable__label {background-color: #d4ebff;}#sk-container-id-3 div.sk-label input.sk-toggleable__control:checked~label.sk-toggleable__label {background-color: #d4ebff;}#sk-container-id-3 input.sk-hidden--visually {border: 0;clip: rect(1px 1px 1px 1px);clip: rect(1px, 1px, 1px, 1px);height: 1px;margin: -1px;overflow: hidden;padding: 0;position: absolute;width: 1px;}#sk-container-id-3 div.sk-estimator {font-family: monospace;background-color: #f0f8ff;border: 1px dotted black;border-radius: 0.25em;box-sizing: border-box;margin-bottom: 0.5em;}#sk-container-id-3 div.sk-estimator:hover {background-color: #d4ebff;}#sk-container-id-3 div.sk-parallel-item::after {content: \"\";width: 100%;border-bottom: 1px solid gray;flex-grow: 1;}#sk-container-id-3 div.sk-label:hover label.sk-toggleable__label {background-color: #d4ebff;}#sk-container-id-3 div.sk-serial::before {content: \"\";position: absolute;border-left: 1px solid gray;box-sizing: border-box;top: 0;bottom: 0;left: 50%;z-index: 0;}#sk-container-id-3 div.sk-serial {display: flex;flex-direction: column;align-items: center;background-color: white;padding-right: 0.2em;padding-left: 0.2em;position: relative;}#sk-container-id-3 div.sk-item {position: relative;z-index: 1;}#sk-container-id-3 div.sk-parallel {display: flex;align-items: stretch;justify-content: center;background-color: white;position: relative;}#sk-container-id-3 div.sk-item::before, #sk-container-id-3 div.sk-parallel-item::before {content: \"\";position: absolute;border-left: 1px solid gray;box-sizing: border-box;top: 0;bottom: 0;left: 50%;z-index: -1;}#sk-container-id-3 div.sk-parallel-item {display: flex;flex-direction: column;z-index: 1;position: relative;background-color: white;}#sk-container-id-3 div.sk-parallel-item:first-child::after {align-self: flex-end;width: 50%;}#sk-container-id-3 div.sk-parallel-item:last-child::after {align-self: flex-start;width: 50%;}#sk-container-id-3 div.sk-parallel-item:only-child::after {width: 0;}#sk-container-id-3 div.sk-dashed-wrapped {border: 1px dashed gray;margin: 0 0.4em 0.5em 0.4em;box-sizing: border-box;padding-bottom: 0.4em;background-color: white;}#sk-container-id-3 div.sk-label label {font-family: monospace;font-weight: bold;display: inline-block;line-height: 1.2em;}#sk-container-id-3 div.sk-label-container {text-align: center;}#sk-container-id-3 div.sk-container {/* jupyter's `normalize.less` sets `[hidden] { display: none; }` but bootstrap.min.css set `[hidden] { display: none !important; }` so we also need the `!important` here to be able to override the default hidden behavior on the sphinx rendered scikit-learn.org. See: https://github.com/scikit-learn/scikit-learn/issues/21755 */display: inline-block !important;position: relative;}#sk-container-id-3 div.sk-text-repr-fallback {display: none;}</style><div id=\"sk-container-id-3\" class=\"sk-top-container\"><div class=\"sk-text-repr-fallback\"><pre>RandomForestRegressor()</pre><b>In a Jupyter environment, please rerun this cell to show the HTML representation or trust the notebook. <br />On GitHub, the HTML representation is unable to render, please try loading this page with nbviewer.org.</b></div><div class=\"sk-container\" hidden><div class=\"sk-item\"><div class=\"sk-estimator sk-toggleable\"><input class=\"sk-toggleable__control sk-hidden--visually\" id=\"sk-estimator-id-3\" type=\"checkbox\" checked><label for=\"sk-estimator-id-3\" class=\"sk-toggleable__label sk-toggleable__label-arrow\">RandomForestRegressor</label><div class=\"sk-toggleable__content\"><pre>RandomForestRegressor()</pre></div></div></div></div></div>"
      ],
      "text/plain": [
       "RandomForestRegressor()"
      ]
     },
     "execution_count": 93,
     "metadata": {},
     "output_type": "execute_result"
    }
   ],
   "source": [
    "from sklearn.ensemble import RandomForestRegressor\n",
    "from catboost import CatBoostClassifier\n",
    "rf = RandomForestRegressor(n_estimators=100)\n",
    "rf.fit(X_train, y_train)"
   ]
  },
  {
   "cell_type": "code",
   "execution_count": 94,
   "metadata": {
    "colab": {
     "base_uri": "https://localhost:8080/"
    },
    "id": "1fmC4y4eI1VI",
    "outputId": "68bec4ca-6ab9-4690-faca-16f7dfaa60cb"
   },
   "outputs": [
    {
     "data": {
      "text/plain": [
       "array([2.32712679e-01, 0.00000000e+00, 1.43306440e-02, 1.10479330e-03,\n",
       "       3.28844547e-02, 2.19913679e-04, 2.66736004e-02, 6.66121589e-04,\n",
       "       1.41539312e-07, 7.99448047e-04, 5.99240922e-02, 3.32610558e-02,\n",
       "       1.66116357e-02, 5.25889185e-03, 5.85178190e-03, 5.92287349e-03,\n",
       "       5.77168390e-03, 8.74476049e-02, 1.84727195e-01, 8.46140155e-02,\n",
       "       1.68123484e-02, 0.00000000e+00, 4.93814176e-03, 1.79496940e-02,\n",
       "       2.56979307e-02, 8.86965610e-03, 2.71173758e-02, 3.56819859e-02,\n",
       "       2.23438174e-02, 3.72643658e-03, 9.03691864e-03, 7.05012848e-03,\n",
       "       1.04217396e-02, 1.15711998e-02])"
      ]
     },
     "execution_count": 94,
     "metadata": {},
     "output_type": "execute_result"
    }
   ],
   "source": [
    "rf.feature_importances_"
   ]
  },
  {
   "cell_type": "code",
   "execution_count": 95,
   "metadata": {
    "colab": {
     "base_uri": "https://localhost:8080/",
     "height": 554
    },
    "id": "IQVZxEreI3KH",
    "outputId": "a0f200cb-790a-454f-d7bf-bd4ea0485a60"
   },
   "outputs": [
    {
     "data": {
      "text/plain": [
       "<BarContainer object of 34 artists>"
      ]
     },
     "execution_count": 95,
     "metadata": {},
     "output_type": "execute_result"
    },
    {
     "data": {
      "image/png": "[encoded data removed]",
      "text/plain": [
       "<Figure size 1152x648 with 1 Axes>"
      ]
     },
     "metadata": {
      "needs_background": "light"
     },
     "output_type": "display_data"
    }
   ],
   "source": [
    "plt.barh(features, rf.feature_importances_)"
   ]
  },
  {
   "cell_type": "markdown",
   "metadata": {
    "id": "KtuTlVylLp3I"
   },
   "source": [
    "# **7. Huấn luyện mô hình - Classification**"
   ]
  },
  {
   "cell_type": "markdown",
   "metadata": {
    "id": "EbL1nMOY3okR"
   },
   "source": [
    "**Split dataset**"
   ]
  },
  {
   "cell_type": "code",
   "execution_count": 96,
   "metadata": {
    "id": "saGRfI7GikQM"
   },
   "outputs": [],
   "source": [
    "Y = y"
   ]
  },
  {
   "cell_type": "code",
   "execution_count": 97,
   "metadata": {
    "id": "NRbIflUoQjzr"
   },
   "outputs": [],
   "source": [
    "from sklearn.model_selection import train_test_split"
   ]
  },
  {
   "cell_type": "code",
   "execution_count": 98,
   "metadata": {
    "id": "wAPp5Qa23w15"
   },
   "outputs": [],
   "source": [
    "X_train,X_test,Y_train,y_test=train_test_split(X,Y,test_size=0.2,random_state=42)"
   ]
  },
  {
   "cell_type": "code",
   "execution_count": 99,
   "metadata": {
    "colab": {
     "base_uri": "https://localhost:8080/"
    },
    "id": "KtRwVSMyMQtu",
    "outputId": "62456ea7-9d92-4860-9375-4667700ed71c"
   },
   "outputs": [
    {
     "name": "stdout",
     "output_type": "stream",
     "text": [
      "Kích thước tập huấn luyện:  (10436, 34) (10436,)\n",
      "Kích thước tập kiểm tra:  (2610, 34) (2610,)\n"
     ]
    }
   ],
   "source": [
    "print('Kích thước tập huấn luyện: ', X_train.shape, Y_train.shape)\n",
    "print('Kích thước tập kiểm tra: ', X_test.shape, y_test.shape)"
   ]
  },
  {
   "cell_type": "code",
   "execution_count": 100,
   "metadata": {
    "id": "FGjZf5lpKJBb"
   },
   "outputs": [],
   "source": [
    "# Hàm tính độ chính xác, ma trận nhầm lẫn, Recall, precision, f1 score và vẽ đồ thị ROC\n",
    "from sklearn import metrics\n",
    "from sklearn.model_selection import cross_val_score\n",
    "\n",
    "def evaluate_model(model, X_test, y_test, y_prediction):\n",
    "    print(\"Các chỉ số đánh giá mức độ hiệu quả của mô hình: \")\n",
    "    #Accuracy\n",
    "    print(\"1. Accuracy:\",metrics.accuracy_score(y_prediction,y_test))\n",
    "    # confusion_matrix\n",
    "    print('2. confusion_matrix:')\n",
    "    confusionMatrix = confusion_matrix(y_prediction,y_test)\n",
    "    print(confusionMatrix)\n",
    "    fig, ax = plt.subplots(figsize=(7.5, 7.5))\n",
    "    ax.matshow(confusionMatrix, cmap=plt.cm.Blues, alpha=0.3)\n",
    "    for i in range(confusionMatrix.shape[0]):\n",
    "        for j in range(confusionMatrix.shape[1]):\n",
    "            ax.text(x=j, y=i,s=confusionMatrix[i, j], va='center', ha='center', size='xx-large')\n",
    "    plt.xlabel('Predictions', fontsize=18)\n",
    "    plt.ylabel('Actuals', fontsize=18)\n",
    "    plt.title('Confusion Matrix', fontsize=18)\n",
    "    plt.show()\n",
    "    # recall_score\n",
    "    print('3. recall_score: ', recall_score(y_prediction,y_test))\n",
    "    # precision_score\n",
    "    print('4. precision_score: ', precision_score(y_prediction,y_test))\n",
    "    # f1_score\n",
    "    print('5. f1_score: ', f1_score(y_prediction,y_test))\n",
    "    # ROC plot\n",
    "    print('6. Biểu đồ ROC của mô hình:')\n",
    "    metrics.plot_roc_curve(model, X_test, y_test)\n",
    "    plt.show()"
   ]
  },
  {
   "cell_type": "markdown",
   "metadata": {
    "id": "hwZEX4dN4vJb"
   },
   "source": [
    "**Logistic Regression**"
   ]
  },
  {
   "cell_type": "code",
   "execution_count": 101,
   "metadata": {
    "colab": {
     "base_uri": "https://localhost:8080/",
     "height": 901
    },
    "id": "qWvT8xzX4_Q8",
    "outputId": "b458b8ee-9f48-436b-d252-248f0b807a68",
    "scrolled": true
   },
   "outputs": [],
   "source": [
    "# #Given smote, we have to do a little adjustment\n",
    "# from sklearn.linear_model import LogisticRegression\n",
    "# from sklearn.model_selection import cross_val_score\n",
    "\n",
    "# logreg = LogisticRegression(fit_intercept=True, penalty='l2')\n",
    "# logreg.fit(X_train, Y_train)\n",
    "\n",
    "# logregprediction=logreg.predict(X_test)\n",
    "\n",
    "# evaluate_model (logreg, X_test, y_test, logregprediction)"
   ]
  },
  {
   "cell_type": "markdown",
   "metadata": {
    "id": "Ee6TlsOgqMAI"
   },
   "source": [
    "**Linear Discriminant Analysis**"
   ]
  },
  {
   "cell_type": "code",
   "execution_count": 102,
   "metadata": {
    "colab": {
     "base_uri": "https://localhost:8080/",
     "height": 762
    },
    "id": "wsnY-aN3Bykd",
    "outputId": "e0b7ac5c-dcdf-41c4-e08b-4c935683b7c0"
   },
   "outputs": [],
   "source": [
    "# from sklearn.discriminant_analysis import LinearDiscriminantAnalysis\n",
    "# lda = LinearDiscriminantAnalysis()\n",
    "# lda.fit(X_train, Y_train)\n",
    "\n",
    "# lda_prediction=lda.predict(X_test)\n",
    "\n",
    "# evaluate_model (lda, X_test, y_test, lda_prediction)"
   ]
  },
  {
   "cell_type": "markdown",
   "metadata": {
    "id": "iXusnunQqbS2"
   },
   "source": [
    "**Gaussian Naive Bayes**"
   ]
  },
  {
   "cell_type": "code",
   "execution_count": 103,
   "metadata": {
    "colab": {
     "base_uri": "https://localhost:8080/",
     "height": 762
    },
    "id": "BlwsFZL-qOor",
    "outputId": "7a5f75b9-8b6f-41df-ce0e-8a8f2777677a"
   },
   "outputs": [],
   "source": [
    "# from sklearn.naive_bayes import GaussianNB\n",
    "# gnb = GaussianNB()\n",
    "# gnb.fit(X_train, Y_train)\n",
    "\n",
    "# gnbprediction=gnb.predict(X_test)\n",
    "\n",
    "# evaluate_model (gnb, X_test, y_test, gnbprediction)"
   ]
  },
  {
   "cell_type": "markdown",
   "metadata": {
    "id": "EgyS0v2nqzZo"
   },
   "source": [
    "**Decision Tree Classifier**"
   ]
  },
  {
   "cell_type": "code",
   "execution_count": 104,
   "metadata": {
    "colab": {
     "base_uri": "https://localhost:8080/",
     "height": 762
    },
    "id": "AiJpm4jAqrHy",
    "outputId": "0ff48e17-ceec-49cf-ab9a-d4de737041e6"
   },
   "outputs": [
    {
     "name": "stdout",
     "output_type": "stream",
     "text": [
      "Các chỉ số đánh giá mức độ hiệu quả của mô hình: \n",
      "1. Accuracy: 0.8045977011494253\n",
      "2. confusion_matrix:\n",
      "[[1034  296]\n",
      " [ 214 1066]]\n"
     ]
    },
    {
     "data": {
      "image/png": "[encoded data removed]",
      "text/plain": [
       "<Figure size 540x540 with 1 Axes>"
      ]
     },
     "metadata": {
      "needs_background": "light"
     },
     "output_type": "display_data"
    },
    {
     "name": "stdout",
     "output_type": "stream",
     "text": [
      "3. recall_score:  0.8328125\n",
      "4. precision_score:  0.7826725403817915\n",
      "5. f1_score:  0.8069644208932627\n",
      "6. Biểu đồ ROC của mô hình:\n"
     ]
    },
    {
     "name": "stderr",
     "output_type": "stream",
     "text": [
      "C:\\Users\\Administrator\\AppData\\Local\\Programs\\Python\\Python310\\lib\\site-packages\\sklearn\\utils\\deprecation.py:87: FutureWarning: Function plot_roc_curve is deprecated; Function :func:`plot_roc_curve` is deprecated in 1.0 and will be removed in 1.2. Use one of the class methods: :meth:`sklearn.metric.RocCurveDisplay.from_predictions` or :meth:`sklearn.metric.RocCurveDisplay.from_estimator`.\n",
      "  warnings.warn(msg, category=FutureWarning)\n"
     ]
    },
    {
     "data": {
      "image/png": "[encoded data removed]",
      "text/plain": [
       "<Figure size 1152x648 with 1 Axes>"
      ]
     },
     "metadata": {
      "needs_background": "light"
     },
     "output_type": "display_data"
    }
   ],
   "source": [
    "from sklearn.tree import DecisionTreeClassifier\n",
    "\n",
    "dtc= DecisionTreeClassifier(random_state=72)\n",
    "dtc.fit(X_train,Y_train)\n",
    "\n",
    "dtcprediction=dtc.predict(X_test)\n",
    "\n",
    "evaluate_model (dtc, X_test, y_test, dtcprediction)\n"
   ]
  },
  {
   "cell_type": "markdown",
   "metadata": {
    "id": "Yw0tgBQYrDk3"
   },
   "source": [
    "**Random Forest Classifier**"
   ]
  },
  {
   "cell_type": "code",
   "execution_count": 105,
   "metadata": {
    "colab": {
     "base_uri": "https://localhost:8080/",
     "height": 762
    },
    "id": "OUTcjv1Cq3Ff",
    "outputId": "2a0c3258-f9ea-4f34-bba4-07c6e6a4592f"
   },
   "outputs": [
    {
     "name": "stdout",
     "output_type": "stream",
     "text": [
      "Các chỉ số đánh giá mức độ hiệu quả của mô hình: \n",
      "1. Accuracy: 0.8371647509578544\n",
      "2. confusion_matrix:\n",
      "[[1066  243]\n",
      " [ 182 1119]]\n"
     ]
    },
    {
     "data": {
      "image/png": "[encoded data removed]",
      "text/plain": [
       "<Figure size 540x540 with 1 Axes>"
      ]
     },
     "metadata": {
      "needs_background": "light"
     },
     "output_type": "display_data"
    },
    {
     "name": "stdout",
     "output_type": "stream",
     "text": [
      "3. recall_score:  0.8601076095311299\n",
      "4. precision_score:  0.8215859030837004\n",
      "5. f1_score:  0.8404055576417574\n",
      "6. Biểu đồ ROC của mô hình:\n"
     ]
    },
    {
     "name": "stderr",
     "output_type": "stream",
     "text": [
      "C:\\Users\\Administrator\\AppData\\Local\\Programs\\Python\\Python310\\lib\\site-packages\\sklearn\\utils\\deprecation.py:87: FutureWarning: Function plot_roc_curve is deprecated; Function :func:`plot_roc_curve` is deprecated in 1.0 and will be removed in 1.2. Use one of the class methods: :meth:`sklearn.metric.RocCurveDisplay.from_predictions` or :meth:`sklearn.metric.RocCurveDisplay.from_estimator`.\n",
      "  warnings.warn(msg, category=FutureWarning)\n"
     ]
    },
    {
     "data": {
      "image/png": "[encoded data removed]",
      "text/plain": [
       "<Figure size 1152x648 with 1 Axes>"
      ]
     },
     "metadata": {
      "needs_background": "light"
     },
     "output_type": "display_data"
    }
   ],
   "source": [
    "from sklearn.ensemble import RandomForestClassifier\n",
    "\n",
    "rfc=RandomForestClassifier(n_jobs=-1,random_state=43)\n",
    "#learning\n",
    "rfc.fit(X_train,Y_train)\n",
    "#Prediction\n",
    "rfcprediction=rfc.predict(X_test)\n",
    "\n",
    "evaluate_model (rfc, X_test, y_test, rfcprediction)\n"
   ]
  },
  {
   "cell_type": "markdown",
   "metadata": {
    "id": "Lrsi70oirRzh"
   },
   "source": [
    "**SVM Classifier**"
   ]
  },
  {
   "cell_type": "code",
   "execution_count": 106,
   "metadata": {
    "colab": {
     "base_uri": "https://localhost:8080/",
     "height": 762
    },
    "id": "Jw3weoEjrOA-",
    "outputId": "c29927ac-a7a8-4eff-8b49-13583316438b"
   },
   "outputs": [],
   "source": [
    "# from sklearn import svm\n",
    "# #making the instance\n",
    "# svc = svm.SVC(random_state=123)\n",
    "# #learning\n",
    "# svc.fit(X_train,Y_train)\n",
    "# #Prediction\n",
    "# svcprediction=svc.predict(X_test)\n",
    "\n",
    "# evaluate_model (svc, X_test, y_test, svcprediction)"
   ]
  },
  {
   "cell_type": "markdown",
   "metadata": {
    "id": "fQx_zcFCrcHJ"
   },
   "source": [
    "**K-NearestNeighbours Classifier**"
   ]
  },
  {
   "cell_type": "code",
   "execution_count": 107,
   "metadata": {
    "colab": {
     "base_uri": "https://localhost:8080/",
     "height": 762
    },
    "id": "mowRL2N5rXxt",
    "outputId": "13c3f6a9-7d8e-48e4-d9ee-f1e5b875a90f"
   },
   "outputs": [],
   "source": [
    "# from sklearn.neighbors import KNeighborsClassifier\n",
    "# #making the instance\n",
    "# knn = KNeighborsClassifier()\n",
    "# #learning\n",
    "# knn.fit(X_train,Y_train)\n",
    "# #Prediction\n",
    "# knnprediction=knn.predict(X_test)\n",
    "\n",
    "# evaluate_model (knn, X_test, y_test, knnprediction)"
   ]
  },
  {
   "cell_type": "markdown",
   "metadata": {
    "id": "uzixDQHKuCZ1"
   },
   "source": [
    "**Ada Boost**"
   ]
  },
  {
   "cell_type": "code",
   "execution_count": 108,
   "metadata": {
    "colab": {
     "base_uri": "https://localhost:8080/",
     "height": 762
    },
    "id": "PzHkDqlKrkC8",
    "outputId": "237473e5-86e7-4248-b653-943cf217cbb9"
   },
   "outputs": [],
   "source": [
    "# from sklearn.ensemble import AdaBoostClassifier\n",
    "\n",
    "# ada_model = AdaBoostClassifier(n_estimators=200, random_state=44)\n",
    "\n",
    "# #learning\n",
    "# ada_model.fit(X_train,Y_train)\n",
    "# #Prediction\n",
    "# ada_modelprediction=ada_model.predict(X_test)\n",
    "\n",
    "# evaluate_model (ada_model, X_test, y_test, ada_modelprediction)"
   ]
  },
  {
   "cell_type": "markdown",
   "metadata": {
    "id": "76xn-4l8ukYZ"
   },
   "source": [
    "**XGB Classifier**"
   ]
  },
  {
   "cell_type": "code",
   "execution_count": 109,
   "metadata": {
    "colab": {
     "base_uri": "https://localhost:8080/",
     "height": 762
    },
    "id": "V6Trgh2Jupi4",
    "outputId": "d54b63f8-09c0-4863-ab7b-3b17ee6fac30",
    "scrolled": true
   },
   "outputs": [
    {
     "name": "stdout",
     "output_type": "stream",
     "text": [
      "Các chỉ số đánh giá mức độ hiệu quả của mô hình: \n",
      "1. Accuracy: 0.8329501915708812\n",
      "2. confusion_matrix:\n",
      "[[1062  250]\n",
      " [ 186 1112]]\n"
     ]
    },
    {
     "data": {
      "image/png": "[encoded data removed]",
      "text/plain": [
       "<Figure size 540x540 with 1 Axes>"
      ]
     },
     "metadata": {
      "needs_background": "light"
     },
     "output_type": "display_data"
    },
    {
     "name": "stdout",
     "output_type": "stream",
     "text": [
      "3. recall_score:  0.8567026194144838\n",
      "4. precision_score:  0.8164464023494861\n",
      "5. f1_score:  0.8360902255639098\n",
      "6. Biểu đồ ROC của mô hình:\n"
     ]
    },
    {
     "name": "stderr",
     "output_type": "stream",
     "text": [
      "C:\\Users\\Administrator\\AppData\\Local\\Programs\\Python\\Python310\\lib\\site-packages\\sklearn\\utils\\deprecation.py:87: FutureWarning: Function plot_roc_curve is deprecated; Function :func:`plot_roc_curve` is deprecated in 1.0 and will be removed in 1.2. Use one of the class methods: :meth:`sklearn.metric.RocCurveDisplay.from_predictions` or :meth:`sklearn.metric.RocCurveDisplay.from_estimator`.\n",
      "  warnings.warn(msg, category=FutureWarning)\n"
     ]
    },
    {
     "data": {
      "image/png": "[encoded data removed]",
      "text/plain": [
       "<Figure size 1152x648 with 1 Axes>"
      ]
     },
     "metadata": {
      "needs_background": "light"
     },
     "output_type": "display_data"
    }
   ],
   "source": [
    "from xgboost import XGBClassifier\n",
    "\n",
    "XGB_1 = XGBClassifier(objective='binary:logistic',scale_pos_weight=1,n_estimators=85, eta=0.3, subsample=1, colsample_bytree=1)\n",
    "\n",
    "#learning\n",
    "XGB_1.fit(X_train,Y_train)\n",
    "#Prediction\n",
    "XGB_modelprediction=XGB_1.predict(X_test)\n",
    "\n",
    "evaluate_model (XGB_1, X_test, y_test, XGB_modelprediction)"
   ]
  },
  {
   "cell_type": "markdown",
   "metadata": {
    "id": "1NMfpUOli4jn"
   },
   "source": [
    "**XGB Classifier Ver_2**"
   ]
  },
  {
   "cell_type": "code",
   "execution_count": 110,
   "metadata": {
    "colab": {
     "base_uri": "https://localhost:8080/",
     "height": 762
    },
    "id": "pbDiEglLi4PM",
    "outputId": "aad68a53-813b-405f-fa3e-26809438d357"
   },
   "outputs": [
    {
     "name": "stdout",
     "output_type": "stream",
     "text": [
      "Các chỉ số đánh giá mức độ hiệu quả của mô hình: \n",
      "1. Accuracy: 0.831800766283525\n",
      "2. confusion_matrix:\n",
      "[[1063  254]\n",
      " [ 185 1108]]\n"
     ]
    },
    {
     "data": {
      "image/png": "[encoded data removed]",
      "text/plain": [
       "<Figure size 540x540 with 1 Axes>"
      ]
     },
     "metadata": {
      "needs_background": "light"
     },
     "output_type": "display_data"
    },
    {
     "name": "stdout",
     "output_type": "stream",
     "text": [
      "3. recall_score:  0.8569218870843001\n",
      "4. precision_score:  0.8135095447870778\n",
      "5. f1_score:  0.8346516007532956\n",
      "6. Biểu đồ ROC của mô hình:\n"
     ]
    },
    {
     "name": "stderr",
     "output_type": "stream",
     "text": [
      "C:\\Users\\Administrator\\AppData\\Local\\Programs\\Python\\Python310\\lib\\site-packages\\sklearn\\utils\\deprecation.py:87: FutureWarning: Function plot_roc_curve is deprecated; Function :func:`plot_roc_curve` is deprecated in 1.0 and will be removed in 1.2. Use one of the class methods: :meth:`sklearn.metric.RocCurveDisplay.from_predictions` or :meth:`sklearn.metric.RocCurveDisplay.from_estimator`.\n",
      "  warnings.warn(msg, category=FutureWarning)\n"
     ]
    },
    {
     "data": {
      "image/png": "[encoded data removed]",
      "text/plain": [
       "<Figure size 1152x648 with 1 Axes>"
      ]
     },
     "metadata": {
      "needs_background": "light"
     },
     "output_type": "display_data"
    }
   ],
   "source": [
    "xgb_2 = XGBClassifier(learning_rate=0.4,max_depth=7)\n",
    "#learning\n",
    "xgb_2.fit(X_train,Y_train)\n",
    "#Prediction\n",
    "xgb_2_modelprediction_v2=xgb_2.predict(X_test)\n",
    "\n",
    "evaluate_model (xgb_2, X_test, y_test, xgb_2_modelprediction_v2)"
   ]
  },
  {
   "cell_type": "code",
   "execution_count": 111,
   "metadata": {
    "colab": {
     "base_uri": "https://localhost:8080/",
     "height": 762
    },
    "id": "9Ce6k-h-kbHj",
    "outputId": "f2ad2091-0856-4fd1-84ca-e89993592f57"
   },
   "outputs": [
    {
     "name": "stdout",
     "output_type": "stream",
     "text": [
      "Các chỉ số đánh giá mức độ hiệu quả của mô hình: \n",
      "1. Accuracy: 0.831800766283525\n",
      "2. confusion_matrix:\n",
      "[[1063  254]\n",
      " [ 185 1108]]\n"
     ]
    },
    {
     "data": {
      "image/png": "[encoded data removed]",
      "text/plain": [
       "<Figure size 540x540 with 1 Axes>"
      ]
     },
     "metadata": {
      "needs_background": "light"
     },
     "output_type": "display_data"
    },
    {
     "name": "stdout",
     "output_type": "stream",
     "text": [
      "3. recall_score:  0.8569218870843001\n",
      "4. precision_score:  0.8135095447870778\n",
      "5. f1_score:  0.8346516007532956\n",
      "6. Biểu đồ ROC của mô hình:\n"
     ]
    },
    {
     "name": "stderr",
     "output_type": "stream",
     "text": [
      "C:\\Users\\Administrator\\AppData\\Local\\Programs\\Python\\Python310\\lib\\site-packages\\sklearn\\utils\\deprecation.py:87: FutureWarning: Function plot_roc_curve is deprecated; Function :func:`plot_roc_curve` is deprecated in 1.0 and will be removed in 1.2. Use one of the class methods: :meth:`sklearn.metric.RocCurveDisplay.from_predictions` or :meth:`sklearn.metric.RocCurveDisplay.from_estimator`.\n",
      "  warnings.warn(msg, category=FutureWarning)\n"
     ]
    },
    {
     "data": {
      "image/png": "[encoded data removed]",
      "text/plain": [
       "<Figure size 1152x648 with 1 Axes>"
      ]
     },
     "metadata": {
      "needs_background": "light"
     },
     "output_type": "display_data"
    }
   ],
   "source": [
    "from xgboost import XGBClassifier\n",
    "\n",
    "# instantiate the model\n",
    "xgb_3 = XGBClassifier(learning_rate=0.4,max_depth=7)\n",
    "#fit the model\n",
    "xgb_3.fit(X_train, Y_train)\n",
    "\n",
    "#predicting the target value from the model for the samples\n",
    "y_test_xgb = xgb_3.predict(X_test)\n",
    "\n",
    "evaluate_model (xgb_3, X_test, y_test, y_test_xgb)"
   ]
  },
  {
   "cell_type": "markdown",
   "metadata": {
    "id": "yOWlC_Elcekj"
   },
   "source": [
    "**Light GBM**"
   ]
  },
  {
   "cell_type": "code",
   "execution_count": 112,
   "metadata": {
    "colab": {
     "base_uri": "https://localhost:8080/",
     "height": 762
    },
    "id": "u2IIPoRKcoWF",
    "outputId": "e5d2012a-daeb-467c-d298-6da2fb8242f8"
   },
   "outputs": [],
   "source": [
    "# from lightgbm import LGBMClassifier\n",
    "\n",
    "# lgbm_clf = LGBMClassifier(n_estimators=1000, objective='binary',\n",
    "#                           class_weight={0:25, 1:1}, learning_rate=0.01,\n",
    "#                           boosting_type='dart')\n",
    "# lgbm_clf.fit(X_train, Y_train)\n",
    "\n",
    "# #Prediction\n",
    "# LGBM_modelprediction=lgbm_clf.predict(X_test)\n",
    "\n",
    "# evaluate_model (lgbm_clf, X_test, y_test, LGBM_modelprediction)"
   ]
  },
  {
   "cell_type": "markdown",
   "metadata": {
    "id": "npv91YsHcrwE"
   },
   "source": [
    "**Voting Classifier**"
   ]
  },
  {
   "cell_type": "code",
   "execution_count": 113,
   "metadata": {
    "colab": {
     "base_uri": "https://localhost:8080/",
     "height": 762
    },
    "id": "6qF_0VMlcyWC",
    "outputId": "7491daa2-2508-4722-9973-af0318d7c9ed"
   },
   "outputs": [
    {
     "name": "stdout",
     "output_type": "stream",
     "text": [
      "Các chỉ số đánh giá mức độ hiệu quả của mô hình: \n",
      "1. Accuracy: 0.8360153256704981\n",
      "2. confusion_matrix:\n",
      "[[1102  282]\n",
      " [ 146 1080]]\n"
     ]
    },
    {
     "data": {
      "image/png": "[encoded data removed]",
      "text/plain": [
       "<Figure size 540x540 with 1 Axes>"
      ]
     },
     "metadata": {
      "needs_background": "light"
     },
     "output_type": "display_data"
    },
    {
     "name": "stdout",
     "output_type": "stream",
     "text": [
      "3. recall_score:  0.8809135399673735\n",
      "4. precision_score:  0.7929515418502202\n",
      "5. f1_score:  0.8346213292117465\n",
      "6. Biểu đồ ROC của mô hình:\n"
     ]
    },
    {
     "name": "stderr",
     "output_type": "stream",
     "text": [
      "C:\\Users\\Administrator\\AppData\\Local\\Programs\\Python\\Python310\\lib\\site-packages\\sklearn\\utils\\deprecation.py:87: FutureWarning: Function plot_roc_curve is deprecated; Function :func:`plot_roc_curve` is deprecated in 1.0 and will be removed in 1.2. Use one of the class methods: :meth:`sklearn.metric.RocCurveDisplay.from_predictions` or :meth:`sklearn.metric.RocCurveDisplay.from_estimator`.\n",
      "  warnings.warn(msg, category=FutureWarning)\n"
     ]
    },
    {
     "data": {
      "image/png": "[encoded data removed]",
      "text/plain": [
       "<Figure size 1152x648 with 1 Axes>"
      ]
     },
     "metadata": {
      "needs_background": "light"
     },
     "output_type": "display_data"
    }
   ],
   "source": [
    "from sklearn.ensemble import RandomForestClassifier, GradientBoostingClassifier, \\\n",
    "    ExtraTreesClassifier, VotingClassifier\n",
    "\n",
    "clf1 = RandomForestClassifier(n_estimators=200, class_weight={0: 100, 1: 1})\n",
    "clf2 = GradientBoostingClassifier(n_estimators=1000, max_depth=7)\n",
    "clf3 = ExtraTreesClassifier(n_estimators=1000, class_weight={0: 100, 1: 1})\n",
    "clf4 = XGBClassifier(n_estimators=1000, max_depth=5, learning_rate=0.01)\n",
    "pos_clf = VotingClassifier(estimators=[('pos', clf1), ('gb', clf2),\n",
    "                                        ('et', clf3), ('xgb', clf4)],\n",
    "                            voting='soft',\n",
    "                            weights=[1, 2, 1, 1])\n",
    "\n",
    "pos_clf.fit(X_train, Y_train)\n",
    "\n",
    "#Prediction\n",
    "Vot_modelprediction=pos_clf.predict(X_test)\n",
    "\n",
    "evaluate_model (pos_clf, X_test, y_test, Vot_modelprediction)"
   ]
  },
  {
   "cell_type": "markdown",
   "metadata": {
    "id": "7P5B0NqfH1gX"
   },
   "source": [
    "**Gradient Boosting Classifier**"
   ]
  },
  {
   "cell_type": "code",
   "execution_count": 114,
   "metadata": {
    "colab": {
     "base_uri": "https://localhost:8080/",
     "height": 762
    },
    "id": "Lc9ipfP1JODI",
    "outputId": "1a188f66-806c-41fd-afe4-aa40976466bc"
   },
   "outputs": [
    {
     "name": "stdout",
     "output_type": "stream",
     "text": [
      "Các chỉ số đánh giá mức độ hiệu quả của mô hình: \n",
      "1. Accuracy: 0.8337164750957854\n",
      "2. confusion_matrix:\n",
      "[[1056  242]\n",
      " [ 192 1120]]\n"
     ]
    },
    {
     "data": {
      "image/png": "[encoded data removed]",
      "text/plain": [
       "<Figure size 540x540 with 1 Axes>"
      ]
     },
     "metadata": {
      "needs_background": "light"
     },
     "output_type": "display_data"
    },
    {
     "name": "stdout",
     "output_type": "stream",
     "text": [
      "3. recall_score:  0.8536585365853658\n",
      "4. precision_score:  0.8223201174743024\n",
      "5. f1_score:  0.8376963350785339\n",
      "6. Biểu đồ ROC của mô hình:\n"
     ]
    },
    {
     "name": "stderr",
     "output_type": "stream",
     "text": [
      "C:\\Users\\Administrator\\AppData\\Local\\Programs\\Python\\Python310\\lib\\site-packages\\sklearn\\utils\\deprecation.py:87: FutureWarning: Function plot_roc_curve is deprecated; Function :func:`plot_roc_curve` is deprecated in 1.0 and will be removed in 1.2. Use one of the class methods: :meth:`sklearn.metric.RocCurveDisplay.from_predictions` or :meth:`sklearn.metric.RocCurveDisplay.from_estimator`.\n",
      "  warnings.warn(msg, category=FutureWarning)\n"
     ]
    },
    {
     "data": {
      "image/png": "[encoded data removed]",
      "text/plain": [
       "<Figure size 1152x648 with 1 Axes>"
      ]
     },
     "metadata": {
      "needs_background": "light"
     },
     "output_type": "display_data"
    }
   ],
   "source": [
    "from sklearn.ensemble import RandomForestClassifier, GradientBoostingClassifier, \\\n",
    "    ExtraTreesClassifier, VotingClassifier\n",
    "\n",
    "GBoost = GradientBoostingClassifier(n_estimators=1000, max_depth=7)\n",
    "\n",
    "\n",
    "GBoost.fit(X_train, Y_train)\n",
    "\n",
    "#Prediction\n",
    "GBoost_modelprediction=GBoost.predict(X_test)\n",
    "\n",
    "evaluate_model (GBoost, X_test, y_test, GBoost_modelprediction)"
   ]
  },
  {
   "cell_type": "markdown",
   "metadata": {
    "id": "un9ItsRtJdtU"
   },
   "source": [
    "**Extra Trees Classifier**"
   ]
  },
  {
   "cell_type": "code",
   "execution_count": 115,
   "metadata": {
    "colab": {
     "base_uri": "https://localhost:8080/",
     "height": 762
    },
    "id": "r0eqRymXJi-F",
    "outputId": "e79aa58b-5290-47d1-99c0-b73d5b38305f"
   },
   "outputs": [
    {
     "name": "stdout",
     "output_type": "stream",
     "text": [
      "Các chỉ số đánh giá mức độ hiệu quả của mô hình: \n",
      "1. Accuracy: 0.8180076628352491\n",
      "2. confusion_matrix:\n",
      "[[1098  325]\n",
      " [ 150 1037]]\n"
     ]
    },
    {
     "data": {
      "image/png": "[encoded data removed]",
      "text/plain": [
       "<Figure size 540x540 with 1 Axes>"
      ]
     },
     "metadata": {
      "needs_background": "light"
     },
     "output_type": "display_data"
    },
    {
     "name": "stdout",
     "output_type": "stream",
     "text": [
      "3. recall_score:  0.8736310025273799\n",
      "4. precision_score:  0.7613803230543319\n",
      "5. f1_score:  0.813652412710867\n",
      "6. Biểu đồ ROC của mô hình:\n"
     ]
    },
    {
     "name": "stderr",
     "output_type": "stream",
     "text": [
      "C:\\Users\\Administrator\\AppData\\Local\\Programs\\Python\\Python310\\lib\\site-packages\\sklearn\\utils\\deprecation.py:87: FutureWarning: Function plot_roc_curve is deprecated; Function :func:`plot_roc_curve` is deprecated in 1.0 and will be removed in 1.2. Use one of the class methods: :meth:`sklearn.metric.RocCurveDisplay.from_predictions` or :meth:`sklearn.metric.RocCurveDisplay.from_estimator`.\n",
      "  warnings.warn(msg, category=FutureWarning)\n"
     ]
    },
    {
     "data": {
      "image/png": "[encoded data removed]",
      "text/plain": [
       "<Figure size 1152x648 with 1 Axes>"
      ]
     },
     "metadata": {
      "needs_background": "light"
     },
     "output_type": "display_data"
    }
   ],
   "source": [
    "from sklearn.ensemble import RandomForestClassifier, GradientBoostingClassifier, \\\n",
    "    ExtraTreesClassifier, VotingClassifier\n",
    "\n",
    "Extra = ExtraTreesClassifier(n_estimators=1000, class_weight={0: 100, 1: 1})\n",
    "\n",
    "\n",
    "Extra.fit(X_train, Y_train)\n",
    "\n",
    "#Prediction\n",
    "Extra_modelprediction=Extra.predict(X_test)\n",
    "\n",
    "evaluate_model (Extra, X_test, y_test, Extra_modelprediction)"
   ]
  },
  {
   "cell_type": "markdown",
   "metadata": {
    "id": "2xEo4ztNjPLn"
   },
   "source": [
    "**Cat Boosting**"
   ]
  },
  {
   "cell_type": "code",
   "execution_count": 116,
   "metadata": {
    "colab": {
     "base_uri": "https://localhost:8080/"
    },
    "id": "IrxhKhWaj0QS",
    "outputId": "51f2ae41-6358-4e54-9475-f02eba0b8cae"
   },
   "outputs": [],
   "source": [
    "# pip install catboost"
   ]
  },
  {
   "cell_type": "code",
   "execution_count": 117,
   "metadata": {
    "colab": {
     "base_uri": "https://localhost:8080/",
     "height": 1000
    },
    "id": "mIpk6t8Bjh9U",
    "outputId": "65f8e370-c13d-49da-9f93-fa9bbca72d97"
   },
   "outputs": [
    {
     "name": "stdout",
     "output_type": "stream",
     "text": [
      "0:\tlearn: 0.6613562\ttotal: 17ms\tremaining: 17s\n",
      "1:\tlearn: 0.6337067\ttotal: 40.6ms\tremaining: 20.3s\n",
      "2:\tlearn: 0.6163864\ttotal: 64ms\tremaining: 21.3s\n",
      "3:\tlearn: 0.5989057\ttotal: 85.9ms\tremaining: 21.4s\n",
      "4:\tlearn: 0.5831416\ttotal: 106ms\tremaining: 21.2s\n",
      "5:\tlearn: 0.5692779\ttotal: 139ms\tremaining: 23.1s\n",
      "6:\tlearn: 0.5554844\ttotal: 160ms\tremaining: 22.7s\n",
      "7:\tlearn: 0.5465455\ttotal: 184ms\tremaining: 22.8s\n",
      "8:\tlearn: 0.5372219\ttotal: 206ms\tremaining: 22.7s\n",
      "9:\tlearn: 0.5270038\ttotal: 231ms\tremaining: 22.8s\n",
      "10:\tlearn: 0.5212862\ttotal: 251ms\tremaining: 22.6s\n",
      "11:\tlearn: 0.5149138\ttotal: 271ms\tremaining: 22.3s\n",
      "12:\tlearn: 0.5086872\ttotal: 294ms\tremaining: 22.3s\n",
      "13:\tlearn: 0.5039034\ttotal: 314ms\tremaining: 22.1s\n",
      "14:\tlearn: 0.4988641\ttotal: 345ms\tremaining: 22.7s\n",
      "15:\tlearn: 0.4940374\ttotal: 370ms\tremaining: 22.8s\n",
      "16:\tlearn: 0.4907496\ttotal: 395ms\tremaining: 22.8s\n",
      "17:\tlearn: 0.4841206\ttotal: 422ms\tremaining: 23s\n",
      "18:\tlearn: 0.4790956\ttotal: 456ms\tremaining: 23.6s\n",
      "19:\tlearn: 0.4727099\ttotal: 484ms\tremaining: 23.7s\n",
      "20:\tlearn: 0.4658988\ttotal: 508ms\tremaining: 23.7s\n",
      "21:\tlearn: 0.4606546\ttotal: 533ms\tremaining: 23.7s\n",
      "22:\tlearn: 0.4565327\ttotal: 560ms\tremaining: 23.8s\n",
      "23:\tlearn: 0.4540033\ttotal: 626ms\tremaining: 25.5s\n",
      "24:\tlearn: 0.4504264\ttotal: 656ms\tremaining: 25.6s\n",
      "25:\tlearn: 0.4489098\ttotal: 688ms\tremaining: 25.8s\n",
      "26:\tlearn: 0.4467058\ttotal: 738ms\tremaining: 26.6s\n",
      "27:\tlearn: 0.4432399\ttotal: 813ms\tremaining: 28.2s\n",
      "28:\tlearn: 0.4396525\ttotal: 847ms\tremaining: 28.4s\n",
      "29:\tlearn: 0.4379781\ttotal: 881ms\tremaining: 28.5s\n",
      "30:\tlearn: 0.4354347\ttotal: 913ms\tremaining: 28.5s\n",
      "31:\tlearn: 0.4322716\ttotal: 952ms\tremaining: 28.8s\n",
      "32:\tlearn: 0.4285768\ttotal: 997ms\tremaining: 29.2s\n",
      "33:\tlearn: 0.4271157\ttotal: 1.04s\tremaining: 29.5s\n",
      "34:\tlearn: 0.4253206\ttotal: 1.09s\tremaining: 30.1s\n",
      "35:\tlearn: 0.4221672\ttotal: 1.14s\tremaining: 30.5s\n",
      "36:\tlearn: 0.4206691\ttotal: 1.18s\tremaining: 30.6s\n",
      "37:\tlearn: 0.4205576\ttotal: 1.2s\tremaining: 30.3s\n",
      "38:\tlearn: 0.4192213\ttotal: 1.23s\tremaining: 30.2s\n",
      "39:\tlearn: 0.4173092\ttotal: 1.26s\tremaining: 30.2s\n",
      "40:\tlearn: 0.4148096\ttotal: 1.29s\tremaining: 30.2s\n",
      "41:\tlearn: 0.4127885\ttotal: 1.32s\tremaining: 30.1s\n",
      "42:\tlearn: 0.4101280\ttotal: 1.35s\tremaining: 30s\n",
      "43:\tlearn: 0.4090247\ttotal: 1.37s\tremaining: 29.8s\n",
      "44:\tlearn: 0.4078407\ttotal: 1.4s\tremaining: 29.7s\n",
      "45:\tlearn: 0.4053344\ttotal: 1.44s\tremaining: 29.8s\n",
      "46:\tlearn: 0.4036899\ttotal: 1.47s\tremaining: 29.8s\n",
      "47:\tlearn: 0.4023311\ttotal: 1.5s\tremaining: 29.7s\n",
      "48:\tlearn: 0.4013653\ttotal: 1.52s\tremaining: 29.6s\n",
      "49:\tlearn: 0.3997713\ttotal: 1.55s\tremaining: 29.5s\n",
      "50:\tlearn: 0.3994999\ttotal: 1.57s\tremaining: 29.3s\n",
      "51:\tlearn: 0.3991805\ttotal: 1.6s\tremaining: 29.2s\n",
      "52:\tlearn: 0.3982144\ttotal: 1.63s\tremaining: 29.1s\n",
      "53:\tlearn: 0.3953665\ttotal: 1.66s\tremaining: 29s\n",
      "54:\tlearn: 0.3932525\ttotal: 1.68s\tremaining: 28.9s\n",
      "55:\tlearn: 0.3912491\ttotal: 1.72s\tremaining: 28.9s\n",
      "56:\tlearn: 0.3902959\ttotal: 1.75s\tremaining: 29s\n",
      "57:\tlearn: 0.3887399\ttotal: 1.78s\tremaining: 28.9s\n",
      "58:\tlearn: 0.3881339\ttotal: 1.8s\tremaining: 28.8s\n",
      "59:\tlearn: 0.3874592\ttotal: 1.83s\tremaining: 28.8s\n",
      "60:\tlearn: 0.3864926\ttotal: 1.87s\tremaining: 28.8s\n",
      "61:\tlearn: 0.3857181\ttotal: 1.9s\tremaining: 28.8s\n",
      "62:\tlearn: 0.3836987\ttotal: 1.93s\tremaining: 28.7s\n",
      "63:\tlearn: 0.3827214\ttotal: 1.96s\tremaining: 28.7s\n",
      "64:\tlearn: 0.3811861\ttotal: 1.99s\tremaining: 28.6s\n",
      "65:\tlearn: 0.3805881\ttotal: 2.02s\tremaining: 28.6s\n",
      "66:\tlearn: 0.3801908\ttotal: 2.06s\tremaining: 28.7s\n",
      "67:\tlearn: 0.3796750\ttotal: 2.08s\tremaining: 28.6s\n",
      "68:\tlearn: 0.3787202\ttotal: 2.13s\tremaining: 28.7s\n",
      "69:\tlearn: 0.3783260\ttotal: 2.17s\tremaining: 28.9s\n",
      "70:\tlearn: 0.3775689\ttotal: 2.21s\tremaining: 28.9s\n",
      "71:\tlearn: 0.3773476\ttotal: 2.26s\tremaining: 29.1s\n",
      "72:\tlearn: 0.3764119\ttotal: 2.29s\tremaining: 29.1s\n",
      "73:\tlearn: 0.3762690\ttotal: 2.31s\tremaining: 29s\n",
      "74:\tlearn: 0.3751955\ttotal: 2.35s\tremaining: 29s\n",
      "75:\tlearn: 0.3732176\ttotal: 2.38s\tremaining: 28.9s\n",
      "76:\tlearn: 0.3726729\ttotal: 2.41s\tremaining: 28.9s\n",
      "77:\tlearn: 0.3725262\ttotal: 2.46s\tremaining: 29.1s\n",
      "78:\tlearn: 0.3719824\ttotal: 2.49s\tremaining: 29s\n",
      "79:\tlearn: 0.3715613\ttotal: 2.52s\tremaining: 29s\n",
      "80:\tlearn: 0.3714774\ttotal: 2.56s\tremaining: 29s\n",
      "81:\tlearn: 0.3698582\ttotal: 2.6s\tremaining: 29.2s\n",
      "82:\tlearn: 0.3695190\ttotal: 2.64s\tremaining: 29.2s\n",
      "83:\tlearn: 0.3683698\ttotal: 2.67s\tremaining: 29.1s\n",
      "84:\tlearn: 0.3674650\ttotal: 2.7s\tremaining: 29.1s\n",
      "85:\tlearn: 0.3671202\ttotal: 2.74s\tremaining: 29.1s\n",
      "86:\tlearn: 0.3665760\ttotal: 2.77s\tremaining: 29.1s\n",
      "87:\tlearn: 0.3659841\ttotal: 2.8s\tremaining: 29s\n",
      "88:\tlearn: 0.3640300\ttotal: 2.82s\tremaining: 28.9s\n",
      "89:\tlearn: 0.3624532\ttotal: 2.85s\tremaining: 28.9s\n",
      "90:\tlearn: 0.3619670\ttotal: 2.89s\tremaining: 28.9s\n",
      "91:\tlearn: 0.3594699\ttotal: 2.92s\tremaining: 28.8s\n",
      "92:\tlearn: 0.3581471\ttotal: 2.95s\tremaining: 28.8s\n",
      "93:\tlearn: 0.3569473\ttotal: 2.98s\tremaining: 28.7s\n",
      "94:\tlearn: 0.3557226\ttotal: 3s\tremaining: 28.6s\n",
      "95:\tlearn: 0.3551588\ttotal: 3.04s\tremaining: 28.6s\n",
      "96:\tlearn: 0.3537215\ttotal: 3.07s\tremaining: 28.6s\n",
      "97:\tlearn: 0.3533512\ttotal: 3.1s\tremaining: 28.5s\n",
      "98:\tlearn: 0.3524982\ttotal: 3.12s\tremaining: 28.4s\n",
      "99:\tlearn: 0.3519738\ttotal: 3.15s\tremaining: 28.4s\n",
      "100:\tlearn: 0.3519424\ttotal: 3.18s\tremaining: 28.3s\n",
      "101:\tlearn: 0.3507208\ttotal: 3.2s\tremaining: 28.2s\n",
      "102:\tlearn: 0.3496696\ttotal: 3.23s\tremaining: 28.1s\n",
      "103:\tlearn: 0.3486788\ttotal: 3.26s\tremaining: 28.1s\n",
      "104:\tlearn: 0.3470760\ttotal: 3.29s\tremaining: 28.1s\n",
      "105:\tlearn: 0.3465116\ttotal: 3.32s\tremaining: 28s\n",
      "106:\tlearn: 0.3452727\ttotal: 3.35s\tremaining: 28s\n",
      "107:\tlearn: 0.3452229\ttotal: 3.4s\tremaining: 28.1s\n",
      "108:\tlearn: 0.3447355\ttotal: 3.44s\tremaining: 28.1s\n",
      "109:\tlearn: 0.3436723\ttotal: 3.5s\tremaining: 28.3s\n",
      "110:\tlearn: 0.3427682\ttotal: 3.55s\tremaining: 28.4s\n",
      "111:\tlearn: 0.3422445\ttotal: 3.58s\tremaining: 28.4s\n",
      "112:\tlearn: 0.3414292\ttotal: 3.61s\tremaining: 28.3s\n",
      "113:\tlearn: 0.3404344\ttotal: 3.65s\tremaining: 28.3s\n",
      "114:\tlearn: 0.3394820\ttotal: 3.67s\tremaining: 28.3s\n",
      "115:\tlearn: 0.3386458\ttotal: 3.7s\tremaining: 28.2s\n",
      "116:\tlearn: 0.3375402\ttotal: 3.72s\tremaining: 28.1s\n",
      "117:\tlearn: 0.3371451\ttotal: 3.75s\tremaining: 28s\n",
      "118:\tlearn: 0.3362105\ttotal: 3.77s\tremaining: 27.9s\n",
      "119:\tlearn: 0.3354598\ttotal: 3.8s\tremaining: 27.8s\n",
      "120:\tlearn: 0.3344029\ttotal: 3.82s\tremaining: 27.8s\n",
      "121:\tlearn: 0.3341780\ttotal: 3.84s\tremaining: 27.7s\n",
      "122:\tlearn: 0.3339054\ttotal: 3.87s\tremaining: 27.6s\n",
      "123:\tlearn: 0.3333333\ttotal: 3.89s\tremaining: 27.5s\n",
      "124:\tlearn: 0.3331679\ttotal: 3.91s\tremaining: 27.4s\n",
      "125:\tlearn: 0.3319252\ttotal: 3.94s\tremaining: 27.3s\n",
      "126:\tlearn: 0.3307647\ttotal: 3.96s\tremaining: 27.2s\n",
      "127:\tlearn: 0.3305346\ttotal: 3.98s\tremaining: 27.1s\n",
      "128:\tlearn: 0.3304312\ttotal: 4.01s\tremaining: 27.1s\n",
      "129:\tlearn: 0.3300798\ttotal: 4.04s\tremaining: 27s\n",
      "130:\tlearn: 0.3288241\ttotal: 4.06s\tremaining: 26.9s\n",
      "131:\tlearn: 0.3281406\ttotal: 4.08s\tremaining: 26.9s\n",
      "132:\tlearn: 0.3277028\ttotal: 4.11s\tremaining: 26.8s\n",
      "133:\tlearn: 0.3268367\ttotal: 4.14s\tremaining: 26.8s\n",
      "134:\tlearn: 0.3260484\ttotal: 4.17s\tremaining: 26.7s\n",
      "135:\tlearn: 0.3256400\ttotal: 4.19s\tremaining: 26.6s\n",
      "136:\tlearn: 0.3249362\ttotal: 4.22s\tremaining: 26.6s\n",
      "137:\tlearn: 0.3246530\ttotal: 4.24s\tremaining: 26.5s\n",
      "138:\tlearn: 0.3236245\ttotal: 4.26s\tremaining: 26.4s\n",
      "139:\tlearn: 0.3230068\ttotal: 4.28s\tremaining: 26.3s\n",
      "140:\tlearn: 0.3222982\ttotal: 4.3s\tremaining: 26.2s\n",
      "141:\tlearn: 0.3221718\ttotal: 4.32s\tremaining: 26.1s\n",
      "142:\tlearn: 0.3213804\ttotal: 4.35s\tremaining: 26s\n",
      "143:\tlearn: 0.3211260\ttotal: 4.37s\tremaining: 26s\n",
      "144:\tlearn: 0.3211185\ttotal: 4.38s\tremaining: 25.9s\n",
      "145:\tlearn: 0.3205506\ttotal: 4.41s\tremaining: 25.8s\n",
      "146:\tlearn: 0.3197729\ttotal: 4.43s\tremaining: 25.7s\n",
      "147:\tlearn: 0.3188831\ttotal: 4.45s\tremaining: 25.6s\n",
      "148:\tlearn: 0.3177888\ttotal: 4.48s\tremaining: 25.6s\n",
      "149:\tlearn: 0.3172213\ttotal: 4.5s\tremaining: 25.5s\n",
      "150:\tlearn: 0.3167484\ttotal: 4.52s\tremaining: 25.4s\n",
      "151:\tlearn: 0.3161076\ttotal: 4.54s\tremaining: 25.3s\n",
      "152:\tlearn: 0.3157362\ttotal: 4.56s\tremaining: 25.2s\n",
      "153:\tlearn: 0.3150660\ttotal: 4.58s\tremaining: 25.2s\n",
      "154:\tlearn: 0.3149787\ttotal: 4.6s\tremaining: 25.1s\n",
      "155:\tlearn: 0.3145281\ttotal: 4.63s\tremaining: 25s\n",
      "156:\tlearn: 0.3144438\ttotal: 4.65s\tremaining: 25s\n",
      "157:\tlearn: 0.3135648\ttotal: 4.67s\tremaining: 24.9s\n",
      "158:\tlearn: 0.3129922\ttotal: 4.69s\tremaining: 24.8s\n",
      "159:\tlearn: 0.3129795\ttotal: 4.71s\tremaining: 24.7s\n",
      "160:\tlearn: 0.3125163\ttotal: 4.73s\tremaining: 24.7s\n",
      "161:\tlearn: 0.3117500\ttotal: 4.75s\tremaining: 24.6s\n",
      "162:\tlearn: 0.3109277\ttotal: 4.78s\tremaining: 24.5s\n",
      "163:\tlearn: 0.3104895\ttotal: 4.8s\tremaining: 24.5s\n",
      "164:\tlearn: 0.3102204\ttotal: 4.82s\tremaining: 24.4s\n",
      "165:\tlearn: 0.3096471\ttotal: 4.84s\tremaining: 24.3s\n"
     ]
    },
    {
     "name": "stdout",
     "output_type": "stream",
     "text": [
      "166:\tlearn: 0.3096262\ttotal: 4.86s\tremaining: 24.2s\n",
      "167:\tlearn: 0.3092799\ttotal: 4.88s\tremaining: 24.2s\n",
      "168:\tlearn: 0.3092736\ttotal: 4.9s\tremaining: 24.1s\n",
      "169:\tlearn: 0.3085729\ttotal: 4.92s\tremaining: 24s\n",
      "170:\tlearn: 0.3083158\ttotal: 4.95s\tremaining: 24s\n",
      "171:\tlearn: 0.3077064\ttotal: 4.97s\tremaining: 23.9s\n",
      "172:\tlearn: 0.3072398\ttotal: 4.99s\tremaining: 23.9s\n",
      "173:\tlearn: 0.3069323\ttotal: 5.02s\tremaining: 23.8s\n",
      "174:\tlearn: 0.3066321\ttotal: 5.06s\tremaining: 23.9s\n",
      "175:\tlearn: 0.3061131\ttotal: 5.11s\tremaining: 23.9s\n",
      "176:\tlearn: 0.3052898\ttotal: 5.15s\tremaining: 24s\n",
      "177:\tlearn: 0.3045149\ttotal: 5.17s\tremaining: 23.9s\n",
      "178:\tlearn: 0.3044799\ttotal: 5.2s\tremaining: 23.8s\n",
      "179:\tlearn: 0.3041801\ttotal: 5.22s\tremaining: 23.8s\n",
      "180:\tlearn: 0.3033791\ttotal: 5.24s\tremaining: 23.7s\n",
      "181:\tlearn: 0.3028953\ttotal: 5.27s\tremaining: 23.7s\n",
      "182:\tlearn: 0.3026023\ttotal: 5.29s\tremaining: 23.6s\n",
      "183:\tlearn: 0.3017962\ttotal: 5.31s\tremaining: 23.6s\n",
      "184:\tlearn: 0.3016543\ttotal: 5.34s\tremaining: 23.5s\n",
      "185:\tlearn: 0.3014086\ttotal: 5.36s\tremaining: 23.5s\n",
      "186:\tlearn: 0.3007967\ttotal: 5.39s\tremaining: 23.4s\n",
      "187:\tlearn: 0.3007925\ttotal: 5.42s\tremaining: 23.4s\n",
      "188:\tlearn: 0.3007891\ttotal: 5.45s\tremaining: 23.4s\n",
      "189:\tlearn: 0.2999420\ttotal: 5.47s\tremaining: 23.3s\n",
      "190:\tlearn: 0.2998730\ttotal: 5.49s\tremaining: 23.3s\n",
      "191:\tlearn: 0.2997729\ttotal: 5.51s\tremaining: 23.2s\n",
      "192:\tlearn: 0.2989081\ttotal: 5.54s\tremaining: 23.1s\n",
      "193:\tlearn: 0.2982598\ttotal: 5.56s\tremaining: 23.1s\n",
      "194:\tlearn: 0.2979424\ttotal: 5.58s\tremaining: 23s\n",
      "195:\tlearn: 0.2973096\ttotal: 5.6s\tremaining: 23s\n",
      "196:\tlearn: 0.2968808\ttotal: 5.63s\tremaining: 22.9s\n",
      "197:\tlearn: 0.2961869\ttotal: 5.65s\tremaining: 22.9s\n",
      "198:\tlearn: 0.2961644\ttotal: 5.67s\tremaining: 22.8s\n",
      "199:\tlearn: 0.2959949\ttotal: 5.69s\tremaining: 22.7s\n",
      "200:\tlearn: 0.2953407\ttotal: 5.71s\tremaining: 22.7s\n",
      "201:\tlearn: 0.2952206\ttotal: 5.73s\tremaining: 22.6s\n",
      "202:\tlearn: 0.2947850\ttotal: 5.78s\tremaining: 22.7s\n",
      "203:\tlearn: 0.2947579\ttotal: 5.8s\tremaining: 22.7s\n",
      "204:\tlearn: 0.2947415\ttotal: 5.83s\tremaining: 22.6s\n",
      "205:\tlearn: 0.2943511\ttotal: 5.85s\tremaining: 22.6s\n",
      "206:\tlearn: 0.2937842\ttotal: 5.88s\tremaining: 22.5s\n",
      "207:\tlearn: 0.2935424\ttotal: 5.9s\tremaining: 22.5s\n",
      "208:\tlearn: 0.2931398\ttotal: 5.93s\tremaining: 22.4s\n",
      "209:\tlearn: 0.2926735\ttotal: 5.95s\tremaining: 22.4s\n",
      "210:\tlearn: 0.2925624\ttotal: 5.97s\tremaining: 22.3s\n",
      "211:\tlearn: 0.2919292\ttotal: 6s\tremaining: 22.3s\n",
      "212:\tlearn: 0.2915369\ttotal: 6.03s\tremaining: 22.3s\n",
      "213:\tlearn: 0.2909524\ttotal: 6.06s\tremaining: 22.2s\n",
      "214:\tlearn: 0.2904999\ttotal: 6.09s\tremaining: 22.2s\n",
      "215:\tlearn: 0.2898644\ttotal: 6.11s\tremaining: 22.2s\n",
      "216:\tlearn: 0.2894359\ttotal: 6.14s\tremaining: 22.2s\n",
      "217:\tlearn: 0.2889821\ttotal: 6.17s\tremaining: 22.1s\n",
      "218:\tlearn: 0.2885754\ttotal: 6.19s\tremaining: 22.1s\n",
      "219:\tlearn: 0.2884036\ttotal: 6.21s\tremaining: 22s\n",
      "220:\tlearn: 0.2883815\ttotal: 6.24s\tremaining: 22s\n",
      "221:\tlearn: 0.2875866\ttotal: 6.26s\tremaining: 21.9s\n",
      "222:\tlearn: 0.2873020\ttotal: 6.29s\tremaining: 21.9s\n",
      "223:\tlearn: 0.2868729\ttotal: 6.31s\tremaining: 21.9s\n",
      "224:\tlearn: 0.2861181\ttotal: 6.33s\tremaining: 21.8s\n",
      "225:\tlearn: 0.2861003\ttotal: 6.36s\tremaining: 21.8s\n",
      "226:\tlearn: 0.2856377\ttotal: 6.38s\tremaining: 21.7s\n",
      "227:\tlearn: 0.2855208\ttotal: 6.4s\tremaining: 21.7s\n",
      "228:\tlearn: 0.2851751\ttotal: 6.42s\tremaining: 21.6s\n",
      "229:\tlearn: 0.2850174\ttotal: 6.44s\tremaining: 21.6s\n",
      "230:\tlearn: 0.2842102\ttotal: 6.47s\tremaining: 21.5s\n",
      "231:\tlearn: 0.2834658\ttotal: 6.49s\tremaining: 21.5s\n",
      "232:\tlearn: 0.2828830\ttotal: 6.51s\tremaining: 21.4s\n",
      "233:\tlearn: 0.2822396\ttotal: 6.53s\tremaining: 21.4s\n",
      "234:\tlearn: 0.2818342\ttotal: 6.55s\tremaining: 21.3s\n",
      "235:\tlearn: 0.2815700\ttotal: 6.58s\tremaining: 21.3s\n",
      "236:\tlearn: 0.2814740\ttotal: 6.6s\tremaining: 21.2s\n",
      "237:\tlearn: 0.2808786\ttotal: 6.62s\tremaining: 21.2s\n",
      "238:\tlearn: 0.2804729\ttotal: 6.64s\tremaining: 21.2s\n",
      "239:\tlearn: 0.2803486\ttotal: 6.67s\tremaining: 21.1s\n",
      "240:\tlearn: 0.2799289\ttotal: 6.69s\tremaining: 21.1s\n",
      "241:\tlearn: 0.2797377\ttotal: 6.71s\tremaining: 21s\n",
      "242:\tlearn: 0.2796988\ttotal: 6.74s\tremaining: 21s\n",
      "243:\tlearn: 0.2792475\ttotal: 6.76s\tremaining: 20.9s\n",
      "244:\tlearn: 0.2788093\ttotal: 6.79s\tremaining: 20.9s\n",
      "245:\tlearn: 0.2782550\ttotal: 6.81s\tremaining: 20.9s\n",
      "246:\tlearn: 0.2778011\ttotal: 6.83s\tremaining: 20.8s\n",
      "247:\tlearn: 0.2772744\ttotal: 6.86s\tremaining: 20.8s\n",
      "248:\tlearn: 0.2770465\ttotal: 6.88s\tremaining: 20.8s\n",
      "249:\tlearn: 0.2770263\ttotal: 6.9s\tremaining: 20.7s\n",
      "250:\tlearn: 0.2767281\ttotal: 6.93s\tremaining: 20.7s\n",
      "251:\tlearn: 0.2760416\ttotal: 6.95s\tremaining: 20.6s\n",
      "252:\tlearn: 0.2754628\ttotal: 6.98s\tremaining: 20.6s\n",
      "253:\tlearn: 0.2748719\ttotal: 7s\tremaining: 20.6s\n",
      "254:\tlearn: 0.2745516\ttotal: 7.03s\tremaining: 20.5s\n",
      "255:\tlearn: 0.2743889\ttotal: 7.05s\tremaining: 20.5s\n",
      "256:\tlearn: 0.2742388\ttotal: 7.08s\tremaining: 20.5s\n",
      "257:\tlearn: 0.2737595\ttotal: 7.1s\tremaining: 20.4s\n",
      "258:\tlearn: 0.2736337\ttotal: 7.13s\tremaining: 20.4s\n",
      "259:\tlearn: 0.2733307\ttotal: 7.16s\tremaining: 20.4s\n",
      "260:\tlearn: 0.2730971\ttotal: 7.19s\tremaining: 20.3s\n",
      "261:\tlearn: 0.2730939\ttotal: 7.21s\tremaining: 20.3s\n",
      "262:\tlearn: 0.2725242\ttotal: 7.25s\tremaining: 20.3s\n",
      "263:\tlearn: 0.2724322\ttotal: 7.27s\tremaining: 20.3s\n",
      "264:\tlearn: 0.2723234\ttotal: 7.3s\tremaining: 20.2s\n",
      "265:\tlearn: 0.2719517\ttotal: 7.36s\tremaining: 20.3s\n",
      "266:\tlearn: 0.2719204\ttotal: 7.4s\tremaining: 20.3s\n",
      "267:\tlearn: 0.2718860\ttotal: 7.45s\tremaining: 20.3s\n",
      "268:\tlearn: 0.2714893\ttotal: 7.48s\tremaining: 20.3s\n",
      "269:\tlearn: 0.2712696\ttotal: 7.5s\tremaining: 20.3s\n",
      "270:\tlearn: 0.2711001\ttotal: 7.53s\tremaining: 20.3s\n",
      "271:\tlearn: 0.2706329\ttotal: 7.55s\tremaining: 20.2s\n",
      "272:\tlearn: 0.2704328\ttotal: 7.58s\tremaining: 20.2s\n",
      "273:\tlearn: 0.2703268\ttotal: 7.61s\tremaining: 20.2s\n",
      "274:\tlearn: 0.2702140\ttotal: 7.64s\tremaining: 20.1s\n",
      "275:\tlearn: 0.2698337\ttotal: 7.66s\tremaining: 20.1s\n",
      "276:\tlearn: 0.2692534\ttotal: 7.69s\tremaining: 20.1s\n",
      "277:\tlearn: 0.2686060\ttotal: 7.72s\tremaining: 20s\n",
      "278:\tlearn: 0.2679581\ttotal: 7.74s\tremaining: 20s\n",
      "279:\tlearn: 0.2675368\ttotal: 7.76s\tremaining: 20s\n",
      "280:\tlearn: 0.2670498\ttotal: 7.8s\tremaining: 20s\n",
      "281:\tlearn: 0.2669193\ttotal: 7.82s\tremaining: 19.9s\n",
      "282:\tlearn: 0.2664624\ttotal: 7.85s\tremaining: 19.9s\n",
      "283:\tlearn: 0.2664405\ttotal: 7.87s\tremaining: 19.8s\n",
      "284:\tlearn: 0.2662307\ttotal: 7.89s\tremaining: 19.8s\n",
      "285:\tlearn: 0.2658380\ttotal: 7.92s\tremaining: 19.8s\n",
      "286:\tlearn: 0.2654227\ttotal: 7.95s\tremaining: 19.7s\n",
      "287:\tlearn: 0.2653496\ttotal: 7.98s\tremaining: 19.7s\n",
      "288:\tlearn: 0.2653299\ttotal: 8.04s\tremaining: 19.8s\n",
      "289:\tlearn: 0.2650656\ttotal: 8.07s\tremaining: 19.8s\n",
      "290:\tlearn: 0.2649329\ttotal: 8.1s\tremaining: 19.7s\n",
      "291:\tlearn: 0.2644184\ttotal: 8.15s\tremaining: 19.8s\n",
      "292:\tlearn: 0.2641068\ttotal: 8.19s\tremaining: 19.8s\n",
      "293:\tlearn: 0.2640899\ttotal: 8.23s\tremaining: 19.8s\n",
      "294:\tlearn: 0.2639535\ttotal: 8.28s\tremaining: 19.8s\n",
      "295:\tlearn: 0.2634859\ttotal: 8.31s\tremaining: 19.8s\n",
      "296:\tlearn: 0.2634335\ttotal: 8.35s\tremaining: 19.8s\n",
      "297:\tlearn: 0.2630254\ttotal: 8.39s\tremaining: 19.8s\n",
      "298:\tlearn: 0.2630227\ttotal: 8.41s\tremaining: 19.7s\n",
      "299:\tlearn: 0.2630198\ttotal: 8.44s\tremaining: 19.7s\n",
      "300:\tlearn: 0.2629237\ttotal: 8.46s\tremaining: 19.6s\n",
      "301:\tlearn: 0.2629214\ttotal: 8.48s\tremaining: 19.6s\n",
      "302:\tlearn: 0.2624782\ttotal: 8.5s\tremaining: 19.6s\n",
      "303:\tlearn: 0.2620146\ttotal: 8.53s\tremaining: 19.5s\n",
      "304:\tlearn: 0.2620127\ttotal: 8.55s\tremaining: 19.5s\n",
      "305:\tlearn: 0.2620012\ttotal: 8.58s\tremaining: 19.5s\n",
      "306:\tlearn: 0.2618673\ttotal: 8.61s\tremaining: 19.4s\n",
      "307:\tlearn: 0.2611568\ttotal: 8.63s\tremaining: 19.4s\n",
      "308:\tlearn: 0.2610482\ttotal: 8.65s\tremaining: 19.4s\n",
      "309:\tlearn: 0.2608871\ttotal: 8.68s\tremaining: 19.3s\n",
      "310:\tlearn: 0.2603355\ttotal: 8.7s\tremaining: 19.3s\n",
      "311:\tlearn: 0.2603010\ttotal: 8.73s\tremaining: 19.2s\n",
      "312:\tlearn: 0.2600790\ttotal: 8.75s\tremaining: 19.2s\n",
      "313:\tlearn: 0.2598421\ttotal: 8.77s\tremaining: 19.2s\n",
      "314:\tlearn: 0.2595473\ttotal: 8.8s\tremaining: 19.1s\n",
      "315:\tlearn: 0.2591700\ttotal: 8.82s\tremaining: 19.1s\n",
      "316:\tlearn: 0.2587573\ttotal: 8.84s\tremaining: 19.1s\n",
      "317:\tlearn: 0.2583489\ttotal: 8.87s\tremaining: 19s\n",
      "318:\tlearn: 0.2581139\ttotal: 8.89s\tremaining: 19s\n",
      "319:\tlearn: 0.2578371\ttotal: 8.91s\tremaining: 18.9s\n",
      "320:\tlearn: 0.2574137\ttotal: 8.94s\tremaining: 18.9s\n",
      "321:\tlearn: 0.2571744\ttotal: 8.96s\tremaining: 18.9s\n",
      "322:\tlearn: 0.2568214\ttotal: 8.98s\tremaining: 18.8s\n",
      "323:\tlearn: 0.2565526\ttotal: 9.01s\tremaining: 18.8s\n",
      "324:\tlearn: 0.2564073\ttotal: 9.03s\tremaining: 18.8s\n",
      "325:\tlearn: 0.2563257\ttotal: 9.05s\tremaining: 18.7s\n",
      "326:\tlearn: 0.2563135\ttotal: 9.08s\tremaining: 18.7s\n",
      "327:\tlearn: 0.2563081\ttotal: 9.1s\tremaining: 18.6s\n",
      "328:\tlearn: 0.2562200\ttotal: 9.12s\tremaining: 18.6s\n",
      "329:\tlearn: 0.2562103\ttotal: 9.14s\tremaining: 18.6s\n"
     ]
    },
    {
     "name": "stdout",
     "output_type": "stream",
     "text": [
      "330:\tlearn: 0.2560026\ttotal: 9.16s\tremaining: 18.5s\n",
      "331:\tlearn: 0.2555496\ttotal: 9.19s\tremaining: 18.5s\n",
      "332:\tlearn: 0.2553849\ttotal: 9.21s\tremaining: 18.5s\n",
      "333:\tlearn: 0.2551943\ttotal: 9.23s\tremaining: 18.4s\n",
      "334:\tlearn: 0.2551485\ttotal: 9.26s\tremaining: 18.4s\n",
      "335:\tlearn: 0.2551344\ttotal: 9.28s\tremaining: 18.3s\n",
      "336:\tlearn: 0.2548007\ttotal: 9.3s\tremaining: 18.3s\n",
      "337:\tlearn: 0.2547264\ttotal: 9.32s\tremaining: 18.3s\n",
      "338:\tlearn: 0.2544028\ttotal: 9.34s\tremaining: 18.2s\n",
      "339:\tlearn: 0.2542513\ttotal: 9.36s\tremaining: 18.2s\n",
      "340:\tlearn: 0.2539002\ttotal: 9.38s\tremaining: 18.1s\n",
      "341:\tlearn: 0.2538931\ttotal: 9.41s\tremaining: 18.1s\n",
      "342:\tlearn: 0.2538900\ttotal: 9.43s\tremaining: 18.1s\n",
      "343:\tlearn: 0.2538109\ttotal: 9.45s\tremaining: 18s\n",
      "344:\tlearn: 0.2533964\ttotal: 9.47s\tremaining: 18s\n",
      "345:\tlearn: 0.2533602\ttotal: 9.5s\tremaining: 18s\n",
      "346:\tlearn: 0.2527905\ttotal: 9.53s\tremaining: 17.9s\n",
      "347:\tlearn: 0.2527867\ttotal: 9.55s\tremaining: 17.9s\n",
      "348:\tlearn: 0.2524905\ttotal: 9.57s\tremaining: 17.9s\n",
      "349:\tlearn: 0.2524887\ttotal: 9.6s\tremaining: 17.8s\n",
      "350:\tlearn: 0.2524873\ttotal: 9.62s\tremaining: 17.8s\n",
      "351:\tlearn: 0.2522662\ttotal: 9.64s\tremaining: 17.7s\n",
      "352:\tlearn: 0.2518774\ttotal: 9.66s\tremaining: 17.7s\n",
      "353:\tlearn: 0.2516667\ttotal: 9.69s\tremaining: 17.7s\n",
      "354:\tlearn: 0.2516605\ttotal: 9.72s\tremaining: 17.7s\n",
      "355:\tlearn: 0.2515606\ttotal: 9.74s\tremaining: 17.6s\n",
      "356:\tlearn: 0.2514457\ttotal: 9.77s\tremaining: 17.6s\n",
      "357:\tlearn: 0.2510356\ttotal: 9.79s\tremaining: 17.6s\n",
      "358:\tlearn: 0.2507282\ttotal: 9.82s\tremaining: 17.5s\n",
      "359:\tlearn: 0.2504071\ttotal: 9.84s\tremaining: 17.5s\n",
      "360:\tlearn: 0.2500627\ttotal: 9.87s\tremaining: 17.5s\n",
      "361:\tlearn: 0.2497328\ttotal: 9.9s\tremaining: 17.4s\n",
      "362:\tlearn: 0.2495534\ttotal: 9.92s\tremaining: 17.4s\n",
      "363:\tlearn: 0.2491118\ttotal: 9.94s\tremaining: 17.4s\n",
      "364:\tlearn: 0.2488661\ttotal: 9.97s\tremaining: 17.3s\n",
      "365:\tlearn: 0.2484767\ttotal: 9.99s\tremaining: 17.3s\n",
      "366:\tlearn: 0.2479120\ttotal: 10s\tremaining: 17.3s\n",
      "367:\tlearn: 0.2476984\ttotal: 10s\tremaining: 17.3s\n",
      "368:\tlearn: 0.2473287\ttotal: 10.1s\tremaining: 17.2s\n",
      "369:\tlearn: 0.2468684\ttotal: 10.1s\tremaining: 17.2s\n",
      "370:\tlearn: 0.2466802\ttotal: 10.1s\tremaining: 17.1s\n",
      "371:\tlearn: 0.2461972\ttotal: 10.1s\tremaining: 17.1s\n",
      "372:\tlearn: 0.2457636\ttotal: 10.2s\tremaining: 17.1s\n",
      "373:\tlearn: 0.2454980\ttotal: 10.2s\tremaining: 17s\n",
      "374:\tlearn: 0.2451710\ttotal: 10.2s\tremaining: 17s\n",
      "375:\tlearn: 0.2448609\ttotal: 10.2s\tremaining: 17s\n",
      "376:\tlearn: 0.2447465\ttotal: 10.3s\tremaining: 16.9s\n",
      "377:\tlearn: 0.2446844\ttotal: 10.3s\tremaining: 16.9s\n",
      "378:\tlearn: 0.2446514\ttotal: 10.3s\tremaining: 16.9s\n",
      "379:\tlearn: 0.2446042\ttotal: 10.3s\tremaining: 16.8s\n",
      "380:\tlearn: 0.2444511\ttotal: 10.3s\tremaining: 16.8s\n",
      "381:\tlearn: 0.2440854\ttotal: 10.4s\tremaining: 16.8s\n",
      "382:\tlearn: 0.2439374\ttotal: 10.4s\tremaining: 16.7s\n",
      "383:\tlearn: 0.2438141\ttotal: 10.4s\tremaining: 16.7s\n",
      "384:\tlearn: 0.2435669\ttotal: 10.4s\tremaining: 16.6s\n",
      "385:\tlearn: 0.2434618\ttotal: 10.4s\tremaining: 16.6s\n",
      "386:\tlearn: 0.2434424\ttotal: 10.5s\tremaining: 16.6s\n",
      "387:\tlearn: 0.2433138\ttotal: 10.5s\tremaining: 16.6s\n",
      "388:\tlearn: 0.2430930\ttotal: 10.5s\tremaining: 16.5s\n",
      "389:\tlearn: 0.2430916\ttotal: 10.5s\tremaining: 16.5s\n",
      "390:\tlearn: 0.2428000\ttotal: 10.6s\tremaining: 16.4s\n",
      "391:\tlearn: 0.2424771\ttotal: 10.6s\tremaining: 16.4s\n",
      "392:\tlearn: 0.2423403\ttotal: 10.6s\tremaining: 16.4s\n",
      "393:\tlearn: 0.2423004\ttotal: 10.6s\tremaining: 16.3s\n",
      "394:\tlearn: 0.2422431\ttotal: 10.6s\tremaining: 16.3s\n",
      "395:\tlearn: 0.2419119\ttotal: 10.7s\tremaining: 16.3s\n",
      "396:\tlearn: 0.2417307\ttotal: 10.7s\tremaining: 16.2s\n",
      "397:\tlearn: 0.2417040\ttotal: 10.7s\tremaining: 16.2s\n",
      "398:\tlearn: 0.2415470\ttotal: 10.7s\tremaining: 16.2s\n",
      "399:\tlearn: 0.2412980\ttotal: 10.8s\tremaining: 16.1s\n",
      "400:\tlearn: 0.2412965\ttotal: 10.8s\tremaining: 16.1s\n",
      "401:\tlearn: 0.2410955\ttotal: 10.8s\tremaining: 16.1s\n",
      "402:\tlearn: 0.2408414\ttotal: 10.8s\tremaining: 16s\n",
      "403:\tlearn: 0.2405600\ttotal: 10.8s\tremaining: 16s\n",
      "404:\tlearn: 0.2405589\ttotal: 10.9s\tremaining: 16s\n",
      "405:\tlearn: 0.2403841\ttotal: 10.9s\tremaining: 15.9s\n",
      "406:\tlearn: 0.2402608\ttotal: 10.9s\tremaining: 15.9s\n",
      "407:\tlearn: 0.2402602\ttotal: 10.9s\tremaining: 15.9s\n",
      "408:\tlearn: 0.2400578\ttotal: 11s\tremaining: 15.8s\n",
      "409:\tlearn: 0.2399061\ttotal: 11s\tremaining: 15.8s\n",
      "410:\tlearn: 0.2397353\ttotal: 11s\tremaining: 15.8s\n",
      "411:\tlearn: 0.2396392\ttotal: 11s\tremaining: 15.7s\n",
      "412:\tlearn: 0.2395822\ttotal: 11.1s\tremaining: 15.7s\n",
      "413:\tlearn: 0.2393339\ttotal: 11.1s\tremaining: 15.7s\n",
      "414:\tlearn: 0.2390680\ttotal: 11.1s\tremaining: 15.6s\n",
      "415:\tlearn: 0.2387072\ttotal: 11.1s\tremaining: 15.6s\n",
      "416:\tlearn: 0.2386256\ttotal: 11.1s\tremaining: 15.6s\n",
      "417:\tlearn: 0.2386153\ttotal: 11.2s\tremaining: 15.5s\n",
      "418:\tlearn: 0.2385492\ttotal: 11.2s\tremaining: 15.5s\n",
      "419:\tlearn: 0.2384940\ttotal: 11.2s\tremaining: 15.5s\n",
      "420:\tlearn: 0.2381093\ttotal: 11.2s\tremaining: 15.4s\n",
      "421:\tlearn: 0.2380496\ttotal: 11.3s\tremaining: 15.4s\n",
      "422:\tlearn: 0.2380371\ttotal: 11.3s\tremaining: 15.4s\n",
      "423:\tlearn: 0.2376413\ttotal: 11.3s\tremaining: 15.3s\n",
      "424:\tlearn: 0.2374189\ttotal: 11.3s\tremaining: 15.3s\n",
      "425:\tlearn: 0.2371576\ttotal: 11.3s\tremaining: 15.3s\n",
      "426:\tlearn: 0.2370855\ttotal: 11.4s\tremaining: 15.3s\n",
      "427:\tlearn: 0.2370847\ttotal: 11.4s\tremaining: 15.2s\n",
      "428:\tlearn: 0.2370727\ttotal: 11.4s\tremaining: 15.2s\n",
      "429:\tlearn: 0.2370062\ttotal: 11.5s\tremaining: 15.2s\n",
      "430:\tlearn: 0.2368390\ttotal: 11.5s\tremaining: 15.2s\n",
      "431:\tlearn: 0.2368290\ttotal: 11.5s\tremaining: 15.1s\n",
      "432:\tlearn: 0.2367471\ttotal: 11.5s\tremaining: 15.1s\n",
      "433:\tlearn: 0.2365464\ttotal: 11.6s\tremaining: 15.1s\n",
      "434:\tlearn: 0.2363673\ttotal: 11.6s\tremaining: 15.1s\n",
      "435:\tlearn: 0.2360015\ttotal: 11.6s\tremaining: 15s\n",
      "436:\tlearn: 0.2356878\ttotal: 11.6s\tremaining: 15s\n",
      "437:\tlearn: 0.2356565\ttotal: 11.7s\tremaining: 15s\n",
      "438:\tlearn: 0.2353951\ttotal: 11.7s\tremaining: 14.9s\n",
      "439:\tlearn: 0.2349809\ttotal: 11.7s\tremaining: 14.9s\n",
      "440:\tlearn: 0.2347041\ttotal: 11.7s\tremaining: 14.9s\n",
      "441:\tlearn: 0.2345283\ttotal: 11.8s\tremaining: 14.8s\n",
      "442:\tlearn: 0.2343807\ttotal: 11.8s\tremaining: 14.8s\n",
      "443:\tlearn: 0.2343546\ttotal: 11.8s\tremaining: 14.8s\n",
      "444:\tlearn: 0.2342909\ttotal: 11.8s\tremaining: 14.7s\n",
      "445:\tlearn: 0.2342571\ttotal: 11.8s\tremaining: 14.7s\n",
      "446:\tlearn: 0.2341232\ttotal: 11.9s\tremaining: 14.7s\n",
      "447:\tlearn: 0.2341225\ttotal: 11.9s\tremaining: 14.7s\n",
      "448:\tlearn: 0.2338564\ttotal: 11.9s\tremaining: 14.7s\n",
      "449:\tlearn: 0.2335150\ttotal: 12s\tremaining: 14.6s\n",
      "450:\tlearn: 0.2334937\ttotal: 12s\tremaining: 14.6s\n",
      "451:\tlearn: 0.2333693\ttotal: 12s\tremaining: 14.6s\n",
      "452:\tlearn: 0.2333686\ttotal: 12.1s\tremaining: 14.6s\n",
      "453:\tlearn: 0.2330999\ttotal: 12.1s\tremaining: 14.5s\n",
      "454:\tlearn: 0.2328970\ttotal: 12.1s\tremaining: 14.5s\n",
      "455:\tlearn: 0.2328970\ttotal: 12.1s\tremaining: 14.5s\n",
      "456:\tlearn: 0.2325939\ttotal: 12.2s\tremaining: 14.4s\n",
      "457:\tlearn: 0.2323866\ttotal: 12.2s\tremaining: 14.4s\n",
      "458:\tlearn: 0.2320981\ttotal: 12.2s\tremaining: 14.4s\n",
      "459:\tlearn: 0.2318433\ttotal: 12.2s\tremaining: 14.4s\n",
      "460:\tlearn: 0.2317877\ttotal: 12.3s\tremaining: 14.3s\n",
      "461:\tlearn: 0.2316681\ttotal: 12.3s\tremaining: 14.3s\n",
      "462:\tlearn: 0.2316680\ttotal: 12.3s\tremaining: 14.3s\n",
      "463:\tlearn: 0.2316249\ttotal: 12.3s\tremaining: 14.2s\n",
      "464:\tlearn: 0.2314785\ttotal: 12.3s\tremaining: 14.2s\n",
      "465:\tlearn: 0.2314776\ttotal: 12.4s\tremaining: 14.2s\n",
      "466:\tlearn: 0.2314245\ttotal: 12.4s\tremaining: 14.1s\n",
      "467:\tlearn: 0.2309696\ttotal: 12.4s\tremaining: 14.1s\n",
      "468:\tlearn: 0.2308624\ttotal: 12.5s\tremaining: 14.1s\n",
      "469:\tlearn: 0.2308618\ttotal: 12.5s\tremaining: 14.1s\n",
      "470:\tlearn: 0.2307306\ttotal: 12.5s\tremaining: 14s\n",
      "471:\tlearn: 0.2306720\ttotal: 12.5s\tremaining: 14s\n",
      "472:\tlearn: 0.2304115\ttotal: 12.5s\tremaining: 14s\n",
      "473:\tlearn: 0.2303103\ttotal: 12.6s\tremaining: 13.9s\n",
      "474:\tlearn: 0.2302148\ttotal: 12.6s\tremaining: 13.9s\n",
      "475:\tlearn: 0.2302147\ttotal: 12.6s\tremaining: 13.9s\n",
      "476:\tlearn: 0.2301557\ttotal: 12.6s\tremaining: 13.8s\n",
      "477:\tlearn: 0.2299495\ttotal: 12.6s\tremaining: 13.8s\n",
      "478:\tlearn: 0.2299220\ttotal: 12.7s\tremaining: 13.8s\n",
      "479:\tlearn: 0.2297702\ttotal: 12.7s\tremaining: 13.7s\n",
      "480:\tlearn: 0.2297061\ttotal: 12.7s\tremaining: 13.7s\n",
      "481:\tlearn: 0.2294722\ttotal: 12.7s\tremaining: 13.7s\n",
      "482:\tlearn: 0.2294661\ttotal: 12.8s\tremaining: 13.7s\n",
      "483:\tlearn: 0.2294382\ttotal: 12.8s\tremaining: 13.6s\n",
      "484:\tlearn: 0.2292541\ttotal: 12.8s\tremaining: 13.6s\n",
      "485:\tlearn: 0.2291607\ttotal: 12.8s\tremaining: 13.6s\n",
      "486:\tlearn: 0.2288063\ttotal: 12.8s\tremaining: 13.5s\n",
      "487:\tlearn: 0.2285706\ttotal: 12.9s\tremaining: 13.5s\n",
      "488:\tlearn: 0.2285514\ttotal: 12.9s\tremaining: 13.5s\n",
      "489:\tlearn: 0.2285463\ttotal: 12.9s\tremaining: 13.4s\n",
      "490:\tlearn: 0.2282914\ttotal: 12.9s\tremaining: 13.4s\n",
      "491:\tlearn: 0.2281566\ttotal: 13s\tremaining: 13.4s\n",
      "492:\tlearn: 0.2278862\ttotal: 13s\tremaining: 13.3s\n",
      "493:\tlearn: 0.2278657\ttotal: 13s\tremaining: 13.3s\n",
      "494:\tlearn: 0.2278656\ttotal: 13s\tremaining: 13.3s\n",
      "495:\tlearn: 0.2278213\ttotal: 13s\tremaining: 13.2s\n",
      "496:\tlearn: 0.2278213\ttotal: 13.1s\tremaining: 13.2s\n"
     ]
    },
    {
     "name": "stdout",
     "output_type": "stream",
     "text": [
      "497:\tlearn: 0.2277662\ttotal: 13.1s\tremaining: 13.2s\n",
      "498:\tlearn: 0.2277370\ttotal: 13.1s\tremaining: 13.2s\n",
      "499:\tlearn: 0.2275286\ttotal: 13.1s\tremaining: 13.1s\n",
      "500:\tlearn: 0.2275285\ttotal: 13.1s\tremaining: 13.1s\n",
      "501:\tlearn: 0.2275141\ttotal: 13.2s\tremaining: 13.1s\n",
      "502:\tlearn: 0.2273762\ttotal: 13.2s\tremaining: 13s\n",
      "503:\tlearn: 0.2270261\ttotal: 13.2s\tremaining: 13s\n",
      "504:\tlearn: 0.2267180\ttotal: 13.2s\tremaining: 13s\n",
      "505:\tlearn: 0.2267175\ttotal: 13.2s\tremaining: 12.9s\n",
      "506:\tlearn: 0.2267174\ttotal: 13.3s\tremaining: 12.9s\n",
      "507:\tlearn: 0.2266540\ttotal: 13.3s\tremaining: 12.9s\n",
      "508:\tlearn: 0.2266533\ttotal: 13.3s\tremaining: 12.8s\n",
      "509:\tlearn: 0.2264842\ttotal: 13.3s\tremaining: 12.8s\n",
      "510:\tlearn: 0.2264835\ttotal: 13.3s\tremaining: 12.8s\n",
      "511:\tlearn: 0.2263799\ttotal: 13.4s\tremaining: 12.7s\n",
      "512:\tlearn: 0.2261586\ttotal: 13.4s\tremaining: 12.7s\n",
      "513:\tlearn: 0.2261505\ttotal: 13.4s\tremaining: 12.7s\n",
      "514:\tlearn: 0.2260699\ttotal: 13.4s\tremaining: 12.7s\n",
      "515:\tlearn: 0.2260693\ttotal: 13.5s\tremaining: 12.6s\n",
      "516:\tlearn: 0.2260369\ttotal: 13.5s\tremaining: 12.6s\n",
      "517:\tlearn: 0.2259286\ttotal: 13.5s\tremaining: 12.6s\n",
      "518:\tlearn: 0.2259199\ttotal: 13.5s\tremaining: 12.5s\n",
      "519:\tlearn: 0.2259089\ttotal: 13.5s\tremaining: 12.5s\n",
      "520:\tlearn: 0.2258905\ttotal: 13.6s\tremaining: 12.5s\n",
      "521:\tlearn: 0.2257676\ttotal: 13.6s\tremaining: 12.4s\n",
      "522:\tlearn: 0.2255162\ttotal: 13.6s\tremaining: 12.4s\n",
      "523:\tlearn: 0.2253957\ttotal: 13.6s\tremaining: 12.4s\n",
      "524:\tlearn: 0.2253735\ttotal: 13.7s\tremaining: 12.4s\n",
      "525:\tlearn: 0.2250945\ttotal: 13.7s\tremaining: 12.4s\n",
      "526:\tlearn: 0.2249404\ttotal: 13.7s\tremaining: 12.3s\n",
      "527:\tlearn: 0.2248895\ttotal: 13.8s\tremaining: 12.3s\n",
      "528:\tlearn: 0.2248215\ttotal: 13.8s\tremaining: 12.3s\n",
      "529:\tlearn: 0.2245744\ttotal: 13.8s\tremaining: 12.2s\n",
      "530:\tlearn: 0.2243425\ttotal: 13.8s\tremaining: 12.2s\n",
      "531:\tlearn: 0.2243420\ttotal: 13.8s\tremaining: 12.2s\n",
      "532:\tlearn: 0.2241461\ttotal: 13.8s\tremaining: 12.1s\n",
      "533:\tlearn: 0.2241454\ttotal: 13.9s\tremaining: 12.1s\n",
      "534:\tlearn: 0.2240116\ttotal: 13.9s\tremaining: 12.1s\n",
      "535:\tlearn: 0.2235493\ttotal: 13.9s\tremaining: 12s\n",
      "536:\tlearn: 0.2234898\ttotal: 13.9s\tremaining: 12s\n",
      "537:\tlearn: 0.2231949\ttotal: 13.9s\tremaining: 12s\n",
      "538:\tlearn: 0.2230335\ttotal: 14s\tremaining: 11.9s\n",
      "539:\tlearn: 0.2230331\ttotal: 14s\tremaining: 11.9s\n",
      "540:\tlearn: 0.2229695\ttotal: 14s\tremaining: 11.9s\n",
      "541:\tlearn: 0.2229032\ttotal: 14s\tremaining: 11.8s\n",
      "542:\tlearn: 0.2228032\ttotal: 14s\tremaining: 11.8s\n",
      "543:\tlearn: 0.2225723\ttotal: 14.1s\tremaining: 11.8s\n",
      "544:\tlearn: 0.2225333\ttotal: 14.1s\tremaining: 11.7s\n",
      "545:\tlearn: 0.2222984\ttotal: 14.1s\tremaining: 11.7s\n",
      "546:\tlearn: 0.2222983\ttotal: 14.1s\tremaining: 11.7s\n",
      "547:\tlearn: 0.2222595\ttotal: 14.1s\tremaining: 11.6s\n",
      "548:\tlearn: 0.2222558\ttotal: 14.1s\tremaining: 11.6s\n",
      "549:\tlearn: 0.2222447\ttotal: 14.1s\tremaining: 11.6s\n",
      "550:\tlearn: 0.2220966\ttotal: 14.2s\tremaining: 11.5s\n",
      "551:\tlearn: 0.2219711\ttotal: 14.2s\tremaining: 11.5s\n",
      "552:\tlearn: 0.2217812\ttotal: 14.3s\tremaining: 11.5s\n",
      "553:\tlearn: 0.2217647\ttotal: 14.3s\tremaining: 11.5s\n",
      "554:\tlearn: 0.2217643\ttotal: 14.3s\tremaining: 11.5s\n",
      "555:\tlearn: 0.2215544\ttotal: 14.4s\tremaining: 11.5s\n",
      "556:\tlearn: 0.2215538\ttotal: 14.4s\tremaining: 11.4s\n",
      "557:\tlearn: 0.2213325\ttotal: 14.4s\tremaining: 11.4s\n",
      "558:\tlearn: 0.2212710\ttotal: 14.4s\tremaining: 11.4s\n",
      "559:\tlearn: 0.2211166\ttotal: 14.4s\tremaining: 11.3s\n",
      "560:\tlearn: 0.2209715\ttotal: 14.5s\tremaining: 11.3s\n",
      "561:\tlearn: 0.2209710\ttotal: 14.5s\tremaining: 11.3s\n",
      "562:\tlearn: 0.2209231\ttotal: 14.5s\tremaining: 11.2s\n",
      "563:\tlearn: 0.2206065\ttotal: 14.5s\tremaining: 11.2s\n",
      "564:\tlearn: 0.2203660\ttotal: 14.5s\tremaining: 11.2s\n",
      "565:\tlearn: 0.2200168\ttotal: 14.5s\tremaining: 11.2s\n",
      "566:\tlearn: 0.2198223\ttotal: 14.6s\tremaining: 11.1s\n",
      "567:\tlearn: 0.2194604\ttotal: 14.6s\tremaining: 11.1s\n",
      "568:\tlearn: 0.2192677\ttotal: 14.6s\tremaining: 11.1s\n",
      "569:\tlearn: 0.2189256\ttotal: 14.7s\tremaining: 11.1s\n",
      "570:\tlearn: 0.2188134\ttotal: 14.7s\tremaining: 11s\n",
      "571:\tlearn: 0.2187515\ttotal: 14.7s\tremaining: 11s\n",
      "572:\tlearn: 0.2187503\ttotal: 14.8s\tremaining: 11s\n",
      "573:\tlearn: 0.2187437\ttotal: 14.8s\tremaining: 11s\n",
      "574:\tlearn: 0.2187376\ttotal: 14.8s\tremaining: 10.9s\n",
      "575:\tlearn: 0.2186892\ttotal: 14.8s\tremaining: 10.9s\n",
      "576:\tlearn: 0.2186802\ttotal: 14.8s\tremaining: 10.9s\n",
      "577:\tlearn: 0.2184674\ttotal: 14.8s\tremaining: 10.8s\n",
      "578:\tlearn: 0.2184043\ttotal: 14.9s\tremaining: 10.8s\n",
      "579:\tlearn: 0.2182719\ttotal: 14.9s\tremaining: 10.8s\n",
      "580:\tlearn: 0.2179878\ttotal: 14.9s\tremaining: 10.7s\n",
      "581:\tlearn: 0.2178561\ttotal: 14.9s\tremaining: 10.7s\n",
      "582:\tlearn: 0.2176060\ttotal: 14.9s\tremaining: 10.7s\n",
      "583:\tlearn: 0.2176028\ttotal: 14.9s\tremaining: 10.6s\n",
      "584:\tlearn: 0.2174287\ttotal: 15s\tremaining: 10.6s\n",
      "585:\tlearn: 0.2171463\ttotal: 15s\tremaining: 10.6s\n",
      "586:\tlearn: 0.2171257\ttotal: 15s\tremaining: 10.6s\n",
      "587:\tlearn: 0.2169962\ttotal: 15s\tremaining: 10.5s\n",
      "588:\tlearn: 0.2166866\ttotal: 15s\tremaining: 10.5s\n",
      "589:\tlearn: 0.2164682\ttotal: 15.1s\tremaining: 10.5s\n",
      "590:\tlearn: 0.2162947\ttotal: 15.1s\tremaining: 10.4s\n",
      "591:\tlearn: 0.2162104\ttotal: 15.1s\tremaining: 10.4s\n",
      "592:\tlearn: 0.2159136\ttotal: 15.1s\tremaining: 10.4s\n",
      "593:\tlearn: 0.2157019\ttotal: 15.1s\tremaining: 10.3s\n",
      "594:\tlearn: 0.2153611\ttotal: 15.1s\tremaining: 10.3s\n",
      "595:\tlearn: 0.2150168\ttotal: 15.2s\tremaining: 10.3s\n",
      "596:\tlearn: 0.2147467\ttotal: 15.2s\tremaining: 10.3s\n",
      "597:\tlearn: 0.2146402\ttotal: 15.2s\tremaining: 10.2s\n",
      "598:\tlearn: 0.2145298\ttotal: 15.2s\tremaining: 10.2s\n",
      "599:\tlearn: 0.2144277\ttotal: 15.3s\tremaining: 10.2s\n",
      "600:\tlearn: 0.2142143\ttotal: 15.3s\tremaining: 10.1s\n",
      "601:\tlearn: 0.2138162\ttotal: 15.3s\tremaining: 10.1s\n",
      "602:\tlearn: 0.2136361\ttotal: 15.3s\tremaining: 10.1s\n",
      "603:\tlearn: 0.2132605\ttotal: 15.3s\tremaining: 10s\n",
      "604:\tlearn: 0.2131364\ttotal: 15.3s\tremaining: 10s\n",
      "605:\tlearn: 0.2130421\ttotal: 15.4s\tremaining: 9.99s\n",
      "606:\tlearn: 0.2128170\ttotal: 15.4s\tremaining: 9.96s\n",
      "607:\tlearn: 0.2126925\ttotal: 15.4s\tremaining: 9.92s\n",
      "608:\tlearn: 0.2124722\ttotal: 15.4s\tremaining: 9.89s\n",
      "609:\tlearn: 0.2121985\ttotal: 15.4s\tremaining: 9.86s\n",
      "610:\tlearn: 0.2120172\ttotal: 15.4s\tremaining: 9.83s\n",
      "611:\tlearn: 0.2117211\ttotal: 15.5s\tremaining: 9.8s\n",
      "612:\tlearn: 0.2115407\ttotal: 15.5s\tremaining: 9.77s\n",
      "613:\tlearn: 0.2114013\ttotal: 15.5s\tremaining: 9.74s\n",
      "614:\tlearn: 0.2111422\ttotal: 15.5s\tremaining: 9.71s\n",
      "615:\tlearn: 0.2109184\ttotal: 15.5s\tremaining: 9.69s\n",
      "616:\tlearn: 0.2106393\ttotal: 15.6s\tremaining: 9.66s\n",
      "617:\tlearn: 0.2104635\ttotal: 15.6s\tremaining: 9.63s\n",
      "618:\tlearn: 0.2103742\ttotal: 15.6s\tremaining: 9.6s\n",
      "619:\tlearn: 0.2103741\ttotal: 15.6s\tremaining: 9.59s\n",
      "620:\tlearn: 0.2102868\ttotal: 15.7s\tremaining: 9.56s\n",
      "621:\tlearn: 0.2100306\ttotal: 15.7s\tremaining: 9.53s\n",
      "622:\tlearn: 0.2100268\ttotal: 15.7s\tremaining: 9.5s\n",
      "623:\tlearn: 0.2100267\ttotal: 15.7s\tremaining: 9.47s\n",
      "624:\tlearn: 0.2098851\ttotal: 15.7s\tremaining: 9.44s\n",
      "625:\tlearn: 0.2097927\ttotal: 15.8s\tremaining: 9.41s\n",
      "626:\tlearn: 0.2097064\ttotal: 15.8s\tremaining: 9.38s\n",
      "627:\tlearn: 0.2096465\ttotal: 15.8s\tremaining: 9.35s\n",
      "628:\tlearn: 0.2095123\ttotal: 15.8s\tremaining: 9.32s\n",
      "629:\tlearn: 0.2093828\ttotal: 15.8s\tremaining: 9.29s\n",
      "630:\tlearn: 0.2093542\ttotal: 15.9s\tremaining: 9.27s\n",
      "631:\tlearn: 0.2092390\ttotal: 15.9s\tremaining: 9.24s\n",
      "632:\tlearn: 0.2089477\ttotal: 15.9s\tremaining: 9.21s\n",
      "633:\tlearn: 0.2087467\ttotal: 15.9s\tremaining: 9.18s\n",
      "634:\tlearn: 0.2085609\ttotal: 15.9s\tremaining: 9.15s\n",
      "635:\tlearn: 0.2083473\ttotal: 15.9s\tremaining: 9.12s\n",
      "636:\tlearn: 0.2083472\ttotal: 16s\tremaining: 9.11s\n",
      "637:\tlearn: 0.2082916\ttotal: 16s\tremaining: 9.08s\n",
      "638:\tlearn: 0.2082915\ttotal: 16s\tremaining: 9.04s\n",
      "639:\tlearn: 0.2082351\ttotal: 16s\tremaining: 9.01s\n",
      "640:\tlearn: 0.2080506\ttotal: 16.1s\tremaining: 8.99s\n",
      "641:\tlearn: 0.2079750\ttotal: 16.1s\tremaining: 8.96s\n",
      "642:\tlearn: 0.2078315\ttotal: 16.1s\tremaining: 8.93s\n",
      "643:\tlearn: 0.2076979\ttotal: 16.1s\tremaining: 8.9s\n",
      "644:\tlearn: 0.2076479\ttotal: 16.1s\tremaining: 8.87s\n",
      "645:\tlearn: 0.2076479\ttotal: 16.1s\tremaining: 8.84s\n",
      "646:\tlearn: 0.2074676\ttotal: 16.2s\tremaining: 8.82s\n",
      "647:\tlearn: 0.2073085\ttotal: 16.2s\tremaining: 8.8s\n",
      "648:\tlearn: 0.2073086\ttotal: 16.2s\tremaining: 8.77s\n",
      "649:\tlearn: 0.2073049\ttotal: 16.2s\tremaining: 8.74s\n",
      "650:\tlearn: 0.2072116\ttotal: 16.3s\tremaining: 8.71s\n",
      "651:\tlearn: 0.2070895\ttotal: 16.3s\tremaining: 8.68s\n",
      "652:\tlearn: 0.2070895\ttotal: 16.3s\tremaining: 8.66s\n",
      "653:\tlearn: 0.2069242\ttotal: 16.3s\tremaining: 8.63s\n",
      "654:\tlearn: 0.2067485\ttotal: 16.4s\tremaining: 8.61s\n",
      "655:\tlearn: 0.2064986\ttotal: 16.4s\tremaining: 8.6s\n",
      "656:\tlearn: 0.2062517\ttotal: 16.4s\tremaining: 8.57s\n",
      "657:\tlearn: 0.2059241\ttotal: 16.4s\tremaining: 8.54s\n",
      "658:\tlearn: 0.2057797\ttotal: 16.4s\tremaining: 8.51s\n",
      "659:\tlearn: 0.2056808\ttotal: 16.5s\tremaining: 8.48s\n",
      "660:\tlearn: 0.2054291\ttotal: 16.5s\tremaining: 8.45s\n",
      "661:\tlearn: 0.2054192\ttotal: 16.5s\tremaining: 8.42s\n",
      "662:\tlearn: 0.2053660\ttotal: 16.5s\tremaining: 8.39s\n"
     ]
    },
    {
     "name": "stdout",
     "output_type": "stream",
     "text": [
      "663:\tlearn: 0.2052031\ttotal: 16.5s\tremaining: 8.36s\n",
      "664:\tlearn: 0.2048961\ttotal: 16.5s\tremaining: 8.33s\n",
      "665:\tlearn: 0.2046715\ttotal: 16.6s\tremaining: 8.3s\n",
      "666:\tlearn: 0.2046570\ttotal: 16.6s\tremaining: 8.29s\n",
      "667:\tlearn: 0.2046093\ttotal: 16.6s\tremaining: 8.26s\n",
      "668:\tlearn: 0.2046093\ttotal: 16.6s\tremaining: 8.23s\n",
      "669:\tlearn: 0.2045376\ttotal: 16.6s\tremaining: 8.2s\n",
      "670:\tlearn: 0.2044696\ttotal: 16.7s\tremaining: 8.17s\n",
      "671:\tlearn: 0.2044696\ttotal: 16.7s\tremaining: 8.14s\n",
      "672:\tlearn: 0.2041530\ttotal: 16.7s\tremaining: 8.11s\n",
      "673:\tlearn: 0.2041369\ttotal: 16.7s\tremaining: 8.08s\n",
      "674:\tlearn: 0.2040391\ttotal: 16.7s\tremaining: 8.05s\n",
      "675:\tlearn: 0.2039718\ttotal: 16.7s\tremaining: 8.02s\n",
      "676:\tlearn: 0.2037957\ttotal: 16.7s\tremaining: 7.99s\n",
      "677:\tlearn: 0.2037463\ttotal: 16.8s\tremaining: 7.96s\n",
      "678:\tlearn: 0.2037105\ttotal: 16.8s\tremaining: 7.95s\n",
      "679:\tlearn: 0.2036856\ttotal: 16.8s\tremaining: 7.92s\n",
      "680:\tlearn: 0.2034938\ttotal: 16.9s\tremaining: 7.89s\n",
      "681:\tlearn: 0.2033560\ttotal: 16.9s\tremaining: 7.87s\n",
      "682:\tlearn: 0.2032691\ttotal: 16.9s\tremaining: 7.84s\n",
      "683:\tlearn: 0.2032400\ttotal: 16.9s\tremaining: 7.81s\n",
      "684:\tlearn: 0.2031381\ttotal: 16.9s\tremaining: 7.78s\n",
      "685:\tlearn: 0.2030104\ttotal: 16.9s\tremaining: 7.75s\n",
      "686:\tlearn: 0.2029086\ttotal: 16.9s\tremaining: 7.72s\n",
      "687:\tlearn: 0.2029053\ttotal: 17s\tremaining: 7.69s\n",
      "688:\tlearn: 0.2028879\ttotal: 17s\tremaining: 7.66s\n",
      "689:\tlearn: 0.2027692\ttotal: 17s\tremaining: 7.63s\n",
      "690:\tlearn: 0.2025741\ttotal: 17s\tremaining: 7.61s\n",
      "691:\tlearn: 0.2024180\ttotal: 17s\tremaining: 7.58s\n",
      "692:\tlearn: 0.2024179\ttotal: 17.1s\tremaining: 7.56s\n",
      "693:\tlearn: 0.2022566\ttotal: 17.1s\tremaining: 7.55s\n",
      "694:\tlearn: 0.2021801\ttotal: 17.1s\tremaining: 7.52s\n",
      "695:\tlearn: 0.2021437\ttotal: 17.2s\tremaining: 7.5s\n",
      "696:\tlearn: 0.2020637\ttotal: 17.2s\tremaining: 7.47s\n",
      "697:\tlearn: 0.2020633\ttotal: 17.2s\tremaining: 7.44s\n",
      "698:\tlearn: 0.2019449\ttotal: 17.2s\tremaining: 7.41s\n",
      "699:\tlearn: 0.2019241\ttotal: 17.2s\tremaining: 7.38s\n",
      "700:\tlearn: 0.2019237\ttotal: 17.2s\tremaining: 7.35s\n",
      "701:\tlearn: 0.2017241\ttotal: 17.3s\tremaining: 7.33s\n",
      "702:\tlearn: 0.2016277\ttotal: 17.3s\tremaining: 7.3s\n",
      "703:\tlearn: 0.2016273\ttotal: 17.3s\tremaining: 7.28s\n",
      "704:\tlearn: 0.2015431\ttotal: 17.3s\tremaining: 7.25s\n",
      "705:\tlearn: 0.2013300\ttotal: 17.3s\tremaining: 7.22s\n",
      "706:\tlearn: 0.2011340\ttotal: 17.4s\tremaining: 7.2s\n",
      "707:\tlearn: 0.2008548\ttotal: 17.4s\tremaining: 7.17s\n",
      "708:\tlearn: 0.2008065\ttotal: 17.4s\tremaining: 7.14s\n",
      "709:\tlearn: 0.2007916\ttotal: 17.4s\tremaining: 7.11s\n",
      "710:\tlearn: 0.2006534\ttotal: 17.4s\tremaining: 7.08s\n",
      "711:\tlearn: 0.2005201\ttotal: 17.4s\tremaining: 7.05s\n",
      "712:\tlearn: 0.2003858\ttotal: 17.5s\tremaining: 7.03s\n",
      "713:\tlearn: 0.2003642\ttotal: 17.5s\tremaining: 7s\n",
      "714:\tlearn: 0.2003022\ttotal: 17.5s\tremaining: 6.99s\n",
      "715:\tlearn: 0.2002750\ttotal: 17.6s\tremaining: 6.97s\n",
      "716:\tlearn: 0.2001077\ttotal: 17.6s\tremaining: 6.94s\n",
      "717:\tlearn: 0.1999420\ttotal: 17.6s\tremaining: 6.92s\n",
      "718:\tlearn: 0.1998454\ttotal: 17.6s\tremaining: 6.89s\n",
      "719:\tlearn: 0.1998051\ttotal: 17.6s\tremaining: 6.86s\n",
      "720:\tlearn: 0.1994991\ttotal: 17.7s\tremaining: 6.83s\n",
      "721:\tlearn: 0.1993783\ttotal: 17.7s\tremaining: 6.81s\n",
      "722:\tlearn: 0.1992855\ttotal: 17.7s\tremaining: 6.79s\n",
      "723:\tlearn: 0.1992855\ttotal: 17.7s\tremaining: 6.76s\n",
      "724:\tlearn: 0.1990720\ttotal: 17.7s\tremaining: 6.73s\n",
      "725:\tlearn: 0.1989922\ttotal: 17.8s\tremaining: 6.7s\n",
      "726:\tlearn: 0.1989671\ttotal: 17.8s\tremaining: 6.68s\n",
      "727:\tlearn: 0.1987126\ttotal: 17.8s\tremaining: 6.65s\n",
      "728:\tlearn: 0.1986574\ttotal: 17.8s\tremaining: 6.62s\n",
      "729:\tlearn: 0.1985337\ttotal: 17.8s\tremaining: 6.6s\n",
      "730:\tlearn: 0.1984806\ttotal: 17.8s\tremaining: 6.57s\n",
      "731:\tlearn: 0.1984587\ttotal: 17.9s\tremaining: 6.54s\n",
      "732:\tlearn: 0.1984128\ttotal: 17.9s\tremaining: 6.51s\n",
      "733:\tlearn: 0.1982548\ttotal: 17.9s\tremaining: 6.49s\n",
      "734:\tlearn: 0.1980578\ttotal: 17.9s\tremaining: 6.46s\n",
      "735:\tlearn: 0.1978817\ttotal: 17.9s\tremaining: 6.43s\n",
      "736:\tlearn: 0.1976798\ttotal: 18s\tremaining: 6.41s\n",
      "737:\tlearn: 0.1976259\ttotal: 18s\tremaining: 6.38s\n",
      "738:\tlearn: 0.1976075\ttotal: 18s\tremaining: 6.35s\n",
      "739:\tlearn: 0.1976074\ttotal: 18s\tremaining: 6.33s\n",
      "740:\tlearn: 0.1974325\ttotal: 18s\tremaining: 6.3s\n",
      "741:\tlearn: 0.1974325\ttotal: 18s\tremaining: 6.27s\n",
      "742:\tlearn: 0.1974316\ttotal: 18s\tremaining: 6.24s\n",
      "743:\tlearn: 0.1974089\ttotal: 18.1s\tremaining: 6.22s\n",
      "744:\tlearn: 0.1972590\ttotal: 18.1s\tremaining: 6.2s\n",
      "745:\tlearn: 0.1972590\ttotal: 18.1s\tremaining: 6.17s\n",
      "746:\tlearn: 0.1972103\ttotal: 18.1s\tremaining: 6.14s\n",
      "747:\tlearn: 0.1971981\ttotal: 18.1s\tremaining: 6.11s\n",
      "748:\tlearn: 0.1970173\ttotal: 18.2s\tremaining: 6.1s\n",
      "749:\tlearn: 0.1969583\ttotal: 18.2s\tremaining: 6.08s\n",
      "750:\tlearn: 0.1969171\ttotal: 18.3s\tremaining: 6.06s\n",
      "751:\tlearn: 0.1968754\ttotal: 18.3s\tremaining: 6.04s\n",
      "752:\tlearn: 0.1968667\ttotal: 18.3s\tremaining: 6.02s\n",
      "753:\tlearn: 0.1967348\ttotal: 18.4s\tremaining: 5.99s\n",
      "754:\tlearn: 0.1967244\ttotal: 18.4s\tremaining: 5.96s\n",
      "755:\tlearn: 0.1967239\ttotal: 18.4s\tremaining: 5.93s\n",
      "756:\tlearn: 0.1966129\ttotal: 18.4s\tremaining: 5.91s\n",
      "757:\tlearn: 0.1964951\ttotal: 18.4s\tremaining: 5.88s\n",
      "758:\tlearn: 0.1964761\ttotal: 18.4s\tremaining: 5.85s\n",
      "759:\tlearn: 0.1963447\ttotal: 18.4s\tremaining: 5.82s\n",
      "760:\tlearn: 0.1962800\ttotal: 18.5s\tremaining: 5.8s\n",
      "761:\tlearn: 0.1962305\ttotal: 18.5s\tremaining: 5.77s\n",
      "762:\tlearn: 0.1961638\ttotal: 18.5s\tremaining: 5.75s\n",
      "763:\tlearn: 0.1961463\ttotal: 18.6s\tremaining: 5.74s\n",
      "764:\tlearn: 0.1958533\ttotal: 18.6s\tremaining: 5.72s\n",
      "765:\tlearn: 0.1957413\ttotal: 18.6s\tremaining: 5.69s\n",
      "766:\tlearn: 0.1956557\ttotal: 18.6s\tremaining: 5.66s\n",
      "767:\tlearn: 0.1954713\ttotal: 18.7s\tremaining: 5.63s\n",
      "768:\tlearn: 0.1953041\ttotal: 18.7s\tremaining: 5.61s\n",
      "769:\tlearn: 0.1953041\ttotal: 18.7s\tremaining: 5.58s\n",
      "770:\tlearn: 0.1951925\ttotal: 18.7s\tremaining: 5.56s\n",
      "771:\tlearn: 0.1951134\ttotal: 18.7s\tremaining: 5.53s\n",
      "772:\tlearn: 0.1951021\ttotal: 18.7s\tremaining: 5.5s\n",
      "773:\tlearn: 0.1949947\ttotal: 18.8s\tremaining: 5.48s\n",
      "774:\tlearn: 0.1949838\ttotal: 18.8s\tremaining: 5.45s\n",
      "775:\tlearn: 0.1948920\ttotal: 18.8s\tremaining: 5.43s\n",
      "776:\tlearn: 0.1948051\ttotal: 18.8s\tremaining: 5.4s\n",
      "777:\tlearn: 0.1946783\ttotal: 18.8s\tremaining: 5.38s\n",
      "778:\tlearn: 0.1945807\ttotal: 18.9s\tremaining: 5.36s\n",
      "779:\tlearn: 0.1944591\ttotal: 18.9s\tremaining: 5.34s\n",
      "780:\tlearn: 0.1942998\ttotal: 19s\tremaining: 5.32s\n",
      "781:\tlearn: 0.1942698\ttotal: 19s\tremaining: 5.29s\n",
      "782:\tlearn: 0.1940937\ttotal: 19s\tremaining: 5.26s\n",
      "783:\tlearn: 0.1940633\ttotal: 19s\tremaining: 5.24s\n",
      "784:\tlearn: 0.1938657\ttotal: 19s\tremaining: 5.21s\n",
      "785:\tlearn: 0.1938631\ttotal: 19.1s\tremaining: 5.19s\n",
      "786:\tlearn: 0.1938631\ttotal: 19.1s\tremaining: 5.17s\n",
      "787:\tlearn: 0.1938502\ttotal: 19.1s\tremaining: 5.15s\n",
      "788:\tlearn: 0.1936412\ttotal: 19.1s\tremaining: 5.12s\n",
      "789:\tlearn: 0.1935656\ttotal: 19.2s\tremaining: 5.09s\n",
      "790:\tlearn: 0.1934864\ttotal: 19.2s\tremaining: 5.08s\n",
      "791:\tlearn: 0.1934864\ttotal: 19.2s\tremaining: 5.05s\n",
      "792:\tlearn: 0.1934463\ttotal: 19.3s\tremaining: 5.03s\n",
      "793:\tlearn: 0.1933026\ttotal: 19.3s\tremaining: 5s\n",
      "794:\tlearn: 0.1931909\ttotal: 19.3s\tremaining: 4.97s\n",
      "795:\tlearn: 0.1931273\ttotal: 19.3s\tremaining: 4.94s\n",
      "796:\tlearn: 0.1931274\ttotal: 19.3s\tremaining: 4.92s\n",
      "797:\tlearn: 0.1931273\ttotal: 19.3s\tremaining: 4.89s\n",
      "798:\tlearn: 0.1931272\ttotal: 19.3s\tremaining: 4.86s\n",
      "799:\tlearn: 0.1930591\ttotal: 19.3s\tremaining: 4.83s\n",
      "800:\tlearn: 0.1930590\ttotal: 19.3s\tremaining: 4.81s\n",
      "801:\tlearn: 0.1929200\ttotal: 19.4s\tremaining: 4.78s\n",
      "802:\tlearn: 0.1928693\ttotal: 19.4s\tremaining: 4.75s\n",
      "803:\tlearn: 0.1927704\ttotal: 19.4s\tremaining: 4.73s\n",
      "804:\tlearn: 0.1926470\ttotal: 19.4s\tremaining: 4.7s\n",
      "805:\tlearn: 0.1926299\ttotal: 19.4s\tremaining: 4.68s\n",
      "806:\tlearn: 0.1926207\ttotal: 19.4s\tremaining: 4.65s\n",
      "807:\tlearn: 0.1924132\ttotal: 19.5s\tremaining: 4.63s\n",
      "808:\tlearn: 0.1924079\ttotal: 19.5s\tremaining: 4.6s\n",
      "809:\tlearn: 0.1924066\ttotal: 19.5s\tremaining: 4.57s\n",
      "810:\tlearn: 0.1921738\ttotal: 19.5s\tremaining: 4.55s\n",
      "811:\tlearn: 0.1921589\ttotal: 19.5s\tremaining: 4.52s\n",
      "812:\tlearn: 0.1919749\ttotal: 19.5s\tremaining: 4.49s\n",
      "813:\tlearn: 0.1918695\ttotal: 19.6s\tremaining: 4.47s\n",
      "814:\tlearn: 0.1918644\ttotal: 19.6s\tremaining: 4.44s\n",
      "815:\tlearn: 0.1918594\ttotal: 19.6s\tremaining: 4.42s\n",
      "816:\tlearn: 0.1917505\ttotal: 19.6s\tremaining: 4.39s\n",
      "817:\tlearn: 0.1916238\ttotal: 19.6s\tremaining: 4.36s\n",
      "818:\tlearn: 0.1915782\ttotal: 19.6s\tremaining: 4.34s\n",
      "819:\tlearn: 0.1915010\ttotal: 19.7s\tremaining: 4.32s\n",
      "820:\tlearn: 0.1913479\ttotal: 19.7s\tremaining: 4.29s\n",
      "821:\tlearn: 0.1912868\ttotal: 19.7s\tremaining: 4.27s\n",
      "822:\tlearn: 0.1911661\ttotal: 19.7s\tremaining: 4.24s\n",
      "823:\tlearn: 0.1910203\ttotal: 19.7s\tremaining: 4.21s\n",
      "824:\tlearn: 0.1908884\ttotal: 19.7s\tremaining: 4.19s\n",
      "825:\tlearn: 0.1907990\ttotal: 19.8s\tremaining: 4.16s\n"
     ]
    },
    {
     "name": "stdout",
     "output_type": "stream",
     "text": [
      "826:\tlearn: 0.1906798\ttotal: 19.8s\tremaining: 4.14s\n",
      "827:\tlearn: 0.1906077\ttotal: 19.8s\tremaining: 4.11s\n",
      "828:\tlearn: 0.1903702\ttotal: 19.8s\tremaining: 4.09s\n",
      "829:\tlearn: 0.1903130\ttotal: 19.8s\tremaining: 4.06s\n",
      "830:\tlearn: 0.1901983\ttotal: 19.8s\tremaining: 4.04s\n",
      "831:\tlearn: 0.1901328\ttotal: 19.9s\tremaining: 4.01s\n",
      "832:\tlearn: 0.1900419\ttotal: 19.9s\tremaining: 3.98s\n",
      "833:\tlearn: 0.1899165\ttotal: 19.9s\tremaining: 3.96s\n",
      "834:\tlearn: 0.1898812\ttotal: 19.9s\tremaining: 3.93s\n",
      "835:\tlearn: 0.1898420\ttotal: 19.9s\tremaining: 3.91s\n",
      "836:\tlearn: 0.1897209\ttotal: 19.9s\tremaining: 3.88s\n",
      "837:\tlearn: 0.1895563\ttotal: 20s\tremaining: 3.86s\n",
      "838:\tlearn: 0.1893524\ttotal: 20s\tremaining: 3.83s\n",
      "839:\tlearn: 0.1893391\ttotal: 20s\tremaining: 3.81s\n",
      "840:\tlearn: 0.1892706\ttotal: 20.1s\tremaining: 3.79s\n",
      "841:\tlearn: 0.1891959\ttotal: 20.1s\tremaining: 3.77s\n",
      "842:\tlearn: 0.1891956\ttotal: 20.1s\tremaining: 3.75s\n",
      "843:\tlearn: 0.1890984\ttotal: 20.2s\tremaining: 3.73s\n",
      "844:\tlearn: 0.1890829\ttotal: 20.3s\tremaining: 3.72s\n",
      "845:\tlearn: 0.1890486\ttotal: 20.3s\tremaining: 3.69s\n",
      "846:\tlearn: 0.1890101\ttotal: 20.3s\tremaining: 3.67s\n",
      "847:\tlearn: 0.1887562\ttotal: 20.3s\tremaining: 3.64s\n",
      "848:\tlearn: 0.1887563\ttotal: 20.3s\tremaining: 3.62s\n",
      "849:\tlearn: 0.1887123\ttotal: 20.3s\tremaining: 3.59s\n",
      "850:\tlearn: 0.1885237\ttotal: 20.4s\tremaining: 3.56s\n",
      "851:\tlearn: 0.1883860\ttotal: 20.4s\tremaining: 3.54s\n",
      "852:\tlearn: 0.1882724\ttotal: 20.4s\tremaining: 3.51s\n",
      "853:\tlearn: 0.1881648\ttotal: 20.4s\tremaining: 3.49s\n",
      "854:\tlearn: 0.1881352\ttotal: 20.4s\tremaining: 3.46s\n",
      "855:\tlearn: 0.1881349\ttotal: 20.4s\tremaining: 3.44s\n",
      "856:\tlearn: 0.1881166\ttotal: 20.4s\tremaining: 3.41s\n",
      "857:\tlearn: 0.1881162\ttotal: 20.5s\tremaining: 3.39s\n",
      "858:\tlearn: 0.1880876\ttotal: 20.5s\tremaining: 3.36s\n",
      "859:\tlearn: 0.1880876\ttotal: 20.5s\tremaining: 3.33s\n",
      "860:\tlearn: 0.1878808\ttotal: 20.5s\tremaining: 3.31s\n",
      "861:\tlearn: 0.1877047\ttotal: 20.5s\tremaining: 3.28s\n",
      "862:\tlearn: 0.1875664\ttotal: 20.5s\tremaining: 3.26s\n",
      "863:\tlearn: 0.1875167\ttotal: 20.6s\tremaining: 3.24s\n",
      "864:\tlearn: 0.1874784\ttotal: 20.6s\tremaining: 3.21s\n",
      "865:\tlearn: 0.1872359\ttotal: 20.6s\tremaining: 3.19s\n",
      "866:\tlearn: 0.1872360\ttotal: 20.6s\tremaining: 3.16s\n",
      "867:\tlearn: 0.1872281\ttotal: 20.6s\tremaining: 3.14s\n",
      "868:\tlearn: 0.1872237\ttotal: 20.6s\tremaining: 3.11s\n",
      "869:\tlearn: 0.1872159\ttotal: 20.7s\tremaining: 3.09s\n",
      "870:\tlearn: 0.1871748\ttotal: 20.7s\tremaining: 3.06s\n",
      "871:\tlearn: 0.1871550\ttotal: 20.7s\tremaining: 3.04s\n",
      "872:\tlearn: 0.1871203\ttotal: 20.7s\tremaining: 3.01s\n",
      "873:\tlearn: 0.1869352\ttotal: 20.7s\tremaining: 2.99s\n",
      "874:\tlearn: 0.1869351\ttotal: 20.7s\tremaining: 2.96s\n",
      "875:\tlearn: 0.1869350\ttotal: 20.7s\tremaining: 2.94s\n",
      "876:\tlearn: 0.1868325\ttotal: 20.8s\tremaining: 2.91s\n",
      "877:\tlearn: 0.1868326\ttotal: 20.8s\tremaining: 2.88s\n",
      "878:\tlearn: 0.1867522\ttotal: 20.8s\tremaining: 2.86s\n",
      "879:\tlearn: 0.1866739\ttotal: 20.8s\tremaining: 2.84s\n",
      "880:\tlearn: 0.1866738\ttotal: 20.8s\tremaining: 2.81s\n",
      "881:\tlearn: 0.1866126\ttotal: 20.9s\tremaining: 2.79s\n",
      "882:\tlearn: 0.1865985\ttotal: 20.9s\tremaining: 2.77s\n",
      "883:\tlearn: 0.1865984\ttotal: 20.9s\tremaining: 2.74s\n",
      "884:\tlearn: 0.1863829\ttotal: 20.9s\tremaining: 2.72s\n",
      "885:\tlearn: 0.1862331\ttotal: 20.9s\tremaining: 2.69s\n",
      "886:\tlearn: 0.1861962\ttotal: 21s\tremaining: 2.67s\n",
      "887:\tlearn: 0.1861927\ttotal: 21s\tremaining: 2.64s\n",
      "888:\tlearn: 0.1861800\ttotal: 21s\tremaining: 2.62s\n",
      "889:\tlearn: 0.1861800\ttotal: 21s\tremaining: 2.6s\n",
      "890:\tlearn: 0.1859834\ttotal: 21s\tremaining: 2.57s\n",
      "891:\tlearn: 0.1859311\ttotal: 21.1s\tremaining: 2.55s\n",
      "892:\tlearn: 0.1858061\ttotal: 21.1s\tremaining: 2.53s\n",
      "893:\tlearn: 0.1858061\ttotal: 21.1s\tremaining: 2.5s\n",
      "894:\tlearn: 0.1857925\ttotal: 21.1s\tremaining: 2.48s\n",
      "895:\tlearn: 0.1856776\ttotal: 21.1s\tremaining: 2.45s\n",
      "896:\tlearn: 0.1855177\ttotal: 21.1s\tremaining: 2.43s\n",
      "897:\tlearn: 0.1854079\ttotal: 21.2s\tremaining: 2.4s\n",
      "898:\tlearn: 0.1853573\ttotal: 21.2s\tremaining: 2.38s\n",
      "899:\tlearn: 0.1853574\ttotal: 21.2s\tremaining: 2.35s\n",
      "900:\tlearn: 0.1852693\ttotal: 21.2s\tremaining: 2.33s\n",
      "901:\tlearn: 0.1852480\ttotal: 21.2s\tremaining: 2.3s\n",
      "902:\tlearn: 0.1850354\ttotal: 21.2s\tremaining: 2.28s\n",
      "903:\tlearn: 0.1847629\ttotal: 21.2s\tremaining: 2.26s\n",
      "904:\tlearn: 0.1846153\ttotal: 21.3s\tremaining: 2.23s\n",
      "905:\tlearn: 0.1846153\ttotal: 21.3s\tremaining: 2.21s\n",
      "906:\tlearn: 0.1846136\ttotal: 21.3s\tremaining: 2.18s\n",
      "907:\tlearn: 0.1846135\ttotal: 21.3s\tremaining: 2.16s\n",
      "908:\tlearn: 0.1845183\ttotal: 21.3s\tremaining: 2.13s\n",
      "909:\tlearn: 0.1843670\ttotal: 21.3s\tremaining: 2.11s\n",
      "910:\tlearn: 0.1842999\ttotal: 21.3s\tremaining: 2.08s\n",
      "911:\tlearn: 0.1842903\ttotal: 21.4s\tremaining: 2.06s\n",
      "912:\tlearn: 0.1841387\ttotal: 21.4s\tremaining: 2.04s\n",
      "913:\tlearn: 0.1840544\ttotal: 21.4s\tremaining: 2.01s\n",
      "914:\tlearn: 0.1840322\ttotal: 21.4s\tremaining: 1.99s\n",
      "915:\tlearn: 0.1838846\ttotal: 21.4s\tremaining: 1.97s\n",
      "916:\tlearn: 0.1838229\ttotal: 21.4s\tremaining: 1.94s\n",
      "917:\tlearn: 0.1836752\ttotal: 21.5s\tremaining: 1.92s\n",
      "918:\tlearn: 0.1835614\ttotal: 21.5s\tremaining: 1.89s\n",
      "919:\tlearn: 0.1834425\ttotal: 21.5s\tremaining: 1.87s\n",
      "920:\tlearn: 0.1833803\ttotal: 21.5s\tremaining: 1.84s\n",
      "921:\tlearn: 0.1833791\ttotal: 21.5s\tremaining: 1.82s\n",
      "922:\tlearn: 0.1833352\ttotal: 21.6s\tremaining: 1.8s\n",
      "923:\tlearn: 0.1831031\ttotal: 21.6s\tremaining: 1.77s\n",
      "924:\tlearn: 0.1830836\ttotal: 21.6s\tremaining: 1.75s\n",
      "925:\tlearn: 0.1830836\ttotal: 21.6s\tremaining: 1.73s\n",
      "926:\tlearn: 0.1830013\ttotal: 21.6s\tremaining: 1.7s\n",
      "927:\tlearn: 0.1829882\ttotal: 21.7s\tremaining: 1.68s\n",
      "928:\tlearn: 0.1829102\ttotal: 21.7s\tremaining: 1.66s\n",
      "929:\tlearn: 0.1828559\ttotal: 21.7s\tremaining: 1.63s\n",
      "930:\tlearn: 0.1827928\ttotal: 21.7s\tremaining: 1.61s\n",
      "931:\tlearn: 0.1827764\ttotal: 21.8s\tremaining: 1.59s\n",
      "932:\tlearn: 0.1826146\ttotal: 21.8s\tremaining: 1.56s\n",
      "933:\tlearn: 0.1825812\ttotal: 21.8s\tremaining: 1.54s\n",
      "934:\tlearn: 0.1824722\ttotal: 21.8s\tremaining: 1.52s\n",
      "935:\tlearn: 0.1824630\ttotal: 21.8s\tremaining: 1.49s\n",
      "936:\tlearn: 0.1824630\ttotal: 21.9s\tremaining: 1.47s\n",
      "937:\tlearn: 0.1824361\ttotal: 21.9s\tremaining: 1.45s\n",
      "938:\tlearn: 0.1823803\ttotal: 21.9s\tremaining: 1.42s\n",
      "939:\tlearn: 0.1822906\ttotal: 21.9s\tremaining: 1.4s\n",
      "940:\tlearn: 0.1822316\ttotal: 21.9s\tremaining: 1.37s\n",
      "941:\tlearn: 0.1821102\ttotal: 21.9s\tremaining: 1.35s\n",
      "942:\tlearn: 0.1820249\ttotal: 22s\tremaining: 1.33s\n",
      "943:\tlearn: 0.1819172\ttotal: 22s\tremaining: 1.3s\n",
      "944:\tlearn: 0.1817915\ttotal: 22s\tremaining: 1.28s\n",
      "945:\tlearn: 0.1816495\ttotal: 22s\tremaining: 1.25s\n",
      "946:\tlearn: 0.1815937\ttotal: 22s\tremaining: 1.23s\n",
      "947:\tlearn: 0.1814234\ttotal: 22s\tremaining: 1.21s\n",
      "948:\tlearn: 0.1812710\ttotal: 22.1s\tremaining: 1.19s\n",
      "949:\tlearn: 0.1810444\ttotal: 22.1s\tremaining: 1.16s\n",
      "950:\tlearn: 0.1809542\ttotal: 22.1s\tremaining: 1.14s\n",
      "951:\tlearn: 0.1809542\ttotal: 22.1s\tremaining: 1.11s\n",
      "952:\tlearn: 0.1808572\ttotal: 22.1s\tremaining: 1.09s\n",
      "953:\tlearn: 0.1807384\ttotal: 22.1s\tremaining: 1.07s\n",
      "954:\tlearn: 0.1806255\ttotal: 22.1s\tremaining: 1.04s\n",
      "955:\tlearn: 0.1805753\ttotal: 22.2s\tremaining: 1.02s\n",
      "956:\tlearn: 0.1805128\ttotal: 22.2s\tremaining: 997ms\n",
      "957:\tlearn: 0.1803041\ttotal: 22.2s\tremaining: 974ms\n",
      "958:\tlearn: 0.1802562\ttotal: 22.2s\tremaining: 950ms\n",
      "959:\tlearn: 0.1800909\ttotal: 22.2s\tremaining: 927ms\n",
      "960:\tlearn: 0.1799304\ttotal: 22.3s\tremaining: 903ms\n",
      "961:\tlearn: 0.1797704\ttotal: 22.3s\tremaining: 881ms\n",
      "962:\tlearn: 0.1797565\ttotal: 22.3s\tremaining: 857ms\n",
      "963:\tlearn: 0.1796755\ttotal: 22.3s\tremaining: 834ms\n",
      "964:\tlearn: 0.1796611\ttotal: 22.3s\tremaining: 810ms\n",
      "965:\tlearn: 0.1795226\ttotal: 22.4s\tremaining: 787ms\n",
      "966:\tlearn: 0.1794863\ttotal: 22.4s\tremaining: 764ms\n",
      "967:\tlearn: 0.1793492\ttotal: 22.4s\tremaining: 741ms\n",
      "968:\tlearn: 0.1792986\ttotal: 22.4s\tremaining: 717ms\n",
      "969:\tlearn: 0.1792986\ttotal: 22.4s\tremaining: 694ms\n",
      "970:\tlearn: 0.1792701\ttotal: 22.4s\tremaining: 671ms\n",
      "971:\tlearn: 0.1791467\ttotal: 22.5s\tremaining: 647ms\n",
      "972:\tlearn: 0.1790935\ttotal: 22.5s\tremaining: 624ms\n",
      "973:\tlearn: 0.1790429\ttotal: 22.5s\tremaining: 601ms\n",
      "974:\tlearn: 0.1790184\ttotal: 22.5s\tremaining: 577ms\n",
      "975:\tlearn: 0.1790183\ttotal: 22.5s\tremaining: 554ms\n",
      "976:\tlearn: 0.1789848\ttotal: 22.6s\tremaining: 531ms\n",
      "977:\tlearn: 0.1789239\ttotal: 22.6s\tremaining: 509ms\n",
      "978:\tlearn: 0.1788788\ttotal: 22.6s\tremaining: 485ms\n",
      "979:\tlearn: 0.1788411\ttotal: 22.6s\tremaining: 462ms\n",
      "980:\tlearn: 0.1788391\ttotal: 22.7s\tremaining: 439ms\n",
      "981:\tlearn: 0.1787314\ttotal: 22.7s\tremaining: 416ms\n",
      "982:\tlearn: 0.1786536\ttotal: 22.7s\tremaining: 393ms\n",
      "983:\tlearn: 0.1786535\ttotal: 22.7s\tremaining: 369ms\n",
      "984:\tlearn: 0.1786477\ttotal: 22.7s\tremaining: 346ms\n",
      "985:\tlearn: 0.1786014\ttotal: 22.8s\tremaining: 323ms\n",
      "986:\tlearn: 0.1786013\ttotal: 22.8s\tremaining: 300ms\n",
      "987:\tlearn: 0.1785905\ttotal: 22.8s\tremaining: 277ms\n",
      "988:\tlearn: 0.1784471\ttotal: 22.8s\tremaining: 254ms\n",
      "989:\tlearn: 0.1784121\ttotal: 22.8s\tremaining: 231ms\n"
     ]
    },
    {
     "name": "stdout",
     "output_type": "stream",
     "text": [
      "990:\tlearn: 0.1783598\ttotal: 22.8s\tremaining: 207ms\n",
      "991:\tlearn: 0.1782498\ttotal: 22.9s\tremaining: 184ms\n",
      "992:\tlearn: 0.1782207\ttotal: 22.9s\tremaining: 161ms\n",
      "993:\tlearn: 0.1781603\ttotal: 22.9s\tremaining: 138ms\n",
      "994:\tlearn: 0.1781202\ttotal: 22.9s\tremaining: 115ms\n",
      "995:\tlearn: 0.1779910\ttotal: 23s\tremaining: 92.2ms\n",
      "996:\tlearn: 0.1777943\ttotal: 23s\tremaining: 69.1ms\n",
      "997:\tlearn: 0.1777126\ttotal: 23s\tremaining: 46.1ms\n",
      "998:\tlearn: 0.1775895\ttotal: 23s\tremaining: 23.1ms\n",
      "999:\tlearn: 0.1774895\ttotal: 23.1s\tremaining: 0us\n",
      "Các chỉ số đánh giá mức độ hiệu quả của mô hình: \n",
      "1. Accuracy: 0.8363984674329502\n",
      "2. confusion_matrix:\n",
      "[[1066  245]\n",
      " [ 182 1117]]\n"
     ]
    },
    {
     "data": {
      "image/png": "[encoded data removed]",
      "text/plain": [
       "<Figure size 540x540 with 1 Axes>"
      ]
     },
     "metadata": {
      "needs_background": "light"
     },
     "output_type": "display_data"
    },
    {
     "name": "stdout",
     "output_type": "stream",
     "text": [
      "3. recall_score:  0.8598922247882987\n",
      "4. precision_score:  0.8201174743024964\n",
      "5. f1_score:  0.8395340097707629\n",
      "6. Biểu đồ ROC của mô hình:\n"
     ]
    },
    {
     "name": "stderr",
     "output_type": "stream",
     "text": [
      "C:\\Users\\Administrator\\AppData\\Local\\Programs\\Python\\Python310\\lib\\site-packages\\sklearn\\utils\\deprecation.py:87: FutureWarning: Function plot_roc_curve is deprecated; Function :func:`plot_roc_curve` is deprecated in 1.0 and will be removed in 1.2. Use one of the class methods: :meth:`sklearn.metric.RocCurveDisplay.from_predictions` or :meth:`sklearn.metric.RocCurveDisplay.from_estimator`.\n",
      "  warnings.warn(msg, category=FutureWarning)\n"
     ]
    },
    {
     "data": {
      "image/png": "[encoded data removed]",
      "text/plain": [
       "<Figure size 1152x648 with 1 Axes>"
      ]
     },
     "metadata": {
      "needs_background": "light"
     },
     "output_type": "display_data"
    }
   ],
   "source": [
    "from catboost import CatBoostClassifier\n",
    "\n",
    "model_catboss = CatBoostClassifier(learning_rate = 0.1, depth = 8, rsm = 1)\n",
    "\n",
    "model_catboss.fit(X_train, Y_train)\n",
    "\n",
    "#Prediction\n",
    "cast_modelprediction=model_catboss.predict(X_test)\n",
    "\n",
    "evaluate_model (model_catboss, X_test, y_test, cast_modelprediction)"
   ]
  },
  {
   "cell_type": "markdown",
   "metadata": {
    "id": "7wmUTFEtj_kP"
   },
   "source": [
    "# **Deep Learning**"
   ]
  },
  {
   "cell_type": "markdown",
   "metadata": {
    "id": "_zs0Ma9tkL1P"
   },
   "source": [
    "# **ANN**"
   ]
  },
  {
   "cell_type": "code",
   "execution_count": 118,
   "metadata": {
    "id": "HrMDAMKbkLTi"
   },
   "outputs": [
    {
     "ename": "ModuleNotFoundError",
     "evalue": "No module named 'tensorflow'",
     "output_type": "error",
     "traceback": [
      "\u001b[1;31m------------------------------------------------------\u001b[0m",
      "\u001b[1;31mModuleNotFoundError\u001b[0m  Traceback (most recent call last)",
      "Input \u001b[1;32mIn [118]\u001b[0m, in \u001b[0;36m<cell line: 2>\u001b[1;34m()\u001b[0m\n\u001b[0;32m      1\u001b[0m \u001b[38;5;66;03m# Import the necessary libraries for ANN model\u001b[39;00m\n\u001b[1;32m----> 2\u001b[0m \u001b[38;5;28;01mfrom\u001b[39;00m \u001b[38;5;21;01mtensorflow\u001b[39;00m\u001b[38;5;21;01m.\u001b[39;00m\u001b[38;5;21;01mkeras\u001b[39;00m\u001b[38;5;21;01m.\u001b[39;00m\u001b[38;5;21;01mmodels\u001b[39;00m \u001b[38;5;28;01mimport\u001b[39;00m Sequential\n\u001b[0;32m      3\u001b[0m \u001b[38;5;28;01mfrom\u001b[39;00m \u001b[38;5;21;01mtensorflow\u001b[39;00m\u001b[38;5;21;01m.\u001b[39;00m\u001b[38;5;21;01mkeras\u001b[39;00m\u001b[38;5;21;01m.\u001b[39;00m\u001b[38;5;21;01mlayers\u001b[39;00m \u001b[38;5;28;01mimport\u001b[39;00m Dense\n",
      "\u001b[1;31mModuleNotFoundError\u001b[0m: No module named 'tensorflow'"
     ]
    }
   ],
   "source": [
    "# Import the necessary libraries for ANN model\n",
    "from tensorflow.keras.models import Sequential\n",
    "from tensorflow.keras.layers import Dense"
   ]
  },
  {
   "cell_type": "code",
   "execution_count": null,
   "metadata": {
    "id": "-CfSHt-4jv_d"
   },
   "outputs": [],
   "source": [
    "# Create a Sequential Neural Network model \n",
    "model = Sequential()\n",
    "# Create an Input and a Hidden Layer\n",
    "model.add(Dense(units=50,activation=\"relu\",kernel_initializer=\"he_uniform\"))\n",
    "# Create an Output Layer\n",
    "model.add(Dense(units=1,activation=\"sigmoid\"))\n",
    "# Now, my model is ready to compile\n",
    "model.compile(optimizer=\"adam\",loss=\"binary_crossentropy\",metrics=[\"accuracy\"])"
   ]
  },
  {
   "cell_type": "code",
   "execution_count": null,
   "metadata": {
    "colab": {
     "base_uri": "https://localhost:8080/"
    },
    "id": "h_6Fx_4jkmfl",
    "outputId": "0354cc85-0530-49c6-d69e-a527a65da0dc"
   },
   "outputs": [],
   "source": [
    "model.fit(X_train,y_train,batch_size=64,epochs=100)"
   ]
  },
  {
   "cell_type": "code",
   "execution_count": null,
   "metadata": {
    "colab": {
     "base_uri": "https://localhost:8080/"
    },
    "id": "OUWRCvzxkbo3",
    "outputId": "3a7b0792-be3a-43ea-fe46-0e6a6df011fd"
   },
   "outputs": [],
   "source": [
    "model.summary()"
   ]
  },
  {
   "cell_type": "code",
   "execution_count": null,
   "metadata": {
    "id": "s22uutU9kf-g"
   },
   "outputs": [],
   "source": [
    "# Predict the X_test results\n",
    "y_pred = model.predict(X_test)"
   ]
  },
  {
   "cell_type": "code",
   "execution_count": null,
   "metadata": {
    "id": "Jk1SfkSwktaY"
   },
   "outputs": [],
   "source": [
    "y_pred_label = []\n",
    "for i in range(0, len(y_pred)):\n",
    "  if y_pred[i] >= 0.5:\n",
    "    y_pred_label.append(1)\n",
    "  else:\n",
    "    y_pred_label.append(0)"
   ]
  },
  {
   "cell_type": "code",
   "execution_count": null,
   "metadata": {
    "colab": {
     "base_uri": "https://localhost:8080/"
    },
    "id": "l5dNlrdXkxyo",
    "outputId": "2c28d109-ba81-4189-f88e-dce10140b4a1"
   },
   "outputs": [],
   "source": [
    "print(\"Các chỉ số đánh giá mức độ hiệu quả của mô hình: \")\n",
    "#Accuracy\n",
    "print(\"1. Accuracy:\",metrics.accuracy_score(y_pred_label,y_test))\n",
    "# confusion_matrix\n",
    "print('2. confusion_matrix:')\n",
    "print(confusion_matrix(y_pred_label,y_test))\n",
    "# recall_score\n",
    "print('3. recall_score: ', recall_score(y_pred_label,y_test))\n",
    "# precision_score\n",
    "print('4. precision_score: ', precision_score(y_pred_label,y_test))\n",
    "# f1_score\n",
    "print('5. f1_score: ', f1_score(y_pred_label,y_test))"
   ]
  },
  {
   "cell_type": "markdown",
   "metadata": {
    "id": "xUUJDz4TlZRL"
   },
   "source": [
    "# **LSTM**"
   ]
  },
  {
   "cell_type": "code",
   "execution_count": null,
   "metadata": {
    "id": "P_UGRZaJlH9C"
   },
   "outputs": [],
   "source": [
    "# Import the necessary libraries for ANN model\n",
    "from tensorflow.keras.models import Sequential\n",
    "from tensorflow.keras.layers import Dense\n",
    "from keras.callbacks import EarlyStopping\n",
    "from keras.models import Sequential\n",
    "from keras.layers import LSTM\n",
    "from keras.layers import Dense\n",
    "from keras.layers import TimeDistributed\n",
    "from keras.layers import RepeatVector\n",
    "from keras.layers import Dropout"
   ]
  },
  {
   "cell_type": "code",
   "execution_count": null,
   "metadata": {
    "id": "haJY4o2Hld-G"
   },
   "outputs": [],
   "source": [
    "regressor = Sequential()\n",
    "regressor.add(LSTM(units = 50, return_sequences = True, input_shape = (X_train.shape[1], 1)))\n",
    "regressor.add(Dropout(0.2))\n",
    "\n",
    "regressor.add(LSTM(units = 50, return_sequences = True))\n",
    "regressor.add(Dropout(0.2))\n",
    "\n",
    "regressor.add(LSTM(units = 50, return_sequences = True))\n",
    "regressor.add(Dropout(0.2))\n",
    "\n",
    "regressor.add(LSTM(units = 50))\n",
    "regressor.add(Dropout(0.2))\n",
    "regressor.add(Dense(units = 1))\n",
    "regressor.compile(optimizer = 'adam', loss = 'mean_squared_error')"
   ]
  },
  {
   "cell_type": "code",
   "execution_count": null,
   "metadata": {
    "colab": {
     "base_uri": "https://localhost:8080/"
    },
    "id": "zMYSwI3blgng",
    "outputId": "b2928d20-d38a-41f3-b83a-cf187fcf1dc4"
   },
   "outputs": [],
   "source": [
    "regressor.fit(X_train, y_train, epochs = 100, batch_size = 32)"
   ]
  },
  {
   "cell_type": "code",
   "execution_count": null,
   "metadata": {
    "colab": {
     "base_uri": "https://localhost:8080/"
    },
    "id": "RIj-W3hOljtM",
    "outputId": "86a80c39-5d39-4e87-900c-53f291a963fc"
   },
   "outputs": [],
   "source": [
    "regressor.summary()"
   ]
  },
  {
   "cell_type": "code",
   "execution_count": null,
   "metadata": {
    "id": "KlHjV3iZlmDH"
   },
   "outputs": [],
   "source": [
    "# Predict the X_test results\n",
    "y_pred = regressor.predict(X_test)"
   ]
  },
  {
   "cell_type": "code",
   "execution_count": null,
   "metadata": {
    "id": "JRYzm07ElpLn"
   },
   "outputs": [],
   "source": [
    "y_pred_label = []\n",
    "for i in range(0, len(y_pred)):\n",
    "  if y_pred[i] >= 0.5:\n",
    "    y_pred_label.append(1)\n",
    "  else:\n",
    "    y_pred_label.append(0)"
   ]
  },
  {
   "cell_type": "code",
   "execution_count": null,
   "metadata": {
    "colab": {
     "base_uri": "https://localhost:8080/"
    },
    "id": "y3MSNKCulsTy",
    "outputId": "8df4401c-c1a8-4568-cb24-2b00c5dcf67e"
   },
   "outputs": [],
   "source": [
    "print(\"Các chỉ số đánh giá mức độ hiệu quả của mô hình: \")\n",
    "#Accuracy\n",
    "print(\"1. Accuracy:\",metrics.accuracy_score(y_pred_label,y_test))\n",
    "# confusion_matrix\n",
    "print('2. confusion_matrix:')\n",
    "print(confusion_matrix(y_pred_label,y_test))\n",
    "# recall_score\n",
    "print('3. recall_score: ', recall_score(y_pred_label,y_test))\n",
    "# precision_score\n",
    "print('4. precision_score: ', precision_score(y_pred_label,y_test))\n",
    "# f1_score\n",
    "print('5. f1_score: ', f1_score(y_pred_label,y_test))"
   ]
  },
  {
   "cell_type": "markdown",
   "metadata": {
    "id": "VC0pxsaoluap"
   },
   "source": [
    "# ***Kết thúc!***"
   ]
  }
 ],
 "metadata": {
  "colab": {
   "collapsed_sections": [],
   "name": "Model_Searching.ipynb",
   "provenance": []
  },
  "interpreter": {
   "hash": "3196968d684371006099b3d55edeef8ed90365227a30deaef86e5d4aa8519be0"
  },
  "kernelspec": {
   "display_name": "Python 3 (ipykernel)",
   "language": "python",
   "name": "python3"
  },
  "language_info": {
   "codemirror_mode": {
    "name": "ipython",
    "version": 3
   },
   "file_extension": ".py",
   "mimetype": "text/x-python",
   "name": "python",
   "nbconvert_exporter": "python",
   "pygments_lexer": "ipython3",
   "version": "3.10.4"
  }
 },
 "nbformat": 4,
 "nbformat_minor": 1
}
