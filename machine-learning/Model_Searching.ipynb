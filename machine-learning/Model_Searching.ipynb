{
  "nbformat": 4,
  "nbformat_minor": 0,
  "metadata": {
    "colab": {
      "name": "Model_Searching.ipynb",
      "provenance": [],
      "collapsed_sections": []
    },
    "kernelspec": {
      "name": "python3",
      "display_name": "Python 3"
    },
    "language_info": {
      "name": "python"
    }
  },
  "cells": [
    {
      "cell_type": "markdown",
      "source": [
        "# **Overview:**\n",
        "\n",
        "Chương trình này là tiếp nối của chương trình Part-2_Visualization.ipynb\n",
        "\n",
        "Chương trình là thử nghiệm các mô hình Machine Learning trên tập dữ liệu đã được xử lý cũng như có cái nhìn tổng quan từ 2 phần trước."
      ],
      "metadata": {
        "id": "-XD2n3zO9jUT"
      }
    },
    {
      "cell_type": "markdown",
      "source": [
        "# **6. Khai báo và cài đặt cần sử dụng**"
      ],
      "metadata": {
        "id": "tgRCj5JR_XJS"
      }
    },
    {
      "cell_type": "code",
      "source": [
        "import pandas as pd\n",
        "import seaborn as sns\n",
        "import matplotlib.pyplot as plt\n",
        "\n",
        "from sklearn.preprocessing import LabelEncoder\n",
        "from sklearn.preprocessing import StandardScaler\n",
        "from sklearn.model_selection import train_test_split\n",
        "from sklearn.datasets import load_breast_cancer\n",
        "from sklearn.metrics import confusion_matrix\n",
        "from sklearn.metrics import recall_score\n",
        "from sklearn.metrics import precision_score\n",
        "from sklearn.metrics import f1_score\n",
        "\n",
        "import xgboost as xgb\n",
        "import lightgbm as lgb\n",
        "from sklearn.svm import SVC\n",
        "from sklearn.ensemble import BaggingClassifier\n",
        "from sklearn.tree import DecisionTreeClassifier\n",
        "from sklearn.ensemble import RandomForestClassifier, ExtraTreesClassifier\n",
        "from sklearn.model_selection import RandomizedSearchCV,GridSearchCV\n",
        "from sklearn.inspection import permutation_importance\n",
        "from sklearn.model_selection import KFold\n",
        "from datetime import datetime\n",
        "import warnings"
      ],
      "metadata": {
        "id": "nKdLs7iA_X-j"
      },
      "execution_count": 1,
      "outputs": []
    },
    {
      "cell_type": "code",
      "source": [
        "from pylab import rcParams\n",
        "\n",
        "rcParams['figure.figsize'] = 16,9"
      ],
      "metadata": {
        "id": "7Ots-XXs9_kr"
      },
      "execution_count": 2,
      "outputs": []
    },
    {
      "cell_type": "markdown",
      "source": [
        "### **Đọc dữ liệu**"
      ],
      "metadata": {
        "id": "rIpZhGyw_f3d"
      }
    },
    {
      "cell_type": "code",
      "source": [
        "from google.colab import drive\n",
        "drive.mount('/content/drive')"
      ],
      "metadata": {
        "colab": {
          "base_uri": "https://localhost:8080/"
        },
        "id": "D24NIgv9hI01",
        "outputId": "aff46ea6-9557-4407-ac8f-529c34cc81c7"
      },
      "execution_count": 3,
      "outputs": [
        {
          "output_type": "stream",
          "name": "stdout",
          "text": [
            "Mounted at /content/drive\n"
          ]
        }
      ]
    },
    {
      "cell_type": "code",
      "execution_count": 4,
      "metadata": {
        "id": "Ocyr9vip5N0m"
      },
      "outputs": [],
      "source": [
        "df = pd.read_csv('/content/drive/MyDrive/Colab Notebooks/Code dạo/Phishing_URL/Check_data/5.urldata.csv')"
      ]
    },
    {
      "cell_type": "code",
      "source": [
        "df"
      ],
      "metadata": {
        "colab": {
          "base_uri": "https://localhost:8080/",
          "height": 424
        },
        "id": "gz6T5S2VLijc",
        "outputId": "aac84d75-93fd-4d17-ac35-eabcb6d0c42b"
      },
      "execution_count": 5,
      "outputs": [
        {
          "output_type": "execute_result",
          "data": {
            "text/plain": [
              "                          Domain  Have_IP  Have_At  URL_Length  URL_Depth  \\\n",
              "0               graphicriver.net        0        0           1          1   \n",
              "1                      ecnavi.jp        0        0           1          1   \n",
              "2                   hubpages.com        0        0           1          1   \n",
              "3                extratorrent.cc        0        0           1          3   \n",
              "4                  icicibank.com        0        0           1          3   \n",
              "...                          ...      ...      ...         ...        ...   \n",
              "9995     wvk12-my.sharepoint.com        0        0           1          5   \n",
              "9996                 adplife.com        0        0           1          4   \n",
              "9997           kurortnoye.com.ua        0        1           1          3   \n",
              "9998  norcaltc-my.sharepoint.com        0        0           1          5   \n",
              "9999       sieck-kuehlsysteme.de        0        1           1          4   \n",
              "\n",
              "      Redirection  https_Domain  TinyURL  Prefix/Suffix  DNS_Record  \\\n",
              "0               0             0        0              0           0   \n",
              "1               1             0        0              0           0   \n",
              "2               0             0        0              0           0   \n",
              "3               0             0        0              0           0   \n",
              "4               0             0        0              0           0   \n",
              "...           ...           ...      ...            ...         ...   \n",
              "9995            0             0        1              1           0   \n",
              "9996            0             0        0              0           0   \n",
              "9997            0             0        1              0           0   \n",
              "9998            0             0        1              1           0   \n",
              "9999            0             0        1              1           0   \n",
              "\n",
              "      Web_Traffic  Domain_Age  Domain_End  iFrame  Mouse_Over  Right_Click  \\\n",
              "0               1           1           1       0           0            1   \n",
              "1               1           1           1       0           0            1   \n",
              "2               1           0           1       0           0            1   \n",
              "3               1           0           1       0           0            1   \n",
              "4               1           0           1       0           0            1   \n",
              "...           ...         ...         ...     ...         ...          ...   \n",
              "9995            1           1           1       0           0            1   \n",
              "9996            1           0           1       0           0            1   \n",
              "9997            0           1           1       1           0            1   \n",
              "9998            1           1           1       0           0            1   \n",
              "9999            1           1           1       0           0            1   \n",
              "\n",
              "      Web_Forwards  Label  \n",
              "0                0      0  \n",
              "1                0      0  \n",
              "2                0      0  \n",
              "3                0      0  \n",
              "4                0      0  \n",
              "...            ...    ...  \n",
              "9995             0      1  \n",
              "9996             0      1  \n",
              "9997             0      1  \n",
              "9998             0      1  \n",
              "9999             0      1  \n",
              "\n",
              "[10000 rows x 18 columns]"
            ],
            "text/html": [
              "\n",
              "  <div id=\"df-ab02d707-8378-4f2c-8f67-7c15b9f104fb\">\n",
              "    <div class=\"colab-df-container\">\n",
              "      <div>\n",
              "<style scoped>\n",
              "    .dataframe tbody tr th:only-of-type {\n",
              "        vertical-align: middle;\n",
              "    }\n",
              "\n",
              "    .dataframe tbody tr th {\n",
              "        vertical-align: top;\n",
              "    }\n",
              "\n",
              "    .dataframe thead th {\n",
              "        text-align: right;\n",
              "    }\n",
              "</style>\n",
              "<table border=\"1\" class=\"dataframe\">\n",
              "  <thead>\n",
              "    <tr style=\"text-align: right;\">\n",
              "      <th></th>\n",
              "      <th>Domain</th>\n",
              "      <th>Have_IP</th>\n",
              "      <th>Have_At</th>\n",
              "      <th>URL_Length</th>\n",
              "      <th>URL_Depth</th>\n",
              "      <th>Redirection</th>\n",
              "      <th>https_Domain</th>\n",
              "      <th>TinyURL</th>\n",
              "      <th>Prefix/Suffix</th>\n",
              "      <th>DNS_Record</th>\n",
              "      <th>Web_Traffic</th>\n",
              "      <th>Domain_Age</th>\n",
              "      <th>Domain_End</th>\n",
              "      <th>iFrame</th>\n",
              "      <th>Mouse_Over</th>\n",
              "      <th>Right_Click</th>\n",
              "      <th>Web_Forwards</th>\n",
              "      <th>Label</th>\n",
              "    </tr>\n",
              "  </thead>\n",
              "  <tbody>\n",
              "    <tr>\n",
              "      <th>0</th>\n",
              "      <td>graphicriver.net</td>\n",
              "      <td>0</td>\n",
              "      <td>0</td>\n",
              "      <td>1</td>\n",
              "      <td>1</td>\n",
              "      <td>0</td>\n",
              "      <td>0</td>\n",
              "      <td>0</td>\n",
              "      <td>0</td>\n",
              "      <td>0</td>\n",
              "      <td>1</td>\n",
              "      <td>1</td>\n",
              "      <td>1</td>\n",
              "      <td>0</td>\n",
              "      <td>0</td>\n",
              "      <td>1</td>\n",
              "      <td>0</td>\n",
              "      <td>0</td>\n",
              "    </tr>\n",
              "    <tr>\n",
              "      <th>1</th>\n",
              "      <td>ecnavi.jp</td>\n",
              "      <td>0</td>\n",
              "      <td>0</td>\n",
              "      <td>1</td>\n",
              "      <td>1</td>\n",
              "      <td>1</td>\n",
              "      <td>0</td>\n",
              "      <td>0</td>\n",
              "      <td>0</td>\n",
              "      <td>0</td>\n",
              "      <td>1</td>\n",
              "      <td>1</td>\n",
              "      <td>1</td>\n",
              "      <td>0</td>\n",
              "      <td>0</td>\n",
              "      <td>1</td>\n",
              "      <td>0</td>\n",
              "      <td>0</td>\n",
              "    </tr>\n",
              "    <tr>\n",
              "      <th>2</th>\n",
              "      <td>hubpages.com</td>\n",
              "      <td>0</td>\n",
              "      <td>0</td>\n",
              "      <td>1</td>\n",
              "      <td>1</td>\n",
              "      <td>0</td>\n",
              "      <td>0</td>\n",
              "      <td>0</td>\n",
              "      <td>0</td>\n",
              "      <td>0</td>\n",
              "      <td>1</td>\n",
              "      <td>0</td>\n",
              "      <td>1</td>\n",
              "      <td>0</td>\n",
              "      <td>0</td>\n",
              "      <td>1</td>\n",
              "      <td>0</td>\n",
              "      <td>0</td>\n",
              "    </tr>\n",
              "    <tr>\n",
              "      <th>3</th>\n",
              "      <td>extratorrent.cc</td>\n",
              "      <td>0</td>\n",
              "      <td>0</td>\n",
              "      <td>1</td>\n",
              "      <td>3</td>\n",
              "      <td>0</td>\n",
              "      <td>0</td>\n",
              "      <td>0</td>\n",
              "      <td>0</td>\n",
              "      <td>0</td>\n",
              "      <td>1</td>\n",
              "      <td>0</td>\n",
              "      <td>1</td>\n",
              "      <td>0</td>\n",
              "      <td>0</td>\n",
              "      <td>1</td>\n",
              "      <td>0</td>\n",
              "      <td>0</td>\n",
              "    </tr>\n",
              "    <tr>\n",
              "      <th>4</th>\n",
              "      <td>icicibank.com</td>\n",
              "      <td>0</td>\n",
              "      <td>0</td>\n",
              "      <td>1</td>\n",
              "      <td>3</td>\n",
              "      <td>0</td>\n",
              "      <td>0</td>\n",
              "      <td>0</td>\n",
              "      <td>0</td>\n",
              "      <td>0</td>\n",
              "      <td>1</td>\n",
              "      <td>0</td>\n",
              "      <td>1</td>\n",
              "      <td>0</td>\n",
              "      <td>0</td>\n",
              "      <td>1</td>\n",
              "      <td>0</td>\n",
              "      <td>0</td>\n",
              "    </tr>\n",
              "    <tr>\n",
              "      <th>...</th>\n",
              "      <td>...</td>\n",
              "      <td>...</td>\n",
              "      <td>...</td>\n",
              "      <td>...</td>\n",
              "      <td>...</td>\n",
              "      <td>...</td>\n",
              "      <td>...</td>\n",
              "      <td>...</td>\n",
              "      <td>...</td>\n",
              "      <td>...</td>\n",
              "      <td>...</td>\n",
              "      <td>...</td>\n",
              "      <td>...</td>\n",
              "      <td>...</td>\n",
              "      <td>...</td>\n",
              "      <td>...</td>\n",
              "      <td>...</td>\n",
              "      <td>...</td>\n",
              "    </tr>\n",
              "    <tr>\n",
              "      <th>9995</th>\n",
              "      <td>wvk12-my.sharepoint.com</td>\n",
              "      <td>0</td>\n",
              "      <td>0</td>\n",
              "      <td>1</td>\n",
              "      <td>5</td>\n",
              "      <td>0</td>\n",
              "      <td>0</td>\n",
              "      <td>1</td>\n",
              "      <td>1</td>\n",
              "      <td>0</td>\n",
              "      <td>1</td>\n",
              "      <td>1</td>\n",
              "      <td>1</td>\n",
              "      <td>0</td>\n",
              "      <td>0</td>\n",
              "      <td>1</td>\n",
              "      <td>0</td>\n",
              "      <td>1</td>\n",
              "    </tr>\n",
              "    <tr>\n",
              "      <th>9996</th>\n",
              "      <td>adplife.com</td>\n",
              "      <td>0</td>\n",
              "      <td>0</td>\n",
              "      <td>1</td>\n",
              "      <td>4</td>\n",
              "      <td>0</td>\n",
              "      <td>0</td>\n",
              "      <td>0</td>\n",
              "      <td>0</td>\n",
              "      <td>0</td>\n",
              "      <td>1</td>\n",
              "      <td>0</td>\n",
              "      <td>1</td>\n",
              "      <td>0</td>\n",
              "      <td>0</td>\n",
              "      <td>1</td>\n",
              "      <td>0</td>\n",
              "      <td>1</td>\n",
              "    </tr>\n",
              "    <tr>\n",
              "      <th>9997</th>\n",
              "      <td>kurortnoye.com.ua</td>\n",
              "      <td>0</td>\n",
              "      <td>1</td>\n",
              "      <td>1</td>\n",
              "      <td>3</td>\n",
              "      <td>0</td>\n",
              "      <td>0</td>\n",
              "      <td>1</td>\n",
              "      <td>0</td>\n",
              "      <td>0</td>\n",
              "      <td>0</td>\n",
              "      <td>1</td>\n",
              "      <td>1</td>\n",
              "      <td>1</td>\n",
              "      <td>0</td>\n",
              "      <td>1</td>\n",
              "      <td>0</td>\n",
              "      <td>1</td>\n",
              "    </tr>\n",
              "    <tr>\n",
              "      <th>9998</th>\n",
              "      <td>norcaltc-my.sharepoint.com</td>\n",
              "      <td>0</td>\n",
              "      <td>0</td>\n",
              "      <td>1</td>\n",
              "      <td>5</td>\n",
              "      <td>0</td>\n",
              "      <td>0</td>\n",
              "      <td>1</td>\n",
              "      <td>1</td>\n",
              "      <td>0</td>\n",
              "      <td>1</td>\n",
              "      <td>1</td>\n",
              "      <td>1</td>\n",
              "      <td>0</td>\n",
              "      <td>0</td>\n",
              "      <td>1</td>\n",
              "      <td>0</td>\n",
              "      <td>1</td>\n",
              "    </tr>\n",
              "    <tr>\n",
              "      <th>9999</th>\n",
              "      <td>sieck-kuehlsysteme.de</td>\n",
              "      <td>0</td>\n",
              "      <td>1</td>\n",
              "      <td>1</td>\n",
              "      <td>4</td>\n",
              "      <td>0</td>\n",
              "      <td>0</td>\n",
              "      <td>1</td>\n",
              "      <td>1</td>\n",
              "      <td>0</td>\n",
              "      <td>1</td>\n",
              "      <td>1</td>\n",
              "      <td>1</td>\n",
              "      <td>0</td>\n",
              "      <td>0</td>\n",
              "      <td>1</td>\n",
              "      <td>0</td>\n",
              "      <td>1</td>\n",
              "    </tr>\n",
              "  </tbody>\n",
              "</table>\n",
              "<p>10000 rows × 18 columns</p>\n",
              "</div>\n",
              "      <button class=\"colab-df-convert\" onclick=\"convertToInteractive('df-ab02d707-8378-4f2c-8f67-7c15b9f104fb')\"\n",
              "              title=\"Convert this dataframe to an interactive table.\"\n",
              "              style=\"display:none;\">\n",
              "        \n",
              "  <svg xmlns=\"http://www.w3.org/2000/svg\" height=\"24px\"viewBox=\"0 0 24 24\"\n",
              "       width=\"24px\">\n",
              "    <path d=\"M0 0h24v24H0V0z\" fill=\"none\"/>\n",
              "    <path d=\"M18.56 5.44l.94 2.06.94-2.06 2.06-.94-2.06-.94-.94-2.06-.94 2.06-2.06.94zm-11 1L8.5 8.5l.94-2.06 2.06-.94-2.06-.94L8.5 2.5l-.94 2.06-2.06.94zm10 10l.94 2.06.94-2.06 2.06-.94-2.06-.94-.94-2.06-.94 2.06-2.06.94z\"/><path d=\"M17.41 7.96l-1.37-1.37c-.4-.4-.92-.59-1.43-.59-.52 0-1.04.2-1.43.59L10.3 9.45l-7.72 7.72c-.78.78-.78 2.05 0 2.83L4 21.41c.39.39.9.59 1.41.59.51 0 1.02-.2 1.41-.59l7.78-7.78 2.81-2.81c.8-.78.8-2.07 0-2.86zM5.41 20L4 18.59l7.72-7.72 1.47 1.35L5.41 20z\"/>\n",
              "  </svg>\n",
              "      </button>\n",
              "      \n",
              "  <style>\n",
              "    .colab-df-container {\n",
              "      display:flex;\n",
              "      flex-wrap:wrap;\n",
              "      gap: 12px;\n",
              "    }\n",
              "\n",
              "    .colab-df-convert {\n",
              "      background-color: #E8F0FE;\n",
              "      border: none;\n",
              "      border-radius: 50%;\n",
              "      cursor: pointer;\n",
              "      display: none;\n",
              "      fill: #1967D2;\n",
              "      height: 32px;\n",
              "      padding: 0 0 0 0;\n",
              "      width: 32px;\n",
              "    }\n",
              "\n",
              "    .colab-df-convert:hover {\n",
              "      background-color: #E2EBFA;\n",
              "      box-shadow: 0px 1px 2px rgba(60, 64, 67, 0.3), 0px 1px 3px 1px rgba(60, 64, 67, 0.15);\n",
              "      fill: #174EA6;\n",
              "    }\n",
              "\n",
              "    [theme=dark] .colab-df-convert {\n",
              "      background-color: #3B4455;\n",
              "      fill: #D2E3FC;\n",
              "    }\n",
              "\n",
              "    [theme=dark] .colab-df-convert:hover {\n",
              "      background-color: #434B5C;\n",
              "      box-shadow: 0px 1px 3px 1px rgba(0, 0, 0, 0.15);\n",
              "      filter: drop-shadow(0px 1px 2px rgba(0, 0, 0, 0.3));\n",
              "      fill: #FFFFFF;\n",
              "    }\n",
              "  </style>\n",
              "\n",
              "      <script>\n",
              "        const buttonEl =\n",
              "          document.querySelector('#df-ab02d707-8378-4f2c-8f67-7c15b9f104fb button.colab-df-convert');\n",
              "        buttonEl.style.display =\n",
              "          google.colab.kernel.accessAllowed ? 'block' : 'none';\n",
              "\n",
              "        async function convertToInteractive(key) {\n",
              "          const element = document.querySelector('#df-ab02d707-8378-4f2c-8f67-7c15b9f104fb');\n",
              "          const dataTable =\n",
              "            await google.colab.kernel.invokeFunction('convertToInteractive',\n",
              "                                                     [key], {});\n",
              "          if (!dataTable) return;\n",
              "\n",
              "          const docLinkHtml = 'Like what you see? Visit the ' +\n",
              "            '<a target=\"_blank\" href=https://colab.research.google.com/notebooks/data_table.ipynb>data table notebook</a>'\n",
              "            + ' to learn more about interactive tables.';\n",
              "          element.innerHTML = '';\n",
              "          dataTable['output_type'] = 'display_data';\n",
              "          await google.colab.output.renderOutput(dataTable, element);\n",
              "          const docLink = document.createElement('div');\n",
              "          docLink.innerHTML = docLinkHtml;\n",
              "          element.appendChild(docLink);\n",
              "        }\n",
              "      </script>\n",
              "    </div>\n",
              "  </div>\n",
              "  "
            ]
          },
          "metadata": {},
          "execution_count": 5
        }
      ]
    },
    {
      "cell_type": "markdown",
      "source": [
        "**Kiểm tra độ quan trọng của đăc trưng (feature important)**"
      ],
      "metadata": {
        "id": "Dxi_EEFcM0d9"
      }
    },
    {
      "cell_type": "code",
      "source": [
        "df.columns"
      ],
      "metadata": {
        "colab": {
          "base_uri": "https://localhost:8080/"
        },
        "id": "3W3-QIMUK7vX",
        "outputId": "c295dcf0-d17f-458d-d68d-a29d7b9dfbde"
      },
      "execution_count": 6,
      "outputs": [
        {
          "output_type": "execute_result",
          "data": {
            "text/plain": [
              "Index(['Domain', 'Have_IP', 'Have_At', 'URL_Length', 'URL_Depth',\n",
              "       'Redirection', 'https_Domain', 'TinyURL', 'Prefix/Suffix', 'DNS_Record',\n",
              "       'Web_Traffic', 'Domain_Age', 'Domain_End', 'iFrame', 'Mouse_Over',\n",
              "       'Right_Click', 'Web_Forwards', 'Label'],\n",
              "      dtype='object')"
            ]
          },
          "metadata": {},
          "execution_count": 6
        }
      ]
    },
    {
      "cell_type": "code",
      "source": [
        "features = ['Have_IP', 'Have_At', 'URL_Length', 'URL_Depth',\n",
        "       'Redirection', 'https_Domain', 'TinyURL', 'Prefix/Suffix', 'DNS_Record',\n",
        "       'Domain_Age', 'Domain_End', 'iFrame', 'Mouse_Over',\n",
        "       'Right_Click', 'Web_Forwards']"
      ],
      "metadata": {
        "id": "aMX4P9l3K_Am"
      },
      "execution_count": 7,
      "outputs": []
    },
    {
      "cell_type": "code",
      "source": [
        "X = df[features]\n",
        "y = df['Label']"
      ],
      "metadata": {
        "id": "yv-gjIRYNEOC"
      },
      "execution_count": 8,
      "outputs": []
    },
    {
      "cell_type": "code",
      "source": [
        "X_train, X_test, y_train, y_test = train_test_split(X, y, test_size=0.3, random_state=42)"
      ],
      "metadata": {
        "id": "61IBCJ_pIWYr"
      },
      "execution_count": 9,
      "outputs": []
    },
    {
      "cell_type": "code",
      "source": [
        "from sklearn.ensemble import RandomForestRegressor\n",
        "rf = RandomForestRegressor(n_estimators=100)\n",
        "rf.fit(X_train, y_train)"
      ],
      "metadata": {
        "colab": {
          "base_uri": "https://localhost:8080/"
        },
        "id": "DWdnFFbuIjDv",
        "outputId": "ca3ec27d-e2bb-43f0-8789-b35cefe83a23"
      },
      "execution_count": 10,
      "outputs": [
        {
          "output_type": "execute_result",
          "data": {
            "text/plain": [
              "RandomForestRegressor()"
            ]
          },
          "metadata": {},
          "execution_count": 10
        }
      ]
    },
    {
      "cell_type": "code",
      "source": [
        "rf.feature_importances_"
      ],
      "metadata": {
        "colab": {
          "base_uri": "https://localhost:8080/"
        },
        "id": "1fmC4y4eI1VI",
        "outputId": "68bec4ca-6ab9-4690-faca-16f7dfaa60cb"
      },
      "execution_count": 11,
      "outputs": [
        {
          "output_type": "execute_result",
          "data": {
            "text/plain": [
              "array([5.51923879e-03, 4.13449137e-02, 4.93929994e-01, 1.67345630e-01,\n",
              "       1.19430932e-02, 7.17099048e-04, 2.10146953e-02, 1.43589726e-01,\n",
              "       1.12912418e-02, 2.26332448e-02, 2.13236224e-02, 2.81982864e-02,\n",
              "       8.55651178e-03, 4.68277531e-05, 2.25458746e-02])"
            ]
          },
          "metadata": {},
          "execution_count": 11
        }
      ]
    },
    {
      "cell_type": "code",
      "source": [
        "plt.barh(features, rf.feature_importances_)"
      ],
      "metadata": {
        "colab": {
          "base_uri": "https://localhost:8080/",
          "height": 554
        },
        "id": "IQVZxEreI3KH",
        "outputId": "a0f200cb-790a-454f-d7bf-bd4ea0485a60"
      },
      "execution_count": 12,
      "outputs": [
        {
          "output_type": "execute_result",
          "data": {
            "text/plain": [
              "<BarContainer object of 15 artists>"
            ]
          },
          "metadata": {},
          "execution_count": 12
        },
        {
          "output_type": "display_data",
          "data": {
            "text/plain": [
              "<Figure size 1152x648 with 1 Axes>"
            ],
            "image/png": "[encoded data removed]"
          },
          "metadata": {
            "needs_background": "light"
          }
        }
      ]
    },
    {
      "cell_type": "markdown",
      "source": [
        "# **7. Huấn luyện mô hình - Classification**"
      ],
      "metadata": {
        "id": "KtuTlVylLp3I"
      }
    },
    {
      "cell_type": "markdown",
      "source": [
        "**Split dataset**"
      ],
      "metadata": {
        "id": "EbL1nMOY3okR"
      }
    },
    {
      "cell_type": "code",
      "source": [
        "Y = y"
      ],
      "metadata": {
        "id": "saGRfI7GikQM"
      },
      "execution_count": 13,
      "outputs": []
    },
    {
      "cell_type": "code",
      "source": [
        "from sklearn.model_selection import train_test_split"
      ],
      "metadata": {
        "id": "NRbIflUoQjzr"
      },
      "execution_count": 14,
      "outputs": []
    },
    {
      "cell_type": "code",
      "source": [
        "X_train,X_test,Y_train,y_test=train_test_split(X,Y,test_size=0.3,random_state=42)"
      ],
      "metadata": {
        "id": "wAPp5Qa23w15"
      },
      "execution_count": 57,
      "outputs": []
    },
    {
      "cell_type": "code",
      "source": [
        "print('Kích thước tập huấn luyện: ', X_train.shape, y_train.shape)\n",
        "print('Kích thước tập kiểm tra: ', X_test.shape, y_test.shape)"
      ],
      "metadata": {
        "colab": {
          "base_uri": "https://localhost:8080/"
        },
        "id": "KtRwVSMyMQtu",
        "outputId": "62456ea7-9d92-4860-9375-4667700ed71c"
      },
      "execution_count": 41,
      "outputs": [
        {
          "output_type": "stream",
          "name": "stdout",
          "text": [
            "Kích thước tập huấn luyện:  (7000, 15) (7000,)\n",
            "Kích thước tập kiểm tra:  (3000, 15) (3000,)\n"
          ]
        }
      ]
    },
    {
      "cell_type": "code",
      "source": [
        "# Hàm tính độ chính xác, ma trận nhầm lẫn, Recall, precision, f1 score và vẽ đồ thị ROC\n",
        "from sklearn import metrics\n",
        "from sklearn.model_selection import cross_val_score\n",
        "def evaluate_model(model, X_test, y_test, y_prediction):\n",
        "  print(\"Các chỉ số đánh giá mức độ hiệu quả của mô hình: \")\n",
        "  #Accuracy\n",
        "  print(\"1. Accuracy:\",metrics.accuracy_score(y_prediction,y_test))\n",
        "  # confusion_matrix\n",
        "  print('2. confusion_matrix:')\n",
        "  print(confusion_matrix(y_prediction,y_test))\n",
        "  # recall_score\n",
        "  print('3. recall_score: ', recall_score(y_prediction,y_test))\n",
        "  # precision_score\n",
        "  print('4. precision_score: ', precision_score(y_prediction,y_test))\n",
        "  # f1_score\n",
        "  print('5. f1_score: ', f1_score(y_prediction,y_test))\n",
        "  # ROC plot\n",
        "  print('6. Biểu đồ ROC của mô hình:')\n",
        "  metrics.plot_roc_curve(model, X_test, y_test)\n",
        "  plt.show()"
      ],
      "metadata": {
        "id": "FGjZf5lpKJBb"
      },
      "execution_count": 42,
      "outputs": []
    },
    {
      "cell_type": "markdown",
      "source": [
        "**Logistic Regression**"
      ],
      "metadata": {
        "id": "hwZEX4dN4vJb"
      }
    },
    {
      "cell_type": "code",
      "source": [
        "#Given smote, we have to do a little adjustment\n",
        "from sklearn.linear_model import LogisticRegression\n",
        "from sklearn.model_selection import cross_val_score\n",
        "\n",
        "logreg = LogisticRegression(fit_intercept=True, penalty='l2')\n",
        "logreg.fit(X_train, Y_train)\n",
        "\n",
        "logregprediction=logreg.predict(X_test)\n",
        "\n",
        "evaluate_model (logreg, X_test, y_test, logregprediction)"
      ],
      "metadata": {
        "colab": {
          "base_uri": "https://localhost:8080/",
          "height": 901
        },
        "id": "qWvT8xzX4_Q8",
        "outputId": "b458b8ee-9f48-436b-d252-248f0b807a68"
      },
      "execution_count": 44,
      "outputs": [
        {
          "output_type": "stream",
          "name": "stderr",
          "text": [
            "/usr/local/lib/python3.7/dist-packages/sklearn/linear_model/_logistic.py:818: ConvergenceWarning: lbfgs failed to converge (status=1):\n",
            "STOP: TOTAL NO. of ITERATIONS REACHED LIMIT.\n",
            "\n",
            "Increase the number of iterations (max_iter) or scale the data as shown in:\n",
            "    https://scikit-learn.org/stable/modules/preprocessing.html\n",
            "Please also refer to the documentation for alternative solver options:\n",
            "    https://scikit-learn.org/stable/modules/linear_model.html#logistic-regression\n",
            "  extra_warning_msg=_LOGISTIC_SOLVER_CONVERGENCE_MSG,\n",
            "/usr/local/lib/python3.7/dist-packages/sklearn/utils/deprecation.py:87: FutureWarning: Function plot_roc_curve is deprecated; Function :func:`plot_roc_curve` is deprecated in 1.0 and will be removed in 1.2. Use one of the class methods: :meth:`sklearn.metric.RocCurveDisplay.from_predictions` or :meth:`sklearn.metric.RocCurveDisplay.from_estimator`.\n",
            "  warnings.warn(msg, category=FutureWarning)\n"
          ]
        },
        {
          "output_type": "stream",
          "name": "stdout",
          "text": [
            "Các chỉ số đánh giá mức độ hiệu quả của mô hình: \n",
            "1. Accuracy: 0.7873333333333333\n",
            "2. confusion_matrix:\n",
            "[[1424  525]\n",
            " [ 113  938]]\n",
            "3. recall_score:  0.8924833491912464\n",
            "4. precision_score:  0.6411483253588517\n",
            "5. f1_score:  0.7462211614956245\n",
            "6. Biểu đồ ROC của mô hình:\n"
          ]
        },
        {
          "output_type": "display_data",
          "data": {
            "text/plain": [
              "<Figure size 1152x648 with 1 Axes>"
            ],
            "image/png": "[encoded data removed]"
          },
          "metadata": {
            "needs_background": "light"
          }
        }
      ]
    },
    {
      "cell_type": "markdown",
      "source": [
        "**Linear Discriminant Analysis**"
      ],
      "metadata": {
        "id": "Ee6TlsOgqMAI"
      }
    },
    {
      "cell_type": "code",
      "source": [
        "from sklearn.discriminant_analysis import LinearDiscriminantAnalysis\n",
        "lda = LinearDiscriminantAnalysis()\n",
        "lda.fit(X_train, Y_train)\n",
        "\n",
        "lda_prediction=lda.predict(X_test)\n",
        "\n",
        "evaluate_model (lda, X_test, y_test, lda_prediction)"
      ],
      "metadata": {
        "id": "wsnY-aN3Bykd",
        "colab": {
          "base_uri": "https://localhost:8080/",
          "height": 762
        },
        "outputId": "e0b7ac5c-dcdf-41c4-e08b-4c935683b7c0"
      },
      "execution_count": 45,
      "outputs": [
        {
          "output_type": "stream",
          "name": "stdout",
          "text": [
            "Các chỉ số đánh giá mức độ hiệu quả của mô hình: \n",
            "1. Accuracy: 0.79\n",
            "2. confusion_matrix:\n",
            "[[1445  538]\n",
            " [  92  925]]\n",
            "3. recall_score:  0.9095378564405113\n",
            "4. precision_score:  0.6322624743677375\n",
            "5. f1_score:  0.745967741935484\n",
            "6. Biểu đồ ROC của mô hình:\n"
          ]
        },
        {
          "output_type": "stream",
          "name": "stderr",
          "text": [
            "/usr/local/lib/python3.7/dist-packages/sklearn/utils/deprecation.py:87: FutureWarning: Function plot_roc_curve is deprecated; Function :func:`plot_roc_curve` is deprecated in 1.0 and will be removed in 1.2. Use one of the class methods: :meth:`sklearn.metric.RocCurveDisplay.from_predictions` or :meth:`sklearn.metric.RocCurveDisplay.from_estimator`.\n",
            "  warnings.warn(msg, category=FutureWarning)\n"
          ]
        },
        {
          "output_type": "display_data",
          "data": {
            "text/plain": [
              "<Figure size 1152x648 with 1 Axes>"
            ],
            "image/png": "[encoded data removed]"
          },
          "metadata": {
            "needs_background": "light"
          }
        }
      ]
    },
    {
      "cell_type": "markdown",
      "source": [
        "**Gaussian Naive Bayes**"
      ],
      "metadata": {
        "id": "iXusnunQqbS2"
      }
    },
    {
      "cell_type": "code",
      "source": [
        "from sklearn.naive_bayes import GaussianNB\n",
        "gnb = GaussianNB()\n",
        "gnb.fit(X_train, Y_train)\n",
        "\n",
        "gnbprediction=gnb.predict(X_test)\n",
        "\n",
        "evaluate_model (gnb, X_test, y_test, gnbprediction)"
      ],
      "metadata": {
        "colab": {
          "base_uri": "https://localhost:8080/",
          "height": 762
        },
        "id": "BlwsFZL-qOor",
        "outputId": "7a5f75b9-8b6f-41df-ce0e-8a8f2777677a"
      },
      "execution_count": 46,
      "outputs": [
        {
          "output_type": "stream",
          "name": "stdout",
          "text": [
            "Các chỉ số đánh giá mức độ hiệu quả của mô hình: \n",
            "1. Accuracy: 0.7926666666666666\n",
            "2. confusion_matrix:\n",
            "[[1522  607]\n",
            " [  15  856]]\n",
            "3. recall_score:  0.9827784156142365\n",
            "4. precision_score:  0.5850991114149009\n",
            "5. f1_score:  0.7335047129391603\n",
            "6. Biểu đồ ROC của mô hình:\n"
          ]
        },
        {
          "output_type": "stream",
          "name": "stderr",
          "text": [
            "/usr/local/lib/python3.7/dist-packages/sklearn/utils/deprecation.py:87: FutureWarning: Function plot_roc_curve is deprecated; Function :func:`plot_roc_curve` is deprecated in 1.0 and will be removed in 1.2. Use one of the class methods: :meth:`sklearn.metric.RocCurveDisplay.from_predictions` or :meth:`sklearn.metric.RocCurveDisplay.from_estimator`.\n",
            "  warnings.warn(msg, category=FutureWarning)\n"
          ]
        },
        {
          "output_type": "display_data",
          "data": {
            "text/plain": [
              "<Figure size 1152x648 with 1 Axes>"
            ],
            "image/png": "[encoded data removed]"
          },
          "metadata": {
            "needs_background": "light"
          }
        }
      ]
    },
    {
      "cell_type": "markdown",
      "source": [
        "**Decision Tree Classifier**"
      ],
      "metadata": {
        "id": "EgyS0v2nqzZo"
      }
    },
    {
      "cell_type": "code",
      "source": [
        "from sklearn.tree import DecisionTreeClassifier\n",
        "\n",
        "dtc= DecisionTreeClassifier(random_state=42)\n",
        "dtc.fit(X_train,Y_train)\n",
        "\n",
        "dtcprediction=dtc.predict(X_test)\n",
        "\n",
        "evaluate_model (dtc, X_test, y_test, dtcprediction)"
      ],
      "metadata": {
        "colab": {
          "base_uri": "https://localhost:8080/",
          "height": 762
        },
        "id": "AiJpm4jAqrHy",
        "outputId": "0ff48e17-ceec-49cf-ab9a-d4de737041e6"
      },
      "execution_count": 47,
      "outputs": [
        {
          "output_type": "stream",
          "name": "stdout",
          "text": [
            "Các chỉ số đánh giá mức độ hiệu quả của mô hình: \n",
            "1. Accuracy: 0.8523333333333334\n",
            "2. confusion_matrix:\n",
            "[[1443  349]\n",
            " [  94 1114]]\n",
            "3. recall_score:  0.9221854304635762\n",
            "4. precision_score:  0.7614490772385509\n",
            "5. f1_score:  0.8341445151628604\n",
            "6. Biểu đồ ROC của mô hình:\n"
          ]
        },
        {
          "output_type": "stream",
          "name": "stderr",
          "text": [
            "/usr/local/lib/python3.7/dist-packages/sklearn/utils/deprecation.py:87: FutureWarning: Function plot_roc_curve is deprecated; Function :func:`plot_roc_curve` is deprecated in 1.0 and will be removed in 1.2. Use one of the class methods: :meth:`sklearn.metric.RocCurveDisplay.from_predictions` or :meth:`sklearn.metric.RocCurveDisplay.from_estimator`.\n",
            "  warnings.warn(msg, category=FutureWarning)\n"
          ]
        },
        {
          "output_type": "display_data",
          "data": {
            "text/plain": [
              "<Figure size 1152x648 with 1 Axes>"
            ],
            "image/png": "[encoded data removed]"
          },
          "metadata": {
            "needs_background": "light"
          }
        }
      ]
    },
    {
      "cell_type": "markdown",
      "source": [
        "**Random Forest Classifier**"
      ],
      "metadata": {
        "id": "Yw0tgBQYrDk3"
      }
    },
    {
      "cell_type": "code",
      "source": [
        "from sklearn.ensemble import RandomForestClassifier\n",
        "\n",
        "rfc=RandomForestClassifier(n_jobs=-1,random_state=123)\n",
        "#learning\n",
        "rfc.fit(X_train,Y_train)\n",
        "#Prediction\n",
        "rfcprediction=rfc.predict(X_test)\n",
        "\n",
        "evaluate_model (rfc, X_test, y_test, rfcprediction)\n"
      ],
      "metadata": {
        "colab": {
          "base_uri": "https://localhost:8080/",
          "height": 762
        },
        "id": "OUTcjv1Cq3Ff",
        "outputId": "2a0c3258-f9ea-4f34-bba4-07c6e6a4592f"
      },
      "execution_count": 48,
      "outputs": [
        {
          "output_type": "stream",
          "name": "stdout",
          "text": [
            "Các chỉ số đánh giá mức độ hiệu quả của mô hình: \n",
            "1. Accuracy: 0.854\n",
            "2. confusion_matrix:\n",
            "[[1441  342]\n",
            " [  96 1121]]\n",
            "3. recall_score:  0.9211175020542317\n",
            "4. precision_score:  0.7662337662337663\n",
            "5. f1_score:  0.8365671641791044\n",
            "6. Biểu đồ ROC của mô hình:\n"
          ]
        },
        {
          "output_type": "stream",
          "name": "stderr",
          "text": [
            "/usr/local/lib/python3.7/dist-packages/sklearn/utils/deprecation.py:87: FutureWarning: Function plot_roc_curve is deprecated; Function :func:`plot_roc_curve` is deprecated in 1.0 and will be removed in 1.2. Use one of the class methods: :meth:`sklearn.metric.RocCurveDisplay.from_predictions` or :meth:`sklearn.metric.RocCurveDisplay.from_estimator`.\n",
            "  warnings.warn(msg, category=FutureWarning)\n"
          ]
        },
        {
          "output_type": "display_data",
          "data": {
            "text/plain": [
              "<Figure size 1152x648 with 1 Axes>"
            ],
            "image/png": "[encoded data removed]"
          },
          "metadata": {
            "needs_background": "light"
          }
        }
      ]
    },
    {
      "cell_type": "markdown",
      "source": [
        "**SVM Classifier**"
      ],
      "metadata": {
        "id": "Lrsi70oirRzh"
      }
    },
    {
      "cell_type": "code",
      "source": [
        "from sklearn import svm\n",
        "#making the instance\n",
        "svc = svm.SVC(random_state=123)\n",
        "#learning\n",
        "svc.fit(X_train,Y_train)\n",
        "#Prediction\n",
        "svcprediction=svc.predict(X_test)\n",
        "\n",
        "evaluate_model (svc, X_test, y_test, svcprediction)"
      ],
      "metadata": {
        "colab": {
          "base_uri": "https://localhost:8080/",
          "height": 762
        },
        "id": "Jw3weoEjrOA-",
        "outputId": "c29927ac-a7a8-4eff-8b49-13583316438b"
      },
      "execution_count": 49,
      "outputs": [
        {
          "output_type": "stream",
          "name": "stdout",
          "text": [
            "Các chỉ số đánh giá mức độ hiệu quả của mô hình: \n",
            "1. Accuracy: 0.822\n",
            "2. confusion_matrix:\n",
            "[[1484  481]\n",
            " [  53  982]]\n",
            "3. recall_score:  0.9487922705314009\n",
            "4. precision_score:  0.6712235133287765\n",
            "5. f1_score:  0.7862289831865492\n",
            "6. Biểu đồ ROC của mô hình:\n"
          ]
        },
        {
          "output_type": "stream",
          "name": "stderr",
          "text": [
            "/usr/local/lib/python3.7/dist-packages/sklearn/utils/deprecation.py:87: FutureWarning: Function plot_roc_curve is deprecated; Function :func:`plot_roc_curve` is deprecated in 1.0 and will be removed in 1.2. Use one of the class methods: :meth:`sklearn.metric.RocCurveDisplay.from_predictions` or :meth:`sklearn.metric.RocCurveDisplay.from_estimator`.\n",
            "  warnings.warn(msg, category=FutureWarning)\n"
          ]
        },
        {
          "output_type": "display_data",
          "data": {
            "text/plain": [
              "<Figure size 1152x648 with 1 Axes>"
            ],
            "image/png": "[encoded data removed]"
          },
          "metadata": {
            "needs_background": "light"
          }
        }
      ]
    },
    {
      "cell_type": "markdown",
      "source": [
        "**K-NearestNeighbours Classifier**"
      ],
      "metadata": {
        "id": "fQx_zcFCrcHJ"
      }
    },
    {
      "cell_type": "code",
      "source": [
        "from sklearn.neighbors import KNeighborsClassifier\n",
        "#making the instance\n",
        "knn = KNeighborsClassifier()\n",
        "#learning\n",
        "knn.fit(X_train,Y_train)\n",
        "#Prediction\n",
        "knnprediction=knn.predict(X_test)\n",
        "\n",
        "evaluate_model (knn, X_test, y_test, knnprediction)"
      ],
      "metadata": {
        "colab": {
          "base_uri": "https://localhost:8080/",
          "height": 762
        },
        "id": "mowRL2N5rXxt",
        "outputId": "13c3f6a9-7d8e-48e4-d9ee-f1e5b875a90f"
      },
      "execution_count": 50,
      "outputs": [
        {
          "output_type": "stream",
          "name": "stdout",
          "text": [
            "Các chỉ số đánh giá mức độ hiệu quả của mô hình: \n",
            "1. Accuracy: 0.8136666666666666\n",
            "2. confusion_matrix:\n",
            "[[1354  376]\n",
            " [ 183 1087]]\n",
            "3. recall_score:  0.8559055118110236\n",
            "4. precision_score:  0.7429938482570062\n",
            "5. f1_score:  0.7954628613245518\n",
            "6. Biểu đồ ROC của mô hình:\n"
          ]
        },
        {
          "output_type": "stream",
          "name": "stderr",
          "text": [
            "/usr/local/lib/python3.7/dist-packages/sklearn/utils/deprecation.py:87: FutureWarning: Function plot_roc_curve is deprecated; Function :func:`plot_roc_curve` is deprecated in 1.0 and will be removed in 1.2. Use one of the class methods: :meth:`sklearn.metric.RocCurveDisplay.from_predictions` or :meth:`sklearn.metric.RocCurveDisplay.from_estimator`.\n",
            "  warnings.warn(msg, category=FutureWarning)\n"
          ]
        },
        {
          "output_type": "display_data",
          "data": {
            "text/plain": [
              "<Figure size 1152x648 with 1 Axes>"
            ],
            "image/png": "[encoded data removed]"
          },
          "metadata": {
            "needs_background": "light"
          }
        }
      ]
    },
    {
      "cell_type": "markdown",
      "source": [
        "**Ada Boost**"
      ],
      "metadata": {
        "id": "uzixDQHKuCZ1"
      }
    },
    {
      "cell_type": "code",
      "source": [
        "from sklearn.ensemble import AdaBoostClassifier\n",
        "\n",
        "ada_model = AdaBoostClassifier(n_estimators=200, random_state=44)\n",
        "\n",
        "#learning\n",
        "ada_model.fit(X_train,Y_train)\n",
        "#Prediction\n",
        "ada_modelprediction=ada_model.predict(X_test)\n",
        "\n",
        "evaluate_model (ada_model, X_test, y_test, ada_modelprediction)"
      ],
      "metadata": {
        "colab": {
          "base_uri": "https://localhost:8080/",
          "height": 762
        },
        "id": "PzHkDqlKrkC8",
        "outputId": "237473e5-86e7-4248-b653-943cf217cbb9"
      },
      "execution_count": 51,
      "outputs": [
        {
          "output_type": "stream",
          "name": "stdout",
          "text": [
            "Các chỉ số đánh giá mức độ hiệu quả của mô hình: \n",
            "1. Accuracy: 0.804\n",
            "2. confusion_matrix:\n",
            "[[1363  414]\n",
            " [ 174 1049]]\n",
            "3. recall_score:  0.8577269010629599\n",
            "4. precision_score:  0.7170198222829802\n",
            "5. f1_score:  0.7810871183916603\n",
            "6. Biểu đồ ROC của mô hình:\n"
          ]
        },
        {
          "output_type": "stream",
          "name": "stderr",
          "text": [
            "/usr/local/lib/python3.7/dist-packages/sklearn/utils/deprecation.py:87: FutureWarning: Function plot_roc_curve is deprecated; Function :func:`plot_roc_curve` is deprecated in 1.0 and will be removed in 1.2. Use one of the class methods: :meth:`sklearn.metric.RocCurveDisplay.from_predictions` or :meth:`sklearn.metric.RocCurveDisplay.from_estimator`.\n",
            "  warnings.warn(msg, category=FutureWarning)\n"
          ]
        },
        {
          "output_type": "display_data",
          "data": {
            "text/plain": [
              "<Figure size 1152x648 with 1 Axes>"
            ],
            "image/png": "[encoded data removed]"
          },
          "metadata": {
            "needs_background": "light"
          }
        }
      ]
    },
    {
      "cell_type": "markdown",
      "source": [
        "**XGB Classifier**"
      ],
      "metadata": {
        "id": "76xn-4l8ukYZ"
      }
    },
    {
      "cell_type": "code",
      "source": [
        "from xgboost import XGBClassifier\n",
        "\n",
        "XGB_1 = XGBClassifier(objective='binary:logistic',scale_pos_weight=1,n_estimators=85, eta=0.3, subsample=1, colsample_bytree=1)\n",
        "\n",
        "#learning\n",
        "XGB_1.fit(X_train,Y_train)\n",
        "#Prediction\n",
        "XGB_modelprediction=XGB_1.predict(X_test)\n",
        "\n",
        "evaluate_model (XGB_1, X_test, y_test, XGB_modelprediction)"
      ],
      "metadata": {
        "colab": {
          "base_uri": "https://localhost:8080/",
          "height": 762
        },
        "id": "V6Trgh2Jupi4",
        "outputId": "d54b63f8-09c0-4863-ab7b-3b17ee6fac30"
      },
      "execution_count": 52,
      "outputs": [
        {
          "output_type": "stream",
          "name": "stdout",
          "text": [
            "Các chỉ số đánh giá mức độ hiệu quả của mô hình: \n",
            "1. Accuracy: 0.809\n",
            "2. confusion_matrix:\n",
            "[[1432  468]\n",
            " [ 105  995]]\n",
            "3. recall_score:  0.9045454545454545\n",
            "4. precision_score:  0.6801093643198907\n",
            "5. f1_score:  0.7764338665626219\n",
            "6. Biểu đồ ROC của mô hình:\n"
          ]
        },
        {
          "output_type": "stream",
          "name": "stderr",
          "text": [
            "/usr/local/lib/python3.7/dist-packages/sklearn/utils/deprecation.py:87: FutureWarning: Function plot_roc_curve is deprecated; Function :func:`plot_roc_curve` is deprecated in 1.0 and will be removed in 1.2. Use one of the class methods: :meth:`sklearn.metric.RocCurveDisplay.from_predictions` or :meth:`sklearn.metric.RocCurveDisplay.from_estimator`.\n",
            "  warnings.warn(msg, category=FutureWarning)\n"
          ]
        },
        {
          "output_type": "display_data",
          "data": {
            "text/plain": [
              "<Figure size 1152x648 with 1 Axes>"
            ],
            "image/png": "[encoded data removed]"
          },
          "metadata": {
            "needs_background": "light"
          }
        }
      ]
    },
    {
      "cell_type": "markdown",
      "source": [
        "**XGB Classifier Ver_2**"
      ],
      "metadata": {
        "id": "1NMfpUOli4jn"
      }
    },
    {
      "cell_type": "code",
      "source": [
        "xgb_2 = XGBClassifier(learning_rate=0.4,max_depth=7)\n",
        "#learning\n",
        "xgb_2.fit(X_train,Y_train)\n",
        "#Prediction\n",
        "xgb_2_modelprediction_v2=xgb_2.predict(X_test)\n",
        "\n",
        "evaluate_model (xgb_2, X_test, y_test, xgb_2_modelprediction_v2)"
      ],
      "metadata": {
        "colab": {
          "base_uri": "https://localhost:8080/",
          "height": 762
        },
        "id": "pbDiEglLi4PM",
        "outputId": "aad68a53-813b-405f-fa3e-26809438d357"
      },
      "execution_count": 53,
      "outputs": [
        {
          "output_type": "stream",
          "name": "stdout",
          "text": [
            "Các chỉ số đánh giá mức độ hiệu quả của mô hình: \n",
            "1. Accuracy: 0.8516666666666667\n",
            "2. confusion_matrix:\n",
            "[[1438  346]\n",
            " [  99 1117]]\n",
            "3. recall_score:  0.9185855263157895\n",
            "4. precision_score:  0.7634996582365003\n",
            "5. f1_score:  0.833893243747667\n",
            "6. Biểu đồ ROC của mô hình:\n"
          ]
        },
        {
          "output_type": "stream",
          "name": "stderr",
          "text": [
            "/usr/local/lib/python3.7/dist-packages/sklearn/utils/deprecation.py:87: FutureWarning: Function plot_roc_curve is deprecated; Function :func:`plot_roc_curve` is deprecated in 1.0 and will be removed in 1.2. Use one of the class methods: :meth:`sklearn.metric.RocCurveDisplay.from_predictions` or :meth:`sklearn.metric.RocCurveDisplay.from_estimator`.\n",
            "  warnings.warn(msg, category=FutureWarning)\n"
          ]
        },
        {
          "output_type": "display_data",
          "data": {
            "text/plain": [
              "<Figure size 1152x648 with 1 Axes>"
            ],
            "image/png": "[encoded data removed]"
          },
          "metadata": {
            "needs_background": "light"
          }
        }
      ]
    },
    {
      "cell_type": "code",
      "source": [
        "from xgboost import XGBClassifier\n",
        "\n",
        "# instantiate the model\n",
        "xgb_3 = XGBClassifier(learning_rate=0.4,max_depth=7)\n",
        "#fit the model\n",
        "xgb_3.fit(X_train, Y_train)\n",
        "\n",
        "#predicting the target value from the model for the samples\n",
        "y_test_xgb = xgb_3.predict(X_test)\n",
        "\n",
        "evaluate_model (xgb_3, X_test, y_test, y_test_xgb)"
      ],
      "metadata": {
        "colab": {
          "base_uri": "https://localhost:8080/",
          "height": 762
        },
        "id": "9Ce6k-h-kbHj",
        "outputId": "f2ad2091-0856-4fd1-84ca-e89993592f57"
      },
      "execution_count": 54,
      "outputs": [
        {
          "output_type": "stream",
          "name": "stdout",
          "text": [
            "Các chỉ số đánh giá mức độ hiệu quả của mô hình: \n",
            "1. Accuracy: 0.8516666666666667\n",
            "2. confusion_matrix:\n",
            "[[1438  346]\n",
            " [  99 1117]]\n",
            "3. recall_score:  0.9185855263157895\n",
            "4. precision_score:  0.7634996582365003\n",
            "5. f1_score:  0.833893243747667\n",
            "6. Biểu đồ ROC của mô hình:\n"
          ]
        },
        {
          "output_type": "stream",
          "name": "stderr",
          "text": [
            "/usr/local/lib/python3.7/dist-packages/sklearn/utils/deprecation.py:87: FutureWarning: Function plot_roc_curve is deprecated; Function :func:`plot_roc_curve` is deprecated in 1.0 and will be removed in 1.2. Use one of the class methods: :meth:`sklearn.metric.RocCurveDisplay.from_predictions` or :meth:`sklearn.metric.RocCurveDisplay.from_estimator`.\n",
            "  warnings.warn(msg, category=FutureWarning)\n"
          ]
        },
        {
          "output_type": "display_data",
          "data": {
            "text/plain": [
              "<Figure size 1152x648 with 1 Axes>"
            ],
            "image/png": "[encoded data removed]"
          },
          "metadata": {
            "needs_background": "light"
          }
        }
      ]
    },
    {
      "cell_type": "markdown",
      "source": [
        "**Light GBM**"
      ],
      "metadata": {
        "id": "yOWlC_Elcekj"
      }
    },
    {
      "cell_type": "code",
      "source": [
        "from lightgbm import LGBMClassifier\n",
        "\n",
        "lgbm_clf = LGBMClassifier(n_estimators=1000, objective='binary',\n",
        "                          class_weight={0:25, 1:1}, learning_rate=0.01,\n",
        "                          boosting_type='dart')\n",
        "lgbm_clf.fit(X_train, Y_train)\n",
        "\n",
        "#Prediction\n",
        "LGBM_modelprediction=lgbm_clf.predict(X_test)\n",
        "\n",
        "evaluate_model (lgbm_clf, X_test, y_test, LGBM_modelprediction)"
      ],
      "metadata": {
        "colab": {
          "base_uri": "https://localhost:8080/",
          "height": 762
        },
        "id": "u2IIPoRKcoWF",
        "outputId": "e5d2012a-daeb-467c-d298-6da2fb8242f8"
      },
      "execution_count": 55,
      "outputs": [
        {
          "output_type": "stream",
          "name": "stdout",
          "text": [
            "Các chỉ số đánh giá mức độ hiệu quả của mô hình: \n",
            "1. Accuracy: 0.7943333333333333\n",
            "2. confusion_matrix:\n",
            "[[1535  615]\n",
            " [   2  848]]\n",
            "3. recall_score:  0.9976470588235294\n",
            "4. precision_score:  0.579630895420369\n",
            "5. f1_score:  0.7332468655425852\n",
            "6. Biểu đồ ROC của mô hình:\n"
          ]
        },
        {
          "output_type": "stream",
          "name": "stderr",
          "text": [
            "/usr/local/lib/python3.7/dist-packages/sklearn/utils/deprecation.py:87: FutureWarning: Function plot_roc_curve is deprecated; Function :func:`plot_roc_curve` is deprecated in 1.0 and will be removed in 1.2. Use one of the class methods: :meth:`sklearn.metric.RocCurveDisplay.from_predictions` or :meth:`sklearn.metric.RocCurveDisplay.from_estimator`.\n",
            "  warnings.warn(msg, category=FutureWarning)\n"
          ]
        },
        {
          "output_type": "display_data",
          "data": {
            "text/plain": [
              "<Figure size 1152x648 with 1 Axes>"
            ],
            "image/png": "[encoded data removed]"
          },
          "metadata": {
            "needs_background": "light"
          }
        }
      ]
    },
    {
      "cell_type": "markdown",
      "source": [
        "**Votting Classifier**"
      ],
      "metadata": {
        "id": "npv91YsHcrwE"
      }
    },
    {
      "cell_type": "code",
      "source": [
        "from sklearn.ensemble import RandomForestClassifier, GradientBoostingClassifier, \\\n",
        "    ExtraTreesClassifier, VotingClassifier\n",
        "\n",
        "clf1 = RandomForestClassifier(n_estimators=200, class_weight={0: 100, 1: 1})\n",
        "clf2 = GradientBoostingClassifier(n_estimators=1000, max_depth=7)\n",
        "clf3 = ExtraTreesClassifier(n_estimators=1000, class_weight={0: 100, 1: 1})\n",
        "clf4 = XGBClassifier(n_estimators=1000, max_depth=5, learning_rate=0.01)\n",
        "pos_clf = VotingClassifier(estimators=[('pos', clf1), ('gb', clf2),\n",
        "                                        ('et', clf3), ('xgb', clf4)],\n",
        "                            voting='soft',\n",
        "                            weights=[1, 2, 1, 1])\n",
        "\n",
        "pos_clf.fit(X_train, Y_train)\n",
        "\n",
        "#Prediction\n",
        "Vot_modelprediction=pos_clf.predict(X_test)\n",
        "\n",
        "evaluate_model (pos_clf, X_test, y_test, Vot_modelprediction)"
      ],
      "metadata": {
        "colab": {
          "base_uri": "https://localhost:8080/",
          "height": 762
        },
        "id": "6qF_0VMlcyWC",
        "outputId": "7491daa2-2508-4722-9973-af0318d7c9ed"
      },
      "execution_count": 58,
      "outputs": [
        {
          "output_type": "stream",
          "name": "stdout",
          "text": [
            "Các chỉ số đánh giá mức độ hiệu quả của mô hình: \n",
            "1. Accuracy: 0.831\n",
            "2. confusion_matrix:\n",
            "[[1527  497]\n",
            " [  10  966]]\n",
            "3. recall_score:  0.9897540983606558\n",
            "4. precision_score:  0.6602870813397129\n",
            "5. f1_score:  0.7921279212792128\n",
            "6. Biểu đồ ROC của mô hình:\n"
          ]
        },
        {
          "output_type": "stream",
          "name": "stderr",
          "text": [
            "/usr/local/lib/python3.7/dist-packages/sklearn/utils/deprecation.py:87: FutureWarning: Function plot_roc_curve is deprecated; Function :func:`plot_roc_curve` is deprecated in 1.0 and will be removed in 1.2. Use one of the class methods: :meth:`sklearn.metric.RocCurveDisplay.from_predictions` or :meth:`sklearn.metric.RocCurveDisplay.from_estimator`.\n",
            "  warnings.warn(msg, category=FutureWarning)\n"
          ]
        },
        {
          "output_type": "display_data",
          "data": {
            "text/plain": [
              "<Figure size 1152x648 with 1 Axes>"
            ],
            "image/png": "[encoded data removed]"
          },
          "metadata": {
            "needs_background": "light"
          }
        }
      ]
    },
    {
      "cell_type": "markdown",
      "source": [
        "**Gradient Boosting Classifier**"
      ],
      "metadata": {
        "id": "7P5B0NqfH1gX"
      }
    },
    {
      "cell_type": "code",
      "source": [
        "from sklearn.ensemble import RandomForestClassifier, GradientBoostingClassifier, \\\n",
        "    ExtraTreesClassifier, VotingClassifier\n",
        "\n",
        "GBoost = GradientBoostingClassifier(n_estimators=1000, max_depth=7)\n",
        "\n",
        "\n",
        "GBoost.fit(X_train, Y_train)\n",
        "\n",
        "#Prediction\n",
        "GBoost_modelprediction=GBoost.predict(X_test)\n",
        "\n",
        "evaluate_model (GBoost, X_test, y_test, GBoost_modelprediction)"
      ],
      "metadata": {
        "colab": {
          "base_uri": "https://localhost:8080/",
          "height": 762
        },
        "id": "Lc9ipfP1JODI",
        "outputId": "1a188f66-806c-41fd-afe4-aa40976466bc"
      },
      "execution_count": 59,
      "outputs": [
        {
          "output_type": "stream",
          "name": "stdout",
          "text": [
            "Các chỉ số đánh giá mức độ hiệu quả của mô hình: \n",
            "1. Accuracy: 0.855\n",
            "2. confusion_matrix:\n",
            "[[1443  341]\n",
            " [  94 1122]]\n",
            "3. recall_score:  0.9226973684210527\n",
            "4. precision_score:  0.7669172932330827\n",
            "5. f1_score:  0.8376259798432251\n",
            "6. Biểu đồ ROC của mô hình:\n"
          ]
        },
        {
          "output_type": "stream",
          "name": "stderr",
          "text": [
            "/usr/local/lib/python3.7/dist-packages/sklearn/utils/deprecation.py:87: FutureWarning: Function plot_roc_curve is deprecated; Function :func:`plot_roc_curve` is deprecated in 1.0 and will be removed in 1.2. Use one of the class methods: :meth:`sklearn.metric.RocCurveDisplay.from_predictions` or :meth:`sklearn.metric.RocCurveDisplay.from_estimator`.\n",
            "  warnings.warn(msg, category=FutureWarning)\n"
          ]
        },
        {
          "output_type": "display_data",
          "data": {
            "text/plain": [
              "<Figure size 1152x648 with 1 Axes>"
            ],
            "image/png": "[encoded data removed]"
          },
          "metadata": {
            "needs_background": "light"
          }
        }
      ]
    },
    {
      "cell_type": "markdown",
      "source": [
        "**Extra Trees Classifier**"
      ],
      "metadata": {
        "id": "un9ItsRtJdtU"
      }
    },
    {
      "cell_type": "code",
      "source": [
        "from sklearn.ensemble import RandomForestClassifier, GradientBoostingClassifier, \\\n",
        "    ExtraTreesClassifier, VotingClassifier\n",
        "\n",
        "Extra = ExtraTreesClassifier(n_estimators=1000, class_weight={0: 100, 1: 1})\n",
        "\n",
        "\n",
        "Extra.fit(X_train, Y_train)\n",
        "\n",
        "#Prediction\n",
        "Extra_modelprediction=Extra.predict(X_test)\n",
        "\n",
        "evaluate_model (Extra, X_test, y_test, Extra_modelprediction)"
      ],
      "metadata": {
        "colab": {
          "base_uri": "https://localhost:8080/",
          "height": 762
        },
        "id": "r0eqRymXJi-F",
        "outputId": "e79aa58b-5290-47d1-99c0-b73d5b38305f"
      },
      "execution_count": 60,
      "outputs": [
        {
          "output_type": "stream",
          "name": "stdout",
          "text": [
            "Các chỉ số đánh giá mức độ hiệu quả của mô hình: \n",
            "1. Accuracy: 0.8176666666666667\n",
            "2. confusion_matrix:\n",
            "[[1531  541]\n",
            " [   6  922]]\n",
            "3. recall_score:  0.9935344827586207\n",
            "4. precision_score:  0.6302118933697881\n",
            "5. f1_score:  0.7712254286909244\n",
            "6. Biểu đồ ROC của mô hình:\n"
          ]
        },
        {
          "output_type": "stream",
          "name": "stderr",
          "text": [
            "/usr/local/lib/python3.7/dist-packages/sklearn/utils/deprecation.py:87: FutureWarning: Function plot_roc_curve is deprecated; Function :func:`plot_roc_curve` is deprecated in 1.0 and will be removed in 1.2. Use one of the class methods: :meth:`sklearn.metric.RocCurveDisplay.from_predictions` or :meth:`sklearn.metric.RocCurveDisplay.from_estimator`.\n",
            "  warnings.warn(msg, category=FutureWarning)\n"
          ]
        },
        {
          "output_type": "display_data",
          "data": {
            "text/plain": [
              "<Figure size 1152x648 with 1 Axes>"
            ],
            "image/png": "[encoded data removed]"
          },
          "metadata": {
            "needs_background": "light"
          }
        }
      ]
    },
    {
      "cell_type": "markdown",
      "source": [
        "**Cat Boosting**"
      ],
      "metadata": {
        "id": "2xEo4ztNjPLn"
      }
    },
    {
      "cell_type": "code",
      "source": [
        "pip install catboost"
      ],
      "metadata": {
        "colab": {
          "base_uri": "https://localhost:8080/"
        },
        "id": "IrxhKhWaj0QS",
        "outputId": "51f2ae41-6358-4e54-9475-f02eba0b8cae"
      },
      "execution_count": 61,
      "outputs": [
        {
          "output_type": "stream",
          "name": "stdout",
          "text": [
            "Collecting catboost\n",
            "  Downloading catboost-1.0.5-cp37-none-manylinux1_x86_64.whl (76.6 MB)\n",
            "\u001b[K     |████████████████████████████████| 76.6 MB 1.2 MB/s \n",
            "\u001b[?25hRequirement already satisfied: scipy in /usr/local/lib/python3.7/dist-packages (from catboost) (1.4.1)\n",
            "Requirement already satisfied: plotly in /usr/local/lib/python3.7/dist-packages (from catboost) (5.5.0)\n",
            "Requirement already satisfied: pandas>=0.24.0 in /usr/local/lib/python3.7/dist-packages (from catboost) (1.3.5)\n",
            "Requirement already satisfied: matplotlib in /usr/local/lib/python3.7/dist-packages (from catboost) (3.2.2)\n",
            "Requirement already satisfied: six in /usr/local/lib/python3.7/dist-packages (from catboost) (1.15.0)\n",
            "Requirement already satisfied: graphviz in /usr/local/lib/python3.7/dist-packages (from catboost) (0.10.1)\n",
            "Requirement already satisfied: numpy>=1.16.0 in /usr/local/lib/python3.7/dist-packages (from catboost) (1.21.6)\n",
            "Requirement already satisfied: pytz>=2017.3 in /usr/local/lib/python3.7/dist-packages (from pandas>=0.24.0->catboost) (2022.1)\n",
            "Requirement already satisfied: python-dateutil>=2.7.3 in /usr/local/lib/python3.7/dist-packages (from pandas>=0.24.0->catboost) (2.8.2)\n",
            "Requirement already satisfied: cycler>=0.10 in /usr/local/lib/python3.7/dist-packages (from matplotlib->catboost) (0.11.0)\n",
            "Requirement already satisfied: pyparsing!=2.0.4,!=2.1.2,!=2.1.6,>=2.0.1 in /usr/local/lib/python3.7/dist-packages (from matplotlib->catboost) (3.0.8)\n",
            "Requirement already satisfied: kiwisolver>=1.0.1 in /usr/local/lib/python3.7/dist-packages (from matplotlib->catboost) (1.4.2)\n",
            "Requirement already satisfied: typing-extensions in /usr/local/lib/python3.7/dist-packages (from kiwisolver>=1.0.1->matplotlib->catboost) (4.2.0)\n",
            "Requirement already satisfied: tenacity>=6.2.0 in /usr/local/lib/python3.7/dist-packages (from plotly->catboost) (8.0.1)\n",
            "Installing collected packages: catboost\n",
            "Successfully installed catboost-1.0.5\n"
          ]
        }
      ]
    },
    {
      "cell_type": "code",
      "source": [
        "from catboost import CatBoostClassifier\n",
        "\n",
        "model_catboss = CatBoostClassifier(learning_rate = 0.2, depth = 8, rsm = 1)\n",
        "\n",
        "model_catboss.fit(X_train, Y_train)\n",
        "\n",
        "#Prediction\n",
        "cast_modelprediction=model_catboss.predict(X_test)\n",
        "\n",
        "evaluate_model (model_catboss, X_test, y_test, cast_modelprediction)"
      ],
      "metadata": {
        "colab": {
          "base_uri": "https://localhost:8080/",
          "height": 1000
        },
        "id": "mIpk6t8Bjh9U",
        "outputId": "65f8e370-c13d-49da-9f93-fa9bbca72d97"
      },
      "execution_count": 62,
      "outputs": [
        {
          "output_type": "stream",
          "name": "stdout",
          "text": [
            "0:\tlearn: 0.5355043\ttotal: 49.6ms\tremaining: 49.5s\n",
            "1:\tlearn: 0.4659694\ttotal: 54.6ms\tremaining: 27.2s\n",
            "2:\tlearn: 0.4349565\ttotal: 59.2ms\tremaining: 19.7s\n",
            "3:\tlearn: 0.4124392\ttotal: 63.6ms\tremaining: 15.8s\n",
            "4:\tlearn: 0.4000244\ttotal: 68.2ms\tremaining: 13.6s\n",
            "5:\tlearn: 0.3925652\ttotal: 72.9ms\tremaining: 12.1s\n",
            "6:\tlearn: 0.3896253\ttotal: 75.2ms\tremaining: 10.7s\n",
            "7:\tlearn: 0.3808368\ttotal: 79.9ms\tremaining: 9.9s\n",
            "8:\tlearn: 0.3750944\ttotal: 84.6ms\tremaining: 9.32s\n",
            "9:\tlearn: 0.3707187\ttotal: 89.7ms\tremaining: 8.88s\n",
            "10:\tlearn: 0.3642473\ttotal: 94.2ms\tremaining: 8.47s\n",
            "11:\tlearn: 0.3604651\ttotal: 99.3ms\tremaining: 8.18s\n",
            "12:\tlearn: 0.3572135\ttotal: 104ms\tremaining: 7.9s\n",
            "13:\tlearn: 0.3568144\ttotal: 106ms\tremaining: 7.46s\n",
            "14:\tlearn: 0.3534909\ttotal: 111ms\tremaining: 7.27s\n",
            "15:\tlearn: 0.3515478\ttotal: 115ms\tremaining: 7.09s\n",
            "16:\tlearn: 0.3506745\ttotal: 120ms\tremaining: 6.93s\n",
            "17:\tlearn: 0.3489030\ttotal: 125ms\tremaining: 6.8s\n",
            "18:\tlearn: 0.3471711\ttotal: 129ms\tremaining: 6.67s\n",
            "19:\tlearn: 0.3462394\ttotal: 134ms\tremaining: 6.56s\n",
            "20:\tlearn: 0.3450782\ttotal: 139ms\tremaining: 6.46s\n",
            "21:\tlearn: 0.3441574\ttotal: 143ms\tremaining: 6.37s\n",
            "22:\tlearn: 0.3430646\ttotal: 148ms\tremaining: 6.28s\n",
            "23:\tlearn: 0.3412526\ttotal: 152ms\tremaining: 6.19s\n",
            "24:\tlearn: 0.3399704\ttotal: 157ms\tremaining: 6.12s\n",
            "25:\tlearn: 0.3395499\ttotal: 162ms\tremaining: 6.06s\n",
            "26:\tlearn: 0.3388412\ttotal: 166ms\tremaining: 6s\n",
            "27:\tlearn: 0.3384434\ttotal: 171ms\tremaining: 5.94s\n",
            "28:\tlearn: 0.3384040\ttotal: 174ms\tremaining: 5.81s\n",
            "29:\tlearn: 0.3377416\ttotal: 177ms\tremaining: 5.72s\n",
            "30:\tlearn: 0.3370325\ttotal: 181ms\tremaining: 5.67s\n",
            "31:\tlearn: 0.3357063\ttotal: 186ms\tremaining: 5.63s\n",
            "32:\tlearn: 0.3350459\ttotal: 191ms\tremaining: 5.59s\n",
            "33:\tlearn: 0.3349143\ttotal: 193ms\tremaining: 5.49s\n",
            "34:\tlearn: 0.3343463\ttotal: 198ms\tremaining: 5.46s\n",
            "35:\tlearn: 0.3333985\ttotal: 203ms\tremaining: 5.42s\n",
            "36:\tlearn: 0.3329230\ttotal: 207ms\tremaining: 5.39s\n",
            "37:\tlearn: 0.3327959\ttotal: 209ms\tremaining: 5.3s\n",
            "38:\tlearn: 0.3322423\ttotal: 214ms\tremaining: 5.28s\n",
            "39:\tlearn: 0.3318756\ttotal: 219ms\tremaining: 5.27s\n",
            "40:\tlearn: 0.3318664\ttotal: 221ms\tremaining: 5.18s\n",
            "41:\tlearn: 0.3317925\ttotal: 224ms\tremaining: 5.1s\n",
            "42:\tlearn: 0.3313155\ttotal: 228ms\tremaining: 5.08s\n",
            "43:\tlearn: 0.3308455\ttotal: 233ms\tremaining: 5.07s\n",
            "44:\tlearn: 0.3304676\ttotal: 239ms\tremaining: 5.08s\n",
            "45:\tlearn: 0.3304516\ttotal: 242ms\tremaining: 5.01s\n",
            "46:\tlearn: 0.3304486\ttotal: 247ms\tremaining: 5.01s\n",
            "47:\tlearn: 0.3304266\ttotal: 249ms\tremaining: 4.94s\n",
            "48:\tlearn: 0.3296049\ttotal: 254ms\tremaining: 4.93s\n",
            "49:\tlearn: 0.3292173\ttotal: 258ms\tremaining: 4.91s\n",
            "50:\tlearn: 0.3290763\ttotal: 263ms\tremaining: 4.89s\n",
            "51:\tlearn: 0.3288064\ttotal: 268ms\tremaining: 4.88s\n",
            "52:\tlearn: 0.3284673\ttotal: 275ms\tremaining: 4.91s\n",
            "53:\tlearn: 0.3281211\ttotal: 280ms\tremaining: 4.91s\n",
            "54:\tlearn: 0.3278098\ttotal: 285ms\tremaining: 4.89s\n",
            "55:\tlearn: 0.3275989\ttotal: 289ms\tremaining: 4.88s\n",
            "56:\tlearn: 0.3274671\ttotal: 295ms\tremaining: 4.87s\n",
            "57:\tlearn: 0.3272258\ttotal: 303ms\tremaining: 4.93s\n",
            "58:\tlearn: 0.3272094\ttotal: 306ms\tremaining: 4.88s\n",
            "59:\tlearn: 0.3269047\ttotal: 311ms\tremaining: 4.87s\n",
            "60:\tlearn: 0.3266400\ttotal: 315ms\tremaining: 4.85s\n",
            "61:\tlearn: 0.3263940\ttotal: 320ms\tremaining: 4.84s\n",
            "62:\tlearn: 0.3263557\ttotal: 325ms\tremaining: 4.83s\n",
            "63:\tlearn: 0.3262065\ttotal: 330ms\tremaining: 4.82s\n",
            "64:\tlearn: 0.3257691\ttotal: 334ms\tremaining: 4.81s\n",
            "65:\tlearn: 0.3254561\ttotal: 339ms\tremaining: 4.8s\n",
            "66:\tlearn: 0.3254449\ttotal: 342ms\tremaining: 4.77s\n",
            "67:\tlearn: 0.3254248\ttotal: 346ms\tremaining: 4.74s\n",
            "68:\tlearn: 0.3253451\ttotal: 350ms\tremaining: 4.72s\n",
            "69:\tlearn: 0.3253036\ttotal: 354ms\tremaining: 4.7s\n",
            "70:\tlearn: 0.3251573\ttotal: 358ms\tremaining: 4.69s\n",
            "71:\tlearn: 0.3251350\ttotal: 363ms\tremaining: 4.67s\n",
            "72:\tlearn: 0.3250658\ttotal: 367ms\tremaining: 4.66s\n",
            "73:\tlearn: 0.3250306\ttotal: 370ms\tremaining: 4.63s\n",
            "74:\tlearn: 0.3248733\ttotal: 375ms\tremaining: 4.62s\n",
            "75:\tlearn: 0.3247975\ttotal: 379ms\tremaining: 4.61s\n",
            "76:\tlearn: 0.3247785\ttotal: 382ms\tremaining: 4.58s\n",
            "77:\tlearn: 0.3244369\ttotal: 387ms\tremaining: 4.57s\n",
            "78:\tlearn: 0.3244327\ttotal: 389ms\tremaining: 4.54s\n",
            "79:\tlearn: 0.3240396\ttotal: 394ms\tremaining: 4.53s\n",
            "80:\tlearn: 0.3239987\ttotal: 398ms\tremaining: 4.52s\n",
            "81:\tlearn: 0.3239517\ttotal: 403ms\tremaining: 4.51s\n",
            "82:\tlearn: 0.3239179\ttotal: 407ms\tremaining: 4.5s\n",
            "83:\tlearn: 0.3235936\ttotal: 413ms\tremaining: 4.5s\n",
            "84:\tlearn: 0.3235003\ttotal: 417ms\tremaining: 4.49s\n",
            "85:\tlearn: 0.3234892\ttotal: 421ms\tremaining: 4.47s\n",
            "86:\tlearn: 0.3234130\ttotal: 426ms\tremaining: 4.47s\n",
            "87:\tlearn: 0.3233750\ttotal: 430ms\tremaining: 4.46s\n",
            "88:\tlearn: 0.3233105\ttotal: 439ms\tremaining: 4.49s\n",
            "89:\tlearn: 0.3232680\ttotal: 444ms\tremaining: 4.49s\n",
            "90:\tlearn: 0.3232609\ttotal: 452ms\tremaining: 4.51s\n",
            "91:\tlearn: 0.3232434\ttotal: 459ms\tremaining: 4.53s\n",
            "92:\tlearn: 0.3232126\ttotal: 464ms\tremaining: 4.52s\n",
            "93:\tlearn: 0.3231876\ttotal: 469ms\tremaining: 4.52s\n",
            "94:\tlearn: 0.3231713\ttotal: 474ms\tremaining: 4.52s\n",
            "95:\tlearn: 0.3230838\ttotal: 480ms\tremaining: 4.52s\n",
            "96:\tlearn: 0.3230838\ttotal: 484ms\tremaining: 4.5s\n",
            "97:\tlearn: 0.3230838\ttotal: 488ms\tremaining: 4.49s\n",
            "98:\tlearn: 0.3230454\ttotal: 493ms\tremaining: 4.48s\n",
            "99:\tlearn: 0.3230368\ttotal: 497ms\tremaining: 4.47s\n",
            "100:\tlearn: 0.3228346\ttotal: 502ms\tremaining: 4.47s\n",
            "101:\tlearn: 0.3227330\ttotal: 507ms\tremaining: 4.46s\n",
            "102:\tlearn: 0.3226699\ttotal: 512ms\tremaining: 4.46s\n",
            "103:\tlearn: 0.3226003\ttotal: 517ms\tremaining: 4.45s\n",
            "104:\tlearn: 0.3223558\ttotal: 521ms\tremaining: 4.44s\n",
            "105:\tlearn: 0.3222981\ttotal: 526ms\tremaining: 4.43s\n",
            "106:\tlearn: 0.3222926\ttotal: 530ms\tremaining: 4.42s\n",
            "107:\tlearn: 0.3222643\ttotal: 535ms\tremaining: 4.42s\n",
            "108:\tlearn: 0.3222641\ttotal: 539ms\tremaining: 4.41s\n",
            "109:\tlearn: 0.3222245\ttotal: 544ms\tremaining: 4.4s\n",
            "110:\tlearn: 0.3221762\ttotal: 549ms\tremaining: 4.4s\n",
            "111:\tlearn: 0.3221424\ttotal: 554ms\tremaining: 4.39s\n",
            "112:\tlearn: 0.3220580\ttotal: 559ms\tremaining: 4.39s\n",
            "113:\tlearn: 0.3219900\ttotal: 564ms\tremaining: 4.38s\n",
            "114:\tlearn: 0.3218737\ttotal: 569ms\tremaining: 4.38s\n",
            "115:\tlearn: 0.3218735\ttotal: 573ms\tremaining: 4.36s\n",
            "116:\tlearn: 0.3218708\ttotal: 577ms\tremaining: 4.36s\n",
            "117:\tlearn: 0.3218709\ttotal: 582ms\tremaining: 4.35s\n",
            "118:\tlearn: 0.3218708\ttotal: 586ms\tremaining: 4.34s\n",
            "119:\tlearn: 0.3218649\ttotal: 591ms\tremaining: 4.33s\n",
            "120:\tlearn: 0.3218649\ttotal: 595ms\tremaining: 4.32s\n",
            "121:\tlearn: 0.3217967\ttotal: 599ms\tremaining: 4.31s\n",
            "122:\tlearn: 0.3217958\ttotal: 602ms\tremaining: 4.29s\n",
            "123:\tlearn: 0.3217959\ttotal: 606ms\tremaining: 4.28s\n",
            "124:\tlearn: 0.3217550\ttotal: 610ms\tremaining: 4.27s\n",
            "125:\tlearn: 0.3217205\ttotal: 623ms\tremaining: 4.32s\n",
            "126:\tlearn: 0.3217198\ttotal: 630ms\tremaining: 4.33s\n",
            "127:\tlearn: 0.3216951\ttotal: 635ms\tremaining: 4.33s\n",
            "128:\tlearn: 0.3216755\ttotal: 641ms\tremaining: 4.33s\n",
            "129:\tlearn: 0.3216756\ttotal: 651ms\tremaining: 4.36s\n",
            "130:\tlearn: 0.3216756\ttotal: 658ms\tremaining: 4.36s\n",
            "131:\tlearn: 0.3216378\ttotal: 669ms\tremaining: 4.4s\n",
            "132:\tlearn: 0.3216378\ttotal: 677ms\tremaining: 4.41s\n",
            "133:\tlearn: 0.3216360\ttotal: 685ms\tremaining: 4.43s\n",
            "134:\tlearn: 0.3216318\ttotal: 699ms\tremaining: 4.48s\n",
            "135:\tlearn: 0.3216316\ttotal: 708ms\tremaining: 4.5s\n",
            "136:\tlearn: 0.3216172\ttotal: 719ms\tremaining: 4.53s\n",
            "137:\tlearn: 0.3216119\ttotal: 733ms\tremaining: 4.58s\n",
            "138:\tlearn: 0.3216119\ttotal: 745ms\tremaining: 4.62s\n",
            "139:\tlearn: 0.3216119\ttotal: 759ms\tremaining: 4.66s\n",
            "140:\tlearn: 0.3216120\ttotal: 770ms\tremaining: 4.69s\n",
            "141:\tlearn: 0.3216119\ttotal: 780ms\tremaining: 4.71s\n",
            "142:\tlearn: 0.3216106\ttotal: 785ms\tremaining: 4.7s\n",
            "143:\tlearn: 0.3215956\ttotal: 799ms\tremaining: 4.75s\n",
            "144:\tlearn: 0.3215958\ttotal: 810ms\tremaining: 4.78s\n",
            "145:\tlearn: 0.3215953\ttotal: 824ms\tremaining: 4.82s\n",
            "146:\tlearn: 0.3215701\ttotal: 836ms\tremaining: 4.85s\n",
            "147:\tlearn: 0.3215701\ttotal: 847ms\tremaining: 4.88s\n",
            "148:\tlearn: 0.3215699\ttotal: 858ms\tremaining: 4.9s\n",
            "149:\tlearn: 0.3215709\ttotal: 867ms\tremaining: 4.91s\n",
            "150:\tlearn: 0.3215708\ttotal: 876ms\tremaining: 4.92s\n",
            "151:\tlearn: 0.3215696\ttotal: 889ms\tremaining: 4.96s\n",
            "152:\tlearn: 0.3215697\ttotal: 899ms\tremaining: 4.98s\n",
            "153:\tlearn: 0.3215519\ttotal: 911ms\tremaining: 5s\n",
            "154:\tlearn: 0.3214425\ttotal: 923ms\tremaining: 5.03s\n",
            "155:\tlearn: 0.3213044\ttotal: 936ms\tremaining: 5.06s\n",
            "156:\tlearn: 0.3211784\ttotal: 945ms\tremaining: 5.07s\n",
            "157:\tlearn: 0.3210272\ttotal: 950ms\tremaining: 5.06s\n",
            "158:\tlearn: 0.3208933\ttotal: 954ms\tremaining: 5.05s\n",
            "159:\tlearn: 0.3208279\ttotal: 959ms\tremaining: 5.04s\n",
            "160:\tlearn: 0.3207702\ttotal: 964ms\tremaining: 5.03s\n",
            "161:\tlearn: 0.3207099\ttotal: 969ms\tremaining: 5.01s\n",
            "162:\tlearn: 0.3206332\ttotal: 974ms\tremaining: 5s\n",
            "163:\tlearn: 0.3205929\ttotal: 979ms\tremaining: 4.99s\n",
            "164:\tlearn: 0.3205008\ttotal: 984ms\tremaining: 4.98s\n",
            "165:\tlearn: 0.3204705\ttotal: 989ms\tremaining: 4.97s\n",
            "166:\tlearn: 0.3204239\ttotal: 993ms\tremaining: 4.96s\n",
            "167:\tlearn: 0.3203215\ttotal: 998ms\tremaining: 4.94s\n",
            "168:\tlearn: 0.3202502\ttotal: 1s\tremaining: 4.93s\n",
            "169:\tlearn: 0.3201797\ttotal: 1.01s\tremaining: 4.92s\n",
            "170:\tlearn: 0.3201508\ttotal: 1.01s\tremaining: 4.91s\n",
            "171:\tlearn: 0.3200979\ttotal: 1.02s\tremaining: 4.9s\n",
            "172:\tlearn: 0.3200669\ttotal: 1.02s\tremaining: 4.89s\n",
            "173:\tlearn: 0.3200277\ttotal: 1.03s\tremaining: 4.88s\n",
            "174:\tlearn: 0.3199060\ttotal: 1.03s\tremaining: 4.87s\n",
            "175:\tlearn: 0.3198527\ttotal: 1.04s\tremaining: 4.86s\n",
            "176:\tlearn: 0.3198228\ttotal: 1.04s\tremaining: 4.85s\n",
            "177:\tlearn: 0.3197903\ttotal: 1.05s\tremaining: 4.84s\n",
            "178:\tlearn: 0.3197435\ttotal: 1.05s\tremaining: 4.83s\n",
            "179:\tlearn: 0.3196977\ttotal: 1.06s\tremaining: 4.82s\n",
            "180:\tlearn: 0.3196531\ttotal: 1.06s\tremaining: 4.8s\n",
            "181:\tlearn: 0.3196202\ttotal: 1.07s\tremaining: 4.79s\n",
            "182:\tlearn: 0.3195843\ttotal: 1.07s\tremaining: 4.78s\n",
            "183:\tlearn: 0.3195379\ttotal: 1.08s\tremaining: 4.78s\n",
            "184:\tlearn: 0.3195211\ttotal: 1.08s\tremaining: 4.78s\n",
            "185:\tlearn: 0.3194952\ttotal: 1.09s\tremaining: 4.77s\n",
            "186:\tlearn: 0.3194739\ttotal: 1.09s\tremaining: 4.76s\n",
            "187:\tlearn: 0.3194372\ttotal: 1.1s\tremaining: 4.75s\n",
            "188:\tlearn: 0.3193711\ttotal: 1.1s\tremaining: 4.74s\n",
            "189:\tlearn: 0.3193260\ttotal: 1.11s\tremaining: 4.73s\n",
            "190:\tlearn: 0.3192969\ttotal: 1.11s\tremaining: 4.72s\n",
            "191:\tlearn: 0.3192868\ttotal: 1.12s\tremaining: 4.71s\n",
            "192:\tlearn: 0.3192361\ttotal: 1.12s\tremaining: 4.7s\n",
            "193:\tlearn: 0.3192116\ttotal: 1.13s\tremaining: 4.69s\n",
            "194:\tlearn: 0.3191795\ttotal: 1.13s\tremaining: 4.67s\n",
            "195:\tlearn: 0.3191587\ttotal: 1.14s\tremaining: 4.66s\n",
            "196:\tlearn: 0.3191327\ttotal: 1.14s\tremaining: 4.66s\n",
            "197:\tlearn: 0.3191121\ttotal: 1.15s\tremaining: 4.64s\n",
            "198:\tlearn: 0.3191094\ttotal: 1.15s\tremaining: 4.63s\n",
            "199:\tlearn: 0.3190898\ttotal: 1.16s\tremaining: 4.62s\n",
            "200:\tlearn: 0.3190340\ttotal: 1.16s\tremaining: 4.61s\n",
            "201:\tlearn: 0.3190144\ttotal: 1.17s\tremaining: 4.6s\n",
            "202:\tlearn: 0.3189907\ttotal: 1.17s\tremaining: 4.59s\n",
            "203:\tlearn: 0.3189734\ttotal: 1.18s\tremaining: 4.58s\n",
            "204:\tlearn: 0.3189578\ttotal: 1.18s\tremaining: 4.58s\n",
            "205:\tlearn: 0.3189452\ttotal: 1.18s\tremaining: 4.57s\n",
            "206:\tlearn: 0.3189264\ttotal: 1.19s\tremaining: 4.55s\n",
            "207:\tlearn: 0.3189195\ttotal: 1.19s\tremaining: 4.54s\n",
            "208:\tlearn: 0.3189049\ttotal: 1.2s\tremaining: 4.54s\n",
            "209:\tlearn: 0.3189004\ttotal: 1.2s\tremaining: 4.53s\n",
            "210:\tlearn: 0.3188936\ttotal: 1.21s\tremaining: 4.52s\n",
            "211:\tlearn: 0.3188908\ttotal: 1.21s\tremaining: 4.51s\n",
            "212:\tlearn: 0.3188722\ttotal: 1.22s\tremaining: 4.51s\n",
            "213:\tlearn: 0.3188590\ttotal: 1.23s\tremaining: 4.5s\n",
            "214:\tlearn: 0.3188454\ttotal: 1.23s\tremaining: 4.49s\n",
            "215:\tlearn: 0.3188453\ttotal: 1.24s\tremaining: 4.49s\n",
            "216:\tlearn: 0.3188352\ttotal: 1.25s\tremaining: 4.5s\n",
            "217:\tlearn: 0.3188199\ttotal: 1.25s\tremaining: 4.49s\n",
            "218:\tlearn: 0.3188198\ttotal: 1.26s\tremaining: 4.48s\n",
            "219:\tlearn: 0.3188149\ttotal: 1.26s\tremaining: 4.47s\n",
            "220:\tlearn: 0.3188148\ttotal: 1.26s\tremaining: 4.46s\n",
            "221:\tlearn: 0.3188115\ttotal: 1.27s\tremaining: 4.45s\n",
            "222:\tlearn: 0.3188110\ttotal: 1.27s\tremaining: 4.44s\n",
            "223:\tlearn: 0.3188112\ttotal: 1.28s\tremaining: 4.43s\n",
            "224:\tlearn: 0.3188116\ttotal: 1.28s\tremaining: 4.42s\n",
            "225:\tlearn: 0.3188116\ttotal: 1.29s\tremaining: 4.41s\n",
            "226:\tlearn: 0.3187960\ttotal: 1.29s\tremaining: 4.4s\n",
            "227:\tlearn: 0.3187920\ttotal: 1.3s\tremaining: 4.39s\n",
            "228:\tlearn: 0.3187920\ttotal: 1.3s\tremaining: 4.38s\n",
            "229:\tlearn: 0.3187920\ttotal: 1.3s\tremaining: 4.37s\n",
            "230:\tlearn: 0.3187913\ttotal: 1.31s\tremaining: 4.35s\n",
            "231:\tlearn: 0.3187912\ttotal: 1.31s\tremaining: 4.34s\n",
            "232:\tlearn: 0.3187910\ttotal: 1.31s\tremaining: 4.33s\n",
            "233:\tlearn: 0.3187879\ttotal: 1.32s\tremaining: 4.32s\n",
            "234:\tlearn: 0.3187878\ttotal: 1.32s\tremaining: 4.31s\n",
            "235:\tlearn: 0.3187878\ttotal: 1.33s\tremaining: 4.3s\n",
            "236:\tlearn: 0.3187809\ttotal: 1.33s\tremaining: 4.29s\n",
            "237:\tlearn: 0.3187806\ttotal: 1.34s\tremaining: 4.28s\n",
            "238:\tlearn: 0.3187804\ttotal: 1.34s\tremaining: 4.27s\n",
            "239:\tlearn: 0.3187810\ttotal: 1.34s\tremaining: 4.26s\n",
            "240:\tlearn: 0.3187715\ttotal: 1.35s\tremaining: 4.25s\n",
            "241:\tlearn: 0.3187575\ttotal: 1.35s\tremaining: 4.24s\n",
            "242:\tlearn: 0.3187575\ttotal: 1.36s\tremaining: 4.23s\n",
            "243:\tlearn: 0.3187557\ttotal: 1.36s\tremaining: 4.22s\n",
            "244:\tlearn: 0.3187557\ttotal: 1.37s\tremaining: 4.22s\n",
            "245:\tlearn: 0.3187528\ttotal: 1.37s\tremaining: 4.21s\n",
            "246:\tlearn: 0.3187533\ttotal: 1.38s\tremaining: 4.2s\n",
            "247:\tlearn: 0.3187532\ttotal: 1.38s\tremaining: 4.19s\n",
            "248:\tlearn: 0.3187515\ttotal: 1.39s\tremaining: 4.18s\n",
            "249:\tlearn: 0.3187515\ttotal: 1.39s\tremaining: 4.17s\n",
            "250:\tlearn: 0.3187515\ttotal: 1.4s\tremaining: 4.17s\n",
            "251:\tlearn: 0.3187513\ttotal: 1.4s\tremaining: 4.16s\n",
            "252:\tlearn: 0.3187512\ttotal: 1.41s\tremaining: 4.16s\n",
            "253:\tlearn: 0.3187512\ttotal: 1.41s\tremaining: 4.15s\n",
            "254:\tlearn: 0.3187511\ttotal: 1.42s\tremaining: 4.14s\n",
            "255:\tlearn: 0.3187514\ttotal: 1.42s\tremaining: 4.14s\n",
            "256:\tlearn: 0.3187515\ttotal: 1.43s\tremaining: 4.13s\n",
            "257:\tlearn: 0.3187521\ttotal: 1.43s\tremaining: 4.12s\n",
            "258:\tlearn: 0.3187467\ttotal: 1.44s\tremaining: 4.12s\n",
            "259:\tlearn: 0.3187455\ttotal: 1.45s\tremaining: 4.12s\n",
            "260:\tlearn: 0.3187455\ttotal: 1.45s\tremaining: 4.11s\n",
            "261:\tlearn: 0.3187454\ttotal: 1.45s\tremaining: 4.1s\n",
            "262:\tlearn: 0.3187429\ttotal: 1.46s\tremaining: 4.09s\n",
            "263:\tlearn: 0.3187427\ttotal: 1.46s\tremaining: 4.08s\n",
            "264:\tlearn: 0.3187144\ttotal: 1.47s\tremaining: 4.07s\n",
            "265:\tlearn: 0.3187142\ttotal: 1.47s\tremaining: 4.06s\n",
            "266:\tlearn: 0.3187131\ttotal: 1.48s\tremaining: 4.05s\n",
            "267:\tlearn: 0.3187132\ttotal: 1.48s\tremaining: 4.04s\n",
            "268:\tlearn: 0.3187133\ttotal: 1.48s\tremaining: 4.03s\n",
            "269:\tlearn: 0.3187133\ttotal: 1.49s\tremaining: 4.03s\n",
            "270:\tlearn: 0.3187099\ttotal: 1.49s\tremaining: 4.02s\n",
            "271:\tlearn: 0.3187095\ttotal: 1.5s\tremaining: 4.01s\n",
            "272:\tlearn: 0.3187095\ttotal: 1.5s\tremaining: 4s\n",
            "273:\tlearn: 0.3187096\ttotal: 1.51s\tremaining: 3.99s\n",
            "274:\tlearn: 0.3186994\ttotal: 1.51s\tremaining: 3.99s\n",
            "275:\tlearn: 0.3186946\ttotal: 1.52s\tremaining: 3.98s\n",
            "276:\tlearn: 0.3186943\ttotal: 1.52s\tremaining: 3.97s\n",
            "277:\tlearn: 0.3186941\ttotal: 1.52s\tremaining: 3.96s\n",
            "278:\tlearn: 0.3186942\ttotal: 1.53s\tremaining: 3.95s\n",
            "279:\tlearn: 0.3186936\ttotal: 1.53s\tremaining: 3.94s\n",
            "280:\tlearn: 0.3186801\ttotal: 1.54s\tremaining: 3.93s\n",
            "281:\tlearn: 0.3186803\ttotal: 1.54s\tremaining: 3.93s\n",
            "282:\tlearn: 0.3186807\ttotal: 1.55s\tremaining: 3.93s\n",
            "283:\tlearn: 0.3186700\ttotal: 1.55s\tremaining: 3.92s\n",
            "284:\tlearn: 0.3186647\ttotal: 1.56s\tremaining: 3.91s\n",
            "285:\tlearn: 0.3186599\ttotal: 1.56s\tremaining: 3.9s\n",
            "286:\tlearn: 0.3186528\ttotal: 1.57s\tremaining: 3.9s\n",
            "287:\tlearn: 0.3186523\ttotal: 1.57s\tremaining: 3.89s\n",
            "288:\tlearn: 0.3186517\ttotal: 1.58s\tremaining: 3.88s\n",
            "289:\tlearn: 0.3186518\ttotal: 1.58s\tremaining: 3.87s\n",
            "290:\tlearn: 0.3186521\ttotal: 1.58s\tremaining: 3.86s\n",
            "291:\tlearn: 0.3186488\ttotal: 1.59s\tremaining: 3.85s\n",
            "292:\tlearn: 0.3186482\ttotal: 1.59s\tremaining: 3.84s\n",
            "293:\tlearn: 0.3186484\ttotal: 1.6s\tremaining: 3.83s\n",
            "294:\tlearn: 0.3186484\ttotal: 1.6s\tremaining: 3.84s\n",
            "295:\tlearn: 0.3186483\ttotal: 1.61s\tremaining: 3.83s\n",
            "296:\tlearn: 0.3186472\ttotal: 1.61s\tremaining: 3.82s\n",
            "297:\tlearn: 0.3186473\ttotal: 1.62s\tremaining: 3.81s\n",
            "298:\tlearn: 0.3186438\ttotal: 1.62s\tremaining: 3.81s\n",
            "299:\tlearn: 0.3186438\ttotal: 1.63s\tremaining: 3.8s\n",
            "300:\tlearn: 0.3186438\ttotal: 1.63s\tremaining: 3.79s\n",
            "301:\tlearn: 0.3186439\ttotal: 1.64s\tremaining: 3.79s\n",
            "302:\tlearn: 0.3186440\ttotal: 1.64s\tremaining: 3.78s\n",
            "303:\tlearn: 0.3186443\ttotal: 1.65s\tremaining: 3.77s\n",
            "304:\tlearn: 0.3186415\ttotal: 1.65s\tremaining: 3.76s\n",
            "305:\tlearn: 0.3186315\ttotal: 1.66s\tremaining: 3.75s\n",
            "306:\tlearn: 0.3186311\ttotal: 1.66s\tremaining: 3.75s\n",
            "307:\tlearn: 0.3186308\ttotal: 1.66s\tremaining: 3.74s\n",
            "308:\tlearn: 0.3186085\ttotal: 1.67s\tremaining: 3.73s\n",
            "309:\tlearn: 0.3186076\ttotal: 1.67s\tremaining: 3.72s\n",
            "310:\tlearn: 0.3186079\ttotal: 1.68s\tremaining: 3.71s\n",
            "311:\tlearn: 0.3186070\ttotal: 1.68s\tremaining: 3.71s\n",
            "312:\tlearn: 0.3186080\ttotal: 1.69s\tremaining: 3.7s\n",
            "313:\tlearn: 0.3186025\ttotal: 1.69s\tremaining: 3.69s\n",
            "314:\tlearn: 0.3185989\ttotal: 1.7s\tremaining: 3.69s\n",
            "315:\tlearn: 0.3185919\ttotal: 1.7s\tremaining: 3.68s\n",
            "316:\tlearn: 0.3185888\ttotal: 1.7s\tremaining: 3.67s\n",
            "317:\tlearn: 0.3185889\ttotal: 1.71s\tremaining: 3.66s\n",
            "318:\tlearn: 0.3185888\ttotal: 1.71s\tremaining: 3.66s\n",
            "319:\tlearn: 0.3185850\ttotal: 1.72s\tremaining: 3.65s\n",
            "320:\tlearn: 0.3185829\ttotal: 1.72s\tremaining: 3.64s\n",
            "321:\tlearn: 0.3185830\ttotal: 1.73s\tremaining: 3.63s\n",
            "322:\tlearn: 0.3185827\ttotal: 1.73s\tremaining: 3.63s\n",
            "323:\tlearn: 0.3185831\ttotal: 1.74s\tremaining: 3.63s\n",
            "324:\tlearn: 0.3185832\ttotal: 1.74s\tremaining: 3.62s\n",
            "325:\tlearn: 0.3185834\ttotal: 1.75s\tremaining: 3.61s\n",
            "326:\tlearn: 0.3185723\ttotal: 1.75s\tremaining: 3.61s\n",
            "327:\tlearn: 0.3185568\ttotal: 1.76s\tremaining: 3.6s\n",
            "328:\tlearn: 0.3185570\ttotal: 1.76s\tremaining: 3.59s\n",
            "329:\tlearn: 0.3185391\ttotal: 1.77s\tremaining: 3.59s\n",
            "330:\tlearn: 0.3185390\ttotal: 1.77s\tremaining: 3.58s\n",
            "331:\tlearn: 0.3185315\ttotal: 1.77s\tremaining: 3.57s\n",
            "332:\tlearn: 0.3185184\ttotal: 1.78s\tremaining: 3.57s\n",
            "333:\tlearn: 0.3184962\ttotal: 1.78s\tremaining: 3.56s\n",
            "334:\tlearn: 0.3184851\ttotal: 1.79s\tremaining: 3.55s\n",
            "335:\tlearn: 0.3184695\ttotal: 1.79s\tremaining: 3.54s\n",
            "336:\tlearn: 0.3184623\ttotal: 1.8s\tremaining: 3.55s\n",
            "337:\tlearn: 0.3184567\ttotal: 1.81s\tremaining: 3.54s\n",
            "338:\tlearn: 0.3184533\ttotal: 1.81s\tremaining: 3.54s\n",
            "339:\tlearn: 0.3184430\ttotal: 1.82s\tremaining: 3.53s\n",
            "340:\tlearn: 0.3184257\ttotal: 1.82s\tremaining: 3.52s\n",
            "341:\tlearn: 0.3184066\ttotal: 1.83s\tremaining: 3.52s\n",
            "342:\tlearn: 0.3183937\ttotal: 1.83s\tremaining: 3.51s\n",
            "343:\tlearn: 0.3183828\ttotal: 1.84s\tremaining: 3.5s\n",
            "344:\tlearn: 0.3183676\ttotal: 1.84s\tremaining: 3.5s\n",
            "345:\tlearn: 0.3183595\ttotal: 1.85s\tremaining: 3.49s\n",
            "346:\tlearn: 0.3183554\ttotal: 1.85s\tremaining: 3.48s\n",
            "347:\tlearn: 0.3183554\ttotal: 1.85s\tremaining: 3.48s\n",
            "348:\tlearn: 0.3183455\ttotal: 1.86s\tremaining: 3.47s\n",
            "349:\tlearn: 0.3183363\ttotal: 1.87s\tremaining: 3.47s\n",
            "350:\tlearn: 0.3183222\ttotal: 1.87s\tremaining: 3.46s\n",
            "351:\tlearn: 0.3183055\ttotal: 1.88s\tremaining: 3.45s\n",
            "352:\tlearn: 0.3182867\ttotal: 1.88s\tremaining: 3.45s\n",
            "353:\tlearn: 0.3182772\ttotal: 1.89s\tremaining: 3.44s\n",
            "354:\tlearn: 0.3182763\ttotal: 1.89s\tremaining: 3.43s\n",
            "355:\tlearn: 0.3182675\ttotal: 1.89s\tremaining: 3.43s\n",
            "356:\tlearn: 0.3182600\ttotal: 1.9s\tremaining: 3.42s\n",
            "357:\tlearn: 0.3182476\ttotal: 1.9s\tremaining: 3.41s\n",
            "358:\tlearn: 0.3182176\ttotal: 1.91s\tremaining: 3.41s\n",
            "359:\tlearn: 0.3182102\ttotal: 1.91s\tremaining: 3.4s\n",
            "360:\tlearn: 0.3182010\ttotal: 1.92s\tremaining: 3.39s\n",
            "361:\tlearn: 0.3181972\ttotal: 1.92s\tremaining: 3.39s\n",
            "362:\tlearn: 0.3181921\ttotal: 1.93s\tremaining: 3.38s\n",
            "363:\tlearn: 0.3181923\ttotal: 1.93s\tremaining: 3.37s\n",
            "364:\tlearn: 0.3181926\ttotal: 1.94s\tremaining: 3.37s\n",
            "365:\tlearn: 0.3181921\ttotal: 1.94s\tremaining: 3.36s\n",
            "366:\tlearn: 0.3181922\ttotal: 1.94s\tremaining: 3.35s\n",
            "367:\tlearn: 0.3181915\ttotal: 1.95s\tremaining: 3.35s\n",
            "368:\tlearn: 0.3181916\ttotal: 1.95s\tremaining: 3.34s\n",
            "369:\tlearn: 0.3181867\ttotal: 1.96s\tremaining: 3.33s\n",
            "370:\tlearn: 0.3181866\ttotal: 1.96s\tremaining: 3.32s\n",
            "371:\tlearn: 0.3181867\ttotal: 1.97s\tremaining: 3.32s\n",
            "372:\tlearn: 0.3181866\ttotal: 1.97s\tremaining: 3.31s\n",
            "373:\tlearn: 0.3181860\ttotal: 1.97s\tremaining: 3.3s\n",
            "374:\tlearn: 0.3181861\ttotal: 1.98s\tremaining: 3.31s\n",
            "375:\tlearn: 0.3181865\ttotal: 1.99s\tremaining: 3.31s\n",
            "376:\tlearn: 0.3181790\ttotal: 2s\tremaining: 3.31s\n",
            "377:\tlearn: 0.3181790\ttotal: 2.01s\tremaining: 3.31s\n",
            "378:\tlearn: 0.3181791\ttotal: 2.03s\tremaining: 3.32s\n",
            "379:\tlearn: 0.3181791\ttotal: 2.04s\tremaining: 3.33s\n",
            "380:\tlearn: 0.3181791\ttotal: 2.05s\tremaining: 3.33s\n",
            "381:\tlearn: 0.3181789\ttotal: 2.06s\tremaining: 3.33s\n",
            "382:\tlearn: 0.3181790\ttotal: 2.07s\tremaining: 3.34s\n",
            "383:\tlearn: 0.3181798\ttotal: 2.08s\tremaining: 3.33s\n",
            "384:\tlearn: 0.3181787\ttotal: 2.08s\tremaining: 3.32s\n",
            "385:\tlearn: 0.3181787\ttotal: 2.09s\tremaining: 3.32s\n",
            "386:\tlearn: 0.3181792\ttotal: 2.1s\tremaining: 3.32s\n",
            "387:\tlearn: 0.3181787\ttotal: 2.11s\tremaining: 3.33s\n",
            "388:\tlearn: 0.3181789\ttotal: 2.12s\tremaining: 3.33s\n",
            "389:\tlearn: 0.3181788\ttotal: 2.13s\tremaining: 3.33s\n",
            "390:\tlearn: 0.3181789\ttotal: 2.13s\tremaining: 3.32s\n",
            "391:\tlearn: 0.3181785\ttotal: 2.14s\tremaining: 3.31s\n",
            "392:\tlearn: 0.3181777\ttotal: 2.14s\tremaining: 3.31s\n",
            "393:\tlearn: 0.3181775\ttotal: 2.15s\tremaining: 3.3s\n",
            "394:\tlearn: 0.3181768\ttotal: 2.15s\tremaining: 3.29s\n",
            "395:\tlearn: 0.3181771\ttotal: 2.16s\tremaining: 3.29s\n",
            "396:\tlearn: 0.3181771\ttotal: 2.16s\tremaining: 3.28s\n",
            "397:\tlearn: 0.3181768\ttotal: 2.17s\tremaining: 3.27s\n",
            "398:\tlearn: 0.3181765\ttotal: 2.17s\tremaining: 3.27s\n",
            "399:\tlearn: 0.3181764\ttotal: 2.17s\tremaining: 3.26s\n",
            "400:\tlearn: 0.3181763\ttotal: 2.18s\tremaining: 3.26s\n",
            "401:\tlearn: 0.3181768\ttotal: 2.19s\tremaining: 3.26s\n",
            "402:\tlearn: 0.3181767\ttotal: 2.2s\tremaining: 3.26s\n",
            "403:\tlearn: 0.3181765\ttotal: 2.21s\tremaining: 3.26s\n",
            "404:\tlearn: 0.3181765\ttotal: 2.22s\tremaining: 3.26s\n",
            "405:\tlearn: 0.3181766\ttotal: 2.23s\tremaining: 3.27s\n",
            "406:\tlearn: 0.3181766\ttotal: 2.25s\tremaining: 3.28s\n",
            "407:\tlearn: 0.3181763\ttotal: 2.26s\tremaining: 3.28s\n",
            "408:\tlearn: 0.3181763\ttotal: 2.27s\tremaining: 3.28s\n",
            "409:\tlearn: 0.3181760\ttotal: 2.28s\tremaining: 3.28s\n",
            "410:\tlearn: 0.3181759\ttotal: 2.29s\tremaining: 3.28s\n",
            "411:\tlearn: 0.3181757\ttotal: 2.3s\tremaining: 3.28s\n",
            "412:\tlearn: 0.3181759\ttotal: 2.31s\tremaining: 3.28s\n",
            "413:\tlearn: 0.3181754\ttotal: 2.32s\tremaining: 3.28s\n",
            "414:\tlearn: 0.3181755\ttotal: 2.32s\tremaining: 3.27s\n",
            "415:\tlearn: 0.3181757\ttotal: 2.33s\tremaining: 3.27s\n",
            "416:\tlearn: 0.3181756\ttotal: 2.33s\tremaining: 3.26s\n",
            "417:\tlearn: 0.3181757\ttotal: 2.33s\tremaining: 3.25s\n",
            "418:\tlearn: 0.3181733\ttotal: 2.34s\tremaining: 3.24s\n",
            "419:\tlearn: 0.3181735\ttotal: 2.34s\tremaining: 3.24s\n",
            "420:\tlearn: 0.3181734\ttotal: 2.35s\tremaining: 3.23s\n",
            "421:\tlearn: 0.3181732\ttotal: 2.35s\tremaining: 3.22s\n",
            "422:\tlearn: 0.3181731\ttotal: 2.35s\tremaining: 3.21s\n",
            "423:\tlearn: 0.3181732\ttotal: 2.36s\tremaining: 3.21s\n",
            "424:\tlearn: 0.3181671\ttotal: 2.36s\tremaining: 3.2s\n",
            "425:\tlearn: 0.3181670\ttotal: 2.37s\tremaining: 3.19s\n",
            "426:\tlearn: 0.3181648\ttotal: 2.37s\tremaining: 3.18s\n",
            "427:\tlearn: 0.3181649\ttotal: 2.38s\tremaining: 3.18s\n",
            "428:\tlearn: 0.3181648\ttotal: 2.38s\tremaining: 3.17s\n",
            "429:\tlearn: 0.3181649\ttotal: 2.39s\tremaining: 3.17s\n",
            "430:\tlearn: 0.3181649\ttotal: 2.4s\tremaining: 3.17s\n",
            "431:\tlearn: 0.3181648\ttotal: 2.41s\tremaining: 3.17s\n",
            "432:\tlearn: 0.3181649\ttotal: 2.41s\tremaining: 3.16s\n",
            "433:\tlearn: 0.3181647\ttotal: 2.42s\tremaining: 3.15s\n",
            "434:\tlearn: 0.3181648\ttotal: 2.42s\tremaining: 3.15s\n",
            "435:\tlearn: 0.3181648\ttotal: 2.42s\tremaining: 3.14s\n",
            "436:\tlearn: 0.3181651\ttotal: 2.43s\tremaining: 3.13s\n",
            "437:\tlearn: 0.3181651\ttotal: 2.43s\tremaining: 3.12s\n",
            "438:\tlearn: 0.3181650\ttotal: 2.44s\tremaining: 3.12s\n",
            "439:\tlearn: 0.3181651\ttotal: 2.44s\tremaining: 3.11s\n",
            "440:\tlearn: 0.3181665\ttotal: 2.45s\tremaining: 3.1s\n",
            "441:\tlearn: 0.3181657\ttotal: 2.45s\tremaining: 3.09s\n",
            "442:\tlearn: 0.3181649\ttotal: 2.46s\tremaining: 3.09s\n",
            "443:\tlearn: 0.3181640\ttotal: 2.46s\tremaining: 3.08s\n",
            "444:\tlearn: 0.3181640\ttotal: 2.46s\tremaining: 3.07s\n",
            "445:\tlearn: 0.3181645\ttotal: 2.47s\tremaining: 3.06s\n",
            "446:\tlearn: 0.3181607\ttotal: 2.47s\tremaining: 3.06s\n",
            "447:\tlearn: 0.3181609\ttotal: 2.48s\tremaining: 3.05s\n",
            "448:\tlearn: 0.3181609\ttotal: 2.48s\tremaining: 3.04s\n",
            "449:\tlearn: 0.3181610\ttotal: 2.48s\tremaining: 3.04s\n",
            "450:\tlearn: 0.3181603\ttotal: 2.49s\tremaining: 3.03s\n",
            "451:\tlearn: 0.3181602\ttotal: 2.49s\tremaining: 3.02s\n",
            "452:\tlearn: 0.3181530\ttotal: 2.5s\tremaining: 3.02s\n",
            "453:\tlearn: 0.3181477\ttotal: 2.5s\tremaining: 3.01s\n",
            "454:\tlearn: 0.3181321\ttotal: 2.51s\tremaining: 3.01s\n",
            "455:\tlearn: 0.3181325\ttotal: 2.52s\tremaining: 3s\n",
            "456:\tlearn: 0.3181299\ttotal: 2.52s\tremaining: 3s\n",
            "457:\tlearn: 0.3181228\ttotal: 2.53s\tremaining: 2.99s\n",
            "458:\tlearn: 0.3181231\ttotal: 2.53s\tremaining: 2.98s\n",
            "459:\tlearn: 0.3181230\ttotal: 2.53s\tremaining: 2.98s\n",
            "460:\tlearn: 0.3181230\ttotal: 2.54s\tremaining: 2.97s\n",
            "461:\tlearn: 0.3181214\ttotal: 2.54s\tremaining: 2.96s\n",
            "462:\tlearn: 0.3181214\ttotal: 2.54s\tremaining: 2.95s\n",
            "463:\tlearn: 0.3181211\ttotal: 2.55s\tremaining: 2.94s\n",
            "464:\tlearn: 0.3181208\ttotal: 2.55s\tremaining: 2.94s\n",
            "465:\tlearn: 0.3181213\ttotal: 2.56s\tremaining: 2.93s\n",
            "466:\tlearn: 0.3181212\ttotal: 2.56s\tremaining: 2.92s\n",
            "467:\tlearn: 0.3181206\ttotal: 2.57s\tremaining: 2.92s\n",
            "468:\tlearn: 0.3181170\ttotal: 2.58s\tremaining: 2.92s\n",
            "469:\tlearn: 0.3181137\ttotal: 2.58s\tremaining: 2.91s\n",
            "470:\tlearn: 0.3181139\ttotal: 2.59s\tremaining: 2.91s\n",
            "471:\tlearn: 0.3181135\ttotal: 2.59s\tremaining: 2.9s\n",
            "472:\tlearn: 0.3181138\ttotal: 2.6s\tremaining: 2.9s\n",
            "473:\tlearn: 0.3181136\ttotal: 2.6s\tremaining: 2.89s\n",
            "474:\tlearn: 0.3181134\ttotal: 2.61s\tremaining: 2.88s\n",
            "475:\tlearn: 0.3181135\ttotal: 2.61s\tremaining: 2.87s\n",
            "476:\tlearn: 0.3181134\ttotal: 2.62s\tremaining: 2.87s\n",
            "477:\tlearn: 0.3181129\ttotal: 2.62s\tremaining: 2.86s\n",
            "478:\tlearn: 0.3181130\ttotal: 2.62s\tremaining: 2.85s\n",
            "479:\tlearn: 0.3181127\ttotal: 2.63s\tremaining: 2.85s\n",
            "480:\tlearn: 0.3181126\ttotal: 2.63s\tremaining: 2.84s\n",
            "481:\tlearn: 0.3181126\ttotal: 2.64s\tremaining: 2.83s\n",
            "482:\tlearn: 0.3181128\ttotal: 2.64s\tremaining: 2.83s\n",
            "483:\tlearn: 0.3181127\ttotal: 2.65s\tremaining: 2.82s\n",
            "484:\tlearn: 0.3181127\ttotal: 2.65s\tremaining: 2.81s\n",
            "485:\tlearn: 0.3181127\ttotal: 2.65s\tremaining: 2.81s\n",
            "486:\tlearn: 0.3181127\ttotal: 2.66s\tremaining: 2.8s\n",
            "487:\tlearn: 0.3181127\ttotal: 2.66s\tremaining: 2.79s\n",
            "488:\tlearn: 0.3181128\ttotal: 2.67s\tremaining: 2.79s\n",
            "489:\tlearn: 0.3181128\ttotal: 2.67s\tremaining: 2.78s\n",
            "490:\tlearn: 0.3181126\ttotal: 2.67s\tremaining: 2.77s\n",
            "491:\tlearn: 0.3181128\ttotal: 2.68s\tremaining: 2.77s\n",
            "492:\tlearn: 0.3181129\ttotal: 2.68s\tremaining: 2.76s\n",
            "493:\tlearn: 0.3181129\ttotal: 2.69s\tremaining: 2.75s\n",
            "494:\tlearn: 0.3181128\ttotal: 2.69s\tremaining: 2.75s\n",
            "495:\tlearn: 0.3181128\ttotal: 2.7s\tremaining: 2.74s\n",
            "496:\tlearn: 0.3181128\ttotal: 2.7s\tremaining: 2.73s\n",
            "497:\tlearn: 0.3181131\ttotal: 2.7s\tremaining: 2.73s\n",
            "498:\tlearn: 0.3181129\ttotal: 2.71s\tremaining: 2.72s\n",
            "499:\tlearn: 0.3181128\ttotal: 2.71s\tremaining: 2.71s\n",
            "500:\tlearn: 0.3181126\ttotal: 2.72s\tremaining: 2.71s\n",
            "501:\tlearn: 0.3181130\ttotal: 2.72s\tremaining: 2.7s\n",
            "502:\tlearn: 0.3181099\ttotal: 2.73s\tremaining: 2.69s\n",
            "503:\tlearn: 0.3181048\ttotal: 2.73s\tremaining: 2.69s\n",
            "504:\tlearn: 0.3181053\ttotal: 2.73s\tremaining: 2.68s\n",
            "505:\tlearn: 0.3181057\ttotal: 2.74s\tremaining: 2.67s\n",
            "506:\tlearn: 0.3181025\ttotal: 2.74s\tremaining: 2.67s\n",
            "507:\tlearn: 0.3181026\ttotal: 2.75s\tremaining: 2.66s\n",
            "508:\tlearn: 0.3181027\ttotal: 2.75s\tremaining: 2.65s\n",
            "509:\tlearn: 0.3181027\ttotal: 2.76s\tremaining: 2.65s\n",
            "510:\tlearn: 0.3181029\ttotal: 2.76s\tremaining: 2.64s\n",
            "511:\tlearn: 0.3181028\ttotal: 2.77s\tremaining: 2.63s\n",
            "512:\tlearn: 0.3181026\ttotal: 2.77s\tremaining: 2.63s\n",
            "513:\tlearn: 0.3181027\ttotal: 2.78s\tremaining: 2.63s\n",
            "514:\tlearn: 0.3181026\ttotal: 2.78s\tremaining: 2.62s\n",
            "515:\tlearn: 0.3181028\ttotal: 2.79s\tremaining: 2.61s\n",
            "516:\tlearn: 0.3181030\ttotal: 2.79s\tremaining: 2.61s\n",
            "517:\tlearn: 0.3181030\ttotal: 2.79s\tremaining: 2.6s\n",
            "518:\tlearn: 0.3181029\ttotal: 2.8s\tremaining: 2.59s\n",
            "519:\tlearn: 0.3181030\ttotal: 2.8s\tremaining: 2.59s\n",
            "520:\tlearn: 0.3181022\ttotal: 2.81s\tremaining: 2.58s\n",
            "521:\tlearn: 0.3181026\ttotal: 2.82s\tremaining: 2.58s\n",
            "522:\tlearn: 0.3181027\ttotal: 2.82s\tremaining: 2.58s\n",
            "523:\tlearn: 0.3181028\ttotal: 2.83s\tremaining: 2.57s\n",
            "524:\tlearn: 0.3181026\ttotal: 2.83s\tremaining: 2.56s\n",
            "525:\tlearn: 0.3181023\ttotal: 2.84s\tremaining: 2.56s\n",
            "526:\tlearn: 0.3181024\ttotal: 2.84s\tremaining: 2.55s\n",
            "527:\tlearn: 0.3181025\ttotal: 2.85s\tremaining: 2.54s\n",
            "528:\tlearn: 0.3181026\ttotal: 2.85s\tremaining: 2.54s\n",
            "529:\tlearn: 0.3181022\ttotal: 2.85s\tremaining: 2.53s\n",
            "530:\tlearn: 0.3181023\ttotal: 2.86s\tremaining: 2.52s\n",
            "531:\tlearn: 0.3181023\ttotal: 2.86s\tremaining: 2.52s\n",
            "532:\tlearn: 0.3181022\ttotal: 2.87s\tremaining: 2.51s\n",
            "533:\tlearn: 0.3181024\ttotal: 2.87s\tremaining: 2.5s\n",
            "534:\tlearn: 0.3181024\ttotal: 2.87s\tremaining: 2.5s\n",
            "535:\tlearn: 0.3181025\ttotal: 2.88s\tremaining: 2.49s\n",
            "536:\tlearn: 0.3181023\ttotal: 2.88s\tremaining: 2.48s\n",
            "537:\tlearn: 0.3181024\ttotal: 2.89s\tremaining: 2.48s\n",
            "538:\tlearn: 0.3181024\ttotal: 2.89s\tremaining: 2.47s\n",
            "539:\tlearn: 0.3181023\ttotal: 2.89s\tremaining: 2.46s\n",
            "540:\tlearn: 0.3181020\ttotal: 2.9s\tremaining: 2.46s\n",
            "541:\tlearn: 0.3181018\ttotal: 2.9s\tremaining: 2.45s\n",
            "542:\tlearn: 0.3181019\ttotal: 2.91s\tremaining: 2.45s\n",
            "543:\tlearn: 0.3181019\ttotal: 2.91s\tremaining: 2.44s\n",
            "544:\tlearn: 0.3181019\ttotal: 2.92s\tremaining: 2.43s\n",
            "545:\tlearn: 0.3181024\ttotal: 2.92s\tremaining: 2.43s\n",
            "546:\tlearn: 0.3181019\ttotal: 2.92s\tremaining: 2.42s\n",
            "547:\tlearn: 0.3181021\ttotal: 2.93s\tremaining: 2.42s\n",
            "548:\tlearn: 0.3181023\ttotal: 2.93s\tremaining: 2.41s\n",
            "549:\tlearn: 0.3181024\ttotal: 2.94s\tremaining: 2.4s\n",
            "550:\tlearn: 0.3181022\ttotal: 2.94s\tremaining: 2.4s\n",
            "551:\tlearn: 0.3181020\ttotal: 2.94s\tremaining: 2.39s\n",
            "552:\tlearn: 0.3181021\ttotal: 2.95s\tremaining: 2.38s\n",
            "553:\tlearn: 0.3181023\ttotal: 2.95s\tremaining: 2.38s\n",
            "554:\tlearn: 0.3181024\ttotal: 2.96s\tremaining: 2.37s\n",
            "555:\tlearn: 0.3181024\ttotal: 2.96s\tremaining: 2.37s\n",
            "556:\tlearn: 0.3181024\ttotal: 2.97s\tremaining: 2.36s\n",
            "557:\tlearn: 0.3181019\ttotal: 2.98s\tremaining: 2.36s\n",
            "558:\tlearn: 0.3181016\ttotal: 2.98s\tremaining: 2.35s\n",
            "559:\tlearn: 0.3181019\ttotal: 2.99s\tremaining: 2.35s\n",
            "560:\tlearn: 0.3181019\ttotal: 2.99s\tremaining: 2.34s\n",
            "561:\tlearn: 0.3181019\ttotal: 3s\tremaining: 2.34s\n",
            "562:\tlearn: 0.3181019\ttotal: 3s\tremaining: 2.33s\n",
            "563:\tlearn: 0.3181018\ttotal: 3.01s\tremaining: 2.33s\n",
            "564:\tlearn: 0.3181015\ttotal: 3.01s\tremaining: 2.32s\n",
            "565:\tlearn: 0.3181016\ttotal: 3.02s\tremaining: 2.31s\n",
            "566:\tlearn: 0.3181017\ttotal: 3.02s\tremaining: 2.31s\n",
            "567:\tlearn: 0.3181018\ttotal: 3.02s\tremaining: 2.3s\n",
            "568:\tlearn: 0.3181016\ttotal: 3.03s\tremaining: 2.29s\n",
            "569:\tlearn: 0.3181013\ttotal: 3.03s\tremaining: 2.29s\n",
            "570:\tlearn: 0.3181013\ttotal: 3.04s\tremaining: 2.28s\n",
            "571:\tlearn: 0.3181015\ttotal: 3.04s\tremaining: 2.27s\n",
            "572:\tlearn: 0.3181016\ttotal: 3.04s\tremaining: 2.27s\n",
            "573:\tlearn: 0.3181016\ttotal: 3.05s\tremaining: 2.26s\n",
            "574:\tlearn: 0.3181016\ttotal: 3.05s\tremaining: 2.26s\n",
            "575:\tlearn: 0.3181017\ttotal: 3.06s\tremaining: 2.25s\n",
            "576:\tlearn: 0.3181025\ttotal: 3.06s\tremaining: 2.24s\n",
            "577:\tlearn: 0.3181023\ttotal: 3.06s\tremaining: 2.24s\n",
            "578:\tlearn: 0.3181009\ttotal: 3.07s\tremaining: 2.23s\n",
            "579:\tlearn: 0.3181003\ttotal: 3.07s\tremaining: 2.23s\n",
            "580:\tlearn: 0.3181007\ttotal: 3.08s\tremaining: 2.22s\n",
            "581:\tlearn: 0.3181002\ttotal: 3.08s\tremaining: 2.21s\n",
            "582:\tlearn: 0.3180995\ttotal: 3.09s\tremaining: 2.21s\n",
            "583:\tlearn: 0.3180993\ttotal: 3.09s\tremaining: 2.2s\n",
            "584:\tlearn: 0.3180991\ttotal: 3.1s\tremaining: 2.2s\n",
            "585:\tlearn: 0.3180995\ttotal: 3.1s\tremaining: 2.19s\n",
            "586:\tlearn: 0.3180992\ttotal: 3.1s\tremaining: 2.19s\n",
            "587:\tlearn: 0.3180992\ttotal: 3.11s\tremaining: 2.18s\n",
            "588:\tlearn: 0.3180991\ttotal: 3.11s\tremaining: 2.17s\n",
            "589:\tlearn: 0.3180986\ttotal: 3.12s\tremaining: 2.17s\n",
            "590:\tlearn: 0.3180986\ttotal: 3.12s\tremaining: 2.16s\n",
            "591:\tlearn: 0.3180987\ttotal: 3.13s\tremaining: 2.15s\n",
            "592:\tlearn: 0.3180984\ttotal: 3.13s\tremaining: 2.15s\n",
            "593:\tlearn: 0.3180984\ttotal: 3.13s\tremaining: 2.14s\n",
            "594:\tlearn: 0.3180984\ttotal: 3.14s\tremaining: 2.14s\n",
            "595:\tlearn: 0.3180978\ttotal: 3.14s\tremaining: 2.13s\n",
            "596:\tlearn: 0.3180980\ttotal: 3.15s\tremaining: 2.13s\n",
            "597:\tlearn: 0.3180979\ttotal: 3.15s\tremaining: 2.12s\n",
            "598:\tlearn: 0.3180974\ttotal: 3.16s\tremaining: 2.11s\n",
            "599:\tlearn: 0.3180978\ttotal: 3.16s\tremaining: 2.11s\n",
            "600:\tlearn: 0.3180962\ttotal: 3.17s\tremaining: 2.1s\n",
            "601:\tlearn: 0.3180959\ttotal: 3.17s\tremaining: 2.1s\n",
            "602:\tlearn: 0.3180926\ttotal: 3.18s\tremaining: 2.09s\n",
            "603:\tlearn: 0.3180922\ttotal: 3.18s\tremaining: 2.09s\n",
            "604:\tlearn: 0.3180922\ttotal: 3.19s\tremaining: 2.08s\n",
            "605:\tlearn: 0.3180923\ttotal: 3.19s\tremaining: 2.08s\n",
            "606:\tlearn: 0.3180924\ttotal: 3.2s\tremaining: 2.07s\n",
            "607:\tlearn: 0.3180921\ttotal: 3.2s\tremaining: 2.06s\n",
            "608:\tlearn: 0.3180924\ttotal: 3.21s\tremaining: 2.06s\n",
            "609:\tlearn: 0.3180925\ttotal: 3.21s\tremaining: 2.05s\n",
            "610:\tlearn: 0.3180926\ttotal: 3.21s\tremaining: 2.05s\n",
            "611:\tlearn: 0.3180936\ttotal: 3.22s\tremaining: 2.04s\n",
            "612:\tlearn: 0.3180935\ttotal: 3.22s\tremaining: 2.04s\n",
            "613:\tlearn: 0.3180932\ttotal: 3.23s\tremaining: 2.03s\n",
            "614:\tlearn: 0.3180928\ttotal: 3.23s\tremaining: 2.02s\n",
            "615:\tlearn: 0.3180926\ttotal: 3.24s\tremaining: 2.02s\n",
            "616:\tlearn: 0.3180919\ttotal: 3.24s\tremaining: 2.01s\n",
            "617:\tlearn: 0.3180919\ttotal: 3.24s\tremaining: 2s\n",
            "618:\tlearn: 0.3180919\ttotal: 3.25s\tremaining: 2s\n",
            "619:\tlearn: 0.3180921\ttotal: 3.25s\tremaining: 1.99s\n",
            "620:\tlearn: 0.3180913\ttotal: 3.26s\tremaining: 1.99s\n",
            "621:\tlearn: 0.3180915\ttotal: 3.26s\tremaining: 1.98s\n",
            "622:\tlearn: 0.3180915\ttotal: 3.27s\tremaining: 1.98s\n",
            "623:\tlearn: 0.3180916\ttotal: 3.27s\tremaining: 1.97s\n",
            "624:\tlearn: 0.3180916\ttotal: 3.28s\tremaining: 1.97s\n",
            "625:\tlearn: 0.3180916\ttotal: 3.29s\tremaining: 1.96s\n",
            "626:\tlearn: 0.3180914\ttotal: 3.29s\tremaining: 1.96s\n",
            "627:\tlearn: 0.3180915\ttotal: 3.29s\tremaining: 1.95s\n",
            "628:\tlearn: 0.3180921\ttotal: 3.3s\tremaining: 1.95s\n",
            "629:\tlearn: 0.3180919\ttotal: 3.3s\tremaining: 1.94s\n",
            "630:\tlearn: 0.3180919\ttotal: 3.31s\tremaining: 1.93s\n",
            "631:\tlearn: 0.3180920\ttotal: 3.31s\tremaining: 1.93s\n",
            "632:\tlearn: 0.3180920\ttotal: 3.32s\tremaining: 1.92s\n",
            "633:\tlearn: 0.3180921\ttotal: 3.32s\tremaining: 1.92s\n",
            "634:\tlearn: 0.3180919\ttotal: 3.33s\tremaining: 1.91s\n",
            "635:\tlearn: 0.3180917\ttotal: 3.33s\tremaining: 1.91s\n",
            "636:\tlearn: 0.3180909\ttotal: 3.33s\tremaining: 1.9s\n",
            "637:\tlearn: 0.3180907\ttotal: 3.34s\tremaining: 1.89s\n",
            "638:\tlearn: 0.3180911\ttotal: 3.34s\tremaining: 1.89s\n",
            "639:\tlearn: 0.3180910\ttotal: 3.35s\tremaining: 1.88s\n",
            "640:\tlearn: 0.3180905\ttotal: 3.37s\tremaining: 1.89s\n",
            "641:\tlearn: 0.3180906\ttotal: 3.37s\tremaining: 1.88s\n",
            "642:\tlearn: 0.3180905\ttotal: 3.38s\tremaining: 1.88s\n",
            "643:\tlearn: 0.3180901\ttotal: 3.38s\tremaining: 1.87s\n",
            "644:\tlearn: 0.3180901\ttotal: 3.39s\tremaining: 1.86s\n",
            "645:\tlearn: 0.3180901\ttotal: 3.39s\tremaining: 1.86s\n",
            "646:\tlearn: 0.3180901\ttotal: 3.4s\tremaining: 1.85s\n",
            "647:\tlearn: 0.3180902\ttotal: 3.4s\tremaining: 1.85s\n",
            "648:\tlearn: 0.3180902\ttotal: 3.41s\tremaining: 1.84s\n",
            "649:\tlearn: 0.3180902\ttotal: 3.41s\tremaining: 1.84s\n",
            "650:\tlearn: 0.3180902\ttotal: 3.41s\tremaining: 1.83s\n",
            "651:\tlearn: 0.3180903\ttotal: 3.42s\tremaining: 1.82s\n",
            "652:\tlearn: 0.3180905\ttotal: 3.42s\tremaining: 1.82s\n",
            "653:\tlearn: 0.3180905\ttotal: 3.43s\tremaining: 1.81s\n",
            "654:\tlearn: 0.3180905\ttotal: 3.44s\tremaining: 1.81s\n",
            "655:\tlearn: 0.3180906\ttotal: 3.44s\tremaining: 1.8s\n",
            "656:\tlearn: 0.3180905\ttotal: 3.44s\tremaining: 1.8s\n",
            "657:\tlearn: 0.3180905\ttotal: 3.45s\tremaining: 1.79s\n",
            "658:\tlearn: 0.3180905\ttotal: 3.45s\tremaining: 1.79s\n",
            "659:\tlearn: 0.3180905\ttotal: 3.46s\tremaining: 1.78s\n",
            "660:\tlearn: 0.3180905\ttotal: 3.46s\tremaining: 1.77s\n",
            "661:\tlearn: 0.3180906\ttotal: 3.47s\tremaining: 1.77s\n",
            "662:\tlearn: 0.3180908\ttotal: 3.47s\tremaining: 1.76s\n",
            "663:\tlearn: 0.3180908\ttotal: 3.47s\tremaining: 1.76s\n",
            "664:\tlearn: 0.3180898\ttotal: 3.48s\tremaining: 1.75s\n",
            "665:\tlearn: 0.3180898\ttotal: 3.48s\tremaining: 1.75s\n",
            "666:\tlearn: 0.3180898\ttotal: 3.49s\tremaining: 1.74s\n",
            "667:\tlearn: 0.3180898\ttotal: 3.49s\tremaining: 1.74s\n",
            "668:\tlearn: 0.3180898\ttotal: 3.5s\tremaining: 1.73s\n",
            "669:\tlearn: 0.3180899\ttotal: 3.5s\tremaining: 1.72s\n",
            "670:\tlearn: 0.3180901\ttotal: 3.51s\tremaining: 1.72s\n",
            "671:\tlearn: 0.3180901\ttotal: 3.51s\tremaining: 1.71s\n",
            "672:\tlearn: 0.3180901\ttotal: 3.51s\tremaining: 1.71s\n",
            "673:\tlearn: 0.3180902\ttotal: 3.52s\tremaining: 1.7s\n",
            "674:\tlearn: 0.3180902\ttotal: 3.52s\tremaining: 1.7s\n",
            "675:\tlearn: 0.3180902\ttotal: 3.53s\tremaining: 1.69s\n",
            "676:\tlearn: 0.3180901\ttotal: 3.53s\tremaining: 1.69s\n",
            "677:\tlearn: 0.3180904\ttotal: 3.54s\tremaining: 1.68s\n",
            "678:\tlearn: 0.3180902\ttotal: 3.54s\tremaining: 1.67s\n",
            "679:\tlearn: 0.3180901\ttotal: 3.54s\tremaining: 1.67s\n",
            "680:\tlearn: 0.3180909\ttotal: 3.55s\tremaining: 1.66s\n",
            "681:\tlearn: 0.3180906\ttotal: 3.55s\tremaining: 1.66s\n",
            "682:\tlearn: 0.3180905\ttotal: 3.56s\tremaining: 1.65s\n",
            "683:\tlearn: 0.3180906\ttotal: 3.56s\tremaining: 1.65s\n",
            "684:\tlearn: 0.3180903\ttotal: 3.57s\tremaining: 1.64s\n",
            "685:\tlearn: 0.3180901\ttotal: 3.57s\tremaining: 1.64s\n",
            "686:\tlearn: 0.3180900\ttotal: 3.58s\tremaining: 1.63s\n",
            "687:\tlearn: 0.3180901\ttotal: 3.58s\tremaining: 1.62s\n",
            "688:\tlearn: 0.3180900\ttotal: 3.59s\tremaining: 1.62s\n",
            "689:\tlearn: 0.3180899\ttotal: 3.59s\tremaining: 1.61s\n",
            "690:\tlearn: 0.3180903\ttotal: 3.59s\tremaining: 1.61s\n",
            "691:\tlearn: 0.3180902\ttotal: 3.6s\tremaining: 1.6s\n",
            "692:\tlearn: 0.3180901\ttotal: 3.6s\tremaining: 1.6s\n",
            "693:\tlearn: 0.3180902\ttotal: 3.61s\tremaining: 1.59s\n",
            "694:\tlearn: 0.3180898\ttotal: 3.61s\tremaining: 1.58s\n",
            "695:\tlearn: 0.3180898\ttotal: 3.62s\tremaining: 1.58s\n",
            "696:\tlearn: 0.3180899\ttotal: 3.62s\tremaining: 1.57s\n",
            "697:\tlearn: 0.3180901\ttotal: 3.62s\tremaining: 1.57s\n",
            "698:\tlearn: 0.3180899\ttotal: 3.63s\tremaining: 1.56s\n",
            "699:\tlearn: 0.3180903\ttotal: 3.63s\tremaining: 1.56s\n",
            "700:\tlearn: 0.3180905\ttotal: 3.64s\tremaining: 1.55s\n",
            "701:\tlearn: 0.3180902\ttotal: 3.64s\tremaining: 1.54s\n",
            "702:\tlearn: 0.3180865\ttotal: 3.65s\tremaining: 1.54s\n",
            "703:\tlearn: 0.3180865\ttotal: 3.65s\tremaining: 1.53s\n",
            "704:\tlearn: 0.3180865\ttotal: 3.65s\tremaining: 1.53s\n",
            "705:\tlearn: 0.3180867\ttotal: 3.66s\tremaining: 1.52s\n",
            "706:\tlearn: 0.3180865\ttotal: 3.66s\tremaining: 1.52s\n",
            "707:\tlearn: 0.3180865\ttotal: 3.67s\tremaining: 1.51s\n",
            "708:\tlearn: 0.3180857\ttotal: 3.67s\tremaining: 1.51s\n",
            "709:\tlearn: 0.3180860\ttotal: 3.67s\tremaining: 1.5s\n",
            "710:\tlearn: 0.3180751\ttotal: 3.68s\tremaining: 1.5s\n",
            "711:\tlearn: 0.3180749\ttotal: 3.68s\tremaining: 1.49s\n",
            "712:\tlearn: 0.3180755\ttotal: 3.69s\tremaining: 1.49s\n",
            "713:\tlearn: 0.3180755\ttotal: 3.69s\tremaining: 1.48s\n",
            "714:\tlearn: 0.3180755\ttotal: 3.7s\tremaining: 1.47s\n",
            "715:\tlearn: 0.3180755\ttotal: 3.7s\tremaining: 1.47s\n",
            "716:\tlearn: 0.3180755\ttotal: 3.71s\tremaining: 1.46s\n",
            "717:\tlearn: 0.3180752\ttotal: 3.71s\tremaining: 1.46s\n",
            "718:\tlearn: 0.3180753\ttotal: 3.71s\tremaining: 1.45s\n",
            "719:\tlearn: 0.3180713\ttotal: 3.72s\tremaining: 1.45s\n",
            "720:\tlearn: 0.3180710\ttotal: 3.73s\tremaining: 1.44s\n",
            "721:\tlearn: 0.3180711\ttotal: 3.73s\tremaining: 1.44s\n",
            "722:\tlearn: 0.3180712\ttotal: 3.74s\tremaining: 1.43s\n",
            "723:\tlearn: 0.3180711\ttotal: 3.74s\tremaining: 1.43s\n",
            "724:\tlearn: 0.3180698\ttotal: 3.74s\tremaining: 1.42s\n",
            "725:\tlearn: 0.3180700\ttotal: 3.75s\tremaining: 1.41s\n",
            "726:\tlearn: 0.3180698\ttotal: 3.75s\tremaining: 1.41s\n",
            "727:\tlearn: 0.3180697\ttotal: 3.76s\tremaining: 1.41s\n",
            "728:\tlearn: 0.3180697\ttotal: 3.77s\tremaining: 1.4s\n",
            "729:\tlearn: 0.3180698\ttotal: 3.77s\tremaining: 1.39s\n",
            "730:\tlearn: 0.3180697\ttotal: 3.77s\tremaining: 1.39s\n",
            "731:\tlearn: 0.3180696\ttotal: 3.78s\tremaining: 1.38s\n",
            "732:\tlearn: 0.3180697\ttotal: 3.78s\tremaining: 1.38s\n",
            "733:\tlearn: 0.3180697\ttotal: 3.79s\tremaining: 1.37s\n",
            "734:\tlearn: 0.3180697\ttotal: 3.79s\tremaining: 1.37s\n",
            "735:\tlearn: 0.3180699\ttotal: 3.79s\tremaining: 1.36s\n",
            "736:\tlearn: 0.3180698\ttotal: 3.8s\tremaining: 1.35s\n",
            "737:\tlearn: 0.3180699\ttotal: 3.8s\tremaining: 1.35s\n",
            "738:\tlearn: 0.3180696\ttotal: 3.81s\tremaining: 1.34s\n",
            "739:\tlearn: 0.3180696\ttotal: 3.81s\tremaining: 1.34s\n",
            "740:\tlearn: 0.3180700\ttotal: 3.82s\tremaining: 1.33s\n",
            "741:\tlearn: 0.3180703\ttotal: 3.82s\tremaining: 1.33s\n",
            "742:\tlearn: 0.3180702\ttotal: 3.83s\tremaining: 1.32s\n",
            "743:\tlearn: 0.3180701\ttotal: 3.83s\tremaining: 1.32s\n",
            "744:\tlearn: 0.3180700\ttotal: 3.83s\tremaining: 1.31s\n",
            "745:\tlearn: 0.3180700\ttotal: 3.84s\tremaining: 1.31s\n",
            "746:\tlearn: 0.3180664\ttotal: 3.84s\tremaining: 1.3s\n",
            "747:\tlearn: 0.3180662\ttotal: 3.85s\tremaining: 1.3s\n",
            "748:\tlearn: 0.3180662\ttotal: 3.85s\tremaining: 1.29s\n",
            "749:\tlearn: 0.3180665\ttotal: 3.85s\tremaining: 1.28s\n",
            "750:\tlearn: 0.3180665\ttotal: 3.86s\tremaining: 1.28s\n",
            "751:\tlearn: 0.3180667\ttotal: 3.86s\tremaining: 1.27s\n",
            "752:\tlearn: 0.3180634\ttotal: 3.88s\tremaining: 1.27s\n",
            "753:\tlearn: 0.3180636\ttotal: 3.88s\tremaining: 1.27s\n",
            "754:\tlearn: 0.3180635\ttotal: 3.89s\tremaining: 1.26s\n",
            "755:\tlearn: 0.3180641\ttotal: 3.89s\tremaining: 1.25s\n",
            "756:\tlearn: 0.3180613\ttotal: 3.9s\tremaining: 1.25s\n",
            "757:\tlearn: 0.3180613\ttotal: 3.91s\tremaining: 1.25s\n",
            "758:\tlearn: 0.3180612\ttotal: 3.92s\tremaining: 1.24s\n",
            "759:\tlearn: 0.3180611\ttotal: 3.93s\tremaining: 1.24s\n",
            "760:\tlearn: 0.3180608\ttotal: 3.93s\tremaining: 1.23s\n",
            "761:\tlearn: 0.3180610\ttotal: 3.95s\tremaining: 1.23s\n",
            "762:\tlearn: 0.3180610\ttotal: 3.96s\tremaining: 1.23s\n",
            "763:\tlearn: 0.3180610\ttotal: 3.97s\tremaining: 1.23s\n",
            "764:\tlearn: 0.3180611\ttotal: 3.98s\tremaining: 1.22s\n",
            "765:\tlearn: 0.3180611\ttotal: 3.99s\tremaining: 1.22s\n",
            "766:\tlearn: 0.3180610\ttotal: 4s\tremaining: 1.22s\n",
            "767:\tlearn: 0.3180610\ttotal: 4.03s\tremaining: 1.22s\n",
            "768:\tlearn: 0.3180611\ttotal: 4.03s\tremaining: 1.21s\n",
            "769:\tlearn: 0.3180611\ttotal: 4.04s\tremaining: 1.21s\n",
            "770:\tlearn: 0.3180611\ttotal: 4.05s\tremaining: 1.2s\n",
            "771:\tlearn: 0.3180611\ttotal: 4.06s\tremaining: 1.2s\n",
            "772:\tlearn: 0.3180611\ttotal: 4.08s\tremaining: 1.2s\n",
            "773:\tlearn: 0.3180622\ttotal: 4.08s\tremaining: 1.19s\n",
            "774:\tlearn: 0.3180622\ttotal: 4.09s\tremaining: 1.19s\n",
            "775:\tlearn: 0.3180622\ttotal: 4.1s\tremaining: 1.18s\n",
            "776:\tlearn: 0.3180600\ttotal: 4.11s\tremaining: 1.18s\n",
            "777:\tlearn: 0.3180603\ttotal: 4.13s\tremaining: 1.18s\n",
            "778:\tlearn: 0.3180603\ttotal: 4.13s\tremaining: 1.17s\n",
            "779:\tlearn: 0.3180603\ttotal: 4.14s\tremaining: 1.17s\n",
            "780:\tlearn: 0.3180603\ttotal: 4.14s\tremaining: 1.16s\n",
            "781:\tlearn: 0.3180603\ttotal: 4.15s\tremaining: 1.16s\n",
            "782:\tlearn: 0.3180607\ttotal: 4.16s\tremaining: 1.15s\n",
            "783:\tlearn: 0.3180601\ttotal: 4.17s\tremaining: 1.15s\n",
            "784:\tlearn: 0.3180602\ttotal: 4.18s\tremaining: 1.15s\n",
            "785:\tlearn: 0.3180600\ttotal: 4.19s\tremaining: 1.14s\n",
            "786:\tlearn: 0.3180601\ttotal: 4.21s\tremaining: 1.14s\n",
            "787:\tlearn: 0.3180601\ttotal: 4.21s\tremaining: 1.13s\n",
            "788:\tlearn: 0.3180600\ttotal: 4.21s\tremaining: 1.13s\n",
            "789:\tlearn: 0.3180597\ttotal: 4.23s\tremaining: 1.12s\n",
            "790:\tlearn: 0.3180596\ttotal: 4.24s\tremaining: 1.12s\n",
            "791:\tlearn: 0.3180595\ttotal: 4.25s\tremaining: 1.11s\n",
            "792:\tlearn: 0.3180596\ttotal: 4.26s\tremaining: 1.11s\n",
            "793:\tlearn: 0.3180589\ttotal: 4.27s\tremaining: 1.11s\n",
            "794:\tlearn: 0.3180597\ttotal: 4.29s\tremaining: 1.1s\n",
            "795:\tlearn: 0.3180597\ttotal: 4.29s\tremaining: 1.1s\n",
            "796:\tlearn: 0.3180599\ttotal: 4.3s\tremaining: 1.09s\n",
            "797:\tlearn: 0.3180599\ttotal: 4.31s\tremaining: 1.09s\n",
            "798:\tlearn: 0.3180598\ttotal: 4.34s\tremaining: 1.09s\n",
            "799:\tlearn: 0.3180600\ttotal: 4.36s\tremaining: 1.09s\n",
            "800:\tlearn: 0.3180593\ttotal: 4.37s\tremaining: 1.09s\n",
            "801:\tlearn: 0.3180600\ttotal: 4.38s\tremaining: 1.08s\n",
            "802:\tlearn: 0.3180593\ttotal: 4.39s\tremaining: 1.08s\n",
            "803:\tlearn: 0.3180592\ttotal: 4.4s\tremaining: 1.07s\n",
            "804:\tlearn: 0.3180600\ttotal: 4.41s\tremaining: 1.07s\n",
            "805:\tlearn: 0.3180601\ttotal: 4.42s\tremaining: 1.06s\n",
            "806:\tlearn: 0.3180603\ttotal: 4.43s\tremaining: 1.06s\n",
            "807:\tlearn: 0.3180601\ttotal: 4.45s\tremaining: 1.06s\n",
            "808:\tlearn: 0.3180595\ttotal: 4.45s\tremaining: 1.05s\n",
            "809:\tlearn: 0.3180596\ttotal: 4.47s\tremaining: 1.05s\n",
            "810:\tlearn: 0.3180593\ttotal: 4.48s\tremaining: 1.04s\n",
            "811:\tlearn: 0.3180593\ttotal: 4.49s\tremaining: 1.04s\n",
            "812:\tlearn: 0.3180591\ttotal: 4.5s\tremaining: 1.03s\n",
            "813:\tlearn: 0.3180590\ttotal: 4.5s\tremaining: 1.03s\n",
            "814:\tlearn: 0.3180588\ttotal: 4.5s\tremaining: 1.02s\n",
            "815:\tlearn: 0.3180589\ttotal: 4.51s\tremaining: 1.02s\n",
            "816:\tlearn: 0.3180589\ttotal: 4.53s\tremaining: 1.01s\n",
            "817:\tlearn: 0.3180588\ttotal: 4.56s\tremaining: 1.01s\n",
            "818:\tlearn: 0.3180589\ttotal: 4.56s\tremaining: 1.01s\n",
            "819:\tlearn: 0.3180592\ttotal: 4.57s\tremaining: 1s\n",
            "820:\tlearn: 0.3180591\ttotal: 4.58s\tremaining: 998ms\n",
            "821:\tlearn: 0.3180592\ttotal: 4.59s\tremaining: 994ms\n",
            "822:\tlearn: 0.3180591\ttotal: 4.61s\tremaining: 990ms\n",
            "823:\tlearn: 0.3180593\ttotal: 4.62s\tremaining: 988ms\n",
            "824:\tlearn: 0.3180596\ttotal: 4.63s\tremaining: 983ms\n",
            "825:\tlearn: 0.3180596\ttotal: 4.65s\tremaining: 979ms\n",
            "826:\tlearn: 0.3180596\ttotal: 4.69s\tremaining: 980ms\n",
            "827:\tlearn: 0.3180596\ttotal: 4.7s\tremaining: 977ms\n",
            "828:\tlearn: 0.3180601\ttotal: 4.71s\tremaining: 972ms\n",
            "829:\tlearn: 0.3180597\ttotal: 4.73s\tremaining: 968ms\n",
            "830:\tlearn: 0.3180597\ttotal: 4.74s\tremaining: 964ms\n",
            "831:\tlearn: 0.3180595\ttotal: 4.76s\tremaining: 961ms\n",
            "832:\tlearn: 0.3180594\ttotal: 4.77s\tremaining: 956ms\n",
            "833:\tlearn: 0.3180594\ttotal: 4.78s\tremaining: 952ms\n",
            "834:\tlearn: 0.3180594\ttotal: 4.8s\tremaining: 948ms\n",
            "835:\tlearn: 0.3180595\ttotal: 4.81s\tremaining: 943ms\n",
            "836:\tlearn: 0.3180596\ttotal: 4.82s\tremaining: 939ms\n",
            "837:\tlearn: 0.3180600\ttotal: 4.84s\tremaining: 935ms\n",
            "838:\tlearn: 0.3180601\ttotal: 4.85s\tremaining: 930ms\n",
            "839:\tlearn: 0.3180595\ttotal: 4.86s\tremaining: 926ms\n",
            "840:\tlearn: 0.3180587\ttotal: 4.87s\tremaining: 920ms\n",
            "841:\tlearn: 0.3180598\ttotal: 4.88s\tremaining: 916ms\n",
            "842:\tlearn: 0.3180597\ttotal: 4.89s\tremaining: 911ms\n",
            "843:\tlearn: 0.3180595\ttotal: 4.9s\tremaining: 906ms\n",
            "844:\tlearn: 0.3180596\ttotal: 4.92s\tremaining: 902ms\n",
            "845:\tlearn: 0.3180597\ttotal: 4.92s\tremaining: 896ms\n",
            "846:\tlearn: 0.3180590\ttotal: 4.93s\tremaining: 890ms\n",
            "847:\tlearn: 0.3180596\ttotal: 4.93s\tremaining: 884ms\n",
            "848:\tlearn: 0.3180589\ttotal: 4.95s\tremaining: 881ms\n",
            "849:\tlearn: 0.3180588\ttotal: 4.97s\tremaining: 877ms\n",
            "850:\tlearn: 0.3180588\ttotal: 4.98s\tremaining: 872ms\n",
            "851:\tlearn: 0.3180587\ttotal: 4.99s\tremaining: 867ms\n",
            "852:\tlearn: 0.3180588\ttotal: 5s\tremaining: 861ms\n",
            "853:\tlearn: 0.3180589\ttotal: 5s\tremaining: 855ms\n",
            "854:\tlearn: 0.3180589\ttotal: 5.01s\tremaining: 850ms\n",
            "855:\tlearn: 0.3180589\ttotal: 5.02s\tremaining: 845ms\n",
            "856:\tlearn: 0.3180589\ttotal: 5.03s\tremaining: 840ms\n",
            "857:\tlearn: 0.3180586\ttotal: 5.04s\tremaining: 834ms\n",
            "858:\tlearn: 0.3180588\ttotal: 5.05s\tremaining: 829ms\n",
            "859:\tlearn: 0.3180591\ttotal: 5.06s\tremaining: 824ms\n",
            "860:\tlearn: 0.3180589\ttotal: 5.07s\tremaining: 819ms\n",
            "861:\tlearn: 0.3180589\ttotal: 5.09s\tremaining: 815ms\n",
            "862:\tlearn: 0.3180589\ttotal: 5.1s\tremaining: 810ms\n",
            "863:\tlearn: 0.3180589\ttotal: 5.11s\tremaining: 804ms\n",
            "864:\tlearn: 0.3180589\ttotal: 5.12s\tremaining: 799ms\n",
            "865:\tlearn: 0.3180590\ttotal: 5.13s\tremaining: 794ms\n",
            "866:\tlearn: 0.3180591\ttotal: 5.14s\tremaining: 789ms\n",
            "867:\tlearn: 0.3180589\ttotal: 5.15s\tremaining: 784ms\n",
            "868:\tlearn: 0.3180587\ttotal: 5.16s\tremaining: 778ms\n",
            "869:\tlearn: 0.3180586\ttotal: 5.18s\tremaining: 774ms\n",
            "870:\tlearn: 0.3180587\ttotal: 5.2s\tremaining: 770ms\n",
            "871:\tlearn: 0.3180589\ttotal: 5.2s\tremaining: 764ms\n",
            "872:\tlearn: 0.3180590\ttotal: 5.22s\tremaining: 759ms\n",
            "873:\tlearn: 0.3180593\ttotal: 5.23s\tremaining: 754ms\n",
            "874:\tlearn: 0.3180585\ttotal: 5.25s\tremaining: 750ms\n",
            "875:\tlearn: 0.3180584\ttotal: 5.26s\tremaining: 744ms\n",
            "876:\tlearn: 0.3180594\ttotal: 5.27s\tremaining: 739ms\n",
            "877:\tlearn: 0.3180585\ttotal: 5.28s\tremaining: 734ms\n",
            "878:\tlearn: 0.3180583\ttotal: 5.29s\tremaining: 729ms\n",
            "879:\tlearn: 0.3180583\ttotal: 5.32s\tremaining: 726ms\n",
            "880:\tlearn: 0.3180585\ttotal: 5.33s\tremaining: 721ms\n",
            "881:\tlearn: 0.3180583\ttotal: 5.35s\tremaining: 715ms\n",
            "882:\tlearn: 0.3180585\ttotal: 5.36s\tremaining: 710ms\n",
            "883:\tlearn: 0.3180584\ttotal: 5.38s\tremaining: 706ms\n",
            "884:\tlearn: 0.3180585\ttotal: 5.39s\tremaining: 701ms\n",
            "885:\tlearn: 0.3180584\ttotal: 5.41s\tremaining: 696ms\n",
            "886:\tlearn: 0.3180585\ttotal: 5.42s\tremaining: 690ms\n",
            "887:\tlearn: 0.3180586\ttotal: 5.42s\tremaining: 684ms\n",
            "888:\tlearn: 0.3180588\ttotal: 5.45s\tremaining: 680ms\n",
            "889:\tlearn: 0.3180587\ttotal: 5.46s\tremaining: 675ms\n",
            "890:\tlearn: 0.3180588\ttotal: 5.47s\tremaining: 669ms\n",
            "891:\tlearn: 0.3180587\ttotal: 5.47s\tremaining: 663ms\n",
            "892:\tlearn: 0.3180587\ttotal: 5.48s\tremaining: 657ms\n",
            "893:\tlearn: 0.3180586\ttotal: 5.49s\tremaining: 650ms\n",
            "894:\tlearn: 0.3180584\ttotal: 5.51s\tremaining: 647ms\n",
            "895:\tlearn: 0.3180587\ttotal: 5.53s\tremaining: 642ms\n",
            "896:\tlearn: 0.3180586\ttotal: 5.56s\tremaining: 638ms\n",
            "897:\tlearn: 0.3180582\ttotal: 5.56s\tremaining: 632ms\n",
            "898:\tlearn: 0.3180583\ttotal: 5.57s\tremaining: 625ms\n",
            "899:\tlearn: 0.3180577\ttotal: 5.57s\tremaining: 619ms\n",
            "900:\tlearn: 0.3180580\ttotal: 5.57s\tremaining: 613ms\n",
            "901:\tlearn: 0.3180580\ttotal: 5.59s\tremaining: 607ms\n",
            "902:\tlearn: 0.3180580\ttotal: 5.59s\tremaining: 601ms\n",
            "903:\tlearn: 0.3180580\ttotal: 5.6s\tremaining: 594ms\n",
            "904:\tlearn: 0.3180581\ttotal: 5.61s\tremaining: 589ms\n",
            "905:\tlearn: 0.3180580\ttotal: 5.63s\tremaining: 584ms\n",
            "906:\tlearn: 0.3180579\ttotal: 5.64s\tremaining: 579ms\n",
            "907:\tlearn: 0.3180577\ttotal: 5.66s\tremaining: 574ms\n",
            "908:\tlearn: 0.3180576\ttotal: 5.68s\tremaining: 568ms\n",
            "909:\tlearn: 0.3180578\ttotal: 5.69s\tremaining: 562ms\n",
            "910:\tlearn: 0.3180579\ttotal: 5.7s\tremaining: 557ms\n",
            "911:\tlearn: 0.3180580\ttotal: 5.71s\tremaining: 551ms\n",
            "912:\tlearn: 0.3180580\ttotal: 5.71s\tremaining: 544ms\n",
            "913:\tlearn: 0.3180580\ttotal: 5.72s\tremaining: 538ms\n",
            "914:\tlearn: 0.3180580\ttotal: 5.72s\tremaining: 532ms\n",
            "915:\tlearn: 0.3180581\ttotal: 5.74s\tremaining: 526ms\n",
            "916:\tlearn: 0.3180581\ttotal: 5.76s\tremaining: 522ms\n",
            "917:\tlearn: 0.3180587\ttotal: 5.77s\tremaining: 515ms\n",
            "918:\tlearn: 0.3180587\ttotal: 5.79s\tremaining: 510ms\n",
            "919:\tlearn: 0.3180590\ttotal: 5.8s\tremaining: 505ms\n",
            "920:\tlearn: 0.3180589\ttotal: 5.81s\tremaining: 499ms\n",
            "921:\tlearn: 0.3180589\ttotal: 5.82s\tremaining: 493ms\n",
            "922:\tlearn: 0.3180587\ttotal: 5.84s\tremaining: 487ms\n",
            "923:\tlearn: 0.3180588\ttotal: 5.85s\tremaining: 481ms\n",
            "924:\tlearn: 0.3180587\ttotal: 5.85s\tremaining: 475ms\n",
            "925:\tlearn: 0.3180587\ttotal: 5.86s\tremaining: 468ms\n",
            "926:\tlearn: 0.3180585\ttotal: 5.86s\tremaining: 462ms\n",
            "927:\tlearn: 0.3180580\ttotal: 5.87s\tremaining: 455ms\n",
            "928:\tlearn: 0.3180580\ttotal: 5.87s\tremaining: 449ms\n",
            "929:\tlearn: 0.3180572\ttotal: 5.88s\tremaining: 442ms\n",
            "930:\tlearn: 0.3180572\ttotal: 5.88s\tremaining: 436ms\n",
            "931:\tlearn: 0.3180578\ttotal: 5.89s\tremaining: 430ms\n",
            "932:\tlearn: 0.3180577\ttotal: 5.9s\tremaining: 424ms\n",
            "933:\tlearn: 0.3180578\ttotal: 5.91s\tremaining: 417ms\n",
            "934:\tlearn: 0.3180579\ttotal: 5.92s\tremaining: 412ms\n",
            "935:\tlearn: 0.3180574\ttotal: 5.93s\tremaining: 406ms\n",
            "936:\tlearn: 0.3180574\ttotal: 5.94s\tremaining: 400ms\n",
            "937:\tlearn: 0.3180575\ttotal: 5.95s\tremaining: 394ms\n",
            "938:\tlearn: 0.3180575\ttotal: 5.97s\tremaining: 388ms\n",
            "939:\tlearn: 0.3180576\ttotal: 5.98s\tremaining: 381ms\n",
            "940:\tlearn: 0.3180577\ttotal: 6s\tremaining: 376ms\n",
            "941:\tlearn: 0.3180577\ttotal: 6.01s\tremaining: 370ms\n",
            "942:\tlearn: 0.3180577\ttotal: 6.03s\tremaining: 364ms\n",
            "943:\tlearn: 0.3180578\ttotal: 6.03s\tremaining: 358ms\n",
            "944:\tlearn: 0.3180575\ttotal: 6.05s\tremaining: 352ms\n",
            "945:\tlearn: 0.3180573\ttotal: 6.06s\tremaining: 346ms\n",
            "946:\tlearn: 0.3180574\ttotal: 6.07s\tremaining: 339ms\n",
            "947:\tlearn: 0.3180575\ttotal: 6.07s\tremaining: 333ms\n",
            "948:\tlearn: 0.3180577\ttotal: 6.11s\tremaining: 328ms\n",
            "949:\tlearn: 0.3180572\ttotal: 6.13s\tremaining: 323ms\n",
            "950:\tlearn: 0.3180576\ttotal: 6.14s\tremaining: 317ms\n",
            "951:\tlearn: 0.3180576\ttotal: 6.16s\tremaining: 311ms\n",
            "952:\tlearn: 0.3180575\ttotal: 6.19s\tremaining: 305ms\n",
            "953:\tlearn: 0.3180577\ttotal: 6.2s\tremaining: 299ms\n",
            "954:\tlearn: 0.3180579\ttotal: 6.21s\tremaining: 293ms\n",
            "955:\tlearn: 0.3180572\ttotal: 6.22s\tremaining: 286ms\n",
            "956:\tlearn: 0.3180573\ttotal: 6.23s\tremaining: 280ms\n",
            "957:\tlearn: 0.3180574\ttotal: 6.25s\tremaining: 274ms\n",
            "958:\tlearn: 0.3180574\ttotal: 6.26s\tremaining: 268ms\n",
            "959:\tlearn: 0.3180573\ttotal: 6.27s\tremaining: 261ms\n",
            "960:\tlearn: 0.3180572\ttotal: 6.28s\tremaining: 255ms\n",
            "961:\tlearn: 0.3180573\ttotal: 6.3s\tremaining: 249ms\n",
            "962:\tlearn: 0.3180573\ttotal: 6.31s\tremaining: 243ms\n",
            "963:\tlearn: 0.3180576\ttotal: 6.32s\tremaining: 236ms\n",
            "964:\tlearn: 0.3180576\ttotal: 6.35s\tremaining: 230ms\n",
            "965:\tlearn: 0.3180575\ttotal: 6.36s\tremaining: 224ms\n",
            "966:\tlearn: 0.3180575\ttotal: 6.37s\tremaining: 217ms\n",
            "967:\tlearn: 0.3180576\ttotal: 6.38s\tremaining: 211ms\n",
            "968:\tlearn: 0.3180580\ttotal: 6.41s\tremaining: 205ms\n",
            "969:\tlearn: 0.3180581\ttotal: 6.42s\tremaining: 199ms\n",
            "970:\tlearn: 0.3180579\ttotal: 6.43s\tremaining: 192ms\n",
            "971:\tlearn: 0.3180577\ttotal: 6.44s\tremaining: 186ms\n",
            "972:\tlearn: 0.3180577\ttotal: 6.46s\tremaining: 179ms\n",
            "973:\tlearn: 0.3180574\ttotal: 6.49s\tremaining: 173ms\n",
            "974:\tlearn: 0.3180579\ttotal: 6.5s\tremaining: 167ms\n",
            "975:\tlearn: 0.3180577\ttotal: 6.51s\tremaining: 160ms\n",
            "976:\tlearn: 0.3180578\ttotal: 6.52s\tremaining: 154ms\n",
            "977:\tlearn: 0.3180578\ttotal: 6.54s\tremaining: 147ms\n",
            "978:\tlearn: 0.3180578\ttotal: 6.55s\tremaining: 141ms\n",
            "979:\tlearn: 0.3180578\ttotal: 6.56s\tremaining: 134ms\n",
            "980:\tlearn: 0.3180581\ttotal: 6.56s\tremaining: 127ms\n",
            "981:\tlearn: 0.3180578\ttotal: 6.57s\tremaining: 120ms\n",
            "982:\tlearn: 0.3180579\ttotal: 6.58s\tremaining: 114ms\n",
            "983:\tlearn: 0.3180576\ttotal: 6.59s\tremaining: 107ms\n",
            "984:\tlearn: 0.3180577\ttotal: 6.6s\tremaining: 100ms\n",
            "985:\tlearn: 0.3180580\ttotal: 6.63s\tremaining: 94.1ms\n",
            "986:\tlearn: 0.3180580\ttotal: 6.63s\tremaining: 87.4ms\n",
            "987:\tlearn: 0.3180578\ttotal: 6.64s\tremaining: 80.7ms\n",
            "988:\tlearn: 0.3180576\ttotal: 6.65s\tremaining: 73.9ms\n",
            "989:\tlearn: 0.3180578\ttotal: 6.65s\tremaining: 67.2ms\n",
            "990:\tlearn: 0.3180581\ttotal: 6.68s\tremaining: 60.7ms\n",
            "991:\tlearn: 0.3180582\ttotal: 6.69s\tremaining: 54ms\n",
            "992:\tlearn: 0.3180580\ttotal: 6.71s\tremaining: 47.3ms\n",
            "993:\tlearn: 0.3180581\ttotal: 6.72s\tremaining: 40.5ms\n",
            "994:\tlearn: 0.3180580\ttotal: 6.73s\tremaining: 33.8ms\n",
            "995:\tlearn: 0.3180576\ttotal: 6.74s\tremaining: 27.1ms\n",
            "996:\tlearn: 0.3180578\ttotal: 6.75s\tremaining: 20.3ms\n",
            "997:\tlearn: 0.3180578\ttotal: 6.78s\tremaining: 13.6ms\n",
            "998:\tlearn: 0.3180517\ttotal: 6.8s\tremaining: 6.8ms\n",
            "999:\tlearn: 0.3180519\ttotal: 6.81s\tremaining: 0us\n",
            "Các chỉ số đánh giá mức độ hiệu quả của mô hình: \n",
            "1. Accuracy: 0.8523333333333334\n",
            "2. confusion_matrix:\n",
            "[[1436  342]\n",
            " [ 101 1121]]\n",
            "3. recall_score:  0.9173486088379705\n",
            "4. precision_score:  0.7662337662337663\n",
            "5. f1_score:  0.8350093109869646\n",
            "6. Biểu đồ ROC của mô hình:\n"
          ]
        },
        {
          "output_type": "stream",
          "name": "stderr",
          "text": [
            "/usr/local/lib/python3.7/dist-packages/sklearn/utils/deprecation.py:87: FutureWarning: Function plot_roc_curve is deprecated; Function :func:`plot_roc_curve` is deprecated in 1.0 and will be removed in 1.2. Use one of the class methods: :meth:`sklearn.metric.RocCurveDisplay.from_predictions` or :meth:`sklearn.metric.RocCurveDisplay.from_estimator`.\n",
            "  warnings.warn(msg, category=FutureWarning)\n"
          ]
        },
        {
          "output_type": "display_data",
          "data": {
            "text/plain": [
              "<Figure size 1152x648 with 1 Axes>"
            ],
            "image/png": "[encoded data removed]"
          },
          "metadata": {
            "needs_background": "light"
          }
        }
      ]
    },
    {
      "cell_type": "markdown",
      "source": [
        "# **Deep Learning**"
      ],
      "metadata": {
        "id": "7wmUTFEtj_kP"
      }
    },
    {
      "cell_type": "markdown",
      "source": [
        "# **ANN**"
      ],
      "metadata": {
        "id": "_zs0Ma9tkL1P"
      }
    },
    {
      "cell_type": "code",
      "source": [
        "# Import the necessary libraries for ANN model\n",
        "from tensorflow.keras.models import Sequential\n",
        "from tensorflow.keras.layers import Dense"
      ],
      "metadata": {
        "id": "HrMDAMKbkLTi"
      },
      "execution_count": 63,
      "outputs": []
    },
    {
      "cell_type": "code",
      "source": [
        "# Create a Sequential Neural Network model \n",
        "model = Sequential()\n",
        "# Create an Input and a Hidden Layer\n",
        "model.add(Dense(units=50,activation=\"relu\",kernel_initializer=\"he_uniform\"))\n",
        "# Create an Output Layer\n",
        "model.add(Dense(units=1,activation=\"sigmoid\"))\n",
        "# Now, my model is ready to compile\n",
        "model.compile(optimizer=\"adam\",loss=\"binary_crossentropy\",metrics=[\"accuracy\"])"
      ],
      "metadata": {
        "id": "-CfSHt-4jv_d"
      },
      "execution_count": 64,
      "outputs": []
    },
    {
      "cell_type": "code",
      "source": [
        "model.fit(X_train,y_train,batch_size=64,epochs=100)"
      ],
      "metadata": {
        "colab": {
          "base_uri": "https://localhost:8080/"
        },
        "id": "h_6Fx_4jkmfl",
        "outputId": "0354cc85-0530-49c6-d69e-a527a65da0dc"
      },
      "execution_count": 66,
      "outputs": [
        {
          "output_type": "stream",
          "name": "stdout",
          "text": [
            "Epoch 1/100\n",
            "110/110 [==============================] - 2s 3ms/step - loss: 0.6482 - accuracy: 0.6627\n",
            "Epoch 2/100\n",
            "110/110 [==============================] - 0s 3ms/step - loss: 0.5365 - accuracy: 0.7741\n",
            "Epoch 3/100\n",
            "110/110 [==============================] - 0s 3ms/step - loss: 0.4642 - accuracy: 0.7901\n",
            "Epoch 4/100\n",
            "110/110 [==============================] - 0s 3ms/step - loss: 0.4336 - accuracy: 0.7931\n",
            "Epoch 5/100\n",
            "110/110 [==============================] - 0s 3ms/step - loss: 0.4201 - accuracy: 0.7967\n",
            "Epoch 6/100\n",
            "110/110 [==============================] - 0s 3ms/step - loss: 0.4136 - accuracy: 0.7987\n",
            "Epoch 7/100\n",
            "110/110 [==============================] - 0s 3ms/step - loss: 0.4084 - accuracy: 0.7990\n",
            "Epoch 8/100\n",
            "110/110 [==============================] - 0s 2ms/step - loss: 0.4056 - accuracy: 0.7976\n",
            "Epoch 9/100\n",
            "110/110 [==============================] - 0s 2ms/step - loss: 0.4030 - accuracy: 0.7981\n",
            "Epoch 10/100\n",
            "110/110 [==============================] - 0s 2ms/step - loss: 0.4013 - accuracy: 0.7961\n",
            "Epoch 11/100\n",
            "110/110 [==============================] - 0s 2ms/step - loss: 0.3993 - accuracy: 0.7989\n",
            "Epoch 12/100\n",
            "110/110 [==============================] - 0s 2ms/step - loss: 0.3964 - accuracy: 0.7996\n",
            "Epoch 13/100\n",
            "110/110 [==============================] - 0s 2ms/step - loss: 0.3963 - accuracy: 0.8013\n",
            "Epoch 14/100\n",
            "110/110 [==============================] - 0s 2ms/step - loss: 0.3959 - accuracy: 0.8050\n",
            "Epoch 15/100\n",
            "110/110 [==============================] - 0s 2ms/step - loss: 0.3943 - accuracy: 0.8016\n",
            "Epoch 16/100\n",
            "110/110 [==============================] - 0s 2ms/step - loss: 0.3932 - accuracy: 0.8013\n",
            "Epoch 17/100\n",
            "110/110 [==============================] - 0s 2ms/step - loss: 0.3923 - accuracy: 0.8046\n",
            "Epoch 18/100\n",
            "110/110 [==============================] - 0s 2ms/step - loss: 0.3905 - accuracy: 0.8069\n",
            "Epoch 19/100\n",
            "110/110 [==============================] - 0s 2ms/step - loss: 0.3893 - accuracy: 0.8064\n",
            "Epoch 20/100\n",
            "110/110 [==============================] - 0s 2ms/step - loss: 0.3891 - accuracy: 0.8026\n",
            "Epoch 21/100\n",
            "110/110 [==============================] - 0s 2ms/step - loss: 0.3877 - accuracy: 0.8050\n",
            "Epoch 22/100\n",
            "110/110 [==============================] - 0s 2ms/step - loss: 0.3873 - accuracy: 0.8040\n",
            "Epoch 23/100\n",
            "110/110 [==============================] - 0s 2ms/step - loss: 0.3857 - accuracy: 0.8060\n",
            "Epoch 24/100\n",
            "110/110 [==============================] - 0s 2ms/step - loss: 0.3856 - accuracy: 0.8076\n",
            "Epoch 25/100\n",
            "110/110 [==============================] - 0s 2ms/step - loss: 0.3842 - accuracy: 0.8073\n",
            "Epoch 26/100\n",
            "110/110 [==============================] - 0s 2ms/step - loss: 0.3843 - accuracy: 0.8059\n",
            "Epoch 27/100\n",
            "110/110 [==============================] - 0s 2ms/step - loss: 0.3829 - accuracy: 0.8077\n",
            "Epoch 28/100\n",
            "110/110 [==============================] - 0s 2ms/step - loss: 0.3821 - accuracy: 0.8090\n",
            "Epoch 29/100\n",
            "110/110 [==============================] - 0s 2ms/step - loss: 0.3812 - accuracy: 0.8126\n",
            "Epoch 30/100\n",
            "110/110 [==============================] - 0s 2ms/step - loss: 0.3818 - accuracy: 0.8109\n",
            "Epoch 31/100\n",
            "110/110 [==============================] - 0s 2ms/step - loss: 0.3799 - accuracy: 0.8121\n",
            "Epoch 32/100\n",
            "110/110 [==============================] - 0s 2ms/step - loss: 0.3798 - accuracy: 0.8130\n",
            "Epoch 33/100\n",
            "110/110 [==============================] - 0s 2ms/step - loss: 0.3795 - accuracy: 0.8117\n",
            "Epoch 34/100\n",
            "110/110 [==============================] - 0s 2ms/step - loss: 0.3797 - accuracy: 0.8124\n",
            "Epoch 35/100\n",
            "110/110 [==============================] - 0s 2ms/step - loss: 0.3777 - accuracy: 0.8116\n",
            "Epoch 36/100\n",
            "110/110 [==============================] - 0s 2ms/step - loss: 0.3768 - accuracy: 0.8140\n",
            "Epoch 37/100\n",
            "110/110 [==============================] - 0s 2ms/step - loss: 0.3760 - accuracy: 0.8143\n",
            "Epoch 38/100\n",
            "110/110 [==============================] - 0s 2ms/step - loss: 0.3753 - accuracy: 0.8193\n",
            "Epoch 39/100\n",
            "110/110 [==============================] - 0s 2ms/step - loss: 0.3752 - accuracy: 0.8181\n",
            "Epoch 40/100\n",
            "110/110 [==============================] - 0s 2ms/step - loss: 0.3747 - accuracy: 0.8139\n",
            "Epoch 41/100\n",
            "110/110 [==============================] - 0s 2ms/step - loss: 0.3745 - accuracy: 0.8197\n",
            "Epoch 42/100\n",
            "110/110 [==============================] - 0s 2ms/step - loss: 0.3743 - accuracy: 0.8181\n",
            "Epoch 43/100\n",
            "110/110 [==============================] - 0s 2ms/step - loss: 0.3732 - accuracy: 0.8220\n",
            "Epoch 44/100\n",
            "110/110 [==============================] - 0s 2ms/step - loss: 0.3737 - accuracy: 0.8161\n",
            "Epoch 45/100\n",
            "110/110 [==============================] - 0s 2ms/step - loss: 0.3719 - accuracy: 0.8209\n",
            "Epoch 46/100\n",
            "110/110 [==============================] - 0s 2ms/step - loss: 0.3714 - accuracy: 0.8193\n",
            "Epoch 47/100\n",
            "110/110 [==============================] - 0s 2ms/step - loss: 0.3715 - accuracy: 0.8234\n",
            "Epoch 48/100\n",
            "110/110 [==============================] - 0s 2ms/step - loss: 0.3706 - accuracy: 0.8217\n",
            "Epoch 49/100\n",
            "110/110 [==============================] - 0s 2ms/step - loss: 0.3704 - accuracy: 0.8243\n",
            "Epoch 50/100\n",
            "110/110 [==============================] - 0s 2ms/step - loss: 0.3695 - accuracy: 0.8220\n",
            "Epoch 51/100\n",
            "110/110 [==============================] - 0s 2ms/step - loss: 0.3680 - accuracy: 0.8263\n",
            "Epoch 52/100\n",
            "110/110 [==============================] - 0s 2ms/step - loss: 0.3697 - accuracy: 0.8206\n",
            "Epoch 53/100\n",
            "110/110 [==============================] - 0s 2ms/step - loss: 0.3691 - accuracy: 0.8236\n",
            "Epoch 54/100\n",
            "110/110 [==============================] - 0s 2ms/step - loss: 0.3674 - accuracy: 0.8236\n",
            "Epoch 55/100\n",
            "110/110 [==============================] - 0s 2ms/step - loss: 0.3669 - accuracy: 0.8223\n",
            "Epoch 56/100\n",
            "110/110 [==============================] - 0s 2ms/step - loss: 0.3670 - accuracy: 0.8263\n",
            "Epoch 57/100\n",
            "110/110 [==============================] - 0s 2ms/step - loss: 0.3677 - accuracy: 0.8246\n",
            "Epoch 58/100\n",
            "110/110 [==============================] - 0s 2ms/step - loss: 0.3658 - accuracy: 0.8251\n",
            "Epoch 59/100\n",
            "110/110 [==============================] - 0s 2ms/step - loss: 0.3657 - accuracy: 0.8263\n",
            "Epoch 60/100\n",
            "110/110 [==============================] - 0s 2ms/step - loss: 0.3656 - accuracy: 0.8266\n",
            "Epoch 61/100\n",
            "110/110 [==============================] - 0s 2ms/step - loss: 0.3647 - accuracy: 0.8273\n",
            "Epoch 62/100\n",
            "110/110 [==============================] - 0s 2ms/step - loss: 0.3653 - accuracy: 0.8264\n",
            "Epoch 63/100\n",
            "110/110 [==============================] - 0s 2ms/step - loss: 0.3650 - accuracy: 0.8274\n",
            "Epoch 64/100\n",
            "110/110 [==============================] - 0s 2ms/step - loss: 0.3638 - accuracy: 0.8290\n",
            "Epoch 65/100\n",
            "110/110 [==============================] - 0s 2ms/step - loss: 0.3641 - accuracy: 0.8269\n",
            "Epoch 66/100\n",
            "110/110 [==============================] - 0s 2ms/step - loss: 0.3632 - accuracy: 0.8314\n",
            "Epoch 67/100\n",
            "110/110 [==============================] - 0s 2ms/step - loss: 0.3633 - accuracy: 0.8293\n",
            "Epoch 68/100\n",
            "110/110 [==============================] - 0s 2ms/step - loss: 0.3622 - accuracy: 0.8251\n",
            "Epoch 69/100\n",
            "110/110 [==============================] - 0s 2ms/step - loss: 0.3618 - accuracy: 0.8300\n",
            "Epoch 70/100\n",
            "110/110 [==============================] - 0s 2ms/step - loss: 0.3611 - accuracy: 0.8341\n",
            "Epoch 71/100\n",
            "110/110 [==============================] - 0s 2ms/step - loss: 0.3614 - accuracy: 0.8329\n",
            "Epoch 72/100\n",
            "110/110 [==============================] - 0s 2ms/step - loss: 0.3617 - accuracy: 0.8310\n",
            "Epoch 73/100\n",
            "110/110 [==============================] - 0s 2ms/step - loss: 0.3615 - accuracy: 0.8307\n",
            "Epoch 74/100\n",
            "110/110 [==============================] - 0s 2ms/step - loss: 0.3614 - accuracy: 0.8310\n",
            "Epoch 75/100\n",
            "110/110 [==============================] - 0s 2ms/step - loss: 0.3598 - accuracy: 0.8364\n",
            "Epoch 76/100\n",
            "110/110 [==============================] - 0s 2ms/step - loss: 0.3605 - accuracy: 0.8327\n",
            "Epoch 77/100\n",
            "110/110 [==============================] - 0s 2ms/step - loss: 0.3597 - accuracy: 0.8360\n",
            "Epoch 78/100\n",
            "110/110 [==============================] - 0s 2ms/step - loss: 0.3595 - accuracy: 0.8347\n",
            "Epoch 79/100\n",
            "110/110 [==============================] - 0s 2ms/step - loss: 0.3587 - accuracy: 0.8359\n",
            "Epoch 80/100\n",
            "110/110 [==============================] - 0s 2ms/step - loss: 0.3582 - accuracy: 0.8363\n",
            "Epoch 81/100\n",
            "110/110 [==============================] - 0s 2ms/step - loss: 0.3578 - accuracy: 0.8367\n",
            "Epoch 82/100\n",
            "110/110 [==============================] - 0s 2ms/step - loss: 0.3579 - accuracy: 0.8369\n",
            "Epoch 83/100\n",
            "110/110 [==============================] - 0s 2ms/step - loss: 0.3580 - accuracy: 0.8343\n",
            "Epoch 84/100\n",
            "110/110 [==============================] - 0s 2ms/step - loss: 0.3572 - accuracy: 0.8331\n",
            "Epoch 85/100\n",
            "110/110 [==============================] - 0s 2ms/step - loss: 0.3570 - accuracy: 0.8369\n",
            "Epoch 86/100\n",
            "110/110 [==============================] - 0s 2ms/step - loss: 0.3567 - accuracy: 0.8346\n",
            "Epoch 87/100\n",
            "110/110 [==============================] - 0s 2ms/step - loss: 0.3563 - accuracy: 0.8374\n",
            "Epoch 88/100\n",
            "110/110 [==============================] - 0s 2ms/step - loss: 0.3574 - accuracy: 0.8347\n",
            "Epoch 89/100\n",
            "110/110 [==============================] - 0s 2ms/step - loss: 0.3563 - accuracy: 0.8364\n",
            "Epoch 90/100\n",
            "110/110 [==============================] - 0s 2ms/step - loss: 0.3554 - accuracy: 0.8364\n",
            "Epoch 91/100\n",
            "110/110 [==============================] - 0s 2ms/step - loss: 0.3560 - accuracy: 0.8367\n",
            "Epoch 92/100\n",
            "110/110 [==============================] - 0s 2ms/step - loss: 0.3552 - accuracy: 0.8386\n",
            "Epoch 93/100\n",
            "110/110 [==============================] - 0s 2ms/step - loss: 0.3569 - accuracy: 0.8320\n",
            "Epoch 94/100\n",
            "110/110 [==============================] - 0s 2ms/step - loss: 0.3549 - accuracy: 0.8397\n",
            "Epoch 95/100\n",
            "110/110 [==============================] - 0s 2ms/step - loss: 0.3542 - accuracy: 0.8391\n",
            "Epoch 96/100\n",
            "110/110 [==============================] - 0s 2ms/step - loss: 0.3544 - accuracy: 0.8383\n",
            "Epoch 97/100\n",
            "110/110 [==============================] - 0s 2ms/step - loss: 0.3553 - accuracy: 0.8371\n",
            "Epoch 98/100\n",
            "110/110 [==============================] - 0s 3ms/step - loss: 0.3534 - accuracy: 0.8393\n",
            "Epoch 99/100\n",
            "110/110 [==============================] - 0s 3ms/step - loss: 0.3539 - accuracy: 0.8400\n",
            "Epoch 100/100\n",
            "110/110 [==============================] - 0s 3ms/step - loss: 0.3534 - accuracy: 0.8329\n"
          ]
        },
        {
          "output_type": "execute_result",
          "data": {
            "text/plain": [
              "<keras.callbacks.History at 0x7fa433d66d10>"
            ]
          },
          "metadata": {},
          "execution_count": 66
        }
      ]
    },
    {
      "cell_type": "code",
      "source": [
        "model.summary()"
      ],
      "metadata": {
        "colab": {
          "base_uri": "https://localhost:8080/"
        },
        "id": "OUWRCvzxkbo3",
        "outputId": "3a7b0792-be3a-43ea-fe46-0e6a6df011fd"
      },
      "execution_count": 67,
      "outputs": [
        {
          "output_type": "stream",
          "name": "stdout",
          "text": [
            "Model: \"sequential\"\n",
            "_________________________________________________________________\n",
            " Layer (type)                Output Shape              Param #   \n",
            "=================================================================\n",
            " dense (Dense)               (None, 50)                800       \n",
            "                                                                 \n",
            " dense_1 (Dense)             (None, 1)                 51        \n",
            "                                                                 \n",
            "=================================================================\n",
            "Total params: 851\n",
            "Trainable params: 851\n",
            "Non-trainable params: 0\n",
            "_________________________________________________________________\n"
          ]
        }
      ]
    },
    {
      "cell_type": "code",
      "source": [
        "# Predict the X_test results\n",
        "y_pred = model.predict(X_test)"
      ],
      "metadata": {
        "id": "s22uutU9kf-g"
      },
      "execution_count": 68,
      "outputs": []
    },
    {
      "cell_type": "code",
      "source": [
        "y_pred_label = []\n",
        "for i in range(0, len(y_pred)):\n",
        "  if y_pred[i] >= 0.5:\n",
        "    y_pred_label.append(1)\n",
        "  else:\n",
        "    y_pred_label.append(0)"
      ],
      "metadata": {
        "id": "Jk1SfkSwktaY"
      },
      "execution_count": 74,
      "outputs": []
    },
    {
      "cell_type": "code",
      "source": [
        "print(\"Các chỉ số đánh giá mức độ hiệu quả của mô hình: \")\n",
        "#Accuracy\n",
        "print(\"1. Accuracy:\",metrics.accuracy_score(y_pred_label,y_test))\n",
        "# confusion_matrix\n",
        "print('2. confusion_matrix:')\n",
        "print(confusion_matrix(y_pred_label,y_test))\n",
        "# recall_score\n",
        "print('3. recall_score: ', recall_score(y_pred_label,y_test))\n",
        "# precision_score\n",
        "print('4. precision_score: ', precision_score(y_pred_label,y_test))\n",
        "# f1_score\n",
        "print('5. f1_score: ', f1_score(y_pred_label,y_test))"
      ],
      "metadata": {
        "colab": {
          "base_uri": "https://localhost:8080/"
        },
        "id": "l5dNlrdXkxyo",
        "outputId": "2c28d109-ba81-4189-f88e-dce10140b4a1"
      },
      "execution_count": 75,
      "outputs": [
        {
          "output_type": "stream",
          "name": "stdout",
          "text": [
            "Các chỉ số đánh giá mức độ hiệu quả của mô hình: \n",
            "1. Accuracy: 0.8436666666666667\n",
            "2. confusion_matrix:\n",
            "[[1466  398]\n",
            " [  71 1065]]\n",
            "3. recall_score:  0.9375\n",
            "4. precision_score:  0.7279562542720438\n",
            "5. f1_score:  0.819545979222778\n"
          ]
        }
      ]
    },
    {
      "cell_type": "markdown",
      "source": [
        "# **LSTM**"
      ],
      "metadata": {
        "id": "xUUJDz4TlZRL"
      }
    },
    {
      "cell_type": "code",
      "source": [
        "# Import the necessary libraries for ANN model\n",
        "from tensorflow.keras.models import Sequential\n",
        "from tensorflow.keras.layers import Dense\n",
        "from keras.callbacks import EarlyStopping\n",
        "from keras.models import Sequential\n",
        "from keras.layers import LSTM\n",
        "from keras.layers import Dense\n",
        "from keras.layers import TimeDistributed\n",
        "from keras.layers import RepeatVector\n",
        "from keras.layers import Dropout"
      ],
      "metadata": {
        "id": "P_UGRZaJlH9C"
      },
      "execution_count": 76,
      "outputs": []
    },
    {
      "cell_type": "code",
      "source": [
        "regressor = Sequential()\n",
        "regressor.add(LSTM(units = 50, return_sequences = True, input_shape = (X_train.shape[1], 1)))\n",
        "regressor.add(Dropout(0.2))\n",
        "\n",
        "regressor.add(LSTM(units = 50, return_sequences = True))\n",
        "regressor.add(Dropout(0.2))\n",
        "\n",
        "regressor.add(LSTM(units = 50, return_sequences = True))\n",
        "regressor.add(Dropout(0.2))\n",
        "\n",
        "regressor.add(LSTM(units = 50))\n",
        "regressor.add(Dropout(0.2))\n",
        "regressor.add(Dense(units = 1))\n",
        "regressor.compile(optimizer = 'adam', loss = 'mean_squared_error')"
      ],
      "metadata": {
        "id": "haJY4o2Hld-G"
      },
      "execution_count": 77,
      "outputs": []
    },
    {
      "cell_type": "code",
      "source": [
        "regressor.fit(X_train, y_train, epochs = 100, batch_size = 32)"
      ],
      "metadata": {
        "colab": {
          "base_uri": "https://localhost:8080/"
        },
        "id": "zMYSwI3blgng",
        "outputId": "b2928d20-d38a-41f3-b83a-cf187fcf1dc4"
      },
      "execution_count": 78,
      "outputs": [
        {
          "output_type": "stream",
          "name": "stdout",
          "text": [
            "Epoch 1/100\n",
            "219/219 [==============================] - 27s 50ms/step - loss: 0.2498\n",
            "Epoch 2/100\n",
            "219/219 [==============================] - 11s 49ms/step - loss: 0.1937\n",
            "Epoch 3/100\n",
            "219/219 [==============================] - 13s 59ms/step - loss: 0.1718\n",
            "Epoch 4/100\n",
            "219/219 [==============================] - 8s 36ms/step - loss: 0.1666\n",
            "Epoch 5/100\n",
            "219/219 [==============================] - 8s 35ms/step - loss: 0.1634\n",
            "Epoch 6/100\n",
            "219/219 [==============================] - 8s 35ms/step - loss: 0.1624\n",
            "Epoch 7/100\n",
            "219/219 [==============================] - 8s 34ms/step - loss: 0.1593\n",
            "Epoch 8/100\n",
            "219/219 [==============================] - 8s 35ms/step - loss: 0.1579\n",
            "Epoch 9/100\n",
            "219/219 [==============================] - 8s 35ms/step - loss: 0.1553\n",
            "Epoch 10/100\n",
            "219/219 [==============================] - 8s 34ms/step - loss: 0.1537\n",
            "Epoch 11/100\n",
            "219/219 [==============================] - 9s 42ms/step - loss: 0.1534\n",
            "Epoch 12/100\n",
            "219/219 [==============================] - 8s 35ms/step - loss: 0.1516\n",
            "Epoch 13/100\n",
            "219/219 [==============================] - 8s 35ms/step - loss: 0.1500\n",
            "Epoch 14/100\n",
            "219/219 [==============================] - 9s 41ms/step - loss: 0.1491\n",
            "Epoch 15/100\n",
            "219/219 [==============================] - 8s 35ms/step - loss: 0.1492\n",
            "Epoch 16/100\n",
            "219/219 [==============================] - 8s 35ms/step - loss: 0.1477\n",
            "Epoch 17/100\n",
            "219/219 [==============================] - 8s 35ms/step - loss: 0.1472\n",
            "Epoch 18/100\n",
            "219/219 [==============================] - 8s 35ms/step - loss: 0.1455\n",
            "Epoch 19/100\n",
            "219/219 [==============================] - 8s 35ms/step - loss: 0.1445\n",
            "Epoch 20/100\n",
            "219/219 [==============================] - 8s 34ms/step - loss: 0.1440\n",
            "Epoch 21/100\n",
            "219/219 [==============================] - 8s 34ms/step - loss: 0.1427\n",
            "Epoch 22/100\n",
            "219/219 [==============================] - 7s 34ms/step - loss: 0.1408\n",
            "Epoch 23/100\n",
            "219/219 [==============================] - 8s 35ms/step - loss: 0.1399\n",
            "Epoch 24/100\n",
            "219/219 [==============================] - 8s 35ms/step - loss: 0.1399\n",
            "Epoch 25/100\n",
            "219/219 [==============================] - 9s 39ms/step - loss: 0.1388\n",
            "Epoch 26/100\n",
            "219/219 [==============================] - 8s 35ms/step - loss: 0.1384\n",
            "Epoch 27/100\n",
            "219/219 [==============================] - 8s 36ms/step - loss: 0.1371\n",
            "Epoch 28/100\n",
            "219/219 [==============================] - 8s 35ms/step - loss: 0.1365\n",
            "Epoch 29/100\n",
            "219/219 [==============================] - 8s 35ms/step - loss: 0.1344\n",
            "Epoch 30/100\n",
            "219/219 [==============================] - 8s 36ms/step - loss: 0.1342\n",
            "Epoch 31/100\n",
            "219/219 [==============================] - 8s 35ms/step - loss: 0.1313\n",
            "Epoch 32/100\n",
            "219/219 [==============================] - 8s 35ms/step - loss: 0.1284\n",
            "Epoch 33/100\n",
            "219/219 [==============================] - 8s 35ms/step - loss: 0.1270\n",
            "Epoch 34/100\n",
            "219/219 [==============================] - 8s 36ms/step - loss: 0.1276\n",
            "Epoch 35/100\n",
            "219/219 [==============================] - 8s 35ms/step - loss: 0.1259\n",
            "Epoch 36/100\n",
            "219/219 [==============================] - 8s 35ms/step - loss: 0.1257\n",
            "Epoch 37/100\n",
            "219/219 [==============================] - 8s 35ms/step - loss: 0.1259\n",
            "Epoch 38/100\n",
            "219/219 [==============================] - 8s 36ms/step - loss: 0.1244\n",
            "Epoch 39/100\n",
            "219/219 [==============================] - 8s 35ms/step - loss: 0.1257\n",
            "Epoch 40/100\n",
            "219/219 [==============================] - 8s 35ms/step - loss: 0.1254\n",
            "Epoch 41/100\n",
            "219/219 [==============================] - 8s 35ms/step - loss: 0.1224\n",
            "Epoch 42/100\n",
            "219/219 [==============================] - 8s 36ms/step - loss: 0.1223\n",
            "Epoch 43/100\n",
            "219/219 [==============================] - 8s 35ms/step - loss: 0.1225\n",
            "Epoch 44/100\n",
            "219/219 [==============================] - 8s 35ms/step - loss: 0.1220\n",
            "Epoch 45/100\n",
            "219/219 [==============================] - 8s 35ms/step - loss: 0.1222\n",
            "Epoch 46/100\n",
            "219/219 [==============================] - 8s 36ms/step - loss: 0.1218\n",
            "Epoch 47/100\n",
            "219/219 [==============================] - 8s 35ms/step - loss: 0.1210\n",
            "Epoch 48/100\n",
            "219/219 [==============================] - 8s 35ms/step - loss: 0.1219\n",
            "Epoch 49/100\n",
            "219/219 [==============================] - 8s 35ms/step - loss: 0.1194\n",
            "Epoch 50/100\n",
            "219/219 [==============================] - 8s 36ms/step - loss: 0.1199\n",
            "Epoch 51/100\n",
            "219/219 [==============================] - 8s 35ms/step - loss: 0.1188\n",
            "Epoch 52/100\n",
            "219/219 [==============================] - 8s 35ms/step - loss: 0.1184\n",
            "Epoch 53/100\n",
            "219/219 [==============================] - 8s 35ms/step - loss: 0.1186\n",
            "Epoch 54/100\n",
            "219/219 [==============================] - 8s 35ms/step - loss: 0.1196\n",
            "Epoch 55/100\n",
            "219/219 [==============================] - 8s 35ms/step - loss: 0.1189\n",
            "Epoch 56/100\n",
            "219/219 [==============================] - 8s 35ms/step - loss: 0.1201\n",
            "Epoch 57/100\n",
            "219/219 [==============================] - 8s 35ms/step - loss: 0.1186\n",
            "Epoch 58/100\n",
            "219/219 [==============================] - 8s 35ms/step - loss: 0.1190\n",
            "Epoch 59/100\n",
            "219/219 [==============================] - 8s 35ms/step - loss: 0.1168\n",
            "Epoch 60/100\n",
            "219/219 [==============================] - 8s 35ms/step - loss: 0.1159\n",
            "Epoch 61/100\n",
            "219/219 [==============================] - 8s 34ms/step - loss: 0.1178\n",
            "Epoch 62/100\n",
            "219/219 [==============================] - 8s 35ms/step - loss: 0.1175\n",
            "Epoch 63/100\n",
            "219/219 [==============================] - 8s 35ms/step - loss: 0.1198\n",
            "Epoch 64/100\n",
            "219/219 [==============================] - 8s 35ms/step - loss: 0.1179\n",
            "Epoch 65/100\n",
            "219/219 [==============================] - 8s 36ms/step - loss: 0.1164\n",
            "Epoch 66/100\n",
            "219/219 [==============================] - 8s 36ms/step - loss: 0.1186\n",
            "Epoch 67/100\n",
            "219/219 [==============================] - 8s 35ms/step - loss: 0.1163\n",
            "Epoch 68/100\n",
            "219/219 [==============================] - 8s 35ms/step - loss: 0.1169\n",
            "Epoch 69/100\n",
            "219/219 [==============================] - 8s 35ms/step - loss: 0.1155\n",
            "Epoch 70/100\n",
            "219/219 [==============================] - 8s 35ms/step - loss: 0.1153\n",
            "Epoch 71/100\n",
            "219/219 [==============================] - 8s 35ms/step - loss: 0.1185\n",
            "Epoch 72/100\n",
            "219/219 [==============================] - 8s 36ms/step - loss: 0.1169\n",
            "Epoch 73/100\n",
            "219/219 [==============================] - 8s 36ms/step - loss: 0.1151\n",
            "Epoch 74/100\n",
            "219/219 [==============================] - 8s 35ms/step - loss: 0.1182\n",
            "Epoch 75/100\n",
            "219/219 [==============================] - 8s 35ms/step - loss: 0.1155\n",
            "Epoch 76/100\n",
            "219/219 [==============================] - 8s 35ms/step - loss: 0.1157\n",
            "Epoch 77/100\n",
            "219/219 [==============================] - 8s 35ms/step - loss: 0.1149\n",
            "Epoch 78/100\n",
            "219/219 [==============================] - 8s 36ms/step - loss: 0.1147\n",
            "Epoch 79/100\n",
            "219/219 [==============================] - 8s 35ms/step - loss: 0.1140\n",
            "Epoch 80/100\n",
            "219/219 [==============================] - 8s 36ms/step - loss: 0.1142\n",
            "Epoch 81/100\n",
            "219/219 [==============================] - 8s 37ms/step - loss: 0.1162\n",
            "Epoch 82/100\n",
            "219/219 [==============================] - 8s 36ms/step - loss: 0.1157\n",
            "Epoch 83/100\n",
            "219/219 [==============================] - 8s 36ms/step - loss: 0.1160\n",
            "Epoch 84/100\n",
            "219/219 [==============================] - 8s 36ms/step - loss: 0.1145\n",
            "Epoch 85/100\n",
            "219/219 [==============================] - 8s 36ms/step - loss: 0.1145\n",
            "Epoch 86/100\n",
            "219/219 [==============================] - 8s 35ms/step - loss: 0.1139\n",
            "Epoch 87/100\n",
            "219/219 [==============================] - 8s 35ms/step - loss: 0.1144\n",
            "Epoch 88/100\n",
            "219/219 [==============================] - 8s 35ms/step - loss: 0.1160\n",
            "Epoch 89/100\n",
            "219/219 [==============================] - 8s 35ms/step - loss: 0.1130\n",
            "Epoch 90/100\n",
            "219/219 [==============================] - 8s 35ms/step - loss: 0.1131\n",
            "Epoch 91/100\n",
            "219/219 [==============================] - 8s 35ms/step - loss: 0.1157\n",
            "Epoch 92/100\n",
            "219/219 [==============================] - 8s 35ms/step - loss: 0.1141\n",
            "Epoch 93/100\n",
            "219/219 [==============================] - 8s 35ms/step - loss: 0.1177\n",
            "Epoch 94/100\n",
            "219/219 [==============================] - 8s 35ms/step - loss: 0.1138\n",
            "Epoch 95/100\n",
            "219/219 [==============================] - 8s 35ms/step - loss: 0.1131\n",
            "Epoch 96/100\n",
            "219/219 [==============================] - 8s 35ms/step - loss: 0.1134\n",
            "Epoch 97/100\n",
            "219/219 [==============================] - 8s 35ms/step - loss: 0.1139\n",
            "Epoch 98/100\n",
            "219/219 [==============================] - 8s 36ms/step - loss: 0.1130\n",
            "Epoch 99/100\n",
            "219/219 [==============================] - 8s 35ms/step - loss: 0.1139\n",
            "Epoch 100/100\n",
            "219/219 [==============================] - 8s 36ms/step - loss: 0.1151\n"
          ]
        },
        {
          "output_type": "execute_result",
          "data": {
            "text/plain": [
              "<keras.callbacks.History at 0x7fa433c31650>"
            ]
          },
          "metadata": {},
          "execution_count": 78
        }
      ]
    },
    {
      "cell_type": "code",
      "source": [
        "regressor.summary()"
      ],
      "metadata": {
        "colab": {
          "base_uri": "https://localhost:8080/"
        },
        "id": "RIj-W3hOljtM",
        "outputId": "86a80c39-5d39-4e87-900c-53f291a963fc"
      },
      "execution_count": 79,
      "outputs": [
        {
          "output_type": "stream",
          "name": "stdout",
          "text": [
            "Model: \"sequential_1\"\n",
            "_________________________________________________________________\n",
            " Layer (type)                Output Shape              Param #   \n",
            "=================================================================\n",
            " lstm (LSTM)                 (None, 15, 50)            10400     \n",
            "                                                                 \n",
            " dropout (Dropout)           (None, 15, 50)            0         \n",
            "                                                                 \n",
            " lstm_1 (LSTM)               (None, 15, 50)            20200     \n",
            "                                                                 \n",
            " dropout_1 (Dropout)         (None, 15, 50)            0         \n",
            "                                                                 \n",
            " lstm_2 (LSTM)               (None, 15, 50)            20200     \n",
            "                                                                 \n",
            " dropout_2 (Dropout)         (None, 15, 50)            0         \n",
            "                                                                 \n",
            " lstm_3 (LSTM)               (None, 50)                20200     \n",
            "                                                                 \n",
            " dropout_3 (Dropout)         (None, 50)                0         \n",
            "                                                                 \n",
            " dense_2 (Dense)             (None, 1)                 51        \n",
            "                                                                 \n",
            "=================================================================\n",
            "Total params: 71,051\n",
            "Trainable params: 71,051\n",
            "Non-trainable params: 0\n",
            "_________________________________________________________________\n"
          ]
        }
      ]
    },
    {
      "cell_type": "code",
      "source": [
        "# Predict the X_test results\n",
        "y_pred = regressor.predict(X_test)"
      ],
      "metadata": {
        "id": "KlHjV3iZlmDH"
      },
      "execution_count": 80,
      "outputs": []
    },
    {
      "cell_type": "code",
      "source": [
        "y_pred_label = []\n",
        "for i in range(0, len(y_pred)):\n",
        "  if y_pred[i] >= 0.5:\n",
        "    y_pred_label.append(1)\n",
        "  else:\n",
        "    y_pred_label.append(0)"
      ],
      "metadata": {
        "id": "JRYzm07ElpLn"
      },
      "execution_count": 81,
      "outputs": []
    },
    {
      "cell_type": "code",
      "source": [
        "print(\"Các chỉ số đánh giá mức độ hiệu quả của mô hình: \")\n",
        "#Accuracy\n",
        "print(\"1. Accuracy:\",metrics.accuracy_score(y_pred_label,y_test))\n",
        "# confusion_matrix\n",
        "print('2. confusion_matrix:')\n",
        "print(confusion_matrix(y_pred_label,y_test))\n",
        "# recall_score\n",
        "print('3. recall_score: ', recall_score(y_pred_label,y_test))\n",
        "# precision_score\n",
        "print('4. precision_score: ', precision_score(y_pred_label,y_test))\n",
        "# f1_score\n",
        "print('5. f1_score: ', f1_score(y_pred_label,y_test))"
      ],
      "metadata": {
        "colab": {
          "base_uri": "https://localhost:8080/"
        },
        "id": "y3MSNKCulsTy",
        "outputId": "8df4401c-c1a8-4568-cb24-2b00c5dcf67e"
      },
      "execution_count": 82,
      "outputs": [
        {
          "output_type": "stream",
          "name": "stdout",
          "text": [
            "Các chỉ số đánh giá mức độ hiệu quả của mô hình: \n",
            "1. Accuracy: 0.8393333333333334\n",
            "2. confusion_matrix:\n",
            "[[1405  350]\n",
            " [ 132 1113]]\n",
            "3. recall_score:  0.8939759036144578\n",
            "4. precision_score:  0.7607655502392344\n",
            "5. f1_score:  0.8220088626292467\n"
          ]
        }
      ]
    },
    {
      "cell_type": "markdown",
      "source": [
        "# ***Kết thúc!***"
      ],
      "metadata": {
        "id": "VC0pxsaoluap"
      }
    }
  ]
}