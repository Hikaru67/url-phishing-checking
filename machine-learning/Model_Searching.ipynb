{
 "cells": [
  {
   "cell_type": "markdown",
   "metadata": {
    "id": "-XD2n3zO9jUT"
   },
   "source": [
    "# **Overview:**\n",
    "\n",
    "Chương trình này là tiếp nối của chương trình Part-2_Visualization.ipynb\n",
    "\n",
    "Chương trình là thử nghiệm các mô hình Machine Learning trên tập dữ liệu đã được xử lý cũng như có cái nhìn tổng quan từ 2 phần trước."
   ]
  },
  {
   "cell_type": "markdown",
   "metadata": {
    "id": "tgRCj5JR_XJS"
   },
   "source": [
    "# **6. Khai báo và cài đặt cần sử dụng**"
   ]
  },
  {
   "cell_type": "code",
   "execution_count": 8,
   "metadata": {
    "id": "nKdLs7iA_X-j"
   },
   "outputs": [],
   "source": [
    "import pandas as pd\n",
    "import seaborn as sns\n",
    "import matplotlib.pyplot as plt\n",
    "\n",
    "from sklearn.preprocessing import LabelEncoder\n",
    "from sklearn.preprocessing import StandardScaler\n",
    "from sklearn.model_selection import train_test_split\n",
    "from sklearn.datasets import load_breast_cancer\n",
    "from sklearn.metrics import confusion_matrix\n",
    "from sklearn.metrics import recall_score\n",
    "from sklearn.metrics import precision_score\n",
    "from sklearn.metrics import f1_score\n",
    "\n",
    "import xgboost as xgb\n",
    "import lightgbm as lgb\n",
    "from sklearn.svm import SVC\n",
    "from sklearn.ensemble import BaggingClassifier\n",
    "from sklearn.tree import DecisionTreeClassifier\n",
    "from sklearn.ensemble import RandomForestClassifier, ExtraTreesClassifier\n",
    "from sklearn.model_selection import RandomizedSearchCV,GridSearchCV\n",
    "from sklearn.inspection import permutation_importance\n",
    "from sklearn.model_selection import KFold\n",
    "from datetime import datetime\n",
    "import warnings"
   ]
  },
  {
   "cell_type": "code",
   "execution_count": 9,
   "metadata": {
    "id": "7Ots-XXs9_kr"
   },
   "outputs": [],
   "source": [
    "from pylab import rcParams\n",
    "\n",
    "rcParams['figure.figsize'] = 16,9"
   ]
  },
  {
   "cell_type": "markdown",
   "metadata": {
    "id": "rIpZhGyw_f3d"
   },
   "source": [
    "### **Đọc dữ liệu**"
   ]
  },
  {
   "cell_type": "code",
   "execution_count": 10,
   "metadata": {
    "colab": {
     "base_uri": "https://localhost:8080/"
    },
    "id": "D24NIgv9hI01",
    "outputId": "aff46ea6-9557-4407-ac8f-529c34cc81c7"
   },
   "outputs": [],
   "source": [
    "# from google.colab import drive\n",
    "# drive.mount('data')"
   ]
  },
  {
   "cell_type": "code",
   "execution_count": 11,
   "metadata": {
    "id": "Ocyr9vip5N0m"
   },
   "outputs": [],
   "source": [
    "df = pd.read_csv('data/newProcessed22.csv')"
   ]
  },
  {
   "cell_type": "code",
   "execution_count": 12,
   "metadata": {
    "colab": {
     "base_uri": "https://localhost:8080/",
     "height": 424
    },
    "id": "gz6T5S2VLijc",
    "outputId": "aac84d75-93fd-4d17-ac35-eabcb6d0c42b"
   },
   "outputs": [
    {
     "data": {
      "text/html": [
       "<div>\n",
       "<style scoped>\n",
       "    .dataframe tbody tr th:only-of-type {\n",
       "        vertical-align: middle;\n",
       "    }\n",
       "\n",
       "    .dataframe tbody tr th {\n",
       "        vertical-align: top;\n",
       "    }\n",
       "\n",
       "    .dataframe thead th {\n",
       "        text-align: right;\n",
       "    }\n",
       "</style>\n",
       "<table border=\"1\" class=\"dataframe\">\n",
       "  <thead>\n",
       "    <tr style=\"text-align: right;\">\n",
       "      <th></th>\n",
       "      <th>Index</th>\n",
       "      <th>Domain</th>\n",
       "      <th>Domain_Length</th>\n",
       "      <th>Subdomain_Level</th>\n",
       "      <th>Url_Length</th>\n",
       "      <th>Url_Depth</th>\n",
       "      <th>Have_At_Sign</th>\n",
       "      <th>Have_Tilde_Symbol</th>\n",
       "      <th>No_Https</th>\n",
       "      <th>Having_IP</th>\n",
       "      <th>...</th>\n",
       "      <th>DNS</th>\n",
       "      <th>Domain_Age</th>\n",
       "      <th>Domain_End</th>\n",
       "      <th>Rank_Host</th>\n",
       "      <th>Rank_Country</th>\n",
       "      <th>Iframe</th>\n",
       "      <th>Mouse_Over</th>\n",
       "      <th>Right_Click</th>\n",
       "      <th>Forwarding</th>\n",
       "      <th>Label</th>\n",
       "    </tr>\n",
       "  </thead>\n",
       "  <tbody>\n",
       "    <tr>\n",
       "      <th>0</th>\n",
       "      <td>0</td>\n",
       "      <td>google.com</td>\n",
       "      <td>10</td>\n",
       "      <td>1</td>\n",
       "      <td>43</td>\n",
       "      <td>1</td>\n",
       "      <td>0</td>\n",
       "      <td>0</td>\n",
       "      <td>0</td>\n",
       "      <td>0</td>\n",
       "      <td>...</td>\n",
       "      <td>0</td>\n",
       "      <td>0</td>\n",
       "      <td>0</td>\n",
       "      <td>1</td>\n",
       "      <td>1</td>\n",
       "      <td>0</td>\n",
       "      <td>1</td>\n",
       "      <td>0</td>\n",
       "      <td>0</td>\n",
       "      <td>0</td>\n",
       "    </tr>\n",
       "    <tr>\n",
       "      <th>1</th>\n",
       "      <td>1</td>\n",
       "      <td>google.com</td>\n",
       "      <td>10</td>\n",
       "      <td>1</td>\n",
       "      <td>36</td>\n",
       "      <td>1</td>\n",
       "      <td>0</td>\n",
       "      <td>0</td>\n",
       "      <td>0</td>\n",
       "      <td>0</td>\n",
       "      <td>...</td>\n",
       "      <td>0</td>\n",
       "      <td>0</td>\n",
       "      <td>0</td>\n",
       "      <td>1</td>\n",
       "      <td>1</td>\n",
       "      <td>0</td>\n",
       "      <td>1</td>\n",
       "      <td>0</td>\n",
       "      <td>0</td>\n",
       "      <td>0</td>\n",
       "    </tr>\n",
       "    <tr>\n",
       "      <th>2</th>\n",
       "      <td>2</td>\n",
       "      <td>google.com</td>\n",
       "      <td>10</td>\n",
       "      <td>1</td>\n",
       "      <td>41</td>\n",
       "      <td>1</td>\n",
       "      <td>0</td>\n",
       "      <td>0</td>\n",
       "      <td>0</td>\n",
       "      <td>0</td>\n",
       "      <td>...</td>\n",
       "      <td>0</td>\n",
       "      <td>0</td>\n",
       "      <td>0</td>\n",
       "      <td>1</td>\n",
       "      <td>1</td>\n",
       "      <td>0</td>\n",
       "      <td>1</td>\n",
       "      <td>0</td>\n",
       "      <td>0</td>\n",
       "      <td>0</td>\n",
       "    </tr>\n",
       "    <tr>\n",
       "      <th>3</th>\n",
       "      <td>3</td>\n",
       "      <td>bilnet.eu</td>\n",
       "      <td>9</td>\n",
       "      <td>1</td>\n",
       "      <td>16</td>\n",
       "      <td>0</td>\n",
       "      <td>0</td>\n",
       "      <td>0</td>\n",
       "      <td>1</td>\n",
       "      <td>0</td>\n",
       "      <td>...</td>\n",
       "      <td>0</td>\n",
       "      <td>1</td>\n",
       "      <td>1</td>\n",
       "      <td>1</td>\n",
       "      <td>1</td>\n",
       "      <td>0</td>\n",
       "      <td>0</td>\n",
       "      <td>0</td>\n",
       "      <td>1</td>\n",
       "      <td>0</td>\n",
       "    </tr>\n",
       "    <tr>\n",
       "      <th>4</th>\n",
       "      <td>4</td>\n",
       "      <td>bil-privatebanking.eu</td>\n",
       "      <td>21</td>\n",
       "      <td>1</td>\n",
       "      <td>28</td>\n",
       "      <td>0</td>\n",
       "      <td>0</td>\n",
       "      <td>0</td>\n",
       "      <td>1</td>\n",
       "      <td>0</td>\n",
       "      <td>...</td>\n",
       "      <td>0</td>\n",
       "      <td>1</td>\n",
       "      <td>1</td>\n",
       "      <td>1</td>\n",
       "      <td>1</td>\n",
       "      <td>0</td>\n",
       "      <td>0</td>\n",
       "      <td>0</td>\n",
       "      <td>1</td>\n",
       "      <td>0</td>\n",
       "    </tr>\n",
       "    <tr>\n",
       "      <th>...</th>\n",
       "      <td>...</td>\n",
       "      <td>...</td>\n",
       "      <td>...</td>\n",
       "      <td>...</td>\n",
       "      <td>...</td>\n",
       "      <td>...</td>\n",
       "      <td>...</td>\n",
       "      <td>...</td>\n",
       "      <td>...</td>\n",
       "      <td>...</td>\n",
       "      <td>...</td>\n",
       "      <td>...</td>\n",
       "      <td>...</td>\n",
       "      <td>...</td>\n",
       "      <td>...</td>\n",
       "      <td>...</td>\n",
       "      <td>...</td>\n",
       "      <td>...</td>\n",
       "      <td>...</td>\n",
       "      <td>...</td>\n",
       "      <td>...</td>\n",
       "    </tr>\n",
       "    <tr>\n",
       "      <th>13041</th>\n",
       "      <td>13041</td>\n",
       "      <td>formbuddy.com</td>\n",
       "      <td>13</td>\n",
       "      <td>1</td>\n",
       "      <td>56</td>\n",
       "      <td>2</td>\n",
       "      <td>0</td>\n",
       "      <td>0</td>\n",
       "      <td>1</td>\n",
       "      <td>0</td>\n",
       "      <td>...</td>\n",
       "      <td>0</td>\n",
       "      <td>0</td>\n",
       "      <td>0</td>\n",
       "      <td>1</td>\n",
       "      <td>1</td>\n",
       "      <td>0</td>\n",
       "      <td>0</td>\n",
       "      <td>0</td>\n",
       "      <td>0</td>\n",
       "      <td>1</td>\n",
       "    </tr>\n",
       "    <tr>\n",
       "      <th>13042</th>\n",
       "      <td>13042</td>\n",
       "      <td>formbuddy.com</td>\n",
       "      <td>13</td>\n",
       "      <td>1</td>\n",
       "      <td>61</td>\n",
       "      <td>2</td>\n",
       "      <td>0</td>\n",
       "      <td>0</td>\n",
       "      <td>1</td>\n",
       "      <td>0</td>\n",
       "      <td>...</td>\n",
       "      <td>0</td>\n",
       "      <td>0</td>\n",
       "      <td>0</td>\n",
       "      <td>1</td>\n",
       "      <td>1</td>\n",
       "      <td>0</td>\n",
       "      <td>0</td>\n",
       "      <td>0</td>\n",
       "      <td>0</td>\n",
       "      <td>1</td>\n",
       "    </tr>\n",
       "    <tr>\n",
       "      <th>13043</th>\n",
       "      <td>13043</td>\n",
       "      <td>habbocreditosparati.blogspot.com</td>\n",
       "      <td>32</td>\n",
       "      <td>1</td>\n",
       "      <td>44</td>\n",
       "      <td>0</td>\n",
       "      <td>0</td>\n",
       "      <td>0</td>\n",
       "      <td>1</td>\n",
       "      <td>0</td>\n",
       "      <td>...</td>\n",
       "      <td>1</td>\n",
       "      <td>1</td>\n",
       "      <td>1</td>\n",
       "      <td>1</td>\n",
       "      <td>1</td>\n",
       "      <td>0</td>\n",
       "      <td>0</td>\n",
       "      <td>0</td>\n",
       "      <td>0</td>\n",
       "      <td>1</td>\n",
       "    </tr>\n",
       "    <tr>\n",
       "      <th>13044</th>\n",
       "      <td>13044</td>\n",
       "      <td>creditiperhabbogratissicuro100.blogspot.com</td>\n",
       "      <td>43</td>\n",
       "      <td>1</td>\n",
       "      <td>95</td>\n",
       "      <td>3</td>\n",
       "      <td>0</td>\n",
       "      <td>0</td>\n",
       "      <td>1</td>\n",
       "      <td>0</td>\n",
       "      <td>...</td>\n",
       "      <td>1</td>\n",
       "      <td>1</td>\n",
       "      <td>1</td>\n",
       "      <td>1</td>\n",
       "      <td>1</td>\n",
       "      <td>0</td>\n",
       "      <td>0</td>\n",
       "      <td>0</td>\n",
       "      <td>0</td>\n",
       "      <td>1</td>\n",
       "    </tr>\n",
       "    <tr>\n",
       "      <th>13045</th>\n",
       "      <td>13045</td>\n",
       "      <td>aijcs.blogspot.com</td>\n",
       "      <td>18</td>\n",
       "      <td>1</td>\n",
       "      <td>60</td>\n",
       "      <td>3</td>\n",
       "      <td>0</td>\n",
       "      <td>0</td>\n",
       "      <td>1</td>\n",
       "      <td>0</td>\n",
       "      <td>...</td>\n",
       "      <td>1</td>\n",
       "      <td>1</td>\n",
       "      <td>1</td>\n",
       "      <td>1</td>\n",
       "      <td>1</td>\n",
       "      <td>0</td>\n",
       "      <td>0</td>\n",
       "      <td>0</td>\n",
       "      <td>0</td>\n",
       "      <td>1</td>\n",
       "    </tr>\n",
       "  </tbody>\n",
       "</table>\n",
       "<p>13046 rows × 39 columns</p>\n",
       "</div>"
      ],
      "text/plain": [
       "       Index                                       Domain  Domain_Length  \\\n",
       "0          0                                   google.com             10   \n",
       "1          1                                   google.com             10   \n",
       "2          2                                   google.com             10   \n",
       "3          3                                    bilnet.eu              9   \n",
       "4          4                        bil-privatebanking.eu             21   \n",
       "...      ...                                          ...            ...   \n",
       "13041  13041                                formbuddy.com             13   \n",
       "13042  13042                                formbuddy.com             13   \n",
       "13043  13043             habbocreditosparati.blogspot.com             32   \n",
       "13044  13044  creditiperhabbogratissicuro100.blogspot.com             43   \n",
       "13045  13045                           aijcs.blogspot.com             18   \n",
       "\n",
       "       Subdomain_Level  Url_Length  Url_Depth  Have_At_Sign  \\\n",
       "0                    1          43          1             0   \n",
       "1                    1          36          1             0   \n",
       "2                    1          41          1             0   \n",
       "3                    1          16          0             0   \n",
       "4                    1          28          0             0   \n",
       "...                ...         ...        ...           ...   \n",
       "13041                1          56          2             0   \n",
       "13042                1          61          2             0   \n",
       "13043                1          44          0             0   \n",
       "13044                1          95          3             0   \n",
       "13045                1          60          3             0   \n",
       "\n",
       "       Have_Tilde_Symbol  No_Https  Having_IP  ...  DNS  Domain_Age  \\\n",
       "0                      0         0          0  ...    0           0   \n",
       "1                      0         0          0  ...    0           0   \n",
       "2                      0         0          0  ...    0           0   \n",
       "3                      0         1          0  ...    0           1   \n",
       "4                      0         1          0  ...    0           1   \n",
       "...                  ...       ...        ...  ...  ...         ...   \n",
       "13041                  0         1          0  ...    0           0   \n",
       "13042                  0         1          0  ...    0           0   \n",
       "13043                  0         1          0  ...    1           1   \n",
       "13044                  0         1          0  ...    1           1   \n",
       "13045                  0         1          0  ...    1           1   \n",
       "\n",
       "       Domain_End  Rank_Host  Rank_Country  Iframe  Mouse_Over  Right_Click  \\\n",
       "0               0          1             1       0           1            0   \n",
       "1               0          1             1       0           1            0   \n",
       "2               0          1             1       0           1            0   \n",
       "3               1          1             1       0           0            0   \n",
       "4               1          1             1       0           0            0   \n",
       "...           ...        ...           ...     ...         ...          ...   \n",
       "13041           0          1             1       0           0            0   \n",
       "13042           0          1             1       0           0            0   \n",
       "13043           1          1             1       0           0            0   \n",
       "13044           1          1             1       0           0            0   \n",
       "13045           1          1             1       0           0            0   \n",
       "\n",
       "       Forwarding  Label  \n",
       "0               0      0  \n",
       "1               0      0  \n",
       "2               0      0  \n",
       "3               1      0  \n",
       "4               1      0  \n",
       "...           ...    ...  \n",
       "13041           0      1  \n",
       "13042           0      1  \n",
       "13043           0      1  \n",
       "13044           0      1  \n",
       "13045           0      1  \n",
       "\n",
       "[13046 rows x 39 columns]"
      ]
     },
     "execution_count": 12,
     "metadata": {},
     "output_type": "execute_result"
    }
   ],
   "source": [
    "df"
   ]
  },
  {
   "cell_type": "markdown",
   "metadata": {
    "id": "Dxi_EEFcM0d9"
   },
   "source": [
    "**Kiểm tra độ quan trọng của đăc trưng (feature important)**"
   ]
  },
  {
   "cell_type": "code",
   "execution_count": 13,
   "metadata": {
    "colab": {
     "base_uri": "https://localhost:8080/"
    },
    "id": "3W3-QIMUK7vX",
    "outputId": "c295dcf0-d17f-458d-d68d-a29d7b9dfbde"
   },
   "outputs": [
    {
     "data": {
      "text/plain": [
       "Index(['Index', 'Domain', 'Domain_Length', 'Subdomain_Level', 'Url_Length',\n",
       "       'Url_Depth', 'Have_At_Sign', 'Have_Tilde_Symbol', 'No_Https',\n",
       "       'Having_IP', 'Domain_In_Subdomains', 'Domain_In_Paths',\n",
       "       'Http_In_Hostname', 'Double_Slash_In_Path', 'Num_Dots',\n",
       "       'Num_Dashes_In_Hostname', 'Num_Underscore', 'Num_Percent',\n",
       "       'Num_Query_Components', 'Num_Ampersand', 'Num_Hash',\n",
       "       'Num_Numeric_Chars', 'Path_Length', 'Query_Length',\n",
       "       'Num_Sensitive_Words', 'Ext_Favicon', 'Redirection', 'Tiny_URL',\n",
       "       'Prefix_Suffix', 'DNS', 'Domain_Age', 'Domain_End', 'Rank_Host',\n",
       "       'Rank_Country', 'Iframe', 'Mouse_Over', 'Right_Click', 'Forwarding',\n",
       "       'Label'],\n",
       "      dtype='object')"
      ]
     },
     "execution_count": 13,
     "metadata": {},
     "output_type": "execute_result"
    }
   ],
   "source": [
    "df.columns"
   ]
  },
  {
   "cell_type": "code",
   "execution_count": 51,
   "metadata": {
    "id": "aMX4P9l3K_Am"
   },
   "outputs": [],
   "source": [
    "features = ['Domain_Length', 'Subdomain_Level', 'Have_At_Sign', 'Have_Tilde_Symbol', 'No_Https', 'Having_IP', 'Domain_In_Subdomains', 'Domain_In_Paths', 'Http_In_Hostname', 'Double_Slash_In_Path', 'Num_Dots', 'Num_Dashes_In_Hostname', 'Num_Underscore', 'Num_Percent', 'Num_Query_Components', 'Num_Ampersand', 'Num_Hash', 'Num_Numeric_Chars', 'Path_Length', 'Query_Length', 'Num_Sensitive_Words', 'Ext_Favicon', 'Redirection', 'Tiny_URL', 'Prefix_Suffix', 'DNS', 'Domain_Age', 'Domain_End', 'Rank_Host', 'Rank_Country', 'Iframe', 'Mouse_Over', 'Right_Click', 'Forwarding']"
   ]
  },
  {
   "cell_type": "markdown",
   "metadata": {},
   "source": []
  },
  {
   "cell_type": "code",
   "execution_count": 15,
   "metadata": {
    "id": "yv-gjIRYNEOC"
   },
   "outputs": [],
   "source": [
    "X = df[features]\n",
    "y = df['Label']"
   ]
  },
  {
   "cell_type": "code",
   "execution_count": 47,
   "metadata": {
    "id": "61IBCJ_pIWYr"
   },
   "outputs": [],
   "source": [
    "X_train, X_test, y_train, y_test = train_test_split(X, y, test_size=0.2, random_state=42)"
   ]
  },
  {
   "cell_type": "code",
   "execution_count": 48,
   "metadata": {
    "colab": {
     "base_uri": "https://localhost:8080/"
    },
    "id": "DWdnFFbuIjDv",
    "outputId": "ca3ec27d-e2bb-43f0-8789-b35cefe83a23"
   },
   "outputs": [
    {
     "data": {
      "text/plain": [
       "RandomForestRegressor()"
      ]
     },
     "execution_count": 48,
     "metadata": {},
     "output_type": "execute_result"
    }
   ],
   "source": [
    "from sklearn.ensemble import RandomForestRegressor\n",
    "from catboost import CatBoostClassifier\n",
    "rf = RandomForestRegressor(n_estimators=100)\n",
    "rf.fit(X_train, y_train)"
   ]
  },
  {
   "cell_type": "code",
   "execution_count": 49,
   "metadata": {
    "colab": {
     "base_uri": "https://localhost:8080/"
    },
    "id": "1fmC4y4eI1VI",
    "outputId": "68bec4ca-6ab9-4690-faca-16f7dfaa60cb"
   },
   "outputs": [
    {
     "data": {
      "text/plain": [
       "array([2.33114309e-01, 0.00000000e+00, 1.43074423e-02, 1.19519672e-03,\n",
       "       3.42888075e-02, 2.31640581e-04, 2.73613446e-02, 5.87191295e-04,\n",
       "       3.34609226e-06, 8.54049938e-04, 5.79524197e-02, 3.18551830e-02,\n",
       "       1.62020882e-02, 5.71879064e-03, 5.88139876e-03, 5.28082944e-03,\n",
       "       5.29530000e-03, 8.76542217e-02, 1.85459571e-01, 8.34195563e-02,\n",
       "       1.53811796e-02, 0.00000000e+00, 4.86869131e-03, 1.85701663e-02,\n",
       "       2.89952999e-02, 8.87817909e-03, 2.81046829e-02, 3.53590027e-02,\n",
       "       1.76728923e-02, 8.27922157e-03, 9.84095641e-03, 6.95575796e-03,\n",
       "       9.27777832e-03, 1.11535054e-02])"
      ]
     },
     "execution_count": 49,
     "metadata": {},
     "output_type": "execute_result"
    }
   ],
   "source": [
    "rf.feature_importances_"
   ]
  },
  {
   "cell_type": "code",
   "execution_count": 50,
   "metadata": {
    "colab": {
     "base_uri": "https://localhost:8080/",
     "height": 554
    },
    "id": "IQVZxEreI3KH",
    "outputId": "a0f200cb-790a-454f-d7bf-bd4ea0485a60"
   },
   "outputs": [
    {
     "data": {
      "text/plain": [
       "<BarContainer object of 34 artists>"
      ]
     },
     "execution_count": 50,
     "metadata": {},
     "output_type": "execute_result"
    },
    {
     "data": {
      "image/png": "[encoded data removed]",
      "text/plain": [
       "<Figure size 432x288 with 1 Axes>"
      ]
     },
     "metadata": {
      "needs_background": "light"
     },
     "output_type": "display_data"
    }
   ],
   "source": [
    "plt.barh(features, rf.feature_importances_)"
   ]
  },
  {
   "cell_type": "markdown",
   "metadata": {
    "id": "KtuTlVylLp3I"
   },
   "source": [
    "# **7. Huấn luyện mô hình - Classification**"
   ]
  },
  {
   "cell_type": "markdown",
   "metadata": {
    "id": "EbL1nMOY3okR"
   },
   "source": [
    "**Split dataset**"
   ]
  },
  {
   "cell_type": "code",
   "execution_count": 53,
   "metadata": {
    "id": "saGRfI7GikQM"
   },
   "outputs": [],
   "source": [
    "Y = y"
   ]
  },
  {
   "cell_type": "code",
   "execution_count": 21,
   "metadata": {
    "id": "NRbIflUoQjzr"
   },
   "outputs": [],
   "source": [
    "from sklearn.model_selection import train_test_split"
   ]
  },
  {
   "cell_type": "code",
   "execution_count": 54,
   "metadata": {
    "id": "wAPp5Qa23w15"
   },
   "outputs": [],
   "source": [
    "X_train,X_test,Y_train,y_test=train_test_split(X,Y,test_size=0.2,random_state=42)"
   ]
  },
  {
   "cell_type": "code",
   "execution_count": 23,
   "metadata": {
    "colab": {
     "base_uri": "https://localhost:8080/"
    },
    "id": "KtRwVSMyMQtu",
    "outputId": "62456ea7-9d92-4860-9375-4667700ed71c"
   },
   "outputs": [
    {
     "name": "stdout",
     "output_type": "stream",
     "text": [
      "Kích thước tập huấn luyện:  (10436, 34) (9132,)\n",
      "Kích thước tập kiểm tra:  (2610, 34) (2610,)\n"
     ]
    }
   ],
   "source": [
    "print('Kích thước tập huấn luyện: ', X_train.shape, y_train.shape)\n",
    "print('Kích thước tập kiểm tra: ', X_test.shape, y_test.shape)"
   ]
  },
  {
   "cell_type": "code",
   "execution_count": 24,
   "metadata": {
    "id": "FGjZf5lpKJBb"
   },
   "outputs": [],
   "source": [
    "# Hàm tính độ chính xác, ma trận nhầm lẫn, Recall, precision, f1 score và vẽ đồ thị ROC\n",
    "from sklearn import metrics\n",
    "from sklearn.model_selection import cross_val_score\n",
    "\n",
    "def evaluate_model(model, X_test, y_test, y_prediction):\n",
    "  print(\"Các chỉ số đánh giá mức độ hiệu quả của mô hình: \")\n",
    "  #Accuracy\n",
    "  print(\"1. Accuracy:\",metrics.accuracy_score(y_prediction,y_test))\n",
    "  # confusion_matrix\n",
    "  print('2. confusion_matrix:')\n",
    "  print(confusion_matrix(y_prediction,y_test))\n",
    "  # recall_score\n",
    "  print('3. recall_score: ', recall_score(y_prediction,y_test))\n",
    "  # precision_score\n",
    "  print('4. precision_score: ', precision_score(y_prediction,y_test))\n",
    "  # f1_score\n",
    "  print('5. f1_score: ', f1_score(y_prediction,y_test))\n",
    "  # ROC plot\n",
    "  print('6. Biểu đồ ROC của mô hình:')\n",
    "  metrics.plot_roc_curve(model, X_test, y_test)\n",
    "  plt.show()"
   ]
  },
  {
   "cell_type": "markdown",
   "metadata": {
    "id": "hwZEX4dN4vJb"
   },
   "source": [
    "**Logistic Regression**"
   ]
  },
  {
   "cell_type": "code",
   "execution_count": 57,
   "metadata": {
    "colab": {
     "base_uri": "https://localhost:8080/",
     "height": 901
    },
    "id": "qWvT8xzX4_Q8",
    "outputId": "b458b8ee-9f48-436b-d252-248f0b807a68",
    "scrolled": true
   },
   "outputs": [],
   "source": [
    "# #Given smote, we have to do a little adjustment\n",
    "# from sklearn.linear_model import LogisticRegression\n",
    "# from sklearn.model_selection import cross_val_score\n",
    "\n",
    "# logreg = LogisticRegression(fit_intercept=True, penalty='l2')\n",
    "# logreg.fit(X_train, Y_train)\n",
    "\n",
    "# logregprediction=logreg.predict(X_test)\n",
    "\n",
    "# evaluate_model (logreg, X_test, y_test, logregprediction)"
   ]
  },
  {
   "cell_type": "markdown",
   "metadata": {
    "id": "Ee6TlsOgqMAI"
   },
   "source": [
    "**Linear Discriminant Analysis**"
   ]
  },
  {
   "cell_type": "code",
   "execution_count": 26,
   "metadata": {
    "colab": {
     "base_uri": "https://localhost:8080/",
     "height": 762
    },
    "id": "wsnY-aN3Bykd",
    "outputId": "e0b7ac5c-dcdf-41c4-e08b-4c935683b7c0"
   },
   "outputs": [],
   "source": [
    "# from sklearn.discriminant_analysis import LinearDiscriminantAnalysis\n",
    "# lda = LinearDiscriminantAnalysis()\n",
    "# lda.fit(X_train, Y_train)\n",
    "\n",
    "# lda_prediction=lda.predict(X_test)\n",
    "\n",
    "# evaluate_model (lda, X_test, y_test, lda_prediction)"
   ]
  },
  {
   "cell_type": "markdown",
   "metadata": {
    "id": "iXusnunQqbS2"
   },
   "source": [
    "**Gaussian Naive Bayes**"
   ]
  },
  {
   "cell_type": "code",
   "execution_count": 27,
   "metadata": {
    "colab": {
     "base_uri": "https://localhost:8080/",
     "height": 762
    },
    "id": "BlwsFZL-qOor",
    "outputId": "7a5f75b9-8b6f-41df-ce0e-8a8f2777677a"
   },
   "outputs": [],
   "source": [
    "# from sklearn.naive_bayes import GaussianNB\n",
    "# gnb = GaussianNB()\n",
    "# gnb.fit(X_train, Y_train)\n",
    "\n",
    "# gnbprediction=gnb.predict(X_test)\n",
    "\n",
    "# evaluate_model (gnb, X_test, y_test, gnbprediction)"
   ]
  },
  {
   "cell_type": "markdown",
   "metadata": {
    "id": "EgyS0v2nqzZo"
   },
   "source": [
    "**Decision Tree Classifier**"
   ]
  },
  {
   "cell_type": "code",
   "execution_count": 61,
   "metadata": {
    "colab": {
     "base_uri": "https://localhost:8080/",
     "height": 762
    },
    "id": "AiJpm4jAqrHy",
    "outputId": "0ff48e17-ceec-49cf-ab9a-d4de737041e6"
   },
   "outputs": [
    {
     "name": "stdout",
     "output_type": "stream",
     "text": [
      "Các chỉ số đánh giá mức độ hiệu quả của mô hình: \n",
      "1. Accuracy: 0.8045977011494253\n",
      "2. confusion_matrix:\n",
      "[[1034  296]\n",
      " [ 214 1066]]\n",
      "3. recall_score:  0.8328125\n",
      "4. precision_score:  0.7826725403817915\n",
      "5. f1_score:  0.8069644208932627\n",
      "6. Biểu đồ ROC của mô hình:\n"
     ]
    },
    {
     "name": "stderr",
     "output_type": "stream",
     "text": [
      "/home/hikaru/.local/lib/python3.8/site-packages/sklearn/utils/deprecation.py:87: FutureWarning: Function plot_roc_curve is deprecated; Function :func:`plot_roc_curve` is deprecated in 1.0 and will be removed in 1.2. Use one of the class methods: :meth:`sklearn.metric.RocCurveDisplay.from_predictions` or :meth:`sklearn.metric.RocCurveDisplay.from_estimator`.\n",
      "  warnings.warn(msg, category=FutureWarning)\n"
     ]
    },
    {
     "data": {
      "image/png": "[encoded data removed]",
      "text/plain": [
       "<Figure size 432x288 with 1 Axes>"
      ]
     },
     "metadata": {
      "needs_background": "light"
     },
     "output_type": "display_data"
    }
   ],
   "source": [
    "from sklearn.tree import DecisionTreeClassifier\n",
    "\n",
    "dtc= DecisionTreeClassifier(random_state=72)\n",
    "dtc.fit(X_train,Y_train)\n",
    "\n",
    "dtcprediction=dtc.predict(X_test)\n",
    "\n",
    "evaluate_model (dtc, X_test, y_test, dtcprediction)\n"
   ]
  },
  {
   "cell_type": "markdown",
   "metadata": {
    "id": "Yw0tgBQYrDk3"
   },
   "source": [
    "**Random Forest Classifier**"
   ]
  },
  {
   "cell_type": "code",
   "execution_count": 29,
   "metadata": {
    "colab": {
     "base_uri": "https://localhost:8080/",
     "height": 762
    },
    "id": "OUTcjv1Cq3Ff",
    "outputId": "2a0c3258-f9ea-4f34-bba4-07c6e6a4592f"
   },
   "outputs": [
    {
     "name": "stdout",
     "output_type": "stream",
     "text": [
      "Các chỉ số đánh giá mức độ hiệu quả của mô hình: \n",
      "1. Accuracy: 0.8371647509578544\n",
      "2. confusion_matrix:\n",
      "[[1066  243]\n",
      " [ 182 1119]]\n",
      "3. recall_score:  0.8601076095311299\n",
      "4. precision_score:  0.8215859030837004\n",
      "5. f1_score:  0.8404055576417574\n",
      "6. Biểu đồ ROC của mô hình:\n"
     ]
    },
    {
     "name": "stderr",
     "output_type": "stream",
     "text": [
      "/home/hikaru/.local/lib/python3.8/site-packages/sklearn/utils/deprecation.py:87: FutureWarning: Function plot_roc_curve is deprecated; Function :func:`plot_roc_curve` is deprecated in 1.0 and will be removed in 1.2. Use one of the class methods: :meth:`sklearn.metric.RocCurveDisplay.from_predictions` or :meth:`sklearn.metric.RocCurveDisplay.from_estimator`.\n",
      "  warnings.warn(msg, category=FutureWarning)\n"
     ]
    },
    {
     "data": {
      "image/png": "[encoded data removed]",
      "text/plain": [
       "<Figure size 432x288 with 1 Axes>"
      ]
     },
     "metadata": {
      "needs_background": "light"
     },
     "output_type": "display_data"
    }
   ],
   "source": [
    "from sklearn.ensemble import RandomForestClassifier\n",
    "\n",
    "rfc=RandomForestClassifier(n_jobs=-1,random_state=43)\n",
    "#learning\n",
    "rfc.fit(X_train,Y_train)\n",
    "#Prediction\n",
    "rfcprediction=rfc.predict(X_test)\n",
    "\n",
    "evaluate_model (rfc, X_test, y_test, rfcprediction)\n"
   ]
  },
  {
   "cell_type": "markdown",
   "metadata": {
    "id": "Lrsi70oirRzh"
   },
   "source": [
    "**SVM Classifier**"
   ]
  },
  {
   "cell_type": "code",
   "execution_count": 30,
   "metadata": {
    "colab": {
     "base_uri": "https://localhost:8080/",
     "height": 762
    },
    "id": "Jw3weoEjrOA-",
    "outputId": "c29927ac-a7a8-4eff-8b49-13583316438b"
   },
   "outputs": [],
   "source": [
    "# from sklearn import svm\n",
    "# #making the instance\n",
    "# svc = svm.SVC(random_state=123)\n",
    "# #learning\n",
    "# svc.fit(X_train,Y_train)\n",
    "# #Prediction\n",
    "# svcprediction=svc.predict(X_test)\n",
    "\n",
    "# evaluate_model (svc, X_test, y_test, svcprediction)"
   ]
  },
  {
   "cell_type": "markdown",
   "metadata": {
    "id": "fQx_zcFCrcHJ"
   },
   "source": [
    "**K-NearestNeighbours Classifier**"
   ]
  },
  {
   "cell_type": "code",
   "execution_count": 31,
   "metadata": {
    "colab": {
     "base_uri": "https://localhost:8080/",
     "height": 762
    },
    "id": "mowRL2N5rXxt",
    "outputId": "13c3f6a9-7d8e-48e4-d9ee-f1e5b875a90f"
   },
   "outputs": [],
   "source": [
    "# from sklearn.neighbors import KNeighborsClassifier\n",
    "# #making the instance\n",
    "# knn = KNeighborsClassifier()\n",
    "# #learning\n",
    "# knn.fit(X_train,Y_train)\n",
    "# #Prediction\n",
    "# knnprediction=knn.predict(X_test)\n",
    "\n",
    "# evaluate_model (knn, X_test, y_test, knnprediction)"
   ]
  },
  {
   "cell_type": "markdown",
   "metadata": {
    "id": "uzixDQHKuCZ1"
   },
   "source": [
    "**Ada Boost**"
   ]
  },
  {
   "cell_type": "code",
   "execution_count": 32,
   "metadata": {
    "colab": {
     "base_uri": "https://localhost:8080/",
     "height": 762
    },
    "id": "PzHkDqlKrkC8",
    "outputId": "237473e5-86e7-4248-b653-943cf217cbb9"
   },
   "outputs": [],
   "source": [
    "# from sklearn.ensemble import AdaBoostClassifier\n",
    "\n",
    "# ada_model = AdaBoostClassifier(n_estimators=200, random_state=44)\n",
    "\n",
    "# #learning\n",
    "# ada_model.fit(X_train,Y_train)\n",
    "# #Prediction\n",
    "# ada_modelprediction=ada_model.predict(X_test)\n",
    "\n",
    "# evaluate_model (ada_model, X_test, y_test, ada_modelprediction)"
   ]
  },
  {
   "cell_type": "markdown",
   "metadata": {
    "id": "76xn-4l8ukYZ"
   },
   "source": [
    "**XGB Classifier**"
   ]
  },
  {
   "cell_type": "code",
   "execution_count": 33,
   "metadata": {
    "colab": {
     "base_uri": "https://localhost:8080/",
     "height": 762
    },
    "id": "V6Trgh2Jupi4",
    "outputId": "d54b63f8-09c0-4863-ab7b-3b17ee6fac30",
    "scrolled": true
   },
   "outputs": [
    {
     "name": "stdout",
     "output_type": "stream",
     "text": [
      "Các chỉ số đánh giá mức độ hiệu quả của mô hình: \n",
      "1. Accuracy: 0.8329501915708812\n",
      "2. confusion_matrix:\n",
      "[[1062  250]\n",
      " [ 186 1112]]\n",
      "3. recall_score:  0.8567026194144838\n",
      "4. precision_score:  0.8164464023494861\n",
      "5. f1_score:  0.8360902255639098\n",
      "6. Biểu đồ ROC của mô hình:\n"
     ]
    },
    {
     "name": "stderr",
     "output_type": "stream",
     "text": [
      "/home/hikaru/.local/lib/python3.8/site-packages/sklearn/utils/deprecation.py:87: FutureWarning: Function plot_roc_curve is deprecated; Function :func:`plot_roc_curve` is deprecated in 1.0 and will be removed in 1.2. Use one of the class methods: :meth:`sklearn.metric.RocCurveDisplay.from_predictions` or :meth:`sklearn.metric.RocCurveDisplay.from_estimator`.\n",
      "  warnings.warn(msg, category=FutureWarning)\n"
     ]
    },
    {
     "data": {
      "image/png": "[encoded data removed]",
      "text/plain": [
       "<Figure size 432x288 with 1 Axes>"
      ]
     },
     "metadata": {
      "needs_background": "light"
     },
     "output_type": "display_data"
    }
   ],
   "source": [
    "from xgboost import XGBClassifier\n",
    "\n",
    "XGB_1 = XGBClassifier(objective='binary:logistic',scale_pos_weight=1,n_estimators=85, eta=0.3, subsample=1, colsample_bytree=1)\n",
    "\n",
    "#learning\n",
    "XGB_1.fit(X_train,Y_train)\n",
    "#Prediction\n",
    "XGB_modelprediction=XGB_1.predict(X_test)\n",
    "\n",
    "evaluate_model (XGB_1, X_test, y_test, XGB_modelprediction)"
   ]
  },
  {
   "cell_type": "markdown",
   "metadata": {
    "id": "1NMfpUOli4jn"
   },
   "source": [
    "**XGB Classifier Ver_2**"
   ]
  },
  {
   "cell_type": "code",
   "execution_count": 34,
   "metadata": {
    "colab": {
     "base_uri": "https://localhost:8080/",
     "height": 762
    },
    "id": "pbDiEglLi4PM",
    "outputId": "aad68a53-813b-405f-fa3e-26809438d357"
   },
   "outputs": [
    {
     "name": "stdout",
     "output_type": "stream",
     "text": [
      "Các chỉ số đánh giá mức độ hiệu quả của mô hình: \n",
      "1. Accuracy: 0.831800766283525\n",
      "2. confusion_matrix:\n",
      "[[1063  254]\n",
      " [ 185 1108]]\n",
      "3. recall_score:  0.8569218870843001\n",
      "4. precision_score:  0.8135095447870778\n",
      "5. f1_score:  0.8346516007532956\n",
      "6. Biểu đồ ROC của mô hình:\n"
     ]
    },
    {
     "name": "stderr",
     "output_type": "stream",
     "text": [
      "/home/hikaru/.local/lib/python3.8/site-packages/sklearn/utils/deprecation.py:87: FutureWarning: Function plot_roc_curve is deprecated; Function :func:`plot_roc_curve` is deprecated in 1.0 and will be removed in 1.2. Use one of the class methods: :meth:`sklearn.metric.RocCurveDisplay.from_predictions` or :meth:`sklearn.metric.RocCurveDisplay.from_estimator`.\n",
      "  warnings.warn(msg, category=FutureWarning)\n"
     ]
    },
    {
     "data": {
      "image/png": "[encoded data removed]",
      "text/plain": [
       "<Figure size 432x288 with 1 Axes>"
      ]
     },
     "metadata": {
      "needs_background": "light"
     },
     "output_type": "display_data"
    }
   ],
   "source": [
    "xgb_2 = XGBClassifier(learning_rate=0.4,max_depth=7)\n",
    "#learning\n",
    "xgb_2.fit(X_train,Y_train)\n",
    "#Prediction\n",
    "xgb_2_modelprediction_v2=xgb_2.predict(X_test)\n",
    "\n",
    "evaluate_model (xgb_2, X_test, y_test, xgb_2_modelprediction_v2)"
   ]
  },
  {
   "cell_type": "code",
   "execution_count": 35,
   "metadata": {
    "colab": {
     "base_uri": "https://localhost:8080/",
     "height": 762
    },
    "id": "9Ce6k-h-kbHj",
    "outputId": "f2ad2091-0856-4fd1-84ca-e89993592f57"
   },
   "outputs": [
    {
     "name": "stdout",
     "output_type": "stream",
     "text": [
      "Các chỉ số đánh giá mức độ hiệu quả của mô hình: \n",
      "1. Accuracy: 0.831800766283525\n",
      "2. confusion_matrix:\n",
      "[[1063  254]\n",
      " [ 185 1108]]\n",
      "3. recall_score:  0.8569218870843001\n",
      "4. precision_score:  0.8135095447870778\n",
      "5. f1_score:  0.8346516007532956\n",
      "6. Biểu đồ ROC của mô hình:\n"
     ]
    },
    {
     "name": "stderr",
     "output_type": "stream",
     "text": [
      "/home/hikaru/.local/lib/python3.8/site-packages/sklearn/utils/deprecation.py:87: FutureWarning: Function plot_roc_curve is deprecated; Function :func:`plot_roc_curve` is deprecated in 1.0 and will be removed in 1.2. Use one of the class methods: :meth:`sklearn.metric.RocCurveDisplay.from_predictions` or :meth:`sklearn.metric.RocCurveDisplay.from_estimator`.\n",
      "  warnings.warn(msg, category=FutureWarning)\n"
     ]
    },
    {
     "data": {
      "image/png": "[encoded data removed]",
      "text/plain": [
       "<Figure size 432x288 with 1 Axes>"
      ]
     },
     "metadata": {
      "needs_background": "light"
     },
     "output_type": "display_data"
    }
   ],
   "source": [
    "from xgboost import XGBClassifier\n",
    "\n",
    "# instantiate the model\n",
    "xgb_3 = XGBClassifier(learning_rate=0.4,max_depth=7)\n",
    "#fit the model\n",
    "xgb_3.fit(X_train, Y_train)\n",
    "\n",
    "#predicting the target value from the model for the samples\n",
    "y_test_xgb = xgb_3.predict(X_test)\n",
    "\n",
    "evaluate_model (xgb_3, X_test, y_test, y_test_xgb)"
   ]
  },
  {
   "cell_type": "markdown",
   "metadata": {
    "id": "yOWlC_Elcekj"
   },
   "source": [
    "**Light GBM**"
   ]
  },
  {
   "cell_type": "code",
   "execution_count": 36,
   "metadata": {
    "colab": {
     "base_uri": "https://localhost:8080/",
     "height": 762
    },
    "id": "u2IIPoRKcoWF",
    "outputId": "e5d2012a-daeb-467c-d298-6da2fb8242f8"
   },
   "outputs": [],
   "source": [
    "# from lightgbm import LGBMClassifier\n",
    "\n",
    "# lgbm_clf = LGBMClassifier(n_estimators=1000, objective='binary',\n",
    "#                           class_weight={0:25, 1:1}, learning_rate=0.01,\n",
    "#                           boosting_type='dart')\n",
    "# lgbm_clf.fit(X_train, Y_train)\n",
    "\n",
    "# #Prediction\n",
    "# LGBM_modelprediction=lgbm_clf.predict(X_test)\n",
    "\n",
    "# evaluate_model (lgbm_clf, X_test, y_test, LGBM_modelprediction)"
   ]
  },
  {
   "cell_type": "markdown",
   "metadata": {
    "id": "npv91YsHcrwE"
   },
   "source": [
    "**Voting Classifier**"
   ]
  },
  {
   "cell_type": "code",
   "execution_count": 37,
   "metadata": {
    "colab": {
     "base_uri": "https://localhost:8080/",
     "height": 762
    },
    "id": "6qF_0VMlcyWC",
    "outputId": "7491daa2-2508-4722-9973-af0318d7c9ed"
   },
   "outputs": [
    {
     "name": "stdout",
     "output_type": "stream",
     "text": [
      "Các chỉ số đánh giá mức độ hiệu quả của mô hình: \n",
      "1. Accuracy: 0.8333333333333334\n",
      "2. confusion_matrix:\n",
      "[[1099  286]\n",
      " [ 149 1076]]\n",
      "3. recall_score:  0.8783673469387755\n",
      "4. precision_score:  0.7900146842878121\n",
      "5. f1_score:  0.8318515655199072\n",
      "6. Biểu đồ ROC của mô hình:\n"
     ]
    },
    {
     "name": "stderr",
     "output_type": "stream",
     "text": [
      "/home/hikaru/.local/lib/python3.8/site-packages/sklearn/utils/deprecation.py:87: FutureWarning: Function plot_roc_curve is deprecated; Function :func:`plot_roc_curve` is deprecated in 1.0 and will be removed in 1.2. Use one of the class methods: :meth:`sklearn.metric.RocCurveDisplay.from_predictions` or :meth:`sklearn.metric.RocCurveDisplay.from_estimator`.\n",
      "  warnings.warn(msg, category=FutureWarning)\n"
     ]
    },
    {
     "data": {
      "image/png": "[encoded data removed]",
      "text/plain": [
       "<Figure size 432x288 with 1 Axes>"
      ]
     },
     "metadata": {
      "needs_background": "light"
     },
     "output_type": "display_data"
    }
   ],
   "source": [
    "from sklearn.ensemble import RandomForestClassifier, GradientBoostingClassifier, \\\n",
    "    ExtraTreesClassifier, VotingClassifier\n",
    "\n",
    "clf1 = RandomForestClassifier(n_estimators=200, class_weight={0: 100, 1: 1})\n",
    "clf2 = GradientBoostingClassifier(n_estimators=1000, max_depth=7)\n",
    "clf3 = ExtraTreesClassifier(n_estimators=1000, class_weight={0: 100, 1: 1})\n",
    "clf4 = XGBClassifier(n_estimators=1000, max_depth=5, learning_rate=0.01)\n",
    "pos_clf = VotingClassifier(estimators=[('pos', clf1), ('gb', clf2),\n",
    "                                        ('et', clf3), ('xgb', clf4)],\n",
    "                            voting='soft',\n",
    "                            weights=[1, 2, 1, 1])\n",
    "\n",
    "pos_clf.fit(X_train, Y_train)\n",
    "\n",
    "#Prediction\n",
    "Vot_modelprediction=pos_clf.predict(X_test)\n",
    "\n",
    "evaluate_model (pos_clf, X_test, y_test, Vot_modelprediction)"
   ]
  },
  {
   "cell_type": "markdown",
   "metadata": {
    "id": "7P5B0NqfH1gX"
   },
   "source": [
    "**Gradient Boosting Classifier**"
   ]
  },
  {
   "cell_type": "code",
   "execution_count": 38,
   "metadata": {
    "colab": {
     "base_uri": "https://localhost:8080/",
     "height": 762
    },
    "id": "Lc9ipfP1JODI",
    "outputId": "1a188f66-806c-41fd-afe4-aa40976466bc"
   },
   "outputs": [
    {
     "name": "stdout",
     "output_type": "stream",
     "text": [
      "Các chỉ số đánh giá mức độ hiệu quả của mô hình: \n",
      "1. Accuracy: 0.8340996168582375\n",
      "2. confusion_matrix:\n",
      "[[1056  241]\n",
      " [ 192 1121]]\n",
      "3. recall_score:  0.8537699923838538\n",
      "4. precision_score:  0.8230543318649045\n",
      "5. f1_score:  0.8381308411214952\n",
      "6. Biểu đồ ROC của mô hình:\n"
     ]
    },
    {
     "name": "stderr",
     "output_type": "stream",
     "text": [
      "/home/hikaru/.local/lib/python3.8/site-packages/sklearn/utils/deprecation.py:87: FutureWarning: Function plot_roc_curve is deprecated; Function :func:`plot_roc_curve` is deprecated in 1.0 and will be removed in 1.2. Use one of the class methods: :meth:`sklearn.metric.RocCurveDisplay.from_predictions` or :meth:`sklearn.metric.RocCurveDisplay.from_estimator`.\n",
      "  warnings.warn(msg, category=FutureWarning)\n"
     ]
    },
    {
     "data": {
      "image/png": "[encoded data removed]",
      "text/plain": [
       "<Figure size 432x288 with 1 Axes>"
      ]
     },
     "metadata": {
      "needs_background": "light"
     },
     "output_type": "display_data"
    }
   ],
   "source": [
    "from sklearn.ensemble import RandomForestClassifier, GradientBoostingClassifier, \\\n",
    "    ExtraTreesClassifier, VotingClassifier\n",
    "\n",
    "GBoost = GradientBoostingClassifier(n_estimators=1000, max_depth=7)\n",
    "\n",
    "\n",
    "GBoost.fit(X_train, Y_train)\n",
    "\n",
    "#Prediction\n",
    "GBoost_modelprediction=GBoost.predict(X_test)\n",
    "\n",
    "evaluate_model (GBoost, X_test, y_test, GBoost_modelprediction)"
   ]
  },
  {
   "cell_type": "markdown",
   "metadata": {
    "id": "un9ItsRtJdtU"
   },
   "source": [
    "**Extra Trees Classifier**"
   ]
  },
  {
   "cell_type": "code",
   "execution_count": 39,
   "metadata": {
    "colab": {
     "base_uri": "https://localhost:8080/",
     "height": 762
    },
    "id": "r0eqRymXJi-F",
    "outputId": "e79aa58b-5290-47d1-99c0-b73d5b38305f"
   },
   "outputs": [
    {
     "name": "stdout",
     "output_type": "stream",
     "text": [
      "Các chỉ số đánh giá mức độ hiệu quả của mô hình: \n",
      "1. Accuracy: 0.8172413793103448\n",
      "2. confusion_matrix:\n",
      "[[1099  328]\n",
      " [ 149 1034]]\n",
      "3. recall_score:  0.8740490278951818\n",
      "4. precision_score:  0.7591776798825257\n",
      "5. f1_score:  0.812573673870334\n",
      "6. Biểu đồ ROC của mô hình:\n"
     ]
    },
    {
     "name": "stderr",
     "output_type": "stream",
     "text": [
      "/home/hikaru/.local/lib/python3.8/site-packages/sklearn/utils/deprecation.py:87: FutureWarning: Function plot_roc_curve is deprecated; Function :func:`plot_roc_curve` is deprecated in 1.0 and will be removed in 1.2. Use one of the class methods: :meth:`sklearn.metric.RocCurveDisplay.from_predictions` or :meth:`sklearn.metric.RocCurveDisplay.from_estimator`.\n",
      "  warnings.warn(msg, category=FutureWarning)\n"
     ]
    },
    {
     "data": {
      "image/png": "[encoded data removed]",
      "text/plain": [
       "<Figure size 432x288 with 1 Axes>"
      ]
     },
     "metadata": {
      "needs_background": "light"
     },
     "output_type": "display_data"
    }
   ],
   "source": [
    "from sklearn.ensemble import RandomForestClassifier, GradientBoostingClassifier, \\\n",
    "    ExtraTreesClassifier, VotingClassifier\n",
    "\n",
    "Extra = ExtraTreesClassifier(n_estimators=1000, class_weight={0: 100, 1: 1})\n",
    "\n",
    "\n",
    "Extra.fit(X_train, Y_train)\n",
    "\n",
    "#Prediction\n",
    "Extra_modelprediction=Extra.predict(X_test)\n",
    "\n",
    "evaluate_model (Extra, X_test, y_test, Extra_modelprediction)"
   ]
  },
  {
   "cell_type": "markdown",
   "metadata": {
    "id": "2xEo4ztNjPLn"
   },
   "source": [
    "**Cat Boosting**"
   ]
  },
  {
   "cell_type": "code",
   "execution_count": 40,
   "metadata": {
    "colab": {
     "base_uri": "https://localhost:8080/"
    },
    "id": "IrxhKhWaj0QS",
    "outputId": "51f2ae41-6358-4e54-9475-f02eba0b8cae"
   },
   "outputs": [],
   "source": [
    "# pip install catboost"
   ]
  },
  {
   "cell_type": "code",
   "execution_count": 41,
   "metadata": {
    "colab": {
     "base_uri": "https://localhost:8080/",
     "height": 1000
    },
    "id": "mIpk6t8Bjh9U",
    "outputId": "65f8e370-c13d-49da-9f93-fa9bbca72d97"
   },
   "outputs": [
    {
     "name": "stdout",
     "output_type": "stream",
     "text": [
      "0:\tlearn: 0.6613562\ttotal: 59.3ms\tremaining: 59.3s\n",
      "1:\tlearn: 0.6337067\ttotal: 69.3ms\tremaining: 34.6s\n",
      "2:\tlearn: 0.6163864\ttotal: 77.7ms\tremaining: 25.8s\n",
      "3:\tlearn: 0.5989057\ttotal: 86.3ms\tremaining: 21.5s\n",
      "4:\tlearn: 0.5831416\ttotal: 94.9ms\tremaining: 18.9s\n",
      "5:\tlearn: 0.5692779\ttotal: 104ms\tremaining: 17.2s\n",
      "6:\tlearn: 0.5554844\ttotal: 112ms\tremaining: 15.9s\n",
      "7:\tlearn: 0.5465455\ttotal: 120ms\tremaining: 14.9s\n",
      "8:\tlearn: 0.5372219\ttotal: 128ms\tremaining: 14.1s\n",
      "9:\tlearn: 0.5270038\ttotal: 136ms\tremaining: 13.5s\n",
      "10:\tlearn: 0.5212862\ttotal: 145ms\tremaining: 13s\n",
      "11:\tlearn: 0.5149138\ttotal: 152ms\tremaining: 12.5s\n",
      "12:\tlearn: 0.5086872\ttotal: 160ms\tremaining: 12.2s\n",
      "13:\tlearn: 0.5039034\ttotal: 169ms\tremaining: 11.9s\n",
      "14:\tlearn: 0.4988641\ttotal: 179ms\tremaining: 11.8s\n",
      "15:\tlearn: 0.4940374\ttotal: 187ms\tremaining: 11.5s\n",
      "16:\tlearn: 0.4907496\ttotal: 195ms\tremaining: 11.3s\n",
      "17:\tlearn: 0.4841206\ttotal: 202ms\tremaining: 11s\n",
      "18:\tlearn: 0.4790956\ttotal: 210ms\tremaining: 10.8s\n",
      "19:\tlearn: 0.4727099\ttotal: 217ms\tremaining: 10.6s\n",
      "20:\tlearn: 0.4658988\ttotal: 223ms\tremaining: 10.4s\n",
      "21:\tlearn: 0.4606546\ttotal: 232ms\tremaining: 10.3s\n",
      "22:\tlearn: 0.4565327\ttotal: 238ms\tremaining: 10.1s\n",
      "23:\tlearn: 0.4540033\ttotal: 245ms\tremaining: 9.96s\n",
      "24:\tlearn: 0.4504264\ttotal: 252ms\tremaining: 9.81s\n",
      "25:\tlearn: 0.4489098\ttotal: 258ms\tremaining: 9.68s\n",
      "26:\tlearn: 0.4467058\ttotal: 265ms\tremaining: 9.56s\n",
      "27:\tlearn: 0.4432399\ttotal: 273ms\tremaining: 9.48s\n",
      "28:\tlearn: 0.4396525\ttotal: 283ms\tremaining: 9.46s\n",
      "29:\tlearn: 0.4379781\ttotal: 289ms\tremaining: 9.35s\n",
      "30:\tlearn: 0.4354347\ttotal: 296ms\tremaining: 9.25s\n",
      "31:\tlearn: 0.4322716\ttotal: 303ms\tremaining: 9.16s\n",
      "32:\tlearn: 0.4285768\ttotal: 311ms\tremaining: 9.11s\n",
      "33:\tlearn: 0.4271157\ttotal: 317ms\tremaining: 9s\n",
      "34:\tlearn: 0.4253206\ttotal: 324ms\tremaining: 8.92s\n",
      "35:\tlearn: 0.4221672\ttotal: 330ms\tremaining: 8.84s\n",
      "36:\tlearn: 0.4206691\ttotal: 336ms\tremaining: 8.74s\n",
      "37:\tlearn: 0.4205576\ttotal: 338ms\tremaining: 8.56s\n",
      "38:\tlearn: 0.4192213\ttotal: 344ms\tremaining: 8.47s\n",
      "39:\tlearn: 0.4173092\ttotal: 350ms\tremaining: 8.4s\n",
      "40:\tlearn: 0.4148096\ttotal: 358ms\tremaining: 8.38s\n",
      "41:\tlearn: 0.4127885\ttotal: 365ms\tremaining: 8.32s\n",
      "42:\tlearn: 0.4101280\ttotal: 371ms\tremaining: 8.26s\n",
      "43:\tlearn: 0.4090247\ttotal: 378ms\tremaining: 8.2s\n",
      "44:\tlearn: 0.4078407\ttotal: 384ms\tremaining: 8.14s\n",
      "45:\tlearn: 0.4053344\ttotal: 390ms\tremaining: 8.09s\n",
      "46:\tlearn: 0.4036899\ttotal: 397ms\tremaining: 8.04s\n",
      "47:\tlearn: 0.4023311\ttotal: 403ms\tremaining: 7.99s\n",
      "48:\tlearn: 0.4013653\ttotal: 409ms\tremaining: 7.94s\n",
      "49:\tlearn: 0.3997713\ttotal: 416ms\tremaining: 7.9s\n",
      "50:\tlearn: 0.3994999\ttotal: 422ms\tremaining: 7.85s\n",
      "51:\tlearn: 0.3991805\ttotal: 428ms\tremaining: 7.81s\n",
      "52:\tlearn: 0.3982144\ttotal: 435ms\tremaining: 7.78s\n",
      "53:\tlearn: 0.3953665\ttotal: 442ms\tremaining: 7.75s\n",
      "54:\tlearn: 0.3932525\ttotal: 449ms\tremaining: 7.72s\n",
      "55:\tlearn: 0.3912491\ttotal: 457ms\tremaining: 7.71s\n",
      "56:\tlearn: 0.3902959\ttotal: 464ms\tremaining: 7.68s\n",
      "57:\tlearn: 0.3887399\ttotal: 472ms\tremaining: 7.66s\n",
      "58:\tlearn: 0.3881339\ttotal: 479ms\tremaining: 7.64s\n",
      "59:\tlearn: 0.3874592\ttotal: 487ms\tremaining: 7.63s\n",
      "60:\tlearn: 0.3864926\ttotal: 495ms\tremaining: 7.62s\n",
      "61:\tlearn: 0.3857181\ttotal: 502ms\tremaining: 7.59s\n",
      "62:\tlearn: 0.3836987\ttotal: 509ms\tremaining: 7.57s\n",
      "63:\tlearn: 0.3827214\ttotal: 515ms\tremaining: 7.54s\n",
      "64:\tlearn: 0.3811861\ttotal: 522ms\tremaining: 7.51s\n",
      "65:\tlearn: 0.3805881\ttotal: 529ms\tremaining: 7.48s\n",
      "66:\tlearn: 0.3801908\ttotal: 535ms\tremaining: 7.45s\n",
      "67:\tlearn: 0.3796750\ttotal: 541ms\tremaining: 7.42s\n",
      "68:\tlearn: 0.3787202\ttotal: 548ms\tremaining: 7.39s\n",
      "69:\tlearn: 0.3783260\ttotal: 554ms\tremaining: 7.36s\n",
      "70:\tlearn: 0.3775689\ttotal: 561ms\tremaining: 7.33s\n",
      "71:\tlearn: 0.3773476\ttotal: 567ms\tremaining: 7.31s\n",
      "72:\tlearn: 0.3764119\ttotal: 574ms\tremaining: 7.29s\n",
      "73:\tlearn: 0.3762690\ttotal: 581ms\tremaining: 7.27s\n",
      "74:\tlearn: 0.3751955\ttotal: 588ms\tremaining: 7.25s\n",
      "75:\tlearn: 0.3732176\ttotal: 595ms\tremaining: 7.23s\n",
      "76:\tlearn: 0.3726729\ttotal: 601ms\tremaining: 7.2s\n",
      "77:\tlearn: 0.3725262\ttotal: 607ms\tremaining: 7.17s\n",
      "78:\tlearn: 0.3719824\ttotal: 613ms\tremaining: 7.15s\n",
      "79:\tlearn: 0.3715613\ttotal: 619ms\tremaining: 7.12s\n",
      "80:\tlearn: 0.3714774\ttotal: 625ms\tremaining: 7.1s\n",
      "81:\tlearn: 0.3698582\ttotal: 632ms\tremaining: 7.08s\n",
      "82:\tlearn: 0.3695190\ttotal: 639ms\tremaining: 7.05s\n",
      "83:\tlearn: 0.3683698\ttotal: 646ms\tremaining: 7.04s\n",
      "84:\tlearn: 0.3674650\ttotal: 654ms\tremaining: 7.04s\n",
      "85:\tlearn: 0.3671202\ttotal: 667ms\tremaining: 7.08s\n",
      "86:\tlearn: 0.3665760\ttotal: 674ms\tremaining: 7.07s\n",
      "87:\tlearn: 0.3659841\ttotal: 683ms\tremaining: 7.08s\n",
      "88:\tlearn: 0.3640300\ttotal: 692ms\tremaining: 7.08s\n",
      "89:\tlearn: 0.3624532\ttotal: 700ms\tremaining: 7.08s\n",
      "90:\tlearn: 0.3619670\ttotal: 708ms\tremaining: 7.07s\n",
      "91:\tlearn: 0.3594699\ttotal: 716ms\tremaining: 7.07s\n",
      "92:\tlearn: 0.3581471\ttotal: 724ms\tremaining: 7.06s\n",
      "93:\tlearn: 0.3569473\ttotal: 731ms\tremaining: 7.05s\n",
      "94:\tlearn: 0.3557226\ttotal: 738ms\tremaining: 7.03s\n",
      "95:\tlearn: 0.3551588\ttotal: 745ms\tremaining: 7.01s\n",
      "96:\tlearn: 0.3537215\ttotal: 752ms\tremaining: 7s\n",
      "97:\tlearn: 0.3533512\ttotal: 760ms\tremaining: 6.99s\n",
      "98:\tlearn: 0.3524982\ttotal: 769ms\tremaining: 7s\n",
      "99:\tlearn: 0.3519738\ttotal: 779ms\tremaining: 7.01s\n",
      "100:\tlearn: 0.3519424\ttotal: 788ms\tremaining: 7.02s\n",
      "101:\tlearn: 0.3507208\ttotal: 798ms\tremaining: 7.03s\n",
      "102:\tlearn: 0.3496696\ttotal: 808ms\tremaining: 7.03s\n",
      "103:\tlearn: 0.3486788\ttotal: 817ms\tremaining: 7.04s\n",
      "104:\tlearn: 0.3470760\ttotal: 825ms\tremaining: 7.03s\n",
      "105:\tlearn: 0.3465116\ttotal: 833ms\tremaining: 7.02s\n",
      "106:\tlearn: 0.3452727\ttotal: 841ms\tremaining: 7.02s\n",
      "107:\tlearn: 0.3452229\ttotal: 848ms\tremaining: 7s\n",
      "108:\tlearn: 0.3447355\ttotal: 855ms\tremaining: 6.99s\n",
      "109:\tlearn: 0.3436723\ttotal: 862ms\tremaining: 6.98s\n",
      "110:\tlearn: 0.3427682\ttotal: 872ms\tremaining: 6.98s\n",
      "111:\tlearn: 0.3422445\ttotal: 882ms\tremaining: 6.99s\n",
      "112:\tlearn: 0.3414292\ttotal: 890ms\tremaining: 6.99s\n",
      "113:\tlearn: 0.3404344\ttotal: 898ms\tremaining: 6.98s\n",
      "114:\tlearn: 0.3394820\ttotal: 905ms\tremaining: 6.97s\n",
      "115:\tlearn: 0.3386458\ttotal: 913ms\tremaining: 6.96s\n",
      "116:\tlearn: 0.3375402\ttotal: 921ms\tremaining: 6.95s\n",
      "117:\tlearn: 0.3371451\ttotal: 928ms\tremaining: 6.94s\n",
      "118:\tlearn: 0.3362105\ttotal: 935ms\tremaining: 6.92s\n",
      "119:\tlearn: 0.3354598\ttotal: 943ms\tremaining: 6.92s\n",
      "120:\tlearn: 0.3344029\ttotal: 952ms\tremaining: 6.91s\n",
      "121:\tlearn: 0.3341780\ttotal: 961ms\tremaining: 6.91s\n",
      "122:\tlearn: 0.3339054\ttotal: 968ms\tremaining: 6.9s\n",
      "123:\tlearn: 0.3333333\ttotal: 977ms\tremaining: 6.9s\n",
      "124:\tlearn: 0.3331679\ttotal: 984ms\tremaining: 6.89s\n",
      "125:\tlearn: 0.3319252\ttotal: 992ms\tremaining: 6.88s\n",
      "126:\tlearn: 0.3307647\ttotal: 1s\tremaining: 6.88s\n",
      "127:\tlearn: 0.3305346\ttotal: 1.01s\tremaining: 6.88s\n",
      "128:\tlearn: 0.3304312\ttotal: 1.02s\tremaining: 6.86s\n",
      "129:\tlearn: 0.3300798\ttotal: 1.02s\tremaining: 6.85s\n",
      "130:\tlearn: 0.3288241\ttotal: 1.03s\tremaining: 6.84s\n",
      "131:\tlearn: 0.3281406\ttotal: 1.04s\tremaining: 6.83s\n",
      "132:\tlearn: 0.3277028\ttotal: 1.04s\tremaining: 6.82s\n",
      "133:\tlearn: 0.3268367\ttotal: 1.05s\tremaining: 6.81s\n",
      "134:\tlearn: 0.3260484\ttotal: 1.06s\tremaining: 6.8s\n",
      "135:\tlearn: 0.3256400\ttotal: 1.07s\tremaining: 6.8s\n",
      "136:\tlearn: 0.3249362\ttotal: 1.08s\tremaining: 6.79s\n",
      "137:\tlearn: 0.3246530\ttotal: 1.08s\tremaining: 6.78s\n",
      "138:\tlearn: 0.3236245\ttotal: 1.09s\tremaining: 6.77s\n",
      "139:\tlearn: 0.3230068\ttotal: 1.1s\tremaining: 6.76s\n",
      "140:\tlearn: 0.3222982\ttotal: 1.11s\tremaining: 6.75s\n",
      "141:\tlearn: 0.3221718\ttotal: 1.11s\tremaining: 6.73s\n",
      "142:\tlearn: 0.3213804\ttotal: 1.12s\tremaining: 6.72s\n",
      "143:\tlearn: 0.3211260\ttotal: 1.13s\tremaining: 6.72s\n",
      "144:\tlearn: 0.3211185\ttotal: 1.14s\tremaining: 6.7s\n",
      "145:\tlearn: 0.3205506\ttotal: 1.15s\tremaining: 6.7s\n",
      "146:\tlearn: 0.3197729\ttotal: 1.15s\tremaining: 6.7s\n",
      "147:\tlearn: 0.3188831\ttotal: 1.17s\tremaining: 6.71s\n",
      "148:\tlearn: 0.3177888\ttotal: 1.17s\tremaining: 6.7s\n",
      "149:\tlearn: 0.3172213\ttotal: 1.18s\tremaining: 6.69s\n",
      "150:\tlearn: 0.3167484\ttotal: 1.19s\tremaining: 6.68s\n",
      "151:\tlearn: 0.3161076\ttotal: 1.2s\tremaining: 6.68s\n",
      "152:\tlearn: 0.3157362\ttotal: 1.21s\tremaining: 6.69s\n",
      "153:\tlearn: 0.3150660\ttotal: 1.22s\tremaining: 6.72s\n",
      "154:\tlearn: 0.3149787\ttotal: 1.23s\tremaining: 6.72s\n",
      "155:\tlearn: 0.3145281\ttotal: 1.24s\tremaining: 6.73s\n",
      "156:\tlearn: 0.3144438\ttotal: 1.25s\tremaining: 6.72s\n",
      "157:\tlearn: 0.3135648\ttotal: 1.26s\tremaining: 6.72s\n",
      "158:\tlearn: 0.3129922\ttotal: 1.27s\tremaining: 6.72s\n",
      "159:\tlearn: 0.3129795\ttotal: 1.28s\tremaining: 6.71s\n",
      "160:\tlearn: 0.3125163\ttotal: 1.29s\tremaining: 6.71s\n",
      "161:\tlearn: 0.3117500\ttotal: 1.3s\tremaining: 6.71s\n",
      "162:\tlearn: 0.3109277\ttotal: 1.31s\tremaining: 6.71s\n",
      "163:\tlearn: 0.3104895\ttotal: 1.31s\tremaining: 6.7s\n",
      "164:\tlearn: 0.3102204\ttotal: 1.32s\tremaining: 6.7s\n",
      "165:\tlearn: 0.3096471\ttotal: 1.33s\tremaining: 6.68s\n",
      "166:\tlearn: 0.3096262\ttotal: 1.34s\tremaining: 6.67s\n",
      "167:\tlearn: 0.3092799\ttotal: 1.34s\tremaining: 6.66s\n",
      "168:\tlearn: 0.3092736\ttotal: 1.35s\tremaining: 6.65s\n",
      "169:\tlearn: 0.3085729\ttotal: 1.36s\tremaining: 6.64s\n",
      "170:\tlearn: 0.3083158\ttotal: 1.37s\tremaining: 6.62s\n",
      "171:\tlearn: 0.3077064\ttotal: 1.37s\tremaining: 6.61s\n",
      "172:\tlearn: 0.3072398\ttotal: 1.38s\tremaining: 6.6s\n",
      "173:\tlearn: 0.3069323\ttotal: 1.39s\tremaining: 6.58s\n",
      "174:\tlearn: 0.3066321\ttotal: 1.39s\tremaining: 6.57s\n",
      "175:\tlearn: 0.3061131\ttotal: 1.4s\tremaining: 6.56s\n",
      "176:\tlearn: 0.3052898\ttotal: 1.41s\tremaining: 6.55s\n",
      "177:\tlearn: 0.3045149\ttotal: 1.42s\tremaining: 6.54s\n",
      "178:\tlearn: 0.3044799\ttotal: 1.42s\tremaining: 6.53s\n",
      "179:\tlearn: 0.3041801\ttotal: 1.43s\tremaining: 6.52s\n",
      "180:\tlearn: 0.3033791\ttotal: 1.44s\tremaining: 6.51s\n",
      "181:\tlearn: 0.3028953\ttotal: 1.45s\tremaining: 6.5s\n"
     ]
    },
    {
     "name": "stdout",
     "output_type": "stream",
     "text": [
      "182:\tlearn: 0.3026023\ttotal: 1.46s\tremaining: 6.5s\n",
      "183:\tlearn: 0.3017962\ttotal: 1.47s\tremaining: 6.51s\n",
      "184:\tlearn: 0.3016543\ttotal: 1.48s\tremaining: 6.5s\n",
      "185:\tlearn: 0.3014086\ttotal: 1.48s\tremaining: 6.49s\n",
      "186:\tlearn: 0.3007967\ttotal: 1.49s\tremaining: 6.48s\n",
      "187:\tlearn: 0.3007925\ttotal: 1.5s\tremaining: 6.47s\n",
      "188:\tlearn: 0.3007891\ttotal: 1.5s\tremaining: 6.46s\n",
      "189:\tlearn: 0.2999420\ttotal: 1.51s\tremaining: 6.45s\n",
      "190:\tlearn: 0.2998730\ttotal: 1.52s\tremaining: 6.44s\n",
      "191:\tlearn: 0.2997729\ttotal: 1.53s\tremaining: 6.43s\n",
      "192:\tlearn: 0.2989081\ttotal: 1.53s\tremaining: 6.42s\n",
      "193:\tlearn: 0.2982598\ttotal: 1.54s\tremaining: 6.41s\n",
      "194:\tlearn: 0.2979424\ttotal: 1.55s\tremaining: 6.4s\n",
      "195:\tlearn: 0.2973096\ttotal: 1.56s\tremaining: 6.38s\n",
      "196:\tlearn: 0.2968808\ttotal: 1.56s\tremaining: 6.37s\n",
      "197:\tlearn: 0.2961869\ttotal: 1.57s\tremaining: 6.37s\n",
      "198:\tlearn: 0.2961644\ttotal: 1.58s\tremaining: 6.35s\n",
      "199:\tlearn: 0.2959949\ttotal: 1.58s\tremaining: 6.34s\n",
      "200:\tlearn: 0.2953407\ttotal: 1.59s\tremaining: 6.33s\n",
      "201:\tlearn: 0.2952206\ttotal: 1.6s\tremaining: 6.32s\n",
      "202:\tlearn: 0.2947850\ttotal: 1.61s\tremaining: 6.31s\n",
      "203:\tlearn: 0.2947579\ttotal: 1.61s\tremaining: 6.3s\n",
      "204:\tlearn: 0.2947415\ttotal: 1.62s\tremaining: 6.29s\n",
      "205:\tlearn: 0.2943511\ttotal: 1.63s\tremaining: 6.28s\n",
      "206:\tlearn: 0.2937842\ttotal: 1.64s\tremaining: 6.27s\n",
      "207:\tlearn: 0.2935424\ttotal: 1.64s\tremaining: 6.26s\n",
      "208:\tlearn: 0.2931398\ttotal: 1.65s\tremaining: 6.25s\n",
      "209:\tlearn: 0.2926735\ttotal: 1.66s\tremaining: 6.25s\n",
      "210:\tlearn: 0.2925624\ttotal: 1.67s\tremaining: 6.24s\n",
      "211:\tlearn: 0.2919292\ttotal: 1.68s\tremaining: 6.23s\n",
      "212:\tlearn: 0.2915369\ttotal: 1.68s\tremaining: 6.22s\n",
      "213:\tlearn: 0.2909524\ttotal: 1.69s\tremaining: 6.21s\n",
      "214:\tlearn: 0.2904999\ttotal: 1.7s\tremaining: 6.2s\n",
      "215:\tlearn: 0.2898644\ttotal: 1.71s\tremaining: 6.19s\n",
      "216:\tlearn: 0.2894359\ttotal: 1.71s\tremaining: 6.18s\n",
      "217:\tlearn: 0.2889821\ttotal: 1.72s\tremaining: 6.17s\n",
      "218:\tlearn: 0.2885754\ttotal: 1.73s\tremaining: 6.16s\n",
      "219:\tlearn: 0.2884036\ttotal: 1.74s\tremaining: 6.15s\n",
      "220:\tlearn: 0.2883815\ttotal: 1.74s\tremaining: 6.14s\n",
      "221:\tlearn: 0.2875866\ttotal: 1.75s\tremaining: 6.13s\n",
      "222:\tlearn: 0.2873020\ttotal: 1.76s\tremaining: 6.13s\n",
      "223:\tlearn: 0.2868729\ttotal: 1.76s\tremaining: 6.12s\n",
      "224:\tlearn: 0.2861181\ttotal: 1.77s\tremaining: 6.11s\n",
      "225:\tlearn: 0.2861003\ttotal: 1.78s\tremaining: 6.09s\n",
      "226:\tlearn: 0.2856377\ttotal: 1.79s\tremaining: 6.08s\n",
      "227:\tlearn: 0.2855208\ttotal: 1.79s\tremaining: 6.08s\n",
      "228:\tlearn: 0.2851751\ttotal: 1.8s\tremaining: 6.06s\n",
      "229:\tlearn: 0.2850174\ttotal: 1.81s\tremaining: 6.05s\n",
      "230:\tlearn: 0.2842102\ttotal: 1.81s\tremaining: 6.04s\n",
      "231:\tlearn: 0.2834658\ttotal: 1.82s\tremaining: 6.03s\n",
      "232:\tlearn: 0.2828830\ttotal: 1.83s\tremaining: 6.03s\n",
      "233:\tlearn: 0.2822396\ttotal: 1.84s\tremaining: 6.02s\n",
      "234:\tlearn: 0.2818342\ttotal: 1.84s\tremaining: 6.01s\n",
      "235:\tlearn: 0.2815700\ttotal: 1.85s\tremaining: 6s\n",
      "236:\tlearn: 0.2814740\ttotal: 1.86s\tremaining: 5.99s\n",
      "237:\tlearn: 0.2808786\ttotal: 1.87s\tremaining: 5.99s\n",
      "238:\tlearn: 0.2804729\ttotal: 1.88s\tremaining: 5.98s\n",
      "239:\tlearn: 0.2803486\ttotal: 1.89s\tremaining: 5.97s\n",
      "240:\tlearn: 0.2799289\ttotal: 1.89s\tremaining: 5.97s\n",
      "241:\tlearn: 0.2797377\ttotal: 1.9s\tremaining: 5.96s\n",
      "242:\tlearn: 0.2796988\ttotal: 1.91s\tremaining: 5.96s\n",
      "243:\tlearn: 0.2792475\ttotal: 1.92s\tremaining: 5.96s\n",
      "244:\tlearn: 0.2788093\ttotal: 1.93s\tremaining: 5.95s\n",
      "245:\tlearn: 0.2782550\ttotal: 1.94s\tremaining: 5.95s\n",
      "246:\tlearn: 0.2778011\ttotal: 1.95s\tremaining: 5.94s\n",
      "247:\tlearn: 0.2772744\ttotal: 1.96s\tremaining: 5.93s\n",
      "248:\tlearn: 0.2770465\ttotal: 1.97s\tremaining: 5.93s\n",
      "249:\tlearn: 0.2770263\ttotal: 1.97s\tremaining: 5.92s\n",
      "250:\tlearn: 0.2767281\ttotal: 1.98s\tremaining: 5.91s\n",
      "251:\tlearn: 0.2760416\ttotal: 1.99s\tremaining: 5.9s\n",
      "252:\tlearn: 0.2754628\ttotal: 1.99s\tremaining: 5.89s\n",
      "253:\tlearn: 0.2748719\ttotal: 2s\tremaining: 5.88s\n",
      "254:\tlearn: 0.2745516\ttotal: 2.01s\tremaining: 5.87s\n",
      "255:\tlearn: 0.2743889\ttotal: 2.02s\tremaining: 5.87s\n",
      "256:\tlearn: 0.2742388\ttotal: 2.02s\tremaining: 5.86s\n",
      "257:\tlearn: 0.2737595\ttotal: 2.03s\tremaining: 5.85s\n",
      "258:\tlearn: 0.2736337\ttotal: 2.04s\tremaining: 5.84s\n",
      "259:\tlearn: 0.2733307\ttotal: 2.05s\tremaining: 5.83s\n",
      "260:\tlearn: 0.2730971\ttotal: 2.06s\tremaining: 5.82s\n",
      "261:\tlearn: 0.2730939\ttotal: 2.07s\tremaining: 5.83s\n",
      "262:\tlearn: 0.2725242\ttotal: 2.08s\tremaining: 5.83s\n",
      "263:\tlearn: 0.2724322\ttotal: 2.09s\tremaining: 5.82s\n",
      "264:\tlearn: 0.2723234\ttotal: 2.1s\tremaining: 5.83s\n",
      "265:\tlearn: 0.2719517\ttotal: 2.11s\tremaining: 5.82s\n",
      "266:\tlearn: 0.2719204\ttotal: 2.12s\tremaining: 5.81s\n",
      "267:\tlearn: 0.2718860\ttotal: 2.13s\tremaining: 5.81s\n",
      "268:\tlearn: 0.2714893\ttotal: 2.13s\tremaining: 5.8s\n",
      "269:\tlearn: 0.2712696\ttotal: 2.14s\tremaining: 5.79s\n",
      "270:\tlearn: 0.2711001\ttotal: 2.15s\tremaining: 5.78s\n",
      "271:\tlearn: 0.2706329\ttotal: 2.15s\tremaining: 5.77s\n",
      "272:\tlearn: 0.2704328\ttotal: 2.16s\tremaining: 5.76s\n",
      "273:\tlearn: 0.2703268\ttotal: 2.17s\tremaining: 5.75s\n",
      "274:\tlearn: 0.2702140\ttotal: 2.18s\tremaining: 5.74s\n",
      "275:\tlearn: 0.2698337\ttotal: 2.19s\tremaining: 5.73s\n",
      "276:\tlearn: 0.2692534\ttotal: 2.19s\tremaining: 5.72s\n",
      "277:\tlearn: 0.2686060\ttotal: 2.2s\tremaining: 5.72s\n",
      "278:\tlearn: 0.2679581\ttotal: 2.21s\tremaining: 5.71s\n",
      "279:\tlearn: 0.2675368\ttotal: 2.21s\tremaining: 5.7s\n",
      "280:\tlearn: 0.2670498\ttotal: 2.22s\tremaining: 5.69s\n",
      "281:\tlearn: 0.2669193\ttotal: 2.23s\tremaining: 5.68s\n",
      "282:\tlearn: 0.2664624\ttotal: 2.24s\tremaining: 5.67s\n",
      "283:\tlearn: 0.2664405\ttotal: 2.24s\tremaining: 5.66s\n",
      "284:\tlearn: 0.2662307\ttotal: 2.25s\tremaining: 5.65s\n",
      "285:\tlearn: 0.2658380\ttotal: 2.26s\tremaining: 5.64s\n",
      "286:\tlearn: 0.2654227\ttotal: 2.27s\tremaining: 5.63s\n",
      "287:\tlearn: 0.2653496\ttotal: 2.28s\tremaining: 5.63s\n",
      "288:\tlearn: 0.2653299\ttotal: 2.28s\tremaining: 5.62s\n",
      "289:\tlearn: 0.2650656\ttotal: 2.29s\tremaining: 5.61s\n",
      "290:\tlearn: 0.2649329\ttotal: 2.3s\tremaining: 5.61s\n",
      "291:\tlearn: 0.2644184\ttotal: 2.31s\tremaining: 5.6s\n",
      "292:\tlearn: 0.2641068\ttotal: 2.32s\tremaining: 5.59s\n",
      "293:\tlearn: 0.2640899\ttotal: 2.32s\tremaining: 5.58s\n",
      "294:\tlearn: 0.2639535\ttotal: 2.33s\tremaining: 5.57s\n",
      "295:\tlearn: 0.2634859\ttotal: 2.34s\tremaining: 5.56s\n",
      "296:\tlearn: 0.2634335\ttotal: 2.35s\tremaining: 5.55s\n",
      "297:\tlearn: 0.2630254\ttotal: 2.35s\tremaining: 5.55s\n",
      "298:\tlearn: 0.2630227\ttotal: 2.36s\tremaining: 5.54s\n",
      "299:\tlearn: 0.2630198\ttotal: 2.37s\tremaining: 5.53s\n",
      "300:\tlearn: 0.2629237\ttotal: 2.38s\tremaining: 5.52s\n",
      "301:\tlearn: 0.2629214\ttotal: 2.38s\tremaining: 5.51s\n",
      "302:\tlearn: 0.2624782\ttotal: 2.39s\tremaining: 5.5s\n",
      "303:\tlearn: 0.2620146\ttotal: 2.4s\tremaining: 5.5s\n",
      "304:\tlearn: 0.2620127\ttotal: 2.41s\tremaining: 5.49s\n",
      "305:\tlearn: 0.2620012\ttotal: 2.42s\tremaining: 5.48s\n",
      "306:\tlearn: 0.2618673\ttotal: 2.42s\tremaining: 5.47s\n",
      "307:\tlearn: 0.2611568\ttotal: 2.43s\tremaining: 5.46s\n",
      "308:\tlearn: 0.2610482\ttotal: 2.44s\tremaining: 5.46s\n",
      "309:\tlearn: 0.2608871\ttotal: 2.45s\tremaining: 5.45s\n",
      "310:\tlearn: 0.2603355\ttotal: 2.46s\tremaining: 5.44s\n",
      "311:\tlearn: 0.2603010\ttotal: 2.46s\tremaining: 5.43s\n",
      "312:\tlearn: 0.2600790\ttotal: 2.47s\tremaining: 5.43s\n",
      "313:\tlearn: 0.2598421\ttotal: 2.48s\tremaining: 5.42s\n",
      "314:\tlearn: 0.2595473\ttotal: 2.49s\tremaining: 5.41s\n",
      "315:\tlearn: 0.2591700\ttotal: 2.5s\tremaining: 5.4s\n",
      "316:\tlearn: 0.2587573\ttotal: 2.5s\tremaining: 5.39s\n",
      "317:\tlearn: 0.2583489\ttotal: 2.51s\tremaining: 5.38s\n",
      "318:\tlearn: 0.2581139\ttotal: 2.52s\tremaining: 5.37s\n",
      "319:\tlearn: 0.2578371\ttotal: 2.52s\tremaining: 5.36s\n",
      "320:\tlearn: 0.2574137\ttotal: 2.53s\tremaining: 5.36s\n",
      "321:\tlearn: 0.2571744\ttotal: 2.54s\tremaining: 5.35s\n",
      "322:\tlearn: 0.2568214\ttotal: 2.55s\tremaining: 5.34s\n",
      "323:\tlearn: 0.2565526\ttotal: 2.56s\tremaining: 5.33s\n",
      "324:\tlearn: 0.2564073\ttotal: 2.56s\tremaining: 5.32s\n",
      "325:\tlearn: 0.2563257\ttotal: 2.57s\tremaining: 5.32s\n",
      "326:\tlearn: 0.2563135\ttotal: 2.58s\tremaining: 5.31s\n",
      "327:\tlearn: 0.2563081\ttotal: 2.59s\tremaining: 5.3s\n",
      "328:\tlearn: 0.2562200\ttotal: 2.6s\tremaining: 5.29s\n",
      "329:\tlearn: 0.2562103\ttotal: 2.6s\tremaining: 5.29s\n",
      "330:\tlearn: 0.2560026\ttotal: 2.61s\tremaining: 5.28s\n",
      "331:\tlearn: 0.2555496\ttotal: 2.62s\tremaining: 5.27s\n",
      "332:\tlearn: 0.2553849\ttotal: 2.63s\tremaining: 5.26s\n",
      "333:\tlearn: 0.2551943\ttotal: 2.64s\tremaining: 5.26s\n",
      "334:\tlearn: 0.2551485\ttotal: 2.64s\tremaining: 5.25s\n",
      "335:\tlearn: 0.2551344\ttotal: 2.65s\tremaining: 5.25s\n",
      "336:\tlearn: 0.2548007\ttotal: 2.66s\tremaining: 5.24s\n",
      "337:\tlearn: 0.2547264\ttotal: 2.67s\tremaining: 5.23s\n",
      "338:\tlearn: 0.2544028\ttotal: 2.68s\tremaining: 5.23s\n",
      "339:\tlearn: 0.2542513\ttotal: 2.69s\tremaining: 5.22s\n",
      "340:\tlearn: 0.2539002\ttotal: 2.7s\tremaining: 5.21s\n",
      "341:\tlearn: 0.2538931\ttotal: 2.71s\tremaining: 5.21s\n",
      "342:\tlearn: 0.2538900\ttotal: 2.71s\tremaining: 5.2s\n",
      "343:\tlearn: 0.2538109\ttotal: 2.72s\tremaining: 5.19s\n",
      "344:\tlearn: 0.2533964\ttotal: 2.73s\tremaining: 5.18s\n",
      "345:\tlearn: 0.2533602\ttotal: 2.74s\tremaining: 5.18s\n",
      "346:\tlearn: 0.2527905\ttotal: 2.75s\tremaining: 5.17s\n",
      "347:\tlearn: 0.2527867\ttotal: 2.75s\tremaining: 5.16s\n",
      "348:\tlearn: 0.2524905\ttotal: 2.76s\tremaining: 5.15s\n",
      "349:\tlearn: 0.2524887\ttotal: 2.77s\tremaining: 5.14s\n",
      "350:\tlearn: 0.2524873\ttotal: 2.78s\tremaining: 5.13s\n",
      "351:\tlearn: 0.2522662\ttotal: 2.79s\tremaining: 5.13s\n",
      "352:\tlearn: 0.2518774\ttotal: 2.8s\tremaining: 5.13s\n",
      "353:\tlearn: 0.2516667\ttotal: 2.8s\tremaining: 5.12s\n",
      "354:\tlearn: 0.2516605\ttotal: 2.81s\tremaining: 5.11s\n",
      "355:\tlearn: 0.2515606\ttotal: 2.82s\tremaining: 5.1s\n",
      "356:\tlearn: 0.2514457\ttotal: 2.83s\tremaining: 5.09s\n",
      "357:\tlearn: 0.2510356\ttotal: 2.84s\tremaining: 5.09s\n",
      "358:\tlearn: 0.2507282\ttotal: 2.85s\tremaining: 5.08s\n"
     ]
    },
    {
     "name": "stdout",
     "output_type": "stream",
     "text": [
      "359:\tlearn: 0.2504071\ttotal: 2.85s\tremaining: 5.08s\n",
      "360:\tlearn: 0.2500627\ttotal: 2.87s\tremaining: 5.07s\n",
      "361:\tlearn: 0.2497328\ttotal: 2.88s\tremaining: 5.07s\n",
      "362:\tlearn: 0.2495534\ttotal: 2.88s\tremaining: 5.06s\n",
      "363:\tlearn: 0.2491118\ttotal: 2.89s\tremaining: 5.05s\n",
      "364:\tlearn: 0.2488661\ttotal: 2.9s\tremaining: 5.05s\n",
      "365:\tlearn: 0.2484767\ttotal: 2.91s\tremaining: 5.04s\n",
      "366:\tlearn: 0.2479120\ttotal: 2.92s\tremaining: 5.03s\n",
      "367:\tlearn: 0.2476984\ttotal: 2.92s\tremaining: 5.02s\n",
      "368:\tlearn: 0.2473287\ttotal: 2.93s\tremaining: 5.01s\n",
      "369:\tlearn: 0.2468684\ttotal: 2.94s\tremaining: 5.01s\n",
      "370:\tlearn: 0.2466802\ttotal: 2.95s\tremaining: 5s\n",
      "371:\tlearn: 0.2461972\ttotal: 2.96s\tremaining: 4.99s\n",
      "372:\tlearn: 0.2457636\ttotal: 2.96s\tremaining: 4.98s\n",
      "373:\tlearn: 0.2454980\ttotal: 2.97s\tremaining: 4.98s\n",
      "374:\tlearn: 0.2451710\ttotal: 2.98s\tremaining: 4.97s\n",
      "375:\tlearn: 0.2448609\ttotal: 2.99s\tremaining: 4.96s\n",
      "376:\tlearn: 0.2447465\ttotal: 3s\tremaining: 4.95s\n",
      "377:\tlearn: 0.2446844\ttotal: 3s\tremaining: 4.95s\n",
      "378:\tlearn: 0.2446514\ttotal: 3.01s\tremaining: 4.94s\n",
      "379:\tlearn: 0.2446042\ttotal: 3.02s\tremaining: 4.93s\n",
      "380:\tlearn: 0.2444511\ttotal: 3.03s\tremaining: 4.92s\n",
      "381:\tlearn: 0.2440854\ttotal: 3.04s\tremaining: 4.91s\n",
      "382:\tlearn: 0.2439374\ttotal: 3.05s\tremaining: 4.91s\n",
      "383:\tlearn: 0.2438141\ttotal: 3.06s\tremaining: 4.9s\n",
      "384:\tlearn: 0.2435669\ttotal: 3.06s\tremaining: 4.89s\n",
      "385:\tlearn: 0.2434618\ttotal: 3.07s\tremaining: 4.89s\n",
      "386:\tlearn: 0.2434424\ttotal: 3.08s\tremaining: 4.88s\n",
      "387:\tlearn: 0.2433138\ttotal: 3.09s\tremaining: 4.87s\n",
      "388:\tlearn: 0.2430930\ttotal: 3.1s\tremaining: 4.86s\n",
      "389:\tlearn: 0.2430916\ttotal: 3.1s\tremaining: 4.85s\n",
      "390:\tlearn: 0.2428000\ttotal: 3.11s\tremaining: 4.84s\n",
      "391:\tlearn: 0.2424771\ttotal: 3.12s\tremaining: 4.83s\n",
      "392:\tlearn: 0.2423403\ttotal: 3.12s\tremaining: 4.82s\n",
      "393:\tlearn: 0.2423004\ttotal: 3.13s\tremaining: 4.81s\n",
      "394:\tlearn: 0.2422431\ttotal: 3.14s\tremaining: 4.8s\n",
      "395:\tlearn: 0.2419119\ttotal: 3.14s\tremaining: 4.79s\n",
      "396:\tlearn: 0.2417307\ttotal: 3.15s\tremaining: 4.79s\n",
      "397:\tlearn: 0.2417040\ttotal: 3.16s\tremaining: 4.78s\n",
      "398:\tlearn: 0.2415470\ttotal: 3.17s\tremaining: 4.77s\n",
      "399:\tlearn: 0.2412980\ttotal: 3.17s\tremaining: 4.76s\n",
      "400:\tlearn: 0.2412965\ttotal: 3.18s\tremaining: 4.75s\n",
      "401:\tlearn: 0.2410955\ttotal: 3.19s\tremaining: 4.74s\n",
      "402:\tlearn: 0.2408414\ttotal: 3.19s\tremaining: 4.73s\n",
      "403:\tlearn: 0.2405600\ttotal: 3.2s\tremaining: 4.72s\n",
      "404:\tlearn: 0.2405589\ttotal: 3.21s\tremaining: 4.71s\n",
      "405:\tlearn: 0.2403841\ttotal: 3.21s\tremaining: 4.7s\n",
      "406:\tlearn: 0.2402608\ttotal: 3.22s\tremaining: 4.69s\n",
      "407:\tlearn: 0.2402602\ttotal: 3.23s\tremaining: 4.68s\n",
      "408:\tlearn: 0.2400578\ttotal: 3.24s\tremaining: 4.68s\n",
      "409:\tlearn: 0.2399061\ttotal: 3.24s\tremaining: 4.67s\n",
      "410:\tlearn: 0.2397353\ttotal: 3.25s\tremaining: 4.66s\n",
      "411:\tlearn: 0.2396392\ttotal: 3.26s\tremaining: 4.65s\n",
      "412:\tlearn: 0.2395822\ttotal: 3.27s\tremaining: 4.64s\n",
      "413:\tlearn: 0.2393339\ttotal: 3.27s\tremaining: 4.63s\n",
      "414:\tlearn: 0.2390680\ttotal: 3.28s\tremaining: 4.63s\n",
      "415:\tlearn: 0.2387072\ttotal: 3.29s\tremaining: 4.62s\n",
      "416:\tlearn: 0.2386256\ttotal: 3.3s\tremaining: 4.61s\n",
      "417:\tlearn: 0.2386153\ttotal: 3.31s\tremaining: 4.6s\n",
      "418:\tlearn: 0.2385492\ttotal: 3.31s\tremaining: 4.6s\n",
      "419:\tlearn: 0.2384940\ttotal: 3.32s\tremaining: 4.59s\n",
      "420:\tlearn: 0.2381093\ttotal: 3.33s\tremaining: 4.58s\n",
      "421:\tlearn: 0.2380496\ttotal: 3.34s\tremaining: 4.57s\n",
      "422:\tlearn: 0.2380370\ttotal: 3.35s\tremaining: 4.57s\n",
      "423:\tlearn: 0.2376412\ttotal: 3.36s\tremaining: 4.56s\n",
      "424:\tlearn: 0.2374187\ttotal: 3.37s\tremaining: 4.55s\n",
      "425:\tlearn: 0.2371574\ttotal: 3.37s\tremaining: 4.54s\n",
      "426:\tlearn: 0.2370853\ttotal: 3.38s\tremaining: 4.54s\n",
      "427:\tlearn: 0.2369023\ttotal: 3.39s\tremaining: 4.53s\n",
      "428:\tlearn: 0.2368360\ttotal: 3.4s\tremaining: 4.52s\n",
      "429:\tlearn: 0.2368351\ttotal: 3.4s\tremaining: 4.51s\n",
      "430:\tlearn: 0.2368335\ttotal: 3.41s\tremaining: 4.5s\n",
      "431:\tlearn: 0.2366588\ttotal: 3.42s\tremaining: 4.5s\n",
      "432:\tlearn: 0.2365873\ttotal: 3.43s\tremaining: 4.49s\n",
      "433:\tlearn: 0.2365668\ttotal: 3.44s\tremaining: 4.48s\n",
      "434:\tlearn: 0.2364432\ttotal: 3.44s\tremaining: 4.47s\n",
      "435:\tlearn: 0.2364424\ttotal: 3.45s\tremaining: 4.46s\n",
      "436:\tlearn: 0.2363786\ttotal: 3.46s\tremaining: 4.46s\n",
      "437:\tlearn: 0.2363779\ttotal: 3.47s\tremaining: 4.45s\n",
      "438:\tlearn: 0.2363769\ttotal: 3.48s\tremaining: 4.44s\n",
      "439:\tlearn: 0.2359594\ttotal: 3.48s\tremaining: 4.43s\n",
      "440:\tlearn: 0.2356877\ttotal: 3.49s\tremaining: 4.43s\n",
      "441:\tlearn: 0.2356439\ttotal: 3.5s\tremaining: 4.42s\n",
      "442:\tlearn: 0.2355520\ttotal: 3.51s\tremaining: 4.41s\n",
      "443:\tlearn: 0.2353761\ttotal: 3.51s\tremaining: 4.4s\n",
      "444:\tlearn: 0.2353567\ttotal: 3.52s\tremaining: 4.39s\n",
      "445:\tlearn: 0.2351562\ttotal: 3.53s\tremaining: 4.38s\n",
      "446:\tlearn: 0.2351310\ttotal: 3.53s\tremaining: 4.37s\n",
      "447:\tlearn: 0.2350636\ttotal: 3.54s\tremaining: 4.36s\n",
      "448:\tlearn: 0.2349362\ttotal: 3.55s\tremaining: 4.35s\n",
      "449:\tlearn: 0.2345647\ttotal: 3.56s\tremaining: 4.35s\n",
      "450:\tlearn: 0.2344350\ttotal: 3.56s\tremaining: 4.34s\n",
      "451:\tlearn: 0.2344343\ttotal: 3.57s\tremaining: 4.33s\n",
      "452:\tlearn: 0.2344336\ttotal: 3.58s\tremaining: 4.32s\n",
      "453:\tlearn: 0.2342471\ttotal: 3.58s\tremaining: 4.31s\n",
      "454:\tlearn: 0.2340222\ttotal: 3.59s\tremaining: 4.3s\n",
      "455:\tlearn: 0.2339339\ttotal: 3.6s\tremaining: 4.29s\n",
      "456:\tlearn: 0.2339333\ttotal: 3.6s\tremaining: 4.28s\n",
      "457:\tlearn: 0.2336473\ttotal: 3.61s\tremaining: 4.27s\n",
      "458:\tlearn: 0.2336472\ttotal: 3.62s\tremaining: 4.26s\n",
      "459:\tlearn: 0.2335745\ttotal: 3.62s\tremaining: 4.25s\n",
      "460:\tlearn: 0.2334648\ttotal: 3.63s\tremaining: 4.24s\n",
      "461:\tlearn: 0.2334456\ttotal: 3.64s\tremaining: 4.23s\n",
      "462:\tlearn: 0.2333453\ttotal: 3.64s\tremaining: 4.23s\n",
      "463:\tlearn: 0.2331705\ttotal: 3.65s\tremaining: 4.22s\n",
      "464:\tlearn: 0.2329811\ttotal: 3.66s\tremaining: 4.21s\n",
      "465:\tlearn: 0.2328399\ttotal: 3.67s\tremaining: 4.2s\n",
      "466:\tlearn: 0.2328125\ttotal: 3.68s\tremaining: 4.2s\n",
      "467:\tlearn: 0.2326311\ttotal: 3.68s\tremaining: 4.19s\n",
      "468:\tlearn: 0.2326295\ttotal: 3.69s\tremaining: 4.18s\n",
      "469:\tlearn: 0.2324135\ttotal: 3.7s\tremaining: 4.17s\n",
      "470:\tlearn: 0.2323569\ttotal: 3.7s\tremaining: 4.16s\n",
      "471:\tlearn: 0.2322511\ttotal: 3.71s\tremaining: 4.15s\n",
      "472:\tlearn: 0.2322251\ttotal: 3.72s\tremaining: 4.14s\n",
      "473:\tlearn: 0.2321268\ttotal: 3.72s\tremaining: 4.13s\n",
      "474:\tlearn: 0.2320189\ttotal: 3.73s\tremaining: 4.12s\n",
      "475:\tlearn: 0.2320144\ttotal: 3.74s\tremaining: 4.12s\n",
      "476:\tlearn: 0.2320143\ttotal: 3.74s\tremaining: 4.1s\n",
      "477:\tlearn: 0.2316312\ttotal: 3.75s\tremaining: 4.1s\n",
      "478:\tlearn: 0.2312278\ttotal: 3.76s\tremaining: 4.09s\n",
      "479:\tlearn: 0.2311678\ttotal: 3.77s\tremaining: 4.08s\n",
      "480:\tlearn: 0.2308502\ttotal: 3.77s\tremaining: 4.07s\n",
      "481:\tlearn: 0.2308437\ttotal: 3.78s\tremaining: 4.06s\n",
      "482:\tlearn: 0.2307094\ttotal: 3.79s\tremaining: 4.05s\n",
      "483:\tlearn: 0.2305823\ttotal: 3.79s\tremaining: 4.04s\n",
      "484:\tlearn: 0.2303057\ttotal: 3.8s\tremaining: 4.04s\n",
      "485:\tlearn: 0.2302652\ttotal: 3.81s\tremaining: 4.03s\n",
      "486:\tlearn: 0.2300668\ttotal: 3.81s\tremaining: 4.02s\n",
      "487:\tlearn: 0.2300667\ttotal: 3.82s\tremaining: 4.01s\n",
      "488:\tlearn: 0.2300177\ttotal: 3.83s\tremaining: 4s\n",
      "489:\tlearn: 0.2295625\ttotal: 3.83s\tremaining: 3.99s\n",
      "490:\tlearn: 0.2291931\ttotal: 3.84s\tremaining: 3.98s\n",
      "491:\tlearn: 0.2291441\ttotal: 3.85s\tremaining: 3.97s\n",
      "492:\tlearn: 0.2289934\ttotal: 3.86s\tremaining: 3.97s\n",
      "493:\tlearn: 0.2289932\ttotal: 3.86s\tremaining: 3.96s\n",
      "494:\tlearn: 0.2289212\ttotal: 3.87s\tremaining: 3.95s\n",
      "495:\tlearn: 0.2287510\ttotal: 3.88s\tremaining: 3.95s\n",
      "496:\tlearn: 0.2287135\ttotal: 3.89s\tremaining: 3.94s\n",
      "497:\tlearn: 0.2287128\ttotal: 3.9s\tremaining: 3.93s\n",
      "498:\tlearn: 0.2285613\ttotal: 3.91s\tremaining: 3.92s\n",
      "499:\tlearn: 0.2282018\ttotal: 3.92s\tremaining: 3.92s\n",
      "500:\tlearn: 0.2281720\ttotal: 3.92s\tremaining: 3.91s\n",
      "501:\tlearn: 0.2281710\ttotal: 3.93s\tremaining: 3.9s\n",
      "502:\tlearn: 0.2278316\ttotal: 3.94s\tremaining: 3.89s\n",
      "503:\tlearn: 0.2275381\ttotal: 3.94s\tremaining: 3.88s\n",
      "504:\tlearn: 0.2273921\ttotal: 3.95s\tremaining: 3.87s\n",
      "505:\tlearn: 0.2271727\ttotal: 3.96s\tremaining: 3.87s\n",
      "506:\tlearn: 0.2268853\ttotal: 3.97s\tremaining: 3.86s\n",
      "507:\tlearn: 0.2265095\ttotal: 3.97s\tremaining: 3.85s\n",
      "508:\tlearn: 0.2263573\ttotal: 3.98s\tremaining: 3.84s\n",
      "509:\tlearn: 0.2261044\ttotal: 3.99s\tremaining: 3.83s\n",
      "510:\tlearn: 0.2259351\ttotal: 4s\tremaining: 3.82s\n",
      "511:\tlearn: 0.2259351\ttotal: 4s\tremaining: 3.81s\n",
      "512:\tlearn: 0.2258697\ttotal: 4.01s\tremaining: 3.8s\n",
      "513:\tlearn: 0.2257601\ttotal: 4.01s\tremaining: 3.79s\n",
      "514:\tlearn: 0.2256170\ttotal: 4.02s\tremaining: 3.79s\n",
      "515:\tlearn: 0.2253606\ttotal: 4.03s\tremaining: 3.78s\n",
      "516:\tlearn: 0.2252096\ttotal: 4.04s\tremaining: 3.77s\n",
      "517:\tlearn: 0.2249972\ttotal: 4.04s\tremaining: 3.76s\n"
     ]
    },
    {
     "name": "stdout",
     "output_type": "stream",
     "text": [
      "518:\tlearn: 0.2247819\ttotal: 4.05s\tremaining: 3.75s\n",
      "519:\tlearn: 0.2245677\ttotal: 4.06s\tremaining: 3.75s\n",
      "520:\tlearn: 0.2244085\ttotal: 4.07s\tremaining: 3.74s\n",
      "521:\tlearn: 0.2243566\ttotal: 4.08s\tremaining: 3.73s\n",
      "522:\tlearn: 0.2243104\ttotal: 4.08s\tremaining: 3.72s\n",
      "523:\tlearn: 0.2241928\ttotal: 4.09s\tremaining: 3.71s\n",
      "524:\tlearn: 0.2241862\ttotal: 4.1s\tremaining: 3.71s\n",
      "525:\tlearn: 0.2237471\ttotal: 4.11s\tremaining: 3.7s\n",
      "526:\tlearn: 0.2237249\ttotal: 4.11s\tremaining: 3.69s\n",
      "527:\tlearn: 0.2234595\ttotal: 4.12s\tremaining: 3.68s\n",
      "528:\tlearn: 0.2232852\ttotal: 4.13s\tremaining: 3.67s\n",
      "529:\tlearn: 0.2230812\ttotal: 4.14s\tremaining: 3.67s\n",
      "530:\tlearn: 0.2228941\ttotal: 4.14s\tremaining: 3.66s\n",
      "531:\tlearn: 0.2227582\ttotal: 4.15s\tremaining: 3.65s\n",
      "532:\tlearn: 0.2223778\ttotal: 4.16s\tremaining: 3.65s\n",
      "533:\tlearn: 0.2222945\ttotal: 4.17s\tremaining: 3.64s\n",
      "534:\tlearn: 0.2222134\ttotal: 4.17s\tremaining: 3.63s\n",
      "535:\tlearn: 0.2222129\ttotal: 4.18s\tremaining: 3.62s\n",
      "536:\tlearn: 0.2220699\ttotal: 4.19s\tremaining: 3.61s\n",
      "537:\tlearn: 0.2218440\ttotal: 4.2s\tremaining: 3.6s\n",
      "538:\tlearn: 0.2217065\ttotal: 4.2s\tremaining: 3.6s\n",
      "539:\tlearn: 0.2216225\ttotal: 4.21s\tremaining: 3.59s\n",
      "540:\tlearn: 0.2216225\ttotal: 4.21s\tremaining: 3.58s\n",
      "541:\tlearn: 0.2216219\ttotal: 4.22s\tremaining: 3.57s\n",
      "542:\tlearn: 0.2215814\ttotal: 4.23s\tremaining: 3.56s\n",
      "543:\tlearn: 0.2214289\ttotal: 4.24s\tremaining: 3.55s\n",
      "544:\tlearn: 0.2213945\ttotal: 4.25s\tremaining: 3.54s\n",
      "545:\tlearn: 0.2213945\ttotal: 4.25s\tremaining: 3.53s\n",
      "546:\tlearn: 0.2213778\ttotal: 4.26s\tremaining: 3.53s\n",
      "547:\tlearn: 0.2211572\ttotal: 4.27s\tremaining: 3.52s\n",
      "548:\tlearn: 0.2211572\ttotal: 4.27s\tremaining: 3.51s\n",
      "549:\tlearn: 0.2211050\ttotal: 4.28s\tremaining: 3.5s\n",
      "550:\tlearn: 0.2209895\ttotal: 4.29s\tremaining: 3.49s\n",
      "551:\tlearn: 0.2209890\ttotal: 4.29s\tremaining: 3.49s\n",
      "552:\tlearn: 0.2207415\ttotal: 4.3s\tremaining: 3.48s\n",
      "553:\tlearn: 0.2204383\ttotal: 4.31s\tremaining: 3.47s\n",
      "554:\tlearn: 0.2204382\ttotal: 4.31s\tremaining: 3.46s\n",
      "555:\tlearn: 0.2202197\ttotal: 4.32s\tremaining: 3.45s\n",
      "556:\tlearn: 0.2199922\ttotal: 4.33s\tremaining: 3.44s\n",
      "557:\tlearn: 0.2199781\ttotal: 4.34s\tremaining: 3.44s\n",
      "558:\tlearn: 0.2198034\ttotal: 4.34s\tremaining: 3.43s\n",
      "559:\tlearn: 0.2196267\ttotal: 4.35s\tremaining: 3.42s\n",
      "560:\tlearn: 0.2193059\ttotal: 4.36s\tremaining: 3.41s\n",
      "561:\tlearn: 0.2191186\ttotal: 4.37s\tremaining: 3.4s\n",
      "562:\tlearn: 0.2188518\ttotal: 4.38s\tremaining: 3.4s\n",
      "563:\tlearn: 0.2184134\ttotal: 4.38s\tremaining: 3.39s\n",
      "564:\tlearn: 0.2181849\ttotal: 4.39s\tremaining: 3.38s\n",
      "565:\tlearn: 0.2177646\ttotal: 4.4s\tremaining: 3.38s\n",
      "566:\tlearn: 0.2175376\ttotal: 4.42s\tremaining: 3.37s\n",
      "567:\tlearn: 0.2172298\ttotal: 4.43s\tremaining: 3.37s\n",
      "568:\tlearn: 0.2169342\ttotal: 4.44s\tremaining: 3.37s\n",
      "569:\tlearn: 0.2166985\ttotal: 4.46s\tremaining: 3.36s\n",
      "570:\tlearn: 0.2165891\ttotal: 4.48s\tremaining: 3.37s\n",
      "571:\tlearn: 0.2165890\ttotal: 4.49s\tremaining: 3.36s\n",
      "572:\tlearn: 0.2165426\ttotal: 4.5s\tremaining: 3.35s\n",
      "573:\tlearn: 0.2163356\ttotal: 4.51s\tremaining: 3.35s\n",
      "574:\tlearn: 0.2163355\ttotal: 4.52s\tremaining: 3.34s\n",
      "575:\tlearn: 0.2159550\ttotal: 4.53s\tremaining: 3.33s\n",
      "576:\tlearn: 0.2156243\ttotal: 4.54s\tremaining: 3.33s\n",
      "577:\tlearn: 0.2154893\ttotal: 4.55s\tremaining: 3.32s\n",
      "578:\tlearn: 0.2152658\ttotal: 4.56s\tremaining: 3.31s\n",
      "579:\tlearn: 0.2150020\ttotal: 4.56s\tremaining: 3.31s\n",
      "580:\tlearn: 0.2148701\ttotal: 4.57s\tremaining: 3.3s\n",
      "581:\tlearn: 0.2145526\ttotal: 4.58s\tremaining: 3.29s\n",
      "582:\tlearn: 0.2144793\ttotal: 4.59s\tremaining: 3.28s\n",
      "583:\tlearn: 0.2144788\ttotal: 4.6s\tremaining: 3.27s\n",
      "584:\tlearn: 0.2144615\ttotal: 4.6s\tremaining: 3.27s\n",
      "585:\tlearn: 0.2144608\ttotal: 4.61s\tremaining: 3.26s\n",
      "586:\tlearn: 0.2141839\ttotal: 4.62s\tremaining: 3.25s\n",
      "587:\tlearn: 0.2138920\ttotal: 4.63s\tremaining: 3.24s\n",
      "588:\tlearn: 0.2137278\ttotal: 4.64s\tremaining: 3.24s\n",
      "589:\tlearn: 0.2134544\ttotal: 4.65s\tremaining: 3.23s\n",
      "590:\tlearn: 0.2132620\ttotal: 4.66s\tremaining: 3.22s\n",
      "591:\tlearn: 0.2132569\ttotal: 4.67s\tremaining: 3.22s\n",
      "592:\tlearn: 0.2130472\ttotal: 4.68s\tremaining: 3.21s\n",
      "593:\tlearn: 0.2130468\ttotal: 4.68s\tremaining: 3.2s\n",
      "594:\tlearn: 0.2130022\ttotal: 4.69s\tremaining: 3.19s\n",
      "595:\tlearn: 0.2126059\ttotal: 4.7s\tremaining: 3.19s\n",
      "596:\tlearn: 0.2123520\ttotal: 4.71s\tremaining: 3.18s\n",
      "597:\tlearn: 0.2121153\ttotal: 4.72s\tremaining: 3.17s\n",
      "598:\tlearn: 0.2121153\ttotal: 4.73s\tremaining: 3.16s\n",
      "599:\tlearn: 0.2120552\ttotal: 4.73s\tremaining: 3.16s\n",
      "600:\tlearn: 0.2120552\ttotal: 4.74s\tremaining: 3.15s\n",
      "601:\tlearn: 0.2120008\ttotal: 4.75s\tremaining: 3.14s\n",
      "602:\tlearn: 0.2117730\ttotal: 4.76s\tremaining: 3.13s\n",
      "603:\tlearn: 0.2115767\ttotal: 4.76s\tremaining: 3.12s\n",
      "604:\tlearn: 0.2113994\ttotal: 4.77s\tremaining: 3.12s\n",
      "605:\tlearn: 0.2112830\ttotal: 4.78s\tremaining: 3.11s\n",
      "606:\tlearn: 0.2112598\ttotal: 4.79s\tremaining: 3.1s\n",
      "607:\tlearn: 0.2112542\ttotal: 4.8s\tremaining: 3.09s\n",
      "608:\tlearn: 0.2112542\ttotal: 4.8s\tremaining: 3.08s\n",
      "609:\tlearn: 0.2112164\ttotal: 4.81s\tremaining: 3.08s\n",
      "610:\tlearn: 0.2110376\ttotal: 4.82s\tremaining: 3.07s\n",
      "611:\tlearn: 0.2110375\ttotal: 4.82s\tremaining: 3.06s\n",
      "612:\tlearn: 0.2109555\ttotal: 4.83s\tremaining: 3.05s\n",
      "613:\tlearn: 0.2108272\ttotal: 4.84s\tremaining: 3.04s\n",
      "614:\tlearn: 0.2108271\ttotal: 4.85s\tremaining: 3.04s\n",
      "615:\tlearn: 0.2108264\ttotal: 4.86s\tremaining: 3.03s\n",
      "616:\tlearn: 0.2106045\ttotal: 4.87s\tremaining: 3.02s\n",
      "617:\tlearn: 0.2105307\ttotal: 4.88s\tremaining: 3.01s\n",
      "618:\tlearn: 0.2103349\ttotal: 4.89s\tremaining: 3.01s\n",
      "619:\tlearn: 0.2103181\ttotal: 4.9s\tremaining: 3s\n",
      "620:\tlearn: 0.2101823\ttotal: 4.91s\tremaining: 3s\n",
      "621:\tlearn: 0.2099188\ttotal: 4.92s\tremaining: 2.99s\n",
      "622:\tlearn: 0.2099047\ttotal: 4.93s\tremaining: 2.98s\n",
      "623:\tlearn: 0.2098116\ttotal: 4.94s\tremaining: 2.98s\n",
      "624:\tlearn: 0.2098025\ttotal: 4.95s\tremaining: 2.97s\n",
      "625:\tlearn: 0.2095631\ttotal: 4.96s\tremaining: 2.96s\n",
      "626:\tlearn: 0.2095630\ttotal: 4.96s\tremaining: 2.95s\n",
      "627:\tlearn: 0.2092358\ttotal: 4.97s\tremaining: 2.94s\n",
      "628:\tlearn: 0.2091909\ttotal: 4.98s\tremaining: 2.94s\n",
      "629:\tlearn: 0.2091908\ttotal: 4.99s\tremaining: 2.93s\n",
      "630:\tlearn: 0.2091450\ttotal: 4.99s\tremaining: 2.92s\n",
      "631:\tlearn: 0.2089151\ttotal: 5s\tremaining: 2.91s\n",
      "632:\tlearn: 0.2088859\ttotal: 5.01s\tremaining: 2.91s\n",
      "633:\tlearn: 0.2087060\ttotal: 5.02s\tremaining: 2.9s\n",
      "634:\tlearn: 0.2085882\ttotal: 5.03s\tremaining: 2.89s\n",
      "635:\tlearn: 0.2084000\ttotal: 5.04s\tremaining: 2.88s\n",
      "636:\tlearn: 0.2084000\ttotal: 5.04s\tremaining: 2.87s\n",
      "637:\tlearn: 0.2082449\ttotal: 5.05s\tremaining: 2.87s\n",
      "638:\tlearn: 0.2081738\ttotal: 5.06s\tremaining: 2.86s\n",
      "639:\tlearn: 0.2080166\ttotal: 5.07s\tremaining: 2.85s\n",
      "640:\tlearn: 0.2080166\ttotal: 5.07s\tremaining: 2.84s\n",
      "641:\tlearn: 0.2078667\ttotal: 5.08s\tremaining: 2.83s\n",
      "642:\tlearn: 0.2075314\ttotal: 5.09s\tremaining: 2.83s\n",
      "643:\tlearn: 0.2073897\ttotal: 5.1s\tremaining: 2.82s\n",
      "644:\tlearn: 0.2071889\ttotal: 5.11s\tremaining: 2.81s\n",
      "645:\tlearn: 0.2071082\ttotal: 5.11s\tremaining: 2.8s\n",
      "646:\tlearn: 0.2070019\ttotal: 5.13s\tremaining: 2.8s\n",
      "647:\tlearn: 0.2068200\ttotal: 5.13s\tremaining: 2.79s\n",
      "648:\tlearn: 0.2068196\ttotal: 5.14s\tremaining: 2.78s\n",
      "649:\tlearn: 0.2068176\ttotal: 5.15s\tremaining: 2.77s\n",
      "650:\tlearn: 0.2066939\ttotal: 5.16s\tremaining: 2.77s\n",
      "651:\tlearn: 0.2065721\ttotal: 5.17s\tremaining: 2.76s\n",
      "652:\tlearn: 0.2065720\ttotal: 5.17s\tremaining: 2.75s\n",
      "653:\tlearn: 0.2063621\ttotal: 5.18s\tremaining: 2.74s\n",
      "654:\tlearn: 0.2062666\ttotal: 5.19s\tremaining: 2.73s\n",
      "655:\tlearn: 0.2061738\ttotal: 5.2s\tremaining: 2.73s\n",
      "656:\tlearn: 0.2061597\ttotal: 5.21s\tremaining: 2.72s\n",
      "657:\tlearn: 0.2061593\ttotal: 5.22s\tremaining: 2.71s\n",
      "658:\tlearn: 0.2061584\ttotal: 5.22s\tremaining: 2.7s\n",
      "659:\tlearn: 0.2060461\ttotal: 5.23s\tremaining: 2.7s\n",
      "660:\tlearn: 0.2060456\ttotal: 5.25s\tremaining: 2.69s\n",
      "661:\tlearn: 0.2059004\ttotal: 5.26s\tremaining: 2.68s\n",
      "662:\tlearn: 0.2058516\ttotal: 5.29s\tremaining: 2.69s\n",
      "663:\tlearn: 0.2056249\ttotal: 5.32s\tremaining: 2.69s\n",
      "664:\tlearn: 0.2053149\ttotal: 5.36s\tremaining: 2.7s\n",
      "665:\tlearn: 0.2052758\ttotal: 5.38s\tremaining: 2.7s\n",
      "666:\tlearn: 0.2052421\ttotal: 5.43s\tremaining: 2.71s\n",
      "667:\tlearn: 0.2050642\ttotal: 5.44s\tremaining: 2.7s\n",
      "668:\tlearn: 0.2050638\ttotal: 5.45s\tremaining: 2.7s\n",
      "669:\tlearn: 0.2050637\ttotal: 5.46s\tremaining: 2.69s\n",
      "670:\tlearn: 0.2050111\ttotal: 5.48s\tremaining: 2.69s\n",
      "671:\tlearn: 0.2046888\ttotal: 5.5s\tremaining: 2.69s\n",
      "672:\tlearn: 0.2044573\ttotal: 5.51s\tremaining: 2.68s\n",
      "673:\tlearn: 0.2042587\ttotal: 5.53s\tremaining: 2.67s\n",
      "674:\tlearn: 0.2041789\ttotal: 5.54s\tremaining: 2.67s\n",
      "675:\tlearn: 0.2039543\ttotal: 5.55s\tremaining: 2.66s\n",
      "676:\tlearn: 0.2037886\ttotal: 5.56s\tremaining: 2.65s\n",
      "677:\tlearn: 0.2036399\ttotal: 5.57s\tremaining: 2.65s\n",
      "678:\tlearn: 0.2033078\ttotal: 5.58s\tremaining: 2.64s\n",
      "679:\tlearn: 0.2030201\ttotal: 5.59s\tremaining: 2.63s\n",
      "680:\tlearn: 0.2028273\ttotal: 5.6s\tremaining: 2.62s\n",
      "681:\tlearn: 0.2027934\ttotal: 5.61s\tremaining: 2.62s\n",
      "682:\tlearn: 0.2027723\ttotal: 5.63s\tremaining: 2.62s\n",
      "683:\tlearn: 0.2027705\ttotal: 5.64s\tremaining: 2.61s\n",
      "684:\tlearn: 0.2025901\ttotal: 5.66s\tremaining: 2.6s\n"
     ]
    },
    {
     "name": "stdout",
     "output_type": "stream",
     "text": [
      "685:\tlearn: 0.2024497\ttotal: 5.67s\tremaining: 2.59s\n",
      "686:\tlearn: 0.2022840\ttotal: 5.67s\tremaining: 2.58s\n",
      "687:\tlearn: 0.2021305\ttotal: 5.68s\tremaining: 2.58s\n",
      "688:\tlearn: 0.2019190\ttotal: 5.69s\tremaining: 2.57s\n",
      "689:\tlearn: 0.2018146\ttotal: 5.7s\tremaining: 2.56s\n",
      "690:\tlearn: 0.2016364\ttotal: 5.71s\tremaining: 2.56s\n",
      "691:\tlearn: 0.2014256\ttotal: 5.72s\tremaining: 2.55s\n",
      "692:\tlearn: 0.2013149\ttotal: 5.73s\tremaining: 2.54s\n",
      "693:\tlearn: 0.2012355\ttotal: 5.74s\tremaining: 2.53s\n",
      "694:\tlearn: 0.2011904\ttotal: 5.75s\tremaining: 2.52s\n",
      "695:\tlearn: 0.2009743\ttotal: 5.76s\tremaining: 2.52s\n",
      "696:\tlearn: 0.2009212\ttotal: 5.77s\tremaining: 2.51s\n",
      "697:\tlearn: 0.2008061\ttotal: 5.78s\tremaining: 2.5s\n",
      "698:\tlearn: 0.2007911\ttotal: 5.79s\tremaining: 2.49s\n",
      "699:\tlearn: 0.2007714\ttotal: 5.79s\tremaining: 2.48s\n",
      "700:\tlearn: 0.2007108\ttotal: 5.8s\tremaining: 2.47s\n",
      "701:\tlearn: 0.2005432\ttotal: 5.81s\tremaining: 2.47s\n",
      "702:\tlearn: 0.2003851\ttotal: 5.82s\tremaining: 2.46s\n",
      "703:\tlearn: 0.2003850\ttotal: 5.83s\tremaining: 2.45s\n",
      "704:\tlearn: 0.2002582\ttotal: 5.84s\tremaining: 2.44s\n",
      "705:\tlearn: 0.2000264\ttotal: 5.85s\tremaining: 2.44s\n",
      "706:\tlearn: 0.1998000\ttotal: 5.86s\tremaining: 2.43s\n",
      "707:\tlearn: 0.1997273\ttotal: 5.86s\tremaining: 2.42s\n",
      "708:\tlearn: 0.1995491\ttotal: 5.87s\tremaining: 2.41s\n",
      "709:\tlearn: 0.1994697\ttotal: 5.88s\tremaining: 2.4s\n",
      "710:\tlearn: 0.1994696\ttotal: 5.89s\tremaining: 2.39s\n",
      "711:\tlearn: 0.1994503\ttotal: 5.89s\tremaining: 2.38s\n",
      "712:\tlearn: 0.1994503\ttotal: 5.9s\tremaining: 2.38s\n",
      "713:\tlearn: 0.1994104\ttotal: 5.91s\tremaining: 2.37s\n",
      "714:\tlearn: 0.1992342\ttotal: 5.92s\tremaining: 2.36s\n",
      "715:\tlearn: 0.1991788\ttotal: 5.92s\tremaining: 2.35s\n",
      "716:\tlearn: 0.1991402\ttotal: 5.93s\tremaining: 2.34s\n",
      "717:\tlearn: 0.1989511\ttotal: 5.94s\tremaining: 2.33s\n",
      "718:\tlearn: 0.1989510\ttotal: 5.94s\tremaining: 2.32s\n",
      "719:\tlearn: 0.1989510\ttotal: 5.95s\tremaining: 2.31s\n",
      "720:\tlearn: 0.1988452\ttotal: 5.96s\tremaining: 2.31s\n",
      "721:\tlearn: 0.1987125\ttotal: 5.96s\tremaining: 2.3s\n",
      "722:\tlearn: 0.1986181\ttotal: 5.97s\tremaining: 2.29s\n",
      "723:\tlearn: 0.1984956\ttotal: 5.98s\tremaining: 2.28s\n",
      "724:\tlearn: 0.1983903\ttotal: 5.99s\tremaining: 2.27s\n",
      "725:\tlearn: 0.1982175\ttotal: 6s\tremaining: 2.26s\n",
      "726:\tlearn: 0.1981307\ttotal: 6s\tremaining: 2.25s\n",
      "727:\tlearn: 0.1980709\ttotal: 6.01s\tremaining: 2.25s\n",
      "728:\tlearn: 0.1978931\ttotal: 6.02s\tremaining: 2.24s\n",
      "729:\tlearn: 0.1977061\ttotal: 6.03s\tremaining: 2.23s\n",
      "730:\tlearn: 0.1975564\ttotal: 6.04s\tremaining: 2.22s\n",
      "731:\tlearn: 0.1974857\ttotal: 6.04s\tremaining: 2.21s\n",
      "732:\tlearn: 0.1973619\ttotal: 6.05s\tremaining: 2.2s\n",
      "733:\tlearn: 0.1972121\ttotal: 6.06s\tremaining: 2.19s\n",
      "734:\tlearn: 0.1970945\ttotal: 6.07s\tremaining: 2.19s\n",
      "735:\tlearn: 0.1970060\ttotal: 6.08s\tremaining: 2.18s\n",
      "736:\tlearn: 0.1970060\ttotal: 6.08s\tremaining: 2.17s\n",
      "737:\tlearn: 0.1968764\ttotal: 6.09s\tremaining: 2.16s\n",
      "738:\tlearn: 0.1968763\ttotal: 6.1s\tremaining: 2.15s\n",
      "739:\tlearn: 0.1968725\ttotal: 6.1s\tremaining: 2.14s\n",
      "740:\tlearn: 0.1968524\ttotal: 6.11s\tremaining: 2.14s\n",
      "741:\tlearn: 0.1967535\ttotal: 6.12s\tremaining: 2.13s\n",
      "742:\tlearn: 0.1965892\ttotal: 6.13s\tremaining: 2.12s\n",
      "743:\tlearn: 0.1962973\ttotal: 6.13s\tremaining: 2.11s\n",
      "744:\tlearn: 0.1961842\ttotal: 6.14s\tremaining: 2.1s\n",
      "745:\tlearn: 0.1960411\ttotal: 6.15s\tremaining: 2.09s\n",
      "746:\tlearn: 0.1958232\ttotal: 6.16s\tremaining: 2.08s\n",
      "747:\tlearn: 0.1957364\ttotal: 6.17s\tremaining: 2.08s\n",
      "748:\tlearn: 0.1956184\ttotal: 6.17s\tremaining: 2.07s\n",
      "749:\tlearn: 0.1955587\ttotal: 6.18s\tremaining: 2.06s\n",
      "750:\tlearn: 0.1954896\ttotal: 6.19s\tremaining: 2.05s\n",
      "751:\tlearn: 0.1953203\ttotal: 6.2s\tremaining: 2.04s\n",
      "752:\tlearn: 0.1952624\ttotal: 6.21s\tremaining: 2.04s\n",
      "753:\tlearn: 0.1950294\ttotal: 6.21s\tremaining: 2.03s\n",
      "754:\tlearn: 0.1948057\ttotal: 6.22s\tremaining: 2.02s\n",
      "755:\tlearn: 0.1947708\ttotal: 6.23s\tremaining: 2.01s\n",
      "756:\tlearn: 0.1946471\ttotal: 6.24s\tremaining: 2s\n",
      "757:\tlearn: 0.1944308\ttotal: 6.25s\tremaining: 2s\n",
      "758:\tlearn: 0.1942638\ttotal: 6.26s\tremaining: 1.99s\n",
      "759:\tlearn: 0.1941881\ttotal: 6.27s\tremaining: 1.98s\n",
      "760:\tlearn: 0.1939378\ttotal: 6.28s\tremaining: 1.97s\n",
      "761:\tlearn: 0.1937434\ttotal: 6.29s\tremaining: 1.96s\n",
      "762:\tlearn: 0.1935588\ttotal: 6.29s\tremaining: 1.96s\n",
      "763:\tlearn: 0.1934609\ttotal: 6.3s\tremaining: 1.95s\n",
      "764:\tlearn: 0.1934279\ttotal: 6.32s\tremaining: 1.94s\n",
      "765:\tlearn: 0.1933947\ttotal: 6.32s\tremaining: 1.93s\n",
      "766:\tlearn: 0.1933947\ttotal: 6.33s\tremaining: 1.92s\n",
      "767:\tlearn: 0.1931965\ttotal: 6.34s\tremaining: 1.91s\n",
      "768:\tlearn: 0.1931830\ttotal: 6.34s\tremaining: 1.91s\n",
      "769:\tlearn: 0.1931783\ttotal: 6.35s\tremaining: 1.9s\n",
      "770:\tlearn: 0.1931091\ttotal: 6.36s\tremaining: 1.89s\n",
      "771:\tlearn: 0.1929902\ttotal: 6.37s\tremaining: 1.88s\n",
      "772:\tlearn: 0.1928500\ttotal: 6.38s\tremaining: 1.87s\n",
      "773:\tlearn: 0.1928317\ttotal: 6.39s\tremaining: 1.86s\n",
      "774:\tlearn: 0.1928318\ttotal: 6.39s\tremaining: 1.86s\n",
      "775:\tlearn: 0.1927571\ttotal: 6.4s\tremaining: 1.85s\n",
      "776:\tlearn: 0.1926644\ttotal: 6.41s\tremaining: 1.84s\n",
      "777:\tlearn: 0.1925228\ttotal: 6.42s\tremaining: 1.83s\n",
      "778:\tlearn: 0.1924824\ttotal: 6.43s\tremaining: 1.82s\n",
      "779:\tlearn: 0.1924197\ttotal: 6.44s\tremaining: 1.81s\n",
      "780:\tlearn: 0.1924176\ttotal: 6.45s\tremaining: 1.81s\n",
      "781:\tlearn: 0.1923251\ttotal: 6.46s\tremaining: 1.8s\n",
      "782:\tlearn: 0.1922182\ttotal: 6.46s\tremaining: 1.79s\n",
      "783:\tlearn: 0.1919843\ttotal: 6.47s\tremaining: 1.78s\n",
      "784:\tlearn: 0.1918194\ttotal: 6.48s\tremaining: 1.77s\n",
      "785:\tlearn: 0.1917093\ttotal: 6.49s\tremaining: 1.77s\n",
      "786:\tlearn: 0.1917093\ttotal: 6.5s\tremaining: 1.76s\n",
      "787:\tlearn: 0.1916204\ttotal: 6.51s\tremaining: 1.75s\n",
      "788:\tlearn: 0.1915901\ttotal: 6.51s\tremaining: 1.74s\n",
      "789:\tlearn: 0.1912762\ttotal: 6.52s\tremaining: 1.73s\n",
      "790:\tlearn: 0.1912289\ttotal: 6.53s\tremaining: 1.73s\n",
      "791:\tlearn: 0.1911402\ttotal: 6.54s\tremaining: 1.72s\n",
      "792:\tlearn: 0.1907586\ttotal: 6.55s\tremaining: 1.71s\n",
      "793:\tlearn: 0.1906498\ttotal: 6.56s\tremaining: 1.7s\n",
      "794:\tlearn: 0.1905736\ttotal: 6.57s\tremaining: 1.69s\n",
      "795:\tlearn: 0.1905386\ttotal: 6.58s\tremaining: 1.69s\n",
      "796:\tlearn: 0.1904166\ttotal: 6.59s\tremaining: 1.68s\n",
      "797:\tlearn: 0.1902823\ttotal: 6.6s\tremaining: 1.67s\n",
      "798:\tlearn: 0.1902822\ttotal: 6.6s\tremaining: 1.66s\n",
      "799:\tlearn: 0.1902213\ttotal: 6.61s\tremaining: 1.65s\n",
      "800:\tlearn: 0.1901598\ttotal: 6.62s\tremaining: 1.64s\n",
      "801:\tlearn: 0.1901595\ttotal: 6.62s\tremaining: 1.64s\n",
      "802:\tlearn: 0.1901073\ttotal: 6.63s\tremaining: 1.63s\n",
      "803:\tlearn: 0.1899812\ttotal: 6.64s\tremaining: 1.62s\n",
      "804:\tlearn: 0.1899810\ttotal: 6.65s\tremaining: 1.61s\n",
      "805:\tlearn: 0.1898048\ttotal: 6.66s\tremaining: 1.6s\n",
      "806:\tlearn: 0.1897453\ttotal: 6.67s\tremaining: 1.59s\n",
      "807:\tlearn: 0.1896486\ttotal: 6.68s\tremaining: 1.59s\n",
      "808:\tlearn: 0.1896212\ttotal: 6.69s\tremaining: 1.58s\n",
      "809:\tlearn: 0.1895971\ttotal: 6.7s\tremaining: 1.57s\n",
      "810:\tlearn: 0.1894752\ttotal: 6.71s\tremaining: 1.56s\n",
      "811:\tlearn: 0.1893177\ttotal: 6.72s\tremaining: 1.56s\n",
      "812:\tlearn: 0.1891573\ttotal: 6.73s\tremaining: 1.55s\n",
      "813:\tlearn: 0.1890464\ttotal: 6.74s\tremaining: 1.54s\n",
      "814:\tlearn: 0.1889228\ttotal: 6.75s\tremaining: 1.53s\n",
      "815:\tlearn: 0.1889031\ttotal: 6.76s\tremaining: 1.52s\n",
      "816:\tlearn: 0.1886721\ttotal: 6.77s\tremaining: 1.52s\n",
      "817:\tlearn: 0.1885898\ttotal: 6.78s\tremaining: 1.51s\n",
      "818:\tlearn: 0.1885604\ttotal: 6.79s\tremaining: 1.5s\n",
      "819:\tlearn: 0.1884832\ttotal: 6.8s\tremaining: 1.49s\n",
      "820:\tlearn: 0.1883435\ttotal: 6.81s\tremaining: 1.48s\n",
      "821:\tlearn: 0.1880489\ttotal: 6.82s\tremaining: 1.48s\n",
      "822:\tlearn: 0.1878862\ttotal: 6.83s\tremaining: 1.47s\n",
      "823:\tlearn: 0.1878861\ttotal: 6.84s\tremaining: 1.46s\n",
      "824:\tlearn: 0.1878009\ttotal: 6.85s\tremaining: 1.45s\n",
      "825:\tlearn: 0.1877329\ttotal: 6.86s\tremaining: 1.44s\n",
      "826:\tlearn: 0.1877330\ttotal: 6.86s\tremaining: 1.44s\n",
      "827:\tlearn: 0.1876931\ttotal: 6.87s\tremaining: 1.43s\n",
      "828:\tlearn: 0.1876849\ttotal: 6.88s\tremaining: 1.42s\n",
      "829:\tlearn: 0.1875287\ttotal: 6.89s\tremaining: 1.41s\n",
      "830:\tlearn: 0.1874449\ttotal: 6.9s\tremaining: 1.4s\n",
      "831:\tlearn: 0.1874449\ttotal: 6.91s\tremaining: 1.39s\n",
      "832:\tlearn: 0.1873582\ttotal: 6.92s\tremaining: 1.39s\n",
      "833:\tlearn: 0.1873143\ttotal: 6.92s\tremaining: 1.38s\n",
      "834:\tlearn: 0.1870714\ttotal: 6.93s\tremaining: 1.37s\n",
      "835:\tlearn: 0.1869713\ttotal: 6.94s\tremaining: 1.36s\n",
      "836:\tlearn: 0.1869712\ttotal: 6.95s\tremaining: 1.35s\n",
      "837:\tlearn: 0.1869712\ttotal: 6.95s\tremaining: 1.34s\n",
      "838:\tlearn: 0.1868826\ttotal: 6.96s\tremaining: 1.34s\n",
      "839:\tlearn: 0.1867475\ttotal: 6.97s\tremaining: 1.33s\n",
      "840:\tlearn: 0.1865846\ttotal: 6.98s\tremaining: 1.32s\n",
      "841:\tlearn: 0.1865376\ttotal: 6.99s\tremaining: 1.31s\n",
      "842:\tlearn: 0.1865376\ttotal: 7.02s\tremaining: 1.31s\n",
      "843:\tlearn: 0.1864218\ttotal: 7.03s\tremaining: 1.3s\n"
     ]
    },
    {
     "name": "stdout",
     "output_type": "stream",
     "text": [
      "844:\tlearn: 0.1863855\ttotal: 7.05s\tremaining: 1.29s\n",
      "845:\tlearn: 0.1863071\ttotal: 7.07s\tremaining: 1.29s\n",
      "846:\tlearn: 0.1862907\ttotal: 7.08s\tremaining: 1.28s\n",
      "847:\tlearn: 0.1862907\ttotal: 7.09s\tremaining: 1.27s\n",
      "848:\tlearn: 0.1862442\ttotal: 7.1s\tremaining: 1.26s\n",
      "849:\tlearn: 0.1862377\ttotal: 7.12s\tremaining: 1.26s\n",
      "850:\tlearn: 0.1862007\ttotal: 7.14s\tremaining: 1.25s\n",
      "851:\tlearn: 0.1861504\ttotal: 7.16s\tremaining: 1.24s\n",
      "852:\tlearn: 0.1861282\ttotal: 7.17s\tremaining: 1.24s\n",
      "853:\tlearn: 0.1861064\ttotal: 7.19s\tremaining: 1.23s\n",
      "854:\tlearn: 0.1860338\ttotal: 7.2s\tremaining: 1.22s\n",
      "855:\tlearn: 0.1858350\ttotal: 7.21s\tremaining: 1.21s\n",
      "856:\tlearn: 0.1856894\ttotal: 7.22s\tremaining: 1.21s\n",
      "857:\tlearn: 0.1856795\ttotal: 7.24s\tremaining: 1.2s\n",
      "858:\tlearn: 0.1854985\ttotal: 7.25s\tremaining: 1.19s\n",
      "859:\tlearn: 0.1854244\ttotal: 7.27s\tremaining: 1.18s\n",
      "860:\tlearn: 0.1854243\ttotal: 7.28s\tremaining: 1.17s\n",
      "861:\tlearn: 0.1852622\ttotal: 7.29s\tremaining: 1.17s\n",
      "862:\tlearn: 0.1852599\ttotal: 7.29s\tremaining: 1.16s\n",
      "863:\tlearn: 0.1852240\ttotal: 7.3s\tremaining: 1.15s\n",
      "864:\tlearn: 0.1852068\ttotal: 7.31s\tremaining: 1.14s\n",
      "865:\tlearn: 0.1851043\ttotal: 7.33s\tremaining: 1.13s\n",
      "866:\tlearn: 0.1849432\ttotal: 7.34s\tremaining: 1.13s\n",
      "867:\tlearn: 0.1848134\ttotal: 7.35s\tremaining: 1.12s\n",
      "868:\tlearn: 0.1847331\ttotal: 7.36s\tremaining: 1.11s\n",
      "869:\tlearn: 0.1847029\ttotal: 7.36s\tremaining: 1.1s\n",
      "870:\tlearn: 0.1847028\ttotal: 7.37s\tremaining: 1.09s\n",
      "871:\tlearn: 0.1846816\ttotal: 7.38s\tremaining: 1.08s\n",
      "872:\tlearn: 0.1846816\ttotal: 7.39s\tremaining: 1.07s\n",
      "873:\tlearn: 0.1845734\ttotal: 7.4s\tremaining: 1.07s\n",
      "874:\tlearn: 0.1844621\ttotal: 7.41s\tremaining: 1.06s\n",
      "875:\tlearn: 0.1843883\ttotal: 7.42s\tremaining: 1.05s\n",
      "876:\tlearn: 0.1843878\ttotal: 7.42s\tremaining: 1.04s\n",
      "877:\tlearn: 0.1843879\ttotal: 7.43s\tremaining: 1.03s\n",
      "878:\tlearn: 0.1843874\ttotal: 7.44s\tremaining: 1.02s\n",
      "879:\tlearn: 0.1842903\ttotal: 7.45s\tremaining: 1.01s\n",
      "880:\tlearn: 0.1842110\ttotal: 7.46s\tremaining: 1.01s\n",
      "881:\tlearn: 0.1842109\ttotal: 7.47s\tremaining: 1000ms\n",
      "882:\tlearn: 0.1841277\ttotal: 7.49s\tremaining: 992ms\n",
      "883:\tlearn: 0.1840379\ttotal: 7.5s\tremaining: 984ms\n",
      "884:\tlearn: 0.1839477\ttotal: 7.51s\tremaining: 975ms\n",
      "885:\tlearn: 0.1839205\ttotal: 7.51s\tremaining: 967ms\n",
      "886:\tlearn: 0.1838997\ttotal: 7.52s\tremaining: 958ms\n",
      "887:\tlearn: 0.1837954\ttotal: 7.53s\tremaining: 950ms\n",
      "888:\tlearn: 0.1837872\ttotal: 7.54s\tremaining: 941ms\n",
      "889:\tlearn: 0.1837872\ttotal: 7.55s\tremaining: 933ms\n",
      "890:\tlearn: 0.1837533\ttotal: 7.56s\tremaining: 925ms\n",
      "891:\tlearn: 0.1836921\ttotal: 7.57s\tremaining: 917ms\n",
      "892:\tlearn: 0.1834811\ttotal: 7.58s\tremaining: 908ms\n",
      "893:\tlearn: 0.1832703\ttotal: 7.59s\tremaining: 900ms\n",
      "894:\tlearn: 0.1832211\ttotal: 7.6s\tremaining: 892ms\n",
      "895:\tlearn: 0.1831553\ttotal: 7.61s\tremaining: 883ms\n",
      "896:\tlearn: 0.1831553\ttotal: 7.61s\tremaining: 874ms\n",
      "897:\tlearn: 0.1830560\ttotal: 7.62s\tremaining: 866ms\n",
      "898:\tlearn: 0.1829161\ttotal: 7.63s\tremaining: 857ms\n",
      "899:\tlearn: 0.1828600\ttotal: 7.64s\tremaining: 849ms\n",
      "900:\tlearn: 0.1827461\ttotal: 7.65s\tremaining: 840ms\n",
      "901:\tlearn: 0.1827231\ttotal: 7.66s\tremaining: 832ms\n",
      "902:\tlearn: 0.1825900\ttotal: 7.67s\tremaining: 823ms\n",
      "903:\tlearn: 0.1825898\ttotal: 7.67s\tremaining: 815ms\n",
      "904:\tlearn: 0.1824664\ttotal: 7.68s\tremaining: 807ms\n",
      "905:\tlearn: 0.1823838\ttotal: 7.69s\tremaining: 798ms\n",
      "906:\tlearn: 0.1823721\ttotal: 7.7s\tremaining: 790ms\n",
      "907:\tlearn: 0.1823086\ttotal: 7.71s\tremaining: 781ms\n",
      "908:\tlearn: 0.1822775\ttotal: 7.72s\tremaining: 773ms\n",
      "909:\tlearn: 0.1821741\ttotal: 7.73s\tremaining: 764ms\n",
      "910:\tlearn: 0.1820813\ttotal: 7.74s\tremaining: 756ms\n",
      "911:\tlearn: 0.1818872\ttotal: 7.75s\tremaining: 747ms\n",
      "912:\tlearn: 0.1818238\ttotal: 7.75s\tremaining: 739ms\n",
      "913:\tlearn: 0.1817952\ttotal: 7.76s\tremaining: 730ms\n",
      "914:\tlearn: 0.1817952\ttotal: 7.77s\tremaining: 721ms\n",
      "915:\tlearn: 0.1817838\ttotal: 7.77s\tremaining: 713ms\n",
      "916:\tlearn: 0.1817779\ttotal: 7.78s\tremaining: 704ms\n",
      "917:\tlearn: 0.1816708\ttotal: 7.79s\tremaining: 696ms\n",
      "918:\tlearn: 0.1816318\ttotal: 7.8s\tremaining: 688ms\n",
      "919:\tlearn: 0.1816318\ttotal: 7.82s\tremaining: 680ms\n",
      "920:\tlearn: 0.1815155\ttotal: 7.83s\tremaining: 671ms\n",
      "921:\tlearn: 0.1814275\ttotal: 7.83s\tremaining: 663ms\n",
      "922:\tlearn: 0.1814275\ttotal: 7.84s\tremaining: 654ms\n",
      "923:\tlearn: 0.1814072\ttotal: 7.85s\tremaining: 646ms\n",
      "924:\tlearn: 0.1813635\ttotal: 7.86s\tremaining: 638ms\n",
      "925:\tlearn: 0.1813634\ttotal: 7.87s\tremaining: 629ms\n",
      "926:\tlearn: 0.1811741\ttotal: 7.88s\tremaining: 621ms\n",
      "927:\tlearn: 0.1811042\ttotal: 7.89s\tremaining: 613ms\n",
      "928:\tlearn: 0.1811041\ttotal: 7.91s\tremaining: 604ms\n",
      "929:\tlearn: 0.1810877\ttotal: 7.92s\tremaining: 596ms\n",
      "930:\tlearn: 0.1810860\ttotal: 7.93s\tremaining: 587ms\n",
      "931:\tlearn: 0.1809790\ttotal: 7.93s\tremaining: 579ms\n",
      "932:\tlearn: 0.1809235\ttotal: 7.95s\tremaining: 571ms\n",
      "933:\tlearn: 0.1808066\ttotal: 7.96s\tremaining: 562ms\n",
      "934:\tlearn: 0.1807112\ttotal: 7.96s\tremaining: 554ms\n",
      "935:\tlearn: 0.1807090\ttotal: 7.97s\tremaining: 545ms\n",
      "936:\tlearn: 0.1806381\ttotal: 7.98s\tremaining: 537ms\n",
      "937:\tlearn: 0.1805866\ttotal: 7.99s\tremaining: 528ms\n",
      "938:\tlearn: 0.1805375\ttotal: 8s\tremaining: 520ms\n",
      "939:\tlearn: 0.1804174\ttotal: 8.02s\tremaining: 512ms\n",
      "940:\tlearn: 0.1804174\ttotal: 8.02s\tremaining: 503ms\n",
      "941:\tlearn: 0.1803642\ttotal: 8.03s\tremaining: 494ms\n",
      "942:\tlearn: 0.1803641\ttotal: 8.04s\tremaining: 486ms\n",
      "943:\tlearn: 0.1803641\ttotal: 8.04s\tremaining: 477ms\n",
      "944:\tlearn: 0.1803400\ttotal: 8.05s\tremaining: 469ms\n",
      "945:\tlearn: 0.1802957\ttotal: 8.11s\tremaining: 463ms\n",
      "946:\tlearn: 0.1801727\ttotal: 8.18s\tremaining: 458ms\n",
      "947:\tlearn: 0.1801727\ttotal: 8.23s\tremaining: 451ms\n",
      "948:\tlearn: 0.1801158\ttotal: 8.27s\tremaining: 444ms\n",
      "949:\tlearn: 0.1800042\ttotal: 8.32s\tremaining: 438ms\n",
      "950:\tlearn: 0.1799520\ttotal: 8.36s\tremaining: 431ms\n",
      "951:\tlearn: 0.1798368\ttotal: 8.4s\tremaining: 423ms\n",
      "952:\tlearn: 0.1798082\ttotal: 8.42s\tremaining: 415ms\n",
      "953:\tlearn: 0.1797156\ttotal: 8.43s\tremaining: 407ms\n",
      "954:\tlearn: 0.1796593\ttotal: 8.45s\tremaining: 398ms\n",
      "955:\tlearn: 0.1795200\ttotal: 8.46s\tremaining: 389ms\n",
      "956:\tlearn: 0.1794663\ttotal: 8.47s\tremaining: 381ms\n",
      "957:\tlearn: 0.1794333\ttotal: 8.48s\tremaining: 372ms\n",
      "958:\tlearn: 0.1792541\ttotal: 8.49s\tremaining: 363ms\n",
      "959:\tlearn: 0.1792070\ttotal: 8.5s\tremaining: 354ms\n",
      "960:\tlearn: 0.1792069\ttotal: 8.51s\tremaining: 345ms\n",
      "961:\tlearn: 0.1791250\ttotal: 8.53s\tremaining: 337ms\n",
      "962:\tlearn: 0.1789755\ttotal: 8.54s\tremaining: 328ms\n",
      "963:\tlearn: 0.1787811\ttotal: 8.55s\tremaining: 319ms\n",
      "964:\tlearn: 0.1786467\ttotal: 8.56s\tremaining: 310ms\n",
      "965:\tlearn: 0.1784872\ttotal: 8.57s\tremaining: 302ms\n",
      "966:\tlearn: 0.1783520\ttotal: 8.6s\tremaining: 294ms\n",
      "967:\tlearn: 0.1781617\ttotal: 8.62s\tremaining: 285ms\n",
      "968:\tlearn: 0.1781317\ttotal: 8.63s\tremaining: 276ms\n",
      "969:\tlearn: 0.1780050\ttotal: 8.66s\tremaining: 268ms\n",
      "970:\tlearn: 0.1779216\ttotal: 8.68s\tremaining: 259ms\n",
      "971:\tlearn: 0.1778746\ttotal: 8.69s\tremaining: 250ms\n",
      "972:\tlearn: 0.1778444\ttotal: 8.69s\tremaining: 241ms\n",
      "973:\tlearn: 0.1777021\ttotal: 8.71s\tremaining: 232ms\n",
      "974:\tlearn: 0.1776213\ttotal: 8.71s\tremaining: 223ms\n",
      "975:\tlearn: 0.1774587\ttotal: 8.73s\tremaining: 215ms\n",
      "976:\tlearn: 0.1774508\ttotal: 8.74s\tremaining: 206ms\n",
      "977:\tlearn: 0.1773629\ttotal: 8.75s\tremaining: 197ms\n",
      "978:\tlearn: 0.1773206\ttotal: 8.77s\tremaining: 188ms\n",
      "979:\tlearn: 0.1773140\ttotal: 8.78s\tremaining: 179ms\n",
      "980:\tlearn: 0.1773139\ttotal: 8.79s\tremaining: 170ms\n",
      "981:\tlearn: 0.1772873\ttotal: 8.8s\tremaining: 161ms\n",
      "982:\tlearn: 0.1772802\ttotal: 8.81s\tremaining: 152ms\n",
      "983:\tlearn: 0.1771712\ttotal: 8.82s\tremaining: 143ms\n",
      "984:\tlearn: 0.1771712\ttotal: 8.83s\tremaining: 134ms\n",
      "985:\tlearn: 0.1771396\ttotal: 8.84s\tremaining: 126ms\n",
      "986:\tlearn: 0.1770926\ttotal: 8.85s\tremaining: 117ms\n",
      "987:\tlearn: 0.1769917\ttotal: 8.86s\tremaining: 108ms\n",
      "988:\tlearn: 0.1769016\ttotal: 8.87s\tremaining: 98.6ms\n",
      "989:\tlearn: 0.1768648\ttotal: 8.88s\tremaining: 89.7ms\n",
      "990:\tlearn: 0.1768218\ttotal: 8.88s\tremaining: 80.7ms\n",
      "991:\tlearn: 0.1766973\ttotal: 8.89s\tremaining: 71.7ms\n",
      "992:\tlearn: 0.1766040\ttotal: 8.9s\tremaining: 62.8ms\n",
      "993:\tlearn: 0.1765868\ttotal: 8.91s\tremaining: 53.8ms\n",
      "994:\tlearn: 0.1765868\ttotal: 8.92s\tremaining: 44.8ms\n",
      "995:\tlearn: 0.1765584\ttotal: 8.93s\tremaining: 35.9ms\n",
      "996:\tlearn: 0.1765583\ttotal: 8.94s\tremaining: 26.9ms\n",
      "997:\tlearn: 0.1765583\ttotal: 8.94s\tremaining: 17.9ms\n",
      "998:\tlearn: 0.1764334\ttotal: 8.96s\tremaining: 8.97ms\n",
      "999:\tlearn: 0.1764241\ttotal: 8.99s\tremaining: 0us\n",
      "Các chỉ số đánh giá mức độ hiệu quả của mô hình: \n",
      "1. Accuracy: 0.835632183908046\n",
      "2. confusion_matrix:\n",
      "[[1066  247]\n",
      " [ 182 1115]]\n",
      "3. recall_score:  0.8596761757902853\n",
      "4. precision_score:  0.8186490455212923\n",
      "5. f1_score:  0.8386611508085747\n",
      "6. Biểu đồ ROC của mô hình:\n"
     ]
    },
    {
     "name": "stderr",
     "output_type": "stream",
     "text": [
      "/home/hikaru/.local/lib/python3.8/site-packages/sklearn/utils/deprecation.py:87: FutureWarning: Function plot_roc_curve is deprecated; Function :func:`plot_roc_curve` is deprecated in 1.0 and will be removed in 1.2. Use one of the class methods: :meth:`sklearn.metric.RocCurveDisplay.from_predictions` or :meth:`sklearn.metric.RocCurveDisplay.from_estimator`.\n",
      "  warnings.warn(msg, category=FutureWarning)\n"
     ]
    },
    {
     "data": {
      "image/png": "[encoded data removed]",
      "text/plain": [
       "<Figure size 432x288 with 1 Axes>"
      ]
     },
     "metadata": {
      "needs_background": "light"
     },
     "output_type": "display_data"
    }
   ],
   "source": [
    "from catboost import CatBoostClassifier\n",
    "\n",
    "model_catboss = CatBoostClassifier(learning_rate = 0.1, depth = 8, rsm = 1)\n",
    "\n",
    "model_catboss.fit(X_train, Y_train)\n",
    "\n",
    "#Prediction\n",
    "cast_modelprediction=model_catboss.predict(X_test)\n",
    "\n",
    "evaluate_model (model_catboss, X_test, y_test, cast_modelprediction)"
   ]
  },
  {
   "cell_type": "markdown",
   "metadata": {
    "id": "7wmUTFEtj_kP"
   },
   "source": [
    "# **Deep Learning**"
   ]
  },
  {
   "cell_type": "markdown",
   "metadata": {
    "id": "_zs0Ma9tkL1P"
   },
   "source": [
    "# **ANN**"
   ]
  },
  {
   "cell_type": "code",
   "execution_count": 63,
   "metadata": {
    "id": "HrMDAMKbkLTi"
   },
   "outputs": [],
   "source": [
    "# Import the necessary libraries for ANN model\n",
    "from tensorflow.keras.models import Sequential\n",
    "from tensorflow.keras.layers import Dense"
   ]
  },
  {
   "cell_type": "code",
   "execution_count": 64,
   "metadata": {
    "id": "-CfSHt-4jv_d"
   },
   "outputs": [],
   "source": [
    "# Create a Sequential Neural Network model \n",
    "model = Sequential()\n",
    "# Create an Input and a Hidden Layer\n",
    "model.add(Dense(units=50,activation=\"relu\",kernel_initializer=\"he_uniform\"))\n",
    "# Create an Output Layer\n",
    "model.add(Dense(units=1,activation=\"sigmoid\"))\n",
    "# Now, my model is ready to compile\n",
    "model.compile(optimizer=\"adam\",loss=\"binary_crossentropy\",metrics=[\"accuracy\"])"
   ]
  },
  {
   "cell_type": "code",
   "execution_count": 65,
   "metadata": {
    "colab": {
     "base_uri": "https://localhost:8080/"
    },
    "id": "h_6Fx_4jkmfl",
    "outputId": "0354cc85-0530-49c6-d69e-a527a65da0dc"
   },
   "outputs": [
    {
     "ename": "ValueError",
     "evalue": "Data cardinality is ambiguous:\n  x sizes: 10436\n  y sizes: 9132\nMake sure all arrays contain the same number of samples.",
     "output_type": "error",
     "traceback": [
      "\u001b[0;31m---------------------------------------------------------------------------\u001b[0m",
      "\u001b[0;31mValueError\u001b[0m                                Traceback (most recent call last)",
      "Input \u001b[0;32mIn [65]\u001b[0m, in \u001b[0;36m<cell line: 1>\u001b[0;34m()\u001b[0m\n\u001b[0;32m----> 1\u001b[0m \u001b[43mmodel\u001b[49m\u001b[38;5;241;43m.\u001b[39;49m\u001b[43mfit\u001b[49m\u001b[43m(\u001b[49m\u001b[43mX_train\u001b[49m\u001b[43m,\u001b[49m\u001b[43my_train\u001b[49m\u001b[43m,\u001b[49m\u001b[43mbatch_size\u001b[49m\u001b[38;5;241;43m=\u001b[39;49m\u001b[38;5;241;43m64\u001b[39;49m\u001b[43m,\u001b[49m\u001b[43mepochs\u001b[49m\u001b[38;5;241;43m=\u001b[39;49m\u001b[38;5;241;43m100\u001b[39;49m\u001b[43m)\u001b[49m\n",
      "File \u001b[0;32m~/.local/lib/python3.8/site-packages/keras/utils/traceback_utils.py:67\u001b[0m, in \u001b[0;36mfilter_traceback.<locals>.error_handler\u001b[0;34m(*args, **kwargs)\u001b[0m\n\u001b[1;32m     65\u001b[0m \u001b[38;5;28;01mexcept\u001b[39;00m \u001b[38;5;167;01mException\u001b[39;00m \u001b[38;5;28;01mas\u001b[39;00m e:  \u001b[38;5;66;03m# pylint: disable=broad-except\u001b[39;00m\n\u001b[1;32m     66\u001b[0m   filtered_tb \u001b[38;5;241m=\u001b[39m _process_traceback_frames(e\u001b[38;5;241m.\u001b[39m__traceback__)\n\u001b[0;32m---> 67\u001b[0m   \u001b[38;5;28;01mraise\u001b[39;00m e\u001b[38;5;241m.\u001b[39mwith_traceback(filtered_tb) \u001b[38;5;28;01mfrom\u001b[39;00m \u001b[38;5;28mNone\u001b[39m\n\u001b[1;32m     68\u001b[0m \u001b[38;5;28;01mfinally\u001b[39;00m:\n\u001b[1;32m     69\u001b[0m   \u001b[38;5;28;01mdel\u001b[39;00m filtered_tb\n",
      "File \u001b[0;32m~/.local/lib/python3.8/site-packages/keras/engine/data_adapter.py:1653\u001b[0m, in \u001b[0;36m_check_data_cardinality\u001b[0;34m(data)\u001b[0m\n\u001b[1;32m   1649\u001b[0m   msg \u001b[38;5;241m+\u001b[39m\u001b[38;5;241m=\u001b[39m \u001b[38;5;124m\"\u001b[39m\u001b[38;5;124m  \u001b[39m\u001b[38;5;132;01m{}\u001b[39;00m\u001b[38;5;124m sizes: \u001b[39m\u001b[38;5;132;01m{}\u001b[39;00m\u001b[38;5;130;01m\\n\u001b[39;00m\u001b[38;5;124m\"\u001b[39m\u001b[38;5;241m.\u001b[39mformat(\n\u001b[1;32m   1650\u001b[0m       label, \u001b[38;5;124m\"\u001b[39m\u001b[38;5;124m, \u001b[39m\u001b[38;5;124m\"\u001b[39m\u001b[38;5;241m.\u001b[39mjoin(\u001b[38;5;28mstr\u001b[39m(i\u001b[38;5;241m.\u001b[39mshape[\u001b[38;5;241m0\u001b[39m])\n\u001b[1;32m   1651\u001b[0m                        \u001b[38;5;28;01mfor\u001b[39;00m i \u001b[38;5;129;01min\u001b[39;00m tf\u001b[38;5;241m.\u001b[39mnest\u001b[38;5;241m.\u001b[39mflatten(single_data)))\n\u001b[1;32m   1652\u001b[0m msg \u001b[38;5;241m+\u001b[39m\u001b[38;5;241m=\u001b[39m \u001b[38;5;124m\"\u001b[39m\u001b[38;5;124mMake sure all arrays contain the same number of samples.\u001b[39m\u001b[38;5;124m\"\u001b[39m\n\u001b[0;32m-> 1653\u001b[0m \u001b[38;5;28;01mraise\u001b[39;00m \u001b[38;5;167;01mValueError\u001b[39;00m(msg)\n",
      "\u001b[0;31mValueError\u001b[0m: Data cardinality is ambiguous:\n  x sizes: 10436\n  y sizes: 9132\nMake sure all arrays contain the same number of samples."
     ]
    }
   ],
   "source": [
    "model.fit(X_train,y_train,batch_size=64,epochs=100)"
   ]
  },
  {
   "cell_type": "code",
   "execution_count": 66,
   "metadata": {
    "colab": {
     "base_uri": "https://localhost:8080/"
    },
    "id": "OUWRCvzxkbo3",
    "outputId": "3a7b0792-be3a-43ea-fe46-0e6a6df011fd"
   },
   "outputs": [
    {
     "ename": "ValueError",
     "evalue": "This model has not yet been built. Build the model first by calling `build()` or by calling the model on a batch of data.",
     "output_type": "error",
     "traceback": [
      "\u001b[0;31m---------------------------------------------------------------------------\u001b[0m",
      "\u001b[0;31mValueError\u001b[0m                                Traceback (most recent call last)",
      "Input \u001b[0;32mIn [66]\u001b[0m, in \u001b[0;36m<cell line: 1>\u001b[0;34m()\u001b[0m\n\u001b[0;32m----> 1\u001b[0m \u001b[43mmodel\u001b[49m\u001b[38;5;241;43m.\u001b[39;49m\u001b[43msummary\u001b[49m\u001b[43m(\u001b[49m\u001b[43m)\u001b[49m\n",
      "File \u001b[0;32m~/.local/lib/python3.8/site-packages/keras/engine/training.py:2775\u001b[0m, in \u001b[0;36mModel.summary\u001b[0;34m(self, line_length, positions, print_fn, expand_nested, show_trainable)\u001b[0m\n\u001b[1;32m   2753\u001b[0m \u001b[38;5;124;03m\"\"\"Prints a string summary of the network.\u001b[39;00m\n\u001b[1;32m   2754\u001b[0m \n\u001b[1;32m   2755\u001b[0m \u001b[38;5;124;03mArgs:\u001b[39;00m\n\u001b[0;32m   (...)\u001b[0m\n\u001b[1;32m   2772\u001b[0m \u001b[38;5;124;03m    ValueError: if `summary()` is called before the model is built.\u001b[39;00m\n\u001b[1;32m   2773\u001b[0m \u001b[38;5;124;03m\"\"\"\u001b[39;00m\n\u001b[1;32m   2774\u001b[0m \u001b[38;5;28;01mif\u001b[39;00m \u001b[38;5;129;01mnot\u001b[39;00m \u001b[38;5;28mself\u001b[39m\u001b[38;5;241m.\u001b[39mbuilt:\n\u001b[0;32m-> 2775\u001b[0m   \u001b[38;5;28;01mraise\u001b[39;00m \u001b[38;5;167;01mValueError\u001b[39;00m(\n\u001b[1;32m   2776\u001b[0m       \u001b[38;5;124m'\u001b[39m\u001b[38;5;124mThis model has not yet been built. \u001b[39m\u001b[38;5;124m'\u001b[39m\n\u001b[1;32m   2777\u001b[0m       \u001b[38;5;124m'\u001b[39m\u001b[38;5;124mBuild the model first by calling `build()` or by calling \u001b[39m\u001b[38;5;124m'\u001b[39m\n\u001b[1;32m   2778\u001b[0m       \u001b[38;5;124m'\u001b[39m\u001b[38;5;124mthe model on a batch of data.\u001b[39m\u001b[38;5;124m'\u001b[39m)\n\u001b[1;32m   2779\u001b[0m layer_utils\u001b[38;5;241m.\u001b[39mprint_summary(\n\u001b[1;32m   2780\u001b[0m     \u001b[38;5;28mself\u001b[39m,\n\u001b[1;32m   2781\u001b[0m     line_length\u001b[38;5;241m=\u001b[39mline_length,\n\u001b[0;32m   (...)\u001b[0m\n\u001b[1;32m   2784\u001b[0m     expand_nested\u001b[38;5;241m=\u001b[39mexpand_nested,\n\u001b[1;32m   2785\u001b[0m     show_trainable\u001b[38;5;241m=\u001b[39mshow_trainable)\n",
      "\u001b[0;31mValueError\u001b[0m: This model has not yet been built. Build the model first by calling `build()` or by calling the model on a batch of data."
     ]
    }
   ],
   "source": [
    "model.summary()"
   ]
  },
  {
   "cell_type": "code",
   "execution_count": null,
   "metadata": {
    "id": "s22uutU9kf-g"
   },
   "outputs": [],
   "source": [
    "# Predict the X_test results\n",
    "y_pred = model.predict(X_test)"
   ]
  },
  {
   "cell_type": "code",
   "execution_count": null,
   "metadata": {
    "id": "Jk1SfkSwktaY"
   },
   "outputs": [],
   "source": [
    "y_pred_label = []\n",
    "for i in range(0, len(y_pred)):\n",
    "  if y_pred[i] >= 0.5:\n",
    "    y_pred_label.append(1)\n",
    "  else:\n",
    "    y_pred_label.append(0)"
   ]
  },
  {
   "cell_type": "code",
   "execution_count": null,
   "metadata": {
    "colab": {
     "base_uri": "https://localhost:8080/"
    },
    "id": "l5dNlrdXkxyo",
    "outputId": "2c28d109-ba81-4189-f88e-dce10140b4a1"
   },
   "outputs": [],
   "source": [
    "print(\"Các chỉ số đánh giá mức độ hiệu quả của mô hình: \")\n",
    "#Accuracy\n",
    "print(\"1. Accuracy:\",metrics.accuracy_score(y_pred_label,y_test))\n",
    "# confusion_matrix\n",
    "print('2. confusion_matrix:')\n",
    "print(confusion_matrix(y_pred_label,y_test))\n",
    "# recall_score\n",
    "print('3. recall_score: ', recall_score(y_pred_label,y_test))\n",
    "# precision_score\n",
    "print('4. precision_score: ', precision_score(y_pred_label,y_test))\n",
    "# f1_score\n",
    "print('5. f1_score: ', f1_score(y_pred_label,y_test))"
   ]
  },
  {
   "cell_type": "markdown",
   "metadata": {
    "id": "xUUJDz4TlZRL"
   },
   "source": [
    "# **LSTM**"
   ]
  },
  {
   "cell_type": "code",
   "execution_count": null,
   "metadata": {
    "id": "P_UGRZaJlH9C"
   },
   "outputs": [],
   "source": [
    "# Import the necessary libraries for ANN model\n",
    "from tensorflow.keras.models import Sequential\n",
    "from tensorflow.keras.layers import Dense\n",
    "from keras.callbacks import EarlyStopping\n",
    "from keras.models import Sequential\n",
    "from keras.layers import LSTM\n",
    "from keras.layers import Dense\n",
    "from keras.layers import TimeDistributed\n",
    "from keras.layers import RepeatVector\n",
    "from keras.layers import Dropout"
   ]
  },
  {
   "cell_type": "code",
   "execution_count": null,
   "metadata": {
    "id": "haJY4o2Hld-G"
   },
   "outputs": [],
   "source": [
    "regressor = Sequential()\n",
    "regressor.add(LSTM(units = 50, return_sequences = True, input_shape = (X_train.shape[1], 1)))\n",
    "regressor.add(Dropout(0.2))\n",
    "\n",
    "regressor.add(LSTM(units = 50, return_sequences = True))\n",
    "regressor.add(Dropout(0.2))\n",
    "\n",
    "regressor.add(LSTM(units = 50, return_sequences = True))\n",
    "regressor.add(Dropout(0.2))\n",
    "\n",
    "regressor.add(LSTM(units = 50))\n",
    "regressor.add(Dropout(0.2))\n",
    "regressor.add(Dense(units = 1))\n",
    "regressor.compile(optimizer = 'adam', loss = 'mean_squared_error')"
   ]
  },
  {
   "cell_type": "code",
   "execution_count": null,
   "metadata": {
    "colab": {
     "base_uri": "https://localhost:8080/"
    },
    "id": "zMYSwI3blgng",
    "outputId": "b2928d20-d38a-41f3-b83a-cf187fcf1dc4"
   },
   "outputs": [],
   "source": [
    "regressor.fit(X_train, y_train, epochs = 100, batch_size = 32)"
   ]
  },
  {
   "cell_type": "code",
   "execution_count": null,
   "metadata": {
    "colab": {
     "base_uri": "https://localhost:8080/"
    },
    "id": "RIj-W3hOljtM",
    "outputId": "86a80c39-5d39-4e87-900c-53f291a963fc"
   },
   "outputs": [],
   "source": [
    "regressor.summary()"
   ]
  },
  {
   "cell_type": "code",
   "execution_count": null,
   "metadata": {
    "id": "KlHjV3iZlmDH"
   },
   "outputs": [],
   "source": [
    "# Predict the X_test results\n",
    "y_pred = regressor.predict(X_test)"
   ]
  },
  {
   "cell_type": "code",
   "execution_count": null,
   "metadata": {
    "id": "JRYzm07ElpLn"
   },
   "outputs": [],
   "source": [
    "y_pred_label = []\n",
    "for i in range(0, len(y_pred)):\n",
    "  if y_pred[i] >= 0.5:\n",
    "    y_pred_label.append(1)\n",
    "  else:\n",
    "    y_pred_label.append(0)"
   ]
  },
  {
   "cell_type": "code",
   "execution_count": null,
   "metadata": {
    "colab": {
     "base_uri": "https://localhost:8080/"
    },
    "id": "y3MSNKCulsTy",
    "outputId": "8df4401c-c1a8-4568-cb24-2b00c5dcf67e"
   },
   "outputs": [],
   "source": [
    "print(\"Các chỉ số đánh giá mức độ hiệu quả của mô hình: \")\n",
    "#Accuracy\n",
    "print(\"1. Accuracy:\",metrics.accuracy_score(y_pred_label,y_test))\n",
    "# confusion_matrix\n",
    "print('2. confusion_matrix:')\n",
    "print(confusion_matrix(y_pred_label,y_test))\n",
    "# recall_score\n",
    "print('3. recall_score: ', recall_score(y_pred_label,y_test))\n",
    "# precision_score\n",
    "print('4. precision_score: ', precision_score(y_pred_label,y_test))\n",
    "# f1_score\n",
    "print('5. f1_score: ', f1_score(y_pred_label,y_test))"
   ]
  },
  {
   "cell_type": "markdown",
   "metadata": {
    "id": "VC0pxsaoluap"
   },
   "source": [
    "# ***Kết thúc!***"
   ]
  }
 ],
 "metadata": {
  "colab": {
   "collapsed_sections": [],
   "name": "Model_Searching.ipynb",
   "provenance": []
  },
  "interpreter": {
   "hash": "916dbcbb3f70747c44a77c7bcd40155683ae19c65e1c03b4aa3499c5328201f1"
  },
  "kernelspec": {
   "display_name": "Python 3 (ipykernel)",
   "language": "python",
   "name": "python3"
  },
  "language_info": {
   "codemirror_mode": {
    "name": "ipython",
    "version": 3
   },
   "file_extension": ".py",
   "mimetype": "text/x-python",
   "name": "python",
   "nbconvert_exporter": "python",
   "pygments_lexer": "ipython3",
   "version": "3.8.10"
  }
 },
 "nbformat": 4,
 "nbformat_minor": 1
}
