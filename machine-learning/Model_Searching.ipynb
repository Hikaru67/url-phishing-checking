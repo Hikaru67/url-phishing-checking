{
 "cells": [
  {
   "cell_type": "markdown",
   "metadata": {
    "id": "-XD2n3zO9jUT"
   },
   "source": [
    "# **Overview:**\n",
    "\n",
    "Chương trình này là tiếp nối của chương trình Part-2_Visualization.ipynb\n",
    "\n",
    "Chương trình là thử nghiệm các mô hình Machine Learning trên tập dữ liệu đã được xử lý cũng như có cái nhìn tổng quan từ 2 phần trước."
   ]
  },
  {
   "cell_type": "code",
   "execution_count": null,
   "metadata": {},
   "outputs": [],
   "source": []
  },
  {
   "cell_type": "markdown",
   "metadata": {
    "id": "tgRCj5JR_XJS"
   },
   "source": [
    "# **6. Khai báo và cài đặt cần sử dụng**"
   ]
  },
  {
   "cell_type": "code",
   "execution_count": 24,
   "metadata": {
    "id": "nKdLs7iA_X-j"
   },
   "outputs": [],
   "source": [
    "import pandas as pd\n",
    "import seaborn as sns\n",
    "import matplotlib.pyplot as plt\n",
    "\n",
    "from sklearn.preprocessing import LabelEncoder\n",
    "from sklearn.preprocessing import StandardScaler\n",
    "from sklearn.model_selection import train_test_split\n",
    "from sklearn.datasets import load_breast_cancer\n",
    "from sklearn.metrics import confusion_matrix\n",
    "from sklearn.metrics import recall_score\n",
    "from sklearn.metrics import precision_score\n",
    "from sklearn.metrics import f1_score\n",
    "\n",
    "import xgboost as xgb\n",
    "import lightgbm as lgb\n",
    "from sklearn.svm import SVC\n",
    "from sklearn.ensemble import BaggingClassifier\n",
    "from sklearn.tree import DecisionTreeClassifier\n",
    "from sklearn.ensemble import RandomForestClassifier, ExtraTreesClassifier\n",
    "from sklearn.model_selection import RandomizedSearchCV,GridSearchCV\n",
    "from sklearn.inspection import permutation_importance\n",
    "from sklearn.model_selection import KFold\n",
    "from datetime import datetime\n",
    "import warnings"
   ]
  },
  {
   "cell_type": "code",
   "execution_count": 25,
   "metadata": {
    "id": "7Ots-XXs9_kr"
   },
   "outputs": [],
   "source": [
    "from pylab import rcParams\n",
    "\n",
    "rcParams['figure.figsize'] = 16,9"
   ]
  },
  {
   "cell_type": "markdown",
   "metadata": {
    "id": "rIpZhGyw_f3d"
   },
   "source": [
    "### **Đọc dữ liệu**"
   ]
  },
  {
   "cell_type": "code",
   "execution_count": 26,
   "metadata": {
    "colab": {
     "base_uri": "https://localhost:8080/"
    },
    "id": "D24NIgv9hI01",
    "outputId": "aff46ea6-9557-4407-ac8f-529c34cc81c7"
   },
   "outputs": [],
   "source": [
    "# from google.colab import drive\n",
    "# drive.mount('data')"
   ]
  },
  {
   "cell_type": "code",
   "execution_count": 27,
   "metadata": {
    "id": "Ocyr9vip5N0m"
   },
   "outputs": [],
   "source": [
    "df = pd.read_csv('data/newProcessed.csv')"
   ]
  },
  {
   "cell_type": "code",
   "execution_count": 28,
   "metadata": {
    "colab": {
     "base_uri": "https://localhost:8080/",
     "height": 424
    },
    "id": "gz6T5S2VLijc",
    "outputId": "aac84d75-93fd-4d17-ac35-eabcb6d0c42b"
   },
   "outputs": [
    {
     "data": {
      "text/html": [
       "<div>\n",
       "<style scoped>\n",
       "    .dataframe tbody tr th:only-of-type {\n",
       "        vertical-align: middle;\n",
       "    }\n",
       "\n",
       "    .dataframe tbody tr th {\n",
       "        vertical-align: top;\n",
       "    }\n",
       "\n",
       "    .dataframe thead th {\n",
       "        text-align: right;\n",
       "    }\n",
       "</style>\n",
       "<table border=\"1\" class=\"dataframe\">\n",
       "  <thead>\n",
       "    <tr style=\"text-align: right;\">\n",
       "      <th></th>\n",
       "      <th>Index</th>\n",
       "      <th>Domain</th>\n",
       "      <th>Subdomain_Level</th>\n",
       "      <th>Url_Length</th>\n",
       "      <th>Url_Depth</th>\n",
       "      <th>Have_At_Sign</th>\n",
       "      <th>Have_Tilde_Symbol</th>\n",
       "      <th>No_Https</th>\n",
       "      <th>Having_IP</th>\n",
       "      <th>Domain_In_Subdomains</th>\n",
       "      <th>...</th>\n",
       "      <th>DNS</th>\n",
       "      <th>Domain_Age</th>\n",
       "      <th>Domain_End</th>\n",
       "      <th>Rank_Host</th>\n",
       "      <th>Rank_Country</th>\n",
       "      <th>Iframe</th>\n",
       "      <th>Mouse_Over</th>\n",
       "      <th>Right_Click</th>\n",
       "      <th>Forwarding</th>\n",
       "      <th>Label</th>\n",
       "    </tr>\n",
       "  </thead>\n",
       "  <tbody>\n",
       "    <tr>\n",
       "      <th>0</th>\n",
       "      <td>0</td>\n",
       "      <td>google.com</td>\n",
       "      <td>1</td>\n",
       "      <td>43</td>\n",
       "      <td>1</td>\n",
       "      <td>0</td>\n",
       "      <td>0</td>\n",
       "      <td>0</td>\n",
       "      <td>0</td>\n",
       "      <td>1</td>\n",
       "      <td>...</td>\n",
       "      <td>0</td>\n",
       "      <td>0</td>\n",
       "      <td>0</td>\n",
       "      <td>1</td>\n",
       "      <td>1</td>\n",
       "      <td>0</td>\n",
       "      <td>1</td>\n",
       "      <td>0</td>\n",
       "      <td>0</td>\n",
       "      <td>0</td>\n",
       "    </tr>\n",
       "    <tr>\n",
       "      <th>1</th>\n",
       "      <td>1</td>\n",
       "      <td>google.com</td>\n",
       "      <td>1</td>\n",
       "      <td>36</td>\n",
       "      <td>1</td>\n",
       "      <td>0</td>\n",
       "      <td>0</td>\n",
       "      <td>0</td>\n",
       "      <td>0</td>\n",
       "      <td>1</td>\n",
       "      <td>...</td>\n",
       "      <td>0</td>\n",
       "      <td>0</td>\n",
       "      <td>0</td>\n",
       "      <td>1</td>\n",
       "      <td>1</td>\n",
       "      <td>0</td>\n",
       "      <td>1</td>\n",
       "      <td>0</td>\n",
       "      <td>0</td>\n",
       "      <td>0</td>\n",
       "    </tr>\n",
       "    <tr>\n",
       "      <th>2</th>\n",
       "      <td>2</td>\n",
       "      <td>google.com</td>\n",
       "      <td>1</td>\n",
       "      <td>41</td>\n",
       "      <td>1</td>\n",
       "      <td>0</td>\n",
       "      <td>0</td>\n",
       "      <td>0</td>\n",
       "      <td>0</td>\n",
       "      <td>1</td>\n",
       "      <td>...</td>\n",
       "      <td>0</td>\n",
       "      <td>0</td>\n",
       "      <td>0</td>\n",
       "      <td>1</td>\n",
       "      <td>1</td>\n",
       "      <td>0</td>\n",
       "      <td>1</td>\n",
       "      <td>0</td>\n",
       "      <td>0</td>\n",
       "      <td>0</td>\n",
       "    </tr>\n",
       "    <tr>\n",
       "      <th>3</th>\n",
       "      <td>3</td>\n",
       "      <td>bilnet.eu</td>\n",
       "      <td>1</td>\n",
       "      <td>16</td>\n",
       "      <td>0</td>\n",
       "      <td>0</td>\n",
       "      <td>0</td>\n",
       "      <td>1</td>\n",
       "      <td>0</td>\n",
       "      <td>0</td>\n",
       "      <td>...</td>\n",
       "      <td>0</td>\n",
       "      <td>1</td>\n",
       "      <td>1</td>\n",
       "      <td>1</td>\n",
       "      <td>1</td>\n",
       "      <td>0</td>\n",
       "      <td>0</td>\n",
       "      <td>0</td>\n",
       "      <td>1</td>\n",
       "      <td>0</td>\n",
       "    </tr>\n",
       "    <tr>\n",
       "      <th>4</th>\n",
       "      <td>4</td>\n",
       "      <td>bil-privatebanking.eu</td>\n",
       "      <td>1</td>\n",
       "      <td>28</td>\n",
       "      <td>0</td>\n",
       "      <td>0</td>\n",
       "      <td>0</td>\n",
       "      <td>1</td>\n",
       "      <td>0</td>\n",
       "      <td>0</td>\n",
       "      <td>...</td>\n",
       "      <td>0</td>\n",
       "      <td>1</td>\n",
       "      <td>1</td>\n",
       "      <td>1</td>\n",
       "      <td>1</td>\n",
       "      <td>0</td>\n",
       "      <td>0</td>\n",
       "      <td>0</td>\n",
       "      <td>1</td>\n",
       "      <td>0</td>\n",
       "    </tr>\n",
       "    <tr>\n",
       "      <th>...</th>\n",
       "      <td>...</td>\n",
       "      <td>...</td>\n",
       "      <td>...</td>\n",
       "      <td>...</td>\n",
       "      <td>...</td>\n",
       "      <td>...</td>\n",
       "      <td>...</td>\n",
       "      <td>...</td>\n",
       "      <td>...</td>\n",
       "      <td>...</td>\n",
       "      <td>...</td>\n",
       "      <td>...</td>\n",
       "      <td>...</td>\n",
       "      <td>...</td>\n",
       "      <td>...</td>\n",
       "      <td>...</td>\n",
       "      <td>...</td>\n",
       "      <td>...</td>\n",
       "      <td>...</td>\n",
       "      <td>...</td>\n",
       "      <td>...</td>\n",
       "    </tr>\n",
       "    <tr>\n",
       "      <th>14137</th>\n",
       "      <td>14137</td>\n",
       "      <td>sites.google.com</td>\n",
       "      <td>1</td>\n",
       "      <td>45</td>\n",
       "      <td>2</td>\n",
       "      <td>0</td>\n",
       "      <td>0</td>\n",
       "      <td>0</td>\n",
       "      <td>0</td>\n",
       "      <td>1</td>\n",
       "      <td>...</td>\n",
       "      <td>0</td>\n",
       "      <td>0</td>\n",
       "      <td>0</td>\n",
       "      <td>1</td>\n",
       "      <td>1</td>\n",
       "      <td>0</td>\n",
       "      <td>0</td>\n",
       "      <td>0</td>\n",
       "      <td>0</td>\n",
       "      <td>1</td>\n",
       "    </tr>\n",
       "    <tr>\n",
       "      <th>14138</th>\n",
       "      <td>14138</td>\n",
       "      <td>sites.google.com</td>\n",
       "      <td>1</td>\n",
       "      <td>45</td>\n",
       "      <td>2</td>\n",
       "      <td>0</td>\n",
       "      <td>0</td>\n",
       "      <td>1</td>\n",
       "      <td>0</td>\n",
       "      <td>1</td>\n",
       "      <td>...</td>\n",
       "      <td>0</td>\n",
       "      <td>0</td>\n",
       "      <td>0</td>\n",
       "      <td>1</td>\n",
       "      <td>1</td>\n",
       "      <td>0</td>\n",
       "      <td>0</td>\n",
       "      <td>0</td>\n",
       "      <td>0</td>\n",
       "      <td>1</td>\n",
       "    </tr>\n",
       "    <tr>\n",
       "      <th>14139</th>\n",
       "      <td>14139</td>\n",
       "      <td>habbocreditosparati.blogspot.com</td>\n",
       "      <td>1</td>\n",
       "      <td>44</td>\n",
       "      <td>0</td>\n",
       "      <td>0</td>\n",
       "      <td>0</td>\n",
       "      <td>1</td>\n",
       "      <td>0</td>\n",
       "      <td>1</td>\n",
       "      <td>...</td>\n",
       "      <td>1</td>\n",
       "      <td>1</td>\n",
       "      <td>1</td>\n",
       "      <td>1</td>\n",
       "      <td>1</td>\n",
       "      <td>0</td>\n",
       "      <td>0</td>\n",
       "      <td>0</td>\n",
       "      <td>0</td>\n",
       "      <td>1</td>\n",
       "    </tr>\n",
       "    <tr>\n",
       "      <th>14140</th>\n",
       "      <td>14140</td>\n",
       "      <td>creditiperhabbogratissicuro100.blogspot.com</td>\n",
       "      <td>1</td>\n",
       "      <td>95</td>\n",
       "      <td>3</td>\n",
       "      <td>0</td>\n",
       "      <td>0</td>\n",
       "      <td>1</td>\n",
       "      <td>0</td>\n",
       "      <td>1</td>\n",
       "      <td>...</td>\n",
       "      <td>1</td>\n",
       "      <td>1</td>\n",
       "      <td>1</td>\n",
       "      <td>1</td>\n",
       "      <td>1</td>\n",
       "      <td>0</td>\n",
       "      <td>0</td>\n",
       "      <td>0</td>\n",
       "      <td>0</td>\n",
       "      <td>1</td>\n",
       "    </tr>\n",
       "    <tr>\n",
       "      <th>14141</th>\n",
       "      <td>14141</td>\n",
       "      <td>aijcs.blogspot.com</td>\n",
       "      <td>1</td>\n",
       "      <td>60</td>\n",
       "      <td>3</td>\n",
       "      <td>0</td>\n",
       "      <td>0</td>\n",
       "      <td>1</td>\n",
       "      <td>0</td>\n",
       "      <td>1</td>\n",
       "      <td>...</td>\n",
       "      <td>1</td>\n",
       "      <td>1</td>\n",
       "      <td>1</td>\n",
       "      <td>1</td>\n",
       "      <td>1</td>\n",
       "      <td>0</td>\n",
       "      <td>0</td>\n",
       "      <td>0</td>\n",
       "      <td>0</td>\n",
       "      <td>1</td>\n",
       "    </tr>\n",
       "  </tbody>\n",
       "</table>\n",
       "<p>14142 rows × 38 columns</p>\n",
       "</div>"
      ],
      "text/plain": [
       "       Index                                       Domain  Subdomain_Level  \\\n",
       "0          0                                   google.com                1   \n",
       "1          1                                   google.com                1   \n",
       "2          2                                   google.com                1   \n",
       "3          3                                    bilnet.eu                1   \n",
       "4          4                        bil-privatebanking.eu                1   \n",
       "...      ...                                          ...              ...   \n",
       "14137  14137                             sites.google.com                1   \n",
       "14138  14138                             sites.google.com                1   \n",
       "14139  14139             habbocreditosparati.blogspot.com                1   \n",
       "14140  14140  creditiperhabbogratissicuro100.blogspot.com                1   \n",
       "14141  14141                           aijcs.blogspot.com                1   \n",
       "\n",
       "       Url_Length  Url_Depth  Have_At_Sign  Have_Tilde_Symbol  No_Https  \\\n",
       "0              43          1             0                  0         0   \n",
       "1              36          1             0                  0         0   \n",
       "2              41          1             0                  0         0   \n",
       "3              16          0             0                  0         1   \n",
       "4              28          0             0                  0         1   \n",
       "...           ...        ...           ...                ...       ...   \n",
       "14137          45          2             0                  0         0   \n",
       "14138          45          2             0                  0         1   \n",
       "14139          44          0             0                  0         1   \n",
       "14140          95          3             0                  0         1   \n",
       "14141          60          3             0                  0         1   \n",
       "\n",
       "       Having_IP  Domain_In_Subdomains  ...  DNS  Domain_Age  Domain_End  \\\n",
       "0              0                     1  ...    0           0           0   \n",
       "1              0                     1  ...    0           0           0   \n",
       "2              0                     1  ...    0           0           0   \n",
       "3              0                     0  ...    0           1           1   \n",
       "4              0                     0  ...    0           1           1   \n",
       "...          ...                   ...  ...  ...         ...         ...   \n",
       "14137          0                     1  ...    0           0           0   \n",
       "14138          0                     1  ...    0           0           0   \n",
       "14139          0                     1  ...    1           1           1   \n",
       "14140          0                     1  ...    1           1           1   \n",
       "14141          0                     1  ...    1           1           1   \n",
       "\n",
       "       Rank_Host  Rank_Country  Iframe  Mouse_Over  Right_Click  Forwarding  \\\n",
       "0              1             1       0           1            0           0   \n",
       "1              1             1       0           1            0           0   \n",
       "2              1             1       0           1            0           0   \n",
       "3              1             1       0           0            0           1   \n",
       "4              1             1       0           0            0           1   \n",
       "...          ...           ...     ...         ...          ...         ...   \n",
       "14137          1             1       0           0            0           0   \n",
       "14138          1             1       0           0            0           0   \n",
       "14139          1             1       0           0            0           0   \n",
       "14140          1             1       0           0            0           0   \n",
       "14141          1             1       0           0            0           0   \n",
       "\n",
       "       Label  \n",
       "0          0  \n",
       "1          0  \n",
       "2          0  \n",
       "3          0  \n",
       "4          0  \n",
       "...      ...  \n",
       "14137      1  \n",
       "14138      1  \n",
       "14139      1  \n",
       "14140      1  \n",
       "14141      1  \n",
       "\n",
       "[14142 rows x 38 columns]"
      ]
     },
     "execution_count": 28,
     "metadata": {},
     "output_type": "execute_result"
    }
   ],
   "source": [
    "df"
   ]
  },
  {
   "cell_type": "markdown",
   "metadata": {
    "id": "Dxi_EEFcM0d9"
   },
   "source": [
    "**Kiểm tra độ quan trọng của đăc trưng (feature important)**"
   ]
  },
  {
   "cell_type": "code",
   "execution_count": 29,
   "metadata": {
    "colab": {
     "base_uri": "https://localhost:8080/"
    },
    "id": "3W3-QIMUK7vX",
    "outputId": "c295dcf0-d17f-458d-d68d-a29d7b9dfbde"
   },
   "outputs": [
    {
     "data": {
      "text/plain": [
       "Index(['Index', 'Domain', 'Subdomain_Level', 'Url_Length', 'Url_Depth',\n",
       "       'Have_At_Sign', 'Have_Tilde_Symbol', 'No_Https', 'Having_IP',\n",
       "       'Domain_In_Subdomains', 'Domain_In_Paths', 'Http_In_Hostname',\n",
       "       'Double_Slash_In_Path', 'Num_Dots', 'Num_Dashes_In_Hostname',\n",
       "       'Num_Underscore', 'Num_Percent', 'Num_Query_Components',\n",
       "       'Num_Ampersand', 'Num_Hash', 'Num_Numeric_Chars', 'Path_Length',\n",
       "       'Query_Length', 'Num_Sensitive_Words', 'Ext_Favicon', 'Redirection',\n",
       "       'Tiny_URL', 'Prefix_Suffix', 'DNS', 'Domain_Age', 'Domain_End',\n",
       "       'Rank_Host', 'Rank_Country', 'Iframe', 'Mouse_Over', 'Right_Click',\n",
       "       'Forwarding', 'Label'],\n",
       "      dtype='object')"
      ]
     },
     "execution_count": 29,
     "metadata": {},
     "output_type": "execute_result"
    }
   ],
   "source": [
    "df.columns"
   ]
  },
  {
   "cell_type": "code",
   "execution_count": null,
   "metadata": {},
   "outputs": [],
   "source": []
  },
  {
   "cell_type": "code",
   "execution_count": 61,
   "metadata": {
    "id": "aMX4P9l3K_Am"
   },
   "outputs": [],
   "source": [
    "features = ['Subdomain_Level', 'Url_Length', 'Have_At_Sign', 'Have_Tilde_Symbol', 'No_Https', 'Having_IP', 'Domain_In_Subdomains', 'Domain_In_Paths', 'Http_In_Hostname', 'Double_Slash_In_Path', 'Num_Dots', 'Num_Dashes_In_Hostname', 'Num_Underscore', 'Num_Percent', 'Num_Query_Components', 'Num_Ampersand', 'Num_Hash', 'Num_Numeric_Chars', 'Path_Length', 'Query_Length', 'Num_Sensitive_Words', 'Ext_Favicon', 'Redirection', 'Tiny_URL', 'Prefix_Suffix', 'DNS', 'Domain_Age', 'Domain_End', 'Rank_Host', 'Rank_Country', 'Iframe', 'Mouse_Over', 'Right_Click', 'Forwarding']"
   ]
  },
  {
   "cell_type": "markdown",
   "metadata": {},
   "source": []
  },
  {
   "cell_type": "code",
   "execution_count": 62,
   "metadata": {
    "id": "yv-gjIRYNEOC"
   },
   "outputs": [],
   "source": [
    "X = df[features]\n",
    "y = df['Label']"
   ]
  },
  {
   "cell_type": "code",
   "execution_count": 63,
   "metadata": {
    "id": "61IBCJ_pIWYr"
   },
   "outputs": [],
   "source": [
    "X_train, X_test, y_train, y_test = train_test_split(X, y, test_size=0.3, random_state=42)"
   ]
  },
  {
   "cell_type": "code",
   "execution_count": 64,
   "metadata": {
    "colab": {
     "base_uri": "https://localhost:8080/"
    },
    "id": "DWdnFFbuIjDv",
    "outputId": "ca3ec27d-e2bb-43f0-8789-b35cefe83a23"
   },
   "outputs": [
    {
     "data": {
      "text/plain": [
       "RandomForestRegressor()"
      ]
     },
     "execution_count": 64,
     "metadata": {},
     "output_type": "execute_result"
    }
   ],
   "source": [
    "from sklearn.ensemble import RandomForestRegressor\n",
    "from catboost import CatBoostClassifier\n",
    "rf = RandomForestRegressor(n_estimators=100)\n",
    "rf.fit(X_train, y_train)"
   ]
  },
  {
   "cell_type": "code",
   "execution_count": 65,
   "metadata": {
    "colab": {
     "base_uri": "https://localhost:8080/"
    },
    "id": "1fmC4y4eI1VI",
    "outputId": "68bec4ca-6ab9-4690-faca-16f7dfaa60cb"
   },
   "outputs": [
    {
     "data": {
      "text/plain": [
       "array([0.        , 0.23159935, 0.01602953, 0.0008686 , 0.03426387,\n",
       "       0.00033472, 0.02511407, 0.0010758 , 0.        , 0.00077191,\n",
       "       0.05873328, 0.04016588, 0.02060891, 0.00615559, 0.0065218 ,\n",
       "       0.00540217, 0.00532026, 0.09837989, 0.15867039, 0.0842413 ,\n",
       "       0.01520381, 0.        , 0.00234277, 0.0195195 , 0.02873098,\n",
       "       0.00963608, 0.02375412, 0.03580836, 0.03292208, 0.0010221 ,\n",
       "       0.00723955, 0.0082895 , 0.00845045, 0.01282336])"
      ]
     },
     "execution_count": 65,
     "metadata": {},
     "output_type": "execute_result"
    }
   ],
   "source": [
    "rf.feature_importances_"
   ]
  },
  {
   "cell_type": "code",
   "execution_count": 66,
   "metadata": {
    "colab": {
     "base_uri": "https://localhost:8080/",
     "height": 554
    },
    "id": "IQVZxEreI3KH",
    "outputId": "a0f200cb-790a-454f-d7bf-bd4ea0485a60"
   },
   "outputs": [
    {
     "data": {
      "text/plain": [
       "<BarContainer object of 34 artists>"
      ]
     },
     "execution_count": 66,
     "metadata": {},
     "output_type": "execute_result"
    },
    {
     "data": {
      "image/png": "[encoded data removed]",
      "text/plain": [
       "<Figure size 1152x648 with 1 Axes>"
      ]
     },
     "metadata": {
      "needs_background": "light"
     },
     "output_type": "display_data"
    }
   ],
   "source": [
    "plt.barh(features, rf.feature_importances_)"
   ]
  },
  {
   "cell_type": "markdown",
   "metadata": {
    "id": "KtuTlVylLp3I"
   },
   "source": [
    "# **7. Huấn luyện mô hình - Classification**"
   ]
  },
  {
   "cell_type": "markdown",
   "metadata": {
    "id": "EbL1nMOY3okR"
   },
   "source": [
    "**Split dataset**"
   ]
  },
  {
   "cell_type": "code",
   "execution_count": 67,
   "metadata": {
    "id": "saGRfI7GikQM"
   },
   "outputs": [],
   "source": [
    "Y = y"
   ]
  },
  {
   "cell_type": "code",
   "execution_count": 68,
   "metadata": {
    "id": "NRbIflUoQjzr"
   },
   "outputs": [],
   "source": [
    "from sklearn.model_selection import train_test_split"
   ]
  },
  {
   "cell_type": "code",
   "execution_count": 69,
   "metadata": {
    "id": "wAPp5Qa23w15"
   },
   "outputs": [],
   "source": [
    "X_train,X_test,Y_train,y_test=train_test_split(X,Y,test_size=0.2,random_state=42)"
   ]
  },
  {
   "cell_type": "code",
   "execution_count": 70,
   "metadata": {
    "colab": {
     "base_uri": "https://localhost:8080/"
    },
    "id": "KtRwVSMyMQtu",
    "outputId": "62456ea7-9d92-4860-9375-4667700ed71c"
   },
   "outputs": [
    {
     "name": "stdout",
     "output_type": "stream",
     "text": [
      "Kích thước tập huấn luyện:  (11313, 34) (9899,)\n",
      "Kích thước tập kiểm tra:  (2829, 34) (2829,)\n"
     ]
    }
   ],
   "source": [
    "print('Kích thước tập huấn luyện: ', X_train.shape, y_train.shape)\n",
    "print('Kích thước tập kiểm tra: ', X_test.shape, y_test.shape)"
   ]
  },
  {
   "cell_type": "code",
   "execution_count": 71,
   "metadata": {
    "id": "FGjZf5lpKJBb"
   },
   "outputs": [],
   "source": [
    "# Hàm tính độ chính xác, ma trận nhầm lẫn, Recall, precision, f1 score và vẽ đồ thị ROC\n",
    "from sklearn import metrics\n",
    "from sklearn.model_selection import cross_val_score\n",
    "def evaluate_model(model, X_test, y_test, y_prediction):\n",
    "  print(\"Các chỉ số đánh giá mức độ hiệu quả của mô hình: \")\n",
    "  #Accuracy\n",
    "  print(\"1. Accuracy:\",metrics.accuracy_score(y_prediction,y_test))\n",
    "  # confusion_matrix\n",
    "  print('2. confusion_matrix:')\n",
    "  print(confusion_matrix(y_prediction,y_test))\n",
    "  # recall_score\n",
    "  print('3. recall_score: ', recall_score(y_prediction,y_test))\n",
    "  # precision_score\n",
    "  print('4. precision_score: ', precision_score(y_prediction,y_test))\n",
    "  # f1_score\n",
    "  print('5. f1_score: ', f1_score(y_prediction,y_test))\n",
    "  # ROC plot\n",
    "  print('6. Biểu đồ ROC của mô hình:')\n",
    "  metrics.plot_roc_curve(model, X_test, y_test)\n",
    "  plt.show()"
   ]
  },
  {
   "cell_type": "markdown",
   "metadata": {
    "id": "hwZEX4dN4vJb"
   },
   "source": [
    "**Logistic Regression**"
   ]
  },
  {
   "cell_type": "code",
   "execution_count": 72,
   "metadata": {
    "colab": {
     "base_uri": "https://localhost:8080/",
     "height": 901
    },
    "id": "qWvT8xzX4_Q8",
    "outputId": "b458b8ee-9f48-436b-d252-248f0b807a68",
    "scrolled": true
   },
   "outputs": [
    {
     "name": "stderr",
     "output_type": "stream",
     "text": [
      "/home/hikaru/.local/lib/python3.8/site-packages/sklearn/linear_model/_logistic.py:814: ConvergenceWarning: lbfgs failed to converge (status=1):\n",
      "STOP: TOTAL NO. of ITERATIONS REACHED LIMIT.\n",
      "\n",
      "Increase the number of iterations (max_iter) or scale the data as shown in:\n",
      "    https://scikit-learn.org/stable/modules/preprocessing.html\n",
      "Please also refer to the documentation for alternative solver options:\n",
      "    https://scikit-learn.org/stable/modules/linear_model.html#logistic-regression\n",
      "  n_iter_i = _check_optimize_result(\n",
      "/home/hikaru/.local/lib/python3.8/site-packages/sklearn/utils/deprecation.py:87: FutureWarning: Function plot_roc_curve is deprecated; Function :func:`plot_roc_curve` is deprecated in 1.0 and will be removed in 1.2. Use one of the class methods: :meth:`sklearn.metric.RocCurveDisplay.from_predictions` or :meth:`sklearn.metric.RocCurveDisplay.from_estimator`.\n",
      "  warnings.warn(msg, category=FutureWarning)\n"
     ]
    },
    {
     "name": "stdout",
     "output_type": "stream",
     "text": [
      "Các chỉ số đánh giá mức độ hiệu quả của mô hình: \n",
      "1. Accuracy: 0.6967126193001061\n",
      "2. confusion_matrix:\n",
      "[[ 779  379]\n",
      " [ 479 1192]]\n",
      "3. recall_score:  0.713345302214243\n",
      "4. precision_score:  0.7587523870146403\n",
      "5. f1_score:  0.7353485502776064\n",
      "6. Biểu đồ ROC của mô hình:\n"
     ]
    },
    {
     "data": {
      "image/png": "[encoded data removed]",
      "text/plain": [
       "<Figure size 1152x648 with 1 Axes>"
      ]
     },
     "metadata": {
      "needs_background": "light"
     },
     "output_type": "display_data"
    }
   ],
   "source": [
    "#Given smote, we have to do a little adjustment\n",
    "from sklearn.linear_model import LogisticRegression\n",
    "from sklearn.model_selection import cross_val_score\n",
    "\n",
    "logreg = LogisticRegression(fit_intercept=True, penalty='l2')\n",
    "logreg.fit(X_train, Y_train)\n",
    "\n",
    "logregprediction=logreg.predict(X_test)\n",
    "\n",
    "evaluate_model (logreg, X_test, y_test, logregprediction)"
   ]
  },
  {
   "cell_type": "markdown",
   "metadata": {
    "id": "Ee6TlsOgqMAI"
   },
   "source": [
    "**Linear Discriminant Analysis**"
   ]
  },
  {
   "cell_type": "code",
   "execution_count": 42,
   "metadata": {
    "colab": {
     "base_uri": "https://localhost:8080/",
     "height": 762
    },
    "id": "wsnY-aN3Bykd",
    "outputId": "e0b7ac5c-dcdf-41c4-e08b-4c935683b7c0"
   },
   "outputs": [],
   "source": [
    "# from sklearn.discriminant_analysis import LinearDiscriminantAnalysis\n",
    "# lda = LinearDiscriminantAnalysis()\n",
    "# lda.fit(X_train, Y_train)\n",
    "\n",
    "# lda_prediction=lda.predict(X_test)\n",
    "\n",
    "# evaluate_model (lda, X_test, y_test, lda_prediction)"
   ]
  },
  {
   "cell_type": "markdown",
   "metadata": {
    "id": "iXusnunQqbS2"
   },
   "source": [
    "**Gaussian Naive Bayes**"
   ]
  },
  {
   "cell_type": "code",
   "execution_count": 43,
   "metadata": {
    "colab": {
     "base_uri": "https://localhost:8080/",
     "height": 762
    },
    "id": "BlwsFZL-qOor",
    "outputId": "7a5f75b9-8b6f-41df-ce0e-8a8f2777677a"
   },
   "outputs": [
    {
     "name": "stdout",
     "output_type": "stream",
     "text": [
      "Các chỉ số đánh giá mức độ hiệu quả của mô hình: \n",
      "1. Accuracy: 0.6705549664192294\n",
      "2. confusion_matrix:\n",
      "[[1096  770]\n",
      " [ 162  801]]\n",
      "3. recall_score:  0.8317757009345794\n",
      "4. precision_score:  0.50986632718014\n",
      "5. f1_score:  0.6322020520915548\n",
      "6. Biểu đồ ROC của mô hình:\n"
     ]
    },
    {
     "name": "stderr",
     "output_type": "stream",
     "text": [
      "/home/hikaru/.local/lib/python3.8/site-packages/sklearn/utils/deprecation.py:87: FutureWarning: Function plot_roc_curve is deprecated; Function :func:`plot_roc_curve` is deprecated in 1.0 and will be removed in 1.2. Use one of the class methods: :meth:`sklearn.metric.RocCurveDisplay.from_predictions` or :meth:`sklearn.metric.RocCurveDisplay.from_estimator`.\n",
      "  warnings.warn(msg, category=FutureWarning)\n"
     ]
    },
    {
     "data": {
      "image/png": "[encoded data removed]",
      "text/plain": [
       "<Figure size 1152x648 with 1 Axes>"
      ]
     },
     "metadata": {
      "needs_background": "light"
     },
     "output_type": "display_data"
    }
   ],
   "source": [
    "from sklearn.naive_bayes import GaussianNB\n",
    "gnb = GaussianNB()\n",
    "gnb.fit(X_train, Y_train)\n",
    "\n",
    "gnbprediction=gnb.predict(X_test)\n",
    "\n",
    "evaluate_model (gnb, X_test, y_test, gnbprediction)"
   ]
  },
  {
   "cell_type": "markdown",
   "metadata": {
    "id": "EgyS0v2nqzZo"
   },
   "source": [
    "**Decision Tree Classifier**"
   ]
  },
  {
   "cell_type": "code",
   "execution_count": 44,
   "metadata": {
    "colab": {
     "base_uri": "https://localhost:8080/",
     "height": 762
    },
    "id": "AiJpm4jAqrHy",
    "outputId": "0ff48e17-ceec-49cf-ab9a-d4de737041e6"
   },
   "outputs": [
    {
     "name": "stdout",
     "output_type": "stream",
     "text": [
      "Các chỉ số đánh giá mức độ hiệu quả của mô hình: \n",
      "1. Accuracy: 0.8041710851891127\n",
      "2. confusion_matrix:\n",
      "[[1031  327]\n",
      " [ 227 1244]]\n",
      "3. recall_score:  0.8456832087015635\n",
      "4. precision_score:  0.7918523233609166\n",
      "5. f1_score:  0.8178829717291256\n",
      "6. Biểu đồ ROC của mô hình:\n"
     ]
    },
    {
     "name": "stderr",
     "output_type": "stream",
     "text": [
      "/home/hikaru/.local/lib/python3.8/site-packages/sklearn/utils/deprecation.py:87: FutureWarning: Function plot_roc_curve is deprecated; Function :func:`plot_roc_curve` is deprecated in 1.0 and will be removed in 1.2. Use one of the class methods: :meth:`sklearn.metric.RocCurveDisplay.from_predictions` or :meth:`sklearn.metric.RocCurveDisplay.from_estimator`.\n",
      "  warnings.warn(msg, category=FutureWarning)\n"
     ]
    },
    {
     "data": {
      "image/png": "[encoded data removed]",
      "text/plain": [
       "<Figure size 1152x648 with 1 Axes>"
      ]
     },
     "metadata": {
      "needs_background": "light"
     },
     "output_type": "display_data"
    }
   ],
   "source": [
    "from sklearn.tree import DecisionTreeClassifier\n",
    "\n",
    "dtc= DecisionTreeClassifier(random_state=42)\n",
    "dtc.fit(X_train,Y_train)\n",
    "\n",
    "dtcprediction=dtc.predict(X_test)\n",
    "\n",
    "evaluate_model (dtc, X_test, y_test, dtcprediction)"
   ]
  },
  {
   "cell_type": "markdown",
   "metadata": {
    "id": "Yw0tgBQYrDk3"
   },
   "source": [
    "**Random Forest Classifier**"
   ]
  },
  {
   "cell_type": "code",
   "execution_count": 73,
   "metadata": {
    "colab": {
     "base_uri": "https://localhost:8080/",
     "height": 762
    },
    "id": "OUTcjv1Cq3Ff",
    "outputId": "2a0c3258-f9ea-4f34-bba4-07c6e6a4592f"
   },
   "outputs": [
    {
     "name": "stdout",
     "output_type": "stream",
     "text": [
      "Các chỉ số đánh giá mức độ hiệu quả của mô hình: \n",
      "1. Accuracy: 0.8144220572640509\n",
      "2. confusion_matrix:\n",
      "[[1024  291]\n",
      " [ 234 1280]]\n",
      "3. recall_score:  0.845442536327609\n",
      "4. precision_score:  0.8147676639083387\n",
      "5. f1_score:  0.8298217179902756\n",
      "6. Biểu đồ ROC của mô hình:\n"
     ]
    },
    {
     "name": "stderr",
     "output_type": "stream",
     "text": [
      "/home/hikaru/.local/lib/python3.8/site-packages/sklearn/utils/deprecation.py:87: FutureWarning: Function plot_roc_curve is deprecated; Function :func:`plot_roc_curve` is deprecated in 1.0 and will be removed in 1.2. Use one of the class methods: :meth:`sklearn.metric.RocCurveDisplay.from_predictions` or :meth:`sklearn.metric.RocCurveDisplay.from_estimator`.\n",
      "  warnings.warn(msg, category=FutureWarning)\n"
     ]
    },
    {
     "data": {
      "image/png": "[encoded data removed]",
      "text/plain": [
       "<Figure size 1152x648 with 1 Axes>"
      ]
     },
     "metadata": {
      "needs_background": "light"
     },
     "output_type": "display_data"
    }
   ],
   "source": [
    "from sklearn.ensemble import RandomForestClassifier\n",
    "\n",
    "rfc=RandomForestClassifier(n_jobs=-1,random_state=123)\n",
    "#learning\n",
    "rfc.fit(X_train,Y_train)\n",
    "#Prediction\n",
    "rfcprediction=rfc.predict(X_test)\n",
    "\n",
    "evaluate_model (rfc, X_test, y_test, rfcprediction)\n"
   ]
  },
  {
   "cell_type": "markdown",
   "metadata": {
    "id": "Lrsi70oirRzh"
   },
   "source": [
    "**SVM Classifier**"
   ]
  },
  {
   "cell_type": "code",
   "execution_count": 46,
   "metadata": {
    "colab": {
     "base_uri": "https://localhost:8080/",
     "height": 762
    },
    "id": "Jw3weoEjrOA-",
    "outputId": "c29927ac-a7a8-4eff-8b49-13583316438b"
   },
   "outputs": [
    {
     "name": "stdout",
     "output_type": "stream",
     "text": [
      "Các chỉ số đánh giá mức độ hiệu quả của mô hình: \n",
      "1. Accuracy: 0.6617179215270413\n",
      "2. confusion_matrix:\n",
      "[[ 483  182]\n",
      " [ 775 1389]]\n",
      "3. recall_score:  0.6418669131238447\n",
      "4. precision_score:  0.8841502227880331\n",
      "5. f1_score:  0.7437751004016065\n",
      "6. Biểu đồ ROC của mô hình:\n"
     ]
    },
    {
     "name": "stderr",
     "output_type": "stream",
     "text": [
      "/home/hikaru/.local/lib/python3.8/site-packages/sklearn/utils/deprecation.py:87: FutureWarning: Function plot_roc_curve is deprecated; Function :func:`plot_roc_curve` is deprecated in 1.0 and will be removed in 1.2. Use one of the class methods: :meth:`sklearn.metric.RocCurveDisplay.from_predictions` or :meth:`sklearn.metric.RocCurveDisplay.from_estimator`.\n",
      "  warnings.warn(msg, category=FutureWarning)\n"
     ]
    },
    {
     "data": {
      "image/png": "[encoded data removed]",
      "text/plain": [
       "<Figure size 1152x648 with 1 Axes>"
      ]
     },
     "metadata": {
      "needs_background": "light"
     },
     "output_type": "display_data"
    }
   ],
   "source": [
    "from sklearn import svm\n",
    "#making the instance\n",
    "svc = svm.SVC(random_state=123)\n",
    "#learning\n",
    "svc.fit(X_train,Y_train)\n",
    "#Prediction\n",
    "svcprediction=svc.predict(X_test)\n",
    "\n",
    "evaluate_model (svc, X_test, y_test, svcprediction)"
   ]
  },
  {
   "cell_type": "markdown",
   "metadata": {
    "id": "fQx_zcFCrcHJ"
   },
   "source": [
    "**K-NearestNeighbours Classifier**"
   ]
  },
  {
   "cell_type": "code",
   "execution_count": 47,
   "metadata": {
    "colab": {
     "base_uri": "https://localhost:8080/",
     "height": 762
    },
    "id": "mowRL2N5rXxt",
    "outputId": "13c3f6a9-7d8e-48e4-d9ee-f1e5b875a90f"
   },
   "outputs": [
    {
     "name": "stdout",
     "output_type": "stream",
     "text": [
      "Các chỉ số đánh giá mức độ hiệu quả của mô hình: \n",
      "1. Accuracy: 0.783315659243549\n",
      "2. confusion_matrix:\n",
      "[[ 941  296]\n",
      " [ 317 1275]]\n",
      "3. recall_score:  0.8008793969849246\n",
      "4. precision_score:  0.8115849777211966\n",
      "5. f1_score:  0.8061966487511856\n",
      "6. Biểu đồ ROC của mô hình:\n"
     ]
    },
    {
     "name": "stderr",
     "output_type": "stream",
     "text": [
      "/home/hikaru/.local/lib/python3.8/site-packages/sklearn/utils/deprecation.py:87: FutureWarning: Function plot_roc_curve is deprecated; Function :func:`plot_roc_curve` is deprecated in 1.0 and will be removed in 1.2. Use one of the class methods: :meth:`sklearn.metric.RocCurveDisplay.from_predictions` or :meth:`sklearn.metric.RocCurveDisplay.from_estimator`.\n",
      "  warnings.warn(msg, category=FutureWarning)\n"
     ]
    },
    {
     "data": {
      "image/png": "[encoded data removed]",
      "text/plain": [
       "<Figure size 1152x648 with 1 Axes>"
      ]
     },
     "metadata": {
      "needs_background": "light"
     },
     "output_type": "display_data"
    }
   ],
   "source": [
    "from sklearn.neighbors import KNeighborsClassifier\n",
    "#making the instance\n",
    "knn = KNeighborsClassifier()\n",
    "#learning\n",
    "knn.fit(X_train,Y_train)\n",
    "#Prediction\n",
    "knnprediction=knn.predict(X_test)\n",
    "\n",
    "evaluate_model (knn, X_test, y_test, knnprediction)"
   ]
  },
  {
   "cell_type": "markdown",
   "metadata": {
    "id": "uzixDQHKuCZ1"
   },
   "source": [
    "**Ada Boost**"
   ]
  },
  {
   "cell_type": "code",
   "execution_count": 48,
   "metadata": {
    "colab": {
     "base_uri": "https://localhost:8080/",
     "height": 762
    },
    "id": "PzHkDqlKrkC8",
    "outputId": "237473e5-86e7-4248-b653-943cf217cbb9"
   },
   "outputs": [
    {
     "name": "stdout",
     "output_type": "stream",
     "text": [
      "Các chỉ số đánh giá mức độ hiệu quả của mô hình: \n",
      "1. Accuracy: 0.7476139978791092\n",
      "2. confusion_matrix:\n",
      "[[ 939  395]\n",
      " [ 319 1176]]\n",
      "3. recall_score:  0.7866220735785954\n",
      "4. precision_score:  0.7485677912157861\n",
      "5. f1_score:  0.767123287671233\n",
      "6. Biểu đồ ROC của mô hình:\n"
     ]
    },
    {
     "name": "stderr",
     "output_type": "stream",
     "text": [
      "/home/hikaru/.local/lib/python3.8/site-packages/sklearn/utils/deprecation.py:87: FutureWarning: Function plot_roc_curve is deprecated; Function :func:`plot_roc_curve` is deprecated in 1.0 and will be removed in 1.2. Use one of the class methods: :meth:`sklearn.metric.RocCurveDisplay.from_predictions` or :meth:`sklearn.metric.RocCurveDisplay.from_estimator`.\n",
      "  warnings.warn(msg, category=FutureWarning)\n"
     ]
    },
    {
     "data": {
      "image/png": "[encoded data removed]",
      "text/plain": [
       "<Figure size 1152x648 with 1 Axes>"
      ]
     },
     "metadata": {
      "needs_background": "light"
     },
     "output_type": "display_data"
    }
   ],
   "source": [
    "from sklearn.ensemble import AdaBoostClassifier\n",
    "\n",
    "ada_model = AdaBoostClassifier(n_estimators=200, random_state=44)\n",
    "\n",
    "#learning\n",
    "ada_model.fit(X_train,Y_train)\n",
    "#Prediction\n",
    "ada_modelprediction=ada_model.predict(X_test)\n",
    "\n",
    "evaluate_model (ada_model, X_test, y_test, ada_modelprediction)"
   ]
  },
  {
   "cell_type": "markdown",
   "metadata": {
    "id": "76xn-4l8ukYZ"
   },
   "source": [
    "**XGB Classifier**"
   ]
  },
  {
   "cell_type": "code",
   "execution_count": 74,
   "metadata": {
    "colab": {
     "base_uri": "https://localhost:8080/",
     "height": 762
    },
    "id": "V6Trgh2Jupi4",
    "outputId": "d54b63f8-09c0-4863-ab7b-3b17ee6fac30"
   },
   "outputs": [
    {
     "name": "stdout",
     "output_type": "stream",
     "text": [
      "Các chỉ số đánh giá mức độ hiệu quả của mô hình: \n",
      "1. Accuracy: 0.8119476846942383\n",
      "2. confusion_matrix:\n",
      "[[1008  282]\n",
      " [ 250 1289]]\n",
      "3. recall_score:  0.8375568551007148\n",
      "4. precision_score:  0.8204964990451942\n",
      "5. f1_score:  0.8289389067524117\n",
      "6. Biểu đồ ROC của mô hình:\n"
     ]
    },
    {
     "name": "stderr",
     "output_type": "stream",
     "text": [
      "/home/hikaru/.local/lib/python3.8/site-packages/sklearn/utils/deprecation.py:87: FutureWarning: Function plot_roc_curve is deprecated; Function :func:`plot_roc_curve` is deprecated in 1.0 and will be removed in 1.2. Use one of the class methods: :meth:`sklearn.metric.RocCurveDisplay.from_predictions` or :meth:`sklearn.metric.RocCurveDisplay.from_estimator`.\n",
      "  warnings.warn(msg, category=FutureWarning)\n"
     ]
    },
    {
     "data": {
      "image/png": "[encoded data removed]",
      "text/plain": [
       "<Figure size 1152x648 with 1 Axes>"
      ]
     },
     "metadata": {
      "needs_background": "light"
     },
     "output_type": "display_data"
    }
   ],
   "source": [
    "from xgboost import XGBClassifier\n",
    "\n",
    "XGB_1 = XGBClassifier(objective='binary:logistic',scale_pos_weight=1,n_estimators=85, eta=0.3, subsample=1, colsample_bytree=1)\n",
    "\n",
    "#learning\n",
    "XGB_1.fit(X_train,Y_train)\n",
    "#Prediction\n",
    "XGB_modelprediction=XGB_1.predict(X_test)\n",
    "\n",
    "evaluate_model (XGB_1, X_test, y_test, XGB_modelprediction)"
   ]
  },
  {
   "cell_type": "markdown",
   "metadata": {
    "id": "1NMfpUOli4jn"
   },
   "source": [
    "**XGB Classifier Ver_2**"
   ]
  },
  {
   "cell_type": "code",
   "execution_count": 50,
   "metadata": {
    "colab": {
     "base_uri": "https://localhost:8080/",
     "height": 762
    },
    "id": "pbDiEglLi4PM",
    "outputId": "aad68a53-813b-405f-fa3e-26809438d357"
   },
   "outputs": [
    {
     "name": "stdout",
     "output_type": "stream",
     "text": [
      "Các chỉ số đánh giá mức độ hiệu quả của mô hình: \n",
      "1. Accuracy: 0.8434075645104278\n",
      "2. confusion_matrix:\n",
      "[[1067  252]\n",
      " [ 191 1319]]\n",
      "3. recall_score:  0.8735099337748344\n",
      "4. precision_score:  0.8395926161680458\n",
      "5. f1_score:  0.8562155144433625\n",
      "6. Biểu đồ ROC của mô hình:\n"
     ]
    },
    {
     "name": "stderr",
     "output_type": "stream",
     "text": [
      "/home/hikaru/.local/lib/python3.8/site-packages/sklearn/utils/deprecation.py:87: FutureWarning: Function plot_roc_curve is deprecated; Function :func:`plot_roc_curve` is deprecated in 1.0 and will be removed in 1.2. Use one of the class methods: :meth:`sklearn.metric.RocCurveDisplay.from_predictions` or :meth:`sklearn.metric.RocCurveDisplay.from_estimator`.\n",
      "  warnings.warn(msg, category=FutureWarning)\n"
     ]
    },
    {
     "data": {
      "image/png": "[encoded data removed]",
      "text/plain": [
       "<Figure size 1152x648 with 1 Axes>"
      ]
     },
     "metadata": {
      "needs_background": "light"
     },
     "output_type": "display_data"
    }
   ],
   "source": [
    "xgb_2 = XGBClassifier(learning_rate=0.4,max_depth=7)\n",
    "#learning\n",
    "xgb_2.fit(X_train,Y_train)\n",
    "#Prediction\n",
    "xgb_2_modelprediction_v2=xgb_2.predict(X_test)\n",
    "\n",
    "evaluate_model (xgb_2, X_test, y_test, xgb_2_modelprediction_v2)"
   ]
  },
  {
   "cell_type": "code",
   "execution_count": 51,
   "metadata": {
    "colab": {
     "base_uri": "https://localhost:8080/",
     "height": 762
    },
    "id": "9Ce6k-h-kbHj",
    "outputId": "f2ad2091-0856-4fd1-84ca-e89993592f57"
   },
   "outputs": [
    {
     "name": "stdout",
     "output_type": "stream",
     "text": [
      "Các chỉ số đánh giá mức độ hiệu quả của mô hình: \n",
      "1. Accuracy: 0.8434075645104278\n",
      "2. confusion_matrix:\n",
      "[[1067  252]\n",
      " [ 191 1319]]\n",
      "3. recall_score:  0.8735099337748344\n",
      "4. precision_score:  0.8395926161680458\n",
      "5. f1_score:  0.8562155144433625\n",
      "6. Biểu đồ ROC của mô hình:\n"
     ]
    },
    {
     "name": "stderr",
     "output_type": "stream",
     "text": [
      "/home/hikaru/.local/lib/python3.8/site-packages/sklearn/utils/deprecation.py:87: FutureWarning: Function plot_roc_curve is deprecated; Function :func:`plot_roc_curve` is deprecated in 1.0 and will be removed in 1.2. Use one of the class methods: :meth:`sklearn.metric.RocCurveDisplay.from_predictions` or :meth:`sklearn.metric.RocCurveDisplay.from_estimator`.\n",
      "  warnings.warn(msg, category=FutureWarning)\n"
     ]
    },
    {
     "data": {
      "image/png": "[encoded data removed]",
      "text/plain": [
       "<Figure size 1152x648 with 1 Axes>"
      ]
     },
     "metadata": {
      "needs_background": "light"
     },
     "output_type": "display_data"
    }
   ],
   "source": [
    "from xgboost import XGBClassifier\n",
    "\n",
    "# instantiate the model\n",
    "xgb_3 = XGBClassifier(learning_rate=0.4,max_depth=7)\n",
    "#fit the model\n",
    "xgb_3.fit(X_train, Y_train)\n",
    "\n",
    "#predicting the target value from the model for the samples\n",
    "y_test_xgb = xgb_3.predict(X_test)\n",
    "\n",
    "evaluate_model (xgb_3, X_test, y_test, y_test_xgb)"
   ]
  },
  {
   "cell_type": "markdown",
   "metadata": {
    "id": "yOWlC_Elcekj"
   },
   "source": [
    "**Light GBM**"
   ]
  },
  {
   "cell_type": "code",
   "execution_count": 52,
   "metadata": {
    "colab": {
     "base_uri": "https://localhost:8080/",
     "height": 762
    },
    "id": "u2IIPoRKcoWF",
    "outputId": "e5d2012a-daeb-467c-d298-6da2fb8242f8"
   },
   "outputs": [
    {
     "name": "stdout",
     "output_type": "stream",
     "text": [
      "Các chỉ số đánh giá mức độ hiệu quả của mô hình: \n",
      "1. Accuracy: 0.6171792152704135\n",
      "2. confusion_matrix:\n",
      "[[1254 1079]\n",
      " [   4  492]]\n",
      "3. recall_score:  0.9919354838709677\n",
      "4. precision_score:  0.31317632081476765\n",
      "5. f1_score:  0.47605224963715526\n",
      "6. Biểu đồ ROC của mô hình:\n"
     ]
    },
    {
     "name": "stderr",
     "output_type": "stream",
     "text": [
      "/home/hikaru/.local/lib/python3.8/site-packages/sklearn/utils/deprecation.py:87: FutureWarning: Function plot_roc_curve is deprecated; Function :func:`plot_roc_curve` is deprecated in 1.0 and will be removed in 1.2. Use one of the class methods: :meth:`sklearn.metric.RocCurveDisplay.from_predictions` or :meth:`sklearn.metric.RocCurveDisplay.from_estimator`.\n",
      "  warnings.warn(msg, category=FutureWarning)\n"
     ]
    },
    {
     "data": {
      "image/png": "[encoded data removed]",
      "text/plain": [
       "<Figure size 1152x648 with 1 Axes>"
      ]
     },
     "metadata": {
      "needs_background": "light"
     },
     "output_type": "display_data"
    }
   ],
   "source": [
    "from lightgbm import LGBMClassifier\n",
    "\n",
    "lgbm_clf = LGBMClassifier(n_estimators=1000, objective='binary',\n",
    "                          class_weight={0:25, 1:1}, learning_rate=0.01,\n",
    "                          boosting_type='dart')\n",
    "lgbm_clf.fit(X_train, Y_train)\n",
    "\n",
    "#Prediction\n",
    "LGBM_modelprediction=lgbm_clf.predict(X_test)\n",
    "\n",
    "evaluate_model (lgbm_clf, X_test, y_test, LGBM_modelprediction)"
   ]
  },
  {
   "cell_type": "markdown",
   "metadata": {
    "id": "npv91YsHcrwE"
   },
   "source": [
    "**Votting Classifier**"
   ]
  },
  {
   "cell_type": "code",
   "execution_count": 53,
   "metadata": {
    "colab": {
     "base_uri": "https://localhost:8080/",
     "height": 762
    },
    "id": "6qF_0VMlcyWC",
    "outputId": "7491daa2-2508-4722-9973-af0318d7c9ed"
   },
   "outputs": [
    {
     "name": "stdout",
     "output_type": "stream",
     "text": [
      "Các chỉ số đánh giá mức độ hiệu quả của mô hình: \n",
      "1. Accuracy: 0.839519264757865\n",
      "2. confusion_matrix:\n",
      "[[1090  286]\n",
      " [ 168 1285]]\n",
      "3. recall_score:  0.8843771507226428\n",
      "4. precision_score:  0.8179503500954806\n",
      "5. f1_score:  0.8498677248677249\n",
      "6. Biểu đồ ROC của mô hình:\n"
     ]
    },
    {
     "name": "stderr",
     "output_type": "stream",
     "text": [
      "/home/hikaru/.local/lib/python3.8/site-packages/sklearn/utils/deprecation.py:87: FutureWarning: Function plot_roc_curve is deprecated; Function :func:`plot_roc_curve` is deprecated in 1.0 and will be removed in 1.2. Use one of the class methods: :meth:`sklearn.metric.RocCurveDisplay.from_predictions` or :meth:`sklearn.metric.RocCurveDisplay.from_estimator`.\n",
      "  warnings.warn(msg, category=FutureWarning)\n"
     ]
    },
    {
     "data": {
      "image/png": "[encoded data removed]",
      "text/plain": [
       "<Figure size 1152x648 with 1 Axes>"
      ]
     },
     "metadata": {
      "needs_background": "light"
     },
     "output_type": "display_data"
    }
   ],
   "source": [
    "from sklearn.ensemble import RandomForestClassifier, GradientBoostingClassifier, \\\n",
    "    ExtraTreesClassifier, VotingClassifier\n",
    "\n",
    "clf1 = RandomForestClassifier(n_estimators=200, class_weight={0: 100, 1: 1})\n",
    "clf2 = GradientBoostingClassifier(n_estimators=1000, max_depth=7)\n",
    "clf3 = ExtraTreesClassifier(n_estimators=1000, class_weight={0: 100, 1: 1})\n",
    "clf4 = XGBClassifier(n_estimators=1000, max_depth=5, learning_rate=0.01)\n",
    "pos_clf = VotingClassifier(estimators=[('pos', clf1), ('gb', clf2),\n",
    "                                        ('et', clf3), ('xgb', clf4)],\n",
    "                            voting='soft',\n",
    "                            weights=[1, 2, 1, 1])\n",
    "\n",
    "pos_clf.fit(X_train, Y_train)\n",
    "\n",
    "#Prediction\n",
    "Vot_modelprediction=pos_clf.predict(X_test)\n",
    "\n",
    "evaluate_model (pos_clf, X_test, y_test, Vot_modelprediction)"
   ]
  },
  {
   "cell_type": "markdown",
   "metadata": {
    "id": "7P5B0NqfH1gX"
   },
   "source": [
    "**Gradient Boosting Classifier**"
   ]
  },
  {
   "cell_type": "code",
   "execution_count": 54,
   "metadata": {
    "colab": {
     "base_uri": "https://localhost:8080/",
     "height": 762
    },
    "id": "Lc9ipfP1JODI",
    "outputId": "1a188f66-806c-41fd-afe4-aa40976466bc"
   },
   "outputs": [
    {
     "name": "stdout",
     "output_type": "stream",
     "text": [
      "Các chỉ số đánh giá mức độ hiệu quả của mô hình: \n",
      "1. Accuracy: 0.8377518557794273\n",
      "2. confusion_matrix:\n",
      "[[1057  258]\n",
      " [ 201 1313]]\n",
      "3. recall_score:  0.8672391017173051\n",
      "4. precision_score:  0.8357733927434755\n",
      "5. f1_score:  0.8512155591572124\n",
      "6. Biểu đồ ROC của mô hình:\n"
     ]
    },
    {
     "name": "stderr",
     "output_type": "stream",
     "text": [
      "/home/hikaru/.local/lib/python3.8/site-packages/sklearn/utils/deprecation.py:87: FutureWarning: Function plot_roc_curve is deprecated; Function :func:`plot_roc_curve` is deprecated in 1.0 and will be removed in 1.2. Use one of the class methods: :meth:`sklearn.metric.RocCurveDisplay.from_predictions` or :meth:`sklearn.metric.RocCurveDisplay.from_estimator`.\n",
      "  warnings.warn(msg, category=FutureWarning)\n"
     ]
    },
    {
     "data": {
      "image/png": "[encoded data removed]",
      "text/plain": [
       "<Figure size 1152x648 with 1 Axes>"
      ]
     },
     "metadata": {
      "needs_background": "light"
     },
     "output_type": "display_data"
    }
   ],
   "source": [
    "from sklearn.ensemble import RandomForestClassifier, GradientBoostingClassifier, \\\n",
    "    ExtraTreesClassifier, VotingClassifier\n",
    "\n",
    "GBoost = GradientBoostingClassifier(n_estimators=1000, max_depth=7)\n",
    "\n",
    "\n",
    "GBoost.fit(X_train, Y_train)\n",
    "\n",
    "#Prediction\n",
    "GBoost_modelprediction=GBoost.predict(X_test)\n",
    "\n",
    "evaluate_model (GBoost, X_test, y_test, GBoost_modelprediction)"
   ]
  },
  {
   "cell_type": "markdown",
   "metadata": {
    "id": "un9ItsRtJdtU"
   },
   "source": [
    "**Extra Trees Classifier**"
   ]
  },
  {
   "cell_type": "code",
   "execution_count": 55,
   "metadata": {
    "colab": {
     "base_uri": "https://localhost:8080/",
     "height": 762
    },
    "id": "r0eqRymXJi-F",
    "outputId": "e79aa58b-5290-47d1-99c0-b73d5b38305f"
   },
   "outputs": [
    {
     "name": "stdout",
     "output_type": "stream",
     "text": [
      "Các chỉ số đánh giá mức độ hiệu quả của mô hình: \n",
      "1. Accuracy: 0.807705903145988\n",
      "2. confusion_matrix:\n",
      "[[1070  356]\n",
      " [ 188 1215]]\n",
      "3. recall_score:  0.8660014255167499\n",
      "4. precision_score:  0.7733927434754934\n",
      "5. f1_score:  0.8170813718897109\n",
      "6. Biểu đồ ROC của mô hình:\n"
     ]
    },
    {
     "name": "stderr",
     "output_type": "stream",
     "text": [
      "/home/hikaru/.local/lib/python3.8/site-packages/sklearn/utils/deprecation.py:87: FutureWarning: Function plot_roc_curve is deprecated; Function :func:`plot_roc_curve` is deprecated in 1.0 and will be removed in 1.2. Use one of the class methods: :meth:`sklearn.metric.RocCurveDisplay.from_predictions` or :meth:`sklearn.metric.RocCurveDisplay.from_estimator`.\n",
      "  warnings.warn(msg, category=FutureWarning)\n"
     ]
    },
    {
     "data": {
      "image/png": "[encoded data removed]",
      "text/plain": [
       "<Figure size 1152x648 with 1 Axes>"
      ]
     },
     "metadata": {
      "needs_background": "light"
     },
     "output_type": "display_data"
    }
   ],
   "source": [
    "from sklearn.ensemble import RandomForestClassifier, GradientBoostingClassifier, \\\n",
    "    ExtraTreesClassifier, VotingClassifier\n",
    "\n",
    "Extra = ExtraTreesClassifier(n_estimators=1000, class_weight={0: 100, 1: 1})\n",
    "\n",
    "\n",
    "Extra.fit(X_train, Y_train)\n",
    "\n",
    "#Prediction\n",
    "Extra_modelprediction=Extra.predict(X_test)\n",
    "\n",
    "evaluate_model (Extra, X_test, y_test, Extra_modelprediction)"
   ]
  },
  {
   "cell_type": "markdown",
   "metadata": {
    "id": "2xEo4ztNjPLn"
   },
   "source": [
    "**Cat Boosting**"
   ]
  },
  {
   "cell_type": "code",
   "execution_count": 56,
   "metadata": {
    "colab": {
     "base_uri": "https://localhost:8080/"
    },
    "id": "IrxhKhWaj0QS",
    "outputId": "51f2ae41-6358-4e54-9475-f02eba0b8cae"
   },
   "outputs": [
    {
     "name": "stdout",
     "output_type": "stream",
     "text": [
      "Requirement already satisfied: catboost in /home/hikaru/.local/lib/python3.8/site-packages (1.0.5)\n",
      "Requirement already satisfied: six in /usr/lib/python3/dist-packages (from catboost) (1.14.0)\n",
      "Requirement already satisfied: plotly in /home/hikaru/.local/lib/python3.8/site-packages (from catboost) (5.8.0)\n",
      "Requirement already satisfied: matplotlib in /home/hikaru/.local/lib/python3.8/site-packages (from catboost) (3.5.2)\n",
      "Requirement already satisfied: graphviz in /home/hikaru/.local/lib/python3.8/site-packages (from catboost) (0.20)\n",
      "Requirement already satisfied: scipy in /home/hikaru/.local/lib/python3.8/site-packages (from catboost) (1.8.0)\n",
      "Requirement already satisfied: numpy>=1.16.0 in /home/hikaru/.local/lib/python3.8/site-packages (from catboost) (1.22.3)\n",
      "Requirement already satisfied: pandas>=0.24.0 in /home/hikaru/.local/lib/python3.8/site-packages (from catboost) (1.4.2)\n",
      "Requirement already satisfied: tenacity>=6.2.0 in /home/hikaru/.local/lib/python3.8/site-packages (from plotly->catboost) (8.0.1)\n",
      "Requirement already satisfied: pyparsing>=2.2.1 in /usr/lib/python3/dist-packages (from matplotlib->catboost) (2.4.6)\n",
      "Requirement already satisfied: pillow>=6.2.0 in /usr/lib/python3/dist-packages (from matplotlib->catboost) (7.0.0)\n",
      "Requirement already satisfied: cycler>=0.10 in /home/hikaru/.local/lib/python3.8/site-packages (from matplotlib->catboost) (0.11.0)\n",
      "Requirement already satisfied: kiwisolver>=1.0.1 in /home/hikaru/.local/lib/python3.8/site-packages (from matplotlib->catboost) (1.4.2)\n",
      "Requirement already satisfied: fonttools>=4.22.0 in /home/hikaru/.local/lib/python3.8/site-packages (from matplotlib->catboost) (4.33.3)\n",
      "Requirement already satisfied: packaging>=20.0 in /usr/lib/python3/dist-packages (from matplotlib->catboost) (20.3)\n",
      "Requirement already satisfied: python-dateutil>=2.7 in /home/hikaru/.local/lib/python3.8/site-packages (from matplotlib->catboost) (2.8.2)\n",
      "Requirement already satisfied: pytz>=2020.1 in /home/hikaru/.local/lib/python3.8/site-packages (from pandas>=0.24.0->catboost) (2022.1)\n",
      "Note: you may need to restart the kernel to use updated packages.\n"
     ]
    }
   ],
   "source": [
    "pip install catboost"
   ]
  },
  {
   "cell_type": "code",
   "execution_count": 81,
   "metadata": {
    "colab": {
     "base_uri": "https://localhost:8080/",
     "height": 1000
    },
    "id": "mIpk6t8Bjh9U",
    "outputId": "65f8e370-c13d-49da-9f93-fa9bbca72d97"
   },
   "outputs": [
    {
     "name": "stdout",
     "output_type": "stream",
     "text": [
      "0:\tlearn: 0.6295664\ttotal: 15.9ms\tremaining: 15.9s\n",
      "1:\tlearn: 0.5918758\ttotal: 27ms\tremaining: 13.5s\n",
      "2:\tlearn: 0.5709045\ttotal: 36.7ms\tremaining: 12.2s\n",
      "3:\tlearn: 0.5505948\ttotal: 47.5ms\tremaining: 11.8s\n",
      "4:\tlearn: 0.5299323\ttotal: 57.5ms\tremaining: 11.4s\n",
      "5:\tlearn: 0.5161239\ttotal: 68.5ms\tremaining: 11.4s\n",
      "6:\tlearn: 0.5059914\ttotal: 79.2ms\tremaining: 11.2s\n",
      "7:\tlearn: 0.4924444\ttotal: 90.5ms\tremaining: 11.2s\n",
      "8:\tlearn: 0.4847083\ttotal: 103ms\tremaining: 11.4s\n",
      "9:\tlearn: 0.4759957\ttotal: 114ms\tremaining: 11.2s\n",
      "10:\tlearn: 0.4717433\ttotal: 123ms\tremaining: 11s\n",
      "11:\tlearn: 0.4630518\ttotal: 134ms\tremaining: 11.1s\n",
      "12:\tlearn: 0.4603867\ttotal: 144ms\tremaining: 11s\n",
      "13:\tlearn: 0.4545013\ttotal: 156ms\tremaining: 11s\n",
      "14:\tlearn: 0.4503583\ttotal: 166ms\tremaining: 10.9s\n",
      "15:\tlearn: 0.4483451\ttotal: 176ms\tremaining: 10.8s\n",
      "16:\tlearn: 0.4448423\ttotal: 186ms\tremaining: 10.7s\n",
      "17:\tlearn: 0.4409057\ttotal: 196ms\tremaining: 10.7s\n",
      "18:\tlearn: 0.4357956\ttotal: 206ms\tremaining: 10.6s\n",
      "19:\tlearn: 0.4337300\ttotal: 216ms\tremaining: 10.6s\n",
      "20:\tlearn: 0.4305109\ttotal: 229ms\tremaining: 10.7s\n",
      "21:\tlearn: 0.4262644\ttotal: 242ms\tremaining: 10.8s\n",
      "22:\tlearn: 0.4222726\ttotal: 254ms\tremaining: 10.8s\n",
      "23:\tlearn: 0.4187082\ttotal: 264ms\tremaining: 10.7s\n",
      "24:\tlearn: 0.4169730\ttotal: 273ms\tremaining: 10.7s\n",
      "25:\tlearn: 0.4163232\ttotal: 283ms\tremaining: 10.6s\n",
      "26:\tlearn: 0.4152378\ttotal: 293ms\tremaining: 10.6s\n",
      "27:\tlearn: 0.4137809\ttotal: 307ms\tremaining: 10.7s\n",
      "28:\tlearn: 0.4104269\ttotal: 322ms\tremaining: 10.8s\n",
      "29:\tlearn: 0.4096367\ttotal: 332ms\tremaining: 10.7s\n",
      "30:\tlearn: 0.4079779\ttotal: 343ms\tremaining: 10.7s\n",
      "31:\tlearn: 0.4035723\ttotal: 353ms\tremaining: 10.7s\n",
      "32:\tlearn: 0.3997499\ttotal: 364ms\tremaining: 10.7s\n",
      "33:\tlearn: 0.3992134\ttotal: 375ms\tremaining: 10.6s\n",
      "34:\tlearn: 0.3983332\ttotal: 387ms\tremaining: 10.7s\n",
      "35:\tlearn: 0.3979801\ttotal: 399ms\tremaining: 10.7s\n",
      "36:\tlearn: 0.3958922\ttotal: 410ms\tremaining: 10.7s\n",
      "37:\tlearn: 0.3947971\ttotal: 426ms\tremaining: 10.8s\n",
      "38:\tlearn: 0.3940968\ttotal: 438ms\tremaining: 10.8s\n",
      "39:\tlearn: 0.3909974\ttotal: 453ms\tremaining: 10.9s\n",
      "40:\tlearn: 0.3905172\ttotal: 462ms\tremaining: 10.8s\n",
      "41:\tlearn: 0.3881075\ttotal: 484ms\tremaining: 11s\n",
      "42:\tlearn: 0.3829356\ttotal: 495ms\tremaining: 11s\n",
      "43:\tlearn: 0.3812548\ttotal: 505ms\tremaining: 11s\n",
      "44:\tlearn: 0.3803478\ttotal: 515ms\tremaining: 10.9s\n",
      "45:\tlearn: 0.3792043\ttotal: 526ms\tremaining: 10.9s\n",
      "46:\tlearn: 0.3778771\ttotal: 536ms\tremaining: 10.9s\n",
      "47:\tlearn: 0.3742992\ttotal: 546ms\tremaining: 10.8s\n",
      "48:\tlearn: 0.3733904\ttotal: 556ms\tremaining: 10.8s\n",
      "49:\tlearn: 0.3715352\ttotal: 566ms\tremaining: 10.7s\n",
      "50:\tlearn: 0.3704748\ttotal: 576ms\tremaining: 10.7s\n",
      "51:\tlearn: 0.3673211\ttotal: 587ms\tremaining: 10.7s\n",
      "52:\tlearn: 0.3646823\ttotal: 597ms\tremaining: 10.7s\n",
      "53:\tlearn: 0.3640675\ttotal: 606ms\tremaining: 10.6s\n",
      "54:\tlearn: 0.3625037\ttotal: 616ms\tremaining: 10.6s\n",
      "55:\tlearn: 0.3613080\ttotal: 631ms\tremaining: 10.6s\n",
      "56:\tlearn: 0.3593739\ttotal: 644ms\tremaining: 10.7s\n",
      "57:\tlearn: 0.3593075\ttotal: 655ms\tremaining: 10.6s\n",
      "58:\tlearn: 0.3552978\ttotal: 667ms\tremaining: 10.6s\n",
      "59:\tlearn: 0.3533621\ttotal: 677ms\tremaining: 10.6s\n",
      "60:\tlearn: 0.3517668\ttotal: 687ms\tremaining: 10.6s\n",
      "61:\tlearn: 0.3502078\ttotal: 697ms\tremaining: 10.5s\n",
      "62:\tlearn: 0.3483929\ttotal: 707ms\tremaining: 10.5s\n",
      "63:\tlearn: 0.3464133\ttotal: 717ms\tremaining: 10.5s\n",
      "64:\tlearn: 0.3438465\ttotal: 727ms\tremaining: 10.5s\n",
      "65:\tlearn: 0.3416755\ttotal: 737ms\tremaining: 10.4s\n",
      "66:\tlearn: 0.3402528\ttotal: 747ms\tremaining: 10.4s\n",
      "67:\tlearn: 0.3374841\ttotal: 757ms\tremaining: 10.4s\n",
      "68:\tlearn: 0.3364832\ttotal: 767ms\tremaining: 10.3s\n",
      "69:\tlearn: 0.3364324\ttotal: 777ms\tremaining: 10.3s\n",
      "70:\tlearn: 0.3353023\ttotal: 787ms\tremaining: 10.3s\n",
      "71:\tlearn: 0.3335842\ttotal: 807ms\tremaining: 10.4s\n",
      "72:\tlearn: 0.3330810\ttotal: 818ms\tremaining: 10.4s\n",
      "73:\tlearn: 0.3329774\ttotal: 827ms\tremaining: 10.4s\n",
      "74:\tlearn: 0.3322859\ttotal: 840ms\tremaining: 10.4s\n",
      "75:\tlearn: 0.3314269\ttotal: 855ms\tremaining: 10.4s\n",
      "76:\tlearn: 0.3313065\ttotal: 866ms\tremaining: 10.4s\n",
      "77:\tlearn: 0.3305721\ttotal: 877ms\tremaining: 10.4s\n",
      "78:\tlearn: 0.3290752\ttotal: 888ms\tremaining: 10.4s\n",
      "79:\tlearn: 0.3290626\ttotal: 898ms\tremaining: 10.3s\n",
      "80:\tlearn: 0.3283566\ttotal: 907ms\tremaining: 10.3s\n",
      "81:\tlearn: 0.3275179\ttotal: 919ms\tremaining: 10.3s\n",
      "82:\tlearn: 0.3269478\ttotal: 929ms\tremaining: 10.3s\n",
      "83:\tlearn: 0.3259021\ttotal: 939ms\tremaining: 10.2s\n",
      "84:\tlearn: 0.3247803\ttotal: 950ms\tremaining: 10.2s\n",
      "85:\tlearn: 0.3233834\ttotal: 964ms\tremaining: 10.2s\n",
      "86:\tlearn: 0.3228058\ttotal: 983ms\tremaining: 10.3s\n",
      "87:\tlearn: 0.3227709\ttotal: 997ms\tremaining: 10.3s\n",
      "88:\tlearn: 0.3215255\ttotal: 1.01s\tremaining: 10.3s\n",
      "89:\tlearn: 0.3206218\ttotal: 1.02s\tremaining: 10.3s\n",
      "90:\tlearn: 0.3206121\ttotal: 1.03s\tremaining: 10.3s\n",
      "91:\tlearn: 0.3198164\ttotal: 1.04s\tremaining: 10.3s\n",
      "92:\tlearn: 0.3176501\ttotal: 1.05s\tremaining: 10.3s\n",
      "93:\tlearn: 0.3174319\ttotal: 1.06s\tremaining: 10.2s\n",
      "94:\tlearn: 0.3166128\ttotal: 1.08s\tremaining: 10.3s\n",
      "95:\tlearn: 0.3162711\ttotal: 1.09s\tremaining: 10.3s\n",
      "96:\tlearn: 0.3149921\ttotal: 1.1s\tremaining: 10.2s\n",
      "97:\tlearn: 0.3144417\ttotal: 1.11s\tremaining: 10.2s\n",
      "98:\tlearn: 0.3134248\ttotal: 1.12s\tremaining: 10.2s\n",
      "99:\tlearn: 0.3129548\ttotal: 1.14s\tremaining: 10.2s\n",
      "100:\tlearn: 0.3124196\ttotal: 1.15s\tremaining: 10.2s\n",
      "101:\tlearn: 0.3118262\ttotal: 1.16s\tremaining: 10.2s\n",
      "102:\tlearn: 0.3102064\ttotal: 1.17s\tremaining: 10.2s\n",
      "103:\tlearn: 0.3094746\ttotal: 1.18s\tremaining: 10.2s\n",
      "104:\tlearn: 0.3087259\ttotal: 1.19s\tremaining: 10.2s\n",
      "105:\tlearn: 0.3086788\ttotal: 1.2s\tremaining: 10.2s\n",
      "106:\tlearn: 0.3073012\ttotal: 1.22s\tremaining: 10.1s\n",
      "107:\tlearn: 0.3062593\ttotal: 1.23s\tremaining: 10.1s\n",
      "108:\tlearn: 0.3058535\ttotal: 1.24s\tremaining: 10.1s\n",
      "109:\tlearn: 0.3058436\ttotal: 1.25s\tremaining: 10.1s\n",
      "110:\tlearn: 0.3046438\ttotal: 1.26s\tremaining: 10.1s\n",
      "111:\tlearn: 0.3039971\ttotal: 1.27s\tremaining: 10.1s\n",
      "112:\tlearn: 0.3020980\ttotal: 1.29s\tremaining: 10.1s\n",
      "113:\tlearn: 0.3009759\ttotal: 1.3s\tremaining: 10.1s\n",
      "114:\tlearn: 0.3009616\ttotal: 1.32s\tremaining: 10.1s\n",
      "115:\tlearn: 0.2993875\ttotal: 1.33s\tremaining: 10.1s\n",
      "116:\tlearn: 0.2978319\ttotal: 1.34s\tremaining: 10.1s\n",
      "117:\tlearn: 0.2971138\ttotal: 1.35s\tremaining: 10.1s\n",
      "118:\tlearn: 0.2965403\ttotal: 1.36s\tremaining: 10.1s\n",
      "119:\tlearn: 0.2961768\ttotal: 1.37s\tremaining: 10s\n",
      "120:\tlearn: 0.2958651\ttotal: 1.38s\tremaining: 10s\n",
      "121:\tlearn: 0.2942360\ttotal: 1.39s\tremaining: 10s\n",
      "122:\tlearn: 0.2936157\ttotal: 1.4s\tremaining: 10s\n",
      "123:\tlearn: 0.2935879\ttotal: 1.41s\tremaining: 9.97s\n",
      "124:\tlearn: 0.2928461\ttotal: 1.42s\tremaining: 9.95s\n",
      "125:\tlearn: 0.2926036\ttotal: 1.43s\tremaining: 9.92s\n",
      "126:\tlearn: 0.2925921\ttotal: 1.44s\tremaining: 9.9s\n",
      "127:\tlearn: 0.2909613\ttotal: 1.46s\tremaining: 9.91s\n",
      "128:\tlearn: 0.2908188\ttotal: 1.48s\tremaining: 9.98s\n",
      "129:\tlearn: 0.2903491\ttotal: 1.49s\tremaining: 9.97s\n",
      "130:\tlearn: 0.2894106\ttotal: 1.5s\tremaining: 9.95s\n",
      "131:\tlearn: 0.2886891\ttotal: 1.51s\tremaining: 9.93s\n",
      "132:\tlearn: 0.2876495\ttotal: 1.52s\tremaining: 9.91s\n",
      "133:\tlearn: 0.2865855\ttotal: 1.53s\tremaining: 9.89s\n",
      "134:\tlearn: 0.2863356\ttotal: 1.54s\tremaining: 9.87s\n",
      "135:\tlearn: 0.2860557\ttotal: 1.55s\tremaining: 9.84s\n",
      "136:\tlearn: 0.2855769\ttotal: 1.56s\tremaining: 9.82s\n",
      "137:\tlearn: 0.2849134\ttotal: 1.57s\tremaining: 9.8s\n",
      "138:\tlearn: 0.2841264\ttotal: 1.58s\tremaining: 9.79s\n",
      "139:\tlearn: 0.2832727\ttotal: 1.59s\tremaining: 9.77s\n",
      "140:\tlearn: 0.2824538\ttotal: 1.6s\tremaining: 9.76s\n",
      "141:\tlearn: 0.2824252\ttotal: 1.61s\tremaining: 9.72s\n",
      "142:\tlearn: 0.2816442\ttotal: 1.62s\tremaining: 9.71s\n",
      "143:\tlearn: 0.2810061\ttotal: 1.63s\tremaining: 9.69s\n",
      "144:\tlearn: 0.2809924\ttotal: 1.64s\tremaining: 9.66s\n",
      "145:\tlearn: 0.2807299\ttotal: 1.65s\tremaining: 9.65s\n",
      "146:\tlearn: 0.2796536\ttotal: 1.66s\tremaining: 9.64s\n",
      "147:\tlearn: 0.2794486\ttotal: 1.68s\tremaining: 9.64s\n",
      "148:\tlearn: 0.2786662\ttotal: 1.69s\tremaining: 9.63s\n",
      "149:\tlearn: 0.2776849\ttotal: 1.7s\tremaining: 9.61s\n",
      "150:\tlearn: 0.2768122\ttotal: 1.71s\tremaining: 9.59s\n",
      "151:\tlearn: 0.2768039\ttotal: 1.71s\tremaining: 9.56s\n",
      "152:\tlearn: 0.2761576\ttotal: 1.72s\tremaining: 9.54s\n",
      "153:\tlearn: 0.2758687\ttotal: 1.73s\tremaining: 9.52s\n",
      "154:\tlearn: 0.2750428\ttotal: 1.74s\tremaining: 9.5s\n",
      "155:\tlearn: 0.2746159\ttotal: 1.75s\tremaining: 9.48s\n",
      "156:\tlearn: 0.2737683\ttotal: 1.76s\tremaining: 9.46s\n",
      "157:\tlearn: 0.2729927\ttotal: 1.77s\tremaining: 9.45s\n",
      "158:\tlearn: 0.2723742\ttotal: 1.78s\tremaining: 9.43s\n",
      "159:\tlearn: 0.2721063\ttotal: 1.79s\tremaining: 9.42s\n",
      "160:\tlearn: 0.2715714\ttotal: 1.8s\tremaining: 9.41s\n",
      "161:\tlearn: 0.2708165\ttotal: 1.81s\tremaining: 9.39s\n",
      "162:\tlearn: 0.2705547\ttotal: 1.82s\tremaining: 9.37s\n",
      "163:\tlearn: 0.2698648\ttotal: 1.83s\tremaining: 9.35s\n"
     ]
    },
    {
     "name": "stdout",
     "output_type": "stream",
     "text": [
      "164:\tlearn: 0.2693586\ttotal: 1.85s\tremaining: 9.35s\n",
      "165:\tlearn: 0.2690593\ttotal: 1.86s\tremaining: 9.34s\n",
      "166:\tlearn: 0.2689261\ttotal: 1.87s\tremaining: 9.32s\n",
      "167:\tlearn: 0.2686043\ttotal: 1.88s\tremaining: 9.31s\n",
      "168:\tlearn: 0.2679717\ttotal: 1.89s\tremaining: 9.29s\n",
      "169:\tlearn: 0.2672529\ttotal: 1.9s\tremaining: 9.28s\n",
      "170:\tlearn: 0.2668088\ttotal: 1.91s\tremaining: 9.26s\n",
      "171:\tlearn: 0.2660313\ttotal: 1.92s\tremaining: 9.24s\n",
      "172:\tlearn: 0.2654766\ttotal: 1.93s\tremaining: 9.23s\n",
      "173:\tlearn: 0.2643867\ttotal: 1.95s\tremaining: 9.28s\n",
      "174:\tlearn: 0.2640468\ttotal: 1.96s\tremaining: 9.26s\n",
      "175:\tlearn: 0.2629906\ttotal: 1.97s\tremaining: 9.24s\n",
      "176:\tlearn: 0.2622653\ttotal: 1.98s\tremaining: 9.23s\n",
      "177:\tlearn: 0.2622286\ttotal: 1.99s\tremaining: 9.21s\n",
      "178:\tlearn: 0.2615980\ttotal: 2s\tremaining: 9.19s\n",
      "179:\tlearn: 0.2599092\ttotal: 2.01s\tremaining: 9.18s\n",
      "180:\tlearn: 0.2597240\ttotal: 2.02s\tremaining: 9.16s\n",
      "181:\tlearn: 0.2589686\ttotal: 2.03s\tremaining: 9.14s\n",
      "182:\tlearn: 0.2585039\ttotal: 2.04s\tremaining: 9.13s\n",
      "183:\tlearn: 0.2584978\ttotal: 2.06s\tremaining: 9.11s\n",
      "184:\tlearn: 0.2581331\ttotal: 2.07s\tremaining: 9.1s\n",
      "185:\tlearn: 0.2580401\ttotal: 2.08s\tremaining: 9.1s\n",
      "186:\tlearn: 0.2570712\ttotal: 2.09s\tremaining: 9.09s\n",
      "187:\tlearn: 0.2569648\ttotal: 2.1s\tremaining: 9.07s\n",
      "188:\tlearn: 0.2565485\ttotal: 2.11s\tremaining: 9.05s\n",
      "189:\tlearn: 0.2558729\ttotal: 2.12s\tremaining: 9.04s\n",
      "190:\tlearn: 0.2552170\ttotal: 2.13s\tremaining: 9.03s\n",
      "191:\tlearn: 0.2551936\ttotal: 2.14s\tremaining: 9.02s\n",
      "192:\tlearn: 0.2549821\ttotal: 2.15s\tremaining: 9s\n",
      "193:\tlearn: 0.2542333\ttotal: 2.16s\tremaining: 8.98s\n",
      "194:\tlearn: 0.2541160\ttotal: 2.17s\tremaining: 8.97s\n",
      "195:\tlearn: 0.2536818\ttotal: 2.18s\tremaining: 8.95s\n",
      "196:\tlearn: 0.2526078\ttotal: 2.19s\tremaining: 8.94s\n",
      "197:\tlearn: 0.2518194\ttotal: 2.2s\tremaining: 8.93s\n",
      "198:\tlearn: 0.2516906\ttotal: 2.21s\tremaining: 8.91s\n",
      "199:\tlearn: 0.2516899\ttotal: 2.23s\tremaining: 8.93s\n",
      "200:\tlearn: 0.2516143\ttotal: 2.24s\tremaining: 8.92s\n",
      "201:\tlearn: 0.2515924\ttotal: 2.26s\tremaining: 8.91s\n",
      "202:\tlearn: 0.2511933\ttotal: 2.28s\tremaining: 8.95s\n",
      "203:\tlearn: 0.2507022\ttotal: 2.3s\tremaining: 8.98s\n",
      "204:\tlearn: 0.2506997\ttotal: 2.31s\tremaining: 8.96s\n",
      "205:\tlearn: 0.2503767\ttotal: 2.32s\tremaining: 8.95s\n",
      "206:\tlearn: 0.2499455\ttotal: 2.33s\tremaining: 8.93s\n",
      "207:\tlearn: 0.2491034\ttotal: 2.34s\tremaining: 8.91s\n",
      "208:\tlearn: 0.2486471\ttotal: 2.35s\tremaining: 8.9s\n",
      "209:\tlearn: 0.2486446\ttotal: 2.36s\tremaining: 8.88s\n",
      "210:\tlearn: 0.2484074\ttotal: 2.37s\tremaining: 8.87s\n",
      "211:\tlearn: 0.2479437\ttotal: 2.38s\tremaining: 8.86s\n",
      "212:\tlearn: 0.2469927\ttotal: 2.39s\tremaining: 8.84s\n",
      "213:\tlearn: 0.2465818\ttotal: 2.4s\tremaining: 8.83s\n",
      "214:\tlearn: 0.2459389\ttotal: 2.41s\tremaining: 8.81s\n",
      "215:\tlearn: 0.2455359\ttotal: 2.42s\tremaining: 8.8s\n",
      "216:\tlearn: 0.2449715\ttotal: 2.44s\tremaining: 8.79s\n",
      "217:\tlearn: 0.2444271\ttotal: 2.45s\tremaining: 8.8s\n",
      "218:\tlearn: 0.2438068\ttotal: 2.47s\tremaining: 8.8s\n",
      "219:\tlearn: 0.2431077\ttotal: 2.48s\tremaining: 8.8s\n",
      "220:\tlearn: 0.2430624\ttotal: 2.49s\tremaining: 8.78s\n",
      "221:\tlearn: 0.2427173\ttotal: 2.5s\tremaining: 8.77s\n",
      "222:\tlearn: 0.2423296\ttotal: 2.51s\tremaining: 8.76s\n",
      "223:\tlearn: 0.2414956\ttotal: 2.52s\tremaining: 8.74s\n",
      "224:\tlearn: 0.2407521\ttotal: 2.53s\tremaining: 8.73s\n",
      "225:\tlearn: 0.2407520\ttotal: 2.54s\tremaining: 8.7s\n",
      "226:\tlearn: 0.2406168\ttotal: 2.55s\tremaining: 8.69s\n",
      "227:\tlearn: 0.2401695\ttotal: 2.56s\tremaining: 8.67s\n",
      "228:\tlearn: 0.2401663\ttotal: 2.57s\tremaining: 8.66s\n",
      "229:\tlearn: 0.2400841\ttotal: 2.58s\tremaining: 8.64s\n",
      "230:\tlearn: 0.2396523\ttotal: 2.59s\tremaining: 8.63s\n",
      "231:\tlearn: 0.2396393\ttotal: 2.6s\tremaining: 8.61s\n",
      "232:\tlearn: 0.2396391\ttotal: 2.61s\tremaining: 8.58s\n",
      "233:\tlearn: 0.2394614\ttotal: 2.62s\tremaining: 8.56s\n",
      "234:\tlearn: 0.2394195\ttotal: 2.62s\tremaining: 8.53s\n",
      "235:\tlearn: 0.2388366\ttotal: 2.63s\tremaining: 8.51s\n",
      "236:\tlearn: 0.2382162\ttotal: 2.64s\tremaining: 8.5s\n",
      "237:\tlearn: 0.2371155\ttotal: 2.65s\tremaining: 8.48s\n",
      "238:\tlearn: 0.2367340\ttotal: 2.66s\tremaining: 8.47s\n",
      "239:\tlearn: 0.2364430\ttotal: 2.67s\tremaining: 8.46s\n",
      "240:\tlearn: 0.2361684\ttotal: 2.69s\tremaining: 8.46s\n",
      "241:\tlearn: 0.2357518\ttotal: 2.7s\tremaining: 8.45s\n",
      "242:\tlearn: 0.2353909\ttotal: 2.71s\tremaining: 8.44s\n",
      "243:\tlearn: 0.2353893\ttotal: 2.72s\tremaining: 8.42s\n",
      "244:\tlearn: 0.2353687\ttotal: 2.73s\tremaining: 8.4s\n",
      "245:\tlearn: 0.2353286\ttotal: 2.74s\tremaining: 8.39s\n",
      "246:\tlearn: 0.2349123\ttotal: 2.75s\tremaining: 8.37s\n",
      "247:\tlearn: 0.2345779\ttotal: 2.76s\tremaining: 8.36s\n",
      "248:\tlearn: 0.2341289\ttotal: 2.78s\tremaining: 8.38s\n",
      "249:\tlearn: 0.2340084\ttotal: 2.79s\tremaining: 8.36s\n",
      "250:\tlearn: 0.2340080\ttotal: 2.79s\tremaining: 8.34s\n",
      "251:\tlearn: 0.2335223\ttotal: 2.8s\tremaining: 8.32s\n",
      "252:\tlearn: 0.2331367\ttotal: 2.81s\tremaining: 8.31s\n",
      "253:\tlearn: 0.2325170\ttotal: 2.82s\tremaining: 8.29s\n",
      "254:\tlearn: 0.2322599\ttotal: 2.83s\tremaining: 8.28s\n",
      "255:\tlearn: 0.2320909\ttotal: 2.84s\tremaining: 8.27s\n",
      "256:\tlearn: 0.2316442\ttotal: 2.86s\tremaining: 8.27s\n",
      "257:\tlearn: 0.2311896\ttotal: 2.87s\tremaining: 8.26s\n",
      "258:\tlearn: 0.2308330\ttotal: 2.88s\tremaining: 8.25s\n",
      "259:\tlearn: 0.2308298\ttotal: 2.89s\tremaining: 8.23s\n",
      "260:\tlearn: 0.2307742\ttotal: 2.9s\tremaining: 8.22s\n",
      "261:\tlearn: 0.2305886\ttotal: 2.91s\tremaining: 8.21s\n",
      "262:\tlearn: 0.2302566\ttotal: 2.92s\tremaining: 8.2s\n",
      "263:\tlearn: 0.2298117\ttotal: 2.94s\tremaining: 8.19s\n",
      "264:\tlearn: 0.2295619\ttotal: 2.95s\tremaining: 8.19s\n",
      "265:\tlearn: 0.2290108\ttotal: 2.96s\tremaining: 8.18s\n",
      "266:\tlearn: 0.2288785\ttotal: 2.97s\tremaining: 8.16s\n",
      "267:\tlearn: 0.2288369\ttotal: 2.98s\tremaining: 8.15s\n",
      "268:\tlearn: 0.2288367\ttotal: 2.99s\tremaining: 8.13s\n",
      "269:\tlearn: 0.2285609\ttotal: 3s\tremaining: 8.11s\n",
      "270:\tlearn: 0.2280253\ttotal: 3.01s\tremaining: 8.1s\n",
      "271:\tlearn: 0.2278374\ttotal: 3.02s\tremaining: 8.08s\n",
      "272:\tlearn: 0.2275920\ttotal: 3.03s\tremaining: 8.07s\n",
      "273:\tlearn: 0.2269032\ttotal: 3.04s\tremaining: 8.06s\n",
      "274:\tlearn: 0.2262996\ttotal: 3.05s\tremaining: 8.05s\n",
      "275:\tlearn: 0.2258882\ttotal: 3.06s\tremaining: 8.03s\n",
      "276:\tlearn: 0.2258881\ttotal: 3.07s\tremaining: 8.01s\n",
      "277:\tlearn: 0.2257764\ttotal: 3.08s\tremaining: 8s\n",
      "278:\tlearn: 0.2251140\ttotal: 3.09s\tremaining: 7.99s\n",
      "279:\tlearn: 0.2248664\ttotal: 3.1s\tremaining: 7.98s\n",
      "280:\tlearn: 0.2244440\ttotal: 3.11s\tremaining: 7.96s\n",
      "281:\tlearn: 0.2238028\ttotal: 3.12s\tremaining: 7.95s\n",
      "282:\tlearn: 0.2234123\ttotal: 3.13s\tremaining: 7.94s\n",
      "283:\tlearn: 0.2228795\ttotal: 3.14s\tremaining: 7.92s\n",
      "284:\tlearn: 0.2224226\ttotal: 3.15s\tremaining: 7.91s\n",
      "285:\tlearn: 0.2222567\ttotal: 3.16s\tremaining: 7.9s\n",
      "286:\tlearn: 0.2220433\ttotal: 3.17s\tremaining: 7.88s\n",
      "287:\tlearn: 0.2216972\ttotal: 3.18s\tremaining: 7.87s\n",
      "288:\tlearn: 0.2213505\ttotal: 3.19s\tremaining: 7.86s\n",
      "289:\tlearn: 0.2211234\ttotal: 3.2s\tremaining: 7.84s\n",
      "290:\tlearn: 0.2205895\ttotal: 3.21s\tremaining: 7.83s\n",
      "291:\tlearn: 0.2202235\ttotal: 3.23s\tremaining: 7.82s\n",
      "292:\tlearn: 0.2195877\ttotal: 3.24s\tremaining: 7.81s\n",
      "293:\tlearn: 0.2194978\ttotal: 3.25s\tremaining: 7.8s\n",
      "294:\tlearn: 0.2190980\ttotal: 3.27s\tremaining: 7.82s\n",
      "295:\tlearn: 0.2183859\ttotal: 3.28s\tremaining: 7.81s\n",
      "296:\tlearn: 0.2181177\ttotal: 3.31s\tremaining: 7.84s\n",
      "297:\tlearn: 0.2180738\ttotal: 3.32s\tremaining: 7.83s\n",
      "298:\tlearn: 0.2180723\ttotal: 3.33s\tremaining: 7.81s\n",
      "299:\tlearn: 0.2176043\ttotal: 3.34s\tremaining: 7.8s\n",
      "300:\tlearn: 0.2174198\ttotal: 3.35s\tremaining: 7.79s\n",
      "301:\tlearn: 0.2171915\ttotal: 3.37s\tremaining: 7.78s\n",
      "302:\tlearn: 0.2171900\ttotal: 3.38s\tremaining: 7.77s\n",
      "303:\tlearn: 0.2167529\ttotal: 3.39s\tremaining: 7.76s\n",
      "304:\tlearn: 0.2166401\ttotal: 3.4s\tremaining: 7.74s\n",
      "305:\tlearn: 0.2166390\ttotal: 3.41s\tremaining: 7.73s\n",
      "306:\tlearn: 0.2164525\ttotal: 3.43s\tremaining: 7.74s\n",
      "307:\tlearn: 0.2164515\ttotal: 3.44s\tremaining: 7.72s\n",
      "308:\tlearn: 0.2164287\ttotal: 3.45s\tremaining: 7.71s\n",
      "309:\tlearn: 0.2163585\ttotal: 3.46s\tremaining: 7.69s\n",
      "310:\tlearn: 0.2163449\ttotal: 3.47s\tremaining: 7.68s\n",
      "311:\tlearn: 0.2161590\ttotal: 3.48s\tremaining: 7.67s\n",
      "312:\tlearn: 0.2161464\ttotal: 3.49s\tremaining: 7.66s\n",
      "313:\tlearn: 0.2161337\ttotal: 3.5s\tremaining: 7.65s\n",
      "314:\tlearn: 0.2156614\ttotal: 3.52s\tremaining: 7.66s\n",
      "315:\tlearn: 0.2154769\ttotal: 3.53s\tremaining: 7.65s\n",
      "316:\tlearn: 0.2150404\ttotal: 3.54s\tremaining: 7.63s\n",
      "317:\tlearn: 0.2147752\ttotal: 3.55s\tremaining: 7.62s\n",
      "318:\tlearn: 0.2144065\ttotal: 3.56s\tremaining: 7.6s\n",
      "319:\tlearn: 0.2140479\ttotal: 3.57s\tremaining: 7.59s\n",
      "320:\tlearn: 0.2134729\ttotal: 3.58s\tremaining: 7.58s\n",
      "321:\tlearn: 0.2132558\ttotal: 3.59s\tremaining: 7.56s\n",
      "322:\tlearn: 0.2129070\ttotal: 3.6s\tremaining: 7.55s\n",
      "323:\tlearn: 0.2123474\ttotal: 3.61s\tremaining: 7.54s\n",
      "324:\tlearn: 0.2120433\ttotal: 3.62s\tremaining: 7.52s\n",
      "325:\tlearn: 0.2115159\ttotal: 3.63s\tremaining: 7.51s\n",
      "326:\tlearn: 0.2113853\ttotal: 3.64s\tremaining: 7.5s\n",
      "327:\tlearn: 0.2113017\ttotal: 3.65s\tremaining: 7.48s\n",
      "328:\tlearn: 0.2111429\ttotal: 3.66s\tremaining: 7.47s\n",
      "329:\tlearn: 0.2108915\ttotal: 3.67s\tremaining: 7.45s\n"
     ]
    },
    {
     "name": "stdout",
     "output_type": "stream",
     "text": [
      "330:\tlearn: 0.2107463\ttotal: 3.68s\tremaining: 7.44s\n",
      "331:\tlearn: 0.2105737\ttotal: 3.69s\tremaining: 7.43s\n",
      "332:\tlearn: 0.2103686\ttotal: 3.71s\tremaining: 7.42s\n",
      "333:\tlearn: 0.2102150\ttotal: 3.72s\tremaining: 7.42s\n",
      "334:\tlearn: 0.2099593\ttotal: 3.73s\tremaining: 7.4s\n",
      "335:\tlearn: 0.2091999\ttotal: 3.74s\tremaining: 7.4s\n",
      "336:\tlearn: 0.2089714\ttotal: 3.76s\tremaining: 7.4s\n",
      "337:\tlearn: 0.2087946\ttotal: 3.77s\tremaining: 7.39s\n",
      "338:\tlearn: 0.2084781\ttotal: 3.78s\tremaining: 7.38s\n",
      "339:\tlearn: 0.2083345\ttotal: 3.79s\tremaining: 7.37s\n",
      "340:\tlearn: 0.2076502\ttotal: 3.81s\tremaining: 7.35s\n",
      "341:\tlearn: 0.2074340\ttotal: 3.81s\tremaining: 7.34s\n",
      "342:\tlearn: 0.2070782\ttotal: 3.83s\tremaining: 7.33s\n",
      "343:\tlearn: 0.2068146\ttotal: 3.84s\tremaining: 7.32s\n",
      "344:\tlearn: 0.2065525\ttotal: 3.85s\tremaining: 7.3s\n",
      "345:\tlearn: 0.2065493\ttotal: 3.86s\tremaining: 7.29s\n",
      "346:\tlearn: 0.2065393\ttotal: 3.87s\tremaining: 7.28s\n",
      "347:\tlearn: 0.2065313\ttotal: 3.88s\tremaining: 7.26s\n",
      "348:\tlearn: 0.2063705\ttotal: 3.89s\tremaining: 7.25s\n",
      "349:\tlearn: 0.2061869\ttotal: 3.91s\tremaining: 7.25s\n",
      "350:\tlearn: 0.2060835\ttotal: 3.92s\tremaining: 7.26s\n",
      "351:\tlearn: 0.2060468\ttotal: 3.93s\tremaining: 7.24s\n",
      "352:\tlearn: 0.2059810\ttotal: 3.94s\tremaining: 7.23s\n",
      "353:\tlearn: 0.2057722\ttotal: 3.95s\tremaining: 7.22s\n",
      "354:\tlearn: 0.2053862\ttotal: 3.96s\tremaining: 7.2s\n",
      "355:\tlearn: 0.2049859\ttotal: 3.98s\tremaining: 7.19s\n",
      "356:\tlearn: 0.2048515\ttotal: 3.99s\tremaining: 7.18s\n",
      "357:\tlearn: 0.2044684\ttotal: 4s\tremaining: 7.17s\n",
      "358:\tlearn: 0.2043873\ttotal: 4.01s\tremaining: 7.16s\n",
      "359:\tlearn: 0.2041578\ttotal: 4.02s\tremaining: 7.14s\n",
      "360:\tlearn: 0.2039983\ttotal: 4.03s\tremaining: 7.13s\n",
      "361:\tlearn: 0.2036025\ttotal: 4.04s\tremaining: 7.12s\n",
      "362:\tlearn: 0.2035432\ttotal: 4.05s\tremaining: 7.11s\n",
      "363:\tlearn: 0.2035277\ttotal: 4.06s\tremaining: 7.09s\n",
      "364:\tlearn: 0.2035114\ttotal: 4.07s\tremaining: 7.08s\n",
      "365:\tlearn: 0.2035032\ttotal: 4.08s\tremaining: 7.07s\n",
      "366:\tlearn: 0.2033147\ttotal: 4.09s\tremaining: 7.06s\n",
      "367:\tlearn: 0.2029708\ttotal: 4.1s\tremaining: 7.05s\n",
      "368:\tlearn: 0.2024315\ttotal: 4.12s\tremaining: 7.04s\n",
      "369:\tlearn: 0.2023040\ttotal: 4.13s\tremaining: 7.03s\n",
      "370:\tlearn: 0.2019948\ttotal: 4.14s\tremaining: 7.02s\n",
      "371:\tlearn: 0.2018208\ttotal: 4.15s\tremaining: 7.01s\n",
      "372:\tlearn: 0.2018171\ttotal: 4.16s\tremaining: 7s\n",
      "373:\tlearn: 0.2016793\ttotal: 4.17s\tremaining: 6.99s\n",
      "374:\tlearn: 0.2014386\ttotal: 4.18s\tremaining: 6.97s\n",
      "375:\tlearn: 0.2014345\ttotal: 4.19s\tremaining: 6.96s\n",
      "376:\tlearn: 0.2011639\ttotal: 4.21s\tremaining: 6.95s\n",
      "377:\tlearn: 0.2009755\ttotal: 4.23s\tremaining: 6.96s\n",
      "378:\tlearn: 0.2007039\ttotal: 4.25s\tremaining: 6.97s\n",
      "379:\tlearn: 0.2005540\ttotal: 4.28s\tremaining: 6.99s\n",
      "380:\tlearn: 0.2002210\ttotal: 4.3s\tremaining: 6.99s\n",
      "381:\tlearn: 0.1999101\ttotal: 4.32s\tremaining: 6.99s\n",
      "382:\tlearn: 0.1997565\ttotal: 4.35s\tremaining: 7s\n",
      "383:\tlearn: 0.1994850\ttotal: 4.37s\tremaining: 7.02s\n",
      "384:\tlearn: 0.1993968\ttotal: 4.42s\tremaining: 7.06s\n",
      "385:\tlearn: 0.1991177\ttotal: 4.44s\tremaining: 7.07s\n",
      "386:\tlearn: 0.1989529\ttotal: 4.47s\tremaining: 7.08s\n",
      "387:\tlearn: 0.1986036\ttotal: 4.49s\tremaining: 7.08s\n",
      "388:\tlearn: 0.1985827\ttotal: 4.51s\tremaining: 7.09s\n",
      "389:\tlearn: 0.1982134\ttotal: 4.55s\tremaining: 7.11s\n",
      "390:\tlearn: 0.1979489\ttotal: 4.59s\tremaining: 7.14s\n",
      "391:\tlearn: 0.1977423\ttotal: 4.62s\tremaining: 7.16s\n",
      "392:\tlearn: 0.1976087\ttotal: 4.64s\tremaining: 7.17s\n",
      "393:\tlearn: 0.1973467\ttotal: 4.66s\tremaining: 7.17s\n",
      "394:\tlearn: 0.1971001\ttotal: 4.68s\tremaining: 7.17s\n",
      "395:\tlearn: 0.1970495\ttotal: 4.71s\tremaining: 7.18s\n",
      "396:\tlearn: 0.1966726\ttotal: 4.75s\tremaining: 7.21s\n",
      "397:\tlearn: 0.1965515\ttotal: 4.77s\tremaining: 7.22s\n",
      "398:\tlearn: 0.1963043\ttotal: 4.8s\tremaining: 7.22s\n",
      "399:\tlearn: 0.1962876\ttotal: 4.82s\tremaining: 7.23s\n",
      "400:\tlearn: 0.1962803\ttotal: 4.84s\tremaining: 7.23s\n",
      "401:\tlearn: 0.1962033\ttotal: 4.86s\tremaining: 7.23s\n",
      "402:\tlearn: 0.1958942\ttotal: 4.88s\tremaining: 7.23s\n",
      "403:\tlearn: 0.1957871\ttotal: 4.92s\tremaining: 7.26s\n",
      "404:\tlearn: 0.1952558\ttotal: 4.93s\tremaining: 7.24s\n",
      "405:\tlearn: 0.1949847\ttotal: 4.96s\tremaining: 7.26s\n",
      "406:\tlearn: 0.1948063\ttotal: 4.98s\tremaining: 7.26s\n",
      "407:\tlearn: 0.1947467\ttotal: 4.99s\tremaining: 7.25s\n",
      "408:\tlearn: 0.1946959\ttotal: 5s\tremaining: 7.23s\n",
      "409:\tlearn: 0.1945957\ttotal: 5.01s\tremaining: 7.22s\n",
      "410:\tlearn: 0.1943977\ttotal: 5.02s\tremaining: 7.2s\n",
      "411:\tlearn: 0.1943683\ttotal: 5.03s\tremaining: 7.18s\n",
      "412:\tlearn: 0.1943256\ttotal: 5.04s\tremaining: 7.17s\n",
      "413:\tlearn: 0.1940244\ttotal: 5.05s\tremaining: 7.15s\n",
      "414:\tlearn: 0.1937535\ttotal: 5.06s\tremaining: 7.14s\n",
      "415:\tlearn: 0.1936741\ttotal: 5.07s\tremaining: 7.12s\n",
      "416:\tlearn: 0.1935530\ttotal: 5.08s\tremaining: 7.11s\n",
      "417:\tlearn: 0.1934608\ttotal: 5.09s\tremaining: 7.09s\n",
      "418:\tlearn: 0.1932511\ttotal: 5.1s\tremaining: 7.08s\n",
      "419:\tlearn: 0.1932441\ttotal: 5.11s\tremaining: 7.06s\n",
      "420:\tlearn: 0.1930781\ttotal: 5.12s\tremaining: 7.04s\n",
      "421:\tlearn: 0.1930628\ttotal: 5.13s\tremaining: 7.03s\n",
      "422:\tlearn: 0.1930576\ttotal: 5.14s\tremaining: 7.01s\n",
      "423:\tlearn: 0.1929895\ttotal: 5.15s\tremaining: 7s\n",
      "424:\tlearn: 0.1927766\ttotal: 5.16s\tremaining: 6.98s\n",
      "425:\tlearn: 0.1927535\ttotal: 5.17s\tremaining: 6.97s\n",
      "426:\tlearn: 0.1926738\ttotal: 5.19s\tremaining: 6.96s\n",
      "427:\tlearn: 0.1925715\ttotal: 5.2s\tremaining: 6.95s\n",
      "428:\tlearn: 0.1922420\ttotal: 5.21s\tremaining: 6.93s\n",
      "429:\tlearn: 0.1918274\ttotal: 5.22s\tremaining: 6.92s\n",
      "430:\tlearn: 0.1913232\ttotal: 5.24s\tremaining: 6.91s\n",
      "431:\tlearn: 0.1907507\ttotal: 5.25s\tremaining: 6.9s\n",
      "432:\tlearn: 0.1903051\ttotal: 5.26s\tremaining: 6.88s\n",
      "433:\tlearn: 0.1901001\ttotal: 5.27s\tremaining: 6.87s\n",
      "434:\tlearn: 0.1899647\ttotal: 5.28s\tremaining: 6.85s\n",
      "435:\tlearn: 0.1894913\ttotal: 5.29s\tremaining: 6.84s\n",
      "436:\tlearn: 0.1894380\ttotal: 5.3s\tremaining: 6.82s\n",
      "437:\tlearn: 0.1894207\ttotal: 5.3s\tremaining: 6.81s\n",
      "438:\tlearn: 0.1892094\ttotal: 5.32s\tremaining: 6.79s\n",
      "439:\tlearn: 0.1889018\ttotal: 5.33s\tremaining: 6.78s\n",
      "440:\tlearn: 0.1887476\ttotal: 5.34s\tremaining: 6.76s\n",
      "441:\tlearn: 0.1885124\ttotal: 5.35s\tremaining: 6.75s\n",
      "442:\tlearn: 0.1879628\ttotal: 5.36s\tremaining: 6.74s\n",
      "443:\tlearn: 0.1877342\ttotal: 5.37s\tremaining: 6.73s\n",
      "444:\tlearn: 0.1876977\ttotal: 5.41s\tremaining: 6.75s\n",
      "445:\tlearn: 0.1876872\ttotal: 5.42s\tremaining: 6.73s\n",
      "446:\tlearn: 0.1876068\ttotal: 5.43s\tremaining: 6.72s\n",
      "447:\tlearn: 0.1876007\ttotal: 5.44s\tremaining: 6.71s\n",
      "448:\tlearn: 0.1873947\ttotal: 5.45s\tremaining: 6.69s\n",
      "449:\tlearn: 0.1873871\ttotal: 5.46s\tremaining: 6.68s\n",
      "450:\tlearn: 0.1871523\ttotal: 5.47s\tremaining: 6.66s\n",
      "451:\tlearn: 0.1871420\ttotal: 5.48s\tremaining: 6.64s\n",
      "452:\tlearn: 0.1869778\ttotal: 5.49s\tremaining: 6.63s\n",
      "453:\tlearn: 0.1868540\ttotal: 5.5s\tremaining: 6.62s\n",
      "454:\tlearn: 0.1868276\ttotal: 5.51s\tremaining: 6.6s\n",
      "455:\tlearn: 0.1868275\ttotal: 5.52s\tremaining: 6.59s\n",
      "456:\tlearn: 0.1867576\ttotal: 5.53s\tremaining: 6.57s\n",
      "457:\tlearn: 0.1865659\ttotal: 5.54s\tremaining: 6.56s\n",
      "458:\tlearn: 0.1863560\ttotal: 5.55s\tremaining: 6.54s\n",
      "459:\tlearn: 0.1862309\ttotal: 5.56s\tremaining: 6.53s\n",
      "460:\tlearn: 0.1861573\ttotal: 5.57s\tremaining: 6.51s\n",
      "461:\tlearn: 0.1858779\ttotal: 5.58s\tremaining: 6.5s\n",
      "462:\tlearn: 0.1855976\ttotal: 5.59s\tremaining: 6.49s\n",
      "463:\tlearn: 0.1853318\ttotal: 5.6s\tremaining: 6.47s\n",
      "464:\tlearn: 0.1850705\ttotal: 5.62s\tremaining: 6.46s\n",
      "465:\tlearn: 0.1849606\ttotal: 5.63s\tremaining: 6.45s\n",
      "466:\tlearn: 0.1849352\ttotal: 5.64s\tremaining: 6.43s\n",
      "467:\tlearn: 0.1847711\ttotal: 5.65s\tremaining: 6.42s\n",
      "468:\tlearn: 0.1847599\ttotal: 5.66s\tremaining: 6.4s\n",
      "469:\tlearn: 0.1846829\ttotal: 5.66s\tremaining: 6.39s\n",
      "470:\tlearn: 0.1846641\ttotal: 5.67s\tremaining: 6.37s\n",
      "471:\tlearn: 0.1845787\ttotal: 5.68s\tremaining: 6.35s\n",
      "472:\tlearn: 0.1844545\ttotal: 5.69s\tremaining: 6.34s\n",
      "473:\tlearn: 0.1843613\ttotal: 5.7s\tremaining: 6.32s\n",
      "474:\tlearn: 0.1842907\ttotal: 5.72s\tremaining: 6.32s\n",
      "475:\tlearn: 0.1842744\ttotal: 5.73s\tremaining: 6.3s\n",
      "476:\tlearn: 0.1839830\ttotal: 5.74s\tremaining: 6.29s\n",
      "477:\tlearn: 0.1836899\ttotal: 5.75s\tremaining: 6.28s\n",
      "478:\tlearn: 0.1836451\ttotal: 5.76s\tremaining: 6.26s\n",
      "479:\tlearn: 0.1836342\ttotal: 5.77s\tremaining: 6.25s\n",
      "480:\tlearn: 0.1832666\ttotal: 5.78s\tremaining: 6.24s\n",
      "481:\tlearn: 0.1831114\ttotal: 5.79s\tremaining: 6.22s\n",
      "482:\tlearn: 0.1827483\ttotal: 5.8s\tremaining: 6.21s\n",
      "483:\tlearn: 0.1823947\ttotal: 5.82s\tremaining: 6.2s\n",
      "484:\tlearn: 0.1822947\ttotal: 5.83s\tremaining: 6.18s\n",
      "485:\tlearn: 0.1822723\ttotal: 5.83s\tremaining: 6.17s\n",
      "486:\tlearn: 0.1822152\ttotal: 5.84s\tremaining: 6.16s\n",
      "487:\tlearn: 0.1821458\ttotal: 5.85s\tremaining: 6.14s\n",
      "488:\tlearn: 0.1819516\ttotal: 5.86s\tremaining: 6.13s\n",
      "489:\tlearn: 0.1819516\ttotal: 5.88s\tremaining: 6.12s\n",
      "490:\tlearn: 0.1819025\ttotal: 5.89s\tremaining: 6.11s\n",
      "491:\tlearn: 0.1819025\ttotal: 5.9s\tremaining: 6.09s\n",
      "492:\tlearn: 0.1817505\ttotal: 5.91s\tremaining: 6.07s\n",
      "493:\tlearn: 0.1816598\ttotal: 5.92s\tremaining: 6.06s\n",
      "494:\tlearn: 0.1815512\ttotal: 5.92s\tremaining: 6.04s\n",
      "495:\tlearn: 0.1815511\ttotal: 5.93s\tremaining: 6.03s\n",
      "496:\tlearn: 0.1814817\ttotal: 5.94s\tremaining: 6.01s\n",
      "497:\tlearn: 0.1813959\ttotal: 5.95s\tremaining: 6s\n",
      "498:\tlearn: 0.1812801\ttotal: 5.96s\tremaining: 5.99s\n"
     ]
    },
    {
     "name": "stdout",
     "output_type": "stream",
     "text": [
      "499:\tlearn: 0.1811249\ttotal: 5.97s\tremaining: 5.97s\n",
      "500:\tlearn: 0.1806938\ttotal: 5.99s\tremaining: 5.96s\n",
      "501:\tlearn: 0.1804258\ttotal: 6s\tremaining: 5.95s\n",
      "502:\tlearn: 0.1801655\ttotal: 6.01s\tremaining: 5.93s\n",
      "503:\tlearn: 0.1798995\ttotal: 6.02s\tremaining: 5.92s\n",
      "504:\tlearn: 0.1797196\ttotal: 6.03s\tremaining: 5.91s\n",
      "505:\tlearn: 0.1793918\ttotal: 6.04s\tremaining: 5.89s\n",
      "506:\tlearn: 0.1791638\ttotal: 6.05s\tremaining: 5.88s\n",
      "507:\tlearn: 0.1787544\ttotal: 6.06s\tremaining: 5.87s\n",
      "508:\tlearn: 0.1785340\ttotal: 6.07s\tremaining: 5.86s\n",
      "509:\tlearn: 0.1782518\ttotal: 6.08s\tremaining: 5.84s\n",
      "510:\tlearn: 0.1782217\ttotal: 6.09s\tremaining: 5.83s\n",
      "511:\tlearn: 0.1779149\ttotal: 6.1s\tremaining: 5.81s\n",
      "512:\tlearn: 0.1778936\ttotal: 6.11s\tremaining: 5.8s\n",
      "513:\tlearn: 0.1774715\ttotal: 6.12s\tremaining: 5.79s\n",
      "514:\tlearn: 0.1774649\ttotal: 6.13s\tremaining: 5.77s\n",
      "515:\tlearn: 0.1773418\ttotal: 6.14s\tremaining: 5.76s\n",
      "516:\tlearn: 0.1770370\ttotal: 6.15s\tremaining: 5.75s\n",
      "517:\tlearn: 0.1769318\ttotal: 6.16s\tremaining: 5.73s\n",
      "518:\tlearn: 0.1769318\ttotal: 6.17s\tremaining: 5.72s\n",
      "519:\tlearn: 0.1769190\ttotal: 6.18s\tremaining: 5.71s\n",
      "520:\tlearn: 0.1769186\ttotal: 6.2s\tremaining: 5.7s\n",
      "521:\tlearn: 0.1769081\ttotal: 6.22s\tremaining: 5.69s\n",
      "522:\tlearn: 0.1766234\ttotal: 6.23s\tremaining: 5.68s\n",
      "523:\tlearn: 0.1762598\ttotal: 6.24s\tremaining: 5.67s\n",
      "524:\tlearn: 0.1761490\ttotal: 6.25s\tremaining: 5.65s\n",
      "525:\tlearn: 0.1760991\ttotal: 6.26s\tremaining: 5.64s\n",
      "526:\tlearn: 0.1760991\ttotal: 6.27s\tremaining: 5.62s\n",
      "527:\tlearn: 0.1760840\ttotal: 6.28s\tremaining: 5.61s\n",
      "528:\tlearn: 0.1759463\ttotal: 6.29s\tremaining: 5.6s\n",
      "529:\tlearn: 0.1756802\ttotal: 6.3s\tremaining: 5.58s\n",
      "530:\tlearn: 0.1756183\ttotal: 6.31s\tremaining: 5.57s\n",
      "531:\tlearn: 0.1754091\ttotal: 6.32s\tremaining: 5.56s\n",
      "532:\tlearn: 0.1753922\ttotal: 6.33s\tremaining: 5.54s\n",
      "533:\tlearn: 0.1753891\ttotal: 6.33s\tremaining: 5.53s\n",
      "534:\tlearn: 0.1752660\ttotal: 6.34s\tremaining: 5.51s\n",
      "535:\tlearn: 0.1749428\ttotal: 6.37s\tremaining: 5.51s\n",
      "536:\tlearn: 0.1747897\ttotal: 6.38s\tremaining: 5.5s\n",
      "537:\tlearn: 0.1746119\ttotal: 6.39s\tremaining: 5.49s\n",
      "538:\tlearn: 0.1744473\ttotal: 6.4s\tremaining: 5.48s\n",
      "539:\tlearn: 0.1741932\ttotal: 6.41s\tremaining: 5.46s\n",
      "540:\tlearn: 0.1739607\ttotal: 6.42s\tremaining: 5.45s\n",
      "541:\tlearn: 0.1739048\ttotal: 6.43s\tremaining: 5.44s\n",
      "542:\tlearn: 0.1737163\ttotal: 6.44s\tremaining: 5.42s\n",
      "543:\tlearn: 0.1735764\ttotal: 6.45s\tremaining: 5.41s\n",
      "544:\tlearn: 0.1735526\ttotal: 6.46s\tremaining: 5.39s\n",
      "545:\tlearn: 0.1735418\ttotal: 6.47s\tremaining: 5.38s\n",
      "546:\tlearn: 0.1734158\ttotal: 6.48s\tremaining: 5.37s\n",
      "547:\tlearn: 0.1733052\ttotal: 6.49s\tremaining: 5.36s\n",
      "548:\tlearn: 0.1728882\ttotal: 6.5s\tremaining: 5.34s\n",
      "549:\tlearn: 0.1725741\ttotal: 6.51s\tremaining: 5.33s\n",
      "550:\tlearn: 0.1724765\ttotal: 6.52s\tremaining: 5.32s\n",
      "551:\tlearn: 0.1724620\ttotal: 6.53s\tremaining: 5.3s\n",
      "552:\tlearn: 0.1722565\ttotal: 6.54s\tremaining: 5.29s\n",
      "553:\tlearn: 0.1722323\ttotal: 6.55s\tremaining: 5.27s\n",
      "554:\tlearn: 0.1721470\ttotal: 6.56s\tremaining: 5.26s\n",
      "555:\tlearn: 0.1720771\ttotal: 6.57s\tremaining: 5.25s\n",
      "556:\tlearn: 0.1720091\ttotal: 6.58s\tremaining: 5.23s\n",
      "557:\tlearn: 0.1716536\ttotal: 6.59s\tremaining: 5.22s\n",
      "558:\tlearn: 0.1716324\ttotal: 6.6s\tremaining: 5.21s\n",
      "559:\tlearn: 0.1714734\ttotal: 6.62s\tremaining: 5.2s\n",
      "560:\tlearn: 0.1713552\ttotal: 6.63s\tremaining: 5.18s\n",
      "561:\tlearn: 0.1712744\ttotal: 6.64s\tremaining: 5.17s\n",
      "562:\tlearn: 0.1711279\ttotal: 6.65s\tremaining: 5.16s\n",
      "563:\tlearn: 0.1708398\ttotal: 6.66s\tremaining: 5.15s\n",
      "564:\tlearn: 0.1707121\ttotal: 6.67s\tremaining: 5.14s\n",
      "565:\tlearn: 0.1705257\ttotal: 6.69s\tremaining: 5.13s\n",
      "566:\tlearn: 0.1704716\ttotal: 6.71s\tremaining: 5.12s\n",
      "567:\tlearn: 0.1702464\ttotal: 6.72s\tremaining: 5.11s\n",
      "568:\tlearn: 0.1700493\ttotal: 6.74s\tremaining: 5.11s\n",
      "569:\tlearn: 0.1698429\ttotal: 6.76s\tremaining: 5.1s\n",
      "570:\tlearn: 0.1697492\ttotal: 6.77s\tremaining: 5.09s\n",
      "571:\tlearn: 0.1697265\ttotal: 6.79s\tremaining: 5.08s\n",
      "572:\tlearn: 0.1696977\ttotal: 6.8s\tremaining: 5.07s\n",
      "573:\tlearn: 0.1695809\ttotal: 6.81s\tremaining: 5.05s\n",
      "574:\tlearn: 0.1694421\ttotal: 6.83s\tremaining: 5.05s\n",
      "575:\tlearn: 0.1691765\ttotal: 6.84s\tremaining: 5.04s\n",
      "576:\tlearn: 0.1690251\ttotal: 6.87s\tremaining: 5.04s\n",
      "577:\tlearn: 0.1689563\ttotal: 6.89s\tremaining: 5.03s\n",
      "578:\tlearn: 0.1688632\ttotal: 6.9s\tremaining: 5.02s\n",
      "579:\tlearn: 0.1688154\ttotal: 6.92s\tremaining: 5.01s\n",
      "580:\tlearn: 0.1688078\ttotal: 6.93s\tremaining: 5s\n",
      "581:\tlearn: 0.1687683\ttotal: 6.94s\tremaining: 4.99s\n",
      "582:\tlearn: 0.1686612\ttotal: 6.96s\tremaining: 4.98s\n",
      "583:\tlearn: 0.1686312\ttotal: 6.98s\tremaining: 4.97s\n",
      "584:\tlearn: 0.1684750\ttotal: 6.99s\tremaining: 4.96s\n",
      "585:\tlearn: 0.1683666\ttotal: 7.01s\tremaining: 4.95s\n",
      "586:\tlearn: 0.1682825\ttotal: 7.03s\tremaining: 4.94s\n",
      "587:\tlearn: 0.1681448\ttotal: 7.04s\tremaining: 4.93s\n",
      "588:\tlearn: 0.1679644\ttotal: 7.05s\tremaining: 4.92s\n",
      "589:\tlearn: 0.1676850\ttotal: 7.07s\tremaining: 4.91s\n",
      "590:\tlearn: 0.1676646\ttotal: 7.08s\tremaining: 4.9s\n",
      "591:\tlearn: 0.1674704\ttotal: 7.09s\tremaining: 4.89s\n",
      "592:\tlearn: 0.1673973\ttotal: 7.1s\tremaining: 4.87s\n",
      "593:\tlearn: 0.1673241\ttotal: 7.12s\tremaining: 4.87s\n",
      "594:\tlearn: 0.1672955\ttotal: 7.13s\tremaining: 4.86s\n",
      "595:\tlearn: 0.1671659\ttotal: 7.15s\tremaining: 4.84s\n",
      "596:\tlearn: 0.1671638\ttotal: 7.16s\tremaining: 4.83s\n",
      "597:\tlearn: 0.1670047\ttotal: 7.17s\tremaining: 4.82s\n",
      "598:\tlearn: 0.1664960\ttotal: 7.19s\tremaining: 4.81s\n",
      "599:\tlearn: 0.1663165\ttotal: 7.2s\tremaining: 4.8s\n",
      "600:\tlearn: 0.1662230\ttotal: 7.21s\tremaining: 4.79s\n",
      "601:\tlearn: 0.1660315\ttotal: 7.23s\tremaining: 4.78s\n",
      "602:\tlearn: 0.1659736\ttotal: 7.24s\tremaining: 4.77s\n",
      "603:\tlearn: 0.1657670\ttotal: 7.25s\tremaining: 4.75s\n",
      "604:\tlearn: 0.1656222\ttotal: 7.26s\tremaining: 4.74s\n",
      "605:\tlearn: 0.1655056\ttotal: 7.27s\tremaining: 4.73s\n",
      "606:\tlearn: 0.1654997\ttotal: 7.28s\tremaining: 4.71s\n",
      "607:\tlearn: 0.1654768\ttotal: 7.29s\tremaining: 4.7s\n",
      "608:\tlearn: 0.1654709\ttotal: 7.3s\tremaining: 4.69s\n",
      "609:\tlearn: 0.1653747\ttotal: 7.31s\tremaining: 4.67s\n",
      "610:\tlearn: 0.1651720\ttotal: 7.32s\tremaining: 4.66s\n",
      "611:\tlearn: 0.1651662\ttotal: 7.33s\tremaining: 4.65s\n",
      "612:\tlearn: 0.1651637\ttotal: 7.35s\tremaining: 4.64s\n",
      "613:\tlearn: 0.1651194\ttotal: 7.36s\tremaining: 4.63s\n",
      "614:\tlearn: 0.1650897\ttotal: 7.38s\tremaining: 4.62s\n",
      "615:\tlearn: 0.1650267\ttotal: 7.38s\tremaining: 4.6s\n",
      "616:\tlearn: 0.1648955\ttotal: 7.4s\tremaining: 4.59s\n",
      "617:\tlearn: 0.1647289\ttotal: 7.41s\tremaining: 4.58s\n",
      "618:\tlearn: 0.1644779\ttotal: 7.42s\tremaining: 4.57s\n",
      "619:\tlearn: 0.1644510\ttotal: 7.43s\tremaining: 4.55s\n",
      "620:\tlearn: 0.1643848\ttotal: 7.44s\tremaining: 4.54s\n",
      "621:\tlearn: 0.1641172\ttotal: 7.45s\tremaining: 4.53s\n",
      "622:\tlearn: 0.1640882\ttotal: 7.47s\tremaining: 4.52s\n",
      "623:\tlearn: 0.1638980\ttotal: 7.48s\tremaining: 4.51s\n",
      "624:\tlearn: 0.1638932\ttotal: 7.49s\tremaining: 4.49s\n",
      "625:\tlearn: 0.1638417\ttotal: 7.5s\tremaining: 4.48s\n",
      "626:\tlearn: 0.1637938\ttotal: 7.51s\tremaining: 4.46s\n",
      "627:\tlearn: 0.1636989\ttotal: 7.52s\tremaining: 4.45s\n",
      "628:\tlearn: 0.1636973\ttotal: 7.52s\tremaining: 4.44s\n",
      "629:\tlearn: 0.1636035\ttotal: 7.53s\tremaining: 4.42s\n",
      "630:\tlearn: 0.1631210\ttotal: 7.54s\tremaining: 4.41s\n",
      "631:\tlearn: 0.1631083\ttotal: 7.55s\tremaining: 4.4s\n",
      "632:\tlearn: 0.1630824\ttotal: 7.56s\tremaining: 4.38s\n",
      "633:\tlearn: 0.1630059\ttotal: 7.57s\tremaining: 4.37s\n",
      "634:\tlearn: 0.1629092\ttotal: 7.58s\tremaining: 4.36s\n",
      "635:\tlearn: 0.1627086\ttotal: 7.59s\tremaining: 4.35s\n",
      "636:\tlearn: 0.1626204\ttotal: 7.6s\tremaining: 4.33s\n",
      "637:\tlearn: 0.1624973\ttotal: 7.61s\tremaining: 4.32s\n",
      "638:\tlearn: 0.1624113\ttotal: 7.63s\tremaining: 4.31s\n",
      "639:\tlearn: 0.1622958\ttotal: 7.64s\tremaining: 4.3s\n",
      "640:\tlearn: 0.1620804\ttotal: 7.65s\tremaining: 4.29s\n",
      "641:\tlearn: 0.1620428\ttotal: 7.66s\tremaining: 4.27s\n",
      "642:\tlearn: 0.1620086\ttotal: 7.68s\tremaining: 4.26s\n",
      "643:\tlearn: 0.1618964\ttotal: 7.69s\tremaining: 4.25s\n",
      "644:\tlearn: 0.1618961\ttotal: 7.7s\tremaining: 4.24s\n",
      "645:\tlearn: 0.1618635\ttotal: 7.71s\tremaining: 4.22s\n",
      "646:\tlearn: 0.1618605\ttotal: 7.72s\tremaining: 4.21s\n",
      "647:\tlearn: 0.1615980\ttotal: 7.73s\tremaining: 4.2s\n",
      "648:\tlearn: 0.1613776\ttotal: 7.74s\tremaining: 4.18s\n",
      "649:\tlearn: 0.1611502\ttotal: 7.75s\tremaining: 4.17s\n",
      "650:\tlearn: 0.1609823\ttotal: 7.76s\tremaining: 4.16s\n",
      "651:\tlearn: 0.1608282\ttotal: 7.77s\tremaining: 4.15s\n",
      "652:\tlearn: 0.1605636\ttotal: 7.78s\tremaining: 4.13s\n",
      "653:\tlearn: 0.1602006\ttotal: 7.79s\tremaining: 4.12s\n",
      "654:\tlearn: 0.1601478\ttotal: 7.8s\tremaining: 4.11s\n",
      "655:\tlearn: 0.1599933\ttotal: 7.81s\tremaining: 4.1s\n",
      "656:\tlearn: 0.1599183\ttotal: 7.82s\tremaining: 4.08s\n",
      "657:\tlearn: 0.1598269\ttotal: 7.83s\tremaining: 4.07s\n",
      "658:\tlearn: 0.1597086\ttotal: 7.86s\tremaining: 4.06s\n",
      "659:\tlearn: 0.1597024\ttotal: 7.87s\tremaining: 4.05s\n",
      "660:\tlearn: 0.1595926\ttotal: 7.88s\tremaining: 4.04s\n",
      "661:\tlearn: 0.1595880\ttotal: 7.89s\tremaining: 4.03s\n",
      "662:\tlearn: 0.1594437\ttotal: 7.9s\tremaining: 4.01s\n",
      "663:\tlearn: 0.1592387\ttotal: 7.91s\tremaining: 4s\n",
      "664:\tlearn: 0.1592127\ttotal: 7.92s\tremaining: 3.99s\n",
      "665:\tlearn: 0.1591991\ttotal: 7.93s\tremaining: 3.98s\n",
      "666:\tlearn: 0.1591829\ttotal: 7.94s\tremaining: 3.96s\n",
      "667:\tlearn: 0.1591187\ttotal: 7.95s\tremaining: 3.95s\n",
      "668:\tlearn: 0.1591041\ttotal: 7.96s\tremaining: 3.94s\n",
      "669:\tlearn: 0.1590991\ttotal: 7.97s\tremaining: 3.93s\n",
      "670:\tlearn: 0.1590902\ttotal: 7.98s\tremaining: 3.91s\n",
      "671:\tlearn: 0.1588941\ttotal: 7.99s\tremaining: 3.9s\n",
      "672:\tlearn: 0.1588428\ttotal: 8s\tremaining: 3.89s\n",
      "673:\tlearn: 0.1587333\ttotal: 8.01s\tremaining: 3.88s\n",
      "674:\tlearn: 0.1587005\ttotal: 8.02s\tremaining: 3.86s\n"
     ]
    },
    {
     "name": "stdout",
     "output_type": "stream",
     "text": [
      "675:\tlearn: 0.1586878\ttotal: 8.03s\tremaining: 3.85s\n",
      "676:\tlearn: 0.1586617\ttotal: 8.04s\tremaining: 3.84s\n",
      "677:\tlearn: 0.1584888\ttotal: 8.06s\tremaining: 3.83s\n",
      "678:\tlearn: 0.1582610\ttotal: 8.09s\tremaining: 3.83s\n",
      "679:\tlearn: 0.1581511\ttotal: 8.11s\tremaining: 3.82s\n",
      "680:\tlearn: 0.1581422\ttotal: 8.13s\tremaining: 3.81s\n",
      "681:\tlearn: 0.1581266\ttotal: 8.14s\tremaining: 3.8s\n",
      "682:\tlearn: 0.1581264\ttotal: 8.15s\tremaining: 3.78s\n",
      "683:\tlearn: 0.1580239\ttotal: 8.17s\tremaining: 3.78s\n",
      "684:\tlearn: 0.1578734\ttotal: 8.18s\tremaining: 3.76s\n",
      "685:\tlearn: 0.1577370\ttotal: 8.2s\tremaining: 3.75s\n",
      "686:\tlearn: 0.1577273\ttotal: 8.2s\tremaining: 3.74s\n",
      "687:\tlearn: 0.1577200\ttotal: 8.21s\tremaining: 3.73s\n",
      "688:\tlearn: 0.1576818\ttotal: 8.22s\tremaining: 3.71s\n",
      "689:\tlearn: 0.1576016\ttotal: 8.23s\tremaining: 3.7s\n",
      "690:\tlearn: 0.1574068\ttotal: 8.25s\tremaining: 3.69s\n",
      "691:\tlearn: 0.1573137\ttotal: 8.26s\tremaining: 3.68s\n",
      "692:\tlearn: 0.1572699\ttotal: 8.27s\tremaining: 3.66s\n",
      "693:\tlearn: 0.1571623\ttotal: 8.28s\tremaining: 3.65s\n",
      "694:\tlearn: 0.1571237\ttotal: 8.3s\tremaining: 3.64s\n",
      "695:\tlearn: 0.1569892\ttotal: 8.31s\tremaining: 3.63s\n",
      "696:\tlearn: 0.1568184\ttotal: 8.34s\tremaining: 3.63s\n",
      "697:\tlearn: 0.1566930\ttotal: 8.35s\tremaining: 3.61s\n",
      "698:\tlearn: 0.1566235\ttotal: 8.36s\tremaining: 3.6s\n",
      "699:\tlearn: 0.1565706\ttotal: 8.37s\tremaining: 3.59s\n",
      "700:\tlearn: 0.1563864\ttotal: 8.38s\tremaining: 3.58s\n",
      "701:\tlearn: 0.1563864\ttotal: 8.39s\tremaining: 3.56s\n",
      "702:\tlearn: 0.1562866\ttotal: 8.4s\tremaining: 3.55s\n",
      "703:\tlearn: 0.1562051\ttotal: 8.41s\tremaining: 3.54s\n",
      "704:\tlearn: 0.1561867\ttotal: 8.42s\tremaining: 3.52s\n",
      "705:\tlearn: 0.1561546\ttotal: 8.43s\tremaining: 3.51s\n",
      "706:\tlearn: 0.1558939\ttotal: 8.45s\tremaining: 3.5s\n",
      "707:\tlearn: 0.1558753\ttotal: 8.46s\tremaining: 3.49s\n",
      "708:\tlearn: 0.1557644\ttotal: 8.47s\tremaining: 3.48s\n",
      "709:\tlearn: 0.1556217\ttotal: 8.48s\tremaining: 3.46s\n",
      "710:\tlearn: 0.1555919\ttotal: 8.5s\tremaining: 3.45s\n",
      "711:\tlearn: 0.1555647\ttotal: 8.51s\tremaining: 3.44s\n",
      "712:\tlearn: 0.1554047\ttotal: 8.52s\tremaining: 3.43s\n",
      "713:\tlearn: 0.1553109\ttotal: 8.53s\tremaining: 3.42s\n",
      "714:\tlearn: 0.1552940\ttotal: 8.54s\tremaining: 3.4s\n",
      "715:\tlearn: 0.1552912\ttotal: 8.55s\tremaining: 3.39s\n",
      "716:\tlearn: 0.1552718\ttotal: 8.56s\tremaining: 3.38s\n",
      "717:\tlearn: 0.1552025\ttotal: 8.57s\tremaining: 3.37s\n",
      "718:\tlearn: 0.1551254\ttotal: 8.58s\tremaining: 3.35s\n",
      "719:\tlearn: 0.1551253\ttotal: 8.59s\tremaining: 3.34s\n",
      "720:\tlearn: 0.1551174\ttotal: 8.6s\tremaining: 3.33s\n",
      "721:\tlearn: 0.1549318\ttotal: 8.61s\tremaining: 3.31s\n",
      "722:\tlearn: 0.1548637\ttotal: 8.62s\tremaining: 3.3s\n",
      "723:\tlearn: 0.1546888\ttotal: 8.63s\tremaining: 3.29s\n",
      "724:\tlearn: 0.1545080\ttotal: 8.64s\tremaining: 3.28s\n",
      "725:\tlearn: 0.1544363\ttotal: 8.66s\tremaining: 3.27s\n",
      "726:\tlearn: 0.1544364\ttotal: 8.67s\tremaining: 3.25s\n",
      "727:\tlearn: 0.1543799\ttotal: 8.68s\tremaining: 3.24s\n",
      "728:\tlearn: 0.1542360\ttotal: 8.69s\tremaining: 3.23s\n",
      "729:\tlearn: 0.1541174\ttotal: 8.7s\tremaining: 3.22s\n",
      "730:\tlearn: 0.1540505\ttotal: 8.71s\tremaining: 3.21s\n",
      "731:\tlearn: 0.1540489\ttotal: 8.72s\tremaining: 3.19s\n",
      "732:\tlearn: 0.1539411\ttotal: 8.73s\tremaining: 3.18s\n",
      "733:\tlearn: 0.1538652\ttotal: 8.74s\tremaining: 3.17s\n",
      "734:\tlearn: 0.1535634\ttotal: 8.75s\tremaining: 3.15s\n",
      "735:\tlearn: 0.1534235\ttotal: 8.76s\tremaining: 3.14s\n",
      "736:\tlearn: 0.1532941\ttotal: 8.77s\tremaining: 3.13s\n",
      "737:\tlearn: 0.1532621\ttotal: 8.78s\tremaining: 3.12s\n",
      "738:\tlearn: 0.1532436\ttotal: 8.79s\tremaining: 3.1s\n",
      "739:\tlearn: 0.1532379\ttotal: 8.8s\tremaining: 3.09s\n",
      "740:\tlearn: 0.1531226\ttotal: 8.81s\tremaining: 3.08s\n",
      "741:\tlearn: 0.1529031\ttotal: 8.82s\tremaining: 3.07s\n",
      "742:\tlearn: 0.1528413\ttotal: 8.84s\tremaining: 3.06s\n",
      "743:\tlearn: 0.1527479\ttotal: 8.85s\tremaining: 3.04s\n",
      "744:\tlearn: 0.1526495\ttotal: 8.86s\tremaining: 3.03s\n",
      "745:\tlearn: 0.1526453\ttotal: 8.87s\tremaining: 3.02s\n",
      "746:\tlearn: 0.1525780\ttotal: 8.88s\tremaining: 3.01s\n",
      "747:\tlearn: 0.1524501\ttotal: 8.9s\tremaining: 3s\n",
      "748:\tlearn: 0.1524374\ttotal: 8.9s\tremaining: 2.98s\n",
      "749:\tlearn: 0.1524373\ttotal: 8.91s\tremaining: 2.97s\n",
      "750:\tlearn: 0.1523160\ttotal: 8.92s\tremaining: 2.96s\n",
      "751:\tlearn: 0.1520830\ttotal: 8.94s\tremaining: 2.95s\n",
      "752:\tlearn: 0.1520026\ttotal: 8.95s\tremaining: 2.93s\n",
      "753:\tlearn: 0.1517677\ttotal: 8.96s\tremaining: 2.92s\n",
      "754:\tlearn: 0.1517184\ttotal: 8.97s\tremaining: 2.91s\n",
      "755:\tlearn: 0.1514963\ttotal: 8.98s\tremaining: 2.9s\n",
      "756:\tlearn: 0.1513400\ttotal: 8.99s\tremaining: 2.88s\n",
      "757:\tlearn: 0.1511868\ttotal: 9s\tremaining: 2.87s\n",
      "758:\tlearn: 0.1511796\ttotal: 9.01s\tremaining: 2.86s\n",
      "759:\tlearn: 0.1509466\ttotal: 9.02s\tremaining: 2.85s\n",
      "760:\tlearn: 0.1508623\ttotal: 9.03s\tremaining: 2.84s\n",
      "761:\tlearn: 0.1507343\ttotal: 9.04s\tremaining: 2.83s\n",
      "762:\tlearn: 0.1506866\ttotal: 9.05s\tremaining: 2.81s\n",
      "763:\tlearn: 0.1506316\ttotal: 9.07s\tremaining: 2.8s\n",
      "764:\tlearn: 0.1506289\ttotal: 9.08s\tremaining: 2.79s\n",
      "765:\tlearn: 0.1504433\ttotal: 9.1s\tremaining: 2.78s\n",
      "766:\tlearn: 0.1503866\ttotal: 9.11s\tremaining: 2.77s\n",
      "767:\tlearn: 0.1503778\ttotal: 9.13s\tremaining: 2.76s\n",
      "768:\tlearn: 0.1501693\ttotal: 9.16s\tremaining: 2.75s\n",
      "769:\tlearn: 0.1499708\ttotal: 9.18s\tremaining: 2.74s\n",
      "770:\tlearn: 0.1499567\ttotal: 9.19s\tremaining: 2.73s\n",
      "771:\tlearn: 0.1498375\ttotal: 9.21s\tremaining: 2.72s\n",
      "772:\tlearn: 0.1497082\ttotal: 9.22s\tremaining: 2.71s\n",
      "773:\tlearn: 0.1495556\ttotal: 9.23s\tremaining: 2.7s\n",
      "774:\tlearn: 0.1495398\ttotal: 9.25s\tremaining: 2.68s\n",
      "775:\tlearn: 0.1494943\ttotal: 9.26s\tremaining: 2.67s\n",
      "776:\tlearn: 0.1494943\ttotal: 9.27s\tremaining: 2.66s\n",
      "777:\tlearn: 0.1494547\ttotal: 9.29s\tremaining: 2.65s\n",
      "778:\tlearn: 0.1493273\ttotal: 9.32s\tremaining: 2.65s\n",
      "779:\tlearn: 0.1491415\ttotal: 9.34s\tremaining: 2.63s\n",
      "780:\tlearn: 0.1490556\ttotal: 9.36s\tremaining: 2.62s\n",
      "781:\tlearn: 0.1489072\ttotal: 9.37s\tremaining: 2.61s\n",
      "782:\tlearn: 0.1487935\ttotal: 9.38s\tremaining: 2.6s\n",
      "783:\tlearn: 0.1487379\ttotal: 9.39s\tremaining: 2.59s\n",
      "784:\tlearn: 0.1486633\ttotal: 9.41s\tremaining: 2.58s\n",
      "785:\tlearn: 0.1483360\ttotal: 9.42s\tremaining: 2.56s\n",
      "786:\tlearn: 0.1481892\ttotal: 9.43s\tremaining: 2.55s\n",
      "787:\tlearn: 0.1480467\ttotal: 9.44s\tremaining: 2.54s\n",
      "788:\tlearn: 0.1479422\ttotal: 9.45s\tremaining: 2.53s\n",
      "789:\tlearn: 0.1479192\ttotal: 9.46s\tremaining: 2.51s\n",
      "790:\tlearn: 0.1478920\ttotal: 9.47s\tremaining: 2.5s\n",
      "791:\tlearn: 0.1478630\ttotal: 9.48s\tremaining: 2.49s\n",
      "792:\tlearn: 0.1477369\ttotal: 9.5s\tremaining: 2.48s\n",
      "793:\tlearn: 0.1475017\ttotal: 9.51s\tremaining: 2.47s\n",
      "794:\tlearn: 0.1474090\ttotal: 9.52s\tremaining: 2.46s\n",
      "795:\tlearn: 0.1472234\ttotal: 9.53s\tremaining: 2.44s\n",
      "796:\tlearn: 0.1472064\ttotal: 9.54s\tremaining: 2.43s\n",
      "797:\tlearn: 0.1470376\ttotal: 9.55s\tremaining: 2.42s\n",
      "798:\tlearn: 0.1470337\ttotal: 9.56s\tremaining: 2.4s\n",
      "799:\tlearn: 0.1469684\ttotal: 9.57s\tremaining: 2.39s\n",
      "800:\tlearn: 0.1468539\ttotal: 9.58s\tremaining: 2.38s\n",
      "801:\tlearn: 0.1468505\ttotal: 9.59s\tremaining: 2.37s\n",
      "802:\tlearn: 0.1468474\ttotal: 9.6s\tremaining: 2.35s\n",
      "803:\tlearn: 0.1466839\ttotal: 9.61s\tremaining: 2.34s\n",
      "804:\tlearn: 0.1466709\ttotal: 9.62s\tremaining: 2.33s\n",
      "805:\tlearn: 0.1465579\ttotal: 9.63s\tremaining: 2.32s\n",
      "806:\tlearn: 0.1464405\ttotal: 9.65s\tremaining: 2.31s\n",
      "807:\tlearn: 0.1463904\ttotal: 9.66s\tremaining: 2.29s\n",
      "808:\tlearn: 0.1462648\ttotal: 9.67s\tremaining: 2.28s\n",
      "809:\tlearn: 0.1462584\ttotal: 9.68s\tremaining: 2.27s\n",
      "810:\tlearn: 0.1461880\ttotal: 9.69s\tremaining: 2.26s\n",
      "811:\tlearn: 0.1461421\ttotal: 9.7s\tremaining: 2.25s\n",
      "812:\tlearn: 0.1461421\ttotal: 9.71s\tremaining: 2.23s\n",
      "813:\tlearn: 0.1461420\ttotal: 9.72s\tremaining: 2.22s\n",
      "814:\tlearn: 0.1461384\ttotal: 9.73s\tremaining: 2.21s\n",
      "815:\tlearn: 0.1461200\ttotal: 9.74s\tremaining: 2.2s\n",
      "816:\tlearn: 0.1458505\ttotal: 9.75s\tremaining: 2.18s\n",
      "817:\tlearn: 0.1458504\ttotal: 9.76s\tremaining: 2.17s\n",
      "818:\tlearn: 0.1457390\ttotal: 9.77s\tremaining: 2.16s\n",
      "819:\tlearn: 0.1456863\ttotal: 9.78s\tremaining: 2.15s\n",
      "820:\tlearn: 0.1455189\ttotal: 9.79s\tremaining: 2.13s\n",
      "821:\tlearn: 0.1453239\ttotal: 9.82s\tremaining: 2.13s\n",
      "822:\tlearn: 0.1453113\ttotal: 9.83s\tremaining: 2.11s\n",
      "823:\tlearn: 0.1452914\ttotal: 9.84s\tremaining: 2.1s\n",
      "824:\tlearn: 0.1451716\ttotal: 9.85s\tremaining: 2.09s\n",
      "825:\tlearn: 0.1450391\ttotal: 9.86s\tremaining: 2.08s\n",
      "826:\tlearn: 0.1450391\ttotal: 9.86s\tremaining: 2.06s\n",
      "827:\tlearn: 0.1448853\ttotal: 9.88s\tremaining: 2.05s\n",
      "828:\tlearn: 0.1448148\ttotal: 9.89s\tremaining: 2.04s\n",
      "829:\tlearn: 0.1447425\ttotal: 9.9s\tremaining: 2.03s\n",
      "830:\tlearn: 0.1447178\ttotal: 9.91s\tremaining: 2.02s\n",
      "831:\tlearn: 0.1447077\ttotal: 9.92s\tremaining: 2s\n",
      "832:\tlearn: 0.1446917\ttotal: 9.93s\tremaining: 1.99s\n",
      "833:\tlearn: 0.1446567\ttotal: 9.95s\tremaining: 1.98s\n",
      "834:\tlearn: 0.1444818\ttotal: 9.96s\tremaining: 1.97s\n",
      "835:\tlearn: 0.1443309\ttotal: 9.97s\tremaining: 1.96s\n",
      "836:\tlearn: 0.1442541\ttotal: 9.98s\tremaining: 1.94s\n",
      "837:\tlearn: 0.1441846\ttotal: 9.99s\tremaining: 1.93s\n",
      "838:\tlearn: 0.1440926\ttotal: 10s\tremaining: 1.92s\n",
      "839:\tlearn: 0.1440538\ttotal: 10s\tremaining: 1.91s\n",
      "840:\tlearn: 0.1440427\ttotal: 10s\tremaining: 1.9s\n",
      "841:\tlearn: 0.1440205\ttotal: 10s\tremaining: 1.88s\n",
      "842:\tlearn: 0.1440091\ttotal: 10.1s\tremaining: 1.87s\n",
      "843:\tlearn: 0.1440082\ttotal: 10.1s\tremaining: 1.86s\n",
      "844:\tlearn: 0.1439830\ttotal: 10.1s\tremaining: 1.85s\n",
      "845:\tlearn: 0.1439711\ttotal: 10.1s\tremaining: 1.83s\n"
     ]
    },
    {
     "name": "stdout",
     "output_type": "stream",
     "text": [
      "846:\tlearn: 0.1439636\ttotal: 10.1s\tremaining: 1.82s\n",
      "847:\tlearn: 0.1439533\ttotal: 10.1s\tremaining: 1.81s\n",
      "848:\tlearn: 0.1439492\ttotal: 10.1s\tremaining: 1.8s\n",
      "849:\tlearn: 0.1438271\ttotal: 10.1s\tremaining: 1.79s\n",
      "850:\tlearn: 0.1438177\ttotal: 10.1s\tremaining: 1.78s\n",
      "851:\tlearn: 0.1437675\ttotal: 10.2s\tremaining: 1.76s\n",
      "852:\tlearn: 0.1436956\ttotal: 10.2s\tremaining: 1.75s\n",
      "853:\tlearn: 0.1436613\ttotal: 10.2s\tremaining: 1.74s\n",
      "854:\tlearn: 0.1435439\ttotal: 10.2s\tremaining: 1.73s\n",
      "855:\tlearn: 0.1434226\ttotal: 10.2s\tremaining: 1.72s\n",
      "856:\tlearn: 0.1432183\ttotal: 10.2s\tremaining: 1.7s\n",
      "857:\tlearn: 0.1431614\ttotal: 10.2s\tremaining: 1.69s\n",
      "858:\tlearn: 0.1431037\ttotal: 10.2s\tremaining: 1.68s\n",
      "859:\tlearn: 0.1430271\ttotal: 10.2s\tremaining: 1.67s\n",
      "860:\tlearn: 0.1428991\ttotal: 10.2s\tremaining: 1.65s\n",
      "861:\tlearn: 0.1427857\ttotal: 10.3s\tremaining: 1.64s\n",
      "862:\tlearn: 0.1426444\ttotal: 10.3s\tremaining: 1.63s\n",
      "863:\tlearn: 0.1425752\ttotal: 10.3s\tremaining: 1.62s\n",
      "864:\tlearn: 0.1424661\ttotal: 10.3s\tremaining: 1.61s\n",
      "865:\tlearn: 0.1423147\ttotal: 10.3s\tremaining: 1.6s\n",
      "866:\tlearn: 0.1422570\ttotal: 10.3s\tremaining: 1.59s\n",
      "867:\tlearn: 0.1421789\ttotal: 10.4s\tremaining: 1.57s\n",
      "868:\tlearn: 0.1421683\ttotal: 10.4s\tremaining: 1.56s\n",
      "869:\tlearn: 0.1420707\ttotal: 10.4s\tremaining: 1.55s\n",
      "870:\tlearn: 0.1420519\ttotal: 10.4s\tremaining: 1.54s\n",
      "871:\tlearn: 0.1419891\ttotal: 10.4s\tremaining: 1.53s\n",
      "872:\tlearn: 0.1419214\ttotal: 10.4s\tremaining: 1.52s\n",
      "873:\tlearn: 0.1419157\ttotal: 10.4s\tremaining: 1.5s\n",
      "874:\tlearn: 0.1418840\ttotal: 10.4s\tremaining: 1.49s\n",
      "875:\tlearn: 0.1417687\ttotal: 10.5s\tremaining: 1.48s\n",
      "876:\tlearn: 0.1417556\ttotal: 10.5s\tremaining: 1.47s\n",
      "877:\tlearn: 0.1417487\ttotal: 10.5s\tremaining: 1.46s\n",
      "878:\tlearn: 0.1416058\ttotal: 10.5s\tremaining: 1.45s\n",
      "879:\tlearn: 0.1415198\ttotal: 10.5s\tremaining: 1.44s\n",
      "880:\tlearn: 0.1414464\ttotal: 10.6s\tremaining: 1.43s\n",
      "881:\tlearn: 0.1414075\ttotal: 10.6s\tremaining: 1.41s\n",
      "882:\tlearn: 0.1413913\ttotal: 10.6s\tremaining: 1.4s\n",
      "883:\tlearn: 0.1411242\ttotal: 10.6s\tremaining: 1.39s\n",
      "884:\tlearn: 0.1410663\ttotal: 10.6s\tremaining: 1.38s\n",
      "885:\tlearn: 0.1409724\ttotal: 10.6s\tremaining: 1.37s\n",
      "886:\tlearn: 0.1407718\ttotal: 10.7s\tremaining: 1.36s\n",
      "887:\tlearn: 0.1406945\ttotal: 10.7s\tremaining: 1.35s\n",
      "888:\tlearn: 0.1406652\ttotal: 10.7s\tremaining: 1.34s\n",
      "889:\tlearn: 0.1406362\ttotal: 10.7s\tremaining: 1.33s\n",
      "890:\tlearn: 0.1405854\ttotal: 10.8s\tremaining: 1.31s\n",
      "891:\tlearn: 0.1404489\ttotal: 10.8s\tremaining: 1.31s\n",
      "892:\tlearn: 0.1404297\ttotal: 10.9s\tremaining: 1.3s\n",
      "893:\tlearn: 0.1404270\ttotal: 10.9s\tremaining: 1.29s\n",
      "894:\tlearn: 0.1403093\ttotal: 10.9s\tremaining: 1.28s\n",
      "895:\tlearn: 0.1402668\ttotal: 11s\tremaining: 1.27s\n",
      "896:\tlearn: 0.1402618\ttotal: 11s\tremaining: 1.26s\n",
      "897:\tlearn: 0.1401783\ttotal: 11s\tremaining: 1.25s\n",
      "898:\tlearn: 0.1401000\ttotal: 11s\tremaining: 1.24s\n",
      "899:\tlearn: 0.1400133\ttotal: 11s\tremaining: 1.23s\n",
      "900:\tlearn: 0.1400050\ttotal: 11s\tremaining: 1.21s\n",
      "901:\tlearn: 0.1398598\ttotal: 11.1s\tremaining: 1.2s\n",
      "902:\tlearn: 0.1397443\ttotal: 11.1s\tremaining: 1.19s\n",
      "903:\tlearn: 0.1395520\ttotal: 11.1s\tremaining: 1.18s\n",
      "904:\tlearn: 0.1392944\ttotal: 11.1s\tremaining: 1.17s\n",
      "905:\tlearn: 0.1391503\ttotal: 11.2s\tremaining: 1.16s\n",
      "906:\tlearn: 0.1390148\ttotal: 11.2s\tremaining: 1.14s\n",
      "907:\tlearn: 0.1389127\ttotal: 11.2s\tremaining: 1.13s\n",
      "908:\tlearn: 0.1387981\ttotal: 11.2s\tremaining: 1.12s\n",
      "909:\tlearn: 0.1387260\ttotal: 11.2s\tremaining: 1.11s\n",
      "910:\tlearn: 0.1386132\ttotal: 11.2s\tremaining: 1.09s\n",
      "911:\tlearn: 0.1386130\ttotal: 11.2s\tremaining: 1.08s\n",
      "912:\tlearn: 0.1386126\ttotal: 11.2s\tremaining: 1.07s\n",
      "913:\tlearn: 0.1385782\ttotal: 11.3s\tremaining: 1.06s\n",
      "914:\tlearn: 0.1385782\ttotal: 11.3s\tremaining: 1.05s\n",
      "915:\tlearn: 0.1385286\ttotal: 11.3s\tremaining: 1.03s\n",
      "916:\tlearn: 0.1384439\ttotal: 11.3s\tremaining: 1.02s\n",
      "917:\tlearn: 0.1384375\ttotal: 11.3s\tremaining: 1.01s\n",
      "918:\tlearn: 0.1384375\ttotal: 11.3s\tremaining: 999ms\n",
      "919:\tlearn: 0.1383701\ttotal: 11.4s\tremaining: 988ms\n",
      "920:\tlearn: 0.1382281\ttotal: 11.4s\tremaining: 976ms\n",
      "921:\tlearn: 0.1380537\ttotal: 11.4s\tremaining: 963ms\n",
      "922:\tlearn: 0.1379285\ttotal: 11.4s\tremaining: 951ms\n",
      "923:\tlearn: 0.1379282\ttotal: 11.4s\tremaining: 939ms\n",
      "924:\tlearn: 0.1379282\ttotal: 11.4s\tremaining: 926ms\n",
      "925:\tlearn: 0.1379224\ttotal: 11.4s\tremaining: 914ms\n",
      "926:\tlearn: 0.1378882\ttotal: 11.5s\tremaining: 902ms\n",
      "927:\tlearn: 0.1378059\ttotal: 11.5s\tremaining: 890ms\n",
      "928:\tlearn: 0.1378059\ttotal: 11.5s\tremaining: 878ms\n",
      "929:\tlearn: 0.1377828\ttotal: 11.5s\tremaining: 865ms\n",
      "930:\tlearn: 0.1376962\ttotal: 11.5s\tremaining: 853ms\n",
      "931:\tlearn: 0.1376204\ttotal: 11.5s\tremaining: 841ms\n",
      "932:\tlearn: 0.1375214\ttotal: 11.5s\tremaining: 829ms\n",
      "933:\tlearn: 0.1374964\ttotal: 11.6s\tremaining: 817ms\n",
      "934:\tlearn: 0.1374964\ttotal: 11.6s\tremaining: 804ms\n",
      "935:\tlearn: 0.1374883\ttotal: 11.6s\tremaining: 792ms\n",
      "936:\tlearn: 0.1374882\ttotal: 11.6s\tremaining: 779ms\n",
      "937:\tlearn: 0.1374480\ttotal: 11.6s\tremaining: 767ms\n",
      "938:\tlearn: 0.1373977\ttotal: 11.6s\tremaining: 755ms\n",
      "939:\tlearn: 0.1373976\ttotal: 11.6s\tremaining: 743ms\n",
      "940:\tlearn: 0.1373876\ttotal: 11.6s\tremaining: 730ms\n",
      "941:\tlearn: 0.1373550\ttotal: 11.7s\tremaining: 718ms\n",
      "942:\tlearn: 0.1373349\ttotal: 11.7s\tremaining: 705ms\n",
      "943:\tlearn: 0.1373222\ttotal: 11.7s\tremaining: 693ms\n",
      "944:\tlearn: 0.1372214\ttotal: 11.7s\tremaining: 681ms\n",
      "945:\tlearn: 0.1371816\ttotal: 11.7s\tremaining: 669ms\n",
      "946:\tlearn: 0.1371499\ttotal: 11.7s\tremaining: 656ms\n",
      "947:\tlearn: 0.1370946\ttotal: 11.7s\tremaining: 644ms\n",
      "948:\tlearn: 0.1370946\ttotal: 11.8s\tremaining: 632ms\n",
      "949:\tlearn: 0.1370945\ttotal: 11.8s\tremaining: 619ms\n",
      "950:\tlearn: 0.1370914\ttotal: 11.8s\tremaining: 607ms\n",
      "951:\tlearn: 0.1370459\ttotal: 11.8s\tremaining: 595ms\n",
      "952:\tlearn: 0.1369565\ttotal: 11.8s\tremaining: 583ms\n",
      "953:\tlearn: 0.1369014\ttotal: 11.8s\tremaining: 571ms\n",
      "954:\tlearn: 0.1369014\ttotal: 11.8s\tremaining: 558ms\n",
      "955:\tlearn: 0.1368940\ttotal: 11.9s\tremaining: 546ms\n",
      "956:\tlearn: 0.1367158\ttotal: 11.9s\tremaining: 533ms\n",
      "957:\tlearn: 0.1366708\ttotal: 11.9s\tremaining: 521ms\n",
      "958:\tlearn: 0.1366419\ttotal: 11.9s\tremaining: 509ms\n",
      "959:\tlearn: 0.1365423\ttotal: 11.9s\tremaining: 496ms\n",
      "960:\tlearn: 0.1365324\ttotal: 11.9s\tremaining: 484ms\n",
      "961:\tlearn: 0.1365314\ttotal: 11.9s\tremaining: 471ms\n",
      "962:\tlearn: 0.1365129\ttotal: 11.9s\tremaining: 459ms\n",
      "963:\tlearn: 0.1364601\ttotal: 12s\tremaining: 446ms\n",
      "964:\tlearn: 0.1364354\ttotal: 12s\tremaining: 434ms\n",
      "965:\tlearn: 0.1363885\ttotal: 12s\tremaining: 422ms\n",
      "966:\tlearn: 0.1363490\ttotal: 12s\tremaining: 409ms\n",
      "967:\tlearn: 0.1363409\ttotal: 12s\tremaining: 397ms\n",
      "968:\tlearn: 0.1363405\ttotal: 12s\tremaining: 384ms\n",
      "969:\tlearn: 0.1362588\ttotal: 12s\tremaining: 372ms\n",
      "970:\tlearn: 0.1362001\ttotal: 12s\tremaining: 360ms\n",
      "971:\tlearn: 0.1361282\ttotal: 12.1s\tremaining: 347ms\n",
      "972:\tlearn: 0.1360614\ttotal: 12.1s\tremaining: 335ms\n",
      "973:\tlearn: 0.1359832\ttotal: 12.1s\tremaining: 323ms\n",
      "974:\tlearn: 0.1359767\ttotal: 12.1s\tremaining: 311ms\n",
      "975:\tlearn: 0.1359669\ttotal: 12.1s\tremaining: 298ms\n",
      "976:\tlearn: 0.1359002\ttotal: 12.1s\tremaining: 286ms\n",
      "977:\tlearn: 0.1358654\ttotal: 12.2s\tremaining: 273ms\n",
      "978:\tlearn: 0.1358559\ttotal: 12.2s\tremaining: 261ms\n",
      "979:\tlearn: 0.1357925\ttotal: 12.2s\tremaining: 249ms\n",
      "980:\tlearn: 0.1357550\ttotal: 12.2s\tremaining: 236ms\n",
      "981:\tlearn: 0.1357198\ttotal: 12.2s\tremaining: 224ms\n",
      "982:\tlearn: 0.1356184\ttotal: 12.2s\tremaining: 212ms\n",
      "983:\tlearn: 0.1354163\ttotal: 12.2s\tremaining: 199ms\n",
      "984:\tlearn: 0.1353646\ttotal: 12.3s\tremaining: 187ms\n",
      "985:\tlearn: 0.1353177\ttotal: 12.3s\tremaining: 174ms\n",
      "986:\tlearn: 0.1352407\ttotal: 12.3s\tremaining: 162ms\n",
      "987:\tlearn: 0.1351229\ttotal: 12.3s\tremaining: 149ms\n",
      "988:\tlearn: 0.1350688\ttotal: 12.3s\tremaining: 137ms\n",
      "989:\tlearn: 0.1350668\ttotal: 12.3s\tremaining: 125ms\n",
      "990:\tlearn: 0.1349372\ttotal: 12.3s\tremaining: 112ms\n",
      "991:\tlearn: 0.1349012\ttotal: 12.4s\tremaining: 99.6ms\n",
      "992:\tlearn: 0.1348744\ttotal: 12.4s\tremaining: 87.2ms\n",
      "993:\tlearn: 0.1348342\ttotal: 12.4s\tremaining: 74.7ms\n",
      "994:\tlearn: 0.1347593\ttotal: 12.4s\tremaining: 62.3ms\n",
      "995:\tlearn: 0.1347423\ttotal: 12.4s\tremaining: 49.8ms\n",
      "996:\tlearn: 0.1346870\ttotal: 12.4s\tremaining: 37.4ms\n",
      "997:\tlearn: 0.1346831\ttotal: 12.4s\tremaining: 24.9ms\n",
      "998:\tlearn: 0.1345609\ttotal: 12.5s\tremaining: 12.5ms\n",
      "999:\tlearn: 0.1344991\ttotal: 12.5s\tremaining: 0us\n",
      "Các chỉ số đánh giá mức độ hiệu quả của mô hình: \n",
      "1. Accuracy: 0.8257334747260516\n",
      "2. confusion_matrix:\n",
      "[[1045  280]\n",
      " [ 213 1291]]\n",
      "3. recall_score:  0.8583776595744681\n",
      "4. precision_score:  0.821769573520051\n",
      "5. f1_score:  0.8396747967479675\n",
      "6. Biểu đồ ROC của mô hình:\n"
     ]
    },
    {
     "name": "stderr",
     "output_type": "stream",
     "text": [
      "/home/hikaru/.local/lib/python3.8/site-packages/sklearn/utils/deprecation.py:87: FutureWarning: Function plot_roc_curve is deprecated; Function :func:`plot_roc_curve` is deprecated in 1.0 and will be removed in 1.2. Use one of the class methods: :meth:`sklearn.metric.RocCurveDisplay.from_predictions` or :meth:`sklearn.metric.RocCurveDisplay.from_estimator`.\n",
      "  warnings.warn(msg, category=FutureWarning)\n"
     ]
    },
    {
     "data": {
      "image/png": "[encoded data removed]",
      "text/plain": [
       "<Figure size 1152x648 with 1 Axes>"
      ]
     },
     "metadata": {
      "needs_background": "light"
     },
     "output_type": "display_data"
    }
   ],
   "source": [
    "from catboost import CatBoostClassifier\n",
    "\n",
    "model_catboss = CatBoostClassifier(learning_rate = 0.2, depth = 8, rsm = 1)\n",
    "\n",
    "model_catboss.fit(X_train, Y_train)\n",
    "\n",
    "#Prediction\n",
    "cast_modelprediction=model_catboss.predict(X_test)\n",
    "\n",
    "evaluate_model (model_catboss, X_test, y_test, cast_modelprediction)"
   ]
  },
  {
   "cell_type": "markdown",
   "metadata": {
    "id": "7wmUTFEtj_kP"
   },
   "source": [
    "# **Deep Learning**"
   ]
  },
  {
   "cell_type": "markdown",
   "metadata": {
    "id": "_zs0Ma9tkL1P"
   },
   "source": [
    "# **ANN**"
   ]
  },
  {
   "cell_type": "code",
   "execution_count": 58,
   "metadata": {
    "id": "HrMDAMKbkLTi"
   },
   "outputs": [
    {
     "name": "stderr",
     "output_type": "stream",
     "text": [
      "2022-06-03 13:00:40.875553: W tensorflow/stream_executor/platform/default/dso_loader.cc:64] Could not load dynamic library 'libcudart.so.11.0'; dlerror: libcudart.so.11.0: cannot open shared object file: No such file or directory\n",
      "2022-06-03 13:00:40.875587: I tensorflow/stream_executor/cuda/cudart_stub.cc:29] Ignore above cudart dlerror if you do not have a GPU set up on your machine.\n"
     ]
    }
   ],
   "source": [
    "# Import the necessary libraries for ANN model\n",
    "from tensorflow.keras.models import Sequential\n",
    "from tensorflow.keras.layers import Dense"
   ]
  },
  {
   "cell_type": "code",
   "execution_count": 59,
   "metadata": {
    "id": "-CfSHt-4jv_d"
   },
   "outputs": [
    {
     "name": "stderr",
     "output_type": "stream",
     "text": [
      "2022-06-03 13:00:45.001829: W tensorflow/stream_executor/platform/default/dso_loader.cc:64] Could not load dynamic library 'libcuda.so.1'; dlerror: libcuda.so.1: cannot open shared object file: No such file or directory\n",
      "2022-06-03 13:00:45.001867: W tensorflow/stream_executor/cuda/cuda_driver.cc:269] failed call to cuInit: UNKNOWN ERROR (303)\n",
      "2022-06-03 13:00:45.001901: I tensorflow/stream_executor/cuda/cuda_diagnostics.cc:156] kernel driver does not appear to be running on this host (ThinkPad-L540): /proc/driver/nvidia/version does not exist\n",
      "2022-06-03 13:00:45.002833: I tensorflow/core/platform/cpu_feature_guard.cc:193] This TensorFlow binary is optimized with oneAPI Deep Neural Network Library (oneDNN) to use the following CPU instructions in performance-critical operations:  AVX2 FMA\n",
      "To enable them in other operations, rebuild TensorFlow with the appropriate compiler flags.\n"
     ]
    }
   ],
   "source": [
    "# Create a Sequential Neural Network model \n",
    "model = Sequential()\n",
    "# Create an Input and a Hidden Layer\n",
    "model.add(Dense(units=50,activation=\"relu\",kernel_initializer=\"he_uniform\"))\n",
    "# Create an Output Layer\n",
    "model.add(Dense(units=1,activation=\"sigmoid\"))\n",
    "# Now, my model is ready to compile\n",
    "model.compile(optimizer=\"adam\",loss=\"binary_crossentropy\",metrics=[\"accuracy\"])"
   ]
  },
  {
   "cell_type": "code",
   "execution_count": 60,
   "metadata": {
    "colab": {
     "base_uri": "https://localhost:8080/"
    },
    "id": "h_6Fx_4jkmfl",
    "outputId": "0354cc85-0530-49c6-d69e-a527a65da0dc"
   },
   "outputs": [
    {
     "ename": "ValueError",
     "evalue": "Data cardinality is ambiguous:\n  x sizes: 11313\n  y sizes: 9899\nMake sure all arrays contain the same number of samples.",
     "output_type": "error",
     "traceback": [
      "\u001b[0;31m---------------------------------------------------------------------------\u001b[0m",
      "\u001b[0;31mValueError\u001b[0m                                Traceback (most recent call last)",
      "Input \u001b[0;32mIn [60]\u001b[0m, in \u001b[0;36m<cell line: 1>\u001b[0;34m()\u001b[0m\n\u001b[0;32m----> 1\u001b[0m \u001b[43mmodel\u001b[49m\u001b[38;5;241;43m.\u001b[39;49m\u001b[43mfit\u001b[49m\u001b[43m(\u001b[49m\u001b[43mX_train\u001b[49m\u001b[43m,\u001b[49m\u001b[43my_train\u001b[49m\u001b[43m,\u001b[49m\u001b[43mbatch_size\u001b[49m\u001b[38;5;241;43m=\u001b[39;49m\u001b[38;5;241;43m64\u001b[39;49m\u001b[43m,\u001b[49m\u001b[43mepochs\u001b[49m\u001b[38;5;241;43m=\u001b[39;49m\u001b[38;5;241;43m100\u001b[39;49m\u001b[43m)\u001b[49m\n",
      "File \u001b[0;32m~/.local/lib/python3.8/site-packages/keras/utils/traceback_utils.py:67\u001b[0m, in \u001b[0;36mfilter_traceback.<locals>.error_handler\u001b[0;34m(*args, **kwargs)\u001b[0m\n\u001b[1;32m     65\u001b[0m \u001b[38;5;28;01mexcept\u001b[39;00m \u001b[38;5;167;01mException\u001b[39;00m \u001b[38;5;28;01mas\u001b[39;00m e:  \u001b[38;5;66;03m# pylint: disable=broad-except\u001b[39;00m\n\u001b[1;32m     66\u001b[0m   filtered_tb \u001b[38;5;241m=\u001b[39m _process_traceback_frames(e\u001b[38;5;241m.\u001b[39m__traceback__)\n\u001b[0;32m---> 67\u001b[0m   \u001b[38;5;28;01mraise\u001b[39;00m e\u001b[38;5;241m.\u001b[39mwith_traceback(filtered_tb) \u001b[38;5;28;01mfrom\u001b[39;00m \u001b[38;5;28mNone\u001b[39m\n\u001b[1;32m     68\u001b[0m \u001b[38;5;28;01mfinally\u001b[39;00m:\n\u001b[1;32m     69\u001b[0m   \u001b[38;5;28;01mdel\u001b[39;00m filtered_tb\n",
      "File \u001b[0;32m~/.local/lib/python3.8/site-packages/keras/engine/data_adapter.py:1655\u001b[0m, in \u001b[0;36m_check_data_cardinality\u001b[0;34m(data)\u001b[0m\n\u001b[1;32m   1651\u001b[0m   msg \u001b[38;5;241m+\u001b[39m\u001b[38;5;241m=\u001b[39m \u001b[38;5;124m\"\u001b[39m\u001b[38;5;124m  \u001b[39m\u001b[38;5;132;01m{}\u001b[39;00m\u001b[38;5;124m sizes: \u001b[39m\u001b[38;5;132;01m{}\u001b[39;00m\u001b[38;5;130;01m\\n\u001b[39;00m\u001b[38;5;124m\"\u001b[39m\u001b[38;5;241m.\u001b[39mformat(\n\u001b[1;32m   1652\u001b[0m       label, \u001b[38;5;124m\"\u001b[39m\u001b[38;5;124m, \u001b[39m\u001b[38;5;124m\"\u001b[39m\u001b[38;5;241m.\u001b[39mjoin(\u001b[38;5;28mstr\u001b[39m(i\u001b[38;5;241m.\u001b[39mshape[\u001b[38;5;241m0\u001b[39m])\n\u001b[1;32m   1653\u001b[0m                        \u001b[38;5;28;01mfor\u001b[39;00m i \u001b[38;5;129;01min\u001b[39;00m tf\u001b[38;5;241m.\u001b[39mnest\u001b[38;5;241m.\u001b[39mflatten(single_data)))\n\u001b[1;32m   1654\u001b[0m msg \u001b[38;5;241m+\u001b[39m\u001b[38;5;241m=\u001b[39m \u001b[38;5;124m\"\u001b[39m\u001b[38;5;124mMake sure all arrays contain the same number of samples.\u001b[39m\u001b[38;5;124m\"\u001b[39m\n\u001b[0;32m-> 1655\u001b[0m \u001b[38;5;28;01mraise\u001b[39;00m \u001b[38;5;167;01mValueError\u001b[39;00m(msg)\n",
      "\u001b[0;31mValueError\u001b[0m: Data cardinality is ambiguous:\n  x sizes: 11313\n  y sizes: 9899\nMake sure all arrays contain the same number of samples."
     ]
    }
   ],
   "source": [
    "model.fit(X_train,y_train,batch_size=64,epochs=100)"
   ]
  },
  {
   "cell_type": "code",
   "execution_count": null,
   "metadata": {
    "colab": {
     "base_uri": "https://localhost:8080/"
    },
    "id": "OUWRCvzxkbo3",
    "outputId": "3a7b0792-be3a-43ea-fe46-0e6a6df011fd"
   },
   "outputs": [],
   "source": [
    "model.summary()"
   ]
  },
  {
   "cell_type": "code",
   "execution_count": null,
   "metadata": {
    "id": "s22uutU9kf-g"
   },
   "outputs": [],
   "source": [
    "# Predict the X_test results\n",
    "y_pred = model.predict(X_test)"
   ]
  },
  {
   "cell_type": "code",
   "execution_count": null,
   "metadata": {
    "id": "Jk1SfkSwktaY"
   },
   "outputs": [],
   "source": [
    "y_pred_label = []\n",
    "for i in range(0, len(y_pred)):\n",
    "  if y_pred[i] >= 0.5:\n",
    "    y_pred_label.append(1)\n",
    "  else:\n",
    "    y_pred_label.append(0)"
   ]
  },
  {
   "cell_type": "code",
   "execution_count": null,
   "metadata": {
    "colab": {
     "base_uri": "https://localhost:8080/"
    },
    "id": "l5dNlrdXkxyo",
    "outputId": "2c28d109-ba81-4189-f88e-dce10140b4a1"
   },
   "outputs": [],
   "source": [
    "print(\"Các chỉ số đánh giá mức độ hiệu quả của mô hình: \")\n",
    "#Accuracy\n",
    "print(\"1. Accuracy:\",metrics.accuracy_score(y_pred_label,y_test))\n",
    "# confusion_matrix\n",
    "print('2. confusion_matrix:')\n",
    "print(confusion_matrix(y_pred_label,y_test))\n",
    "# recall_score\n",
    "print('3. recall_score: ', recall_score(y_pred_label,y_test))\n",
    "# precision_score\n",
    "print('4. precision_score: ', precision_score(y_pred_label,y_test))\n",
    "# f1_score\n",
    "print('5. f1_score: ', f1_score(y_pred_label,y_test))"
   ]
  },
  {
   "cell_type": "markdown",
   "metadata": {
    "id": "xUUJDz4TlZRL"
   },
   "source": [
    "# **LSTM**"
   ]
  },
  {
   "cell_type": "code",
   "execution_count": null,
   "metadata": {
    "id": "P_UGRZaJlH9C"
   },
   "outputs": [],
   "source": [
    "# Import the necessary libraries for ANN model\n",
    "from tensorflow.keras.models import Sequential\n",
    "from tensorflow.keras.layers import Dense\n",
    "from keras.callbacks import EarlyStopping\n",
    "from keras.models import Sequential\n",
    "from keras.layers import LSTM\n",
    "from keras.layers import Dense\n",
    "from keras.layers import TimeDistributed\n",
    "from keras.layers import RepeatVector\n",
    "from keras.layers import Dropout"
   ]
  },
  {
   "cell_type": "code",
   "execution_count": null,
   "metadata": {
    "id": "haJY4o2Hld-G"
   },
   "outputs": [],
   "source": [
    "regressor = Sequential()\n",
    "regressor.add(LSTM(units = 50, return_sequences = True, input_shape = (X_train.shape[1], 1)))\n",
    "regressor.add(Dropout(0.2))\n",
    "\n",
    "regressor.add(LSTM(units = 50, return_sequences = True))\n",
    "regressor.add(Dropout(0.2))\n",
    "\n",
    "regressor.add(LSTM(units = 50, return_sequences = True))\n",
    "regressor.add(Dropout(0.2))\n",
    "\n",
    "regressor.add(LSTM(units = 50))\n",
    "regressor.add(Dropout(0.2))\n",
    "regressor.add(Dense(units = 1))\n",
    "regressor.compile(optimizer = 'adam', loss = 'mean_squared_error')"
   ]
  },
  {
   "cell_type": "code",
   "execution_count": null,
   "metadata": {
    "colab": {
     "base_uri": "https://localhost:8080/"
    },
    "id": "zMYSwI3blgng",
    "outputId": "b2928d20-d38a-41f3-b83a-cf187fcf1dc4"
   },
   "outputs": [],
   "source": [
    "regressor.fit(X_train, y_train, epochs = 100, batch_size = 32)"
   ]
  },
  {
   "cell_type": "code",
   "execution_count": null,
   "metadata": {
    "colab": {
     "base_uri": "https://localhost:8080/"
    },
    "id": "RIj-W3hOljtM",
    "outputId": "86a80c39-5d39-4e87-900c-53f291a963fc"
   },
   "outputs": [],
   "source": [
    "regressor.summary()"
   ]
  },
  {
   "cell_type": "code",
   "execution_count": null,
   "metadata": {
    "id": "KlHjV3iZlmDH"
   },
   "outputs": [],
   "source": [
    "# Predict the X_test results\n",
    "y_pred = regressor.predict(X_test)"
   ]
  },
  {
   "cell_type": "code",
   "execution_count": null,
   "metadata": {
    "id": "JRYzm07ElpLn"
   },
   "outputs": [],
   "source": [
    "y_pred_label = []\n",
    "for i in range(0, len(y_pred)):\n",
    "  if y_pred[i] >= 0.5:\n",
    "    y_pred_label.append(1)\n",
    "  else:\n",
    "    y_pred_label.append(0)"
   ]
  },
  {
   "cell_type": "code",
   "execution_count": null,
   "metadata": {
    "colab": {
     "base_uri": "https://localhost:8080/"
    },
    "id": "y3MSNKCulsTy",
    "outputId": "8df4401c-c1a8-4568-cb24-2b00c5dcf67e"
   },
   "outputs": [],
   "source": [
    "print(\"Các chỉ số đánh giá mức độ hiệu quả của mô hình: \")\n",
    "#Accuracy\n",
    "print(\"1. Accuracy:\",metrics.accuracy_score(y_pred_label,y_test))\n",
    "# confusion_matrix\n",
    "print('2. confusion_matrix:')\n",
    "print(confusion_matrix(y_pred_label,y_test))\n",
    "# recall_score\n",
    "print('3. recall_score: ', recall_score(y_pred_label,y_test))\n",
    "# precision_score\n",
    "print('4. precision_score: ', precision_score(y_pred_label,y_test))\n",
    "# f1_score\n",
    "print('5. f1_score: ', f1_score(y_pred_label,y_test))"
   ]
  },
  {
   "cell_type": "markdown",
   "metadata": {
    "id": "VC0pxsaoluap"
   },
   "source": [
    "# ***Kết thúc!***"
   ]
  }
 ],
 "metadata": {
  "colab": {
   "collapsed_sections": [],
   "name": "Model_Searching.ipynb",
   "provenance": []
  },
  "interpreter": {
   "hash": "916dbcbb3f70747c44a77c7bcd40155683ae19c65e1c03b4aa3499c5328201f1"
  },
  "kernelspec": {
   "display_name": "Python 3 (ipykernel)",
   "language": "python",
   "name": "python3"
  },
  "language_info": {
   "codemirror_mode": {
    "name": "ipython",
    "version": 3
   },
   "file_extension": ".py",
   "mimetype": "text/x-python",
   "name": "python",
   "nbconvert_exporter": "python",
   "pygments_lexer": "ipython3",
   "version": "3.8.10"
  }
 },
 "nbformat": 4,
 "nbformat_minor": 1
}
