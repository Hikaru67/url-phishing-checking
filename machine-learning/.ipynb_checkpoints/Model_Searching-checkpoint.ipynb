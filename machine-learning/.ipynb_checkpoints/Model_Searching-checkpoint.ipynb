{
 "cells": [
  {
   "cell_type": "markdown",
   "metadata": {
    "id": "-XD2n3zO9jUT"
   },
   "source": [
    "# **Overview:**\n",
    "\n",
    "Chương trình này là tiếp nối của chương trình Part-2_Visualization.ipynb\n",
    "\n",
    "Chương trình là thử nghiệm các mô hình Machine Learning trên tập dữ liệu đã được xử lý cũng như có cái nhìn tổng quan từ 2 phần trước."
   ]
  },
  {
   "cell_type": "code",
   "execution_count": null,
   "metadata": {},
   "outputs": [],
   "source": []
  },
  {
   "cell_type": "markdown",
   "metadata": {
    "id": "tgRCj5JR_XJS"
   },
   "source": [
    "# **6. Khai báo và cài đặt cần sử dụng**"
   ]
  },
  {
   "cell_type": "code",
   "execution_count": 1,
   "metadata": {
    "id": "nKdLs7iA_X-j"
   },
   "outputs": [],
   "source": [
    "import pandas as pd\n",
    "import seaborn as sns\n",
    "import matplotlib.pyplot as plt\n",
    "\n",
    "from sklearn.preprocessing import LabelEncoder\n",
    "from sklearn.preprocessing import StandardScaler\n",
    "from sklearn.model_selection import train_test_split\n",
    "from sklearn.datasets import load_breast_cancer\n",
    "from sklearn.metrics import confusion_matrix\n",
    "from sklearn.metrics import recall_score\n",
    "from sklearn.metrics import precision_score\n",
    "from sklearn.metrics import f1_score\n",
    "\n",
    "import xgboost as xgb\n",
    "import lightgbm as lgb\n",
    "from sklearn.svm import SVC\n",
    "from sklearn.ensemble import BaggingClassifier\n",
    "from sklearn.tree import DecisionTreeClassifier\n",
    "from sklearn.ensemble import RandomForestClassifier, ExtraTreesClassifier\n",
    "from sklearn.model_selection import RandomizedSearchCV,GridSearchCV\n",
    "from sklearn.inspection import permutation_importance\n",
    "from sklearn.model_selection import KFold\n",
    "from datetime import datetime\n",
    "import warnings"
   ]
  },
  {
   "cell_type": "code",
   "execution_count": 2,
   "metadata": {
    "id": "7Ots-XXs9_kr"
   },
   "outputs": [],
   "source": [
    "from pylab import rcParams\n",
    "\n",
    "rcParams['figure.figsize'] = 16,9"
   ]
  },
  {
   "cell_type": "markdown",
   "metadata": {
    "id": "rIpZhGyw_f3d"
   },
   "source": [
    "### **Đọc dữ liệu**"
   ]
  },
  {
   "cell_type": "code",
   "execution_count": 3,
   "metadata": {
    "colab": {
     "base_uri": "https://localhost:8080/"
    },
    "id": "D24NIgv9hI01",
    "outputId": "aff46ea6-9557-4407-ac8f-529c34cc81c7"
   },
   "outputs": [],
   "source": [
    "# from google.colab import drive\n",
    "# drive.mount('data')"
   ]
  },
  {
   "cell_type": "code",
   "execution_count": 4,
   "metadata": {
    "id": "Ocyr9vip5N0m"
   },
   "outputs": [],
   "source": [
    "df = pd.read_csv('data/new-processed3.csv')"
   ]
  },
  {
   "cell_type": "code",
   "execution_count": 5,
   "metadata": {
    "colab": {
     "base_uri": "https://localhost:8080/",
     "height": 424
    },
    "id": "gz6T5S2VLijc",
    "outputId": "aac84d75-93fd-4d17-ac35-eabcb6d0c42b"
   },
   "outputs": [
    {
     "data": {
      "text/html": [
       "<div>\n",
       "<style scoped>\n",
       "    .dataframe tbody tr th:only-of-type {\n",
       "        vertical-align: middle;\n",
       "    }\n",
       "\n",
       "    .dataframe tbody tr th {\n",
       "        vertical-align: top;\n",
       "    }\n",
       "\n",
       "    .dataframe thead th {\n",
       "        text-align: right;\n",
       "    }\n",
       "</style>\n",
       "<table border=\"1\" class=\"dataframe\">\n",
       "  <thead>\n",
       "    <tr style=\"text-align: right;\">\n",
       "      <th></th>\n",
       "      <th>Index</th>\n",
       "      <th>Domain</th>\n",
       "      <th>Have_IP</th>\n",
       "      <th>Have_At</th>\n",
       "      <th>URL_Length</th>\n",
       "      <th>Redirection</th>\n",
       "      <th>https_Domain</th>\n",
       "      <th>TinyURL</th>\n",
       "      <th>Prefix_Suffix</th>\n",
       "      <th>DNS_Record</th>\n",
       "      <th>Web_Traffic</th>\n",
       "      <th>Domain_Age</th>\n",
       "      <th>Domain_End</th>\n",
       "      <th>iFrame</th>\n",
       "      <th>Mouse_Over</th>\n",
       "      <th>Right_Click</th>\n",
       "      <th>Web_Forwards</th>\n",
       "      <th>Label</th>\n",
       "    </tr>\n",
       "  </thead>\n",
       "  <tbody>\n",
       "    <tr>\n",
       "      <th>0</th>\n",
       "      <td>0</td>\n",
       "      <td>xs4all.nl</td>\n",
       "      <td>0</td>\n",
       "      <td>0</td>\n",
       "      <td>0</td>\n",
       "      <td>0</td>\n",
       "      <td>0</td>\n",
       "      <td>0</td>\n",
       "      <td>0</td>\n",
       "      <td>0</td>\n",
       "      <td>0</td>\n",
       "      <td>1</td>\n",
       "      <td>1</td>\n",
       "      <td>0</td>\n",
       "      <td>0</td>\n",
       "      <td>0</td>\n",
       "      <td>1</td>\n",
       "      <td>0</td>\n",
       "    </tr>\n",
       "    <tr>\n",
       "      <th>1</th>\n",
       "      <td>1</td>\n",
       "      <td>railwaypreservation.com</td>\n",
       "      <td>0</td>\n",
       "      <td>0</td>\n",
       "      <td>0</td>\n",
       "      <td>0</td>\n",
       "      <td>0</td>\n",
       "      <td>0</td>\n",
       "      <td>0</td>\n",
       "      <td>0</td>\n",
       "      <td>1</td>\n",
       "      <td>0</td>\n",
       "      <td>0</td>\n",
       "      <td>0</td>\n",
       "      <td>0</td>\n",
       "      <td>0</td>\n",
       "      <td>0</td>\n",
       "      <td>0</td>\n",
       "    </tr>\n",
       "    <tr>\n",
       "      <th>2</th>\n",
       "      <td>2</td>\n",
       "      <td>williamsbusandspecialty.com</td>\n",
       "      <td>0</td>\n",
       "      <td>0</td>\n",
       "      <td>0</td>\n",
       "      <td>0</td>\n",
       "      <td>0</td>\n",
       "      <td>0</td>\n",
       "      <td>0</td>\n",
       "      <td>0</td>\n",
       "      <td>1</td>\n",
       "      <td>0</td>\n",
       "      <td>0</td>\n",
       "      <td>0</td>\n",
       "      <td>0</td>\n",
       "      <td>0</td>\n",
       "      <td>0</td>\n",
       "      <td>0</td>\n",
       "    </tr>\n",
       "    <tr>\n",
       "      <th>3</th>\n",
       "      <td>3</td>\n",
       "      <td>users.skynet.be</td>\n",
       "      <td>0</td>\n",
       "      <td>0</td>\n",
       "      <td>0</td>\n",
       "      <td>0</td>\n",
       "      <td>0</td>\n",
       "      <td>0</td>\n",
       "      <td>0</td>\n",
       "      <td>0</td>\n",
       "      <td>1</td>\n",
       "      <td>1</td>\n",
       "      <td>1</td>\n",
       "      <td>1</td>\n",
       "      <td>1</td>\n",
       "      <td>1</td>\n",
       "      <td>1</td>\n",
       "      <td>0</td>\n",
       "    </tr>\n",
       "    <tr>\n",
       "      <th>4</th>\n",
       "      <td>4</td>\n",
       "      <td>nettilinja.fi</td>\n",
       "      <td>0</td>\n",
       "      <td>0</td>\n",
       "      <td>0</td>\n",
       "      <td>0</td>\n",
       "      <td>0</td>\n",
       "      <td>0</td>\n",
       "      <td>0</td>\n",
       "      <td>0</td>\n",
       "      <td>1</td>\n",
       "      <td>0</td>\n",
       "      <td>1</td>\n",
       "      <td>1</td>\n",
       "      <td>1</td>\n",
       "      <td>1</td>\n",
       "      <td>1</td>\n",
       "      <td>0</td>\n",
       "    </tr>\n",
       "    <tr>\n",
       "      <th>...</th>\n",
       "      <td>...</td>\n",
       "      <td>...</td>\n",
       "      <td>...</td>\n",
       "      <td>...</td>\n",
       "      <td>...</td>\n",
       "      <td>...</td>\n",
       "      <td>...</td>\n",
       "      <td>...</td>\n",
       "      <td>...</td>\n",
       "      <td>...</td>\n",
       "      <td>...</td>\n",
       "      <td>...</td>\n",
       "      <td>...</td>\n",
       "      <td>...</td>\n",
       "      <td>...</td>\n",
       "      <td>...</td>\n",
       "      <td>...</td>\n",
       "      <td>...</td>\n",
       "    </tr>\n",
       "    <tr>\n",
       "      <th>40994</th>\n",
       "      <td>40994</td>\n",
       "      <td>sayabak.com</td>\n",
       "      <td>0</td>\n",
       "      <td>0</td>\n",
       "      <td>0</td>\n",
       "      <td>0</td>\n",
       "      <td>0</td>\n",
       "      <td>0</td>\n",
       "      <td>0</td>\n",
       "      <td>1</td>\n",
       "      <td>1</td>\n",
       "      <td>1</td>\n",
       "      <td>1</td>\n",
       "      <td>1</td>\n",
       "      <td>1</td>\n",
       "      <td>1</td>\n",
       "      <td>1</td>\n",
       "      <td>1</td>\n",
       "    </tr>\n",
       "    <tr>\n",
       "      <th>40995</th>\n",
       "      <td>40995</td>\n",
       "      <td>shseed.com</td>\n",
       "      <td>0</td>\n",
       "      <td>0</td>\n",
       "      <td>0</td>\n",
       "      <td>0</td>\n",
       "      <td>0</td>\n",
       "      <td>0</td>\n",
       "      <td>0</td>\n",
       "      <td>0</td>\n",
       "      <td>1</td>\n",
       "      <td>0</td>\n",
       "      <td>0</td>\n",
       "      <td>1</td>\n",
       "      <td>1</td>\n",
       "      <td>1</td>\n",
       "      <td>1</td>\n",
       "      <td>1</td>\n",
       "    </tr>\n",
       "    <tr>\n",
       "      <th>40996</th>\n",
       "      <td>40996</td>\n",
       "      <td>bjbwzx.com.cn</td>\n",
       "      <td>0</td>\n",
       "      <td>0</td>\n",
       "      <td>0</td>\n",
       "      <td>0</td>\n",
       "      <td>0</td>\n",
       "      <td>1</td>\n",
       "      <td>0</td>\n",
       "      <td>0</td>\n",
       "      <td>1</td>\n",
       "      <td>0</td>\n",
       "      <td>1</td>\n",
       "      <td>1</td>\n",
       "      <td>1</td>\n",
       "      <td>1</td>\n",
       "      <td>1</td>\n",
       "      <td>1</td>\n",
       "    </tr>\n",
       "    <tr>\n",
       "      <th>40997</th>\n",
       "      <td>40997</td>\n",
       "      <td>bjbwzx.com.cn</td>\n",
       "      <td>0</td>\n",
       "      <td>0</td>\n",
       "      <td>0</td>\n",
       "      <td>0</td>\n",
       "      <td>0</td>\n",
       "      <td>1</td>\n",
       "      <td>0</td>\n",
       "      <td>0</td>\n",
       "      <td>1</td>\n",
       "      <td>0</td>\n",
       "      <td>1</td>\n",
       "      <td>1</td>\n",
       "      <td>1</td>\n",
       "      <td>1</td>\n",
       "      <td>1</td>\n",
       "      <td>1</td>\n",
       "    </tr>\n",
       "    <tr>\n",
       "      <th>40998</th>\n",
       "      <td>40998</td>\n",
       "      <td>bj-milkyway.com</td>\n",
       "      <td>0</td>\n",
       "      <td>0</td>\n",
       "      <td>0</td>\n",
       "      <td>0</td>\n",
       "      <td>0</td>\n",
       "      <td>0</td>\n",
       "      <td>1</td>\n",
       "      <td>0</td>\n",
       "      <td>1</td>\n",
       "      <td>0</td>\n",
       "      <td>0</td>\n",
       "      <td>1</td>\n",
       "      <td>1</td>\n",
       "      <td>1</td>\n",
       "      <td>1</td>\n",
       "      <td>1</td>\n",
       "    </tr>\n",
       "  </tbody>\n",
       "</table>\n",
       "<p>40999 rows × 18 columns</p>\n",
       "</div>"
      ],
      "text/plain": [
       "       Index                       Domain  Have_IP  Have_At  URL_Length  \\\n",
       "0          0                    xs4all.nl        0        0           0   \n",
       "1          1      railwaypreservation.com        0        0           0   \n",
       "2          2  williamsbusandspecialty.com        0        0           0   \n",
       "3          3              users.skynet.be        0        0           0   \n",
       "4          4                nettilinja.fi        0        0           0   \n",
       "...      ...                          ...      ...      ...         ...   \n",
       "40994  40994                  sayabak.com        0        0           0   \n",
       "40995  40995                   shseed.com        0        0           0   \n",
       "40996  40996                bjbwzx.com.cn        0        0           0   \n",
       "40997  40997                bjbwzx.com.cn        0        0           0   \n",
       "40998  40998              bj-milkyway.com        0        0           0   \n",
       "\n",
       "       Redirection  https_Domain  TinyURL  Prefix_Suffix  DNS_Record  \\\n",
       "0                0             0        0              0           0   \n",
       "1                0             0        0              0           0   \n",
       "2                0             0        0              0           0   \n",
       "3                0             0        0              0           0   \n",
       "4                0             0        0              0           0   \n",
       "...            ...           ...      ...            ...         ...   \n",
       "40994            0             0        0              0           1   \n",
       "40995            0             0        0              0           0   \n",
       "40996            0             0        1              0           0   \n",
       "40997            0             0        1              0           0   \n",
       "40998            0             0        0              1           0   \n",
       "\n",
       "       Web_Traffic  Domain_Age  Domain_End  iFrame  Mouse_Over  Right_Click  \\\n",
       "0                0           1           1       0           0            0   \n",
       "1                1           0           0       0           0            0   \n",
       "2                1           0           0       0           0            0   \n",
       "3                1           1           1       1           1            1   \n",
       "4                1           0           1       1           1            1   \n",
       "...            ...         ...         ...     ...         ...          ...   \n",
       "40994            1           1           1       1           1            1   \n",
       "40995            1           0           0       1           1            1   \n",
       "40996            1           0           1       1           1            1   \n",
       "40997            1           0           1       1           1            1   \n",
       "40998            1           0           0       1           1            1   \n",
       "\n",
       "       Web_Forwards  Label  \n",
       "0                 1      0  \n",
       "1                 0      0  \n",
       "2                 0      0  \n",
       "3                 1      0  \n",
       "4                 1      0  \n",
       "...             ...    ...  \n",
       "40994             1      1  \n",
       "40995             1      1  \n",
       "40996             1      1  \n",
       "40997             1      1  \n",
       "40998             1      1  \n",
       "\n",
       "[40999 rows x 18 columns]"
      ]
     },
     "execution_count": 5,
     "metadata": {},
     "output_type": "execute_result"
    }
   ],
   "source": [
    "df"
   ]
  },
  {
   "cell_type": "markdown",
   "metadata": {
    "id": "Dxi_EEFcM0d9"
   },
   "source": [
    "**Kiểm tra độ quan trọng của đăc trưng (feature important)**"
   ]
  },
  {
   "cell_type": "code",
   "execution_count": 57,
   "metadata": {
    "colab": {
     "base_uri": "https://localhost:8080/"
    },
    "id": "3W3-QIMUK7vX",
    "outputId": "c295dcf0-d17f-458d-d68d-a29d7b9dfbde"
   },
   "outputs": [
    {
     "data": {
      "text/plain": [
       "Index(['Index', 'Domain', 'Have_IP', 'Have_At', 'URL_Length', 'Redirection',\n",
       "       'https_Domain', 'TinyURL', 'Prefix_Suffix', 'DNS_Record', 'Web_Traffic',\n",
       "       'Domain_Age', 'Domain_End', 'iFrame', 'Mouse_Over', 'Right_Click',\n",
       "       'Web_Forwards', 'Label'],\n",
       "      dtype='object')"
      ]
     },
     "execution_count": 57,
     "metadata": {},
     "output_type": "execute_result"
    }
   ],
   "source": [
    "df.columns"
   ]
  },
  {
   "cell_type": "code",
   "execution_count": null,
   "metadata": {},
   "outputs": [],
   "source": []
  },
  {
   "cell_type": "code",
   "execution_count": 58,
   "metadata": {
    "id": "aMX4P9l3K_Am"
   },
   "outputs": [],
   "source": [
    "features = ['Have_IP', 'Have_At', 'URL_Length',\n",
    "       'Redirection', 'https_Domain', 'TinyURL', 'Prefix_Suffix',\n",
    "       'DNS_Record', 'Web_Traffic', 'Domain_Age', 'Domain_End',\n",
    "       'iFrame', 'Mouse_Over', 'Right_Click', 'Web_Forwards']"
   ]
  },
  {
   "cell_type": "markdown",
   "metadata": {},
   "source": []
  },
  {
   "cell_type": "code",
   "execution_count": 59,
   "metadata": {
    "id": "yv-gjIRYNEOC"
   },
   "outputs": [],
   "source": [
    "X = df[features]\n",
    "y = df['Label']"
   ]
  },
  {
   "cell_type": "code",
   "execution_count": 60,
   "metadata": {
    "id": "61IBCJ_pIWYr"
   },
   "outputs": [],
   "source": [
    "X_train, X_test, y_train, y_test = train_test_split(X, y, test_size=0.3, random_state=42)"
   ]
  },
  {
   "cell_type": "code",
   "execution_count": 61,
   "metadata": {
    "colab": {
     "base_uri": "https://localhost:8080/"
    },
    "id": "DWdnFFbuIjDv",
    "outputId": "ca3ec27d-e2bb-43f0-8789-b35cefe83a23"
   },
   "outputs": [
    {
     "data": {
      "text/plain": [
       "RandomForestRegressor()"
      ]
     },
     "execution_count": 61,
     "metadata": {},
     "output_type": "execute_result"
    }
   ],
   "source": [
    "from sklearn.ensemble import RandomForestRegressor\n",
    "from catboost import CatBoostClassifier\n",
    "rf = RandomForestRegressor(n_estimators=100)\n",
    "rf.fit(X_train, y_train)"
   ]
  },
  {
   "cell_type": "code",
   "execution_count": 62,
   "metadata": {
    "colab": {
     "base_uri": "https://localhost:8080/"
    },
    "id": "1fmC4y4eI1VI",
    "outputId": "68bec4ca-6ab9-4690-faca-16f7dfaa60cb"
   },
   "outputs": [
    {
     "data": {
      "text/plain": [
       "array([0.00000000e+00, 3.69268891e-03, 3.01217968e-02, 1.99035620e-02,\n",
       "       3.52463728e-04, 9.04456899e-03, 1.47593985e-02, 1.97048348e-01,\n",
       "       4.83930520e-02, 2.29868139e-02, 4.34599667e-02, 5.63831609e-01,\n",
       "       2.73682063e-03, 3.65691085e-02, 7.09980200e-03])"
      ]
     },
     "execution_count": 62,
     "metadata": {},
     "output_type": "execute_result"
    }
   ],
   "source": [
    "rf.feature_importances_"
   ]
  },
  {
   "cell_type": "code",
   "execution_count": 63,
   "metadata": {
    "colab": {
     "base_uri": "https://localhost:8080/",
     "height": 554
    },
    "id": "IQVZxEreI3KH",
    "outputId": "a0f200cb-790a-454f-d7bf-bd4ea0485a60"
   },
   "outputs": [
    {
     "data": {
      "text/plain": [
       "<BarContainer object of 15 artists>"
      ]
     },
     "execution_count": 63,
     "metadata": {},
     "output_type": "execute_result"
    },
    {
     "data": {
      "image/png": "[encoded data removed]",
      "text/plain": [
       "<Figure size 1152x648 with 1 Axes>"
      ]
     },
     "metadata": {
      "needs_background": "light"
     },
     "output_type": "display_data"
    }
   ],
   "source": [
    "plt.barh(features, rf.feature_importances_)"
   ]
  },
  {
   "cell_type": "markdown",
   "metadata": {
    "id": "KtuTlVylLp3I"
   },
   "source": [
    "# **7. Huấn luyện mô hình - Classification**"
   ]
  },
  {
   "cell_type": "markdown",
   "metadata": {
    "id": "EbL1nMOY3okR"
   },
   "source": [
    "**Split dataset**"
   ]
  },
  {
   "cell_type": "code",
   "execution_count": 64,
   "metadata": {
    "id": "saGRfI7GikQM"
   },
   "outputs": [],
   "source": [
    "Y = y"
   ]
  },
  {
   "cell_type": "code",
   "execution_count": 65,
   "metadata": {
    "id": "NRbIflUoQjzr"
   },
   "outputs": [],
   "source": [
    "from sklearn.model_selection import train_test_split"
   ]
  },
  {
   "cell_type": "code",
   "execution_count": 66,
   "metadata": {
    "id": "wAPp5Qa23w15"
   },
   "outputs": [],
   "source": [
    "X_train,X_test,Y_train,y_test=train_test_split(X,Y,test_size=0.3,random_state=42)"
   ]
  },
  {
   "cell_type": "code",
   "execution_count": 67,
   "metadata": {
    "colab": {
     "base_uri": "https://localhost:8080/"
    },
    "id": "KtRwVSMyMQtu",
    "outputId": "62456ea7-9d92-4860-9375-4667700ed71c"
   },
   "outputs": [
    {
     "name": "stdout",
     "output_type": "stream",
     "text": [
      "Kích thước tập huấn luyện:  (28699, 15) (28699,)\n",
      "Kích thước tập kiểm tra:  (12300, 15) (12300,)\n"
     ]
    }
   ],
   "source": [
    "print('Kích thước tập huấn luyện: ', X_train.shape, y_train.shape)\n",
    "print('Kích thước tập kiểm tra: ', X_test.shape, y_test.shape)"
   ]
  },
  {
   "cell_type": "code",
   "execution_count": 68,
   "metadata": {
    "id": "FGjZf5lpKJBb"
   },
   "outputs": [],
   "source": [
    "# Hàm tính độ chính xác, ma trận nhầm lẫn, Recall, precision, f1 score và vẽ đồ thị ROC\n",
    "from sklearn import metrics\n",
    "from sklearn.model_selection import cross_val_score\n",
    "def evaluate_model(model, X_test, y_test, y_prediction):\n",
    "  print(\"Các chỉ số đánh giá mức độ hiệu quả của mô hình: \")\n",
    "  #Accuracy\n",
    "  print(\"1. Accuracy:\",metrics.accuracy_score(y_prediction,y_test))\n",
    "  # confusion_matrix\n",
    "  print('2. confusion_matrix:')\n",
    "  print(confusion_matrix(y_prediction,y_test))\n",
    "  # recall_score\n",
    "  print('3. recall_score: ', recall_score(y_prediction,y_test))\n",
    "  # precision_score\n",
    "  print('4. precision_score: ', precision_score(y_prediction,y_test))\n",
    "  # f1_score\n",
    "  print('5. f1_score: ', f1_score(y_prediction,y_test))\n",
    "  # ROC plot\n",
    "  print('6. Biểu đồ ROC của mô hình:')\n",
    "  metrics.plot_roc_curve(model, X_test, y_test)\n",
    "  plt.show()"
   ]
  },
  {
   "cell_type": "markdown",
   "metadata": {
    "id": "hwZEX4dN4vJb"
   },
   "source": [
    "**Logistic Regression**"
   ]
  },
  {
   "cell_type": "code",
   "execution_count": 69,
   "metadata": {
    "colab": {
     "base_uri": "https://localhost:8080/",
     "height": 901
    },
    "id": "qWvT8xzX4_Q8",
    "outputId": "b458b8ee-9f48-436b-d252-248f0b807a68"
   },
   "outputs": [
    {
     "name": "stderr",
     "output_type": "stream",
     "text": [
      "/home/hikaru/.local/lib/python3.8/site-packages/sklearn/linear_model/_logistic.py:814: ConvergenceWarning: lbfgs failed to converge (status=1):\n",
      "STOP: TOTAL NO. of ITERATIONS REACHED LIMIT.\n",
      "\n",
      "Increase the number of iterations (max_iter) or scale the data as shown in:\n",
      "    https://scikit-learn.org/stable/modules/preprocessing.html\n",
      "Please also refer to the documentation for alternative solver options:\n",
      "    https://scikit-learn.org/stable/modules/linear_model.html#logistic-regression\n",
      "  n_iter_i = _check_optimize_result(\n",
      "/home/hikaru/.local/lib/python3.8/site-packages/sklearn/utils/deprecation.py:87: FutureWarning: Function plot_roc_curve is deprecated; Function :func:`plot_roc_curve` is deprecated in 1.0 and will be removed in 1.2. Use one of the class methods: :meth:`sklearn.metric.RocCurveDisplay.from_predictions` or :meth:`sklearn.metric.RocCurveDisplay.from_estimator`.\n",
      "  warnings.warn(msg, category=FutureWarning)\n"
     ]
    },
    {
     "name": "stdout",
     "output_type": "stream",
     "text": [
      "Các chỉ số đánh giá mức độ hiệu quả của mô hình: \n",
      "1. Accuracy: 0.748780487804878\n",
      "2. confusion_matrix:\n",
      "[[4387 1212]\n",
      " [1878 4823]]\n",
      "3. recall_score:  0.7197433218922549\n",
      "4. precision_score:  0.7991714995857498\n",
      "5. f1_score:  0.7573806532663316\n",
      "6. Biểu đồ ROC của mô hình:\n"
     ]
    },
    {
     "data": {
      "image/png": "[encoded data removed]",
      "text/plain": [
       "<Figure size 1152x648 with 1 Axes>"
      ]
     },
     "metadata": {
      "needs_background": "light"
     },
     "output_type": "display_data"
    }
   ],
   "source": [
    "#Given smote, we have to do a little adjustment\n",
    "from sklearn.linear_model import LogisticRegression\n",
    "from sklearn.model_selection import cross_val_score\n",
    "\n",
    "logreg = LogisticRegression(fit_intercept=True, penalty='l2')\n",
    "logreg.fit(X_train, Y_train)\n",
    "\n",
    "logregprediction=logreg.predict(X_test)\n",
    "\n",
    "evaluate_model (logreg, X_test, y_test, logregprediction)"
   ]
  },
  {
   "cell_type": "markdown",
   "metadata": {
    "id": "Ee6TlsOgqMAI"
   },
   "source": [
    "**Linear Discriminant Analysis**"
   ]
  },
  {
   "cell_type": "code",
   "execution_count": 70,
   "metadata": {
    "colab": {
     "base_uri": "https://localhost:8080/",
     "height": 762
    },
    "id": "wsnY-aN3Bykd",
    "outputId": "e0b7ac5c-dcdf-41c4-e08b-4c935683b7c0"
   },
   "outputs": [
    {
     "name": "stdout",
     "output_type": "stream",
     "text": [
      "Các chỉ số đánh giá mức độ hiệu quả của mô hình: \n",
      "1. Accuracy: 0.748780487804878\n",
      "2. confusion_matrix:\n",
      "[[4387 1212]\n",
      " [1878 4823]]\n",
      "3. recall_score:  0.7197433218922549\n",
      "4. precision_score:  0.7991714995857498\n",
      "5. f1_score:  0.7573806532663316\n",
      "6. Biểu đồ ROC của mô hình:\n"
     ]
    },
    {
     "name": "stderr",
     "output_type": "stream",
     "text": [
      "/home/hikaru/.local/lib/python3.8/site-packages/sklearn/utils/deprecation.py:87: FutureWarning: Function plot_roc_curve is deprecated; Function :func:`plot_roc_curve` is deprecated in 1.0 and will be removed in 1.2. Use one of the class methods: :meth:`sklearn.metric.RocCurveDisplay.from_predictions` or :meth:`sklearn.metric.RocCurveDisplay.from_estimator`.\n",
      "  warnings.warn(msg, category=FutureWarning)\n"
     ]
    },
    {
     "data": {
      "image/png": "[encoded data removed]",
      "text/plain": [
       "<Figure size 1152x648 with 1 Axes>"
      ]
     },
     "metadata": {
      "needs_background": "light"
     },
     "output_type": "display_data"
    }
   ],
   "source": [
    "from sklearn.discriminant_analysis import LinearDiscriminantAnalysis\n",
    "lda = LinearDiscriminantAnalysis()\n",
    "lda.fit(X_train, Y_train)\n",
    "\n",
    "lda_prediction=lda.predict(X_test)\n",
    "\n",
    "evaluate_model (lda, X_test, y_test, lda_prediction)"
   ]
  },
  {
   "cell_type": "markdown",
   "metadata": {
    "id": "iXusnunQqbS2"
   },
   "source": [
    "**Gaussian Naive Bayes**"
   ]
  },
  {
   "cell_type": "code",
   "execution_count": 71,
   "metadata": {
    "colab": {
     "base_uri": "https://localhost:8080/",
     "height": 762
    },
    "id": "BlwsFZL-qOor",
    "outputId": "7a5f75b9-8b6f-41df-ce0e-8a8f2777677a"
   },
   "outputs": [
    {
     "name": "stdout",
     "output_type": "stream",
     "text": [
      "Các chỉ số đánh giá mức độ hiệu quả của mô hình: \n",
      "1. Accuracy: 0.661869918699187\n",
      "2. confusion_matrix:\n",
      "[[6240 4134]\n",
      " [  25 1901]]\n",
      "3. recall_score:  0.9870197300103842\n",
      "4. precision_score:  0.31499585749792874\n",
      "5. f1_score:  0.4775781936942595\n",
      "6. Biểu đồ ROC của mô hình:\n"
     ]
    },
    {
     "name": "stderr",
     "output_type": "stream",
     "text": [
      "/home/hikaru/.local/lib/python3.8/site-packages/sklearn/utils/deprecation.py:87: FutureWarning: Function plot_roc_curve is deprecated; Function :func:`plot_roc_curve` is deprecated in 1.0 and will be removed in 1.2. Use one of the class methods: :meth:`sklearn.metric.RocCurveDisplay.from_predictions` or :meth:`sklearn.metric.RocCurveDisplay.from_estimator`.\n",
      "  warnings.warn(msg, category=FutureWarning)\n"
     ]
    },
    {
     "data": {
      "image/png": "[encoded data removed]",
      "text/plain": [
       "<Figure size 1152x648 with 1 Axes>"
      ]
     },
     "metadata": {
      "needs_background": "light"
     },
     "output_type": "display_data"
    }
   ],
   "source": [
    "from sklearn.naive_bayes import GaussianNB\n",
    "gnb = GaussianNB()\n",
    "gnb.fit(X_train, Y_train)\n",
    "\n",
    "gnbprediction=gnb.predict(X_test)\n",
    "\n",
    "evaluate_model (gnb, X_test, y_test, gnbprediction)"
   ]
  },
  {
   "cell_type": "markdown",
   "metadata": {
    "id": "EgyS0v2nqzZo"
   },
   "source": [
    "**Decision Tree Classifier**"
   ]
  },
  {
   "cell_type": "code",
   "execution_count": 72,
   "metadata": {
    "colab": {
     "base_uri": "https://localhost:8080/",
     "height": 762
    },
    "id": "AiJpm4jAqrHy",
    "outputId": "0ff48e17-ceec-49cf-ab9a-d4de737041e6"
   },
   "outputs": [
    {
     "name": "stdout",
     "output_type": "stream",
     "text": [
      "Các chỉ số đánh giá mức độ hiệu quả của mô hình: \n",
      "1. Accuracy: 0.7575609756097561\n",
      "2. confusion_matrix:\n",
      "[[5227 1944]\n",
      " [1038 4091]]\n",
      "3. recall_score:  0.7976213686878534\n",
      "4. precision_score:  0.6778790389395195\n",
      "5. f1_score:  0.7328914367610176\n",
      "6. Biểu đồ ROC của mô hình:\n"
     ]
    },
    {
     "name": "stderr",
     "output_type": "stream",
     "text": [
      "/home/hikaru/.local/lib/python3.8/site-packages/sklearn/utils/deprecation.py:87: FutureWarning: Function plot_roc_curve is deprecated; Function :func:`plot_roc_curve` is deprecated in 1.0 and will be removed in 1.2. Use one of the class methods: :meth:`sklearn.metric.RocCurveDisplay.from_predictions` or :meth:`sklearn.metric.RocCurveDisplay.from_estimator`.\n",
      "  warnings.warn(msg, category=FutureWarning)\n"
     ]
    },
    {
     "data": {
      "image/png": "[encoded data removed]",
      "text/plain": [
       "<Figure size 1152x648 with 1 Axes>"
      ]
     },
     "metadata": {
      "needs_background": "light"
     },
     "output_type": "display_data"
    }
   ],
   "source": [
    "from sklearn.tree import DecisionTreeClassifier\n",
    "\n",
    "dtc= DecisionTreeClassifier(random_state=42)\n",
    "dtc.fit(X_train,Y_train)\n",
    "\n",
    "dtcprediction=dtc.predict(X_test)\n",
    "\n",
    "evaluate_model (dtc, X_test, y_test, dtcprediction)"
   ]
  },
  {
   "cell_type": "markdown",
   "metadata": {
    "id": "Yw0tgBQYrDk3"
   },
   "source": [
    "**Random Forest Classifier**"
   ]
  },
  {
   "cell_type": "code",
   "execution_count": 73,
   "metadata": {
    "colab": {
     "base_uri": "https://localhost:8080/",
     "height": 762
    },
    "id": "OUTcjv1Cq3Ff",
    "outputId": "2a0c3258-f9ea-4f34-bba4-07c6e6a4592f"
   },
   "outputs": [
    {
     "name": "stdout",
     "output_type": "stream",
     "text": [
      "Các chỉ số đánh giá mức độ hiệu quả của mô hình: \n",
      "1. Accuracy: 0.7576422764227643\n",
      "2. confusion_matrix:\n",
      "[[5228 1944]\n",
      " [1037 4091]]\n",
      "3. recall_score:  0.7977769110764431\n",
      "4. precision_score:  0.6778790389395195\n",
      "5. f1_score:  0.7329570903878886\n",
      "6. Biểu đồ ROC của mô hình:\n"
     ]
    },
    {
     "name": "stderr",
     "output_type": "stream",
     "text": [
      "/home/hikaru/.local/lib/python3.8/site-packages/sklearn/utils/deprecation.py:87: FutureWarning: Function plot_roc_curve is deprecated; Function :func:`plot_roc_curve` is deprecated in 1.0 and will be removed in 1.2. Use one of the class methods: :meth:`sklearn.metric.RocCurveDisplay.from_predictions` or :meth:`sklearn.metric.RocCurveDisplay.from_estimator`.\n",
      "  warnings.warn(msg, category=FutureWarning)\n"
     ]
    },
    {
     "data": {
      "image/png": "[encoded data removed]",
      "text/plain": [
       "<Figure size 1152x648 with 1 Axes>"
      ]
     },
     "metadata": {
      "needs_background": "light"
     },
     "output_type": "display_data"
    }
   ],
   "source": [
    "from sklearn.ensemble import RandomForestClassifier\n",
    "\n",
    "rfc=RandomForestClassifier(n_jobs=-1,random_state=123)\n",
    "#learning\n",
    "rfc.fit(X_train,Y_train)\n",
    "#Prediction\n",
    "rfcprediction=rfc.predict(X_test)\n",
    "\n",
    "evaluate_model (rfc, X_test, y_test, rfcprediction)\n"
   ]
  },
  {
   "cell_type": "markdown",
   "metadata": {
    "id": "Lrsi70oirRzh"
   },
   "source": [
    "**SVM Classifier**"
   ]
  },
  {
   "cell_type": "code",
   "execution_count": 74,
   "metadata": {
    "colab": {
     "base_uri": "https://localhost:8080/",
     "height": 762
    },
    "id": "Jw3weoEjrOA-",
    "outputId": "c29927ac-a7a8-4eff-8b49-13583316438b"
   },
   "outputs": [
    {
     "name": "stdout",
     "output_type": "stream",
     "text": [
      "Các chỉ số đánh giá mức độ hiệu quả của mô hình: \n",
      "1. Accuracy: 0.7573983739837399\n",
      "2. confusion_matrix:\n",
      "[[5259 1978]\n",
      " [1006 4057]]\n",
      "3. recall_score:  0.8013035749555599\n",
      "4. precision_score:  0.6722452361226181\n",
      "5. f1_score:  0.7311227248152821\n",
      "6. Biểu đồ ROC của mô hình:\n"
     ]
    },
    {
     "name": "stderr",
     "output_type": "stream",
     "text": [
      "/home/hikaru/.local/lib/python3.8/site-packages/sklearn/utils/deprecation.py:87: FutureWarning: Function plot_roc_curve is deprecated; Function :func:`plot_roc_curve` is deprecated in 1.0 and will be removed in 1.2. Use one of the class methods: :meth:`sklearn.metric.RocCurveDisplay.from_predictions` or :meth:`sklearn.metric.RocCurveDisplay.from_estimator`.\n",
      "  warnings.warn(msg, category=FutureWarning)\n"
     ]
    },
    {
     "data": {
      "image/png": "[encoded data removed]",
      "text/plain": [
       "<Figure size 1152x648 with 1 Axes>"
      ]
     },
     "metadata": {
      "needs_background": "light"
     },
     "output_type": "display_data"
    }
   ],
   "source": [
    "from sklearn import svm\n",
    "#making the instance\n",
    "svc = svm.SVC(random_state=123)\n",
    "#learning\n",
    "svc.fit(X_train,Y_train)\n",
    "#Prediction\n",
    "svcprediction=svc.predict(X_test)\n",
    "\n",
    "evaluate_model (svc, X_test, y_test, svcprediction)"
   ]
  },
  {
   "cell_type": "markdown",
   "metadata": {
    "id": "fQx_zcFCrcHJ"
   },
   "source": [
    "**K-NearestNeighbours Classifier**"
   ]
  },
  {
   "cell_type": "code",
   "execution_count": 75,
   "metadata": {
    "colab": {
     "base_uri": "https://localhost:8080/",
     "height": 762
    },
    "id": "mowRL2N5rXxt",
    "outputId": "13c3f6a9-7d8e-48e4-d9ee-f1e5b875a90f"
   },
   "outputs": [
    {
     "name": "stdout",
     "output_type": "stream",
     "text": [
      "Các chỉ số đánh giá mức độ hiệu quả của mô hình: \n",
      "1. Accuracy: 0.7508943089430894\n",
      "2. confusion_matrix:\n",
      "[[5210 2009]\n",
      " [1055 4026]]\n",
      "3. recall_score:  0.7923637079315096\n",
      "4. precision_score:  0.6671085335542668\n",
      "5. f1_score:  0.724361281036344\n",
      "6. Biểu đồ ROC của mô hình:\n"
     ]
    },
    {
     "name": "stderr",
     "output_type": "stream",
     "text": [
      "/home/hikaru/.local/lib/python3.8/site-packages/sklearn/utils/deprecation.py:87: FutureWarning: Function plot_roc_curve is deprecated; Function :func:`plot_roc_curve` is deprecated in 1.0 and will be removed in 1.2. Use one of the class methods: :meth:`sklearn.metric.RocCurveDisplay.from_predictions` or :meth:`sklearn.metric.RocCurveDisplay.from_estimator`.\n",
      "  warnings.warn(msg, category=FutureWarning)\n"
     ]
    },
    {
     "data": {
      "image/png": "[encoded data removed]",
      "text/plain": [
       "<Figure size 1152x648 with 1 Axes>"
      ]
     },
     "metadata": {
      "needs_background": "light"
     },
     "output_type": "display_data"
    }
   ],
   "source": [
    "from sklearn.neighbors import KNeighborsClassifier\n",
    "#making the instance\n",
    "knn = KNeighborsClassifier()\n",
    "#learning\n",
    "knn.fit(X_train,Y_train)\n",
    "#Prediction\n",
    "knnprediction=knn.predict(X_test)\n",
    "\n",
    "evaluate_model (knn, X_test, y_test, knnprediction)"
   ]
  },
  {
   "cell_type": "markdown",
   "metadata": {
    "id": "uzixDQHKuCZ1"
   },
   "source": [
    "**Ada Boost**"
   ]
  },
  {
   "cell_type": "code",
   "execution_count": 76,
   "metadata": {
    "colab": {
     "base_uri": "https://localhost:8080/",
     "height": 762
    },
    "id": "PzHkDqlKrkC8",
    "outputId": "237473e5-86e7-4248-b653-943cf217cbb9"
   },
   "outputs": [
    {
     "name": "stdout",
     "output_type": "stream",
     "text": [
      "Các chỉ số đánh giá mức độ hiệu quả của mô hình: \n",
      "1. Accuracy: 0.748780487804878\n",
      "2. confusion_matrix:\n",
      "[[4387 1212]\n",
      " [1878 4823]]\n",
      "3. recall_score:  0.7197433218922549\n",
      "4. precision_score:  0.7991714995857498\n",
      "5. f1_score:  0.7573806532663316\n",
      "6. Biểu đồ ROC của mô hình:\n"
     ]
    },
    {
     "name": "stderr",
     "output_type": "stream",
     "text": [
      "/home/hikaru/.local/lib/python3.8/site-packages/sklearn/utils/deprecation.py:87: FutureWarning: Function plot_roc_curve is deprecated; Function :func:`plot_roc_curve` is deprecated in 1.0 and will be removed in 1.2. Use one of the class methods: :meth:`sklearn.metric.RocCurveDisplay.from_predictions` or :meth:`sklearn.metric.RocCurveDisplay.from_estimator`.\n",
      "  warnings.warn(msg, category=FutureWarning)\n"
     ]
    },
    {
     "data": {
      "image/png": "[encoded data removed]",
      "text/plain": [
       "<Figure size 1152x648 with 1 Axes>"
      ]
     },
     "metadata": {
      "needs_background": "light"
     },
     "output_type": "display_data"
    }
   ],
   "source": [
    "from sklearn.ensemble import AdaBoostClassifier\n",
    "\n",
    "ada_model = AdaBoostClassifier(n_estimators=200, random_state=44)\n",
    "\n",
    "#learning\n",
    "ada_model.fit(X_train,Y_train)\n",
    "#Prediction\n",
    "ada_modelprediction=ada_model.predict(X_test)\n",
    "\n",
    "evaluate_model (ada_model, X_test, y_test, ada_modelprediction)"
   ]
  },
  {
   "cell_type": "markdown",
   "metadata": {
    "id": "76xn-4l8ukYZ"
   },
   "source": [
    "**XGB Classifier**"
   ]
  },
  {
   "cell_type": "code",
   "execution_count": 77,
   "metadata": {
    "colab": {
     "base_uri": "https://localhost:8080/",
     "height": 762
    },
    "id": "V6Trgh2Jupi4",
    "outputId": "d54b63f8-09c0-4863-ab7b-3b17ee6fac30"
   },
   "outputs": [
    {
     "name": "stdout",
     "output_type": "stream",
     "text": [
      "Các chỉ số đánh giá mức độ hiệu quả của mô hình: \n",
      "1. Accuracy: 0.7576422764227643\n",
      "2. confusion_matrix:\n",
      "[[5228 1944]\n",
      " [1037 4091]]\n",
      "3. recall_score:  0.7977769110764431\n",
      "4. precision_score:  0.6778790389395195\n",
      "5. f1_score:  0.7329570903878886\n",
      "6. Biểu đồ ROC của mô hình:\n"
     ]
    },
    {
     "name": "stderr",
     "output_type": "stream",
     "text": [
      "/home/hikaru/.local/lib/python3.8/site-packages/sklearn/utils/deprecation.py:87: FutureWarning: Function plot_roc_curve is deprecated; Function :func:`plot_roc_curve` is deprecated in 1.0 and will be removed in 1.2. Use one of the class methods: :meth:`sklearn.metric.RocCurveDisplay.from_predictions` or :meth:`sklearn.metric.RocCurveDisplay.from_estimator`.\n",
      "  warnings.warn(msg, category=FutureWarning)\n"
     ]
    },
    {
     "data": {
      "image/png": "[encoded data removed]",
      "text/plain": [
       "<Figure size 1152x648 with 1 Axes>"
      ]
     },
     "metadata": {
      "needs_background": "light"
     },
     "output_type": "display_data"
    }
   ],
   "source": [
    "from xgboost import XGBClassifier\n",
    "\n",
    "XGB_1 = XGBClassifier(objective='binary:logistic',scale_pos_weight=1,n_estimators=85, eta=0.3, subsample=1, colsample_bytree=1)\n",
    "\n",
    "#learning\n",
    "XGB_1.fit(X_train,Y_train)\n",
    "#Prediction\n",
    "XGB_modelprediction=XGB_1.predict(X_test)\n",
    "\n",
    "evaluate_model (XGB_1, X_test, y_test, XGB_modelprediction)"
   ]
  },
  {
   "cell_type": "markdown",
   "metadata": {
    "id": "1NMfpUOli4jn"
   },
   "source": [
    "**XGB Classifier Ver_2**"
   ]
  },
  {
   "cell_type": "code",
   "execution_count": 78,
   "metadata": {
    "colab": {
     "base_uri": "https://localhost:8080/",
     "height": 762
    },
    "id": "pbDiEglLi4PM",
    "outputId": "aad68a53-813b-405f-fa3e-26809438d357"
   },
   "outputs": [
    {
     "name": "stdout",
     "output_type": "stream",
     "text": [
      "Các chỉ số đánh giá mức độ hiệu quả của mô hình: \n",
      "1. Accuracy: 0.7576422764227643\n",
      "2. confusion_matrix:\n",
      "[[5228 1944]\n",
      " [1037 4091]]\n",
      "3. recall_score:  0.7977769110764431\n",
      "4. precision_score:  0.6778790389395195\n",
      "5. f1_score:  0.7329570903878886\n",
      "6. Biểu đồ ROC của mô hình:\n"
     ]
    },
    {
     "name": "stderr",
     "output_type": "stream",
     "text": [
      "/home/hikaru/.local/lib/python3.8/site-packages/sklearn/utils/deprecation.py:87: FutureWarning: Function plot_roc_curve is deprecated; Function :func:`plot_roc_curve` is deprecated in 1.0 and will be removed in 1.2. Use one of the class methods: :meth:`sklearn.metric.RocCurveDisplay.from_predictions` or :meth:`sklearn.metric.RocCurveDisplay.from_estimator`.\n",
      "  warnings.warn(msg, category=FutureWarning)\n"
     ]
    },
    {
     "data": {
      "image/png": "[encoded data removed]",
      "text/plain": [
       "<Figure size 1152x648 with 1 Axes>"
      ]
     },
     "metadata": {
      "needs_background": "light"
     },
     "output_type": "display_data"
    }
   ],
   "source": [
    "xgb_2 = XGBClassifier(learning_rate=0.4,max_depth=7)\n",
    "#learning\n",
    "xgb_2.fit(X_train,Y_train)\n",
    "#Prediction\n",
    "xgb_2_modelprediction_v2=xgb_2.predict(X_test)\n",
    "\n",
    "evaluate_model (xgb_2, X_test, y_test, xgb_2_modelprediction_v2)"
   ]
  },
  {
   "cell_type": "code",
   "execution_count": 79,
   "metadata": {
    "colab": {
     "base_uri": "https://localhost:8080/",
     "height": 762
    },
    "id": "9Ce6k-h-kbHj",
    "outputId": "f2ad2091-0856-4fd1-84ca-e89993592f57"
   },
   "outputs": [
    {
     "name": "stdout",
     "output_type": "stream",
     "text": [
      "Các chỉ số đánh giá mức độ hiệu quả của mô hình: \n",
      "1. Accuracy: 0.7576422764227643\n",
      "2. confusion_matrix:\n",
      "[[5228 1944]\n",
      " [1037 4091]]\n",
      "3. recall_score:  0.7977769110764431\n",
      "4. precision_score:  0.6778790389395195\n",
      "5. f1_score:  0.7329570903878886\n",
      "6. Biểu đồ ROC của mô hình:\n"
     ]
    },
    {
     "name": "stderr",
     "output_type": "stream",
     "text": [
      "/home/hikaru/.local/lib/python3.8/site-packages/sklearn/utils/deprecation.py:87: FutureWarning: Function plot_roc_curve is deprecated; Function :func:`plot_roc_curve` is deprecated in 1.0 and will be removed in 1.2. Use one of the class methods: :meth:`sklearn.metric.RocCurveDisplay.from_predictions` or :meth:`sklearn.metric.RocCurveDisplay.from_estimator`.\n",
      "  warnings.warn(msg, category=FutureWarning)\n"
     ]
    },
    {
     "data": {
      "image/png": "[encoded data removed]",
      "text/plain": [
       "<Figure size 1152x648 with 1 Axes>"
      ]
     },
     "metadata": {
      "needs_background": "light"
     },
     "output_type": "display_data"
    }
   ],
   "source": [
    "from xgboost import XGBClassifier\n",
    "\n",
    "# instantiate the model\n",
    "xgb_3 = XGBClassifier(learning_rate=0.4,max_depth=7)\n",
    "#fit the model\n",
    "xgb_3.fit(X_train, Y_train)\n",
    "\n",
    "#predicting the target value from the model for the samples\n",
    "y_test_xgb = xgb_3.predict(X_test)\n",
    "\n",
    "evaluate_model (xgb_3, X_test, y_test, y_test_xgb)"
   ]
  },
  {
   "cell_type": "markdown",
   "metadata": {
    "id": "yOWlC_Elcekj"
   },
   "source": [
    "**Light GBM**"
   ]
  },
  {
   "cell_type": "code",
   "execution_count": 80,
   "metadata": {
    "colab": {
     "base_uri": "https://localhost:8080/",
     "height": 762
    },
    "id": "u2IIPoRKcoWF",
    "outputId": "e5d2012a-daeb-467c-d298-6da2fb8242f8"
   },
   "outputs": [
    {
     "name": "stdout",
     "output_type": "stream",
     "text": [
      "Các chỉ số đánh giá mức độ hiệu quả của mô hình: \n",
      "1. Accuracy: 0.6531707317073171\n",
      "2. confusion_matrix:\n",
      "[[6252 4253]\n",
      " [  13 1782]]\n",
      "3. recall_score:  0.992757660167131\n",
      "4. precision_score:  0.29527754763877384\n",
      "5. f1_score:  0.4551724137931035\n",
      "6. Biểu đồ ROC của mô hình:\n"
     ]
    },
    {
     "name": "stderr",
     "output_type": "stream",
     "text": [
      "/home/hikaru/.local/lib/python3.8/site-packages/sklearn/utils/deprecation.py:87: FutureWarning: Function plot_roc_curve is deprecated; Function :func:`plot_roc_curve` is deprecated in 1.0 and will be removed in 1.2. Use one of the class methods: :meth:`sklearn.metric.RocCurveDisplay.from_predictions` or :meth:`sklearn.metric.RocCurveDisplay.from_estimator`.\n",
      "  warnings.warn(msg, category=FutureWarning)\n"
     ]
    },
    {
     "data": {
      "image/png": "[encoded data removed]",
      "text/plain": [
       "<Figure size 1152x648 with 1 Axes>"
      ]
     },
     "metadata": {
      "needs_background": "light"
     },
     "output_type": "display_data"
    }
   ],
   "source": [
    "from lightgbm import LGBMClassifier\n",
    "\n",
    "lgbm_clf = LGBMClassifier(n_estimators=1000, objective='binary',\n",
    "                          class_weight={0:25, 1:1}, learning_rate=0.01,\n",
    "                          boosting_type='dart')\n",
    "lgbm_clf.fit(X_train, Y_train)\n",
    "\n",
    "#Prediction\n",
    "LGBM_modelprediction=lgbm_clf.predict(X_test)\n",
    "\n",
    "evaluate_model (lgbm_clf, X_test, y_test, LGBM_modelprediction)"
   ]
  },
  {
   "cell_type": "markdown",
   "metadata": {
    "id": "npv91YsHcrwE"
   },
   "source": [
    "**Votting Classifier**"
   ]
  },
  {
   "cell_type": "code",
   "execution_count": 81,
   "metadata": {
    "colab": {
     "base_uri": "https://localhost:8080/",
     "height": 762
    },
    "id": "6qF_0VMlcyWC",
    "outputId": "7491daa2-2508-4722-9973-af0318d7c9ed"
   },
   "outputs": [
    {
     "name": "stdout",
     "output_type": "stream",
     "text": [
      "Các chỉ số đánh giá mức độ hiệu quả của mô hình: \n",
      "1. Accuracy: 0.6659349593495935\n",
      "2. confusion_matrix:\n",
      "[[6231 4075]\n",
      " [  34 1960]]\n",
      "3. recall_score:  0.9829488465396189\n",
      "4. precision_score:  0.3247721623860812\n",
      "5. f1_score:  0.4882301656495205\n",
      "6. Biểu đồ ROC của mô hình:\n"
     ]
    },
    {
     "name": "stderr",
     "output_type": "stream",
     "text": [
      "/home/hikaru/.local/lib/python3.8/site-packages/sklearn/utils/deprecation.py:87: FutureWarning: Function plot_roc_curve is deprecated; Function :func:`plot_roc_curve` is deprecated in 1.0 and will be removed in 1.2. Use one of the class methods: :meth:`sklearn.metric.RocCurveDisplay.from_predictions` or :meth:`sklearn.metric.RocCurveDisplay.from_estimator`.\n",
      "  warnings.warn(msg, category=FutureWarning)\n"
     ]
    },
    {
     "data": {
      "image/png": "[encoded data removed]",
      "text/plain": [
       "<Figure size 1152x648 with 1 Axes>"
      ]
     },
     "metadata": {
      "needs_background": "light"
     },
     "output_type": "display_data"
    }
   ],
   "source": [
    "from sklearn.ensemble import RandomForestClassifier, GradientBoostingClassifier, \\\n",
    "    ExtraTreesClassifier, VotingClassifier\n",
    "\n",
    "clf1 = RandomForestClassifier(n_estimators=200, class_weight={0: 100, 1: 1})\n",
    "clf2 = GradientBoostingClassifier(n_estimators=1000, max_depth=7)\n",
    "clf3 = ExtraTreesClassifier(n_estimators=1000, class_weight={0: 100, 1: 1})\n",
    "clf4 = XGBClassifier(n_estimators=1000, max_depth=5, learning_rate=0.01)\n",
    "pos_clf = VotingClassifier(estimators=[('pos', clf1), ('gb', clf2),\n",
    "                                        ('et', clf3), ('xgb', clf4)],\n",
    "                            voting='soft',\n",
    "                            weights=[1, 2, 1, 1])\n",
    "\n",
    "pos_clf.fit(X_train, Y_train)\n",
    "\n",
    "#Prediction\n",
    "Vot_modelprediction=pos_clf.predict(X_test)\n",
    "\n",
    "evaluate_model (pos_clf, X_test, y_test, Vot_modelprediction)"
   ]
  },
  {
   "cell_type": "markdown",
   "metadata": {
    "id": "7P5B0NqfH1gX"
   },
   "source": [
    "**Gradient Boosting Classifier**"
   ]
  },
  {
   "cell_type": "code",
   "execution_count": 82,
   "metadata": {
    "colab": {
     "base_uri": "https://localhost:8080/",
     "height": 762
    },
    "id": "Lc9ipfP1JODI",
    "outputId": "1a188f66-806c-41fd-afe4-aa40976466bc"
   },
   "outputs": [
    {
     "name": "stdout",
     "output_type": "stream",
     "text": [
      "Các chỉ số đánh giá mức độ hiệu quả của mô hình: \n",
      "1. Accuracy: 0.7575609756097561\n",
      "2. confusion_matrix:\n",
      "[[5228 1945]\n",
      " [1037 4090]]\n",
      "3. recall_score:  0.7977374683050517\n",
      "4. precision_score:  0.6777133388566694\n",
      "5. f1_score:  0.7328435764199964\n",
      "6. Biểu đồ ROC của mô hình:\n"
     ]
    },
    {
     "name": "stderr",
     "output_type": "stream",
     "text": [
      "/home/hikaru/.local/lib/python3.8/site-packages/sklearn/utils/deprecation.py:87: FutureWarning: Function plot_roc_curve is deprecated; Function :func:`plot_roc_curve` is deprecated in 1.0 and will be removed in 1.2. Use one of the class methods: :meth:`sklearn.metric.RocCurveDisplay.from_predictions` or :meth:`sklearn.metric.RocCurveDisplay.from_estimator`.\n",
      "  warnings.warn(msg, category=FutureWarning)\n"
     ]
    },
    {
     "data": {
      "image/png": "[encoded data removed]",
      "text/plain": [
       "<Figure size 1152x648 with 1 Axes>"
      ]
     },
     "metadata": {
      "needs_background": "light"
     },
     "output_type": "display_data"
    }
   ],
   "source": [
    "from sklearn.ensemble import RandomForestClassifier, GradientBoostingClassifier, \\\n",
    "    ExtraTreesClassifier, VotingClassifier\n",
    "\n",
    "GBoost = GradientBoostingClassifier(n_estimators=1000, max_depth=7)\n",
    "\n",
    "\n",
    "GBoost.fit(X_train, Y_train)\n",
    "\n",
    "#Prediction\n",
    "GBoost_modelprediction=GBoost.predict(X_test)\n",
    "\n",
    "evaluate_model (GBoost, X_test, y_test, GBoost_modelprediction)"
   ]
  },
  {
   "cell_type": "markdown",
   "metadata": {
    "id": "un9ItsRtJdtU"
   },
   "source": [
    "**Extra Trees Classifier**"
   ]
  },
  {
   "cell_type": "code",
   "execution_count": 83,
   "metadata": {
    "colab": {
     "base_uri": "https://localhost:8080/",
     "height": 762
    },
    "id": "r0eqRymXJi-F",
    "outputId": "e79aa58b-5290-47d1-99c0-b73d5b38305f"
   },
   "outputs": [
    {
     "name": "stdout",
     "output_type": "stream",
     "text": [
      "Các chỉ số đánh giá mức độ hiệu quả của mô hình: \n",
      "1. Accuracy: 0.6542276422764227\n",
      "2. confusion_matrix:\n",
      "[[6250 4238]\n",
      " [  15 1797]]\n",
      "3. recall_score:  0.9917218543046358\n",
      "4. precision_score:  0.29776304888152444\n",
      "5. f1_score:  0.4580094303555499\n",
      "6. Biểu đồ ROC của mô hình:\n"
     ]
    },
    {
     "name": "stderr",
     "output_type": "stream",
     "text": [
      "/home/hikaru/.local/lib/python3.8/site-packages/sklearn/utils/deprecation.py:87: FutureWarning: Function plot_roc_curve is deprecated; Function :func:`plot_roc_curve` is deprecated in 1.0 and will be removed in 1.2. Use one of the class methods: :meth:`sklearn.metric.RocCurveDisplay.from_predictions` or :meth:`sklearn.metric.RocCurveDisplay.from_estimator`.\n",
      "  warnings.warn(msg, category=FutureWarning)\n"
     ]
    },
    {
     "data": {
      "image/png": "[encoded data removed]",
      "text/plain": [
       "<Figure size 1152x648 with 1 Axes>"
      ]
     },
     "metadata": {
      "needs_background": "light"
     },
     "output_type": "display_data"
    }
   ],
   "source": [
    "from sklearn.ensemble import RandomForestClassifier, GradientBoostingClassifier, \\\n",
    "    ExtraTreesClassifier, VotingClassifier\n",
    "\n",
    "Extra = ExtraTreesClassifier(n_estimators=1000, class_weight={0: 100, 1: 1})\n",
    "\n",
    "\n",
    "Extra.fit(X_train, Y_train)\n",
    "\n",
    "#Prediction\n",
    "Extra_modelprediction=Extra.predict(X_test)\n",
    "\n",
    "evaluate_model (Extra, X_test, y_test, Extra_modelprediction)"
   ]
  },
  {
   "cell_type": "markdown",
   "metadata": {
    "id": "2xEo4ztNjPLn"
   },
   "source": [
    "**Cat Boosting**"
   ]
  },
  {
   "cell_type": "code",
   "execution_count": 84,
   "metadata": {
    "colab": {
     "base_uri": "https://localhost:8080/"
    },
    "id": "IrxhKhWaj0QS",
    "outputId": "51f2ae41-6358-4e54-9475-f02eba0b8cae"
   },
   "outputs": [
    {
     "name": "stdout",
     "output_type": "stream",
     "text": [
      "Requirement already satisfied: catboost in /home/hikaru/.local/lib/python3.8/site-packages (1.0.5)\n",
      "Requirement already satisfied: numpy>=1.16.0 in /home/hikaru/.local/lib/python3.8/site-packages (from catboost) (1.22.3)\n",
      "Requirement already satisfied: plotly in /home/hikaru/.local/lib/python3.8/site-packages (from catboost) (5.8.0)\n",
      "Requirement already satisfied: pandas>=0.24.0 in /home/hikaru/.local/lib/python3.8/site-packages (from catboost) (1.4.2)\n",
      "Requirement already satisfied: graphviz in /home/hikaru/.local/lib/python3.8/site-packages (from catboost) (0.20)\n",
      "Requirement already satisfied: matplotlib in /home/hikaru/.local/lib/python3.8/site-packages (from catboost) (3.5.2)\n",
      "Requirement already satisfied: scipy in /home/hikaru/.local/lib/python3.8/site-packages (from catboost) (1.8.0)\n",
      "Requirement already satisfied: six in /usr/lib/python3/dist-packages (from catboost) (1.14.0)\n",
      "Requirement already satisfied: tenacity>=6.2.0 in /home/hikaru/.local/lib/python3.8/site-packages (from plotly->catboost) (8.0.1)\n",
      "Requirement already satisfied: python-dateutil>=2.8.1 in /home/hikaru/.local/lib/python3.8/site-packages (from pandas>=0.24.0->catboost) (2.8.2)\n",
      "Requirement already satisfied: pytz>=2020.1 in /home/hikaru/.local/lib/python3.8/site-packages (from pandas>=0.24.0->catboost) (2022.1)\n",
      "Requirement already satisfied: kiwisolver>=1.0.1 in /home/hikaru/.local/lib/python3.8/site-packages (from matplotlib->catboost) (1.4.2)\n",
      "Requirement already satisfied: pyparsing>=2.2.1 in /usr/lib/python3/dist-packages (from matplotlib->catboost) (2.4.6)\n",
      "Requirement already satisfied: packaging>=20.0 in /usr/lib/python3/dist-packages (from matplotlib->catboost) (20.3)\n",
      "Requirement already satisfied: pillow>=6.2.0 in /usr/lib/python3/dist-packages (from matplotlib->catboost) (7.0.0)\n",
      "Requirement already satisfied: cycler>=0.10 in /home/hikaru/.local/lib/python3.8/site-packages (from matplotlib->catboost) (0.11.0)\n",
      "Requirement already satisfied: fonttools>=4.22.0 in /home/hikaru/.local/lib/python3.8/site-packages (from matplotlib->catboost) (4.33.3)\n",
      "Note: you may need to restart the kernel to use updated packages.\n"
     ]
    }
   ],
   "source": [
    "pip install catboost"
   ]
  },
  {
   "cell_type": "code",
   "execution_count": 85,
   "metadata": {
    "colab": {
     "base_uri": "https://localhost:8080/",
     "height": 1000
    },
    "id": "mIpk6t8Bjh9U",
    "outputId": "65f8e370-c13d-49da-9f93-fa9bbca72d97"
   },
   "outputs": [
    {
     "name": "stdout",
     "output_type": "stream",
     "text": [
      "0:\tlearn: 0.5911387\ttotal: 70.1ms\tremaining: 1m 9s\n",
      "1:\tlearn: 0.5483137\ttotal: 77.1ms\tremaining: 38.5s\n",
      "2:\tlearn: 0.5218623\ttotal: 88.5ms\tremaining: 29.4s\n",
      "3:\tlearn: 0.5089028\ttotal: 94.5ms\tremaining: 23.5s\n",
      "4:\tlearn: 0.4990662\ttotal: 107ms\tremaining: 21.2s\n",
      "5:\tlearn: 0.4942175\ttotal: 115ms\tremaining: 19s\n",
      "6:\tlearn: 0.4895470\ttotal: 127ms\tremaining: 18s\n",
      "7:\tlearn: 0.4867634\ttotal: 140ms\tremaining: 17.3s\n",
      "8:\tlearn: 0.4848065\ttotal: 156ms\tremaining: 17.2s\n",
      "9:\tlearn: 0.4835373\ttotal: 166ms\tremaining: 16.5s\n",
      "10:\tlearn: 0.4827557\ttotal: 179ms\tremaining: 16.1s\n",
      "11:\tlearn: 0.4815411\ttotal: 189ms\tremaining: 15.6s\n",
      "12:\tlearn: 0.4811519\ttotal: 199ms\tremaining: 15.1s\n",
      "13:\tlearn: 0.4809583\ttotal: 206ms\tremaining: 14.5s\n",
      "14:\tlearn: 0.4808303\ttotal: 215ms\tremaining: 14.1s\n",
      "15:\tlearn: 0.4803767\ttotal: 223ms\tremaining: 13.7s\n",
      "16:\tlearn: 0.4800136\ttotal: 236ms\tremaining: 13.7s\n",
      "17:\tlearn: 0.4798665\ttotal: 251ms\tremaining: 13.7s\n",
      "18:\tlearn: 0.4798279\ttotal: 255ms\tremaining: 13.2s\n",
      "19:\tlearn: 0.4796911\ttotal: 272ms\tremaining: 13.3s\n",
      "20:\tlearn: 0.4795593\ttotal: 279ms\tremaining: 13s\n",
      "21:\tlearn: 0.4795335\ttotal: 286ms\tremaining: 12.7s\n",
      "22:\tlearn: 0.4795074\ttotal: 295ms\tremaining: 12.5s\n",
      "23:\tlearn: 0.4795070\ttotal: 300ms\tremaining: 12.2s\n",
      "24:\tlearn: 0.4793784\ttotal: 318ms\tremaining: 12.4s\n",
      "25:\tlearn: 0.4792837\ttotal: 334ms\tremaining: 12.5s\n",
      "26:\tlearn: 0.4792725\ttotal: 338ms\tremaining: 12.2s\n",
      "27:\tlearn: 0.4792489\ttotal: 347ms\tremaining: 12.1s\n",
      "28:\tlearn: 0.4792492\ttotal: 352ms\tremaining: 11.8s\n",
      "29:\tlearn: 0.4791655\ttotal: 360ms\tremaining: 11.7s\n",
      "30:\tlearn: 0.4791196\ttotal: 379ms\tremaining: 11.9s\n",
      "31:\tlearn: 0.4790788\ttotal: 390ms\tremaining: 11.8s\n",
      "32:\tlearn: 0.4790563\ttotal: 396ms\tremaining: 11.6s\n",
      "33:\tlearn: 0.4790124\ttotal: 407ms\tremaining: 11.6s\n",
      "34:\tlearn: 0.4789878\ttotal: 418ms\tremaining: 11.5s\n",
      "35:\tlearn: 0.4789663\ttotal: 425ms\tremaining: 11.4s\n",
      "36:\tlearn: 0.4789626\ttotal: 429ms\tremaining: 11.2s\n",
      "37:\tlearn: 0.4789354\ttotal: 441ms\tremaining: 11.2s\n",
      "38:\tlearn: 0.4789171\ttotal: 451ms\tremaining: 11.1s\n",
      "39:\tlearn: 0.4789032\ttotal: 457ms\tremaining: 11s\n",
      "40:\tlearn: 0.4788875\ttotal: 470ms\tremaining: 11s\n",
      "41:\tlearn: 0.4788876\ttotal: 475ms\tremaining: 10.8s\n",
      "42:\tlearn: 0.4788822\ttotal: 479ms\tremaining: 10.7s\n",
      "43:\tlearn: 0.4788687\ttotal: 493ms\tremaining: 10.7s\n",
      "44:\tlearn: 0.4788435\ttotal: 505ms\tremaining: 10.7s\n",
      "45:\tlearn: 0.4788311\ttotal: 510ms\tremaining: 10.6s\n",
      "46:\tlearn: 0.4788280\ttotal: 516ms\tremaining: 10.5s\n",
      "47:\tlearn: 0.4788280\ttotal: 521ms\tremaining: 10.3s\n",
      "48:\tlearn: 0.4788280\ttotal: 537ms\tremaining: 10.4s\n",
      "49:\tlearn: 0.4788184\ttotal: 548ms\tremaining: 10.4s\n",
      "50:\tlearn: 0.4788200\ttotal: 558ms\tremaining: 10.4s\n",
      "51:\tlearn: 0.4788123\ttotal: 565ms\tremaining: 10.3s\n",
      "52:\tlearn: 0.4788080\ttotal: 573ms\tremaining: 10.2s\n",
      "53:\tlearn: 0.4788080\ttotal: 578ms\tremaining: 10.1s\n",
      "54:\tlearn: 0.4788012\ttotal: 585ms\tremaining: 10s\n",
      "55:\tlearn: 0.4787945\ttotal: 591ms\tremaining: 9.96s\n",
      "56:\tlearn: 0.4787886\ttotal: 597ms\tremaining: 9.87s\n",
      "57:\tlearn: 0.4787733\ttotal: 608ms\tremaining: 9.88s\n",
      "58:\tlearn: 0.4787722\ttotal: 612ms\tremaining: 9.76s\n",
      "59:\tlearn: 0.4787387\ttotal: 624ms\tremaining: 9.77s\n",
      "60:\tlearn: 0.4787123\ttotal: 635ms\tremaining: 9.78s\n",
      "61:\tlearn: 0.4787002\ttotal: 645ms\tremaining: 9.76s\n",
      "62:\tlearn: 0.4786874\ttotal: 661ms\tremaining: 9.83s\n",
      "63:\tlearn: 0.4786847\ttotal: 671ms\tremaining: 9.81s\n",
      "64:\tlearn: 0.4786810\ttotal: 685ms\tremaining: 9.85s\n",
      "65:\tlearn: 0.4786729\ttotal: 699ms\tremaining: 9.89s\n",
      "66:\tlearn: 0.4786632\ttotal: 709ms\tremaining: 9.88s\n",
      "67:\tlearn: 0.4786555\ttotal: 721ms\tremaining: 9.89s\n",
      "68:\tlearn: 0.4786522\ttotal: 735ms\tremaining: 9.92s\n",
      "69:\tlearn: 0.4786509\ttotal: 749ms\tremaining: 9.95s\n",
      "70:\tlearn: 0.4786444\ttotal: 766ms\tremaining: 10s\n",
      "71:\tlearn: 0.4786402\ttotal: 781ms\tremaining: 10.1s\n",
      "72:\tlearn: 0.4786414\ttotal: 789ms\tremaining: 10s\n",
      "73:\tlearn: 0.4786334\ttotal: 801ms\tremaining: 10s\n",
      "74:\tlearn: 0.4786303\ttotal: 812ms\tremaining: 10s\n",
      "75:\tlearn: 0.4786239\ttotal: 822ms\tremaining: 10s\n",
      "76:\tlearn: 0.4786205\ttotal: 833ms\tremaining: 9.99s\n",
      "77:\tlearn: 0.4786148\ttotal: 843ms\tremaining: 9.96s\n",
      "78:\tlearn: 0.4786151\ttotal: 859ms\tremaining: 10s\n",
      "79:\tlearn: 0.4786107\ttotal: 872ms\tremaining: 10s\n",
      "80:\tlearn: 0.4786055\ttotal: 886ms\tremaining: 10.1s\n",
      "81:\tlearn: 0.4786039\ttotal: 901ms\tremaining: 10.1s\n",
      "82:\tlearn: 0.4785979\ttotal: 916ms\tremaining: 10.1s\n",
      "83:\tlearn: 0.4785951\ttotal: 930ms\tremaining: 10.1s\n",
      "84:\tlearn: 0.4785958\ttotal: 950ms\tremaining: 10.2s\n",
      "85:\tlearn: 0.4785937\ttotal: 970ms\tremaining: 10.3s\n",
      "86:\tlearn: 0.4785880\ttotal: 987ms\tremaining: 10.4s\n",
      "87:\tlearn: 0.4785863\ttotal: 1s\tremaining: 10.4s\n",
      "88:\tlearn: 0.4785858\ttotal: 1.02s\tremaining: 10.4s\n",
      "89:\tlearn: 0.4785861\ttotal: 1.02s\tremaining: 10.3s\n",
      "90:\tlearn: 0.4785859\ttotal: 1.03s\tremaining: 10.3s\n",
      "91:\tlearn: 0.4785821\ttotal: 1.04s\tremaining: 10.3s\n",
      "92:\tlearn: 0.4785825\ttotal: 1.05s\tremaining: 10.3s\n",
      "93:\tlearn: 0.4785835\ttotal: 1.07s\tremaining: 10.3s\n",
      "94:\tlearn: 0.4785794\ttotal: 1.08s\tremaining: 10.3s\n",
      "95:\tlearn: 0.4785791\ttotal: 1.09s\tremaining: 10.3s\n",
      "96:\tlearn: 0.4785769\ttotal: 1.1s\tremaining: 10.3s\n",
      "97:\tlearn: 0.4785769\ttotal: 1.11s\tremaining: 10.2s\n",
      "98:\tlearn: 0.4785769\ttotal: 1.12s\tremaining: 10.2s\n",
      "99:\tlearn: 0.4785769\ttotal: 1.13s\tremaining: 10.1s\n",
      "100:\tlearn: 0.4785750\ttotal: 1.13s\tremaining: 10.1s\n",
      "101:\tlearn: 0.4785737\ttotal: 1.15s\tremaining: 10.1s\n",
      "102:\tlearn: 0.4785748\ttotal: 1.16s\tremaining: 10.1s\n",
      "103:\tlearn: 0.4785739\ttotal: 1.17s\tremaining: 10.1s\n",
      "104:\tlearn: 0.4785754\ttotal: 1.18s\tremaining: 10s\n",
      "105:\tlearn: 0.4785718\ttotal: 1.19s\tremaining: 10s\n",
      "106:\tlearn: 0.4785722\ttotal: 1.2s\tremaining: 9.98s\n",
      "107:\tlearn: 0.4785725\ttotal: 1.2s\tremaining: 9.93s\n",
      "108:\tlearn: 0.4785721\ttotal: 1.21s\tremaining: 9.91s\n",
      "109:\tlearn: 0.4785709\ttotal: 1.22s\tremaining: 9.91s\n",
      "110:\tlearn: 0.4785706\ttotal: 1.23s\tremaining: 9.86s\n",
      "111:\tlearn: 0.4785696\ttotal: 1.24s\tremaining: 9.83s\n",
      "112:\tlearn: 0.4785696\ttotal: 1.25s\tremaining: 9.81s\n",
      "113:\tlearn: 0.4785696\ttotal: 1.26s\tremaining: 9.78s\n",
      "114:\tlearn: 0.4785704\ttotal: 1.27s\tremaining: 9.78s\n",
      "115:\tlearn: 0.4785702\ttotal: 1.28s\tremaining: 9.74s\n",
      "116:\tlearn: 0.4785701\ttotal: 1.29s\tremaining: 9.71s\n",
      "117:\tlearn: 0.4785703\ttotal: 1.29s\tremaining: 9.68s\n",
      "118:\tlearn: 0.4785703\ttotal: 1.31s\tremaining: 9.67s\n",
      "119:\tlearn: 0.4785704\ttotal: 1.32s\tremaining: 9.68s\n",
      "120:\tlearn: 0.4785698\ttotal: 1.33s\tremaining: 9.68s\n",
      "121:\tlearn: 0.4785687\ttotal: 1.35s\tremaining: 9.69s\n",
      "122:\tlearn: 0.4785692\ttotal: 1.36s\tremaining: 9.67s\n",
      "123:\tlearn: 0.4785692\ttotal: 1.36s\tremaining: 9.65s\n",
      "124:\tlearn: 0.4785666\ttotal: 1.38s\tremaining: 9.65s\n",
      "125:\tlearn: 0.4785655\ttotal: 1.39s\tremaining: 9.65s\n",
      "126:\tlearn: 0.4785666\ttotal: 1.4s\tremaining: 9.64s\n",
      "127:\tlearn: 0.4785654\ttotal: 1.41s\tremaining: 9.63s\n",
      "128:\tlearn: 0.4785644\ttotal: 1.43s\tremaining: 9.62s\n",
      "129:\tlearn: 0.4785623\ttotal: 1.44s\tremaining: 9.63s\n",
      "130:\tlearn: 0.4785625\ttotal: 1.45s\tremaining: 9.6s\n",
      "131:\tlearn: 0.4785622\ttotal: 1.46s\tremaining: 9.59s\n",
      "132:\tlearn: 0.4785620\ttotal: 1.47s\tremaining: 9.58s\n",
      "133:\tlearn: 0.4785617\ttotal: 1.5s\tremaining: 9.68s\n",
      "134:\tlearn: 0.4785608\ttotal: 1.52s\tremaining: 9.76s\n",
      "135:\tlearn: 0.4785618\ttotal: 1.58s\tremaining: 10.1s\n",
      "136:\tlearn: 0.4785618\ttotal: 1.6s\tremaining: 10.1s\n",
      "137:\tlearn: 0.4785609\ttotal: 1.6s\tremaining: 10s\n",
      "138:\tlearn: 0.4785605\ttotal: 1.61s\tremaining: 9.99s\n",
      "139:\tlearn: 0.4785605\ttotal: 1.62s\tremaining: 9.95s\n",
      "140:\tlearn: 0.4785572\ttotal: 1.63s\tremaining: 9.95s\n",
      "141:\tlearn: 0.4785591\ttotal: 1.64s\tremaining: 9.92s\n",
      "142:\tlearn: 0.4785577\ttotal: 1.65s\tremaining: 9.91s\n",
      "143:\tlearn: 0.4785572\ttotal: 1.67s\tremaining: 9.91s\n",
      "144:\tlearn: 0.4785572\ttotal: 1.67s\tremaining: 9.86s\n",
      "145:\tlearn: 0.4785554\ttotal: 1.68s\tremaining: 9.85s\n",
      "146:\tlearn: 0.4785554\ttotal: 1.69s\tremaining: 9.81s\n",
      "147:\tlearn: 0.4785554\ttotal: 1.7s\tremaining: 9.78s\n",
      "148:\tlearn: 0.4785557\ttotal: 1.71s\tremaining: 9.74s\n",
      "149:\tlearn: 0.4785534\ttotal: 1.72s\tremaining: 9.72s\n",
      "150:\tlearn: 0.4785547\ttotal: 1.72s\tremaining: 9.69s\n",
      "151:\tlearn: 0.4785548\ttotal: 1.74s\tremaining: 9.71s\n",
      "152:\tlearn: 0.4785545\ttotal: 1.75s\tremaining: 9.7s\n",
      "153:\tlearn: 0.4785560\ttotal: 1.76s\tremaining: 9.67s\n",
      "154:\tlearn: 0.4785544\ttotal: 1.77s\tremaining: 9.64s\n",
      "155:\tlearn: 0.4785526\ttotal: 1.78s\tremaining: 9.61s\n",
      "156:\tlearn: 0.4785526\ttotal: 1.78s\tremaining: 9.58s\n",
      "157:\tlearn: 0.4785507\ttotal: 1.8s\tremaining: 9.6s\n",
      "158:\tlearn: 0.4785507\ttotal: 1.81s\tremaining: 9.58s\n",
      "159:\tlearn: 0.4785507\ttotal: 1.82s\tremaining: 9.55s\n",
      "160:\tlearn: 0.4785506\ttotal: 1.83s\tremaining: 9.54s\n",
      "161:\tlearn: 0.4785518\ttotal: 1.84s\tremaining: 9.54s\n",
      "162:\tlearn: 0.4785495\ttotal: 1.85s\tremaining: 9.52s\n",
      "163:\tlearn: 0.4785479\ttotal: 1.86s\tremaining: 9.5s\n",
      "164:\tlearn: 0.4785479\ttotal: 1.87s\tremaining: 9.46s\n",
      "165:\tlearn: 0.4785474\ttotal: 1.88s\tremaining: 9.44s\n",
      "166:\tlearn: 0.4785473\ttotal: 1.88s\tremaining: 9.4s\n",
      "167:\tlearn: 0.4785473\ttotal: 1.89s\tremaining: 9.38s\n",
      "168:\tlearn: 0.4785494\ttotal: 1.9s\tremaining: 9.36s\n",
      "169:\tlearn: 0.4785490\ttotal: 1.91s\tremaining: 9.34s\n",
      "170:\tlearn: 0.4785483\ttotal: 1.93s\tremaining: 9.36s\n",
      "171:\tlearn: 0.4785497\ttotal: 1.94s\tremaining: 9.36s\n",
      "172:\tlearn: 0.4785488\ttotal: 1.96s\tremaining: 9.35s\n",
      "173:\tlearn: 0.4785470\ttotal: 1.96s\tremaining: 9.32s\n",
      "174:\tlearn: 0.4785490\ttotal: 1.97s\tremaining: 9.31s\n",
      "175:\tlearn: 0.4785479\ttotal: 1.98s\tremaining: 9.29s\n",
      "176:\tlearn: 0.4785444\ttotal: 2s\tremaining: 9.32s\n",
      "177:\tlearn: 0.4785450\ttotal: 2.01s\tremaining: 9.3s\n",
      "178:\tlearn: 0.4785450\ttotal: 2.02s\tremaining: 9.28s\n",
      "179:\tlearn: 0.4785451\ttotal: 2.03s\tremaining: 9.27s\n",
      "180:\tlearn: 0.4785451\ttotal: 2.08s\tremaining: 9.4s\n",
      "181:\tlearn: 0.4785446\ttotal: 2.1s\tremaining: 9.44s\n",
      "182:\tlearn: 0.4785452\ttotal: 2.14s\tremaining: 9.55s\n",
      "183:\tlearn: 0.4785449\ttotal: 2.2s\tremaining: 9.75s\n",
      "184:\tlearn: 0.4785443\ttotal: 2.23s\tremaining: 9.82s\n",
      "185:\tlearn: 0.4785444\ttotal: 2.26s\tremaining: 9.89s\n",
      "186:\tlearn: 0.4785442\ttotal: 2.3s\tremaining: 9.98s\n",
      "187:\tlearn: 0.4785444\ttotal: 2.35s\tremaining: 10.2s\n",
      "188:\tlearn: 0.4785436\ttotal: 2.39s\tremaining: 10.3s\n",
      "189:\tlearn: 0.4785436\ttotal: 2.43s\tremaining: 10.4s\n",
      "190:\tlearn: 0.4785436\ttotal: 2.45s\tremaining: 10.4s\n",
      "191:\tlearn: 0.4785440\ttotal: 2.46s\tremaining: 10.4s\n",
      "192:\tlearn: 0.4785440\ttotal: 2.47s\tremaining: 10.3s\n",
      "193:\tlearn: 0.4785437\ttotal: 2.5s\tremaining: 10.4s\n",
      "194:\tlearn: 0.4785431\ttotal: 2.55s\tremaining: 10.5s\n",
      "195:\tlearn: 0.4785433\ttotal: 2.56s\tremaining: 10.5s\n",
      "196:\tlearn: 0.4785435\ttotal: 2.58s\tremaining: 10.5s\n",
      "197:\tlearn: 0.4785435\ttotal: 2.59s\tremaining: 10.5s\n",
      "198:\tlearn: 0.4785444\ttotal: 2.6s\tremaining: 10.4s\n",
      "199:\tlearn: 0.4785433\ttotal: 2.6s\tremaining: 10.4s\n",
      "200:\tlearn: 0.4785433\ttotal: 2.61s\tremaining: 10.4s\n",
      "201:\tlearn: 0.4785437\ttotal: 2.62s\tremaining: 10.3s\n",
      "202:\tlearn: 0.4785432\ttotal: 2.63s\tremaining: 10.3s\n",
      "203:\tlearn: 0.4785431\ttotal: 2.64s\tremaining: 10.3s\n",
      "204:\tlearn: 0.4785427\ttotal: 2.65s\tremaining: 10.3s\n",
      "205:\tlearn: 0.4785430\ttotal: 2.66s\tremaining: 10.3s\n",
      "206:\tlearn: 0.4785430\ttotal: 2.67s\tremaining: 10.2s\n",
      "207:\tlearn: 0.4785430\ttotal: 2.68s\tremaining: 10.2s\n",
      "208:\tlearn: 0.4785427\ttotal: 2.69s\tremaining: 10.2s\n",
      "209:\tlearn: 0.4785428\ttotal: 2.69s\tremaining: 10.1s\n",
      "210:\tlearn: 0.4785428\ttotal: 2.7s\tremaining: 10.1s\n",
      "211:\tlearn: 0.4785428\ttotal: 2.71s\tremaining: 10.1s\n",
      "212:\tlearn: 0.4785427\ttotal: 2.72s\tremaining: 10.1s\n",
      "213:\tlearn: 0.4785427\ttotal: 2.73s\tremaining: 10s\n",
      "214:\tlearn: 0.4785428\ttotal: 2.74s\tremaining: 10s\n",
      "215:\tlearn: 0.4785428\ttotal: 2.75s\tremaining: 9.97s\n",
      "216:\tlearn: 0.4785427\ttotal: 2.75s\tremaining: 9.94s\n",
      "217:\tlearn: 0.4785428\ttotal: 2.76s\tremaining: 9.91s\n",
      "218:\tlearn: 0.4785438\ttotal: 2.77s\tremaining: 9.89s\n",
      "219:\tlearn: 0.4785436\ttotal: 2.78s\tremaining: 9.86s\n",
      "220:\tlearn: 0.4785436\ttotal: 2.79s\tremaining: 9.84s\n",
      "221:\tlearn: 0.4785416\ttotal: 2.81s\tremaining: 9.83s\n",
      "222:\tlearn: 0.4785431\ttotal: 2.81s\tremaining: 9.81s\n",
      "223:\tlearn: 0.4785422\ttotal: 2.83s\tremaining: 9.8s\n",
      "224:\tlearn: 0.4785422\ttotal: 2.84s\tremaining: 9.77s\n",
      "225:\tlearn: 0.4785417\ttotal: 2.84s\tremaining: 9.74s\n",
      "226:\tlearn: 0.4785408\ttotal: 2.85s\tremaining: 9.71s\n",
      "227:\tlearn: 0.4785410\ttotal: 2.86s\tremaining: 9.7s\n",
      "228:\tlearn: 0.4785423\ttotal: 2.87s\tremaining: 9.68s\n",
      "229:\tlearn: 0.4785410\ttotal: 2.88s\tremaining: 9.64s\n",
      "230:\tlearn: 0.4785428\ttotal: 2.89s\tremaining: 9.62s\n",
      "231:\tlearn: 0.4785417\ttotal: 2.9s\tremaining: 9.59s\n",
      "232:\tlearn: 0.4785419\ttotal: 2.91s\tremaining: 9.57s\n",
      "233:\tlearn: 0.4785408\ttotal: 2.91s\tremaining: 9.54s\n",
      "234:\tlearn: 0.4785404\ttotal: 2.93s\tremaining: 9.53s\n",
      "235:\tlearn: 0.4785410\ttotal: 2.93s\tremaining: 9.5s\n",
      "236:\tlearn: 0.4785395\ttotal: 2.94s\tremaining: 9.47s\n",
      "237:\tlearn: 0.4785401\ttotal: 2.95s\tremaining: 9.46s\n",
      "238:\tlearn: 0.4785398\ttotal: 2.96s\tremaining: 9.44s\n",
      "239:\tlearn: 0.4785382\ttotal: 2.98s\tremaining: 9.42s\n",
      "240:\tlearn: 0.4785380\ttotal: 2.99s\tremaining: 9.41s\n",
      "241:\tlearn: 0.4785370\ttotal: 3s\tremaining: 9.39s\n",
      "242:\tlearn: 0.4785372\ttotal: 3.01s\tremaining: 9.37s\n",
      "243:\tlearn: 0.4785370\ttotal: 3.02s\tremaining: 9.37s\n",
      "244:\tlearn: 0.4785391\ttotal: 3.03s\tremaining: 9.35s\n",
      "245:\tlearn: 0.4785372\ttotal: 3.04s\tremaining: 9.32s\n",
      "246:\tlearn: 0.4785365\ttotal: 3.05s\tremaining: 9.3s\n",
      "247:\tlearn: 0.4785372\ttotal: 3.06s\tremaining: 9.29s\n",
      "248:\tlearn: 0.4785359\ttotal: 3.08s\tremaining: 9.28s\n",
      "249:\tlearn: 0.4785360\ttotal: 3.09s\tremaining: 9.26s\n",
      "250:\tlearn: 0.4785353\ttotal: 3.1s\tremaining: 9.24s\n",
      "251:\tlearn: 0.4785362\ttotal: 3.1s\tremaining: 9.21s\n",
      "252:\tlearn: 0.4785360\ttotal: 3.11s\tremaining: 9.19s\n",
      "253:\tlearn: 0.4785353\ttotal: 3.12s\tremaining: 9.17s\n",
      "254:\tlearn: 0.4785360\ttotal: 3.13s\tremaining: 9.15s\n",
      "255:\tlearn: 0.4785336\ttotal: 3.14s\tremaining: 9.13s\n",
      "256:\tlearn: 0.4785337\ttotal: 3.15s\tremaining: 9.11s\n",
      "257:\tlearn: 0.4785336\ttotal: 3.15s\tremaining: 9.07s\n",
      "258:\tlearn: 0.4785336\ttotal: 3.17s\tremaining: 9.06s\n",
      "259:\tlearn: 0.4785336\ttotal: 3.17s\tremaining: 9.03s\n",
      "260:\tlearn: 0.4785337\ttotal: 3.18s\tremaining: 9.01s\n",
      "261:\tlearn: 0.4785337\ttotal: 3.19s\tremaining: 8.98s\n",
      "262:\tlearn: 0.4785337\ttotal: 3.2s\tremaining: 8.97s\n",
      "263:\tlearn: 0.4785337\ttotal: 3.21s\tremaining: 8.95s\n",
      "264:\tlearn: 0.4785361\ttotal: 3.22s\tremaining: 8.93s\n",
      "265:\tlearn: 0.4785361\ttotal: 3.23s\tremaining: 8.91s\n",
      "266:\tlearn: 0.4785358\ttotal: 3.23s\tremaining: 8.88s\n",
      "267:\tlearn: 0.4785358\ttotal: 3.24s\tremaining: 8.86s\n",
      "268:\tlearn: 0.4785358\ttotal: 3.25s\tremaining: 8.84s\n",
      "269:\tlearn: 0.4785351\ttotal: 3.26s\tremaining: 8.81s\n",
      "270:\tlearn: 0.4785351\ttotal: 3.27s\tremaining: 8.79s\n",
      "271:\tlearn: 0.4785359\ttotal: 3.28s\tremaining: 8.78s\n",
      "272:\tlearn: 0.4785360\ttotal: 3.29s\tremaining: 8.77s\n",
      "273:\tlearn: 0.4785360\ttotal: 3.31s\tremaining: 8.76s\n",
      "274:\tlearn: 0.4785343\ttotal: 3.32s\tremaining: 8.74s\n",
      "275:\tlearn: 0.4785343\ttotal: 3.33s\tremaining: 8.72s\n",
      "276:\tlearn: 0.4785350\ttotal: 3.33s\tremaining: 8.7s\n",
      "277:\tlearn: 0.4785350\ttotal: 3.34s\tremaining: 8.68s\n",
      "278:\tlearn: 0.4785342\ttotal: 3.35s\tremaining: 8.65s\n",
      "279:\tlearn: 0.4785342\ttotal: 3.36s\tremaining: 8.63s\n",
      "280:\tlearn: 0.4785343\ttotal: 3.36s\tremaining: 8.61s\n",
      "281:\tlearn: 0.4785351\ttotal: 3.37s\tremaining: 8.59s\n",
      "282:\tlearn: 0.4785346\ttotal: 3.38s\tremaining: 8.57s\n",
      "283:\tlearn: 0.4785342\ttotal: 3.39s\tremaining: 8.55s\n",
      "284:\tlearn: 0.4785340\ttotal: 3.4s\tremaining: 8.53s\n",
      "285:\tlearn: 0.4785340\ttotal: 3.41s\tremaining: 8.51s\n",
      "286:\tlearn: 0.4785321\ttotal: 3.42s\tremaining: 8.5s\n",
      "287:\tlearn: 0.4785321\ttotal: 3.43s\tremaining: 8.47s\n",
      "288:\tlearn: 0.4785323\ttotal: 3.45s\tremaining: 8.48s\n",
      "289:\tlearn: 0.4785332\ttotal: 3.46s\tremaining: 8.47s\n",
      "290:\tlearn: 0.4785327\ttotal: 3.47s\tremaining: 8.46s\n",
      "291:\tlearn: 0.4785314\ttotal: 3.49s\tremaining: 8.46s\n",
      "292:\tlearn: 0.4785317\ttotal: 3.5s\tremaining: 8.44s\n",
      "293:\tlearn: 0.4785326\ttotal: 3.51s\tremaining: 8.43s\n",
      "294:\tlearn: 0.4785327\ttotal: 3.52s\tremaining: 8.41s\n",
      "295:\tlearn: 0.4785315\ttotal: 3.53s\tremaining: 8.39s\n",
      "296:\tlearn: 0.4785315\ttotal: 3.54s\tremaining: 8.38s\n",
      "297:\tlearn: 0.4785330\ttotal: 3.56s\tremaining: 8.38s\n",
      "298:\tlearn: 0.4785321\ttotal: 3.57s\tremaining: 8.37s\n",
      "299:\tlearn: 0.4785309\ttotal: 3.58s\tremaining: 8.37s\n",
      "300:\tlearn: 0.4785304\ttotal: 3.59s\tremaining: 8.35s\n",
      "301:\tlearn: 0.4785299\ttotal: 3.61s\tremaining: 8.34s\n",
      "302:\tlearn: 0.4785299\ttotal: 3.62s\tremaining: 8.32s\n",
      "303:\tlearn: 0.4785311\ttotal: 3.63s\tremaining: 8.3s\n",
      "304:\tlearn: 0.4785299\ttotal: 3.64s\tremaining: 8.29s\n",
      "305:\tlearn: 0.4785298\ttotal: 3.65s\tremaining: 8.27s\n",
      "306:\tlearn: 0.4785302\ttotal: 3.66s\tremaining: 8.25s\n",
      "307:\tlearn: 0.4785297\ttotal: 3.67s\tremaining: 8.24s\n",
      "308:\tlearn: 0.4785297\ttotal: 3.68s\tremaining: 8.22s\n",
      "309:\tlearn: 0.4785297\ttotal: 3.69s\tremaining: 8.21s\n",
      "310:\tlearn: 0.4785290\ttotal: 3.7s\tremaining: 8.2s\n",
      "311:\tlearn: 0.4785291\ttotal: 3.71s\tremaining: 8.18s\n",
      "312:\tlearn: 0.4785293\ttotal: 3.72s\tremaining: 8.16s\n",
      "313:\tlearn: 0.4785294\ttotal: 3.73s\tremaining: 8.14s\n",
      "314:\tlearn: 0.4785290\ttotal: 3.74s\tremaining: 8.12s\n",
      "315:\tlearn: 0.4785279\ttotal: 3.75s\tremaining: 8.11s\n",
      "316:\tlearn: 0.4785280\ttotal: 3.76s\tremaining: 8.09s\n",
      "317:\tlearn: 0.4785280\ttotal: 3.76s\tremaining: 8.07s\n",
      "318:\tlearn: 0.4785283\ttotal: 3.77s\tremaining: 8.05s\n",
      "319:\tlearn: 0.4785276\ttotal: 3.79s\tremaining: 8.05s\n",
      "320:\tlearn: 0.4785283\ttotal: 3.79s\tremaining: 8.03s\n",
      "321:\tlearn: 0.4785282\ttotal: 3.81s\tremaining: 8.01s\n",
      "322:\tlearn: 0.4785281\ttotal: 3.82s\tremaining: 8s\n",
      "323:\tlearn: 0.4785280\ttotal: 3.83s\tremaining: 7.99s\n",
      "324:\tlearn: 0.4785284\ttotal: 3.83s\tremaining: 7.96s\n",
      "325:\tlearn: 0.4785284\ttotal: 3.84s\tremaining: 7.94s\n",
      "326:\tlearn: 0.4785282\ttotal: 3.85s\tremaining: 7.92s\n",
      "327:\tlearn: 0.4785278\ttotal: 3.87s\tremaining: 7.92s\n",
      "328:\tlearn: 0.4785280\ttotal: 3.88s\tremaining: 7.92s\n",
      "329:\tlearn: 0.4785283\ttotal: 3.92s\tremaining: 7.96s\n",
      "330:\tlearn: 0.4785268\ttotal: 3.93s\tremaining: 7.95s\n",
      "331:\tlearn: 0.4785259\ttotal: 3.94s\tremaining: 7.93s\n",
      "332:\tlearn: 0.4785260\ttotal: 3.96s\tremaining: 7.92s\n",
      "333:\tlearn: 0.4785259\ttotal: 3.96s\tremaining: 7.91s\n",
      "334:\tlearn: 0.4785251\ttotal: 3.98s\tremaining: 7.89s\n",
      "335:\tlearn: 0.4785253\ttotal: 3.98s\tremaining: 7.87s\n",
      "336:\tlearn: 0.4785253\ttotal: 3.99s\tremaining: 7.86s\n",
      "337:\tlearn: 0.4785252\ttotal: 4s\tremaining: 7.84s\n",
      "338:\tlearn: 0.4785250\ttotal: 4.02s\tremaining: 7.83s\n",
      "339:\tlearn: 0.4785250\ttotal: 4.03s\tremaining: 7.83s\n",
      "340:\tlearn: 0.4785250\ttotal: 4.04s\tremaining: 7.81s\n",
      "341:\tlearn: 0.4785250\ttotal: 4.05s\tremaining: 7.79s\n",
      "342:\tlearn: 0.4785250\ttotal: 4.06s\tremaining: 7.78s\n",
      "343:\tlearn: 0.4785252\ttotal: 4.07s\tremaining: 7.76s\n",
      "344:\tlearn: 0.4785250\ttotal: 4.08s\tremaining: 7.75s\n",
      "345:\tlearn: 0.4785250\ttotal: 4.09s\tremaining: 7.73s\n",
      "346:\tlearn: 0.4785250\ttotal: 4.1s\tremaining: 7.72s\n",
      "347:\tlearn: 0.4785250\ttotal: 4.11s\tremaining: 7.7s\n",
      "348:\tlearn: 0.4785250\ttotal: 4.12s\tremaining: 7.69s\n",
      "349:\tlearn: 0.4785250\ttotal: 4.13s\tremaining: 7.67s\n",
      "350:\tlearn: 0.4785250\ttotal: 4.14s\tremaining: 7.65s\n",
      "351:\tlearn: 0.4785250\ttotal: 4.15s\tremaining: 7.64s\n",
      "352:\tlearn: 0.4785250\ttotal: 4.16s\tremaining: 7.62s\n",
      "353:\tlearn: 0.4785250\ttotal: 4.18s\tremaining: 7.62s\n",
      "354:\tlearn: 0.4785250\ttotal: 4.19s\tremaining: 7.61s\n",
      "355:\tlearn: 0.4785250\ttotal: 4.21s\tremaining: 7.61s\n",
      "356:\tlearn: 0.4785250\ttotal: 4.21s\tremaining: 7.59s\n",
      "357:\tlearn: 0.4785250\ttotal: 4.22s\tremaining: 7.58s\n",
      "358:\tlearn: 0.4785250\ttotal: 4.24s\tremaining: 7.56s\n",
      "359:\tlearn: 0.4785250\ttotal: 4.25s\tremaining: 7.55s\n",
      "360:\tlearn: 0.4785250\ttotal: 4.26s\tremaining: 7.53s\n",
      "361:\tlearn: 0.4785250\ttotal: 4.26s\tremaining: 7.52s\n",
      "362:\tlearn: 0.4785250\ttotal: 4.27s\tremaining: 7.5s\n",
      "363:\tlearn: 0.4785250\ttotal: 4.28s\tremaining: 7.48s\n",
      "364:\tlearn: 0.4785250\ttotal: 4.3s\tremaining: 7.48s\n",
      "365:\tlearn: 0.4785250\ttotal: 4.31s\tremaining: 7.47s\n",
      "366:\tlearn: 0.4785250\ttotal: 4.32s\tremaining: 7.45s\n",
      "367:\tlearn: 0.4785250\ttotal: 4.33s\tremaining: 7.43s\n",
      "368:\tlearn: 0.4785250\ttotal: 4.34s\tremaining: 7.42s\n",
      "369:\tlearn: 0.4785250\ttotal: 4.35s\tremaining: 7.41s\n",
      "370:\tlearn: 0.4785251\ttotal: 4.36s\tremaining: 7.39s\n",
      "371:\tlearn: 0.4785250\ttotal: 4.37s\tremaining: 7.38s\n",
      "372:\tlearn: 0.4785251\ttotal: 4.38s\tremaining: 7.37s\n",
      "373:\tlearn: 0.4785251\ttotal: 4.4s\tremaining: 7.36s\n",
      "374:\tlearn: 0.4785251\ttotal: 4.41s\tremaining: 7.35s\n",
      "375:\tlearn: 0.4785256\ttotal: 4.42s\tremaining: 7.34s\n",
      "376:\tlearn: 0.4785251\ttotal: 4.43s\tremaining: 7.32s\n",
      "377:\tlearn: 0.4785249\ttotal: 4.44s\tremaining: 7.3s\n",
      "378:\tlearn: 0.4785249\ttotal: 4.45s\tremaining: 7.29s\n",
      "379:\tlearn: 0.4785253\ttotal: 4.46s\tremaining: 7.28s\n",
      "380:\tlearn: 0.4785252\ttotal: 4.47s\tremaining: 7.27s\n",
      "381:\tlearn: 0.4785254\ttotal: 4.49s\tremaining: 7.26s\n",
      "382:\tlearn: 0.4785252\ttotal: 4.5s\tremaining: 7.25s\n",
      "383:\tlearn: 0.4785248\ttotal: 4.51s\tremaining: 7.23s\n",
      "384:\tlearn: 0.4785261\ttotal: 4.52s\tremaining: 7.22s\n",
      "385:\tlearn: 0.4785257\ttotal: 4.53s\tremaining: 7.21s\n",
      "386:\tlearn: 0.4785255\ttotal: 4.54s\tremaining: 7.2s\n",
      "387:\tlearn: 0.4785255\ttotal: 4.55s\tremaining: 7.18s\n",
      "388:\tlearn: 0.4785254\ttotal: 4.56s\tremaining: 7.16s\n",
      "389:\tlearn: 0.4785254\ttotal: 4.57s\tremaining: 7.14s\n",
      "390:\tlearn: 0.4785248\ttotal: 4.58s\tremaining: 7.13s\n",
      "391:\tlearn: 0.4785248\ttotal: 4.59s\tremaining: 7.11s\n",
      "392:\tlearn: 0.4785248\ttotal: 4.6s\tremaining: 7.1s\n",
      "393:\tlearn: 0.4785248\ttotal: 4.61s\tremaining: 7.08s\n",
      "394:\tlearn: 0.4785249\ttotal: 4.61s\tremaining: 7.07s\n",
      "395:\tlearn: 0.4785252\ttotal: 4.62s\tremaining: 7.05s\n",
      "396:\tlearn: 0.4785252\ttotal: 4.63s\tremaining: 7.03s\n",
      "397:\tlearn: 0.4785254\ttotal: 4.64s\tremaining: 7.02s\n",
      "398:\tlearn: 0.4785257\ttotal: 4.65s\tremaining: 7s\n",
      "399:\tlearn: 0.4785256\ttotal: 4.66s\tremaining: 6.99s\n",
      "400:\tlearn: 0.4785244\ttotal: 4.68s\tremaining: 6.99s\n",
      "401:\tlearn: 0.4785240\ttotal: 4.69s\tremaining: 6.97s\n",
      "402:\tlearn: 0.4785239\ttotal: 4.7s\tremaining: 6.97s\n",
      "403:\tlearn: 0.4785239\ttotal: 4.71s\tremaining: 6.95s\n",
      "404:\tlearn: 0.4785239\ttotal: 4.72s\tremaining: 6.93s\n",
      "405:\tlearn: 0.4785240\ttotal: 4.73s\tremaining: 6.92s\n",
      "406:\tlearn: 0.4785240\ttotal: 4.73s\tremaining: 6.89s\n",
      "407:\tlearn: 0.4785240\ttotal: 4.74s\tremaining: 6.88s\n",
      "408:\tlearn: 0.4785241\ttotal: 4.75s\tremaining: 6.86s\n",
      "409:\tlearn: 0.4785243\ttotal: 4.76s\tremaining: 6.85s\n",
      "410:\tlearn: 0.4785239\ttotal: 4.76s\tremaining: 6.83s\n",
      "411:\tlearn: 0.4785239\ttotal: 4.77s\tremaining: 6.81s\n",
      "412:\tlearn: 0.4785239\ttotal: 4.78s\tremaining: 6.79s\n",
      "413:\tlearn: 0.4785239\ttotal: 4.79s\tremaining: 6.78s\n",
      "414:\tlearn: 0.4785240\ttotal: 4.8s\tremaining: 6.76s\n",
      "415:\tlearn: 0.4785242\ttotal: 4.81s\tremaining: 6.75s\n",
      "416:\tlearn: 0.4785243\ttotal: 4.82s\tremaining: 6.74s\n",
      "417:\tlearn: 0.4785243\ttotal: 4.83s\tremaining: 6.72s\n",
      "418:\tlearn: 0.4785242\ttotal: 4.83s\tremaining: 6.7s\n",
      "419:\tlearn: 0.4785244\ttotal: 4.84s\tremaining: 6.69s\n",
      "420:\tlearn: 0.4785264\ttotal: 4.85s\tremaining: 6.67s\n",
      "421:\tlearn: 0.4785270\ttotal: 4.86s\tremaining: 6.66s\n",
      "422:\tlearn: 0.4785253\ttotal: 4.87s\tremaining: 6.65s\n",
      "423:\tlearn: 0.4785256\ttotal: 4.9s\tremaining: 6.65s\n",
      "424:\tlearn: 0.4785223\ttotal: 4.91s\tremaining: 6.64s\n",
      "425:\tlearn: 0.4785253\ttotal: 4.91s\tremaining: 6.62s\n",
      "426:\tlearn: 0.4785228\ttotal: 4.92s\tremaining: 6.61s\n",
      "427:\tlearn: 0.4785229\ttotal: 4.93s\tremaining: 6.59s\n",
      "428:\tlearn: 0.4785230\ttotal: 4.94s\tremaining: 6.57s\n",
      "429:\tlearn: 0.4785230\ttotal: 4.94s\tremaining: 6.55s\n",
      "430:\tlearn: 0.4785225\ttotal: 4.95s\tremaining: 6.54s\n",
      "431:\tlearn: 0.4785221\ttotal: 4.96s\tremaining: 6.52s\n",
      "432:\tlearn: 0.4785230\ttotal: 4.97s\tremaining: 6.5s\n",
      "433:\tlearn: 0.4785229\ttotal: 4.97s\tremaining: 6.49s\n",
      "434:\tlearn: 0.4785255\ttotal: 4.98s\tremaining: 6.47s\n",
      "435:\tlearn: 0.4785237\ttotal: 5s\tremaining: 6.46s\n",
      "436:\tlearn: 0.4785225\ttotal: 5.01s\tremaining: 6.46s\n",
      "437:\tlearn: 0.4785218\ttotal: 5.02s\tremaining: 6.45s\n",
      "438:\tlearn: 0.4785218\ttotal: 5.03s\tremaining: 6.43s\n",
      "439:\tlearn: 0.4785218\ttotal: 5.04s\tremaining: 6.41s\n",
      "440:\tlearn: 0.4785218\ttotal: 5.05s\tremaining: 6.4s\n",
      "441:\tlearn: 0.4785218\ttotal: 5.06s\tremaining: 6.38s\n",
      "442:\tlearn: 0.4785218\ttotal: 5.07s\tremaining: 6.37s\n",
      "443:\tlearn: 0.4785218\ttotal: 5.09s\tremaining: 6.37s\n",
      "444:\tlearn: 0.4785217\ttotal: 5.1s\tremaining: 6.36s\n",
      "445:\tlearn: 0.4785217\ttotal: 5.11s\tremaining: 6.35s\n",
      "446:\tlearn: 0.4785217\ttotal: 5.12s\tremaining: 6.34s\n",
      "447:\tlearn: 0.4785217\ttotal: 5.13s\tremaining: 6.33s\n",
      "448:\tlearn: 0.4785217\ttotal: 5.14s\tremaining: 6.31s\n",
      "449:\tlearn: 0.4785217\ttotal: 5.15s\tremaining: 6.3s\n",
      "450:\tlearn: 0.4785217\ttotal: 5.17s\tremaining: 6.29s\n",
      "451:\tlearn: 0.4785217\ttotal: 5.18s\tremaining: 6.28s\n",
      "452:\tlearn: 0.4785217\ttotal: 5.19s\tremaining: 6.26s\n",
      "453:\tlearn: 0.4785217\ttotal: 5.2s\tremaining: 6.25s\n",
      "454:\tlearn: 0.4785217\ttotal: 5.21s\tremaining: 6.24s\n",
      "455:\tlearn: 0.4785217\ttotal: 5.22s\tremaining: 6.22s\n",
      "456:\tlearn: 0.4785218\ttotal: 5.24s\tremaining: 6.22s\n",
      "457:\tlearn: 0.4785218\ttotal: 5.25s\tremaining: 6.21s\n",
      "458:\tlearn: 0.4785218\ttotal: 5.25s\tremaining: 6.19s\n",
      "459:\tlearn: 0.4785218\ttotal: 5.26s\tremaining: 6.18s\n",
      "460:\tlearn: 0.4785218\ttotal: 5.27s\tremaining: 6.16s\n",
      "461:\tlearn: 0.4785218\ttotal: 5.28s\tremaining: 6.15s\n",
      "462:\tlearn: 0.4785217\ttotal: 5.29s\tremaining: 6.13s\n",
      "463:\tlearn: 0.4785217\ttotal: 5.3s\tremaining: 6.12s\n",
      "464:\tlearn: 0.4785217\ttotal: 5.32s\tremaining: 6.12s\n",
      "465:\tlearn: 0.4785217\ttotal: 5.33s\tremaining: 6.1s\n",
      "466:\tlearn: 0.4785217\ttotal: 5.33s\tremaining: 6.09s\n",
      "467:\tlearn: 0.4785217\ttotal: 5.34s\tremaining: 6.07s\n",
      "468:\tlearn: 0.4785217\ttotal: 5.35s\tremaining: 6.05s\n",
      "469:\tlearn: 0.4785218\ttotal: 5.36s\tremaining: 6.04s\n",
      "470:\tlearn: 0.4785218\ttotal: 5.36s\tremaining: 6.02s\n",
      "471:\tlearn: 0.4785218\ttotal: 5.37s\tremaining: 6.01s\n",
      "472:\tlearn: 0.4785218\ttotal: 5.38s\tremaining: 5.99s\n",
      "473:\tlearn: 0.4785218\ttotal: 5.39s\tremaining: 5.98s\n",
      "474:\tlearn: 0.4785217\ttotal: 5.39s\tremaining: 5.96s\n",
      "475:\tlearn: 0.4785218\ttotal: 5.42s\tremaining: 5.96s\n",
      "476:\tlearn: 0.4785217\ttotal: 5.43s\tremaining: 5.96s\n",
      "477:\tlearn: 0.4785217\ttotal: 5.45s\tremaining: 5.95s\n",
      "478:\tlearn: 0.4785218\ttotal: 5.46s\tremaining: 5.94s\n",
      "479:\tlearn: 0.4785217\ttotal: 5.47s\tremaining: 5.93s\n",
      "480:\tlearn: 0.4785222\ttotal: 5.48s\tremaining: 5.92s\n",
      "481:\tlearn: 0.4785222\ttotal: 5.49s\tremaining: 5.9s\n",
      "482:\tlearn: 0.4785222\ttotal: 5.5s\tremaining: 5.89s\n",
      "483:\tlearn: 0.4785228\ttotal: 5.51s\tremaining: 5.88s\n",
      "484:\tlearn: 0.4785228\ttotal: 5.52s\tremaining: 5.87s\n",
      "485:\tlearn: 0.4785217\ttotal: 5.53s\tremaining: 5.85s\n",
      "486:\tlearn: 0.4785206\ttotal: 5.54s\tremaining: 5.84s\n",
      "487:\tlearn: 0.4785208\ttotal: 5.55s\tremaining: 5.82s\n",
      "488:\tlearn: 0.4785213\ttotal: 5.56s\tremaining: 5.81s\n",
      "489:\tlearn: 0.4785211\ttotal: 5.56s\tremaining: 5.79s\n",
      "490:\tlearn: 0.4785227\ttotal: 5.57s\tremaining: 5.78s\n",
      "491:\tlearn: 0.4785213\ttotal: 5.58s\tremaining: 5.76s\n",
      "492:\tlearn: 0.4785213\ttotal: 5.59s\tremaining: 5.75s\n",
      "493:\tlearn: 0.4785213\ttotal: 5.6s\tremaining: 5.73s\n",
      "494:\tlearn: 0.4785213\ttotal: 5.61s\tremaining: 5.72s\n",
      "495:\tlearn: 0.4785213\ttotal: 5.61s\tremaining: 5.7s\n",
      "496:\tlearn: 0.4785213\ttotal: 5.62s\tremaining: 5.69s\n",
      "497:\tlearn: 0.4785212\ttotal: 5.63s\tremaining: 5.68s\n",
      "498:\tlearn: 0.4785212\ttotal: 5.65s\tremaining: 5.67s\n",
      "499:\tlearn: 0.4785211\ttotal: 5.66s\tremaining: 5.66s\n",
      "500:\tlearn: 0.4785199\ttotal: 5.67s\tremaining: 5.65s\n",
      "501:\tlearn: 0.4785200\ttotal: 5.68s\tremaining: 5.64s\n",
      "502:\tlearn: 0.4785200\ttotal: 5.69s\tremaining: 5.62s\n",
      "503:\tlearn: 0.4785200\ttotal: 5.7s\tremaining: 5.61s\n",
      "504:\tlearn: 0.4785200\ttotal: 5.71s\tremaining: 5.6s\n",
      "505:\tlearn: 0.4785200\ttotal: 5.72s\tremaining: 5.59s\n",
      "506:\tlearn: 0.4785200\ttotal: 5.74s\tremaining: 5.58s\n",
      "507:\tlearn: 0.4785200\ttotal: 5.74s\tremaining: 5.56s\n",
      "508:\tlearn: 0.4785200\ttotal: 5.75s\tremaining: 5.55s\n",
      "509:\tlearn: 0.4785200\ttotal: 5.75s\tremaining: 5.53s\n",
      "510:\tlearn: 0.4785200\ttotal: 5.76s\tremaining: 5.51s\n",
      "511:\tlearn: 0.4785200\ttotal: 5.77s\tremaining: 5.5s\n",
      "512:\tlearn: 0.4785200\ttotal: 5.78s\tremaining: 5.49s\n",
      "513:\tlearn: 0.4785200\ttotal: 5.79s\tremaining: 5.47s\n",
      "514:\tlearn: 0.4785200\ttotal: 5.79s\tremaining: 5.45s\n",
      "515:\tlearn: 0.4785200\ttotal: 5.8s\tremaining: 5.44s\n",
      "516:\tlearn: 0.4785200\ttotal: 5.81s\tremaining: 5.42s\n",
      "517:\tlearn: 0.4785200\ttotal: 5.81s\tremaining: 5.41s\n",
      "518:\tlearn: 0.4785200\ttotal: 5.82s\tremaining: 5.39s\n",
      "519:\tlearn: 0.4785201\ttotal: 5.83s\tremaining: 5.38s\n",
      "520:\tlearn: 0.4785201\ttotal: 5.84s\tremaining: 5.37s\n",
      "521:\tlearn: 0.4785200\ttotal: 5.85s\tremaining: 5.36s\n",
      "522:\tlearn: 0.4785200\ttotal: 5.87s\tremaining: 5.35s\n",
      "523:\tlearn: 0.4785200\ttotal: 5.88s\tremaining: 5.34s\n",
      "524:\tlearn: 0.4785200\ttotal: 5.89s\tremaining: 5.33s\n",
      "525:\tlearn: 0.4785200\ttotal: 5.91s\tremaining: 5.33s\n",
      "526:\tlearn: 0.4785195\ttotal: 5.93s\tremaining: 5.32s\n",
      "527:\tlearn: 0.4785195\ttotal: 5.94s\tremaining: 5.31s\n",
      "528:\tlearn: 0.4785195\ttotal: 5.96s\tremaining: 5.3s\n",
      "529:\tlearn: 0.4785195\ttotal: 5.96s\tremaining: 5.29s\n",
      "530:\tlearn: 0.4785195\ttotal: 5.98s\tremaining: 5.28s\n",
      "531:\tlearn: 0.4785195\ttotal: 5.98s\tremaining: 5.26s\n",
      "532:\tlearn: 0.4785195\ttotal: 6s\tremaining: 5.25s\n",
      "533:\tlearn: 0.4785195\ttotal: 6.01s\tremaining: 5.25s\n",
      "534:\tlearn: 0.4785196\ttotal: 6.03s\tremaining: 5.24s\n",
      "535:\tlearn: 0.4785195\ttotal: 6.05s\tremaining: 5.24s\n",
      "536:\tlearn: 0.4785196\ttotal: 6.06s\tremaining: 5.23s\n",
      "537:\tlearn: 0.4785196\ttotal: 6.08s\tremaining: 5.22s\n",
      "538:\tlearn: 0.4785196\ttotal: 6.08s\tremaining: 5.2s\n",
      "539:\tlearn: 0.4785195\ttotal: 6.09s\tremaining: 5.19s\n",
      "540:\tlearn: 0.4785196\ttotal: 6.1s\tremaining: 5.18s\n",
      "541:\tlearn: 0.4785196\ttotal: 6.12s\tremaining: 5.17s\n",
      "542:\tlearn: 0.4785196\ttotal: 6.12s\tremaining: 5.15s\n",
      "543:\tlearn: 0.4785196\ttotal: 6.13s\tremaining: 5.14s\n",
      "544:\tlearn: 0.4785196\ttotal: 6.15s\tremaining: 5.13s\n",
      "545:\tlearn: 0.4785196\ttotal: 6.16s\tremaining: 5.12s\n",
      "546:\tlearn: 0.4785196\ttotal: 6.17s\tremaining: 5.11s\n",
      "547:\tlearn: 0.4785196\ttotal: 6.17s\tremaining: 5.09s\n",
      "548:\tlearn: 0.4785195\ttotal: 6.18s\tremaining: 5.08s\n",
      "549:\tlearn: 0.4785195\ttotal: 6.19s\tremaining: 5.07s\n",
      "550:\tlearn: 0.4785195\ttotal: 6.2s\tremaining: 5.05s\n",
      "551:\tlearn: 0.4785195\ttotal: 6.21s\tremaining: 5.04s\n",
      "552:\tlearn: 0.4785194\ttotal: 6.21s\tremaining: 5.02s\n",
      "553:\tlearn: 0.4785194\ttotal: 6.22s\tremaining: 5.01s\n",
      "554:\tlearn: 0.4785194\ttotal: 6.23s\tremaining: 5s\n",
      "555:\tlearn: 0.4785194\ttotal: 6.24s\tremaining: 4.99s\n",
      "556:\tlearn: 0.4785193\ttotal: 6.25s\tremaining: 4.97s\n",
      "557:\tlearn: 0.4785193\ttotal: 6.27s\tremaining: 4.97s\n",
      "558:\tlearn: 0.4785193\ttotal: 6.28s\tremaining: 4.96s\n",
      "559:\tlearn: 0.4785194\ttotal: 6.31s\tremaining: 4.96s\n",
      "560:\tlearn: 0.4785194\ttotal: 6.32s\tremaining: 4.95s\n",
      "561:\tlearn: 0.4785195\ttotal: 6.34s\tremaining: 4.94s\n",
      "562:\tlearn: 0.4785195\ttotal: 6.35s\tremaining: 4.93s\n",
      "563:\tlearn: 0.4785193\ttotal: 6.37s\tremaining: 4.92s\n",
      "564:\tlearn: 0.4785193\ttotal: 6.38s\tremaining: 4.91s\n",
      "565:\tlearn: 0.4785193\ttotal: 6.39s\tremaining: 4.9s\n",
      "566:\tlearn: 0.4785194\ttotal: 6.4s\tremaining: 4.89s\n",
      "567:\tlearn: 0.4785194\ttotal: 6.41s\tremaining: 4.87s\n",
      "568:\tlearn: 0.4785194\ttotal: 6.42s\tremaining: 4.86s\n",
      "569:\tlearn: 0.4785194\ttotal: 6.42s\tremaining: 4.85s\n",
      "570:\tlearn: 0.4785194\ttotal: 6.43s\tremaining: 4.83s\n",
      "571:\tlearn: 0.4785193\ttotal: 6.44s\tremaining: 4.82s\n",
      "572:\tlearn: 0.4785193\ttotal: 6.45s\tremaining: 4.81s\n",
      "573:\tlearn: 0.4785193\ttotal: 6.46s\tremaining: 4.79s\n",
      "574:\tlearn: 0.4785193\ttotal: 6.47s\tremaining: 4.78s\n",
      "575:\tlearn: 0.4785193\ttotal: 6.48s\tremaining: 4.77s\n",
      "576:\tlearn: 0.4785193\ttotal: 6.49s\tremaining: 4.76s\n",
      "577:\tlearn: 0.4785193\ttotal: 6.5s\tremaining: 4.74s\n",
      "578:\tlearn: 0.4785193\ttotal: 6.51s\tremaining: 4.73s\n",
      "579:\tlearn: 0.4785194\ttotal: 6.52s\tremaining: 4.72s\n",
      "580:\tlearn: 0.4785193\ttotal: 6.53s\tremaining: 4.71s\n",
      "581:\tlearn: 0.4785193\ttotal: 6.54s\tremaining: 4.7s\n",
      "582:\tlearn: 0.4785195\ttotal: 6.54s\tremaining: 4.68s\n",
      "583:\tlearn: 0.4785193\ttotal: 6.55s\tremaining: 4.67s\n",
      "584:\tlearn: 0.4785193\ttotal: 6.56s\tremaining: 4.66s\n",
      "585:\tlearn: 0.4785193\ttotal: 6.57s\tremaining: 4.64s\n",
      "586:\tlearn: 0.4785194\ttotal: 6.58s\tremaining: 4.63s\n",
      "587:\tlearn: 0.4785194\ttotal: 6.58s\tremaining: 4.61s\n",
      "588:\tlearn: 0.4785193\ttotal: 6.59s\tremaining: 4.6s\n",
      "589:\tlearn: 0.4785193\ttotal: 6.6s\tremaining: 4.59s\n",
      "590:\tlearn: 0.4785193\ttotal: 6.61s\tremaining: 4.57s\n",
      "591:\tlearn: 0.4785193\ttotal: 6.61s\tremaining: 4.56s\n",
      "592:\tlearn: 0.4785193\ttotal: 6.62s\tremaining: 4.54s\n",
      "593:\tlearn: 0.4785191\ttotal: 6.63s\tremaining: 4.53s\n",
      "594:\tlearn: 0.4785191\ttotal: 6.63s\tremaining: 4.52s\n",
      "595:\tlearn: 0.4785192\ttotal: 6.64s\tremaining: 4.5s\n",
      "596:\tlearn: 0.4785192\ttotal: 6.65s\tremaining: 4.49s\n",
      "597:\tlearn: 0.4785192\ttotal: 6.66s\tremaining: 4.47s\n",
      "598:\tlearn: 0.4785192\ttotal: 6.67s\tremaining: 4.46s\n",
      "599:\tlearn: 0.4785191\ttotal: 6.67s\tremaining: 4.45s\n",
      "600:\tlearn: 0.4785191\ttotal: 6.69s\tremaining: 4.44s\n",
      "601:\tlearn: 0.4785191\ttotal: 6.7s\tremaining: 4.43s\n",
      "602:\tlearn: 0.4785191\ttotal: 6.71s\tremaining: 4.42s\n",
      "603:\tlearn: 0.4785191\ttotal: 6.72s\tremaining: 4.41s\n",
      "604:\tlearn: 0.4785192\ttotal: 6.73s\tremaining: 4.39s\n",
      "605:\tlearn: 0.4785192\ttotal: 6.74s\tremaining: 4.38s\n",
      "606:\tlearn: 0.4785192\ttotal: 6.75s\tremaining: 4.37s\n",
      "607:\tlearn: 0.4785192\ttotal: 6.75s\tremaining: 4.35s\n",
      "608:\tlearn: 0.4785192\ttotal: 6.76s\tremaining: 4.34s\n",
      "609:\tlearn: 0.4785192\ttotal: 6.77s\tremaining: 4.33s\n",
      "610:\tlearn: 0.4785192\ttotal: 6.77s\tremaining: 4.31s\n",
      "611:\tlearn: 0.4785192\ttotal: 6.78s\tremaining: 4.3s\n",
      "612:\tlearn: 0.4785192\ttotal: 6.79s\tremaining: 4.29s\n",
      "613:\tlearn: 0.4785192\ttotal: 6.8s\tremaining: 4.27s\n",
      "614:\tlearn: 0.4785192\ttotal: 6.81s\tremaining: 4.26s\n",
      "615:\tlearn: 0.4785192\ttotal: 6.82s\tremaining: 4.25s\n",
      "616:\tlearn: 0.4785192\ttotal: 6.83s\tremaining: 4.24s\n",
      "617:\tlearn: 0.4785191\ttotal: 6.84s\tremaining: 4.23s\n",
      "618:\tlearn: 0.4785191\ttotal: 6.85s\tremaining: 4.22s\n",
      "619:\tlearn: 0.4785191\ttotal: 6.86s\tremaining: 4.21s\n",
      "620:\tlearn: 0.4785191\ttotal: 6.88s\tremaining: 4.2s\n",
      "621:\tlearn: 0.4785191\ttotal: 6.9s\tremaining: 4.19s\n",
      "622:\tlearn: 0.4785191\ttotal: 6.91s\tremaining: 4.18s\n",
      "623:\tlearn: 0.4785191\ttotal: 6.93s\tremaining: 4.17s\n",
      "624:\tlearn: 0.4785191\ttotal: 6.95s\tremaining: 4.17s\n",
      "625:\tlearn: 0.4785191\ttotal: 6.97s\tremaining: 4.16s\n",
      "626:\tlearn: 0.4785191\ttotal: 6.98s\tremaining: 4.15s\n",
      "627:\tlearn: 0.4785191\ttotal: 6.99s\tremaining: 4.14s\n",
      "628:\tlearn: 0.4785191\ttotal: 7s\tremaining: 4.13s\n",
      "629:\tlearn: 0.4785191\ttotal: 7.01s\tremaining: 4.12s\n",
      "630:\tlearn: 0.4785191\ttotal: 7.03s\tremaining: 4.11s\n",
      "631:\tlearn: 0.4785191\ttotal: 7.08s\tremaining: 4.12s\n",
      "632:\tlearn: 0.4785191\ttotal: 7.11s\tremaining: 4.12s\n",
      "633:\tlearn: 0.4785191\ttotal: 7.15s\tremaining: 4.13s\n",
      "634:\tlearn: 0.4785191\ttotal: 7.19s\tremaining: 4.13s\n",
      "635:\tlearn: 0.4785191\ttotal: 7.21s\tremaining: 4.13s\n",
      "636:\tlearn: 0.4785191\ttotal: 7.24s\tremaining: 4.13s\n",
      "637:\tlearn: 0.4785191\ttotal: 7.28s\tremaining: 4.13s\n",
      "638:\tlearn: 0.4785191\ttotal: 7.31s\tremaining: 4.13s\n",
      "639:\tlearn: 0.4785191\ttotal: 7.33s\tremaining: 4.12s\n",
      "640:\tlearn: 0.4785191\ttotal: 7.36s\tremaining: 4.12s\n",
      "641:\tlearn: 0.4785191\ttotal: 7.38s\tremaining: 4.12s\n",
      "642:\tlearn: 0.4785191\ttotal: 7.41s\tremaining: 4.12s\n",
      "643:\tlearn: 0.4785191\ttotal: 7.44s\tremaining: 4.12s\n",
      "644:\tlearn: 0.4785191\ttotal: 7.45s\tremaining: 4.1s\n",
      "645:\tlearn: 0.4785192\ttotal: 7.47s\tremaining: 4.1s\n",
      "646:\tlearn: 0.4785192\ttotal: 7.51s\tremaining: 4.1s\n",
      "647:\tlearn: 0.4785192\ttotal: 7.52s\tremaining: 4.08s\n",
      "648:\tlearn: 0.4785192\ttotal: 7.53s\tremaining: 4.07s\n",
      "649:\tlearn: 0.4785191\ttotal: 7.56s\tremaining: 4.07s\n",
      "650:\tlearn: 0.4785191\ttotal: 7.59s\tremaining: 4.07s\n",
      "651:\tlearn: 0.4785191\ttotal: 7.62s\tremaining: 4.07s\n",
      "652:\tlearn: 0.4785191\ttotal: 7.63s\tremaining: 4.05s\n",
      "653:\tlearn: 0.4785191\ttotal: 7.64s\tremaining: 4.04s\n",
      "654:\tlearn: 0.4785191\ttotal: 7.65s\tremaining: 4.03s\n",
      "655:\tlearn: 0.4785191\ttotal: 7.66s\tremaining: 4.01s\n",
      "656:\tlearn: 0.4785191\ttotal: 7.67s\tremaining: 4s\n",
      "657:\tlearn: 0.4785191\ttotal: 7.67s\tremaining: 3.99s\n",
      "658:\tlearn: 0.4785191\ttotal: 7.68s\tremaining: 3.97s\n",
      "659:\tlearn: 0.4785191\ttotal: 7.69s\tremaining: 3.96s\n",
      "660:\tlearn: 0.4785191\ttotal: 7.7s\tremaining: 3.95s\n",
      "661:\tlearn: 0.4785191\ttotal: 7.71s\tremaining: 3.93s\n",
      "662:\tlearn: 0.4785191\ttotal: 7.72s\tremaining: 3.92s\n",
      "663:\tlearn: 0.4785191\ttotal: 7.75s\tremaining: 3.92s\n",
      "664:\tlearn: 0.4785191\ttotal: 7.78s\tremaining: 3.92s\n",
      "665:\tlearn: 0.4785191\ttotal: 7.8s\tremaining: 3.91s\n",
      "666:\tlearn: 0.4785191\ttotal: 7.83s\tremaining: 3.91s\n",
      "667:\tlearn: 0.4785191\ttotal: 7.84s\tremaining: 3.9s\n",
      "668:\tlearn: 0.4785191\ttotal: 7.86s\tremaining: 3.89s\n",
      "669:\tlearn: 0.4785191\ttotal: 7.87s\tremaining: 3.87s\n",
      "670:\tlearn: 0.4785190\ttotal: 7.88s\tremaining: 3.86s\n",
      "671:\tlearn: 0.4785190\ttotal: 7.89s\tremaining: 3.85s\n",
      "672:\tlearn: 0.4785190\ttotal: 7.91s\tremaining: 3.84s\n",
      "673:\tlearn: 0.4785190\ttotal: 7.93s\tremaining: 3.84s\n",
      "674:\tlearn: 0.4785190\ttotal: 7.95s\tremaining: 3.83s\n",
      "675:\tlearn: 0.4785190\ttotal: 7.96s\tremaining: 3.82s\n",
      "676:\tlearn: 0.4785190\ttotal: 7.99s\tremaining: 3.81s\n",
      "677:\tlearn: 0.4785190\ttotal: 8s\tremaining: 3.8s\n",
      "678:\tlearn: 0.4785190\ttotal: 8.02s\tremaining: 3.79s\n",
      "679:\tlearn: 0.4785190\ttotal: 8.04s\tremaining: 3.78s\n",
      "680:\tlearn: 0.4785190\ttotal: 8.05s\tremaining: 3.77s\n",
      "681:\tlearn: 0.4785190\ttotal: 8.07s\tremaining: 3.76s\n",
      "682:\tlearn: 0.4785190\ttotal: 8.08s\tremaining: 3.75s\n",
      "683:\tlearn: 0.4785190\ttotal: 8.1s\tremaining: 3.74s\n",
      "684:\tlearn: 0.4785190\ttotal: 8.11s\tremaining: 3.73s\n",
      "685:\tlearn: 0.4785190\ttotal: 8.12s\tremaining: 3.71s\n",
      "686:\tlearn: 0.4785190\ttotal: 8.13s\tremaining: 3.7s\n",
      "687:\tlearn: 0.4785190\ttotal: 8.13s\tremaining: 3.69s\n",
      "688:\tlearn: 0.4785190\ttotal: 8.15s\tremaining: 3.68s\n",
      "689:\tlearn: 0.4785190\ttotal: 8.17s\tremaining: 3.67s\n",
      "690:\tlearn: 0.4785190\ttotal: 8.18s\tremaining: 3.66s\n",
      "691:\tlearn: 0.4785190\ttotal: 8.19s\tremaining: 3.65s\n",
      "692:\tlearn: 0.4785190\ttotal: 8.2s\tremaining: 3.63s\n",
      "693:\tlearn: 0.4785190\ttotal: 8.21s\tremaining: 3.62s\n",
      "694:\tlearn: 0.4785190\ttotal: 8.23s\tremaining: 3.61s\n",
      "695:\tlearn: 0.4785190\ttotal: 8.24s\tremaining: 3.6s\n",
      "696:\tlearn: 0.4785190\ttotal: 8.25s\tremaining: 3.59s\n",
      "697:\tlearn: 0.4785190\ttotal: 8.26s\tremaining: 3.57s\n",
      "698:\tlearn: 0.4785190\ttotal: 8.27s\tremaining: 3.56s\n",
      "699:\tlearn: 0.4785191\ttotal: 8.28s\tremaining: 3.55s\n",
      "700:\tlearn: 0.4785191\ttotal: 8.29s\tremaining: 3.54s\n",
      "701:\tlearn: 0.4785191\ttotal: 8.3s\tremaining: 3.52s\n",
      "702:\tlearn: 0.4785191\ttotal: 8.3s\tremaining: 3.51s\n",
      "703:\tlearn: 0.4785191\ttotal: 8.31s\tremaining: 3.5s\n",
      "704:\tlearn: 0.4785191\ttotal: 8.32s\tremaining: 3.48s\n",
      "705:\tlearn: 0.4785190\ttotal: 8.34s\tremaining: 3.47s\n",
      "706:\tlearn: 0.4785190\ttotal: 8.36s\tremaining: 3.47s\n",
      "707:\tlearn: 0.4785190\ttotal: 8.38s\tremaining: 3.46s\n",
      "708:\tlearn: 0.4785190\ttotal: 8.4s\tremaining: 3.45s\n",
      "709:\tlearn: 0.4785190\ttotal: 8.43s\tremaining: 3.44s\n",
      "710:\tlearn: 0.4785190\ttotal: 8.44s\tremaining: 3.43s\n",
      "711:\tlearn: 0.4785190\ttotal: 8.45s\tremaining: 3.42s\n",
      "712:\tlearn: 0.4785190\ttotal: 8.45s\tremaining: 3.4s\n",
      "713:\tlearn: 0.4785190\ttotal: 8.46s\tremaining: 3.39s\n",
      "714:\tlearn: 0.4785190\ttotal: 8.47s\tremaining: 3.38s\n",
      "715:\tlearn: 0.4785190\ttotal: 8.47s\tremaining: 3.36s\n",
      "716:\tlearn: 0.4785190\ttotal: 8.48s\tremaining: 3.35s\n",
      "717:\tlearn: 0.4785190\ttotal: 8.49s\tremaining: 3.33s\n",
      "718:\tlearn: 0.4785190\ttotal: 8.5s\tremaining: 3.32s\n",
      "719:\tlearn: 0.4785190\ttotal: 8.51s\tremaining: 3.31s\n",
      "720:\tlearn: 0.4785190\ttotal: 8.51s\tremaining: 3.29s\n",
      "721:\tlearn: 0.4785190\ttotal: 8.52s\tremaining: 3.28s\n",
      "722:\tlearn: 0.4785190\ttotal: 8.53s\tremaining: 3.27s\n",
      "723:\tlearn: 0.4785190\ttotal: 8.54s\tremaining: 3.25s\n",
      "724:\tlearn: 0.4785190\ttotal: 8.54s\tremaining: 3.24s\n",
      "725:\tlearn: 0.4785190\ttotal: 8.57s\tremaining: 3.23s\n",
      "726:\tlearn: 0.4785190\ttotal: 8.59s\tremaining: 3.22s\n",
      "727:\tlearn: 0.4785190\ttotal: 8.62s\tremaining: 3.22s\n",
      "728:\tlearn: 0.4785190\ttotal: 8.63s\tremaining: 3.21s\n",
      "729:\tlearn: 0.4785190\ttotal: 8.64s\tremaining: 3.2s\n",
      "730:\tlearn: 0.4785190\ttotal: 8.66s\tremaining: 3.19s\n",
      "731:\tlearn: 0.4785190\ttotal: 8.68s\tremaining: 3.18s\n",
      "732:\tlearn: 0.4785190\ttotal: 8.69s\tremaining: 3.17s\n",
      "733:\tlearn: 0.4785190\ttotal: 8.7s\tremaining: 3.15s\n",
      "734:\tlearn: 0.4785190\ttotal: 8.71s\tremaining: 3.14s\n",
      "735:\tlearn: 0.4785190\ttotal: 8.72s\tremaining: 3.13s\n",
      "736:\tlearn: 0.4785190\ttotal: 8.77s\tremaining: 3.13s\n",
      "737:\tlearn: 0.4785190\ttotal: 8.8s\tremaining: 3.12s\n",
      "738:\tlearn: 0.4785190\ttotal: 8.84s\tremaining: 3.12s\n",
      "739:\tlearn: 0.4785190\ttotal: 8.85s\tremaining: 3.11s\n",
      "740:\tlearn: 0.4785190\ttotal: 8.87s\tremaining: 3.1s\n",
      "741:\tlearn: 0.4785190\ttotal: 8.88s\tremaining: 3.09s\n",
      "742:\tlearn: 0.4785190\ttotal: 8.9s\tremaining: 3.08s\n",
      "743:\tlearn: 0.4785190\ttotal: 8.92s\tremaining: 3.07s\n",
      "744:\tlearn: 0.4785190\ttotal: 8.93s\tremaining: 3.06s\n",
      "745:\tlearn: 0.4785190\ttotal: 8.95s\tremaining: 3.05s\n",
      "746:\tlearn: 0.4785190\ttotal: 8.97s\tremaining: 3.04s\n",
      "747:\tlearn: 0.4785190\ttotal: 8.98s\tremaining: 3.03s\n",
      "748:\tlearn: 0.4785190\ttotal: 8.99s\tremaining: 3.01s\n",
      "749:\tlearn: 0.4785190\ttotal: 9.04s\tremaining: 3.01s\n",
      "750:\tlearn: 0.4785190\ttotal: 9.07s\tremaining: 3.01s\n",
      "751:\tlearn: 0.4785190\ttotal: 9.07s\tremaining: 2.99s\n",
      "752:\tlearn: 0.4785190\ttotal: 9.08s\tremaining: 2.98s\n",
      "753:\tlearn: 0.4785190\ttotal: 9.09s\tremaining: 2.97s\n",
      "754:\tlearn: 0.4785190\ttotal: 9.1s\tremaining: 2.95s\n",
      "755:\tlearn: 0.4785190\ttotal: 9.12s\tremaining: 2.94s\n",
      "756:\tlearn: 0.4785190\ttotal: 9.14s\tremaining: 2.93s\n",
      "757:\tlearn: 0.4785190\ttotal: 9.15s\tremaining: 2.92s\n",
      "758:\tlearn: 0.4785190\ttotal: 9.16s\tremaining: 2.91s\n",
      "759:\tlearn: 0.4785190\ttotal: 9.18s\tremaining: 2.9s\n",
      "760:\tlearn: 0.4785190\ttotal: 9.2s\tremaining: 2.89s\n",
      "761:\tlearn: 0.4785190\ttotal: 9.21s\tremaining: 2.88s\n",
      "762:\tlearn: 0.4785190\ttotal: 9.22s\tremaining: 2.87s\n",
      "763:\tlearn: 0.4785190\ttotal: 9.23s\tremaining: 2.85s\n",
      "764:\tlearn: 0.4785190\ttotal: 9.24s\tremaining: 2.84s\n",
      "765:\tlearn: 0.4785190\ttotal: 9.25s\tremaining: 2.83s\n",
      "766:\tlearn: 0.4785190\ttotal: 9.26s\tremaining: 2.81s\n",
      "767:\tlearn: 0.4785190\ttotal: 9.28s\tremaining: 2.8s\n",
      "768:\tlearn: 0.4785190\ttotal: 9.29s\tremaining: 2.79s\n",
      "769:\tlearn: 0.4785190\ttotal: 9.3s\tremaining: 2.78s\n",
      "770:\tlearn: 0.4785190\ttotal: 9.32s\tremaining: 2.77s\n",
      "771:\tlearn: 0.4785190\ttotal: 9.34s\tremaining: 2.76s\n",
      "772:\tlearn: 0.4785190\ttotal: 9.35s\tremaining: 2.75s\n",
      "773:\tlearn: 0.4785190\ttotal: 9.36s\tremaining: 2.73s\n",
      "774:\tlearn: 0.4785191\ttotal: 9.38s\tremaining: 2.72s\n",
      "775:\tlearn: 0.4785190\ttotal: 9.4s\tremaining: 2.71s\n",
      "776:\tlearn: 0.4785190\ttotal: 9.41s\tremaining: 2.7s\n",
      "777:\tlearn: 0.4785190\ttotal: 9.42s\tremaining: 2.69s\n",
      "778:\tlearn: 0.4785190\ttotal: 9.43s\tremaining: 2.67s\n",
      "779:\tlearn: 0.4785190\ttotal: 9.45s\tremaining: 2.66s\n",
      "780:\tlearn: 0.4785190\ttotal: 9.45s\tremaining: 2.65s\n",
      "781:\tlearn: 0.4785190\ttotal: 9.49s\tremaining: 2.65s\n",
      "782:\tlearn: 0.4785190\ttotal: 9.5s\tremaining: 2.63s\n",
      "783:\tlearn: 0.4785190\ttotal: 9.52s\tremaining: 2.62s\n",
      "784:\tlearn: 0.4785190\ttotal: 9.53s\tremaining: 2.61s\n",
      "785:\tlearn: 0.4785190\ttotal: 9.55s\tremaining: 2.6s\n",
      "786:\tlearn: 0.4785190\ttotal: 9.56s\tremaining: 2.59s\n",
      "787:\tlearn: 0.4785190\ttotal: 9.57s\tremaining: 2.58s\n",
      "788:\tlearn: 0.4785190\ttotal: 9.58s\tremaining: 2.56s\n",
      "789:\tlearn: 0.4785190\ttotal: 9.59s\tremaining: 2.55s\n",
      "790:\tlearn: 0.4785190\ttotal: 9.61s\tremaining: 2.54s\n",
      "791:\tlearn: 0.4785191\ttotal: 9.62s\tremaining: 2.52s\n",
      "792:\tlearn: 0.4785190\ttotal: 9.63s\tremaining: 2.51s\n",
      "793:\tlearn: 0.4785190\ttotal: 9.64s\tremaining: 2.5s\n",
      "794:\tlearn: 0.4785190\ttotal: 9.65s\tremaining: 2.49s\n",
      "795:\tlearn: 0.4785190\ttotal: 9.66s\tremaining: 2.48s\n",
      "796:\tlearn: 0.4785190\ttotal: 9.67s\tremaining: 2.46s\n",
      "797:\tlearn: 0.4785190\ttotal: 9.68s\tremaining: 2.45s\n",
      "798:\tlearn: 0.4785191\ttotal: 9.69s\tremaining: 2.44s\n",
      "799:\tlearn: 0.4785191\ttotal: 9.71s\tremaining: 2.43s\n",
      "800:\tlearn: 0.4785191\ttotal: 9.73s\tremaining: 2.42s\n",
      "801:\tlearn: 0.4785190\ttotal: 9.74s\tremaining: 2.4s\n",
      "802:\tlearn: 0.4785190\ttotal: 9.75s\tremaining: 2.39s\n",
      "803:\tlearn: 0.4785191\ttotal: 9.76s\tremaining: 2.38s\n",
      "804:\tlearn: 0.4785189\ttotal: 9.78s\tremaining: 2.37s\n",
      "805:\tlearn: 0.4785189\ttotal: 9.79s\tremaining: 2.36s\n",
      "806:\tlearn: 0.4785189\ttotal: 9.82s\tremaining: 2.35s\n",
      "807:\tlearn: 0.4785189\ttotal: 9.84s\tremaining: 2.34s\n",
      "808:\tlearn: 0.4785190\ttotal: 9.87s\tremaining: 2.33s\n",
      "809:\tlearn: 0.4785190\ttotal: 9.89s\tremaining: 2.32s\n",
      "810:\tlearn: 0.4785190\ttotal: 9.91s\tremaining: 2.31s\n",
      "811:\tlearn: 0.4785190\ttotal: 9.93s\tremaining: 2.3s\n",
      "812:\tlearn: 0.4785189\ttotal: 9.94s\tremaining: 2.29s\n",
      "813:\tlearn: 0.4785188\ttotal: 9.96s\tremaining: 2.27s\n",
      "814:\tlearn: 0.4785188\ttotal: 9.97s\tremaining: 2.26s\n",
      "815:\tlearn: 0.4785188\ttotal: 9.99s\tremaining: 2.25s\n",
      "816:\tlearn: 0.4785188\ttotal: 10s\tremaining: 2.24s\n",
      "817:\tlearn: 0.4785188\ttotal: 10.1s\tremaining: 2.24s\n",
      "818:\tlearn: 0.4785214\ttotal: 10.1s\tremaining: 2.23s\n",
      "819:\tlearn: 0.4785195\ttotal: 10.1s\tremaining: 2.21s\n",
      "820:\tlearn: 0.4785201\ttotal: 10.1s\tremaining: 2.2s\n",
      "821:\tlearn: 0.4785196\ttotal: 10.1s\tremaining: 2.19s\n",
      "822:\tlearn: 0.4785197\ttotal: 10.1s\tremaining: 2.18s\n",
      "823:\tlearn: 0.4785197\ttotal: 10.2s\tremaining: 2.17s\n",
      "824:\tlearn: 0.4785195\ttotal: 10.2s\tremaining: 2.16s\n",
      "825:\tlearn: 0.4785196\ttotal: 10.2s\tremaining: 2.15s\n",
      "826:\tlearn: 0.4785196\ttotal: 10.2s\tremaining: 2.14s\n",
      "827:\tlearn: 0.4785196\ttotal: 10.3s\tremaining: 2.13s\n",
      "828:\tlearn: 0.4785196\ttotal: 10.3s\tremaining: 2.12s\n",
      "829:\tlearn: 0.4785197\ttotal: 10.3s\tremaining: 2.11s\n",
      "830:\tlearn: 0.4785187\ttotal: 10.3s\tremaining: 2.09s\n",
      "831:\tlearn: 0.4785187\ttotal: 10.3s\tremaining: 2.08s\n",
      "832:\tlearn: 0.4785186\ttotal: 10.3s\tremaining: 2.07s\n",
      "833:\tlearn: 0.4785186\ttotal: 10.3s\tremaining: 2.06s\n",
      "834:\tlearn: 0.4785187\ttotal: 10.3s\tremaining: 2.04s\n",
      "835:\tlearn: 0.4785187\ttotal: 10.4s\tremaining: 2.03s\n",
      "836:\tlearn: 0.4785187\ttotal: 10.4s\tremaining: 2.02s\n",
      "837:\tlearn: 0.4785186\ttotal: 10.4s\tremaining: 2.01s\n",
      "838:\tlearn: 0.4785187\ttotal: 10.4s\tremaining: 2s\n",
      "839:\tlearn: 0.4785195\ttotal: 10.5s\tremaining: 1.99s\n",
      "840:\tlearn: 0.4785187\ttotal: 10.5s\tremaining: 1.98s\n",
      "841:\tlearn: 0.4785188\ttotal: 10.5s\tremaining: 1.97s\n",
      "842:\tlearn: 0.4785189\ttotal: 10.5s\tremaining: 1.96s\n",
      "843:\tlearn: 0.4785191\ttotal: 10.5s\tremaining: 1.95s\n",
      "844:\tlearn: 0.4785185\ttotal: 10.6s\tremaining: 1.94s\n",
      "845:\tlearn: 0.4785185\ttotal: 10.6s\tremaining: 1.92s\n",
      "846:\tlearn: 0.4785186\ttotal: 10.6s\tremaining: 1.91s\n",
      "847:\tlearn: 0.4785186\ttotal: 10.6s\tremaining: 1.9s\n",
      "848:\tlearn: 0.4785186\ttotal: 10.6s\tremaining: 1.88s\n",
      "849:\tlearn: 0.4785186\ttotal: 10.6s\tremaining: 1.87s\n",
      "850:\tlearn: 0.4785186\ttotal: 10.6s\tremaining: 1.86s\n",
      "851:\tlearn: 0.4785186\ttotal: 10.6s\tremaining: 1.85s\n",
      "852:\tlearn: 0.4785186\ttotal: 10.7s\tremaining: 1.84s\n",
      "853:\tlearn: 0.4785186\ttotal: 10.7s\tremaining: 1.83s\n",
      "854:\tlearn: 0.4785186\ttotal: 10.7s\tremaining: 1.82s\n",
      "855:\tlearn: 0.4785186\ttotal: 10.7s\tremaining: 1.8s\n",
      "856:\tlearn: 0.4785186\ttotal: 10.7s\tremaining: 1.79s\n",
      "857:\tlearn: 0.4785187\ttotal: 10.8s\tremaining: 1.78s\n",
      "858:\tlearn: 0.4785185\ttotal: 10.8s\tremaining: 1.78s\n",
      "859:\tlearn: 0.4785182\ttotal: 10.9s\tremaining: 1.77s\n",
      "860:\tlearn: 0.4785190\ttotal: 10.9s\tremaining: 1.76s\n",
      "861:\tlearn: 0.4785177\ttotal: 10.9s\tremaining: 1.75s\n",
      "862:\tlearn: 0.4785177\ttotal: 10.9s\tremaining: 1.74s\n",
      "863:\tlearn: 0.4785177\ttotal: 11s\tremaining: 1.72s\n",
      "864:\tlearn: 0.4785185\ttotal: 11s\tremaining: 1.71s\n",
      "865:\tlearn: 0.4785188\ttotal: 11s\tremaining: 1.7s\n",
      "866:\tlearn: 0.4785189\ttotal: 11s\tremaining: 1.69s\n",
      "867:\tlearn: 0.4785181\ttotal: 11s\tremaining: 1.67s\n",
      "868:\tlearn: 0.4785195\ttotal: 11s\tremaining: 1.66s\n",
      "869:\tlearn: 0.4785186\ttotal: 11s\tremaining: 1.65s\n",
      "870:\tlearn: 0.4785178\ttotal: 11s\tremaining: 1.63s\n",
      "871:\tlearn: 0.4785178\ttotal: 11s\tremaining: 1.62s\n",
      "872:\tlearn: 0.4785177\ttotal: 11.1s\tremaining: 1.61s\n",
      "873:\tlearn: 0.4785178\ttotal: 11.1s\tremaining: 1.6s\n",
      "874:\tlearn: 0.4785177\ttotal: 11.1s\tremaining: 1.59s\n",
      "875:\tlearn: 0.4785178\ttotal: 11.1s\tremaining: 1.57s\n",
      "876:\tlearn: 0.4785177\ttotal: 11.2s\tremaining: 1.56s\n",
      "877:\tlearn: 0.4785178\ttotal: 11.2s\tremaining: 1.55s\n",
      "878:\tlearn: 0.4785187\ttotal: 11.2s\tremaining: 1.54s\n",
      "879:\tlearn: 0.4785189\ttotal: 11.2s\tremaining: 1.52s\n",
      "880:\tlearn: 0.4785188\ttotal: 11.2s\tremaining: 1.51s\n",
      "881:\tlearn: 0.4785192\ttotal: 11.2s\tremaining: 1.5s\n",
      "882:\tlearn: 0.4785194\ttotal: 11.2s\tremaining: 1.49s\n",
      "883:\tlearn: 0.4785174\ttotal: 11.2s\tremaining: 1.48s\n",
      "884:\tlearn: 0.4785174\ttotal: 11.3s\tremaining: 1.46s\n",
      "885:\tlearn: 0.4785174\ttotal: 11.3s\tremaining: 1.45s\n",
      "886:\tlearn: 0.4785173\ttotal: 11.3s\tremaining: 1.44s\n",
      "887:\tlearn: 0.4785186\ttotal: 11.3s\tremaining: 1.43s\n",
      "888:\tlearn: 0.4785188\ttotal: 11.3s\tremaining: 1.41s\n",
      "889:\tlearn: 0.4785176\ttotal: 11.3s\tremaining: 1.4s\n",
      "890:\tlearn: 0.4785176\ttotal: 11.4s\tremaining: 1.39s\n",
      "891:\tlearn: 0.4785173\ttotal: 11.4s\tremaining: 1.38s\n",
      "892:\tlearn: 0.4785169\ttotal: 11.4s\tremaining: 1.36s\n",
      "893:\tlearn: 0.4785169\ttotal: 11.4s\tremaining: 1.35s\n",
      "894:\tlearn: 0.4785169\ttotal: 11.4s\tremaining: 1.34s\n",
      "895:\tlearn: 0.4785169\ttotal: 11.4s\tremaining: 1.32s\n",
      "896:\tlearn: 0.4785169\ttotal: 11.4s\tremaining: 1.31s\n",
      "897:\tlearn: 0.4785170\ttotal: 11.4s\tremaining: 1.3s\n",
      "898:\tlearn: 0.4785170\ttotal: 11.5s\tremaining: 1.29s\n",
      "899:\tlearn: 0.4785170\ttotal: 11.5s\tremaining: 1.27s\n",
      "900:\tlearn: 0.4785172\ttotal: 11.5s\tremaining: 1.26s\n",
      "901:\tlearn: 0.4785170\ttotal: 11.5s\tremaining: 1.25s\n",
      "902:\tlearn: 0.4785175\ttotal: 11.5s\tremaining: 1.24s\n",
      "903:\tlearn: 0.4785175\ttotal: 11.5s\tremaining: 1.22s\n",
      "904:\tlearn: 0.4785175\ttotal: 11.5s\tremaining: 1.21s\n",
      "905:\tlearn: 0.4785178\ttotal: 11.6s\tremaining: 1.2s\n",
      "906:\tlearn: 0.4785186\ttotal: 11.6s\tremaining: 1.19s\n",
      "907:\tlearn: 0.4785180\ttotal: 11.6s\tremaining: 1.17s\n",
      "908:\tlearn: 0.4785183\ttotal: 11.6s\tremaining: 1.16s\n",
      "909:\tlearn: 0.4785177\ttotal: 11.6s\tremaining: 1.15s\n",
      "910:\tlearn: 0.4785170\ttotal: 11.6s\tremaining: 1.14s\n",
      "911:\tlearn: 0.4785163\ttotal: 11.6s\tremaining: 1.12s\n",
      "912:\tlearn: 0.4785162\ttotal: 11.7s\tremaining: 1.11s\n",
      "913:\tlearn: 0.4785163\ttotal: 11.7s\tremaining: 1.1s\n",
      "914:\tlearn: 0.4785163\ttotal: 11.7s\tremaining: 1.09s\n",
      "915:\tlearn: 0.4785163\ttotal: 11.7s\tremaining: 1.07s\n",
      "916:\tlearn: 0.4785163\ttotal: 11.7s\tremaining: 1.06s\n",
      "917:\tlearn: 0.4785163\ttotal: 11.7s\tremaining: 1.05s\n",
      "918:\tlearn: 0.4785164\ttotal: 11.7s\tremaining: 1.03s\n",
      "919:\tlearn: 0.4785164\ttotal: 11.8s\tremaining: 1.02s\n",
      "920:\tlearn: 0.4785164\ttotal: 11.8s\tremaining: 1.01s\n",
      "921:\tlearn: 0.4785164\ttotal: 11.8s\tremaining: 1000ms\n",
      "922:\tlearn: 0.4785162\ttotal: 11.8s\tremaining: 987ms\n",
      "923:\tlearn: 0.4785172\ttotal: 11.9s\tremaining: 975ms\n",
      "924:\tlearn: 0.4785163\ttotal: 11.9s\tremaining: 963ms\n",
      "925:\tlearn: 0.4785165\ttotal: 11.9s\tremaining: 952ms\n",
      "926:\tlearn: 0.4785171\ttotal: 11.9s\tremaining: 939ms\n",
      "927:\tlearn: 0.4785168\ttotal: 11.9s\tremaining: 926ms\n",
      "928:\tlearn: 0.4785164\ttotal: 12s\tremaining: 913ms\n",
      "929:\tlearn: 0.4785169\ttotal: 12s\tremaining: 901ms\n",
      "930:\tlearn: 0.4785169\ttotal: 12s\tremaining: 891ms\n",
      "931:\tlearn: 0.4785164\ttotal: 12s\tremaining: 878ms\n",
      "932:\tlearn: 0.4785168\ttotal: 12s\tremaining: 865ms\n",
      "933:\tlearn: 0.4785185\ttotal: 12.1s\tremaining: 852ms\n",
      "934:\tlearn: 0.4785182\ttotal: 12.1s\tremaining: 840ms\n",
      "935:\tlearn: 0.4785170\ttotal: 12.1s\tremaining: 827ms\n",
      "936:\tlearn: 0.4785177\ttotal: 12.1s\tremaining: 814ms\n",
      "937:\tlearn: 0.4785177\ttotal: 12.1s\tremaining: 801ms\n",
      "938:\tlearn: 0.4785177\ttotal: 12.1s\tremaining: 788ms\n",
      "939:\tlearn: 0.4785177\ttotal: 12.1s\tremaining: 776ms\n",
      "940:\tlearn: 0.4785177\ttotal: 12.2s\tremaining: 762ms\n",
      "941:\tlearn: 0.4785177\ttotal: 12.2s\tremaining: 751ms\n",
      "942:\tlearn: 0.4785186\ttotal: 12.2s\tremaining: 738ms\n",
      "943:\tlearn: 0.4785174\ttotal: 12.2s\tremaining: 726ms\n",
      "944:\tlearn: 0.4785166\ttotal: 12.2s\tremaining: 712ms\n",
      "945:\tlearn: 0.4785166\ttotal: 12.3s\tremaining: 699ms\n",
      "946:\tlearn: 0.4785168\ttotal: 12.3s\tremaining: 686ms\n",
      "947:\tlearn: 0.4785172\ttotal: 12.3s\tremaining: 674ms\n",
      "948:\tlearn: 0.4785175\ttotal: 12.3s\tremaining: 661ms\n",
      "949:\tlearn: 0.4785170\ttotal: 12.3s\tremaining: 648ms\n",
      "950:\tlearn: 0.4785176\ttotal: 12.3s\tremaining: 636ms\n",
      "951:\tlearn: 0.4785177\ttotal: 12.3s\tremaining: 623ms\n",
      "952:\tlearn: 0.4785158\ttotal: 12.4s\tremaining: 610ms\n",
      "953:\tlearn: 0.4785160\ttotal: 12.4s\tremaining: 597ms\n",
      "954:\tlearn: 0.4785160\ttotal: 12.4s\tremaining: 584ms\n",
      "955:\tlearn: 0.4785152\ttotal: 12.4s\tremaining: 572ms\n",
      "956:\tlearn: 0.4785154\ttotal: 12.4s\tremaining: 558ms\n",
      "957:\tlearn: 0.4785154\ttotal: 12.4s\tremaining: 545ms\n",
      "958:\tlearn: 0.4785154\ttotal: 12.5s\tremaining: 532ms\n",
      "959:\tlearn: 0.4785151\ttotal: 12.5s\tremaining: 519ms\n",
      "960:\tlearn: 0.4785169\ttotal: 12.5s\tremaining: 506ms\n",
      "961:\tlearn: 0.4785169\ttotal: 12.5s\tremaining: 494ms\n",
      "962:\tlearn: 0.4785169\ttotal: 12.5s\tremaining: 481ms\n",
      "963:\tlearn: 0.4785158\ttotal: 12.6s\tremaining: 469ms\n",
      "964:\tlearn: 0.4785158\ttotal: 12.6s\tremaining: 455ms\n",
      "965:\tlearn: 0.4785172\ttotal: 12.6s\tremaining: 443ms\n",
      "966:\tlearn: 0.4785172\ttotal: 12.6s\tremaining: 430ms\n",
      "967:\tlearn: 0.4785148\ttotal: 12.6s\tremaining: 417ms\n",
      "968:\tlearn: 0.4785148\ttotal: 12.6s\tremaining: 404ms\n",
      "969:\tlearn: 0.4785148\ttotal: 12.6s\tremaining: 391ms\n",
      "970:\tlearn: 0.4785148\ttotal: 12.7s\tremaining: 378ms\n",
      "971:\tlearn: 0.4785155\ttotal: 12.7s\tremaining: 365ms\n",
      "972:\tlearn: 0.4785150\ttotal: 12.7s\tremaining: 353ms\n",
      "973:\tlearn: 0.4785158\ttotal: 12.7s\tremaining: 340ms\n",
      "974:\tlearn: 0.4785164\ttotal: 12.7s\tremaining: 327ms\n",
      "975:\tlearn: 0.4785147\ttotal: 12.8s\tremaining: 314ms\n",
      "976:\tlearn: 0.4785148\ttotal: 12.8s\tremaining: 301ms\n",
      "977:\tlearn: 0.4785148\ttotal: 12.8s\tremaining: 287ms\n",
      "978:\tlearn: 0.4785151\ttotal: 12.8s\tremaining: 274ms\n",
      "979:\tlearn: 0.4785151\ttotal: 12.8s\tremaining: 262ms\n",
      "980:\tlearn: 0.4785150\ttotal: 12.8s\tremaining: 249ms\n",
      "981:\tlearn: 0.4785171\ttotal: 12.8s\tremaining: 235ms\n",
      "982:\tlearn: 0.4785155\ttotal: 12.9s\tremaining: 222ms\n",
      "983:\tlearn: 0.4785151\ttotal: 12.9s\tremaining: 209ms\n",
      "984:\tlearn: 0.4785151\ttotal: 12.9s\tremaining: 196ms\n",
      "985:\tlearn: 0.4785151\ttotal: 12.9s\tremaining: 183ms\n",
      "986:\tlearn: 0.4785149\ttotal: 12.9s\tremaining: 170ms\n",
      "987:\tlearn: 0.4785149\ttotal: 12.9s\tremaining: 157ms\n",
      "988:\tlearn: 0.4785149\ttotal: 13s\tremaining: 144ms\n",
      "989:\tlearn: 0.4785149\ttotal: 13s\tremaining: 131ms\n",
      "990:\tlearn: 0.4785142\ttotal: 13s\tremaining: 118ms\n",
      "991:\tlearn: 0.4785144\ttotal: 13s\tremaining: 105ms\n",
      "992:\tlearn: 0.4785139\ttotal: 13s\tremaining: 91.8ms\n",
      "993:\tlearn: 0.4785140\ttotal: 13s\tremaining: 78.7ms\n",
      "994:\tlearn: 0.4785145\ttotal: 13.1s\tremaining: 65.6ms\n",
      "995:\tlearn: 0.4785143\ttotal: 13.1s\tremaining: 52.5ms\n",
      "996:\tlearn: 0.4785142\ttotal: 13.1s\tremaining: 39.4ms\n",
      "997:\tlearn: 0.4785144\ttotal: 13.1s\tremaining: 26.3ms\n",
      "998:\tlearn: 0.4785145\ttotal: 13.1s\tremaining: 13.1ms\n",
      "999:\tlearn: 0.4785144\ttotal: 13.1s\tremaining: 0us\n",
      "Các chỉ số đánh giá mức độ hiệu quả của mô hình: \n",
      "1. Accuracy: 0.7576422764227643\n",
      "2. confusion_matrix:\n",
      "[[5228 1944]\n",
      " [1037 4091]]\n",
      "3. recall_score:  0.7977769110764431\n",
      "4. precision_score:  0.6778790389395195\n",
      "5. f1_score:  0.7329570903878886\n",
      "6. Biểu đồ ROC của mô hình:\n"
     ]
    },
    {
     "name": "stderr",
     "output_type": "stream",
     "text": [
      "/home/hikaru/.local/lib/python3.8/site-packages/sklearn/utils/deprecation.py:87: FutureWarning: Function plot_roc_curve is deprecated; Function :func:`plot_roc_curve` is deprecated in 1.0 and will be removed in 1.2. Use one of the class methods: :meth:`sklearn.metric.RocCurveDisplay.from_predictions` or :meth:`sklearn.metric.RocCurveDisplay.from_estimator`.\n",
      "  warnings.warn(msg, category=FutureWarning)\n"
     ]
    },
    {
     "data": {
      "image/png": "[encoded data removed]",
      "text/plain": [
       "<Figure size 1152x648 with 1 Axes>"
      ]
     },
     "metadata": {
      "needs_background": "light"
     },
     "output_type": "display_data"
    }
   ],
   "source": [
    "from catboost import CatBoostClassifier\n",
    "\n",
    "model_catboss = CatBoostClassifier(learning_rate = 0.2, depth = 8, rsm = 1)\n",
    "\n",
    "model_catboss.fit(X_train, Y_train)\n",
    "\n",
    "#Prediction\n",
    "cast_modelprediction=model_catboss.predict(X_test)\n",
    "\n",
    "evaluate_model (model_catboss, X_test, y_test, cast_modelprediction)"
   ]
  },
  {
   "cell_type": "markdown",
   "metadata": {
    "id": "7wmUTFEtj_kP"
   },
   "source": [
    "# **Deep Learning**"
   ]
  },
  {
   "cell_type": "markdown",
   "metadata": {
    "id": "_zs0Ma9tkL1P"
   },
   "source": [
    "# **ANN**"
   ]
  },
  {
   "cell_type": "code",
   "execution_count": 86,
   "metadata": {
    "id": "HrMDAMKbkLTi"
   },
   "outputs": [
    {
     "name": "stderr",
     "output_type": "stream",
     "text": [
      "2022-06-02 08:39:47.961279: W tensorflow/stream_executor/platform/default/dso_loader.cc:64] Could not load dynamic library 'libcudart.so.11.0'; dlerror: libcudart.so.11.0: cannot open shared object file: No such file or directory\n",
      "2022-06-02 08:39:47.961309: I tensorflow/stream_executor/cuda/cudart_stub.cc:29] Ignore above cudart dlerror if you do not have a GPU set up on your machine.\n"
     ]
    }
   ],
   "source": [
    "# Import the necessary libraries for ANN model\n",
    "from tensorflow.keras.models import Sequential\n",
    "from tensorflow.keras.layers import Dense"
   ]
  },
  {
   "cell_type": "code",
   "execution_count": 87,
   "metadata": {
    "id": "-CfSHt-4jv_d"
   },
   "outputs": [
    {
     "name": "stderr",
     "output_type": "stream",
     "text": [
      "2022-06-02 08:39:52.456349: W tensorflow/stream_executor/platform/default/dso_loader.cc:64] Could not load dynamic library 'libcuda.so.1'; dlerror: libcuda.so.1: cannot open shared object file: No such file or directory\n",
      "2022-06-02 08:39:52.456398: W tensorflow/stream_executor/cuda/cuda_driver.cc:269] failed call to cuInit: UNKNOWN ERROR (303)\n",
      "2022-06-02 08:39:52.456431: I tensorflow/stream_executor/cuda/cuda_diagnostics.cc:156] kernel driver does not appear to be running on this host (ThinkPad-L540): /proc/driver/nvidia/version does not exist\n",
      "2022-06-02 08:39:52.458268: I tensorflow/core/platform/cpu_feature_guard.cc:193] This TensorFlow binary is optimized with oneAPI Deep Neural Network Library (oneDNN) to use the following CPU instructions in performance-critical operations:  AVX2 FMA\n",
      "To enable them in other operations, rebuild TensorFlow with the appropriate compiler flags.\n"
     ]
    }
   ],
   "source": [
    "# Create a Sequential Neural Network model \n",
    "model = Sequential()\n",
    "# Create an Input and a Hidden Layer\n",
    "model.add(Dense(units=50,activation=\"relu\",kernel_initializer=\"he_uniform\"))\n",
    "# Create an Output Layer\n",
    "model.add(Dense(units=1,activation=\"sigmoid\"))\n",
    "# Now, my model is ready to compile\n",
    "model.compile(optimizer=\"adam\",loss=\"binary_crossentropy\",metrics=[\"accuracy\"])"
   ]
  },
  {
   "cell_type": "code",
   "execution_count": 88,
   "metadata": {
    "colab": {
     "base_uri": "https://localhost:8080/"
    },
    "id": "h_6Fx_4jkmfl",
    "outputId": "0354cc85-0530-49c6-d69e-a527a65da0dc"
   },
   "outputs": [
    {
     "name": "stdout",
     "output_type": "stream",
     "text": [
      "Epoch 1/100\n",
      "449/449 [==============================] - 2s 2ms/step - loss: 0.5419 - accuracy: 0.7263\n",
      "Epoch 2/100\n",
      "449/449 [==============================] - 1s 3ms/step - loss: 0.5000 - accuracy: 0.7503\n",
      "Epoch 3/100\n",
      "449/449 [==============================] - 1s 3ms/step - loss: 0.4921 - accuracy: 0.7522\n",
      "Epoch 4/100\n",
      "449/449 [==============================] - 1s 3ms/step - loss: 0.4883 - accuracy: 0.7538\n",
      "Epoch 5/100\n",
      "449/449 [==============================] - 2s 3ms/step - loss: 0.4862 - accuracy: 0.7524\n",
      "Epoch 6/100\n",
      "449/449 [==============================] - 2s 5ms/step - loss: 0.4847 - accuracy: 0.7539\n",
      "Epoch 7/100\n",
      "449/449 [==============================] - 2s 5ms/step - loss: 0.4840 - accuracy: 0.7532\n",
      "Epoch 8/100\n",
      "449/449 [==============================] - 2s 4ms/step - loss: 0.4839 - accuracy: 0.7539\n",
      "Epoch 9/100\n",
      "449/449 [==============================] - 2s 4ms/step - loss: 0.4833 - accuracy: 0.7533\n",
      "Epoch 10/100\n",
      "449/449 [==============================] - 2s 5ms/step - loss: 0.4829 - accuracy: 0.7534\n",
      "Epoch 11/100\n",
      "449/449 [==============================] - 2s 5ms/step - loss: 0.4827 - accuracy: 0.7544\n",
      "Epoch 12/100\n",
      "449/449 [==============================] - 2s 4ms/step - loss: 0.4826 - accuracy: 0.7541\n",
      "Epoch 13/100\n",
      "449/449 [==============================] - 2s 4ms/step - loss: 0.4823 - accuracy: 0.7527\n",
      "Epoch 14/100\n",
      "449/449 [==============================] - 2s 4ms/step - loss: 0.4825 - accuracy: 0.7551\n",
      "Epoch 15/100\n",
      "449/449 [==============================] - 2s 5ms/step - loss: 0.4821 - accuracy: 0.7545\n",
      "Epoch 16/100\n",
      "449/449 [==============================] - 2s 5ms/step - loss: 0.4822 - accuracy: 0.7535\n",
      "Epoch 17/100\n",
      "449/449 [==============================] - 2s 5ms/step - loss: 0.4819 - accuracy: 0.7554\n",
      "Epoch 18/100\n",
      "449/449 [==============================] - 2s 4ms/step - loss: 0.4820 - accuracy: 0.7549\n",
      "Epoch 19/100\n",
      "449/449 [==============================] - 2s 5ms/step - loss: 0.4821 - accuracy: 0.7533\n",
      "Epoch 20/100\n",
      "449/449 [==============================] - 2s 4ms/step - loss: 0.4820 - accuracy: 0.7525\n",
      "Epoch 21/100\n",
      "449/449 [==============================] - 2s 4ms/step - loss: 0.4819 - accuracy: 0.7545\n",
      "Epoch 22/100\n",
      "449/449 [==============================] - 1s 3ms/step - loss: 0.4818 - accuracy: 0.7541\n",
      "Epoch 23/100\n",
      "449/449 [==============================] - 1s 3ms/step - loss: 0.4815 - accuracy: 0.7543\n",
      "Epoch 24/100\n",
      "449/449 [==============================] - 1s 3ms/step - loss: 0.4819 - accuracy: 0.7540\n",
      "Epoch 25/100\n",
      "449/449 [==============================] - 1s 3ms/step - loss: 0.4817 - accuracy: 0.7541\n",
      "Epoch 26/100\n",
      "449/449 [==============================] - 1s 3ms/step - loss: 0.4815 - accuracy: 0.7539\n",
      "Epoch 27/100\n",
      "449/449 [==============================] - 1s 3ms/step - loss: 0.4817 - accuracy: 0.7533\n",
      "Epoch 28/100\n",
      "449/449 [==============================] - 1s 2ms/step - loss: 0.4813 - accuracy: 0.7539\n",
      "Epoch 29/100\n",
      "449/449 [==============================] - 2s 4ms/step - loss: 0.4816 - accuracy: 0.7532\n",
      "Epoch 30/100\n",
      "449/449 [==============================] - 2s 4ms/step - loss: 0.4814 - accuracy: 0.7543\n",
      "Epoch 31/100\n",
      "449/449 [==============================] - 1s 3ms/step - loss: 0.4815 - accuracy: 0.7527\n",
      "Epoch 32/100\n",
      "449/449 [==============================] - 1s 3ms/step - loss: 0.4814 - accuracy: 0.7528\n",
      "Epoch 33/100\n",
      "449/449 [==============================] - 1s 2ms/step - loss: 0.4811 - accuracy: 0.7543\n",
      "Epoch 34/100\n",
      "449/449 [==============================] - 1s 2ms/step - loss: 0.4814 - accuracy: 0.7543\n",
      "Epoch 35/100\n",
      "449/449 [==============================] - 1s 3ms/step - loss: 0.4811 - accuracy: 0.7536\n",
      "Epoch 36/100\n",
      "449/449 [==============================] - 1s 3ms/step - loss: 0.4812 - accuracy: 0.7527\n",
      "Epoch 37/100\n",
      "449/449 [==============================] - 1s 2ms/step - loss: 0.4813 - accuracy: 0.7536\n",
      "Epoch 38/100\n",
      "449/449 [==============================] - 1s 3ms/step - loss: 0.4809 - accuracy: 0.7546\n",
      "Epoch 39/100\n",
      "449/449 [==============================] - 1s 3ms/step - loss: 0.4811 - accuracy: 0.7532\n",
      "Epoch 40/100\n",
      "449/449 [==============================] - 1s 2ms/step - loss: 0.4809 - accuracy: 0.7538\n",
      "Epoch 41/100\n",
      "449/449 [==============================] - 1s 3ms/step - loss: 0.4813 - accuracy: 0.7534\n",
      "Epoch 42/100\n",
      "449/449 [==============================] - 1s 3ms/step - loss: 0.4808 - accuracy: 0.7541\n",
      "Epoch 43/100\n",
      "449/449 [==============================] - 1s 3ms/step - loss: 0.4812 - accuracy: 0.7529\n",
      "Epoch 44/100\n",
      "449/449 [==============================] - 1s 2ms/step - loss: 0.4813 - accuracy: 0.7531\n",
      "Epoch 45/100\n",
      "449/449 [==============================] - 1s 3ms/step - loss: 0.4810 - accuracy: 0.7537\n",
      "Epoch 46/100\n",
      "449/449 [==============================] - 1s 3ms/step - loss: 0.4806 - accuracy: 0.7539\n",
      "Epoch 47/100\n",
      "449/449 [==============================] - 1s 3ms/step - loss: 0.4810 - accuracy: 0.7532\n",
      "Epoch 48/100\n",
      "449/449 [==============================] - 1s 3ms/step - loss: 0.4810 - accuracy: 0.7547\n",
      "Epoch 49/100\n",
      "449/449 [==============================] - 1s 3ms/step - loss: 0.4811 - accuracy: 0.7547\n",
      "Epoch 50/100\n",
      "449/449 [==============================] - 1s 2ms/step - loss: 0.4808 - accuracy: 0.7542\n",
      "Epoch 51/100\n",
      "449/449 [==============================] - 1s 2ms/step - loss: 0.4808 - accuracy: 0.7549\n",
      "Epoch 52/100\n",
      "449/449 [==============================] - 1s 2ms/step - loss: 0.4807 - accuracy: 0.7547\n",
      "Epoch 53/100\n",
      "449/449 [==============================] - 1s 2ms/step - loss: 0.4807 - accuracy: 0.7541\n",
      "Epoch 54/100\n",
      "449/449 [==============================] - 1s 3ms/step - loss: 0.4808 - accuracy: 0.7543\n",
      "Epoch 55/100\n",
      "449/449 [==============================] - 1s 3ms/step - loss: 0.4810 - accuracy: 0.7542\n",
      "Epoch 56/100\n",
      "449/449 [==============================] - 1s 3ms/step - loss: 0.4806 - accuracy: 0.7553\n",
      "Epoch 57/100\n",
      "449/449 [==============================] - 1s 3ms/step - loss: 0.4809 - accuracy: 0.7538\n",
      "Epoch 58/100\n",
      "449/449 [==============================] - 1s 3ms/step - loss: 0.4808 - accuracy: 0.7531\n",
      "Epoch 59/100\n",
      "449/449 [==============================] - 1s 3ms/step - loss: 0.4811 - accuracy: 0.7536\n",
      "Epoch 60/100\n",
      "449/449 [==============================] - 1s 2ms/step - loss: 0.4810 - accuracy: 0.7534\n",
      "Epoch 61/100\n",
      "449/449 [==============================] - 1s 2ms/step - loss: 0.4809 - accuracy: 0.7533\n",
      "Epoch 62/100\n",
      "449/449 [==============================] - 1s 3ms/step - loss: 0.4808 - accuracy: 0.7550\n",
      "Epoch 63/100\n",
      "449/449 [==============================] - 1s 3ms/step - loss: 0.4808 - accuracy: 0.7552\n",
      "Epoch 64/100\n",
      "449/449 [==============================] - 1s 3ms/step - loss: 0.4805 - accuracy: 0.7542\n",
      "Epoch 65/100\n",
      "449/449 [==============================] - 1s 2ms/step - loss: 0.4809 - accuracy: 0.7547\n",
      "Epoch 66/100\n",
      "449/449 [==============================] - 1s 3ms/step - loss: 0.4808 - accuracy: 0.7540\n",
      "Epoch 67/100\n",
      "449/449 [==============================] - 1s 3ms/step - loss: 0.4805 - accuracy: 0.7548\n",
      "Epoch 68/100\n",
      "449/449 [==============================] - 1s 3ms/step - loss: 0.4812 - accuracy: 0.7536\n",
      "Epoch 69/100\n",
      "449/449 [==============================] - 2s 4ms/step - loss: 0.4806 - accuracy: 0.7538\n",
      "Epoch 70/100\n",
      "449/449 [==============================] - 1s 3ms/step - loss: 0.4809 - accuracy: 0.7543\n",
      "Epoch 71/100\n",
      "449/449 [==============================] - 1s 3ms/step - loss: 0.4808 - accuracy: 0.7547\n",
      "Epoch 72/100\n",
      "449/449 [==============================] - 3s 7ms/step - loss: 0.4806 - accuracy: 0.7549\n",
      "Epoch 73/100\n",
      "449/449 [==============================] - 2s 5ms/step - loss: 0.4806 - accuracy: 0.7537\n",
      "Epoch 74/100\n",
      "449/449 [==============================] - 1s 3ms/step - loss: 0.4808 - accuracy: 0.7546\n",
      "Epoch 75/100\n",
      "449/449 [==============================] - 1s 3ms/step - loss: 0.4809 - accuracy: 0.7532\n",
      "Epoch 76/100\n",
      "449/449 [==============================] - 1s 3ms/step - loss: 0.4809 - accuracy: 0.7530\n",
      "Epoch 77/100\n",
      "449/449 [==============================] - 1s 3ms/step - loss: 0.4809 - accuracy: 0.7545\n",
      "Epoch 78/100\n",
      "449/449 [==============================] - 2s 5ms/step - loss: 0.4806 - accuracy: 0.7533\n",
      "Epoch 79/100\n",
      "449/449 [==============================] - 3s 6ms/step - loss: 0.4804 - accuracy: 0.7545\n",
      "Epoch 80/100\n",
      "449/449 [==============================] - 2s 4ms/step - loss: 0.4807 - accuracy: 0.7546\n",
      "Epoch 81/100\n",
      "449/449 [==============================] - 1s 2ms/step - loss: 0.4808 - accuracy: 0.7535\n",
      "Epoch 82/100\n",
      "449/449 [==============================] - 2s 4ms/step - loss: 0.4807 - accuracy: 0.7540\n",
      "Epoch 83/100\n",
      "449/449 [==============================] - 2s 4ms/step - loss: 0.4806 - accuracy: 0.7541\n",
      "Epoch 84/100\n",
      "449/449 [==============================] - 1s 3ms/step - loss: 0.4806 - accuracy: 0.7540\n",
      "Epoch 85/100\n",
      "449/449 [==============================] - 1s 3ms/step - loss: 0.4806 - accuracy: 0.7549\n",
      "Epoch 86/100\n",
      "449/449 [==============================] - 1s 3ms/step - loss: 0.4804 - accuracy: 0.7545\n",
      "Epoch 87/100\n",
      "449/449 [==============================] - 2s 4ms/step - loss: 0.4806 - accuracy: 0.7547\n",
      "Epoch 88/100\n",
      "449/449 [==============================] - 2s 3ms/step - loss: 0.4806 - accuracy: 0.7523\n",
      "Epoch 89/100\n",
      "449/449 [==============================] - 1s 3ms/step - loss: 0.4805 - accuracy: 0.7563\n",
      "Epoch 90/100\n",
      "449/449 [==============================] - 1s 2ms/step - loss: 0.4806 - accuracy: 0.7542\n",
      "Epoch 91/100\n",
      "449/449 [==============================] - 2s 3ms/step - loss: 0.4803 - accuracy: 0.7551\n",
      "Epoch 92/100\n",
      "449/449 [==============================] - 2s 4ms/step - loss: 0.4809 - accuracy: 0.7549\n",
      "Epoch 93/100\n",
      "449/449 [==============================] - 2s 3ms/step - loss: 0.4805 - accuracy: 0.7540\n",
      "Epoch 94/100\n",
      "449/449 [==============================] - 2s 5ms/step - loss: 0.4807 - accuracy: 0.7546\n",
      "Epoch 95/100\n",
      "449/449 [==============================] - 2s 5ms/step - loss: 0.4807 - accuracy: 0.7513\n",
      "Epoch 96/100\n",
      "449/449 [==============================] - 2s 4ms/step - loss: 0.4804 - accuracy: 0.7550\n",
      "Epoch 97/100\n",
      "449/449 [==============================] - 1s 3ms/step - loss: 0.4806 - accuracy: 0.7541\n",
      "Epoch 98/100\n",
      "449/449 [==============================] - 1s 3ms/step - loss: 0.4804 - accuracy: 0.7552\n",
      "Epoch 99/100\n",
      "449/449 [==============================] - 2s 5ms/step - loss: 0.4803 - accuracy: 0.7552\n",
      "Epoch 100/100\n",
      "449/449 [==============================] - 2s 5ms/step - loss: 0.4806 - accuracy: 0.7538\n"
     ]
    },
    {
     "data": {
      "text/plain": [
       "<keras.callbacks.History at 0x7f6e3de76e80>"
      ]
     },
     "execution_count": 88,
     "metadata": {},
     "output_type": "execute_result"
    }
   ],
   "source": [
    "model.fit(X_train,y_train,batch_size=64,epochs=100)"
   ]
  },
  {
   "cell_type": "code",
   "execution_count": 89,
   "metadata": {
    "colab": {
     "base_uri": "https://localhost:8080/"
    },
    "id": "OUWRCvzxkbo3",
    "outputId": "3a7b0792-be3a-43ea-fe46-0e6a6df011fd"
   },
   "outputs": [
    {
     "name": "stdout",
     "output_type": "stream",
     "text": [
      "Model: \"sequential\"\n",
      "_________________________________________________________________\n",
      " Layer (type)                Output Shape              Param #   \n",
      "=================================================================\n",
      " dense (Dense)               (None, 50)                800       \n",
      "                                                                 \n",
      " dense_1 (Dense)             (None, 1)                 51        \n",
      "                                                                 \n",
      "=================================================================\n",
      "Total params: 851\n",
      "Trainable params: 851\n",
      "Non-trainable params: 0\n",
      "_________________________________________________________________\n"
     ]
    }
   ],
   "source": [
    "model.summary()"
   ]
  },
  {
   "cell_type": "code",
   "execution_count": 90,
   "metadata": {
    "id": "s22uutU9kf-g"
   },
   "outputs": [
    {
     "name": "stdout",
     "output_type": "stream",
     "text": [
      "385/385 [==============================] - 1s 2ms/step\n"
     ]
    }
   ],
   "source": [
    "# Predict the X_test results\n",
    "y_pred = model.predict(X_test)"
   ]
  },
  {
   "cell_type": "code",
   "execution_count": 91,
   "metadata": {
    "id": "Jk1SfkSwktaY"
   },
   "outputs": [],
   "source": [
    "y_pred_label = []\n",
    "for i in range(0, len(y_pred)):\n",
    "  if y_pred[i] >= 0.5:\n",
    "    y_pred_label.append(1)\n",
    "  else:\n",
    "    y_pred_label.append(0)"
   ]
  },
  {
   "cell_type": "code",
   "execution_count": 92,
   "metadata": {
    "colab": {
     "base_uri": "https://localhost:8080/"
    },
    "id": "l5dNlrdXkxyo",
    "outputId": "2c28d109-ba81-4189-f88e-dce10140b4a1"
   },
   "outputs": [
    {
     "name": "stdout",
     "output_type": "stream",
     "text": [
      "Các chỉ số đánh giá mức độ hiệu quả của mô hình: \n",
      "1. Accuracy: 0.7577235772357723\n",
      "2. confusion_matrix:\n",
      "[[5228 1943]\n",
      " [1037 4092]]\n",
      "3. recall_score:  0.7978163384675375\n",
      "4. precision_score:  0.6780447390223695\n",
      "5. f1_score:  0.7330705840200645\n"
     ]
    }
   ],
   "source": [
    "print(\"Các chỉ số đánh giá mức độ hiệu quả của mô hình: \")\n",
    "#Accuracy\n",
    "print(\"1. Accuracy:\",metrics.accuracy_score(y_pred_label,y_test))\n",
    "# confusion_matrix\n",
    "print('2. confusion_matrix:')\n",
    "print(confusion_matrix(y_pred_label,y_test))\n",
    "# recall_score\n",
    "print('3. recall_score: ', recall_score(y_pred_label,y_test))\n",
    "# precision_score\n",
    "print('4. precision_score: ', precision_score(y_pred_label,y_test))\n",
    "# f1_score\n",
    "print('5. f1_score: ', f1_score(y_pred_label,y_test))"
   ]
  },
  {
   "cell_type": "markdown",
   "metadata": {
    "id": "xUUJDz4TlZRL"
   },
   "source": [
    "# **LSTM**"
   ]
  },
  {
   "cell_type": "code",
   "execution_count": 93,
   "metadata": {
    "id": "P_UGRZaJlH9C"
   },
   "outputs": [],
   "source": [
    "# Import the necessary libraries for ANN model\n",
    "from tensorflow.keras.models import Sequential\n",
    "from tensorflow.keras.layers import Dense\n",
    "from keras.callbacks import EarlyStopping\n",
    "from keras.models import Sequential\n",
    "from keras.layers import LSTM\n",
    "from keras.layers import Dense\n",
    "from keras.layers import TimeDistributed\n",
    "from keras.layers import RepeatVector\n",
    "from keras.layers import Dropout"
   ]
  },
  {
   "cell_type": "code",
   "execution_count": 94,
   "metadata": {
    "id": "haJY4o2Hld-G"
   },
   "outputs": [],
   "source": [
    "regressor = Sequential()\n",
    "regressor.add(LSTM(units = 50, return_sequences = True, input_shape = (X_train.shape[1], 1)))\n",
    "regressor.add(Dropout(0.2))\n",
    "\n",
    "regressor.add(LSTM(units = 50, return_sequences = True))\n",
    "regressor.add(Dropout(0.2))\n",
    "\n",
    "regressor.add(LSTM(units = 50, return_sequences = True))\n",
    "regressor.add(Dropout(0.2))\n",
    "\n",
    "regressor.add(LSTM(units = 50))\n",
    "regressor.add(Dropout(0.2))\n",
    "regressor.add(Dense(units = 1))\n",
    "regressor.compile(optimizer = 'adam', loss = 'mean_squared_error')"
   ]
  },
  {
   "cell_type": "code",
   "execution_count": 95,
   "metadata": {
    "colab": {
     "base_uri": "https://localhost:8080/"
    },
    "id": "zMYSwI3blgng",
    "outputId": "b2928d20-d38a-41f3-b83a-cf187fcf1dc4"
   },
   "outputs": [
    {
     "name": "stdout",
     "output_type": "stream",
     "text": [
      "Epoch 1/100\n",
      "897/897 [==============================] - 90s 89ms/step - loss: 0.1884\n",
      "Epoch 2/100\n",
      "897/897 [==============================] - 63s 70ms/step - loss: 0.1767\n",
      "Epoch 3/100\n",
      "897/897 [==============================] - 42s 47ms/step - loss: 0.1748\n",
      "Epoch 4/100\n",
      "897/897 [==============================] - 60s 67ms/step - loss: 0.1738\n",
      "Epoch 5/100\n",
      "897/897 [==============================] - 48s 54ms/step - loss: 0.1729\n",
      "Epoch 6/100\n",
      "897/897 [==============================] - 45s 50ms/step - loss: 0.1721\n",
      "Epoch 7/100\n",
      "897/897 [==============================] - 40s 45ms/step - loss: 0.1705\n",
      "Epoch 8/100\n",
      "897/897 [==============================] - 42s 47ms/step - loss: 0.1692\n",
      "Epoch 9/100\n",
      "897/897 [==============================] - 38s 42ms/step - loss: 0.1680\n",
      "Epoch 10/100\n",
      "897/897 [==============================] - 38s 43ms/step - loss: 0.1676\n",
      "Epoch 11/100\n",
      "897/897 [==============================] - 35s 39ms/step - loss: 0.1670\n",
      "Epoch 12/100\n",
      "897/897 [==============================] - 35s 39ms/step - loss: 0.1668\n",
      "Epoch 13/100\n",
      "897/897 [==============================] - 35s 39ms/step - loss: 0.1667\n",
      "Epoch 14/100\n",
      "897/897 [==============================] - 41s 46ms/step - loss: 0.1665\n",
      "Epoch 15/100\n",
      "897/897 [==============================] - 44s 49ms/step - loss: 0.1658\n",
      "Epoch 16/100\n",
      "897/897 [==============================] - 44s 49ms/step - loss: 0.1658\n",
      "Epoch 17/100\n",
      "897/897 [==============================] - 45s 50ms/step - loss: 0.1661\n",
      "Epoch 18/100\n",
      "897/897 [==============================] - 54s 60ms/step - loss: 0.1657\n",
      "Epoch 19/100\n",
      "897/897 [==============================] - 43s 48ms/step - loss: 0.1655\n",
      "Epoch 20/100\n",
      "897/897 [==============================] - 38s 42ms/step - loss: 0.1654\n",
      "Epoch 21/100\n",
      "897/897 [==============================] - 41s 45ms/step - loss: 0.1659\n",
      "Epoch 22/100\n",
      "897/897 [==============================] - 45s 50ms/step - loss: 0.1655\n",
      "Epoch 23/100\n",
      "897/897 [==============================] - 47s 53ms/step - loss: 0.1652\n",
      "Epoch 24/100\n",
      "897/897 [==============================] - 47s 52ms/step - loss: 0.1654\n",
      "Epoch 25/100\n",
      "897/897 [==============================] - 48s 53ms/step - loss: 0.1651\n",
      "Epoch 26/100\n",
      "897/897 [==============================] - 52s 58ms/step - loss: 0.1651\n",
      "Epoch 27/100\n",
      "897/897 [==============================] - 53s 59ms/step - loss: 0.1650\n",
      "Epoch 28/100\n",
      "897/897 [==============================] - 57s 64ms/step - loss: 0.1649\n",
      "Epoch 29/100\n",
      "897/897 [==============================] - 62s 69ms/step - loss: 0.1652\n",
      "Epoch 30/100\n",
      "897/897 [==============================] - 64s 71ms/step - loss: 0.1649\n",
      "Epoch 31/100\n",
      "897/897 [==============================] - 51s 57ms/step - loss: 0.1649\n",
      "Epoch 32/100\n",
      "897/897 [==============================] - 59s 65ms/step - loss: 0.1648\n",
      "Epoch 33/100\n",
      "897/897 [==============================] - 53s 59ms/step - loss: 0.1650\n",
      "Epoch 34/100\n",
      "897/897 [==============================] - 46s 51ms/step - loss: 0.1648\n",
      "Epoch 35/100\n",
      "897/897 [==============================] - 41s 46ms/step - loss: 0.1647\n",
      "Epoch 36/100\n",
      "897/897 [==============================] - 46s 51ms/step - loss: 0.1643\n",
      "Epoch 37/100\n",
      "897/897 [==============================] - 51s 57ms/step - loss: 0.1647\n",
      "Epoch 38/100\n",
      "897/897 [==============================] - 49s 54ms/step - loss: 0.1646\n",
      "Epoch 39/100\n",
      "897/897 [==============================] - 45s 50ms/step - loss: 0.1645\n",
      "Epoch 40/100\n",
      "897/897 [==============================] - 49s 54ms/step - loss: 0.1645\n",
      "Epoch 41/100\n",
      "897/897 [==============================] - 45s 50ms/step - loss: 0.1648\n",
      "Epoch 42/100\n",
      "897/897 [==============================] - 50s 55ms/step - loss: 0.1643\n",
      "Epoch 43/100\n",
      "897/897 [==============================] - 50s 55ms/step - loss: 0.1642\n",
      "Epoch 44/100\n",
      "897/897 [==============================] - 49s 54ms/step - loss: 0.1644\n",
      "Epoch 45/100\n",
      "897/897 [==============================] - 50s 55ms/step - loss: 0.1642\n",
      "Epoch 46/100\n",
      "897/897 [==============================] - 55s 61ms/step - loss: 0.1644\n",
      "Epoch 47/100\n",
      "897/897 [==============================] - 57s 64ms/step - loss: 0.1640\n",
      "Epoch 48/100\n",
      "897/897 [==============================] - 54s 60ms/step - loss: 0.1643\n",
      "Epoch 49/100\n",
      "897/897 [==============================] - 60s 67ms/step - loss: 0.1639\n",
      "Epoch 50/100\n",
      "897/897 [==============================] - 48s 53ms/step - loss: 0.1640\n",
      "Epoch 51/100\n",
      "897/897 [==============================] - 71s 79ms/step - loss: 0.1643\n",
      "Epoch 52/100\n",
      "897/897 [==============================] - 73s 82ms/step - loss: 0.1642\n",
      "Epoch 53/100\n",
      "897/897 [==============================] - 70s 78ms/step - loss: 0.1642\n",
      "Epoch 54/100\n",
      "897/897 [==============================] - 53s 59ms/step - loss: 0.1643\n",
      "Epoch 55/100\n",
      "897/897 [==============================] - 55s 62ms/step - loss: 0.1638\n",
      "Epoch 56/100\n",
      "897/897 [==============================] - 56s 62ms/step - loss: 0.1639\n",
      "Epoch 57/100\n",
      "897/897 [==============================] - 58s 65ms/step - loss: 0.1651\n",
      "Epoch 58/100\n",
      "897/897 [==============================] - 53s 59ms/step - loss: 0.1638\n",
      "Epoch 59/100\n",
      "897/897 [==============================] - 61s 68ms/step - loss: 0.1638\n",
      "Epoch 60/100\n",
      "897/897 [==============================] - 53s 60ms/step - loss: 0.1640\n",
      "Epoch 61/100\n",
      "897/897 [==============================] - 73s 82ms/step - loss: 0.1640\n",
      "Epoch 62/100\n",
      "897/897 [==============================] - 53s 59ms/step - loss: 0.1639\n",
      "Epoch 63/100\n",
      "897/897 [==============================] - 61s 68ms/step - loss: 0.1648\n",
      "Epoch 64/100\n",
      "897/897 [==============================] - 79s 89ms/step - loss: 0.1638\n",
      "Epoch 65/100\n",
      "897/897 [==============================] - 63s 70ms/step - loss: 0.1637\n",
      "Epoch 66/100\n",
      "897/897 [==============================] - 63s 70ms/step - loss: 0.1639\n",
      "Epoch 67/100\n",
      "897/897 [==============================] - 72s 80ms/step - loss: 0.1638\n",
      "Epoch 68/100\n",
      "897/897 [==============================] - 81s 90ms/step - loss: 0.1634\n",
      "Epoch 69/100\n",
      "897/897 [==============================] - 73s 81ms/step - loss: 0.1636\n",
      "Epoch 70/100\n",
      "897/897 [==============================] - 78s 87ms/step - loss: 0.1636\n",
      "Epoch 71/100\n",
      "897/897 [==============================] - 79s 88ms/step - loss: 0.1644\n",
      "Epoch 72/100\n",
      "897/897 [==============================] - 83s 93ms/step - loss: 0.1648\n",
      "Epoch 73/100\n",
      "897/897 [==============================] - 83s 93ms/step - loss: 0.1638\n",
      "Epoch 74/100\n",
      "897/897 [==============================] - 95s 106ms/step - loss: 0.1638\n",
      "Epoch 75/100\n",
      "897/897 [==============================] - 93s 104ms/step - loss: 0.1634\n",
      "Epoch 76/100\n",
      "897/897 [==============================] - 100s 112ms/step - loss: 0.1636\n",
      "Epoch 77/100\n",
      "897/897 [==============================] - 92s 103ms/step - loss: 0.1638\n",
      "Epoch 78/100\n",
      "897/897 [==============================] - 88s 98ms/step - loss: 0.1635\n",
      "Epoch 79/100\n",
      "897/897 [==============================] - 92s 103ms/step - loss: 0.1637\n",
      "Epoch 80/100\n",
      "897/897 [==============================] - 96s 107ms/step - loss: 0.1635\n",
      "Epoch 81/100\n",
      "897/897 [==============================] - 86s 95ms/step - loss: 0.1635\n",
      "Epoch 82/100\n",
      "897/897 [==============================] - 88s 98ms/step - loss: 0.1635\n",
      "Epoch 83/100\n",
      "897/897 [==============================] - 122s 136ms/step - loss: 0.1642\n",
      "Epoch 84/100\n",
      "897/897 [==============================] - 117s 130ms/step - loss: 0.1637\n",
      "Epoch 85/100\n",
      "897/897 [==============================] - 109s 122ms/step - loss: 0.1637\n",
      "Epoch 86/100\n",
      "897/897 [==============================] - 96s 107ms/step - loss: 0.1638\n",
      "Epoch 87/100\n",
      "897/897 [==============================] - 100s 112ms/step - loss: 0.1635\n",
      "Epoch 88/100\n",
      "897/897 [==============================] - 90s 101ms/step - loss: 0.1636\n",
      "Epoch 89/100\n",
      "897/897 [==============================] - 96s 107ms/step - loss: 0.1631\n",
      "Epoch 90/100\n",
      "897/897 [==============================] - 101s 113ms/step - loss: 0.1633\n",
      "Epoch 91/100\n",
      "897/897 [==============================] - 100s 112ms/step - loss: 0.1634\n",
      "Epoch 92/100\n",
      "897/897 [==============================] - 103s 115ms/step - loss: 0.1635\n",
      "Epoch 93/100\n",
      "897/897 [==============================] - 107s 119ms/step - loss: 0.1635\n",
      "Epoch 94/100\n",
      "897/897 [==============================] - 85s 94ms/step - loss: 0.1634\n",
      "Epoch 95/100\n",
      "897/897 [==============================] - 88s 98ms/step - loss: 0.1636\n",
      "Epoch 96/100\n",
      "897/897 [==============================] - 74s 83ms/step - loss: 0.1634\n",
      "Epoch 97/100\n",
      "897/897 [==============================] - 74s 82ms/step - loss: 0.1632\n",
      "Epoch 98/100\n",
      "897/897 [==============================] - 81s 90ms/step - loss: 0.1637\n",
      "Epoch 99/100\n",
      "897/897 [==============================] - 89s 99ms/step - loss: 0.1635\n",
      "Epoch 100/100\n",
      "897/897 [==============================] - 85s 95ms/step - loss: 0.1637\n"
     ]
    },
    {
     "data": {
      "text/plain": [
       "<keras.callbacks.History at 0x7f6e3dd970a0>"
      ]
     },
     "execution_count": 95,
     "metadata": {},
     "output_type": "execute_result"
    }
   ],
   "source": [
    "regressor.fit(X_train, y_train, epochs = 100, batch_size = 32)"
   ]
  },
  {
   "cell_type": "code",
   "execution_count": 96,
   "metadata": {
    "colab": {
     "base_uri": "https://localhost:8080/"
    },
    "id": "RIj-W3hOljtM",
    "outputId": "86a80c39-5d39-4e87-900c-53f291a963fc"
   },
   "outputs": [
    {
     "name": "stdout",
     "output_type": "stream",
     "text": [
      "Model: \"sequential_1\"\n",
      "_________________________________________________________________\n",
      " Layer (type)                Output Shape              Param #   \n",
      "=================================================================\n",
      " lstm (LSTM)                 (None, 15, 50)            10400     \n",
      "                                                                 \n",
      " dropout (Dropout)           (None, 15, 50)            0         \n",
      "                                                                 \n",
      " lstm_1 (LSTM)               (None, 15, 50)            20200     \n",
      "                                                                 \n",
      " dropout_1 (Dropout)         (None, 15, 50)            0         \n",
      "                                                                 \n",
      " lstm_2 (LSTM)               (None, 15, 50)            20200     \n",
      "                                                                 \n",
      " dropout_2 (Dropout)         (None, 15, 50)            0         \n",
      "                                                                 \n",
      " lstm_3 (LSTM)               (None, 50)                20200     \n",
      "                                                                 \n",
      " dropout_3 (Dropout)         (None, 50)                0         \n",
      "                                                                 \n",
      " dense_2 (Dense)             (None, 1)                 51        \n",
      "                                                                 \n",
      "=================================================================\n",
      "Total params: 71,051\n",
      "Trainable params: 71,051\n",
      "Non-trainable params: 0\n",
      "_________________________________________________________________\n"
     ]
    }
   ],
   "source": [
    "regressor.summary()"
   ]
  },
  {
   "cell_type": "code",
   "execution_count": 97,
   "metadata": {
    "id": "KlHjV3iZlmDH"
   },
   "outputs": [
    {
     "name": "stdout",
     "output_type": "stream",
     "text": [
      "385/385 [==============================] - 12s 22ms/step\n"
     ]
    }
   ],
   "source": [
    "# Predict the X_test results\n",
    "y_pred = regressor.predict(X_test)"
   ]
  },
  {
   "cell_type": "code",
   "execution_count": 98,
   "metadata": {
    "id": "JRYzm07ElpLn"
   },
   "outputs": [],
   "source": [
    "y_pred_label = []\n",
    "for i in range(0, len(y_pred)):\n",
    "  if y_pred[i] >= 0.5:\n",
    "    y_pred_label.append(1)\n",
    "  else:\n",
    "    y_pred_label.append(0)"
   ]
  },
  {
   "cell_type": "code",
   "execution_count": 99,
   "metadata": {
    "colab": {
     "base_uri": "https://localhost:8080/"
    },
    "id": "y3MSNKCulsTy",
    "outputId": "8df4401c-c1a8-4568-cb24-2b00c5dcf67e"
   },
   "outputs": [
    {
     "name": "stdout",
     "output_type": "stream",
     "text": [
      "Các chỉ số đánh giá mức độ hiệu quả của mô hình: \n",
      "1. Accuracy: 0.7576422764227643\n",
      "2. confusion_matrix:\n",
      "[[5228 1944]\n",
      " [1037 4091]]\n",
      "3. recall_score:  0.7977769110764431\n",
      "4. precision_score:  0.6778790389395195\n",
      "5. f1_score:  0.7329570903878886\n"
     ]
    }
   ],
   "source": [
    "print(\"Các chỉ số đánh giá mức độ hiệu quả của mô hình: \")\n",
    "#Accuracy\n",
    "print(\"1. Accuracy:\",metrics.accuracy_score(y_pred_label,y_test))\n",
    "# confusion_matrix\n",
    "print('2. confusion_matrix:')\n",
    "print(confusion_matrix(y_pred_label,y_test))\n",
    "# recall_score\n",
    "print('3. recall_score: ', recall_score(y_pred_label,y_test))\n",
    "# precision_score\n",
    "print('4. precision_score: ', precision_score(y_pred_label,y_test))\n",
    "# f1_score\n",
    "print('5. f1_score: ', f1_score(y_pred_label,y_test))"
   ]
  },
  {
   "cell_type": "markdown",
   "metadata": {
    "id": "VC0pxsaoluap"
   },
   "source": [
    "# ***Kết thúc!***"
   ]
  }
 ],
 "metadata": {
  "colab": {
   "collapsed_sections": [],
   "name": "Model_Searching.ipynb",
   "provenance": []
  },
  "interpreter": {
   "hash": "916dbcbb3f70747c44a77c7bcd40155683ae19c65e1c03b4aa3499c5328201f1"
  },
  "kernelspec": {
   "display_name": "Python 3 (ipykernel)",
   "language": "python",
   "name": "python3"
  },
  "language_info": {
   "codemirror_mode": {
    "name": "ipython",
    "version": 3
   },
   "file_extension": ".py",
   "mimetype": "text/x-python",
   "name": "python",
   "nbconvert_exporter": "python",
   "pygments_lexer": "ipython3",
   "version": "3.8.10"
  }
 },
 "nbformat": 4,
 "nbformat_minor": 1
}
